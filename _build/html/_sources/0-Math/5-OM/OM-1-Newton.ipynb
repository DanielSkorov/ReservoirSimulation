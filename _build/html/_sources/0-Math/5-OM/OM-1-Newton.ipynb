{
 "cells": [
  {
   "cell_type": "markdown",
   "id": "bda0d85b",
   "metadata": {},
   "source": [
    "<a id='math-om-newton'></a>\n",
    "# Нахождение стационарной точки функции методом Ньютона"
   ]
  },
  {
   "cell_type": "code",
   "execution_count": null,
   "id": "95c36624",
   "metadata": {},
   "outputs": [],
   "source": []
  }
 ],
 "metadata": {
  "jupytext": {
   "text_representation": {
    "extension": ".md",
    "format_name": "myst",
    "format_version": 0.13,
    "jupytext_version": "1.10.3"
   }
  },
  "kernelspec": {
   "display_name": "Python 3 (ipykernel)",
   "language": "python",
   "name": "python3"
  },
  "language_info": {
   "codemirror_mode": {
    "name": "ipython",
    "version": 3
   },
   "file_extension": ".py",
   "mimetype": "text/x-python",
   "name": "python",
   "nbconvert_exporter": "python",
   "pygments_lexer": "ipython3",
   "version": "3.7.13"
  },
  "source_map": [
   12,
   17
  ]
 },
 "nbformat": 4,
 "nbformat_minor": 5
}