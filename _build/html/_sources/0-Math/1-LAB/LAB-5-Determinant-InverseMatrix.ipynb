{
 "cells": [
  {
   "cell_type": "code",
   "execution_count": 1,
   "id": "08e77e5f",
   "metadata": {
    "tags": [
     "hide-input"
    ]
   },
   "outputs": [],
   "source": [
    "import numpy as np"
   ]
  },
  {
   "cell_type": "markdown",
   "id": "d40fbcb3",
   "metadata": {},
   "source": [
    "<a id='math-lab-det_inv'></a>\n",
    "# Определитель матрицы. Обратная матрица"
   ]
  },
  {
   "cell_type": "markdown",
   "id": "9adadd20",
   "metadata": {},
   "source": [
    "Определитель матрицы первого порядка равен единственному элементу этой матрицы."
   ]
  },
  {
   "cell_type": "code",
   "execution_count": 2,
   "id": "f6ce3936",
   "metadata": {},
   "outputs": [
    {
     "data": {
      "text/plain": [
       "4.999999999999999"
      ]
     },
     "execution_count": 2,
     "metadata": {},
     "output_type": "execute_result"
    }
   ],
   "source": [
    "A = np.array([[5]])\n",
    "np.linalg.det(A)"
   ]
  },
  {
   "cell_type": "markdown",
   "id": "0c5db668",
   "metadata": {},
   "source": [
    "Определитель квадратной матрицы размерностью $(2\\times2)$:\n",
    "\n",
    "$$ \\begin{vmatrix}a_{11} & a_{12} \\\\ a_{21} & a_{22}\\end{vmatrix}=a_{11} \\cdot a_{22} - a_{12} \\cdot a_{21}. $$"
   ]
  },
  {
   "cell_type": "code",
   "execution_count": 3,
   "id": "058b23b1",
   "metadata": {},
   "outputs": [
    {
     "data": {
      "text/plain": [
       "array([[ 1,  2],\n",
       "       [-3, -4]])"
      ]
     },
     "execution_count": 3,
     "metadata": {},
     "output_type": "execute_result"
    }
   ],
   "source": [
    "A = np.array([[1, 2], [-3, -4]])\n",
    "A"
   ]
  },
  {
   "cell_type": "code",
   "execution_count": 4,
   "id": "4270ca35",
   "metadata": {},
   "outputs": [
    {
     "data": {
      "text/plain": [
       "2.0000000000000004"
      ]
     },
     "execution_count": 4,
     "metadata": {},
     "output_type": "execute_result"
    }
   ],
   "source": [
    "np.linalg.det(A)"
   ]
  },
  {
   "cell_type": "markdown",
   "id": "2353ce77",
   "metadata": {},
   "source": [
    "При нахождении определителя матрицы размерностью $(3\\times3)$ необходимо \"раскрыть\" определитель по любой строке или столбцу с учетом матрицы знаков:\n",
    "\n",
    "$$ \\begin{vmatrix}a_{11} & a_{12} & a_{13} \\\\ a_{21} & a_{22} & a_{23} \\\\ a_{31} & a_{32} & a_{33}\\end{vmatrix} = a_{11} \\cdot \\begin{vmatrix}a_{22} & a_{23} \\\\ a_{32} & a_{33}\\end{vmatrix} - a_{12} \\cdot \\begin{vmatrix}a_{21} & a_{23} \\\\ a_{31} & a_{33}\\end{vmatrix} + a_{13} \\cdot \\begin{vmatrix}a_{21} & a_{22} \\\\ a_{31} & a_{32}\\end{vmatrix}. $$"
   ]
  },
  {
   "cell_type": "code",
   "execution_count": 5,
   "id": "e4f0453b",
   "metadata": {},
   "outputs": [
    {
     "data": {
      "text/plain": [
       "-441.0"
      ]
     },
     "execution_count": 5,
     "metadata": {},
     "output_type": "execute_result"
    }
   ],
   "source": [
    "A = np.array([[1, 3, 14], [5, 2, -7], [4, -2, 7]])\n",
    "np.linalg.det(A)"
   ]
  },
  {
   "cell_type": "markdown",
   "id": "892cba2e",
   "metadata": {},
   "source": [
    "Одним из свойств векторов является то, что если определитель матрицы, составленной из координат этих векторов, равен нулю, то данные векторы являются [коллинеарными](LAB-2-VectorOperations.html#math-lab-collinearity). Рассмотрим пример. Пусть даны два вектора $\\vec{v_1}=\\begin{bmatrix} 1 \\\\ 3 \\end{bmatrix}$ и $\\vec{v_2}=\\begin{bmatrix} 2 \\\\ 6 \\end{bmatrix}$. Тогда матрица $M=\\begin{bmatrix} 1 & 2 \\\\ 3 & 6 \\end{bmatrix}$. Вычислим определитель этой матрицы:"
   ]
  },
  {
   "cell_type": "code",
   "execution_count": 6,
   "id": "d6e49442",
   "metadata": {},
   "outputs": [
    {
     "data": {
      "text/plain": [
       "-3.330669073875464e-16"
      ]
     },
     "execution_count": 6,
     "metadata": {},
     "output_type": "execute_result"
    }
   ],
   "source": [
    "M = np.array([[1, 2], [3, 6]])\n",
    "np.linalg.det(M)"
   ]
  },
  {
   "cell_type": "markdown",
   "id": "ed7b9515",
   "metadata": {},
   "source": [
    "Определитель этой матрицы равен нулю, следовательно, векторы $\\vec{v_1}$ и $\\vec{v_2}$ являются коллинеарными.\n",
    "\n",
    "```{prf:определение}\n",
    ":nonumber:\n",
    "Под ***обратной матрицей*** матрице $M$ называется матрица, удовлетворяющая следующему выражению:\n",
    "+++\n",
    "$$ M \\cdot M^{-1} = E, $$\n",
    "+++\n",
    "где $E$ – единичная матрица.\n",
    "```\n",
    "\n",
    "При умножении матрицы на единичную матрицу в результате получается исходная матрица."
   ]
  },
  {
   "cell_type": "code",
   "execution_count": 7,
   "id": "ea5e7e57",
   "metadata": {},
   "outputs": [
    {
     "data": {
      "text/plain": [
       "array([[ 1,  2],\n",
       "       [-1,  3]])"
      ]
     },
     "execution_count": 7,
     "metadata": {},
     "output_type": "execute_result"
    }
   ],
   "source": [
    "A = np.array([[1, 2], [-1, 3]])\n",
    "E = np.array([[1, 0], [0, 1]])\n",
    "A.dot(E)"
   ]
  },
  {
   "cell_type": "markdown",
   "id": "6122e416",
   "metadata": {},
   "source": [
    "При нахождении обратной матрицы чаще всего используют формулу:\n",
    "\n",
    "$$ M^{-1}=\\frac{1}{|M|} \\cdot M_{*}^{T}, $$\n",
    "\n",
    "где $M_{*}^{T}$ – транспонированная матрица алгебраических дополнений. Следует отметить, что, исходя из указанного выше выражения, необходимым условием для существования обратной матрицы является $|M| \\neq 0$."
   ]
  },
  {
   "cell_type": "markdown",
   "id": "2b1cdfe9",
   "metadata": {},
   "source": [
    "Однако использование библиотеки [*numpy*](https://numpy.org/) может значительно упростить данную операцию."
   ]
  },
  {
   "cell_type": "code",
   "execution_count": 8,
   "id": "23fedee3",
   "metadata": {},
   "outputs": [
    {
     "data": {
      "text/plain": [
       "array([[ 0.6, -0.4],\n",
       "       [ 0.2,  0.2]])"
      ]
     },
     "execution_count": 8,
     "metadata": {},
     "output_type": "execute_result"
    }
   ],
   "source": [
    "A_inv = np.linalg.inv(A)\n",
    "A_inv"
   ]
  },
  {
   "cell_type": "code",
   "execution_count": 9,
   "id": "ac20a865",
   "metadata": {},
   "outputs": [
    {
     "data": {
      "text/plain": [
       "array([[1.00000000e+00, 0.00000000e+00],\n",
       "       [1.11022302e-16, 1.00000000e+00]])"
      ]
     },
     "execution_count": 9,
     "metadata": {},
     "output_type": "execute_result"
    }
   ],
   "source": [
    "A.dot(A_inv)"
   ]
  },
  {
   "cell_type": "markdown",
   "id": "7a6dd2f3",
   "metadata": {},
   "source": [
    "Матрица, обратная обратной матрице $A$, равняется самой матрице $A$:"
   ]
  },
  {
   "cell_type": "code",
   "execution_count": 10,
   "id": "06d78ec7",
   "metadata": {},
   "outputs": [
    {
     "data": {
      "text/plain": [
       "array([[ 1.,  2.],\n",
       "       [-1.,  3.]])"
      ]
     },
     "execution_count": 10,
     "metadata": {},
     "output_type": "execute_result"
    }
   ],
   "source": [
    "np.linalg.inv(np.linalg.inv(A))"
   ]
  }
 ],
 "metadata": {
  "jupytext": {
   "text_representation": {
    "extension": ".md",
    "format_name": "myst",
    "format_version": 0.13,
    "jupytext_version": "1.10.3"
   }
  },
  "kernelspec": {
   "display_name": "Python 3 (ipykernel)",
   "language": "python",
   "name": "python3"
  },
  "language_info": {
   "codemirror_mode": {
    "name": "ipython",
    "version": 3
   },
   "file_extension": ".py",
   "mimetype": "text/x-python",
   "name": "python",
   "nbconvert_exporter": "python",
   "pygments_lexer": "ipython3",
   "version": "3.7.13"
  },
  "source_map": [
   14,
   18,
   23,
   27,
   30,
   36,
   41,
   43,
   49,
   52,
   56,
   59,
   74,
   78,
   86,
   90,
   95,
   97,
   101
  ]
 },
 "nbformat": 4,
 "nbformat_minor": 5
}