{
 "cells": [
  {
   "cell_type": "code",
   "execution_count": 1,
   "id": "4c30ea96",
   "metadata": {
    "tags": [
     "hide-input"
    ]
   },
   "outputs": [],
   "source": [
    "import numpy as np"
   ]
  },
  {
   "cell_type": "markdown",
   "id": "93f1fca6",
   "metadata": {},
   "source": [
    "<a id='math-lab-matrix'></a>\n",
    "# Матрицы\n",
    "\n",
    "```{prf:определение}\n",
    ":nonumber:\n",
    "Под ***матрицей*** в общем смысле понимается совокупность строк и столбцов, на пересечении которых находяется элементы. В качестве элементов в разделе линейной алгебры используются действительные числа.\n",
    "```\n",
    "\n",
    "Рассмотрим следующую матрицу:\n",
    "\n",
    "$$ M = \\begin{bmatrix} 3 & 5 & -17 \\\\ -1 & 0 & 10 \\end{bmatrix}. $$\n",
    "\n",
    "С использованием *[numpy](https://numpy.org/)* матрица задается следующим образом:"
   ]
  },
  {
   "cell_type": "code",
   "execution_count": 2,
   "id": "51fa78b1",
   "metadata": {},
   "outputs": [
    {
     "data": {
      "text/plain": [
       "array([[  3,   5, -17],\n",
       "       [ -1,   0,  10]])"
      ]
     },
     "execution_count": 2,
     "metadata": {},
     "output_type": "execute_result"
    }
   ],
   "source": [
    "M = np.array([[3, 5, -17], [-1, 0, 10]])\n",
    "M"
   ]
  },
  {
   "cell_type": "markdown",
   "id": "ccdac3b9",
   "metadata": {},
   "source": [
    "Данная матрица состоит из двух строк и трех столбцов."
   ]
  },
  {
   "cell_type": "code",
   "execution_count": 3,
   "id": "8037af89",
   "metadata": {},
   "outputs": [
    {
     "data": {
      "text/plain": [
       "(2, 3)"
      ]
     },
     "execution_count": 3,
     "metadata": {},
     "output_type": "execute_result"
    }
   ],
   "source": [
    "M.shape"
   ]
  },
  {
   "cell_type": "markdown",
   "id": "16cf0657",
   "metadata": {},
   "source": [
    "Если в матрице количество строк и/или столбцов равно 1, то такая матрица называется ***вектором***. Данная тема подробно освещалась в [разделе, посвященном векторам](./LAB-1-Vectors.md)."
   ]
  },
  {
   "cell_type": "markdown",
   "id": "6df9d14a",
   "metadata": {},
   "source": [
    "Чтобы ***умножить матрицу на число***, необходимо умножить каждый ее элемент на данное число:\n",
    "\n",
    "$$ \\lambda \\cdot M = \\lambda \\cdot \\begin{bmatrix} m_{11} & \\dots & m_{1k} \\\\ \\vdots & \\ddots & \\vdots \\\\ m_{n1} & \\dots & m_{nk} \\end{bmatrix} = \\begin{bmatrix} \\lambda \\cdot m_{11} & \\dots & \\lambda \\cdot m_{1k} \\\\ \\vdots & \\ddots & \\vdots \\\\ \\lambda \\cdot m_{n1} & \\dots & \\lambda \\cdot m_{nk} \\end{bmatrix}. $$"
   ]
  },
  {
   "cell_type": "code",
   "execution_count": 4,
   "id": "53648e60",
   "metadata": {},
   "outputs": [
    {
     "data": {
      "text/plain": [
       "array([[  6,  10, -34],\n",
       "       [ -2,   0,  20]])"
      ]
     },
     "execution_count": 4,
     "metadata": {},
     "output_type": "execute_result"
    }
   ],
   "source": [
    "2 * M"
   ]
  },
  {
   "cell_type": "code",
   "execution_count": 5,
   "id": "b1f0f022",
   "metadata": {},
   "outputs": [
    {
     "data": {
      "text/plain": [
       "array([[  6,  10, -34],\n",
       "       [ -2,   0,  20]])"
      ]
     },
     "execution_count": 5,
     "metadata": {},
     "output_type": "execute_result"
    }
   ],
   "source": [
    "M * 2"
   ]
  },
  {
   "cell_type": "markdown",
   "id": "8a69a105",
   "metadata": {},
   "source": [
    "Чтобы ***сложить матрицы*** между собой, необходимо сложить их значения поэлементно. Можно складывать матрицы только с одинаковыми размерностями.\n",
    "\n",
    "$$ M + P = \\begin{bmatrix} m_{11} & \\dots & m_{1k} \\\\ \\vdots & \\ddots & \\vdots \\\\ m_{n1} & \\dots & m_{nk} \\end{bmatrix} + \\begin{bmatrix} p_{11} & \\dots & p_{1k} \\\\ \\vdots & \\ddots & \\vdots \\\\ p_{n1} & \\dots & p_{nk} \\end{bmatrix} = \\begin{bmatrix} m_{11} + p_{11} & \\dots & m_{1k} + p_{1k} \\\\ \\vdots & \\ddots & \\vdots \\\\ m_{n1} + p_{n1} & \\dots & m_{nk} + p_{nk} \\end{bmatrix}. $$"
   ]
  },
  {
   "cell_type": "code",
   "execution_count": 6,
   "id": "0e8269c8",
   "metadata": {},
   "outputs": [
    {
     "data": {
      "text/plain": [
       "array([[ 1,  3, 14],\n",
       "       [ 5,  2, -7]])"
      ]
     },
     "execution_count": 6,
     "metadata": {},
     "output_type": "execute_result"
    }
   ],
   "source": [
    "P = np.array([[1, 3, 14], [5, 2, -7]])\n",
    "P"
   ]
  },
  {
   "cell_type": "code",
   "execution_count": 7,
   "id": "62697e55",
   "metadata": {},
   "outputs": [
    {
     "data": {
      "text/plain": [
       "array([[ 4,  8, -3],\n",
       "       [ 4,  2,  3]])"
      ]
     },
     "execution_count": 7,
     "metadata": {},
     "output_type": "execute_result"
    }
   ],
   "source": [
    "M + P"
   ]
  },
  {
   "cell_type": "code",
   "execution_count": 8,
   "id": "da9cdb67",
   "metadata": {},
   "outputs": [
    {
     "data": {
      "text/plain": [
       "array([[ 4,  8, -3],\n",
       "       [ 4,  2,  3]])"
      ]
     },
     "execution_count": 8,
     "metadata": {},
     "output_type": "execute_result"
    }
   ],
   "source": [
    "P + M"
   ]
  },
  {
   "cell_type": "markdown",
   "id": "f68ed409",
   "metadata": {},
   "source": [
    "***Произведением двух матриц*** $M$ и $P$ называется матрица $Q$, элемент которой, находящийся на пересечении $i$-ой строки и $j$-го столбца равен сумме произведений элементов $i$-ой строки матрицы $M$ на соответствующие (по порядку) элементы $j$-го столбца матрицы $P$.\n",
    "\n",
    "$$ q_{ij}=m_{i1} \\cdot p_{1j} + m_{i2} \\cdot p_{2j} + \\ldots + m_{in} \\cdot p_{nj}. $$\n",
    "\n",
    "Исходя из данного определения, количество столбцов матрицы $m$ должно быть равно количеству строк матрицы $p$."
   ]
  },
  {
   "cell_type": "code",
   "execution_count": 9,
   "id": "60a0f704",
   "metadata": {},
   "outputs": [
    {
     "data": {
      "text/plain": [
       "array([[ 1,  2],\n",
       "       [-1,  3]])"
      ]
     },
     "execution_count": 9,
     "metadata": {},
     "output_type": "execute_result"
    }
   ],
   "source": [
    "M = np.array([[1, 2], [-1, 3]])\n",
    "M"
   ]
  },
  {
   "cell_type": "code",
   "execution_count": 10,
   "id": "0dc774f5",
   "metadata": {},
   "outputs": [
    {
     "data": {
      "text/plain": [
       "array([[ 3,  5, -2],\n",
       "       [-1,  0, 10]])"
      ]
     },
     "execution_count": 10,
     "metadata": {},
     "output_type": "execute_result"
    }
   ],
   "source": [
    "P = np.array([[3, 5, -2], [-1, 0, 10]])\n",
    "P"
   ]
  },
  {
   "cell_type": "code",
   "execution_count": 11,
   "id": "77dd691e",
   "metadata": {},
   "outputs": [
    {
     "data": {
      "text/plain": [
       "array([[ 1,  5, 18],\n",
       "       [-6, -5, 32]])"
      ]
     },
     "execution_count": 11,
     "metadata": {},
     "output_type": "execute_result"
    }
   ],
   "source": [
    "M.dot(P)"
   ]
  },
  {
   "cell_type": "markdown",
   "id": "ac4dd2f4",
   "metadata": {},
   "source": [
    "Для того чтобы ***транспонировать матрицу***, нужно ее строки записать в столбцы транспонированной матрицы."
   ]
  },
  {
   "cell_type": "code",
   "execution_count": 12,
   "id": "ad530eb0",
   "metadata": {},
   "outputs": [
    {
     "data": {
      "text/plain": [
       "array([[ 1, -1],\n",
       "       [ 2,  3]])"
      ]
     },
     "execution_count": 12,
     "metadata": {},
     "output_type": "execute_result"
    }
   ],
   "source": [
    "np.transpose(M)"
   ]
  },
  {
   "cell_type": "markdown",
   "id": "399f099b",
   "metadata": {},
   "source": [
    "Под ***следом матрицы*** понимается сумма компонентов главной диагонали квадратной матрицы."
   ]
  },
  {
   "cell_type": "code",
   "execution_count": 13,
   "id": "0b18f67c",
   "metadata": {},
   "outputs": [
    {
     "data": {
      "text/plain": [
       "array([[ 1,  3, 14],\n",
       "       [ 5,  2, -7],\n",
       "       [ 4, -2,  7]])"
      ]
     },
     "execution_count": 13,
     "metadata": {},
     "output_type": "execute_result"
    }
   ],
   "source": [
    "A = np.array([[1, 3, 14], [5, 2, -7], [4, -2, 7]])\n",
    "A"
   ]
  },
  {
   "cell_type": "code",
   "execution_count": 14,
   "id": "5cd22f5e",
   "metadata": {},
   "outputs": [
    {
     "data": {
      "text/plain": [
       "10"
      ]
     },
     "execution_count": 14,
     "metadata": {},
     "output_type": "execute_result"
    }
   ],
   "source": [
    "np.trace(A)"
   ]
  }
 ],
 "metadata": {
  "jupytext": {
   "text_representation": {
    "extension": ".md",
    "format_name": "myst",
    "format_version": 0.13,
    "jupytext_version": "1.10.3"
   }
  },
  "kernelspec": {
   "display_name": "Python 3 (ipykernel)",
   "language": "python",
   "name": "python3"
  },
  "language_info": {
   "codemirror_mode": {
    "name": "ipython",
    "version": 3
   },
   "file_extension": ".py",
   "mimetype": "text/x-python",
   "name": "python",
   "nbconvert_exporter": "python",
   "pygments_lexer": "ipython3",
   "version": "3.7.13"
  },
  "source_map": [
   14,
   18,
   34,
   37,
   41,
   43,
   47,
   53,
   57,
   59,
   65,
   70,
   74,
   76,
   84,
   89,
   94,
   96,
   100,
   102,
   106,
   111
  ]
 },
 "nbformat": 4,
 "nbformat_minor": 5
}