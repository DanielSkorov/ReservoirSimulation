{
 "cells": [
  {
   "cell_type": "code",
   "execution_count": 1,
   "id": "ac6a2281",
   "metadata": {
    "tags": [
     "hide-input"
    ]
   },
   "outputs": [],
   "source": [
    "import numpy as np\n",
    "from sympy import Matrix, Symbol"
   ]
  },
  {
   "cell_type": "markdown",
   "id": "d5ccd250",
   "metadata": {},
   "source": [
    "<a id='math-lab-matrix_eq'></a>\n",
    "# Матричные уравнения"
   ]
  },
  {
   "cell_type": "markdown",
   "id": "54d90368",
   "metadata": {},
   "source": [
    "Допустим, имеется следующая система линейных уравнений:\n",
    "\n",
    "$$ \\left\\{\\begin{array}\\\\3x + 2y + z = 5 \\\\ 2x + 3y + z = -1 \\\\ 2x + y + 3z = 3\\end{array}\\right. $$\n",
    "\n",
    "Левую часть уравнений в данной системе можно представить в виде произведения двух матриц:\n",
    "\n",
    "$$ A \\cdot X, $$\n",
    "\n",
    "где:\n",
    "\n",
    "$$ A = \\begin{bmatrix} 3 & 2 & 1 \\\\ 2 & 3 & 1 \\\\ 2 & 1 & 3 \\end{bmatrix}, \\; X = \\begin{bmatrix} x \\\\ y \\\\ z \\end{bmatrix}. $$"
   ]
  },
  {
   "cell_type": "code",
   "execution_count": 2,
   "id": "aa8bb502",
   "metadata": {},
   "outputs": [
    {
     "data": {
      "text/latex": [
       "$\\displaystyle \\left[\\begin{matrix}3 x + 2 y + z\\\\2 x + 3 y + z\\\\2 x + y + 3 z\\end{matrix}\\right]$"
      ],
      "text/plain": [
       "Matrix([\n",
       "[3*x + 2*y + z],\n",
       "[2*x + 3*y + z],\n",
       "[2*x + y + 3*z]])"
      ]
     },
     "execution_count": 2,
     "metadata": {},
     "output_type": "execute_result"
    }
   ],
   "source": [
    "from sympy import Matrix, Symbol\n",
    "A = Matrix([[3, 2, 1], [2, 3, 1], [2, 1, 3]])\n",
    "x = Symbol('x')\n",
    "y = Symbol('y')\n",
    "z = Symbol('z')\n",
    "X = Matrix([[x], [y], [z]])\n",
    "A * X"
   ]
  },
  {
   "cell_type": "markdown",
   "id": "aa98b211",
   "metadata": {},
   "source": [
    "Правые части уравнений также можно представить в виде матрицы-столбца $B$:\n",
    "\n",
    "$$ B = \\begin{bmatrix} 5 \\\\ -1 \\\\ 3 \\end{bmatrix}. $$\n",
    "\n",
    "Тогда исходную систему линейных уравнений можно представить в виде матричного уравнения:\n",
    "\n",
    "$$ A \\cdot X = B. $$\n",
    "\n",
    "Домножим обе части уравнения на $A^{-1}$:\n",
    "\n",
    "$$ A^{-1} \\cdot A \\cdot X = A^{-1} \\cdot B. $$\n",
    "\n",
    "Левую часть уравнения можно упростить, применив определение обратной матрицы:\n",
    "\n",
    "$$ X = A^{-1} \\cdot B. $$"
   ]
  },
  {
   "cell_type": "code",
   "execution_count": 3,
   "id": "5db6a622",
   "metadata": {},
   "outputs": [
    {
     "data": {
      "text/plain": [
       "array([[ 3.5],\n",
       "       [-2.5],\n",
       "       [-0.5]])"
      ]
     },
     "execution_count": 3,
     "metadata": {},
     "output_type": "execute_result"
    }
   ],
   "source": [
    "A = np.array([[3, 2, 1], [2, 3, 1], [2, 1, 3]])\n",
    "B = np.array([[5], [-1], [3]])\n",
    "X = np.linalg.inv(A).dot(B)\n",
    "X"
   ]
  },
  {
   "cell_type": "markdown",
   "id": "3aca616e",
   "metadata": {},
   "source": [
    "Проверка:"
   ]
  },
  {
   "cell_type": "code",
   "execution_count": 4,
   "id": "b7c6eab2",
   "metadata": {},
   "outputs": [
    {
     "data": {
      "text/plain": [
       "array([[ 5.],\n",
       "       [-1.],\n",
       "       [ 3.]])"
      ]
     },
     "execution_count": 4,
     "metadata": {},
     "output_type": "execute_result"
    }
   ],
   "source": [
    "A.dot(X)"
   ]
  }
 ],
 "metadata": {
  "jupytext": {
   "text_representation": {
    "extension": ".md",
    "format_name": "myst",
    "format_version": 0.13,
    "jupytext_version": "1.10.3"
   }
  },
  "kernelspec": {
   "display_name": "Python 3 (ipykernel)",
   "language": "python",
   "name": "python3"
  },
  "language_info": {
   "codemirror_mode": {
    "name": "ipython",
    "version": 3
   },
   "file_extension": ".py",
   "mimetype": "text/x-python",
   "name": "python",
   "nbconvert_exporter": "python",
   "pygments_lexer": "ipython3",
   "version": "3.7.13"
  },
  "source_map": [
   14,
   19,
   24,
   38,
   46,
   64,
   69,
   73
  ]
 },
 "nbformat": 4,
 "nbformat_minor": 5
}