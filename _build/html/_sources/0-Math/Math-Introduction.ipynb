{
 "cells": [
  {
   "cell_type": "markdown",
   "id": "bef28310",
   "metadata": {},
   "source": [
    "<a id='math'></a>\n",
    "# Основы вычислительной математики\n",
    "Данный раздел предназначен для ознакомления читателя с некоторыми математическими операциями с целью улучшения понимания получения и использования математических выражений при рассмотрении вопросов моделирования. Данный раздел не предназначен для изучения вопросов математики, в нем не рассматриваются фундаментальные математические структуры - для этого существуют отдельные пособия, учебные и научные материалы. Однако данный раздел комплексирует тот необходимый математический минимум, который авторами считается полезным для понимания вопросов, рассматриваемых в дальнейшем."
   ]
  },
  {
   "cell_type": "markdown",
   "id": "a8aff6d9",
   "metadata": {},
   "source": [
    "**Содержание:**\n",
    "* ***[Основы линейной алгебры](./1-LAB/LAB-0-Introduction.md)***\n",
    "    * [Векторы](./1-LAB/LAB-1-Vectors.md)\n",
    "    * [Векторные операции](./1-LAB/LAB-2-VectorOperations.md)\n",
    "    * [Направляющие косинусы](./1-LAB/LAB-3-RotationAngles.md)\n",
    "    * [Матрицы](./1-LAB/LAB-4-Matrices.md)\n",
    "    * [Определитель матрицы. Обратная матрица](./1-LAB/LAB-5-Determinant-InverseMatrix.md)\n",
    "    * [Матричные уравнения](./1-LAB/LAB-6-MatrixEquation.md)\n",
    "    * [Собственный вектор](./1-LAB/LAB-7-Eigenvalues-Eigenvectors.md)\n",
    "    * [Линейные преобразования](./1-LAB/LAB-8-LinearTransformations.md)\n",
    "* ***[Пределы](./2-Limits/Limits-0-Introduction.md)***\n",
    "* ***[Основы дифференциальных и интегральных исчислений](./3-DIB/DIB-0-Introduction.md)***\n",
    "* ***[Дифференциальные уравнения](./4-DE/DE-0-Introduction.md)***\n",
    "* ***[Методы оптимизации функций](./5-OM/OM-0-Introduction.md)***\n",
    "    * [Нахождение стационарной точки методом градиентного спуска](./5-OM/OM-1-GradientDescent.md)\n",
    "    * [Нахождение стационарной точки методом Ньютона](./5-OM/OM-2-Newton.md)\n",
    "    * [Квази-ньютоновские методы поиска стационарной точки функции](./5-OM/OM-3-QNewton.md)\n",
    "    * [Метод доверительной области](./5-OM/OM-4-TR.md)\n",
    "    * [Туннельный метод оптимизации функции](./5-OM/OM-5-Tunneling.md)"
   ]
  }
 ],
 "metadata": {
  "jupytext": {
   "text_representation": {
    "extension": ".md",
    "format_name": "myst",
    "format_version": 0.13,
    "jupytext_version": "1.10.3"
   }
  },
  "kernelspec": {
   "display_name": "Python 3 (ipykernel)",
   "language": "python",
   "name": "python3"
  },
  "language_info": {
   "codemirror_mode": {
    "name": "ipython",
    "version": 3
   },
   "file_extension": ".py",
   "mimetype": "text/x-python",
   "name": "python",
   "nbconvert_exporter": "python",
   "pygments_lexer": "ipython3",
   "version": "3.7.13"
  },
  "source_map": [
   12,
   18
  ]
 },
 "nbformat": 4,
 "nbformat_minor": 5
}