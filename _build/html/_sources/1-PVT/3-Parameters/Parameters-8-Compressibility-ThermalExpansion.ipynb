{
 "cells": [
  {
   "cell_type": "markdown",
   "id": "dab483bf",
   "metadata": {},
   "source": [
    "<a id='pvt-parameters-compressibility_expansion'></a>\n",
    "# Коэффициент сжимаемости. Коэффициент термического расширения"
   ]
  },
  {
   "cell_type": "code",
   "execution_count": null,
   "id": "6e78423c",
   "metadata": {},
   "outputs": [],
   "source": []
  }
 ],
 "metadata": {
  "jupytext": {
   "text_representation": {
    "extension": ".md",
    "format_name": "myst",
    "format_version": 0.13,
    "jupytext_version": "1.10.3"
   }
  },
  "kernelspec": {
   "display_name": "Python 3 (ipykernel)",
   "language": "python",
   "name": "python3"
  },
  "language_info": {
   "codemirror_mode": {
    "name": "ipython",
    "version": 3
   },
   "file_extension": ".py",
   "mimetype": "text/x-python",
   "name": "python",
   "nbconvert_exporter": "python",
   "pygments_lexer": "ipython3",
   "version": "3.7.13"
  },
  "source_map": [
   12,
   17
  ]
 },
 "nbformat": 4,
 "nbformat_minor": 5
}