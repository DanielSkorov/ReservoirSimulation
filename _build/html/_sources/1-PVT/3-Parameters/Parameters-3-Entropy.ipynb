{
 "cells": [
  {
   "cell_type": "markdown",
   "id": "a604222d",
   "metadata": {},
   "source": [
    "<a id='pvt-parameters-entropy'></a>\n",
    "# Энтропия"
   ]
  },
  {
   "cell_type": "code",
   "execution_count": null,
   "id": "8d2b51fb",
   "metadata": {},
   "outputs": [],
   "source": []
  },
  {
   "cell_type": "markdown",
   "id": "2e69b43c",
   "metadata": {},
   "source": [
    "<a id='pvt-parameters-entropy-pr_srk'></a>\n",
    "## Вывод выражения энтропии с использованием уравнений состояния Суаве-Редлиха-Квонга и Пенга-Робинсона"
   ]
  },
  {
   "cell_type": "code",
   "execution_count": null,
   "id": "f0a5f8e9",
   "metadata": {},
   "outputs": [],
   "source": []
  },
  {
   "cell_type": "markdown",
   "id": "8a8bb30b",
   "metadata": {},
   "source": [
    "<a id='pvt-parameters-entropy-sw'></a>\n",
    "## Вывод выражения энтропии с использованием уравнения состояния Сорейде-Уитсона"
   ]
  },
  {
   "cell_type": "code",
   "execution_count": null,
   "id": "c1988df1",
   "metadata": {},
   "outputs": [],
   "source": []
  },
  {
   "cell_type": "markdown",
   "id": "387872b4",
   "metadata": {},
   "source": [
    "<a id='pvt-parameters-entropy-cpa'></a>\n",
    "## Вывод выражения энтропии с использованием уравнения состояния CPA"
   ]
  },
  {
   "cell_type": "code",
   "execution_count": null,
   "id": "48ac1609",
   "metadata": {},
   "outputs": [],
   "source": []
  }
 ],
 "metadata": {
  "jupytext": {
   "text_representation": {
    "extension": ".md",
    "format_name": "myst",
    "format_version": 0.13,
    "jupytext_version": "1.10.3"
   }
  },
  "kernelspec": {
   "display_name": "Python 3 (ipykernel)",
   "language": "python",
   "name": "python3"
  },
  "language_info": {
   "codemirror_mode": {
    "name": "ipython",
    "version": 3
   },
   "file_extension": ".py",
   "mimetype": "text/x-python",
   "name": "python",
   "nbconvert_exporter": "python",
   "pygments_lexer": "ipython3",
   "version": "3.7.13"
  },
  "source_map": [
   12,
   17,
   19,
   24,
   26,
   31,
   33,
   38
  ]
 },
 "nbformat": 4,
 "nbformat_minor": 5
}