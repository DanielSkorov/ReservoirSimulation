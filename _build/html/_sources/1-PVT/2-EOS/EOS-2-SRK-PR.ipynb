{
 "cells": [
  {
   "cell_type": "markdown",
   "id": "5e7f8712",
   "metadata": {},
   "source": [
    "<a id='pvt-eos-srk_pr'></a>\n",
    "# Уравнения состояния Суаве-Редлиха-Квонга и Пенга-Робинсона\n",
    "В 1949 году Редлих и Квонг предложили модификацию [уравнения состояния Ван-дер-Ваальса](EOS-1-VanDerWaals.html#pvt-eos-van_der_waals):\n",
    "\n",
    "$$ \\left( P + \\frac{a_m}{T^{0.5} v \\left( v + b_m \\right)} \\right) \\left(v - b_m \\right) = R T.$$\n",
    "\n",
    "Позднее, в 1972 году Суаве улучшил данное уравнение состояния, заменив отношение $\\frac{a_m}{T^{0.5}}$ более общим коэффициентом $\\alpha_m$, зависящим от температуры и свойств компонента, в том числе *ацентрического фактора*.\n",
    "\n",
    "```{prf:определение}\n",
    ":nonumber:\n",
    "***Ацентрический фактор*** – параметр компонента (вещества), который характеризует отклонение формы молекулы компонента от сферической молекулы идеального газа.\n",
    "```\n",
    "\n",
    "В общем виде уравнение состояния Суаве-Редлиха-Квонга можно записать в следующем виде:\n",
    "\n",
    "$$ \\left( P + \\frac{\\alpha_m}{v \\left( v + b_m \\right)} \\right) \\left(v - b_m \\right) = R T. $$\n",
    "\n",
    "Позднее, в 1976 году, Пенг и Робинсон внесли модификацию в данное уравнение состояния для лучшего воспроизведения плотности жидкой фазы:\n",
    "\n",
    "$$ \\left( P + \\frac{\\alpha_m}{v \\left( v + b_m \\right) + b_m \\left( v - b_m \\right)} \\right) \\left(v - b_m \\right) = R T. $$\n",
    "\n",
    "В общем виде, оба уравнения состояния Суаве-Редлиха-Квонга и Пенга-Робинсона можно записать в следующем виде:\n",
    "\n",
    "$$ \\left( P + \\frac{\\alpha_m}{v^2 + v b_m \\left(1 + c \\right) - c b_m^2} \\right) \\left(v - b_m \\right) = R T. $$\n",
    "\n",
    "Если параметр $c = 0$, то уравнение приводится к уравнению состояния Суаве-Редлиха-Квонга, если же $c = 1$, то – к уравнению состояния Пенга-Робинсона."
   ]
  },
  {
   "cell_type": "markdown",
   "id": "4a6911aa",
   "metadata": {},
   "source": [
    "<a id='pvt-eos-srk_pr-fugacity_coefficient'></a>\n",
    "Начнем с нахождения логарифма коэффициента летучести $i$-го компонента. Для этого преобразуем полученное [ранее](../1-TD/TD-15-Fugacity.md) выражение следующим образом:\n",
    "\n",
    "$$ \\ln \\phi_i = \\int_V^\\infty \\left( \\frac{1}{R T} \\left( \\frac{\\partial P}{\\partial n_i} \\right)_{V, T, n_{j \\neq i}} - \\frac{1}{V} \\right) dV - \\ln Z = \\frac{\\partial}{\\partial n_i} \\left( \\int_V^\\infty \\left( \\frac{P}{RT} - \\frac{n}{V} \\right) dV \\right)_{V, T, n_{j \\neq i}} - \\ln Z.$$\n",
    "\n",
    "Запишем рассматриваемые уравнения состояния относительно давления:\n",
    "\n",
    "$$ P = \\frac{RT}{v - b_m} - \\frac{\\alpha_m}{v^2 + \\left( c + 1 \\right) b_m v - c b_m^2} = \\frac{n R T}{V - n b_m} - \\frac{\\alpha_m n^2}{V^2 + \\left( c + 1 \\right) b_m n V - c b_m^2 n^2}. $$\n",
    "\n",
    "Получим выражение для первообразной подынтегральной функции:\n",
    "\n",
    "$$ \\begin{align}\n",
    "F \\left( V \\right)\n",
    "&= \\int \\left( \\frac{P}{RT} - \\frac{n}{V} \\right) dV \\\\\n",
    "&= \\frac{1}{RT} \\int P dV - n \\int \\frac{dV}{V} \\\\\n",
    "&= n \\int \\frac{dV}{V - n b_m} - \\frac{n^2 \\alpha_m}{RT} \\int \\frac{dV}{V^2 + \\left( c + 1 \\right) b_m n V - c b_m^2 n^2} - n \\int \\frac{dV}{V}.\n",
    "\\end{align} $$\n",
    "\n",
    "Для преобразования данного выражения распишем подробнее интегралы:\n",
    "\n",
    "$$ \\begin{align}\n",
    "\\int \\frac{dV}{V - n b_m} = \\int \\frac{dV - n b_m}{V - n b_m}\n",
    "&= \\ln \\lvert V - n b_m \\rvert = \\ln \\left( V - n b_m \\right); \\\\\n",
    "\\int \\frac{dV}{V^2 + \\left( c + 1 \\right) b_m n V - c b_m^2 n^2}\n",
    "&= \\int \\frac{dV}{ \\left( V + \\frac{c+1}{2} b_m n \\right)^2 - b_m^2 n^2 \\left( \\frac{\\left( c+1 \\right)^2}{4} + c \\right) } \\\\\n",
    "&= \\frac{1}{2 b_m n \\sqrt{\\frac{\\left( c + 1 \\right)^2}{4} + c }} \\ln \\left| \\frac{ V + \\frac{c+1}{2} b_m n - b_m n \\sqrt{ \\frac{\\left( c+1 \\right)^2}{4} + c }}{V + \\frac{c+1}{2} b_m n + b_m n \\sqrt{ \\frac{\\left( c+1 \\right)^2}{4} + c }} \\right| \\\\\n",
    "&= \\frac{1}{b_m n \\left( \\delta_2 - \\delta_1 \\right) } \\ln \\frac{V + b_m n \\delta_1}{V + b_m n \\delta_2}; \\\\\n",
    "\\int \\frac{dV}{V}\n",
    "&= \\ln \\lvert V \\rvert = \\ln V.\n",
    "\\end{align} $$\n",
    "\n",
    "Здесь $\\delta_1 = \\frac{c + 1}{2} - \\sqrt{ \\frac{\\left( c+1 \\right)^2}{4} + c }$ и $\\delta_2 = \\frac{c + 1}{2} + \\sqrt{ \\frac{\\left( c+1 \\right)^2}{4} + c }.$ С учетом этого выражение для первообразной подынтегральной функции примет следующий вид:\n",
    "\n",
    "$$ F \\left( V \\right) = n \\ln \\frac{V - n b_m}{V} - \\frac{n \\alpha_m}{R T b_m \\left( \\delta_2 - \\delta_1 \\right)} \\ln \\frac{V + n b_m \\delta_1}{V + n b_m \\delta_2}.$$\n",
    "\n",
    "Следовательно, интеграл в выражении для коэффициента летучести $i$-го компонента:\n",
    "\n",
    "$$ \\begin{alignat}{1}\n",
    "\\int_V^\\infty \\left( \\frac{P}{RT} - \\frac{n}{V} \\right) dV\n",
    "&= & \\; F \\left( V \\right) \\bigg\\rvert_V^\\infty \\\\\n",
    "&= & \\; \\lim_{b \\rightarrow \\infty} F \\left( V \\right) \\bigg\\rvert_V^b \\\\\n",
    "&= & \\; \\lim_{b \\rightarrow \\infty} \\left( n \\ln \\frac{b - n b_m}{b} - \\frac{n \\alpha_m}{R T b_m \\left( \\delta_2 - \\delta_1 \\right)} \\ln \\frac{b + n b_m \\delta_1}{b + n b_m \\delta_2} \\right) \\\\\n",
    "&& \\; - \\left( n \\ln \\frac{V - n b_m}{V} - \\frac{n \\alpha_m}{R T b_m \\left( \\delta_2 - \\delta_1 \\right)} \\ln \\frac{V + n b_m \\delta_1}{V + n b_m \\delta_2} \\right) \\\\\n",
    "&= & \\; n \\lim_{b \\rightarrow \\infty} \\ln \\left( 1 - \\frac{n b_m}{b} \\right) - \\frac{n \\alpha_m}{R T b_m \\left( \\delta_2 - \\delta_1 \\right)} \\lim_{b \\rightarrow \\infty} \\ln \\left( 1 - \\frac{n b_m \\left( \\delta_2 - \\delta_1 \\right)}{b + n b_m \\delta_2} \\right) \\\\\n",
    "&& \\; - \\left( n \\ln \\frac{V - n b_m}{V} - \\frac{n \\alpha_m}{R T b_m \\left( \\delta_2 - \\delta_1 \\right)} \\ln \\frac{V + n b_m \\delta_1}{V + n b_m \\delta_2} \\right) \\\\\n",
    "&= & \\; - n \\ln \\frac{V - n b_m}{V} + \\frac{n \\alpha_m}{R T b_m \\left( \\delta_2 - \\delta_1 \\right)} \\ln \\frac{V + n b_m \\delta_1}{V + n b_m \\delta_2}\n",
    "\\end{alignat} $$\n",
    "\n",
    "Для выражения логарифма коэффициента летучести $i$-го компонента необходимо получить производную по количеству вещества $i$-го компонента при постоянных объеме, температуре и количествах веществ других компонентов:\n",
    "\n",
    "$$ \\begin{align} & \\frac{\\partial}{\\partial n_i} \\left( - n \\ln \\frac{V - n b_m}{V} + \\frac{n \\alpha_m}{R T b_m \\left( \\delta_2 - \\delta_1 \\right)} \\ln \\frac{V + n b_m \\delta_1}{V + n b_m \\delta_2} \\right)_{V, T, n_{j \\neq i}} \\\\ & = - \\frac{\\partial}{\\partial n_i} \\left( n \\ln \\frac{V - n b_m}{V} \\right) + \\frac{1}{R T \\left( \\delta_2 - \\delta_1 \\right)} \\frac{\\partial}{\\partial n_i} \\left( \\frac{n \\alpha_m}{b_m} \\ln \\frac{V + n b_m \\delta_1}{V + n b_m \\delta_2} \\right). \\end{align} $$\n",
    "\n",
    "Распишем подробнее данные производные.\n",
    "\n",
    "$$ \\begin{align}\n",
    "\\frac{\\partial}{\\partial n_i} \\left( n \\ln \\frac{V - n b_m}{V} \\right)\n",
    "&= \\ln \\frac{V - n b_m}{V} + n \\frac{\\partial}{\\partial n_i} \\ln \\frac{V - n b_m}{V} \\\\\n",
    "&= \\ln \\frac{V - n b_m}{V} - \\frac{n}{V - n b_m} \\frac{\\partial n b_m}{\\partial n_i}.\n",
    "\\end{align}$$\n",
    "\n",
    "$$\\begin{alignat}{1}\n",
    "\\frac{\\partial}{\\partial n_i} \\left( \\frac{n \\alpha_m}{b_m} \\ln \\frac{V + n b_m \\delta_1}{V + n b_m \\delta_2} \\right)\n",
    "&= & \\; \\ln \\left( \\frac{V + n b_m \\delta_1}{V + n b_m \\delta_2} \\right) \\frac{\\partial}{\\partial n_i} \\left( \\frac{n \\alpha_m}{b_m} \\right) + \\frac{n \\alpha_m}{b_m} \\frac{\\partial}{\\partial n_i} \\left( \\ln \\frac{V + n b_m \\delta_1}{V + n b_m \\delta_2} \\right) \\\\\n",
    "&= & \\; \\ln \\left( \\frac{V + n b_m \\delta_1}{V + n b_m \\delta_2} \\right) \\left( \\frac{1}{n b_m} \\frac{\\partial n^2 \\alpha_m}{\\partial n_i} - \\frac{\\alpha_m}{b_m^2} \\frac{\\partial n b_m}{\\partial n_i} \\right) \\\\\n",
    "&& \\; + \\frac{n \\alpha_m}{b_m} \\frac{\\partial n b_m}{\\partial n_i} \\frac{V \\left( \\delta_1 - \\delta_2 \\right)}{\\left( V + n b_m \\delta_1 \\right) \\left( V + n b_m \\delta_2 \\right)}.\n",
    "\\end{alignat} $$\n",
    "\n",
    "С учетом этого выражение для логарифма коэффициента летучести $i$-го компонента:\n",
    "\n",
    "$$ \\begin{alignat}{1}\n",
    "\\ln \\phi_i\n",
    "&= & \\; -\\ln \\frac{V - n b_m}{V} + \\frac{n}{V - n b_m} \\frac{\\partial n b_m}{\\partial n_i} \\\\\n",
    "&& \\; + \\frac{1}{R T \\left( \\delta_2 - \\delta_1 \\right)} \\left( \\ln \\left( \\frac{V + n b_m \\delta_1}{V + n b_m \\delta_2} \\right) \\left( \\frac{1}{n b_m} \\frac{\\partial n^2 \\alpha_m}{\\partial n_i} - \\frac{\\alpha_m}{b_m^2} \\frac{\\partial n b_m}{\\partial n_i} \\right) \\right. \\\\\n",
    "&& \\; \\left. - \\frac{n \\alpha_m}{b_m} \\frac{\\partial n b_m}{\\partial n_i} \\frac{V \\left( \\delta_2 - \\delta_1 \\right)}{\\left( V + n b_m \\delta_1 \\right) \\left( V + n b_m \\delta_2 \\right)} \\right) - \\ln Z \\\\\n",
    "&= & \\; -\\ln \\frac{V - n b_m}{V}  + \\frac{n}{V - n b_m} \\frac{\\partial n b_m}{\\partial n_i} - \\frac{n \\alpha_m}{R T b_m} \\frac{\\partial n b_m}{\\partial n_i} \\frac{V}{\\left( V + n b_m \\delta_1 \\right) \\left( V + n b_m \\delta_2 \\right)} \\\\\n",
    "&& \\; + \\frac{1}{R T \\left( \\delta_2 - \\delta_1 \\right)} \\left( \\frac{1}{n b_m} \\frac{\\partial n^2 \\alpha_m}{\\partial n_i} - \\frac{\\alpha_m}{b_m^2} \\frac{\\partial n b_m}{\\partial n_i} \\right) \\ln \\left( \\frac{V + n b_m \\delta_1}{V + n b_m \\delta_2} \\right) - \\ln Z \\\\\n",
    "&= & \\; -\\ln \\frac{V - n b_m}{V} + \\frac{\\partial n b_m}{\\partial n_i} \\left( \\frac{n}{V - n b_m} - \\frac{n \\alpha_m}{R T b_m} \\frac{V}{\\left( V + n b_m \\delta_1 \\right) \\left( V + n b_m \\delta_2 \\right)} \\right) \\\\\n",
    "&& \\; + \\frac{1}{R T \\left( \\delta_2 - \\delta_1 \\right)} \\left( \\frac{1}{n b_m} \\frac{\\partial n^2 \\alpha_m}{\\partial n_i} - \\frac{\\alpha_m}{b_m^2} \\frac{\\partial n b_m}{\\partial n_i} \\right) \\ln \\left( \\frac{V + n b_m \\delta_1}{V + n b_m \\delta_2} \\right) - \\ln Z\n",
    "\\end{alignat}$$\n",
    "\n",
    "Полученное выражение позволяет определить логарифм коэффициента летучести $i$-го компонента."
   ]
  },
  {
   "cell_type": "markdown",
   "id": "78122bee",
   "metadata": {},
   "source": [
    "<a id='pvt-eos-srk_pr-mix_rules'></a>\n",
    "Пусть расчет параметров $\\alpha_m$ и $b_m$ соответствует используемым [ранее](./EOS-1-VanDerWaals.html#pvt-eos-van_der_waals-mix_rules) правилам смешивания, то есть:\n",
    "\n",
    "$$ \\begin{align} \\alpha_m &= \\sum_{j=1}^{N_c} \\sum_{k=1}^{N_c} x_j x_k \\alpha_{jk}; \\\\ b_m &= \\sum_{j=1}^{N_c} x_j b_j. \\end{align}$$\n",
    "\n",
    "Здесь параметр $\\alpha_{jk}$ рассчитывается следующим образом:\n",
    "\n",
    "$$\\alpha_{jk} = \\left( \\alpha_j \\alpha_k \\right)^{0.5} \\left( 1 - \\delta_{jk} \\right).$$\n",
    "\n",
    "В свою очередь параметр $\\alpha_j$:\n",
    "\n",
    "$$ \\alpha_j = a_j \\left( 1 + \\kappa_j \\left( 1 - \\sqrt{{T_r}_j} \\right) \\right)^2.$$\n",
    "\n",
    "Параметр $\\kappa$ является функцией ацентрического фактора компонента, то есть $\\kappa = \\kappa \\left( \\omega \\right)$, а параметр $T_r$ рассчитывается как отношение температуры к критической температуре компонента. Методы расчета коэффициентов попарного взаимодействия $\\delta_{jk}$ более детально обсуждаются в [приложении B](./EOS-Appendix-B-BIP.html#pvt-eos-appendix-bip)."
   ]
  },
  {
   "cell_type": "markdown",
   "id": "af6c3b73",
   "metadata": {},
   "source": [
    "Задав правила смешивания, определим оставшиеся производные в выражении логарифма коэффициента летучести $i$-го компонента:\n",
    "\n",
    "$$ \\begin{align*} \\frac{\\partial n b_m}{\\partial n_i} &= b_i; \\\\ \\frac{\\partial n^2 \\alpha_m}{\\partial n_i} &= 2 n \\sum_{j=1}^{N_c} \\alpha_{ij} x_j. \\end{align*}$$"
   ]
  },
  {
   "cell_type": "markdown",
   "id": "d05e2787",
   "metadata": {},
   "source": [
    "<a id='pvt-eos-srk_pr-fugacity_coeff-tv'></a>\n",
    "С учетом этого преобразуем выражение для логарифма коэффициента летучести $i$-го компонента:\n",
    "\n",
    "$$ \\begin{align} \\ln \\phi_i = &-\\ln \\frac{V - n b_m}{V} + b_i \\left( \\frac{n}{V - n b_m} - \\frac{n \\alpha_m}{R T b_m} \\frac{V}{\\left( V + n b_m \\delta_1 \\right) \\left( V + n b_m \\delta_2 \\right)} \\right) \\\\ &+ \\frac{1}{R T \\left( \\delta_2 - \\delta_1 \\right)} \\left( \\frac{2 \\sum_{j=1}^{N_c} \\alpha_{ij} x_j}{b_m} - \\frac{\\alpha_m b_i}{b_m^2} \\right) \\ln \\left( \\frac{V + n b_m \\delta_1}{V + n b_m \\delta_2} \\right) - \\ln Z. \\end{align} $$\n",
    "\n",
    "Аналогично может быть получено выражение для логарифма коэффициента летучести системы, состоящей из одного компонента:\n",
    "\n",
    "$$ \\begin{align} \\ln \\phi = &-\\ln \\frac{V - n b}{V} + b \\left( \\frac{n}{V - n b} - \\frac{n \\alpha}{R T b} \\frac{V}{\\left( V + n b \\delta_1 \\right) \\left( V + n b \\delta_2 \\right)} \\right) + \\frac{1}{R T \\left( \\delta_2 - \\delta_1 \\right)} \\frac{\\alpha}{b} \\ln \\left( \\frac{V + n b \\delta_1}{V + n b \\delta_2} \\right) \\\\ &- \\ln Z. \\end{align} $$\n",
    "\n",
    "Данные выражения могут быть использованы для определения логарифма коэффициента летучести компонента систем, состоящих из нескольких компонентов и одного компонента соответственно, при известных объеме и температуре. На практике зачастую известными параметрами системы являются давление и температура. Следовательно, необходимо преобразовать полученные выражения относительно давления и температуры."
   ]
  },
  {
   "cell_type": "markdown",
   "id": "6fb0d87e",
   "metadata": {},
   "source": [
    "Для начала обратим внимание на то, что:\n",
    "\n",
    "$$ \\left( V + n b_m \\delta_1 \\right) \\left( V + n b_m \\delta_2 \\right) = V^2 + n b_m \\left( c + 1 \\right) V - c b_m^2 n^2 = \\frac{\\alpha_m n^2}{\\frac{n R T}{V - n b_m} - P}. $$"
   ]
  },
  {
   "cell_type": "markdown",
   "id": "98e2b4ca",
   "metadata": {},
   "source": [
    "<a id='pvt-eos-srk_pr-Z_PT'></a>\n",
    "Уравнения состояния Пенга-Робинсона и Суаве-Редлиха-Квонга относительно коэффициента сверхсжимаемости можно записать в следующем виде:\n",
    "\n",
    "$$ Z^3 - \\left( 1 - c B \\right) Z^2 + \\left( A - \\left( c + 1 \\right) B - \\left( 2 c + 1\\right) B^2 \\right) Z - \\left( A B - c \\left( B^2 + B^3 \\right) \\right) = 0. $$\n",
    "\n",
    "Здесь параметры $A$ и $B$:\n",
    "\n",
    "$$ \\begin{align} A &= \\frac{\\alpha_m P}{R^2 T^2}; \\\\ B &= \\frac{b_m P}{R T}. \\end{align}$$\n",
    "\n",
    "Теперь с учетом коэффициента сверхсжимаемости $Z = \\frac{P v}{R T}$ и параметров $A$ и $B$ преобразуем выражение для логарифма коэффициента летучести $i$-го компонента. Сгруппируем первое и последнее слагаемые в этом выражении:\n",
    "\n",
    "$$ - \\ln \\frac{V - n b_m}{V} - \\ln Z = - \\ln \\frac{v - b_m}{v} - \\ln Z = - \\ln \\frac{Z - B}{Z} - \\ln Z = -\\ln \\left( Z - B \\right). $$\n",
    "\n",
    "Предпоследнее слагаемое можно преобразовать следующим образом:\n",
    "\n",
    "$$ \\begin{align}\n",
    "& \\frac{1}{R T \\left( \\delta_2 - \\delta_1 \\right)} \\left( \\frac{2 \\sum_{j=1}^{N_c} \\alpha_{ij} x_j}{b_m} - \\frac{\\alpha_m b_i}{b_m^2} \\right) \\ln \\left( \\frac{V + n b_m \\delta_1}{V + n b_m \\delta_2} \\right) \\\\\n",
    "&= \\frac{1}{R T \\left( \\delta_2 - \\delta_1 \\right)} \\frac{\\alpha_m}{b_m} \\left( \\frac{2 \\sum_{j=1}^{N_c} \\alpha_{ij} x_j}{\\alpha_m} - \\frac{b_i}{b_m} \\right)  \\ln \\left( \\frac{Z + B \\delta_1}{Z + B \\delta_2} \\right) \\\\\n",
    "&= \\frac{1}{\\left( \\delta_2 - \\delta_1 \\right)} \\frac{A}{B} \\left( \\frac{2 \\sum_{j=1}^{N_c} \\alpha_{ij} x_j}{\\alpha_m} - \\frac{b_i}{b_m} \\right)  \\ln \\left( \\frac{Z + B \\delta_1}{Z + B \\delta_2} \\right).\n",
    "\\end{align} $$\n",
    "\n",
    "Второе слагаемое можно упростить следующим образом:\n",
    "\n",
    "$$ \\begin{align}\n",
    "\\frac{n}{V - n b_m} - \\frac{n \\alpha_m}{R T b_m} \\frac{V}{\\left( V + n b_m \\delta_1 \\right) \\left( V + n b_m \\delta_2 \\right)}\n",
    "&= \\frac{1}{v - b_m} - \\frac{\\alpha_m}{R T b_m} \\frac{v}{v^2 + \\left( c + 1 \\right) b_m v - c b_m} \\\\\n",
    "&= \\frac{1}{v - b_m} - \\frac{v}{R T b_m} \\left( \\frac{R T}{v - b_m} - P \\right) \\\\\n",
    "&= \\frac{1}{b_m} \\left( Z - 1 \\right).\n",
    "\\end{align} $$"
   ]
  },
  {
   "cell_type": "markdown",
   "id": "d2af8d19",
   "metadata": {},
   "source": [
    "<a id='pvt-eos-srk_pr-fugacity_coeff-pt'></a>\n",
    "С учетом приведенных выше преобразований выражение для логарифма коэффициента летучести компонента смеси:\n",
    "\n",
    "$$ \\ln \\phi_i = -\\ln \\left( Z - B \\right) + \\frac{b_i}{b_m} \\left( Z - 1 \\right) + \\frac{1}{\\left( \\delta_2 - \\delta_1 \\right)} \\frac{A}{B} \\left( \\frac{2 \\sum_{j=1}^{N_c} \\alpha_{ij} x_j}{\\alpha_m} - \\frac{b_i}{b_m} \\right)  \\ln \\left( \\frac{Z + B \\delta_1}{Z + B \\delta_2} \\right). $$\n",
    "\n",
    "Для чистого компонента:\n",
    "\n",
    "$$ \\ln \\phi = -\\ln \\left( Z - B \\right) + \\left( Z - 1 \\right) + \\frac{1}{\\left( \\delta_2 - \\delta_1 \\right)} \\frac{A}{B} \\ln \\left( \\frac{Z + B \\delta_1}{Z + B \\delta_2} \\right). $$\n",
    "\n",
    "Далее необходимо определить выражения для параметров $a$ и $b$ для чистых компонентов. Для этого рассмотрим критическую точку чистого компонента. [Ранее](../1-TD/TD-14-PhaseEquilibrium.html#pvt-td-phase_equilibrium-critical_point) было показано, что для критической точки характерно равенство нулю первой и второй частной производной давления по объему при постоянной температуре. Исходя из данных условий для уравнения состояния Ван-дер-Ваальса [были найдены](./EOS-1-VanDerWaals.html#pvt-eos-van_der_waals-coefficients) значения параметров $a$ и $b$ для чистых компонентов, выраженные через давление и температуру в критической точке чистого компонента. Однако для уравнений состояния Пенга-Робинсона и Суаве-Редлиха-Квонга данный подход достаточно трудоемок (хотя абсолютно возможен). Вместо этого рассмотрим уравнение состояния, записанные относительно коэффициента сверхсжимаемости:\n",
    "\n",
    "$$ Z^3 - \\left( 1 - c B \\right) Z^2 + \\left( A - \\left( c + 1 \\right) B - \\left( 2 c + 1\\right) B^2 \\right) Z^2 - \\left( A B - c \\left( B^2 + B^3 \\right) \\right) = 0. $$\n",
    "\n",
    "Данное уравнение является кубическим, то есть имеет максимум три действительных корня. Более подробно о том, почему в принципе для заданных давления и температуры могут быть получены различные значения объема и коэффициента сверсжимаемости, будет рассматриваться в [главе \"Равновесие. Стабильность. Критичность\"](../4-ESC/ESC-0-Introduction.html#pvt-esc). Также будет показано, что в критической точке данное уравнение имеет три действительных равных друг другу корня. То есть:\n",
    "\n",
    "$$ \\left( Z - Z_c \\right)^3 = 0. $$\n",
    "\n",
    "Раскрыв скобки в данном выражении, получим:\n",
    "\n",
    "$$ Z^3 - 3 Z_c Z^2 + 3 Z_c^2 Z - Z_c^3 = 0.$$\n",
    "\n",
    "Тогда, поскольку данное уравнение и уравнение состояния характеризуют одно и то же состояние системы, можно записать следующие соотношения:\n",
    "\n",
    "$$ \\begin{align} -3 Z_c &= - \\left( 1 - c B \\right); \\\\ 3 Z_c^2 &= \\left( A - \\left( c + 1 \\right) B - \\left( 2 c + 1\\right) B^2 \\right); \\\\ - Z_c^3 &= - \\left( A B - c \\left( B^2 + B^3 \\right) \\right). \\end{align} $$\n",
    "\n",
    "Полученные уравнения можно решить как систему уравнений относительно параметров $Z_c$, $A$ и $B$. Выразим из первого уравнения $Z_c$, а из второго – $A$ и подставим в третье. Тогда полученная система уравнений будет выглядеть следующим образом:\n",
    "\n",
    "$$ \\begin{cases} Z_c = \\frac{1 - c B}{3}; \\\\ A = \\left( c + 1 \\right) B + \\left( 2 c + 1\\right) B^2 + \\frac{\\left(1 - c B\\right)^2}{3}; \\\\ \\left(c^3 + 9 c^2 + 27 c + 27 \\right) B^3 + \\left( -3 c^2 - 18 c + 27 \\right) B^2 + \\left( 3 c + 9 \\right) B -1 = 0. \\end{cases}$$\n",
    "\n",
    "Данное кубическое уравнение относительно $B$ может быть решено с использованием [формулы Кардано](https://en.wikipedia.org/wiki/Cubic_equation#General_cubic_formula). Для уравнения состояния Суаве-Редлиха-Квонга, определяемого $c = 0$:"
   ]
  },
  {
   "cell_type": "code",
   "execution_count": 1,
   "id": "77f2cea6",
   "metadata": {},
   "outputs": [],
   "source": [
    "import numpy as np\n",
    "import sys\n",
    "sys.path.append('../../SupportCode/')\n",
    "from PVT import core"
   ]
  },
  {
   "cell_type": "code",
   "execution_count": 2,
   "id": "0ef93cd2",
   "metadata": {},
   "outputs": [
    {
     "data": {
      "text/plain": [
       "0.08664034996495773"
      ]
     },
     "execution_count": 2,
     "metadata": {},
     "output_type": "execute_result"
    }
   ],
   "source": [
    "c = 0\n",
    "k1 = (-3 * c**2 - 18 * c + 27) / (c**3 + 9 * c**2 + 27 * c + 27)\n",
    "k2 = (3 * c + 9) / (c**3 + 9 * c**2 + 27 * c + 27)\n",
    "k3 = -1 / (c**3 + 9 * c**2 + 27 * c + 27)\n",
    "B_srk = core.calc_cardano(k1, k2, k3)[0]\n",
    "B_srk"
   ]
  },
  {
   "cell_type": "markdown",
   "id": "a0ad2f9a",
   "metadata": {},
   "source": [
    "Для уравнения состояния Пенга-Робинсона, определяемого $c = 1$:"
   ]
  },
  {
   "cell_type": "code",
   "execution_count": 3,
   "id": "d78ad32b",
   "metadata": {},
   "outputs": [
    {
     "data": {
      "text/plain": [
       "0.07779607390388851"
      ]
     },
     "execution_count": 3,
     "metadata": {},
     "output_type": "execute_result"
    }
   ],
   "source": [
    "c = 1\n",
    "k1 = (-3 * c**2 - 18 * c + 27) / (c**3 + 9 * c**2 + 27 * c + 27)\n",
    "k2 = (3 * c + 9) / (c**3 + 9 * c**2 + 27 * c + 27)\n",
    "k3 = -1 / (c**3 + 9 * c**2 + 27 * c + 27)\n",
    "B_pr = core.calc_cardano(k1, k2, k3)[0]\n",
    "B_pr"
   ]
  },
  {
   "cell_type": "markdown",
   "id": "6bac801d",
   "metadata": {},
   "source": [
    "В критической точке параметр $B$ определяется следующим выражением:\n",
    "\n",
    "$$ B = \\frac{b P_c}{R T_c}.$$\n",
    "\n",
    "Тогда для чистого компонента значение параметра $b$ можно выразить:\n",
    "\n",
    "$$ b = \\Omega_b \\frac{R T_c}{P_c}. $$\n",
    "\n",
    "Здесь коэффициент $\\Omega_b = 0.08664$ для уравнения состояния Суаве-Редлиха-Квонга и $\\Omega_b = 0.07780$ для уравнения состояния Пенга-Робинсона. Получим значения для параметра $A$. Для уравнения состояния Суаве-Редлиха-Квонга:"
   ]
  },
  {
   "cell_type": "code",
   "execution_count": 4,
   "id": "eacbc63e",
   "metadata": {},
   "outputs": [
    {
     "data": {
      "text/plain": [
       "0.42748023354034137"
      ]
     },
     "execution_count": 4,
     "metadata": {},
     "output_type": "execute_result"
    }
   ],
   "source": [
    "c = 0\n",
    "A_srk = (c + 1) * B_srk + (2 * c + 1) * B_srk**2 + (1 - c * B_srk)**2 / 3\n",
    "A_srk"
   ]
  },
  {
   "cell_type": "markdown",
   "id": "4b6f54bf",
   "metadata": {},
   "source": [
    "Для уравнения состояния Пенга-Робинсона:"
   ]
  },
  {
   "cell_type": "code",
   "execution_count": 5,
   "id": "96f58067",
   "metadata": {},
   "outputs": [
    {
     "data": {
      "text/plain": [
       "0.4572355289213823"
      ]
     },
     "execution_count": 5,
     "metadata": {},
     "output_type": "execute_result"
    }
   ],
   "source": [
    "c = 1\n",
    "A_pr = (c + 1) * B_pr + (2 * c + 1) * B_pr**2 + (1 - c * B_pr)**2 / 3\n",
    "A_pr"
   ]
  },
  {
   "cell_type": "markdown",
   "id": "1bb5784b",
   "metadata": {},
   "source": [
    "В критической точке параметр $A$ определяется следующим выражением:\n",
    "\n",
    "$$ A = \\frac{\\alpha P_c}{R^2 T_c^2}. $$\n",
    "\n",
    "Параметр $\\alpha$ в критической точке при $ T = T_c$:\n",
    "\n",
    "$$ \\alpha = a \\left( 1 + \\kappa \\left( 1 - \\sqrt{\\frac{T}{T_c}} \\right) \\right)^2 = a. $$\n",
    "\n",
    "С учетом этого, выражение для параметра $a$:\n",
    "\n",
    "$$ a = \\Omega_a \\frac{R^2 T_c^2}{P_c}. $$\n",
    "\n",
    "Здесь коэффициент для уравнения состояния Суаве-Редлиха-Квонга $\\Omega_a = 0.42748$, для уравнения состояния Пенга-Робинсона $\\Omega_a = 0.45724.$"
   ]
  },
  {
   "cell_type": "markdown",
   "id": "9cb65346",
   "metadata": {},
   "source": [
    "<a id='pvt-eos-srk_pr-kappa'></a>\n",
    "Как было отмечено ранее, коэффициент $\\kappa$ рассчитывается по корреляции от ацентрического фактора. В своей [работе](https://doi.org/10.1021/i160057a011) Пенг и Робинсон в 1976 году предложили использовать следующую корреляцию:\n",
    "\n",
    "$$ \\kappa = 0.37464 + 1.54226 \\omega - 0.26992 \\omega^2. $$\n",
    "\n",
    "Данная корреляция с удовлетворительной точностью воспроизводит значения $\\kappa$ для компонентов из углеводородного ряда до декана, а также для диоксида углерода, азота и сероводорода. Позднее, в 1978 году, Пенг и Робинсон для более тяжедых компонентов предложили следующую корреляцию:\n",
    "\n",
    "$$ \\kappa = 0.379642 + 1.48503 \\omega - 0.164423 \\omega^2 + 0.016666 \\omega^3. $$\n",
    "\n",
    "Для уравнения состояния Суаве-Редлиха-Квонга в соответствии со [статьей](https://doi.org/10.1016/0009-2509(72)80096-4) Суаве рекомендуется использование следующей корреляции:\n",
    "\n",
    "$$ \\kappa = 0.480 + 1.574 \\omega - 0.176 \\omega^2. $$\n",
    "\n",
    "В 1978 году для уравнения состояния Суаве-Редлиха-Квонга [было предложено](https://doi.org/10.1021/i260068a010) использовать следующую зависимость:\n",
    "\n",
    "$$ \\kappa = 0.48508 + 1.55171 \\omega - 0.15613 \\omega^2. $$\n",
    "\n",
    "Решение кубического уравнения состояния относительно коэффициента сверхсжимаемости может привести к возникновению нескольких действительных корней. Как было показано [ранее](./EOS-1-VanDerWaals.html#pvt-eos-van_der_waals-root_selection), выбор нужного корня осуществляется на основе сравнения величин энергий Гиббса для каждого корня. Пусть $Z_1$ и $Z_2$ – корни кубического уравнения состояния относительно коэффициента сверсхжимаемости. Тогда:\n",
    "\n",
    "$$ G_1 - G_2 = n R T \\left( \\sum_{i=1}^{N_c} x_i \\ln {f_1}_i - \\sum_{i=1}^{N_c} x_i \\ln {f_2}_i \\right). $$\n",
    "\n",
    "Логарифм летучести компонента может быть выражен через логарифм коэффициента летучести компонента:\n",
    "\n",
    "$$ \\ln f_i = \\ln \\phi_i + \\ln x_i P. $$\n",
    "\n",
    "С учетом выражения для логарифма коэффициента летучести $i$-го компонента, полученного при использовании уравнений состояния Пенга-Робинсона или Суаве-Редлиха-Квонга, получим для $\\sum_{i=1}^{N_c} x_i \\ln \\phi_i$:\n",
    "\n",
    "$$ \\begin{alignat}{1}\n",
    "\\sum_{i=1}^{N_c} x_i \\ln \\phi_i\n",
    "&= & \\; - \\sum_{i=1}^{N_c} x_i \\ln \\left( Z - B \\right) + \\sum_{i=1}^{N_c} x_i \\frac{b_i}{b_m} \\left( Z - 1 \\right) \\\\\n",
    "&& \\; + \\sum_{i=1}^{N_c} x_i \\frac{1}{\\left( \\delta_2 - \\delta_1 \\right)} \\frac{A}{B} \\left( \\frac{2 \\sum_{j=1}^{N_c} \\alpha_{ij} x_j}{\\alpha_m} - \\frac{b_i}{b_m} \\right)  \\ln \\left( \\frac{Z + B \\delta_1}{Z + B \\delta_2} \\right) \\\\\n",
    "&= & \\; - \\ln \\left( Z - B \\right) + \\left( Z - 1 \\right) + \\frac{1}{\\left( \\delta_2 - \\delta_1 \\right)} \\frac{A}{B} \\ln \\left( \\frac{Z + B \\delta_1}{Z + B \\delta_2} \\right).\n",
    "\\end{alignat} $$\n",
    "\n",
    "Тогда:\n",
    "\n",
    "$$ G_1 - G_2 = - \\ln \\left( \\frac{Z_1 - B}{Z_2 - B} \\right) + \\left( Z_1 - Z_2 \\right) + \\frac{1}{\\left( \\delta_2 - \\delta_1 \\right)} \\frac{A}{B} \\ln \\left( \\frac{Z_1 + B \\delta_1}{Z_1 + B \\delta_2} \\frac{Z_2 + B \\delta_2}{Z_2 + B \\delta_1} \\right). $$\n",
    "\n",
    "Следовательно, если $G_1 - G_2 > 0$, то коэффициент сверхсжимаемости равен $Z_2$."
   ]
  },
  {
   "cell_type": "markdown",
   "id": "80487b37",
   "metadata": {},
   "source": [
    "Теперь рассмотрим применение уравнений состояния Суаве-Редлиха-Квонга и Пенга-Робинсона. Для этого определим летучести компонентов рассмотренной [ранее](./EOS-1-VanDerWaals.html#pvt-eos-van_der_waals-exercise) системы."
   ]
  },
  {
   "cell_type": "code",
   "execution_count": 6,
   "id": "fed28c12",
   "metadata": {},
   "outputs": [],
   "source": [
    "Pc = np.array([7.37646, 4.600155]) * 10**6\n",
    "Tc = np.array([304.2, 190.6])\n",
    "w = np.array([0.225, 0.008])\n",
    "z = np.array([0.15, 0.85])\n",
    "dij = np.array([[0, 0.025], [0.025, 0]])\n",
    "R = 8.314"
   ]
  },
  {
   "cell_type": "code",
   "execution_count": 7,
   "id": "b5f083cc",
   "metadata": {},
   "outputs": [],
   "source": [
    "P = 20 * 10**5\n",
    "T = 40 + 273.15"
   ]
  },
  {
   "cell_type": "code",
   "execution_count": 8,
   "id": "777bbbdc",
   "metadata": {
    "tags": [
     "hide-input"
    ]
   },
   "outputs": [],
   "source": [
    "class mix_rules_pr_srk(core):\n",
    "    def __init__(self, Pc, Tc, w, n=1, dij=None, eos='PR'):\n",
    "        self.select_eos(eos, w)\n",
    "        self.Pc = Pc\n",
    "        self.Tc = Tc\n",
    "        self.n = n\n",
    "        self.dij = dij\n",
    "        self.ai = self.omegaa * (R * Tc)**2 / Pc\n",
    "        self.bi = self.omegab * R * Tc / Pc\n",
    "        pass\n",
    "\n",
    "    def select_eos(self, eos, w):\n",
    "        if eos == 'PR':\n",
    "            self.c = 1\n",
    "            self.omegaa = 0.45724\n",
    "            self.omegab = 0.07780\n",
    "            self.delta1 = 1 - 2**0.5\n",
    "            self.delta2 = 1 + 2**0.5\n",
    "            self.kappa = np.where(w <= 0.491, 0.37464 + 1.54226 * w - 0.26992 * w**2, 0.379642 + 1.48503 * w - 0.164423 * w**2 + 0.016666 * w**3)\n",
    "        elif eos == 'SRK':\n",
    "            self.c = 0\n",
    "            self.omegaa = 0.42748\n",
    "            self.omegab = 0.08664\n",
    "            self.delta1 = 0\n",
    "            self.delta2 = 1\n",
    "            self.kappa = 0.48508 + 1.55171 * w - 0.15613 * w**2\n",
    "#             self.kappa = 0.48 + 1.574 * w - 0.176 * w**2\n",
    "        pass\n",
    "\n",
    "    def calc_mix_params(self, T, z, calc_der=False):\n",
    "        self.alphai = self.ai * (1 + self.kappa * (1 - (T / self.Tc)**0.5))**2\n",
    "        self.alphaij = np.outer(self.alphai, self.alphai)**0.5\n",
    "        if self.dij is not None:\n",
    "            self.alphaij = self.alphaij * (1 - self.dij)\n",
    "        self.alpham = np.sum(np.outer(z, z) * self.alphaij)\n",
    "        self.bm = np.sum(z * self.bi)\n",
    "        if calc_der:\n",
    "            self.dalphamdn = 2 * (np.sum(self.alphaij * self.repeat(self.z, 0), 1) - self.alpham) / self.n\n",
    "            self.damdn = (self.bi - self.bm) / self.n\n",
    "        return self"
   ]
  },
  {
   "cell_type": "code",
   "execution_count": 9,
   "id": "bb4ad7bf",
   "metadata": {
    "tags": [
     "hide-input"
    ]
   },
   "outputs": [],
   "source": [
    "class eos_pr_srk(core):\n",
    "    def __init__(self, mr, z, T, P=None, v=None):\n",
    "        self.mr = mr.calc_mix_params(T, z)\n",
    "        self.z = z\n",
    "        self.T = T\n",
    "        if v is not None:\n",
    "            self.v = v\n",
    "            self.Z = self.calc_Z_V()\n",
    "            self.P = self.Z * R * T / v\n",
    "            self.lnphi = self.calc_fug_coef_V()\n",
    "        elif P is not None:\n",
    "            self.P = P\n",
    "            self.A = mr.alpham * P / (R**2 * T**2)\n",
    "            self.B = mr.bm * P / (R * T)\n",
    "            self.Z = self.calc_Z_P()\n",
    "            self.v = self.Z * R * T / P\n",
    "            self.lnphi = self.calc_fug_coef_P()\n",
    "        self.lnf = self.lnphi + np.log(z * self.P)\n",
    "        pass\n",
    "\n",
    "    def calc_Z_V(self):\n",
    "        return self.v / (self.v - self.mr.bm) - self.mr.alpham * self.v / (R * self.T * \\\n",
    "               (self.v**2 + (self.mr.c + 1) * self.mr.bm * self.v - self.mr.c * self.mr.bm**2))\n",
    "\n",
    "    def calc_Z_P(self):\n",
    "        Zs = self.calc_cardano(-(1 - self.mr.c * self.B), self.A - (self.mr.c + 1) * self.B - (2 * self.mr.c + 1) * self.B**2,\n",
    "                               -(self.A * self.B - self.mr.c * (self.B**2 + self.B**3)))\n",
    "        Z = Zs[0]\n",
    "        if len(Zs) > 1:\n",
    "            for i in range(1, 3):\n",
    "                if self.calc_dG(Z, Zs[i]) > 0:\n",
    "                    Z = Zs[i]\n",
    "        return Z\n",
    "\n",
    "    def calc_fug_coef_V(self):\n",
    "        return -np.log((self.v - self.mr.bm) / self.v) + self.mr.bi * (1 / (self.v - self.mr.bm) - \\\n",
    "               self.mr.alpham * self.v / (R * self.T * self.mr.bm * (self.v + self.mr.bm * self.mr.delta1) * \\\n",
    "               (self.v + self.mr.bm * self.mr.delta2))) + (2 * np.sum(self.mr.alphaij * self.repeat(self.z, 0), 1) / \\\n",
    "               self.mr.bm - self.mr.alpham * self.mr.bi / self.mr.bm**2) * np.log((self.v + self.mr.bm * self.mr.delta1) / \\\n",
    "               (self.v + self.mr.bm * self.mr.delta2)) / (R * self.T * (self.mr.delta2 - self.mr.delta1)) - np.log(self.Z)\n",
    "\n",
    "    def calc_fug_coef_P(self):\n",
    "        return -np.log(self.Z - self.B) + self.mr.bi * (self.Z - 1) / self.mr.bm + \\\n",
    "               self.A * (2 * np.sum(self.mr.alphaij * self.repeat(self.z, 0), 1) / self.mr.alpham - self.mr.bi / self.mr.bm) * \\\n",
    "               np.log((self.Z + self.B * self.mr.delta1) / (self.Z + self.B * self.mr.delta2)) / \\\n",
    "               (self.B * (self.mr.delta2 - self.mr.delta1))\n",
    "\n",
    "    def calc_dG(self, Z1, Z2):\n",
    "        return - np.log((Z1 - self.B) / (Z2 - self.B)) + (Z1 - Z2) + \\\n",
    "               self.A * np.log(((Z1 + self.B * self.mr.delta1) * (Z2 + self.B * self.mr.delta2)) / \\\n",
    "                               ((Z1 + self.B * self.mr.delta2) * (Z2 + self.B * self.mr.delta1))) / \\\n",
    "               (self.B * (self.mr.delta2 - self.mr.delta1))"
   ]
  },
  {
   "cell_type": "markdown",
   "id": "b7bf5ca9",
   "metadata": {},
   "source": [
    "Коэффициент сверхсжимаемости с использованием уравнения состояния Пенга-Робинсона:"
   ]
  },
  {
   "cell_type": "code",
   "execution_count": 10,
   "id": "56293b36",
   "metadata": {},
   "outputs": [],
   "source": [
    "mr = mix_rules_pr_srk(Pc, Tc, w, dij=dij)"
   ]
  },
  {
   "cell_type": "code",
   "execution_count": 11,
   "id": "1a33ba39",
   "metadata": {},
   "outputs": [
    {
     "data": {
      "text/plain": [
       "0.95664092481843"
      ]
     },
     "execution_count": 11,
     "metadata": {},
     "output_type": "execute_result"
    }
   ],
   "source": [
    "eos = eos_pr_srk(mr, z, T=T, P=P)\n",
    "eos.Z"
   ]
  },
  {
   "cell_type": "code",
   "execution_count": 12,
   "id": "73da09d7",
   "metadata": {},
   "outputs": [
    {
     "data": {
      "text/plain": [
       "0.95664092481843"
      ]
     },
     "execution_count": 12,
     "metadata": {},
     "output_type": "execute_result"
    }
   ],
   "source": [
    "eosv = eos_pr_srk(mr, z, T=T, v=eos.v)\n",
    "eosv.Z"
   ]
  },
  {
   "cell_type": "markdown",
   "id": "5b6818e2",
   "metadata": {},
   "source": [
    "Логарифм летучести компонентов с использованием уравнения состояния Пенга-Робинсона:"
   ]
  },
  {
   "cell_type": "code",
   "execution_count": 13,
   "id": "8a547a65",
   "metadata": {},
   "outputs": [
    {
     "data": {
      "text/plain": [
       "array([-0.08472805, -0.03680646])"
      ]
     },
     "execution_count": 13,
     "metadata": {},
     "output_type": "execute_result"
    }
   ],
   "source": [
    "eos.lnphi"
   ]
  },
  {
   "cell_type": "code",
   "execution_count": 14,
   "id": "bdc32a7e",
   "metadata": {},
   "outputs": [
    {
     "data": {
      "text/plain": [
       "array([12.5268097 , 14.30933234])"
      ]
     },
     "execution_count": 14,
     "metadata": {},
     "output_type": "execute_result"
    }
   ],
   "source": [
    "eosv.lnf"
   ]
  },
  {
   "cell_type": "markdown",
   "id": "03106c71",
   "metadata": {},
   "source": [
    "Коэффициент сверхсжимаемости с использованием уравнения состояния Суаве-Редлиха-Квонга:"
   ]
  },
  {
   "cell_type": "code",
   "execution_count": 15,
   "id": "f933f6eb",
   "metadata": {},
   "outputs": [],
   "source": [
    "mr = mix_rules_pr_srk(Pc, Tc, w, dij=dij, eos='SRK')"
   ]
  },
  {
   "cell_type": "code",
   "execution_count": 16,
   "id": "97807fe0",
   "metadata": {},
   "outputs": [
    {
     "data": {
      "text/plain": [
       "0.9661486475587837"
      ]
     },
     "execution_count": 16,
     "metadata": {},
     "output_type": "execute_result"
    }
   ],
   "source": [
    "eos = eos_pr_srk(mr, z, T=T, P=P)\n",
    "eos.Z"
   ]
  },
  {
   "cell_type": "code",
   "execution_count": 17,
   "id": "766826d5",
   "metadata": {},
   "outputs": [
    {
     "data": {
      "text/plain": [
       "0.9661486475587837"
      ]
     },
     "execution_count": 17,
     "metadata": {},
     "output_type": "execute_result"
    }
   ],
   "source": [
    "eosv = eos_pr_srk(mr, z, T=T, v=eos.v)\n",
    "eosv.Z"
   ]
  },
  {
   "cell_type": "markdown",
   "id": "4cc2f165",
   "metadata": {},
   "source": [
    "Логарифм летучести компонентов с использованием уравнения состояния Суаве-Редлиха-Квонга:"
   ]
  },
  {
   "cell_type": "code",
   "execution_count": 18,
   "id": "f9f6cf2d",
   "metadata": {},
   "outputs": [
    {
     "data": {
      "text/plain": [
       "array([12.537104  , 14.31899252])"
      ]
     },
     "execution_count": 18,
     "metadata": {},
     "output_type": "execute_result"
    }
   ],
   "source": [
    "eos.lnf"
   ]
  },
  {
   "cell_type": "code",
   "execution_count": 19,
   "id": "cc65cc72",
   "metadata": {},
   "outputs": [
    {
     "data": {
      "text/plain": [
       "array([12.537104  , 14.31899252])"
      ]
     },
     "execution_count": 19,
     "metadata": {},
     "output_type": "execute_result"
    }
   ],
   "source": [
    "eosv.lnf"
   ]
  }
 ],
 "metadata": {
  "jupytext": {
   "text_representation": {
    "extension": ".md",
    "format_name": "myst",
    "format_version": 0.13,
    "jupytext_version": "1.10.3"
   }
  },
  "kernelspec": {
   "display_name": "Python 3 (ipykernel)",
   "language": "python",
   "name": "python3"
  },
  "language_info": {
   "codemirror_mode": {
    "name": "ipython",
    "version": 3
   },
   "file_extension": ".py",
   "mimetype": "text/x-python",
   "name": "python",
   "nbconvert_exporter": "python",
   "pygments_lexer": "ipython3",
   "version": "3.7.13"
  },
  "source_map": [
   12,
   41,
   125,
   142,
   148,
   161,
   167,
   199,
   232,
   239,
   246,
   250,
   257,
   269,
   273,
   277,
   281,
   297,
   339,
   343,
   352,
   357,
   402,
   457,
   461,
   465,
   470,
   473,
   477,
   481,
   483,
   487,
   491,
   496,
   499,
   503,
   507
  ]
 },
 "nbformat": 4,
 "nbformat_minor": 5
}