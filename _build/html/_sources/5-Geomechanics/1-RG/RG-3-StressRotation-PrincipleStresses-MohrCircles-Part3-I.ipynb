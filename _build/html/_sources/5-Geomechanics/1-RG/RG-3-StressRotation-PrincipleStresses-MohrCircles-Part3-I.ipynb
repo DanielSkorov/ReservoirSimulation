{
 "cells": [
  {
   "cell_type": "markdown",
   "id": "88f6937f",
   "metadata": {},
   "source": [
    "```{admonition} Внимание!\n",
    ":class: warning\n",
    "Данная страница является интерактивной копией [страницы](RG-3-StressRotation-PrincipleStresses-MohrCircles-Part3.md). Интерактивность осуществляется путем инициализации [Binder](https://mybinder.org/) через [Thebe](https://github.com/executablebooks/thebe).\n",
    "```\n",
    "\n",
    "<a id='geomech-rg-stress_rotation-3-i'></a>\n",
    "# Базис тензора напряжений. Главные напряжения. Круги Мора. Часть 3\n",
    "\n",
    "```{admonition} Важно!\n",
    ":class: important\n",
    "Для начала работы с данной страницей необходимо инициализировать кернель путем нажатия на кнопку `Activate`, расположенную ниже, и дождаться появления надписи \"STATUS: <span style=\"color:green\">READY</span>\". После этого Вы можете проверить работу кернеля, нажав на кнопку `run`, расположенную под кодом `print(\"Hello World!\")`. Иногда инициализация кернеля может пройти неудачно, что будет сопровождаться надписью \"STATUS: <span style=\"color:red\">FAILED</span>\" или \"STATUS: <span style=\"color:grey\">WAITING</span>\". Чаще всего это связано с перегрузкой сервера [Binder](https://mybinder.org/).\n",
    "```\n",
    "\n",
    "<link rel=\"stylesheet\" href=\"https://cdnjs.cloudflare.com/ajax/libs/font-awesome/4.7.0/css/font-awesome.css\" integrity=\"sha512-5A8nwdMOWrSz20fDsjczgUidUBR8liPYU+WymTZP1lmY9G6Oc7HlZv156XqnsgNUzTyMefFTcsFH/tnJE/+xBg==\" crossorigin=\"anonymous\" />\n",
    "\n",
    "<script src=\"https://cdnjs.cloudflare.com/ajax/libs/require.js/2.3.4/require.min.js\"></script>\n",
    "\n",
    "<script src=\"https://unpkg.com/thebe@latest/lib/index.js\"></script>\n",
    "\n",
    "<script type=\"text/x-thebe-config\">\n",
    "  {\n",
    "      requestKernel: true,\n",
    "      mountActivateWidget: true,\n",
    "      mountStatusWidget: true,\n",
    "      binderOptions: {\n",
    "      repo: \"https://github.com/DanielSkorov/Basics-of-Modelling\",\n",
    "      ref: \"main\",\n",
    "    },\n",
    "  }\n",
    "</script>\n",
    "\n",
    "<div class=\"thebe-activate\"></div>\n",
    "\n",
    "<div class=\"thebe-status\"></div>\n",
    "\n",
    "<pre data-executable=\"true\" data-readonly data-language=\"python\">print(\"Hello World!\")</pre>"
   ]
  },
  {
   "cell_type": "markdown",
   "id": "155a91a2",
   "metadata": {},
   "source": [
    "```{admonition} Важно!\n",
    ":class: important\n",
    "После инициализации и проверки кернеля под каждой ячейкой необходимо нажать кнопку `run` для ее запуска и отображения интерактивной диаграммы.\n",
    "```"
   ]
  },
  {
   "cell_type": "code",
   "execution_count": 1,
   "id": "8fdc7988",
   "metadata": {
    "tags": [
     "hide-input"
    ]
   },
   "outputs": [],
   "source": [
    "import sympy as smp"
   ]
  },
  {
   "cell_type": "markdown",
   "id": "555b5e98",
   "metadata": {},
   "source": [
    "<!-- ```{code-cell} ipython3\n",
    ":tags: [hide-input]\n",
    "\n",
    "import numpy as np\n",
    "import matplotlib as mpl\n",
    "from ipywidgets import interact, widgets\n",
    "from matplotlib import pyplot as plt\n",
    "from mpl_toolkits.mplot3d.art3d import Poly3DCollection, Text3D\n",
    "%matplotlib widget\n",
    "import sys\n",
    "sys.path.append('../../SupportCode/')\n",
    "from Graphics import cube_plane, Arrow3D\n",
    "``` -->\n",
    "\n",
    "<pre data-executable=\"true\" data-readonly data-language=\"python\">\n",
    "import numpy as np\n",
    "import matplotlib as mpl\n",
    "from ipywidgets import interact, widgets\n",
    "from matplotlib import pyplot as plt\n",
    "from mpl_toolkits.mplot3d.art3d import Poly3DCollection, Text3D\n",
    "%matplotlib widget\n",
    "import sys\n",
    "sys.path.append('./SupportCode/')\n",
    "from Graphics import cube_plane, Arrow3D\n",
    "</pre>"
   ]
  },
  {
   "cell_type": "markdown",
   "id": "687a57a5",
   "metadata": {},
   "source": [
    "Другим подходом к изображению напряженного состояния в точке (по аналогии с 2D задачей) является построение кругов Мора. Представим, что имеется элементарный куб, который рассекается некоторой плоскостью. Отсеченная часть отбрасывается, а оставшаяся уравновешивается вектором напряжения, действующим на площадь сечения. Данный вектор напряжения имеет нормальную и касательую составляющие. Поскольку рассечь элементарный объем можно под любыми углами, то совокупность векторов напряжения, действующих на площадь сечения, характеризует напряженное состояние в данной точке. Рассмотрим вывод уравнений, описывающих круги Мора для трехмерного случая."
   ]
  },
  {
   "cell_type": "markdown",
   "id": "1d8be7b5",
   "metadata": {},
   "source": [
    "При рассмотрении тем [собственных векторов матриц](../../0-Math/1-LAB/LAB-7-Eigenvalues-Eigenvectors.md) и их [линейных преобразований](../../0-Math/1-LAB/LAB-8-LinearTransformations.md) было показано, что любая квадратная матрица может быть представлена в диагонализированном виде при ее линейном преобразовании из стандартного базиса в базис, построенный на собственных векторах матрицы. Следовательно, трехмерный тензор напряжений также может быть диагонализирован. Рассмотрим пример. Пусть имеется тензор напряжений:"
   ]
  },
  {
   "cell_type": "markdown",
   "id": "7e0a2083",
   "metadata": {},
   "source": [
    "$$S = \\begin{bmatrix}2 & 1 & 0 \\\\ 1 & 3 & -2 \\\\ 0 & -2 & 1 \\end{bmatrix}$$"
   ]
  },
  {
   "cell_type": "markdown",
   "id": "dde6ab8b",
   "metadata": {},
   "source": [
    "Найдем его собственные векторы и преобразуем к диагональному виду:"
   ]
  },
  {
   "cell_type": "markdown",
   "id": "86795acc",
   "metadata": {},
   "source": [
    "<!-- ```{code-cell} ipython3\n",
    "S = np.array([[2, 1, 0], [1, 3, -2], [0, -2, 1]])\n",
    "Lambda, C_inv = np.linalg.eig(S)\n",
    "C = np.linalg.inv(C_inv)\n",
    "Sp = C.dot(S).dot(C_inv)\n",
    "Sp\n",
    "``` -->\n",
    "\n",
    "<pre data-executable=\"true\" data-readonly data-language=\"python\">\n",
    "S = np.array([[2, 1, 0], [1, 3, -2], [0, -2, 1]])\n",
    "Lambda, C_inv = np.linalg.eig(S)\n",
    "C = np.linalg.inv(C_inv)\n",
    "Sp = C.dot(S).dot(C_inv)\n",
    "Sp\n",
    "</pre>"
   ]
  },
  {
   "cell_type": "markdown",
   "id": "8eff7a3b",
   "metadata": {},
   "source": [
    "Полученные напряжения называются главными и записываются в виде следующей матрицы:"
   ]
  },
  {
   "cell_type": "markdown",
   "id": "d357bd10",
   "metadata": {},
   "source": [
    "$$S_p = \\begin{bmatrix} \\sigma_1 & 0 & 0 \\\\ 0 & \\sigma_2 & 0 \\\\ 0 & 0 & \\sigma_3 \\end{bmatrix}$$"
   ]
  },
  {
   "cell_type": "markdown",
   "id": "d1ff6173",
   "metadata": {},
   "source": [
    "При этом, для главных напряжений выполняется сдедующее неравенство:"
   ]
  },
  {
   "cell_type": "markdown",
   "id": "276f65d9",
   "metadata": {},
   "source": [
    "$$\\sigma_1 > \\sigma_2 > \\sigma_3$$"
   ]
  },
  {
   "cell_type": "markdown",
   "id": "a4cbe162",
   "metadata": {},
   "source": [
    "<!-- ```{code-cell} ipython3\n",
    "s1, s2, s3 = Sp.diagonal()\n",
    "``` -->\n",
    "\n",
    "<pre data-executable=\"true\" data-readonly data-language=\"python\">\n",
    "s1, s2, s3 = Sp.diagonal()\n",
    "</pre>"
   ]
  },
  {
   "cell_type": "markdown",
   "id": "1e944cba",
   "metadata": {},
   "source": [
    "Пусть матрица $C^{-1}$ составлена из координат собственных векторов тензора напряжений, которые называются главными направляющими векторами:"
   ]
  },
  {
   "cell_type": "markdown",
   "id": "3a1762c9",
   "metadata": {},
   "source": [
    "$$C^{-1} = \\begin{bmatrix} \\vert & \\vert &  \\\\ \\vec{v_1} & \\vec{v_2} & \\ldots \\\\ \\vert & \\vert &  \\end{bmatrix}$$"
   ]
  },
  {
   "cell_type": "markdown",
   "id": "67badf1e",
   "metadata": {},
   "source": [
    "<!-- ```{code-cell} ipython3\n",
    "v1, v2, v3 = C_inv.T\n",
    "``` -->\n",
    "\n",
    "<pre data-executable=\"true\" data-readonly data-language=\"python\">\n",
    "v1, v2, v3 = C_inv.T\n",
    "</pre>"
   ]
  },
  {
   "cell_type": "markdown",
   "id": "8477245f",
   "metadata": {},
   "source": [
    "Векторы $\\vec{v_1}, \\vec{v_2}, \\vec{v_3}$ являются единичными взаимоперпендикулярными и образуют новый базис, в котором рассматриваемое напряженное состояние в точке представлено исключительно нормальными напряжениями."
   ]
  },
  {
   "cell_type": "markdown",
   "id": "c18cf20f",
   "metadata": {},
   "source": [
    "<!-- ```{code-cell} ipython3\n",
    "np.inner(v1, v2), np.inner(v2, v3), np.inner(v3, v1)\n",
    "``` -->\n",
    "\n",
    "<pre data-executable=\"true\" data-readonly data-language=\"python\">\n",
    "np.inner(v1, v2), np.inner(v2, v3), np.inner(v3, v1)\n",
    "</pre>"
   ]
  },
  {
   "cell_type": "markdown",
   "id": "a1b81c6f",
   "metadata": {},
   "source": [
    "<!-- ```{code-cell} ipython3\n",
    "v1[0]**2 + v1[1]**2 + v1[2]**2, v2[0]**2 + v2[1]**2 + v2[2]**2, v3[0]**2 + v3[1]**2 + v3[2]**2\n",
    "``` -->\n",
    "\n",
    "<pre data-executable=\"true\" data-readonly data-language=\"python\">\n",
    "v1[0]**2 + v1[1]**2 + v1[2]**2, v2[0]**2 + v2[1]**2 + v2[2]**2, v3[0]**2 + v3[1]**2 + v3[2]**2\n",
    "</pre>"
   ]
  },
  {
   "cell_type": "markdown",
   "id": "912aa4cd",
   "metadata": {},
   "source": [
    "Рассмотрим элементарный объем тела относительно базиса, представленного собственными векторами тензора напряжений. На данный элементарный объем действуют только нормальные напряжения. Рассечем данный объем плоскостью, нормаль к которой имеет координаты:"
   ]
  },
  {
   "cell_type": "markdown",
   "id": "7a1d7e9b",
   "metadata": {},
   "source": [
    "$$\\vec{n} = \\begin{bmatrix} n_1 \\\\ n_2 \\\\ n_3 \\end{bmatrix}.$$"
   ]
  },
  {
   "cell_type": "markdown",
   "id": "2744e520",
   "metadata": {},
   "source": [
    "При этом, вектор нормали является единичным вектором, то есть:"
   ]
  },
  {
   "cell_type": "markdown",
   "id": "6cecf51e",
   "metadata": {},
   "source": [
    "$$n_1^2 + n_2^2 + n_3^2 = 1.$$"
   ]
  },
  {
   "cell_type": "markdown",
   "id": "175ca290",
   "metadata": {},
   "source": [
    "<!-- ```{code-cell} ipython3\n",
    ":tags: [hide-input]\n",
    "\n",
    "fig = plt.figure(figsize=(8, 4))\n",
    "fig.canvas.header_visible = False\n",
    "\n",
    "ax = fig.add_subplot(1, 1, 1, projection='3d')\n",
    "cube = cube_plane(1, 1, 1, alpha=0.1, linewidths=0.4, equal_scale=True)\n",
    "n = np.array([1/np.sqrt(3), 1/np.sqrt(3), 1/np.sqrt(3)])\n",
    "ax.add_collection3d(cube.cube_collection())\n",
    "ax.add_collection3d(cube.inter_collection(normal=n))\n",
    "ax.set_xlim(cube.xlim)\n",
    "ax.set_ylim(cube.ylim)\n",
    "ax.set_zlim(cube.zlim)\n",
    "ax.add_artist(Arrow3D(*zip([0, 0, 0], n), color='r', lw=1))\n",
    "ax.text(*n, '$\\overrightarrow{n}$', c='r')\n",
    "T = Sp.dot(n.T)\n",
    "ax.add_artist(Arrow3D(*zip([0, 0, 0], T), color='k', lw=1))\n",
    "ax.text(*T, '$\\overrightarrow{T}$', c='k')\n",
    "Tn = T.dot(n.T) * n\n",
    "ax.add_artist(Arrow3D(*zip([0, 0, 0], Tn), color='g', lw=1))\n",
    "ax.text(*Tn, '$\\overrightarrow{T_n}$', c='g')\n",
    "Ts = T - Tn\n",
    "ax.add_artist(Arrow3D(*zip([0, 0, 0], Ts), color='c', lw=1))\n",
    "s = Ts / np.linalg.norm(Ts)\n",
    "ax.text(*Ts, '$\\overrightarrow{T_s}$', c='c')\n",
    "ax.add_artist(Arrow3D([0.5, 0.5+s1], [0, 0], [0, 0], color='b', lw=1))\n",
    "ax.add_artist(Arrow3D([0, 0], [0.5, 0.5+s2], [0, 0], color='b', lw=1))\n",
    "ax.add_artist(Arrow3D([0, 0], [0, 0], [0.5, 0.5+s3], color='b', lw=1))\n",
    "ax.text(0.5+s1, 0, 0, '$\\sigma_{1}$')\n",
    "ax.text(0, 0.5+s2, 0, '$\\sigma_{2}$')\n",
    "ax.text(0, 0, 0.5+s3, '$\\sigma_{3}$')\n",
    "ax.set_xticks([])\n",
    "ax.set_yticks([])\n",
    "ax.set_zticks([])\n",
    "\n",
    "fig.tight_layout()\n",
    "``` -->\n",
    "\n",
    "<pre data-executable=\"true\" data-readonly data-language=\"python\">\n",
    "fig = plt.figure(figsize=(8, 4))\n",
    "fig.canvas.header_visible = False\n",
    "\n",
    "ax = fig.add_subplot(1, 1, 1, projection='3d')\n",
    "cube = cube_plane(1, 1, 1, alpha=0.1, linewidths=0.4, equal_scale=True)\n",
    "n = np.array([1/np.sqrt(3), 1/np.sqrt(3), 1/np.sqrt(3)])\n",
    "ax.add_collection3d(cube.cube_collection())\n",
    "ax.add_collection3d(cube.inter_collection(normal=n))\n",
    "ax.set_xlim(cube.xlim)\n",
    "ax.set_ylim(cube.ylim)\n",
    "ax.set_zlim(cube.zlim)\n",
    "ax.add_artist(Arrow3D(*zip([0, 0, 0], n), color='r', lw=1))\n",
    "ax.text(*n, '$\\overrightarrow{n}$', c='r')\n",
    "T = Sp.dot(n.T)\n",
    "ax.add_artist(Arrow3D(*zip([0, 0, 0], T), color='k', lw=1))\n",
    "ax.text(*T, '$\\overrightarrow{T}$', c='k')\n",
    "Tn = T.dot(n.T) * n\n",
    "ax.add_artist(Arrow3D(*zip([0, 0, 0], Tn), color='g', lw=1))\n",
    "ax.text(*Tn, '$\\overrightarrow{T_n}$', c='g')\n",
    "Ts = T - Tn\n",
    "ax.add_artist(Arrow3D(*zip([0, 0, 0], Ts), color='c', lw=1))\n",
    "s = Ts / np.linalg.norm(Ts)\n",
    "ax.text(*Ts, '$\\overrightarrow{T_s}$', c='c')\n",
    "ax.add_artist(Arrow3D([0.5, 0.5+s1], [0, 0], [0, 0], color='b', lw=1))\n",
    "ax.add_artist(Arrow3D([0, 0], [0.5, 0.5+s2], [0, 0], color='b', lw=1))\n",
    "ax.add_artist(Arrow3D([0, 0], [0, 0], [0.5, 0.5+s3], color='b', lw=1))\n",
    "ax.text(0.5+s1, 0, 0, '$\\sigma_{1}$')\n",
    "ax.text(0, 0.5+s2, 0, '$\\sigma_{2}$')\n",
    "ax.text(0, 0, 0.5+s3, '$\\sigma_{3}$')\n",
    "ax.set_xticks([])\n",
    "ax.set_yticks([])\n",
    "ax.set_zticks([])\n",
    "\n",
    "fig.tight_layout()\n",
    "</pre>"
   ]
  },
  {
   "cell_type": "markdown",
   "id": "06ce4cb8",
   "metadata": {},
   "source": [
    "Вектор напряжения, действующий на данную площадку:"
   ]
  },
  {
   "cell_type": "markdown",
   "id": "fad40486",
   "metadata": {},
   "source": [
    "$$\\vec{T} = S_p \\cdot \\vec{n} = \\begin{bmatrix} \\sigma_1 & 0 & 0 \\\\ 0 & \\sigma_2 & 0 \\\\ 0 & 0 & \\sigma_3 \\end{bmatrix} \\cdot \\begin{bmatrix} n_1 \\\\ n_2 \\\\ n_3 \\end{bmatrix} = \\begin{bmatrix} \\sigma_1 \\cdot n_1 \\\\ \\sigma_2 \\cdot n_2 \\\\ \\sigma_3 \\cdot n_3 \\end{bmatrix}$$"
   ]
  },
  {
   "cell_type": "markdown",
   "id": "89271ff0",
   "metadata": {},
   "source": [
    "Нормальная составляющая вектора напряжения (коллинеарная с нормалью):"
   ]
  },
  {
   "cell_type": "markdown",
   "id": "f37049cd",
   "metadata": {},
   "source": [
    " $$T_n = \\vec{T} \\cdot \\vec{n} = S_p \\cdot \\vec{n} \\cdot \\vec{n} = \\sigma_1 \\cdot n^2_1 + \\sigma_2 \\cdot n^2_2 + \\sigma_3 \\cdot n^2_3$$"
   ]
  },
  {
   "cell_type": "markdown",
   "id": "65a197be",
   "metadata": {},
   "source": [
    "Скалярный квадрат вектора напряжения:"
   ]
  },
  {
   "cell_type": "markdown",
   "id": "c7c4be2d",
   "metadata": {},
   "source": [
    " $$\\vec{T}^2 = \\vec{T_n}^2 + \\vec{T_s}^2 = {\\left(\\sigma_1 \\cdot n_1 \\right)}^2 + {\\left(\\sigma_2 \\cdot n_2 \\right)}^2 + {\\left(\\sigma_3 \\cdot n_3 \\right)}^2$$"
   ]
  },
  {
   "cell_type": "markdown",
   "id": "6f51741e",
   "metadata": {},
   "source": [
    "Последнее равенство получается следующим образом:"
   ]
  },
  {
   "cell_type": "markdown",
   "id": "c1d27de8",
   "metadata": {},
   "source": [
    "$$\\vec{T}^2 = \\vec{T} \\cdot \\vec{T} = \\left(\\vec{T_n} + \\vec{T_s} \\right) \\cdot \\left(\\vec{T_n} + \\vec{T_s} \\right) = \\vec{T_n}^2 + 2 \\cdot \\vec{T_n} \\cdot \\vec{T_s} + \\vec{T_s}^2 = \\vec{T_n}^2 + \\vec{T_s}^2$$"
   ]
  },
  {
   "cell_type": "markdown",
   "id": "1ce48e91",
   "metadata": {},
   "source": [
    "Таким образом, имеется система уравнений (в матричном виде):"
   ]
  },
  {
   "cell_type": "markdown",
   "id": "8e8b9d6a",
   "metadata": {},
   "source": [
    "$$\\begin{bmatrix} 1 & 1 & 1 \\\\ \\sigma_1 & \\sigma_2 & \\sigma_3 \\\\ \\sigma_1^2 & \\sigma_2^2 & \\sigma_3^2 \\end{bmatrix} \\cdot \\begin{bmatrix} n_1^2 \\\\ n_2^2 \\\\ n_3^2 \\end{bmatrix} = \\begin{bmatrix} 1 \\\\ T_n \\\\ \\vec{T_n}^2 + \\vec{T_s}^2 \\end{bmatrix}$$"
   ]
  },
  {
   "cell_type": "markdown",
   "id": "0bb700fb",
   "metadata": {},
   "source": [
    "Решением данной системы уравнений относительно $n_1^2, n_2^2, n_3^2$ является:"
   ]
  },
  {
   "cell_type": "code",
   "execution_count": 2,
   "id": "0d026a20",
   "metadata": {},
   "outputs": [
    {
     "data": {
      "text/plain": [
       "{n1**2: (Tn**2 - Tn*c2 - Tn*c3 + Ts**2 + c2*c3)/(c1**2 - c1*c2 - c1*c3 + c2*c3),\n",
       " n2**2: (-Tn**2 + Tn*c1 + Tn*c3 - Ts**2 - c1*c3)/(c1*c2 - c1*c3 - c2**2 + c2*c3),\n",
       " n3**2: (Tn**2 - Tn*c1 - Tn*c2 + Ts**2 + c1*c2)/(c1*c2 - c1*c3 - c2*c3 + c3**2)}"
      ]
     },
     "execution_count": 2,
     "metadata": {},
     "output_type": "execute_result"
    }
   ],
   "source": [
    "c1, c2, c3, n1, n2, n3, Tn, Ts = smp.symbols('c1, c2, c3, n1, n2, n3, Tn, Ts')\n",
    "smp.solve([n1**2 + n2**2 + n3**2 - 1,\n",
    "           c1 * n1**2 + c2 * n2**2 + c3 * n3**2 - Tn,\n",
    "           c1**2 * n1**2 + c2**2 * n2**2 + c3**2 * n3**2 - Tn**2 - Ts**2],\n",
    "          (n1**2, n2**2, n3**2))"
   ]
  },
  {
   "cell_type": "markdown",
   "id": "8d6a25f1",
   "metadata": {},
   "source": [
    "Перепишем полученное решение следующим образом:"
   ]
  },
  {
   "cell_type": "markdown",
   "id": "580a1cf0",
   "metadata": {},
   "source": [
    "$$n_1^2 = \\frac{\\vec{T_s}^2 + \\left(T_n - \\sigma_2 \\right) \\cdot \\left(T_n - \\sigma_3 \\right)}{\\left(\\sigma_1 - \\sigma_2 \\right) \\cdot \\left(\\sigma_1 - \\sigma_3 \\right)} \\geq 0 \\\\ n_2^2 = \\frac{\\vec{T_s}^2 + \\left(T_n - \\sigma_1 \\right) \\cdot \\left(T_n - \\sigma_3 \\right)}{\\left(\\sigma_2 - \\sigma_1 \\right) \\cdot \\left(\\sigma_2 - \\sigma_3 \\right)} \\geq 0 \\\\ n_3^2 = \\frac{\\vec{T_s}^2 + \\left(T_n - \\sigma_1 \\right) \\cdot \\left(T_n - \\sigma_2 \\right)}{\\left(\\sigma_3 - \\sigma_1 \\right) \\cdot \\left(\\sigma_3 - \\sigma_2 \\right)} \\geq 0$$"
   ]
  },
  {
   "cell_type": "markdown",
   "id": "a8b208b4",
   "metadata": {},
   "source": [
    "С учетом соотношения главных напряжений, получим:"
   ]
  },
  {
   "cell_type": "markdown",
   "id": "dec737d8",
   "metadata": {},
   "source": [
    "$$\\vec{T_s}^2 + \\left(T_n - \\sigma_2 \\right) \\cdot \\left(T_n - \\sigma_3 \\right) \\geq 0 \\\\ \\vec{T_s}^2 + \\left(T_n - \\sigma_1 \\right) \\cdot \\left(T_n - \\sigma_3 \\right) \\leq 0 \\\\ \\vec{T_s}^2 + \\left(T_n - \\sigma_1 \\right) \\cdot \\left(T_n - \\sigma_2 \\right) \\geq 0$$"
   ]
  },
  {
   "cell_type": "markdown",
   "id": "2f95623c",
   "metadata": {},
   "source": [
    "Раскроем скобки в неравенствах и применим следующее преобразование:"
   ]
  },
  {
   "cell_type": "markdown",
   "id": "af739529",
   "metadata": {},
   "source": [
    "$$\\begin{alignat}{1}\n",
    "\\left(T_n - \\sigma_2 \\right) \\cdot \\left(T_n - \\sigma_3 \\right)\n",
    "&= & \\; \\left(T_n^2 - T_n \\cdot \\sigma_3 - T_n \\cdot \\sigma_2 + \\sigma_2 \\cdot \\sigma_3 \\right) \\\\\n",
    "&= & \\; T_n^2 - 2 \\cdot \\frac{1}{2} \\cdot T_n \\cdot \\left(\\sigma_2 + \\sigma_3 \\right) + \\left(\\frac{1}{2} \\cdot \\left(\\sigma_2 + \\sigma_3 \\right) \\right)^2 - \\left(\\frac{1}{2} \\cdot \\left(\\sigma_2 + \\sigma_3 \\right) \\right)^2 \\\\\n",
    "&& \\; + \\sigma_2 \\cdot \\sigma_3 \\\\\n",
    "&= & \\; \\left(T_n - \\frac{1}{2} \\cdot \\left(\\sigma_2 + \\sigma_3 \\right) \\right)^2 - \\left(\\frac{1}{2} \\cdot \\left(\\sigma_2 + \\sigma_3 \\right) \\right)^2 + \\sigma_2 \\cdot \\sigma_3 \\\\\n",
    "&= & \\; \\left(T_n - \\frac{1}{2} \\cdot \\left(\\sigma_2 + \\sigma_3 \\right) \\right)^2 - \\left(\\frac{1}{2} \\cdot \\left(\\sigma_2 - \\sigma_3 \\right) \\right)^2\n",
    "\\end{alignat} $$"
   ]
  },
  {
   "cell_type": "markdown",
   "id": "0d2971e1",
   "metadata": {},
   "source": [
    "С учетом этого получим:"
   ]
  },
  {
   "cell_type": "markdown",
   "id": "fe7cb538",
   "metadata": {},
   "source": [
    "$$\\vec{T_s}^2 + \\left(T_n - \\frac{1}{2} \\cdot \\left(\\sigma_2 + \\sigma_3 \\right) \\right)^2 \\geq \\left(\\frac{1}{2} \\cdot \\left(\\sigma_2 - \\sigma_3 \\right) \\right)^2 \\\\ \\vec{T_s}^2 + \\left(T_n - \\frac{1}{2} \\cdot \\left(\\sigma_1 + \\sigma_3 \\right) \\right)^2 \\leq \\left(\\frac{1}{2} \\cdot \\left(\\sigma_1 - \\sigma_3 \\right) \\right)^2 \\\\ \\vec{T_s}^2 + \\left(T_n - \\frac{1}{2} \\cdot \\left(\\sigma_1 + \\sigma_2 \\right) \\right)^2 \\geq \\left(\\frac{1}{2} \\cdot \\left(\\sigma_1 - \\sigma_2 \\right) \\right)^2$$"
   ]
  },
  {
   "cell_type": "markdown",
   "id": "36ecb8c6",
   "metadata": {},
   "source": [
    "Уравнение окружности имеет вид:"
   ]
  },
  {
   "cell_type": "markdown",
   "id": "5247ef6a",
   "metadata": {},
   "source": [
    "$$\\left(y - y_0 \\right)^2 + \\left(x - x_0 \\right)^2 = R^2$$"
   ]
  },
  {
   "cell_type": "markdown",
   "id": "2011732b",
   "metadata": {},
   "source": [
    "с центром в точке $\\left(x_0, y_0 \\right)$ и радиусом $R$."
   ]
  },
  {
   "cell_type": "markdown",
   "id": "013bc5af",
   "metadata": {},
   "source": [
    "Полученная система неравенств характеризует множество всевозможных точек с координатами $\\left(T_n, T_s \\right)$. Построим данные окружности для рассматриваемого примера."
   ]
  },
  {
   "cell_type": "markdown",
   "id": "dcb8087f",
   "metadata": {},
   "source": [
    "<!-- ```{code-cell} ipython3\n",
    ":tags: [hide-input]\n",
    "\n",
    "fig, ax = plt.subplots(figsize=(5, 4.5))\n",
    "fig.canvas.header_visible = False\n",
    "ax.add_patch(plt.Circle(((s1 + s2) / 2, 0), (s1 - s2) / 2, fill=False, ec='r', lw=2))\n",
    "ax.add_patch(plt.Circle(((s2 + s3) / 2, 0), (s2 - s3) / 2, fill=False, ec='b', lw=2))\n",
    "ax.add_patch(plt.Circle(((s1 + s3) / 2, 0), (s1 - s3) / 2, fill=False, ec='g', lw=2))\n",
    "ax.set_xlim(s3, s1)\n",
    "ax.set_ylim(-(s1-s3)/2, (s1-s3)/2)\n",
    "ax.set_xlabel('$T_n$')\n",
    "ax.set_ylabel('$T_s$')\n",
    "ax.grid()\n",
    "ax.scatter(T.dot(n.T), T.dot(s.T), c='k', alpha=0.3)\n",
    "ax.set_axisbelow(True)\n",
    "\n",
    "fig.tight_layout()\n",
    "``` -->\n",
    "\n",
    "<pre data-executable=\"true\" data-readonly data-language=\"python\">\n",
    "fig, ax = plt.subplots(figsize=(5, 4.5))\n",
    "fig.canvas.header_visible = False\n",
    "ax.add_patch(plt.Circle(((s1 + s2) / 2, 0), (s1 - s2) / 2, fill=False, ec='r', lw=2))\n",
    "ax.add_patch(plt.Circle(((s2 + s3) / 2, 0), (s2 - s3) / 2, fill=False, ec='b', lw=2))\n",
    "ax.add_patch(plt.Circle(((s1 + s3) / 2, 0), (s1 - s3) / 2, fill=False, ec='g', lw=2))\n",
    "ax.set_xlim(s3, s1)\n",
    "ax.set_ylim(-(s1-s3)/2, (s1-s3)/2)\n",
    "ax.set_xlabel('$T_n$')\n",
    "ax.set_ylabel('$T_s$')\n",
    "ax.grid()\n",
    "ax.scatter(T.dot(n.T), T.dot(s.T), c='k', alpha=0.3)\n",
    "ax.set_axisbelow(True)\n",
    "\n",
    "fig.tight_layout()\n",
    "</pre>"
   ]
  },
  {
   "cell_type": "markdown",
   "id": "2e1e505a",
   "metadata": {},
   "source": [
    "На рисунке выше точкой обозначены величины нормальной и касательной составляющих вектора напряжения, действующего на площадку, заданную нормалью $\\vec{n}$. Ниже представлена интерактивная диаграмма, позволяющая отобразить значения $T_n, T_s$ при любых значениях углов поворота нормали секущей плоскости."
   ]
  },
  {
   "cell_type": "markdown",
   "id": "eb29c1bf",
   "metadata": {},
   "source": [
    "<!-- ```{code-cell} ipython3\n",
    ":tags: [hide-input]\n",
    "f = plt.figure(figsize=(5, 8))\n",
    "f.canvas.header_visible = False\n",
    "S = np.array([[2, 1, 0], [1, 3, -2], [0, -2, 1]])\n",
    "[[s11, s12, s13], [s21, s22, s23], [s31, s32, s33]] = S\n",
    "ax1 = f.add_subplot(2, 1, 1, projection='3d')\n",
    "normal = np.array([1, 0, 0])\n",
    "unit_cube = cube_plane(1, 1, 1, alpha=0.1, linewidths=0.4, equal_scale=True)\n",
    "ax1.set_xlim(unit_cube.xlim)\n",
    "ax1.set_ylim(unit_cube.ylim)\n",
    "ax1.set_zlim(unit_cube.zlim)\n",
    "ax1.set_xticks([])\n",
    "ax1.set_yticks([])\n",
    "ax1.set_zticks([])\n",
    "ax1.invert_zaxis()\n",
    "ax1.invert_xaxis()\n",
    "ax1.set_xlabel('X')\n",
    "ax1.set_ylabel('Y')\n",
    "ax1.set_zlabel('Z')\n",
    "s11_arr = Arrow3D([0.5, 0.5+s11], [0, 0], [0, 0], color='k', lw=1, mutation_scale=4)\n",
    "s22_arr = Arrow3D([0, 0], [0.5, 0.5+s22], [0, 0], color='k', lw=1, mutation_scale=4)\n",
    "s33_arr = Arrow3D([0, 0], [0, 0], [0.5, 0.5+s33], color='k', lw=1, mutation_scale=4)\n",
    "s12_arr = Arrow3D([0.5, 0.5], [0, s12], [0, 0], color='k', lw=1, mutation_scale=4)\n",
    "s23_arr = Arrow3D([0, 0], [0.5, 0.5], [0, s23], color='k', lw=1, mutation_scale=4)\n",
    "s31_arr = Arrow3D([0, s31], [0, 0], [0.5, 0.5], color='k', lw=1, mutation_scale=4)\n",
    "ax2 = f.add_subplot(2, 1, 2)\n",
    "ax2.add_patch(plt.Circle(((s1 + s2) / 2, 0), (s1 - s2) / 2, fill=False, ec='r', lw=2))\n",
    "ax2.add_patch(plt.Circle(((s2 + s3) / 2, 0), (s2 - s3) / 2, fill=False, ec='b', lw=2))\n",
    "ax2.add_patch(plt.Circle(((s1 + s3) / 2, 0), (s1 - s3) / 2, fill=False, ec='g', lw=2))\n",
    "ax2.set_xlim(s3, s1)\n",
    "ax2.set_ylim(-(s1-s3)/2, (s1-s3)/2)\n",
    "ax2.set_xlabel('$T_n$')\n",
    "ax2.set_ylabel('$T_s$')\n",
    "ax2.grid()\n",
    "f.tight_layout()\n",
    "removing2 = [Text3D, Poly3DCollection, Arrow3D, mpl.collections.PathCollection]\n",
    "@interact(alpha=widgets.IntSlider(min=0, max=360, step=1, value=0), beta=widgets.IntSlider(min=0, max=360, step=1, value=0), gamma=widgets.IntSlider(min=0, max=360, step=1, value=0))\n",
    "def plane_intersection_3d(alpha, beta, gamma):\n",
    "    for dax in [ax1, ax2]:\n",
    "        for child in dax.get_children():\n",
    "            if type(child) in removing2:\n",
    "                try:\n",
    "                    child.remove()\n",
    "                except:\n",
    "                    break\n",
    "    alpha, beta, gamma = alpha * np.pi / 180, beta * np.pi / 180, gamma * np.pi / 180\n",
    "    for art in [s11_arr, s22_arr, s33_arr, s12_arr, s23_arr, s31_arr]:\n",
    "        ax1.add_artist(art)\n",
    "    arrow_n = Arrow3D(*zip([0, 0, 0], normal), color='r', rotation_angles=(alpha, beta, gamma), lw=1)\n",
    "    ax1.add_artist(arrow_n)\n",
    "    rot_m = arrow_n.rotation_matrix()\n",
    "    n = rot_m.dot(normal.T)\n",
    "    t_vec = S.dot(n)\n",
    "    ax1.add_artist(Arrow3D(*zip([0, 0, 0], t_vec), color='b', lw=1))\n",
    "    tn = t_vec.dot(n.T)\n",
    "    tn_vec = tn * n\n",
    "    ax1.add_artist(Arrow3D(*zip([0, 0, 0], tn_vec), color='g', lw=1))\n",
    "    ts_vec = t_vec - tn_vec\n",
    "    s = ts_vec / np.linalg.norm(ts_vec)\n",
    "    ts = t_vec.dot(s.T)\n",
    "    ax1.add_artist(Arrow3D(*zip([0, 0, 0], ts_vec), color='c', lw=1))\n",
    "    ax1.add_collection3d(unit_cube.cube_collection())\n",
    "    ax1.add_collection3d(unit_cube.inter_collection(normal=n))\n",
    "    ax1.text(*n, '$\\\\overrightarrow{n}$', c='r')\n",
    "    ax1.text(0.5+s11, 0, 0, '$\\sigma_{11}$')\n",
    "    ax1.text(0, 0.5+s22, 0, '$\\sigma_{22}$')\n",
    "    ax1.text(0, 0, 0.5+s33, '$\\sigma_{33}$')\n",
    "    ax1.text(0.5, s12, 0, '$\\\\tau_{12}$')\n",
    "    ax1.text(0, 0.5, s23, '$\\\\tau_{23}$')\n",
    "    ax1.text(s31, 0, 0.5, '$\\\\tau_{31}$')\n",
    "    ax1.text(*t_vec, '$\\\\overrightarrow{T}$', c='b')\n",
    "    ax1.text(*tn_vec, '$\\\\overrightarrow{T_n}$', c='g')\n",
    "    ax1.text(*ts_vec, '$\\\\overrightarrow{T_s}$', c='c')\n",
    "    ax2.scatter(tn, ts, c='k', alpha=0.3)\n",
    "    pass\n",
    "``` -->\n",
    "\n",
    "````{div} full-width\n",
    "<pre data-executable=\"true\" data-readonly data-language=\"python\">\n",
    "f = plt.figure(figsize=(9, 4))\n",
    "f.canvas.header_visible = False\n",
    "\n",
    "S = np.array([[2, 1, 0], [1, 3, -2], [0, -2, 1]])\n",
    "\n",
    "[[s11, s12, s13], [s21, s22, s23], [s31, s32, s33]] = S\n",
    "\n",
    "ax1 = f.add_subplot(1, 2, 1, projection='3d')\n",
    "\n",
    "normal = np.array([1, 0, 0])\n",
    "\n",
    "unit_cube = cube_plane(1, 1, 1, alpha=0.1, linewidths=0.4, equal_scale=True)\n",
    "\n",
    "ax1.set_xlim(unit_cube.xlim)\n",
    "ax1.set_ylim(unit_cube.ylim)\n",
    "ax1.set_zlim(unit_cube.zlim)\n",
    "ax1.set_xticks([])\n",
    "ax1.set_yticks([])\n",
    "ax1.set_zticks([])\n",
    "ax1.invert_zaxis()\n",
    "ax1.invert_xaxis()\n",
    "ax1.set_xlabel('X')\n",
    "ax1.set_ylabel('Y')\n",
    "ax1.set_zlabel('Z')\n",
    "\n",
    "s11_arr = Arrow3D([0.5, 0.5+s11], [0, 0], [0, 0], color='k', lw=1, mutation_scale=4)\n",
    "s22_arr = Arrow3D([0, 0], [0.5, 0.5+s22], [0, 0], color='k', lw=1, mutation_scale=4)\n",
    "s33_arr = Arrow3D([0, 0], [0, 0], [0.5, 0.5+s33], color='k', lw=1, mutation_scale=4)\n",
    "s12_arr = Arrow3D([0.5, 0.5], [0, s12], [0, 0], color='k', lw=1, mutation_scale=4)\n",
    "s23_arr = Arrow3D([0, 0], [0.5, 0.5], [0, s23], color='k', lw=1, mutation_scale=4)\n",
    "s31_arr = Arrow3D([0, s31], [0, 0], [0.5, 0.5], color='k', lw=1, mutation_scale=4)\n",
    "\n",
    "ax2 = f.add_subplot(1, 2, 2)\n",
    "\n",
    "ax2.add_patch(plt.Circle(((s1 + s2) / 2, 0), (s1 - s2) / 2, fill=False, ec='r', lw=2))\n",
    "ax2.add_patch(plt.Circle(((s2 + s3) / 2, 0), (s2 - s3) / 2, fill=False, ec='b', lw=2))\n",
    "ax2.add_patch(plt.Circle(((s1 + s3) / 2, 0), (s1 - s3) / 2, fill=False, ec='g', lw=2))\n",
    "\n",
    "ax2.set_xlim(s3, s1)\n",
    "ax2.set_ylim(-(s1-s3)/2, (s1-s3)/2)\n",
    "ax2.set_xlabel('$T_n$')\n",
    "ax2.set_ylabel('$T_s$')\n",
    "ax2.grid()\n",
    "\n",
    "f.tight_layout()\n",
    "\n",
    "removing2 = [Text3D, Poly3DCollection, Arrow3D, mpl.collections.PathCollection]\n",
    "\n",
    "@interact(alpha=widgets.IntSlider(min=0, max=360, step=1, value=0),\n",
    "          beta=widgets.IntSlider(min=0, max=360, step=1, value=0),\n",
    "          gamma=widgets.IntSlider(min=0, max=360, step=1, value=0))\n",
    "def plane_intersection_3d(alpha, beta, gamma):\n",
    "    for dax in [ax1, ax2]:\n",
    "        for child in dax.get_children():\n",
    "            if type(child) in removing2:\n",
    "                try:\n",
    "                    child.remove()\n",
    "                except:\n",
    "                    break\n",
    "    alpha, beta, gamma = alpha * np.pi / 180, beta * np.pi / 180, gamma * np.pi / 180\n",
    "    for art in [s11_arr, s22_arr, s33_arr, s12_arr, s23_arr, s31_arr]:\n",
    "        ax1.add_artist(art)\n",
    "    arrow_n = Arrow3D(*zip([0, 0, 0], normal), color='r', rotation_angles=(alpha, beta, gamma), lw=1)\n",
    "    ax1.add_artist(arrow_n)\n",
    "    rot_m = arrow_n.rotation_matrix()\n",
    "    n = rot_m.dot(normal.T)\n",
    "    t_vec = S.dot(n)\n",
    "    ax1.add_artist(Arrow3D(*zip([0, 0, 0], t_vec), color='b', lw=1))\n",
    "    tn = t_vec.dot(n.T)\n",
    "    tn_vec = tn * n\n",
    "    ax1.add_artist(Arrow3D(*zip([0, 0, 0], tn_vec), color='g', lw=1))\n",
    "    ts_vec = t_vec - tn_vec\n",
    "    s = ts_vec / np.linalg.norm(ts_vec)\n",
    "    ts = t_vec.dot(s.T)\n",
    "    ax1.add_artist(Arrow3D(*zip([0, 0, 0], ts_vec), color='c', lw=1))\n",
    "    ax1.add_collection3d(unit_cube.cube_collection())\n",
    "    ax1.add_collection3d(unit_cube.inter_collection(normal=n))\n",
    "    ax1.text(*n, '$\\\\overrightarrow{n}$', c='r')\n",
    "    ax1.text(0.5+s11, 0, 0, '$\\sigma_{11}$')\n",
    "    ax1.text(0, 0.5+s22, 0, '$\\sigma_{22}$')\n",
    "    ax1.text(0, 0, 0.5+s33, '$\\sigma_{33}$')\n",
    "    ax1.text(0.5, s12, 0, '$\\\\tau_{12}$')\n",
    "    ax1.text(0, 0.5, s23, '$\\\\tau_{23}$')\n",
    "    ax1.text(s31, 0, 0.5, '$\\\\tau_{31}$')\n",
    "    ax1.text(*t_vec, '$\\\\overrightarrow{T}$', c='b')\n",
    "    ax1.text(*tn_vec, '$\\\\overrightarrow{T_n}$', c='g')\n",
    "    ax1.text(*ts_vec, '$\\\\overrightarrow{T_s}$', c='c')\n",
    "    ax2.scatter(tn, ts, c='k', alpha=0.3)\n",
    "    pass\n",
    "</pre>\n",
    "````"
   ]
  },
  {
   "cell_type": "markdown",
   "id": "59006643",
   "metadata": {},
   "source": [
    "Таким образом, круги Мора являются инструментом для отображения напряженного состояния. Они часто используются при проверке теории прочности системы, которые будут рассмотрены следующих разделах."
   ]
  },
  {
   "cell_type": "markdown",
   "id": "21f58639",
   "metadata": {},
   "source": [
    "После изложения понятия напряженного состояния и его изменения в зависимости от выбранного базиса перейдем к рассмотрению [напряженного состояния в земной коре](RG-4-StressesInEarthsCrust.md)."
   ]
  }
 ],
 "metadata": {
  "jupytext": {
   "text_representation": {
    "extension": ".md",
    "format_name": "myst",
    "format_version": 0.13,
    "jupytext_version": "1.10.3"
   }
  },
  "kernelspec": {
   "display_name": "Python 3 (ipykernel)",
   "language": "python",
   "name": "python3"
  },
  "language_info": {
   "codemirror_mode": {
    "name": "ipython",
    "version": 3
   },
   "file_extension": ".py",
   "mimetype": "text/x-python",
   "name": "python",
   "nbconvert_exporter": "python",
   "pygments_lexer": "ipython3",
   "version": "3.7.13"
  },
  "source_map": [
   12,
   51,
   58,
   61,
   89,
   93,
   97,
   101,
   105,
   123,
   127,
   131,
   135,
   139,
   149,
   153,
   157,
   167,
   171,
   181,
   191,
   195,
   199,
   203,
   207,
   285,
   289,
   293,
   297,
   301,
   305,
   309,
   313,
   317,
   321,
   325,
   331,
   339,
   343,
   347,
   351,
   355,
   359,
   370,
   374,
   378,
   382,
   386,
   390,
   394,
   432,
   436,
   610,
   614
  ]
 },
 "nbformat": 4,
 "nbformat_minor": 5
}