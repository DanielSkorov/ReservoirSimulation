{
 "cells": [
  {
   "cell_type": "markdown",
   "id": "362f7031",
   "metadata": {},
   "source": [
    "<a id='geomech-rg'></a>\n",
    "# Основы геомеханики\n",
    "В данном разделе представлены основы геомеханического моделирования и содержится примеры формализации алгоритмов, используемых в геомеханике, на языке *python*, а также пояснения и примеры реализаций геомеханикогидродинамических моделей. При составлении данного раздела авторы опирались на общепризнанные курсы по нефтегазовой геомеханике от [М.Д. Зобака](https://online.stanford.edu/courses/soeees-ygeoresgeo202-reservoir-geomechanics) и [Дж.Т. Фостера](https://johnfoster.pge.utexas.edu/PGE334-ResGeomechanics/)."
   ]
  },
  {
   "cell_type": "markdown",
   "id": "492db5f3",
   "metadata": {},
   "source": [
    "**Содержание:**\n",
    "* [Напряженно-деформированное состояние. Допущения и условия теории упругости](./RG-1-LinearElasticityAssumptions.md)\n",
    "* [Напряжение. Тензор напряжений](./RG-2-StressTensor.md)\n",
    "* [Базис тензора напряжений. Главные напряжения. Круги Мора. Часть 1](./RG-3-StressRotation-PrincipleStresses-MohrCircles-Part1.md)\n",
    "* [Базис тензора напряжений. Главные напряжения. Круги Мора. Часть 2](./RG-3-StressRotation-PrincipleStresses-MohrCircles-Part2.md)\n",
    "* [Базис тензора напряжений. Главные напряжения. Круги Мора. Часть 3](./RG-3-StressRotation-PrincipleStresses-MohrCircles-Part3.md)\n",
    "* [Напряженное состояние в земной коре](./RG-4-StressesInEarthsCrust.md)"
   ]
  },
  {
   "cell_type": "code",
   "execution_count": null,
   "id": "918789b6",
   "metadata": {},
   "outputs": [],
   "source": []
  }
 ],
 "metadata": {
  "jupytext": {
   "text_representation": {
    "extension": ".md",
    "format_name": "myst",
    "format_version": 0.13,
    "jupytext_version": "1.10.3"
   }
  },
  "kernelspec": {
   "display_name": "Python 3 (ipykernel)",
   "language": "python",
   "name": "python3"
  },
  "language_info": {
   "codemirror_mode": {
    "name": "ipython",
    "version": 3
   },
   "file_extension": ".py",
   "mimetype": "text/x-python",
   "name": "python",
   "nbconvert_exporter": "python",
   "pygments_lexer": "ipython3",
   "version": "3.7.13"
  },
  "source_map": [
   12,
   18,
   28
  ]
 },
 "nbformat": 4,
 "nbformat_minor": 5
}