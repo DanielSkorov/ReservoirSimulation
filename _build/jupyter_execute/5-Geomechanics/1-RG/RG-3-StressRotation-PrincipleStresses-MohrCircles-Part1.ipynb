{
 "cells": [
  {
   "cell_type": "markdown",
   "id": "85aafdb1",
   "metadata": {},
   "source": [
    "```{admonition} Внимание!\n",
    ":class: warning\n",
    "Данная страница инициализирована в статичном режиме – все графики неинтерактивны. При необходимости Вы можете посмотреть [интерактивную копию](RG-3-StressRotation-PrincipleStresses-MohrCircles-Part1-I.md) данной страницы.\n",
    "```"
   ]
  },
  {
   "cell_type": "code",
   "execution_count": 1,
   "id": "3a7f5b04",
   "metadata": {
    "tags": [
     "hide-input"
    ]
   },
   "outputs": [],
   "source": [
    "import matplotlib as mpl\n",
    "import numpy as np\n",
    "from matplotlib import pyplot as plt\n",
    "%matplotlib widget\n",
    "from matplotlib.patches import Rectangle, Polygon, Wedge\n",
    "from ipywidgets import widgets, interact\n",
    "from IPython.display import HTML, display\n",
    "import sys\n",
    "sys.path.append('../../SupportCode/')\n",
    "from Graphics import plot_angle_arc"
   ]
  },
  {
   "cell_type": "markdown",
   "id": "f630b2c2",
   "metadata": {},
   "source": [
    "<a id='geomech-rg-stress_rotation-1'></a>\n",
    "# Базис тензора напряжений. Главные напряжения. Круги Мора. Часть 1\n",
    "Тензор напряжения, по своей сути, является матрицей [линейного преобразования](../../0-Math/1-LAB/LAB-8-LinearTransformations.html#math-lab-linear_transform) вектора нормали выбранной площадки в вектор напряжения, приложенной к данной площадке. Из этого следует, что элементы тензора напряжения будут зависеть от выбранного базиса (плоскости рассматриваемой площадки). Проиллюстрируем это на следующем примере. Пусть имеется некоторое тело, к которому приложены растягивающие силы $\\vec{F}$ (для упрощения представим его в двухмерном пространстве)."
   ]
  },
  {
   "cell_type": "code",
   "execution_count": 2,
   "id": "98c1187b",
   "metadata": {
    "tags": [
     "hide-input"
    ]
   },
   "outputs": [
    {
     "data": {
      "application/vnd.jupyter.widget-view+json": {
       "model_id": "90800e29acfe4411b54f3987266d3248",
       "version_major": 2,
       "version_minor": 0
      },
      "image/png": "[encoded data removed]",
      "text/html": [
       "\n",
       "            <div style=\"display: inline-block;\">\n",
       "                <div class=\"jupyter-widgets widget-label\" style=\"text-align: center;\">\n",
       "                    Figure\n",
       "                </div>\n",
       "                <img src='data:image/png;base64,iVBORw0KGgoAAAANSUhEUgAAASwAAAEsCAYAAAB5fY51AAAAOXRFWHRTb2Z0d2FyZQBNYXRwbG90bGliIHZlcnNpb24zLjUuMSwgaHR0cHM6Ly9tYXRwbG90bGliLm9yZy/YYfK9AAAACXBIWXMAAA9hAAAPYQGoP6dpAAAHeElEQVR4nO3dQailZR3H8d//miFEEWILIYQClYFcONYmDQLJVe5aiVCr2tVCl0K0DDKoXUHQwmodGoSLMiGCFkLNYtCCorDELIhMBPM+Le4MTUU249z3Pf7GzwcOXO6dOf9ncZ8v733POe87a60ANDg69AIALpdgATUEC6ghWEANwQJqCBZQQ7CAGoIF1BAsoIZgATUEC6ghWEANwQJqCBZQQ7CAGoIF1BAsoIZgATUEC6ghWEANwQJqCBZQQ7CAGoIF1BAsoIZgATUEC6ghWEANwQJqCBZQQ7CAGoIF1BAsoIZgATUEC6ghWEANwQJqCBZQQ7CAGoIF1BAsoIZgATUEC6ghWEANwQJqCBZQQ7CAGoIF1BAsoIZgATUEC6ghWEANwQJqCBZQQ7CAGoIF1BAsoIZgATUEC6ghWEANwQJqCBZQQ7CAGoIF1BAsoIZgATUEC6ghWEANwQJqCBZQQ7CAGoIF1BAsoIZgATUEC6ghWEANwQJqCBZQQ7CAGoIF1BAsoIZgATUEC6ghWEANwQJqCBZQQ7CAGoIF1BAsoIZgATUEC6ghWEANwQJqCBZQQ7CAGoIF1BAsoIZgATUEC6ghWEANwQJqCBZQQ7CAGgcJ1szcdoi5wL5Oe6/vHqyZuTvJMzNz796zgf1ssdd3D9Za66dJHkryfdGCa9cWe33WWqfxPP/+pDMfSnLuMv7pK2utd536AoBd7L3X33G1T/A/PJfkzBv8/L4kX03yhY3mA/vYda9vcoT1hgNnPpLkqSSfX2t9a9fhwG622OuHCNY7k3x8rfXkroOBXW2x13cPFsCbtfmrhDPz9Mys/3i8PjPv2Xo2sJ899vqmR1gzM0n+muRLSb5zyY+O11ovbjYY2NVee32rVwkvujXJu5M8vdZ6YeNZwOHsste3/pPwriT/SPLLjecAh7XLXt86WGeTXJfkzzPz8oXHzzaeCexvl72+9TmsHyV5Mckjl3z772utP242FNjdXnt963NYdyZ5ZK31643nAIe1y17f7E/CmflgkvcmeWarGcDh7bnXtzyHdVeS15P8YsMZwOHttte3DNbZJM+utV7ZcAZweLvtdR/NuUwzc0uSmw69Dq4ZL621fnfoRbTZ+qT7NWFmbjk6Onr2+Pj4hkOvhWvD0dHRqzNzu2hdGcG6PDcdHx/f8Nhjj+XMmTe69A/8f+fPn8+DDz54Q06O2AXrCgjWFThz5kzOnj176GXA25bbfAE1BAuoIVhADcECajjpzhX51Xc/8Kb/760P/OYUV8LbkSMsoIZgATU2DdbM3Dgz9205A9jfzLx/Zj46M9ftOffUgzUzt8/MwzPzk5xc0OvO054BHNyLObnZxAsz8+2Z+dQed8K66pPuM3N9knuS3J/kkzm5GP2lbpqZL17tnAO7+dAL4Npx7ty5i19+dmaar777+yQfS/LpC4/XZuapJI8neXyt9dvTHnhVwZqZ+5N8LckbvXT08NXMgGvNJcH63CHXsYHrk3ziwuPrM/O9JA+vtf5wWgOuKlhrrcdn5odJ7s7JEdb9+e8jrK8keflq5rwF3Jxr75eLA7njjjsufvmNJM1HWPfm5AjroteS/DgnR1hPvOWOsJJkrfVakqcuPB6amdvyr3jdk5Pr/nz5aucc0sycjWBxSi4J1jfXWpWXEJ+Zdyb5TJI/JflBkieSPLnW+tuWc0/9jaNrreeSPJrk0Zm5McmHT3sGcHDvS/JAkp+vtV7fa+im73Rfa/0lyZNbzgD2t9Z6Psnze8/1xlGghmABNXz4mSviA8wckiMsoIZgATUEC6ghWEANwQJqeJXwCpw/f/7QS+Aa4PfozZu11qHX8JbnVvWctqOjo1ePj4/dqv4KCdZlmplbcnJrcTgNL4nVlRMsoIaT7kANwQJqCBZQQ7CAGoIF1BAsoIZgATUEC6ghWEANwQJqCBZQQ7CAGoIF1BAsoIZgATUEC6ghWEANwQJqCBZQQ7CAGoIF1BAsoIZgATUEC6ghWEANwQJqCBZQQ7CAGoIF1BAsoIZgATUEC6ghWEANwQJqCBZQQ7CAGoIF1BAsoIZgATUEC6ghWEANwQJqCBZQQ7CAGoIF1BAsoIZgATUEC6ghWEANwQJqCBZQQ7CAGoIF1BAsoIZgATUEC6ghWEANwQJqCBZQQ7CAGoIF1BAsoIZgATUEC6ghWEANwQJqCBZQQ7CAGoIF1BAsoIZgATUEC6ghWEANwQJqCBZQQ7CAGoIF1BAsoIZgATUEC6ghWEANwQJqCBZQQ7CAGoIF1BAsoIZgATUEC6ghWEANwQJqCBZQQ7CAGoIF1BAsoIZgATUEC6ghWEANwQJqCBZQQ7CAGoIF1BAsoIZgATUEC6ghWEANwQJqCBZQQ7CAGoIF1BAsoIZgATUEC6ghWEANwQJqCBZQQ7CAGoIF1BAsoIZgATUEC6ghWEANwQJqCBZQQ7CAGoIF1BAsoIZgATUEC6ghWEANwQJqCBZQQ7CAGoIF1BAsoIZgATUEC6ghWEANwQJqCBZQQ7CAGoIF1BAsoIZgATUEC6ghWEANwQJqCBZQ45+1EzefMR1F4wAAAABJRU5ErkJggg==' width=300.0/>\n",
       "            </div>\n",
       "        "
      ],
      "text/plain": [
       "Canvas(header_visible=False, toolbar=Toolbar(toolitems=[('Home', 'Reset original view', 'home', 'home'), ('Bac…"
      ]
     },
     "metadata": {
      "filenames": {
       "image/png": "E:\\Work\\Science\\GitHub\\Basics-of-Modelling\\_build\\jupyter_execute\\5-Geomechanics\\1-RG\\RG-3-StressRotation-PrincipleStresses-MohrCircles-Part1_3_0.png"
      }
     },
     "output_type": "display_data"
    }
   ],
   "source": [
    "fig, ax = plt.subplots(frameon=False, figsize=(3, 3))\n",
    "fig.canvas.header_visible = False\n",
    "\n",
    "x0 = [5, 0]\n",
    "y0 = [0.5, 0.5]\n",
    "\n",
    "U = [[2, -2]]\n",
    "V = [[0, 0]]\n",
    "\n",
    "ax.quiver(x0, y0, U, V, scale=1, angles='xy', scale_units='xy', color=['k', 'k', 'r'], zorder=2)\n",
    "ax.text(6.7, 1.0, '$\\\\overrightarrow{F}$')\n",
    "ax.text(-1.8, 1.0, '$\\\\overrightarrow{F}$')\n",
    "\n",
    "ax.add_patch(Rectangle((0, 0), 5, 1, fc='w', ec='k'))\n",
    "ax.add_patch(Rectangle((2.25, 0.25), 0.5, 0.5, fc='goldenrod', ec=None, angle=0))\n",
    "\n",
    "ax.set_xlim(-2, 7)\n",
    "ax.set_ylim(-5, 5)\n",
    "ax.axis('off')\n",
    "fig.patch.set_visible(False)\n",
    "\n",
    "fig.tight_layout()"
   ]
  },
  {
   "cell_type": "markdown",
   "id": "45a3de89",
   "metadata": {},
   "source": [
    "Мысленно выделим из данного тела элементарный объем и рассмотрим приложенные к нему векторы напряжения относительно стандартного базиса $(\\vec{i}, \\vec{j})$. Принимая во внимание [принцип Сен-Венана](./RG-1-LinearElasticityAssumptions.html#geomech-rg-assumptions) вектор напряжения, действующий на данное тело, будет равен отношению силы $\\vec{F}$ к площади поверхности площадки элементарного объема."
   ]
  },
  {
   "cell_type": "code",
   "execution_count": 3,
   "id": "fc691e97",
   "metadata": {
    "tags": [
     "hide-input"
    ]
   },
   "outputs": [
    {
     "data": {
      "application/vnd.jupyter.widget-view+json": {
       "model_id": "252b79239e69424bab9533a338eae631",
       "version_major": 2,
       "version_minor": 0
      },
      "image/png": "[encoded data removed]",
      "text/html": [
       "\n",
       "            <div style=\"display: inline-block;\">\n",
       "                <div class=\"jupyter-widgets widget-label\" style=\"text-align: center;\">\n",
       "                    Figure\n",
       "                </div>\n",
       "                <img src='data:image/png;base64,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' width=300.0/>\n",
       "            </div>\n",
       "        "
      ],
      "text/plain": [
       "Canvas(header_visible=False, toolbar=Toolbar(toolitems=[('Home', 'Reset original view', 'home', 'home'), ('Bac…"
      ]
     },
     "metadata": {
      "filenames": {
       "image/png": "E:\\Work\\Science\\GitHub\\Basics-of-Modelling\\_build\\jupyter_execute\\5-Geomechanics\\1-RG\\RG-3-StressRotation-PrincipleStresses-MohrCircles-Part1_5_0.png"
      }
     },
     "output_type": "display_data"
    }
   ],
   "source": [
    "fig, ax = plt.subplots(frameon=False, figsize=(3, 3))\n",
    "fig.canvas.header_visible = False\n",
    "\n",
    "x0 = [2, -2, -4, -4]\n",
    "y0 = [0, 0, -4, -4]\n",
    "\n",
    "U = [[2, -2, 1, 0]]\n",
    "V = [[0, 0, 0, 1.0]]\n",
    "\n",
    "ax.quiver(x0, y0, U, V, scale=1, angles='xy', scale_units='xy', color=['k', 'k', 'r', 'r'], zorder=2)\n",
    "ax.text(4.0, 0.0, '$\\\\overrightarrow{T}$')\n",
    "ax.text(-4.5, 0.0, '$\\\\overrightarrow{T}$')\n",
    "ax.text(-3.0, -4.0, '$\\\\overrightarrow{i}$')\n",
    "ax.text(-4.5, -3.0, '$\\\\overrightarrow{j}$')\n",
    "\n",
    "ax.add_patch(Rectangle((-2, -2), 4, 4, fc='goldenrod', ec=None))\n",
    "\n",
    "ax.set_xlim(-5, 5)\n",
    "ax.set_ylim(-5, 5)\n",
    "ax.axis('off')\n",
    "fig.patch.set_visible(False)\n",
    "\n",
    "fig.tight_layout()"
   ]
  },
  {
   "cell_type": "markdown",
   "id": "53784d85",
   "metadata": {},
   "source": [
    "Поскольку векторы напряжения $\\vec{T}$ коллинеарны с базисным вектором $\\vec{i}$, то на элементарный объем действует только *нормальное напряжение* (перпендикулярное к рассматриваемой площадке)."
   ]
  },
  {
   "cell_type": "code",
   "execution_count": 4,
   "id": "45006214",
   "metadata": {
    "tags": [
     "hide-input"
    ]
   },
   "outputs": [
    {
     "data": {
      "application/vnd.jupyter.widget-view+json": {
       "model_id": "056b6768a6ec487f87d3544f2ab6e25c",
       "version_major": 2,
       "version_minor": 0
      },
      "image/png": "[encoded data removed]",
      "text/html": [
       "\n",
       "            <div style=\"display: inline-block;\">\n",
       "                <div class=\"jupyter-widgets widget-label\" style=\"text-align: center;\">\n",
       "                    Figure\n",
       "                </div>\n",
       "                <img src='data:image/png;base64,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' width=300.0/>\n",
       "            </div>\n",
       "        "
      ],
      "text/plain": [
       "Canvas(header_visible=False, toolbar=Toolbar(toolitems=[('Home', 'Reset original view', 'home', 'home'), ('Bac…"
      ]
     },
     "metadata": {
      "filenames": {
       "image/png": "E:\\Work\\Science\\GitHub\\Basics-of-Modelling\\_build\\jupyter_execute\\5-Geomechanics\\1-RG\\RG-3-StressRotation-PrincipleStresses-MohrCircles-Part1_7_0.png"
      }
     },
     "output_type": "display_data"
    }
   ],
   "source": [
    "fig, ax = plt.subplots(frameon=False, figsize=(3, 3))\n",
    "fig.canvas.header_visible = False\n",
    "\n",
    "x0 = [2, -2, -4, -4]\n",
    "y0 = [0, 0, -4, -4]\n",
    "\n",
    "U = [[2, -2, 1, 0]]\n",
    "V = [[0, 0, 0, 1.0]]\n",
    "\n",
    "ax.quiver(x0, y0, U, V, scale=1, angles='xy', scale_units='xy', color=['k', 'k', 'r', 'r'], zorder=2)\n",
    "ax.text(4.0, 0.0, '$\\\\sigma_x$')\n",
    "ax.text(-4.7, 0.0, '$\\\\sigma_x$')\n",
    "ax.text(-3.0, -4.0, '$\\\\overrightarrow{i}$')\n",
    "ax.text(-4.5, -3.0, '$\\\\overrightarrow{j}$')\n",
    "\n",
    "ax.add_patch(Rectangle((-2, -2), 4, 4, fc='goldenrod', ec=None))\n",
    "\n",
    "ax.set_xlim(-5, 5)\n",
    "ax.set_ylim(-5, 5)\n",
    "ax.axis('off')\n",
    "fig.patch.set_visible(False)\n",
    "\n",
    "fig.tight_layout()"
   ]
  },
  {
   "cell_type": "markdown",
   "id": "7dad637c",
   "metadata": {},
   "source": [
    "Но что если мы выделим элементарный объем под углом $\\theta$ к горизонтали?"
   ]
  },
  {
   "cell_type": "code",
   "execution_count": 5,
   "id": "364a2b34",
   "metadata": {
    "tags": [
     "hide-input"
    ]
   },
   "outputs": [
    {
     "data": {
      "application/vnd.jupyter.widget-view+json": {
       "model_id": "02c0c9e294b34761a2bdf1f095a21494",
       "version_major": 2,
       "version_minor": 0
      },
      "image/png": "[encoded data removed]",
      "text/html": [
       "\n",
       "            <div style=\"display: inline-block;\">\n",
       "                <div class=\"jupyter-widgets widget-label\" style=\"text-align: center;\">\n",
       "                    Figure\n",
       "                </div>\n",
       "                <img src='data:image/png;base64,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' width=300.0/>\n",
       "            </div>\n",
       "        "
      ],
      "text/plain": [
       "Canvas(header_visible=False, toolbar=Toolbar(toolitems=[('Home', 'Reset original view', 'home', 'home'), ('Bac…"
      ]
     },
     "metadata": {
      "filenames": {
       "image/png": "E:\\Work\\Science\\GitHub\\Basics-of-Modelling\\_build\\jupyter_execute\\5-Geomechanics\\1-RG\\RG-3-StressRotation-PrincipleStresses-MohrCircles-Part1_9_0.png"
      }
     },
     "output_type": "display_data"
    }
   ],
   "source": [
    "fig, ax = plt.subplots(frameon=False, figsize=(3, 3))\n",
    "fig.canvas.header_visible = False\n",
    "\n",
    "x0 = [5, 0]\n",
    "y0 = [0.5, 0.5]\n",
    "\n",
    "U = [[2, -2]]\n",
    "V = [[0, 0]]\n",
    "\n",
    "ax.quiver(x0, y0, U, V, scale=1, angles='xy', scale_units='xy', color=['k', 'k', 'r'], zorder=2)\n",
    "ax.text(6.7, 1.0, '$\\\\overrightarrow{F}$')\n",
    "ax.text(-1.8, 1.0, '$\\\\overrightarrow{F}$')\n",
    "\n",
    "ax.add_patch(Rectangle((0, 0), 5, 1, fc='w', ec='k'))\n",
    "ax.add_patch(Rectangle((2.5, 0.141), 0.5, 0.5, fc='goldenrod', ec=None, angle=45))\n",
    "\n",
    "ax.set_xlim(-2, 7)\n",
    "ax.set_ylim(-5, 5)\n",
    "ax.axis('off')\n",
    "fig.patch.set_visible(False)\n",
    "\n",
    "fig.tight_layout()"
   ]
  },
  {
   "cell_type": "markdown",
   "id": "82a098f3",
   "metadata": {},
   "source": [
    "Тогда на каждую площадку будет оказываться воздействие со стороны внутренних сил под углом $\\theta$. Данный вектор можно разложить на две составляющие: нормальную и касательную по отношению к рассматриваемой площадке."
   ]
  },
  {
   "cell_type": "code",
   "execution_count": 6,
   "id": "f22d8da2",
   "metadata": {
    "tags": [
     "hide-input"
    ]
   },
   "outputs": [
    {
     "data": {
      "application/vnd.jupyter.widget-view+json": {
       "model_id": "f20e2d95e1164c85b47aaf66c854c914",
       "version_major": 2,
       "version_minor": 0
      },
      "image/png": "[encoded data removed]",
      "text/html": [
       "\n",
       "            <div style=\"display: inline-block;\">\n",
       "                <div class=\"jupyter-widgets widget-label\" style=\"text-align: center;\">\n",
       "                    Figure\n",
       "                </div>\n",
       "                <img src='data:image/png;base64,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' width=300.0/>\n",
       "            </div>\n",
       "        "
      ],
      "text/plain": [
       "Canvas(header_visible=False, toolbar=Toolbar(toolitems=[('Home', 'Reset original view', 'home', 'home'), ('Bac…"
      ]
     },
     "metadata": {
      "filenames": {
       "image/png": "E:\\Work\\Science\\GitHub\\Basics-of-Modelling\\_build\\jupyter_execute\\5-Geomechanics\\1-RG\\RG-3-StressRotation-PrincipleStresses-MohrCircles-Part1_11_0.png"
      }
     },
     "output_type": "display_data"
    }
   ],
   "source": [
    "fig, ax = plt.subplots(frameon=False, figsize=(3, 3))\n",
    "fig.canvas.header_visible = False\n",
    "\n",
    "x0 = [1.414, 1.414, 1.414, 1.414, -1.414, -1.414, -1.414, -1.414, 4, 4, -5, -5]\n",
    "y0 = [1.414, 1.414, -1.414, -1.414, 1.414, 1.414, -1.414, -1.414, -4, -4, 3, 5]\n",
    "\n",
    "U = [[1, 1, 1, 1, -1, -1, -1, -1, 1, 0, 2, 2]]\n",
    "V = [[1, -1, -1, 1, 1, -1, -1, 1, 0, 1, 2, -2]]\n",
    "\n",
    "ax.quiver(x0, y0, U, V, scale=1, angles='xy', scale_units='xy',\n",
    "          color=['k', 'k', 'k', 'k', 'k', 'k', 'k', 'k', 'r', 'r', 'g', 'g'], zorder=2)\n",
    "ax.text(2.5, 2.5, '$\\\\sigma_y$')\n",
    "ax.text(2.5, 0.4, '$\\\\tau_{yx}$')\n",
    "ax.text(2.5, -2.5, '$\\\\sigma_x$')\n",
    "ax.text(2.5, -0.8, '$\\\\tau_{xy}$')\n",
    "ax.text(-3.0, -3.0, '$\\\\sigma_y$')\n",
    "ax.text(-3.5, -0.6, '$\\\\tau_{yx}$')\n",
    "ax.text(-2.5, 2.5, '$\\\\sigma_x$')\n",
    "ax.text(-3.5, 0.8, '$\\\\tau_{xy}$')\n",
    "ax.text(5.0, -4.0, '$\\\\overrightarrow{i}$')\n",
    "ax.text(4.0, -3.0, '$\\\\overrightarrow{j}$')\n",
    "ax.text(-2.9, 5.0, '$y$')\n",
    "ax.text(-2.9, 3.5, '$x$')\n",
    "\n",
    "ax.add_patch(Rectangle((0, -1.414*2), 4, 4, fc='goldenrod', ec=None, angle=45))\n",
    "\n",
    "ax.set_xlim(-5, 5)\n",
    "ax.set_ylim(-5, 5)\n",
    "ax.axis('off')\n",
    "fig.patch.set_visible(False)\n",
    "\n",
    "fig.tight_layout()"
   ]
  },
  {
   "cell_type": "markdown",
   "id": "24932b76",
   "metadata": {},
   "source": [
    "Поскольку элементарный объем можно выделить под любым углом по отношению к направлению действия силы, то данные проекции вектора напряжения будут постоянно меняться – зависеть от выбранного базиса (углов наклона площадок к вектору приложенной нагрузки). Для определения этой зависимости рассечем элементарный объем плоскостью, расположенной под углом $\\theta$, и рассмотрим равновесное состояние полученной призмы:"
   ]
  },
  {
   "cell_type": "code",
   "execution_count": 7,
   "id": "7b28cacc",
   "metadata": {
    "tags": [
     "hide-input"
    ]
   },
   "outputs": [
    {
     "data": {
      "application/vnd.jupyter.widget-view+json": {
       "model_id": "00e9b39883c24b57a483b34e23dda7c8",
       "version_major": 2,
       "version_minor": 0
      },
      "image/png": "[encoded data removed]",
      "text/html": [
       "\n",
       "            <div style=\"display: inline-block;\">\n",
       "                <div class=\"jupyter-widgets widget-label\" style=\"text-align: center;\">\n",
       "                    Figure\n",
       "                </div>\n",
       "                <img src='data:image/png;base64,iVBORw0KGgoAAAANSUhEUgAAASwAAAEsCAYAAAB5fY51AAAAOXRFWHRTb2Z0d2FyZQBNYXRwbG90bGliIHZlcnNpb24zLjUuMSwgaHR0cHM6Ly9tYXRwbG90bGliLm9yZy/YYfK9AAAACXBIWXMAAA9hAAAPYQGoP6dpAAAqUElEQVR4nO3dd3RUVdvG4d+TSgKhIwLSVZqIoiL2Diiin6Iivasoii9FShRFmjQLgiCCVAUbinQULK8NeLE3sGAXRJFeQ57vjz3RAEkIZGbOnJnnWitLZzJz5s7KcOecM2fvLaqKMcb4QZzXAYwxJr+ssIwxvmGFZYzxDSssY4xvWGEZY3zDCssY4xtWWMYY37DCMsb4hhWWMcY3rLCMMb5hhWWM8Q0rLGOMb1hhGWN8wwrLGOMbVljGGN+wwjLG+IYVljHGN6ywjDG+YYVljPENKyxjjG9YYRljfMMKyxjjG1ZYxhjfsMIyxviGFZYxxjessIwxvmGFZYzxDSssY4xvWGEZY3zDCssY4xtWWMYY37DCMsb4hhWWMcY3rLCMMb5hhWWM8Q0rLGOMb1hhGWN8wwrLGOMbVljGGN+wwjLG+IYVljHGN6ywjDG+YYVljPENKyxjjG9YYRljfMMKyxjjG1ZYxhjfsMIyxviGFZYxxjessIwxvmGFZYzxDSssY4xvWGEZY3zDCssY4xtWWMYY37DCMsb4hhWWMcY3rLDyICJDRKS71zmMORbR+P61wsrbdcDbXocw5hhF3fs3ZgtLRH4RkdsPue9cEdklIpVFpDzwp6p+6lFEY3IlIi1FZI+IVMh232QR+VREikXr+zdmCwv4ADgr64aICPAo8Kiq/ghcAYzzJpoxRzQHWAv0BxCR+4HGwJWqupUoff9aYf2rLVAJGB64XQ14OdyhjMkPVVUgHegiIgOAHkATVf018JCofP+K+7ljj4icD7wFFAMygXXAA6o62dNgxhwFEfkQqAM0UtW3vM4TagleB/DQ/4ADQH3gcuAv4GlPExlzFESkMVATiAc2ehwnLGJ2DwtARFYD7wK3AM1UdbnHkYzJFxGpD7wJ3AHcDOxS1Rs9DRUGsbyHBe481l3AAisr4xciUgVYCDykqjNF5EtgtYicoaprvE0XWrG+h9UZmADUVdW1Xucx5khEpCTuqOBtVb012/3zgGRVbeJZuDCI9cJaAXyqqnd7ncUYc2Qxd1mDiMSJSNnAR8E1gPsP/j7XiXCTCOJNQhOLRDhRhAdFiPc6SySLucICLgR+B9oA1wcusstuCfAI8IEIF4Y7nIktIpQR4THgS+ATVQ54nSmSxfQhYW5EuAV4MnDzVaCfKl95GMlEGRFScRd79gOK4i6zaaCK/YPMgxVWDkRIBL4ATgrclQlMBh5Q5XfPghnfCxzytQMGAxWyfesKVV73JpV/xOIh4RGpsh+4N9tdcbhrtb4VYZAIad4kM34lgohwJfAx7gLl7GW13Moqf6ywcvci8NEh960BPgQywh/HRIFfgQU53D8g3EH8ygorF6pkEhgJn01t4HtVdnsQyfhY4NzUV7hPprObq8oqDyL5kp3DykPg0oYVQCKwBWgKbAIuUeULD6MZnwmcF50NNMe9lyYBvYFT7AOd/Iv1oTl5UkVF6A/UA6bjputoAqwQ4WJ7o5n8ECEBmIUrq624wfZrgcL2Hjo6toeVDyIkqbJPhELAPKARsAG4WBUb0mNyFSirGUBLYBtwuSqrA99LUmWfl/n8xgrrKImQAswHLsNdgHqRKt94m8pEosAlDNNwFylvBxqp8oGnoXzOTrofpcAJ92uAN4BywBsinOhtKhNpAmU1BVdWO4AmVlYFZ4V1DFTZBTTDrUhSAVda1bxNZSKFCHHAU0B7YCdwpSrveZsqOlhhHSNVduI+NXwHOAFXWlU8DWU8FyirJ4GOwC6gqSrveJsqelhhFYAqO4CrgPdwC1i8IUJlb1MZrwQugxkPdAF2A1erEvXzrIeTFVYBqbIduBJYCVTBXfJQ0dNQJuwCZfU4cBuwB7hGlTe8TRV9rLCCQJVtuDXhVuOWV3pD5KCxYiaKBcrqUdz86nuBa21sYGhYYQWJKltx12etAarjSqu8t6lMqAXKagxubYB9wHWqLPM2VfSywgoiVbbgSutj3NQ0K0Q43stMJnQCZTUS+A+wH2iuymJvU0U3K6wgU2UzbujFp7iBritEKOttKhNsgbIahhsPmAHcoJrjTAwmiKywQkCVv3Cl9TlQC1guQhlvU5lgCZTVYNxsoRnATaq86m2q2GCFFSKqbMIN3/kSt5T4chFKe5vKBMn9QDpu5fCbVXnZ4zwxwworhFT5A7gU+BqoC7wuQilvU5mCEOE+XGFlAq1UecnjSDHFCivEVNmIK611uGlqXhOhhLepzLEITDX0IK6s2qjyvMeRYo4VVhgEFq64BPgGOB1XWsU9DWWOigj34E6yK9BeldkeR4pJVlhhospvuD2t74AzgKUiFPM2lckPEXoBI3Bl1VGVWR5HillWWGGkyi+4Pa31QANgiQhFvU1l8iLC3cDowM0uqkz3ME7Ms8IKM1V+Bi6JkwM/Aw2BxbZsWGQSoTtuFXCAW1R52ss8xgrLE6r8eGXDhf9XvtSvAOcCi0Qo4nEsk40I3XCDmQG6qfKUl3mMY1Mke+SbZ6uW/mljpU1thsxmw+byAG/h5k7a6XG0mCfCLbg5rQC6qzLeyzzmX7aH5aFKZX9iZnorjiuxAeAiYL4IqR7HimkidObfsuphZRVZrLA8Vvn4H5mZ3ooyxTeCOyE/L7DQhQkzETrAP4d+PVUZ62EckwMrrAhQtdx6ZqS3onSxTeDGIL4SWFIsVyLyqohoLl/XhCV4FBGhLfA0IMA9qv+cbDcRxAorQlQv/z0zBrSiVNE/wU1RM1eE5Dye0hG3as9JgdtXBW6XAxaFMmu0EaEVbjkuAfqrMsrbRCY3VlgR5MQTvmX6gNaUSPsL3LTLL+ZWWqr6l6puAMrgLmh8R1U3BL4ycnuNI+19xdremQg3AzNx/xbuVeUhjyOZPFhhRZiTK65j+oA2FC+yGeBq4DkRkvJ4yqnAD6q6/UjbFpE6wAXH+v1oI8KNuCXk44AHVBnqcSRzBFZYEahmpa+Z1r8NxQpvAbgWmCNCYi4PPxU3WeBBRGSliJwZ+P/pItINNzToCRGpLyJLsj22uYiMz/p+cH+ayCTC9cBsIB4YrMogjyOZfLDCilC1q3zFtP5tKJq6FeA64FkREnJ4aBVgbQ73DwYGiEgvYIeqTgB2qep6XMHVBhCRRNzcTg9m+35UE+Fa4DlcWQ3HTRdjfMAKK4LVqfoFU/u3JS11G8ANwKwcSisOqCwiJ4iIZN2pqgtwK/g0BnoE7psS+G8G8IuIVAS6Aa+o6sas70czEZoBLwAJuPnY01Wxq6d9wgorwtWt9hlP92tHkZTtAC2A6SLEZ3vIWOA83CSB/xSWiDQAigNbcjkJvwp3CNgVt+pL1BPhKuBFIBF4GOhnZeUvVlg+UK/6J0zp257UQjsBWgFTs0pLVRerakVVLaKqmQAiUgGYjLsQ9SQRqZXDZlfh/tGOU9WoHw4kQmNgLpAEPAb0trLyHyssnzj9pI+Yck97UpJ3ArQFJosc/vsTkRTcXkT3wPmokcC9OWxyHfAHrtiimghXAPOAZGAc8B8rK3+ywc8e+ebZqqWBTUf7vNVfNaDLyKns3pcKMAU37Unm0W5HRKYCLwXOdUUtES4FXQhSCJgA3GFl5V+2h+UzZ9VaxaQ+nUhO3A3QGTbNymlPKzciUl1E1gLbo7+s/r4c9i8JlNUk3MwLVlY+ZoXlQ2fXXsmkPp2Jj9sNlGkJSz4UScvXajyq+p2q1lDVu0Ic0zMiIiLp90PyMkhMhF0zcHNaHfWeqIksVlg+dU6d9xndrTOwB2hSD0b+JhJ/T+AcVswSkYug0RfQ/wFIFVi5GlI75lRWItJQRJaLyJ85DCAvHv705kissHysaYP3aF7yemAv0C0JxowAWSsi7UQkpn63IlJbROZDwzfhxVpQBHhuFwy8OJeyqge8CXwCXAg0ATYDbwAtVHVL2MKbfIupN3U0if87gwqjNjJp62IKJ2SV1t3AqIrAdOBDETnDy4zhICIpIjIR+AwaXA1LgTTgGaB9D9Wlu3J56lhgnqr2VNUvVXUpbqhOmqrmud5grA0QjyRWWH6jSpH3dlC5728k/byPXfeUpdsN7wPNgX1AL+CxrZBwK/Chp1nDQFV3Aw/A1a+4sioKzAE6rIW903J6joiUBc7n8HGTOyHvk/KxNkA80lhh+Uj8tgMcP3YT5cb/ya5TU/hxRAV2n5JC20ZpHFd8CXAjsB+4qxjMeSR2hsiNuRRmXucu7H8BaANk3JvHNDtn4N77n+Rw//8g18HjEEMDxCORFZYPxO3KpPiCrVTq+yupX+7h9zvLsKF7GTLT3AidlOQ4ul9fnOJFFtDxyluADKD5OVDnrezjC6ORyJgW0HEWFBd4+zdoNxYOrAFeyuNpWe/7fz6gEJG6uHNZWYuk5jR4HGJkgHikymn0v4kQST/spejbOyj69g5kv7L9vCL81aIEB4rFH/bY5hcVYeeeTDo3fRPlVqYtfhK48QJ4bgVuiE7UERnTHDrMhhIC/90Ab54Me2oBCzTvK6JXAruBkSIyFKiOW9Jroqq+B27wuIgMwZ29vyrribEwQDyS2ZXuHjnsSvcMJfnnfSSv30eh9XsptG4vyb/sJ6NYHNsuTGNL4zQOlMj774uqkrVDNWTG5cxYOhE3g8qc5ao3Xx66nyb8REb/H3SYC6UF3t0Iy6urDtyZtUd5hMJCRK7GDfquCvyMWylndLbxmA2A54FVqnpTKH8Wk39WWB75s0WJ6ilf7/lW9ilxu5WkX/cRlwEqsK9CInurJbPjzFR21kuBhGM7qhs0tRHPvP4ErrRmL1Vt2SSoP4RHREY1gw7zoIzAe5vg9eqqA48442r+ty8VgMW4yRPnAq1U9atgbd8cOyssj/zRqVTl1M/3/JCZJGiysPeEJPZWTWJv5SQ0OXinFu+bciXPrRiHO23zzCLV1k2DtnEPiIy6EtovgOPi4IM/YdmJqgO3Bm/7kgKsAPqq6tsi0hK4WlVbB+s1zLGzwvLIsQ5+PhYDJjXlxbfGEiitV1VbXxuO1w02kZGNoN1iOD4OVm2GJSeqDvzb61wmfOxTQh+ZvmQbl979C6d2/JFuD29k+678DY0bdstCrrvgP4Fbra8RmZnXJ2gRSeShy6BtoKxW/w1LT7ayij1WWD4x5rm/mbVsGyNuLc3sgcfz1Q/7eHzulnw/f8Rtr3LNeT0Dt9peLzL9uZAEDQGREZdA26VQLg7WbIElNVTv+8vrXCb8rLB84NPv9vLU/K08emcZzqpViDpVk2lxWRpvfpTbqJOcjb79ZZqe0ztwq/1NItOeDX7a4BIZcQG0eQ0qxMOHW2FRTdX7wnIobSKPFZYPTFm4lYZ1XFFlKZkWz9/bj362lEe6v0STBn0Dtzq0FJk2M0gxg07koXOh1RuurD7aBgtrqd630etcxjtWWBFu337ljY92c8WZqQfdv3efkpZ6bL++sT2e54oz+wdudWgj8vTUAsYMOpGHGkKrt6BiPHyyAxbWVr3vd69zGW/Zp4Qeye+nhB99s4cWD2wgOVGIz9ZP+w8oDWsXYkrf4485w21jWrPiwyFAJvD0ZNUuXY95Y0EkMvxMaPk+VEmAT3fCq7VU7/3Z61zGezY0J8Kt/z2D5ERhwUPlD7r/tjF/UP/kQgXa9sRez9BlZDxvfzII6NRF5KkM1a7djvjEEBIZfjq0eM+V1Re74NU6VlYmix0SRrgduzMpVTSOyscn/vOVmCB8//t+Gp+VeuQNHMHke2Zwft0HcW+FTreJPDWuwBs9RiLD60GLlVAtEb7cDfNPUb33R6/ymMhjhRXhSqbFsWO3kv3QfcK8LVxUL4UTT0gKyms83W8qDWsPxQ3h6XSHyKRHg7LhoyAyrA7cuMqV1Vd74OVTVfvZrAjmIFZYEa5hnRT27leefHUrv2zaz4R5W1jx4W4GdcrXmhP5NiN9MmfVfIhAafUQmRi21aBFhtWGG9fAiUmwdg/Mraea/m24Xt/4h51098jRDM1Z+P5ORs7ezN/bM2lYuxD3titJpbKJQc+Umam0HnwHa9b1wU0EOHmkare+R3peQYg8WANafAI1kmHdXnjhNNX0r0P5msa/rLA8Es6xhEcjM1O5edBdfPxtTwKlNUy1W3ooXktk6InQ/DOoWQi+3QfP11cd8EUoXstEBzskNAeJixPm3D+WutUeAxKBzgNEnhgU7NcRGVoNrv/UldV3++D5M62szJFYYZnDxMUJLwx6hNpVxgFJQOeBIuPuC9b2RYZUgWs/g1opsH4/PN9QdcBnwdq+iV5WWCZHcXHC3MGjqVlpApAMdHlQZPyAgm5XZEhluPZzOCUVftgPc85R7f9RwRObWGCFZXIVFye8MnQEJ1ecBBQCOg0VGdfnWLcnMqQCXPM51C0MP2bAnPNV+68JXmIT7cJSWLYkuH/FxQmvDhvGiRUm4xaZ6TxS5PGeR3reoUQGl4Orv4JTi8BPGTD7AtV+q4Kf2ESzkBeWLQnuf660hlK13FQCpTVGZOxd+X2+yOCy0PRrOC0NfjkAsy9R7fdB6BKbaBXyyxpE5C1gg6q2yHbfOOBsVT0rpC8ewSL1soa8ZGTAVX0H8cOGdsAOYEp31R7j83qOyOAycNU3cEYx+O0AzLxMte9b4Ulsok1I97AKsiS4iTwJCbBwxP1UPG4Wbrm+TuNEHrstt8eLDC4FTdb9W1azGllZmYII9SFhQZYENxEoMQEWjxrICWVmA2lAxwkij3Y+9HEiD5aAxuvgrOKwIRNmNVG9Z0XYA5uoEurCKsiS4CZCJSUoS0anU77U80BRoONkkUc6ZH1f5MFi0OgbaFAS/siEmU1V73nds8AmaoT0HJaIlAF+BF4Csi8JvkBV78r2uI+BP4CrVDXjKF+jFG4p8auB51R1bnDSh5Yfz2Edas++OBr1GsGGzTcAW4Ep7WDTPLjmOzintCur6deo9lnodVYTHcJx0j2oS4IHliKvCTQLfJ2L25NbD9RQ1f2h+DmCLRoKC2DXnnga9x7Fxr+vA7YofL8N6heDPxWm/Z9q71e9zmiih6eDn/O7JLiIJAEX8G9JVQtnzlAQYfPaWVVKep0jGHbtieeKno+waWuzwD1bFCbfoNrbF3u7xj88u9I9sCT4i0B3VV0PjATuzeXhesiX76lS8uzbfvI6RlAkJshBK/pAkR3Q2+azMkHnu+llAoeENfh3b+s8fHZIKCKlgU0l0uJYObGS13EKZH9GAj3HjWXp6itJS9nKyZXWsmZtA0D/BLlElc+9zmiih+/GEqrztaqOUtULgeOAtsAqXIGZMMk4EE/vJx5xZZW6jenpbZjWry0XnPomIKVBl4tQ2+ucJnr4bg8rGkTDHlbGgXjumTCGBe9fS5GUbUzt34561d3ldnv3JdHt4ad457MLAd0IcrEqNouoKTDf7WEZ7x3IjKPfk6NY8P61FC60naf7tv+nrACSk/bxRM9bOKfOO4CUBV0hwsmhzCQi54rIARFZEsrXMd6ywjJH5UBmHAMmjeDVd6+jcKEdTOnbgdNO+viwxxVK2svEXl1pWPs9QMqBviHCiSGM1gl3jd/5IuLP3VZzRFZYJt8yM4V7Jw/n5f/eQGryTib16UT9kz/M9fEpyXuY2KsLZ9VcCUj5QGkF/ZIUESkM3ARMABYAHYL9GiYyWGGZfMnMFO6bMoyX3rqJQkm7mdSnM2fVXH3E56UW2s2kPp04o8ZqQE4IlFaVIMdrAaxV1bW4IV8dA58mmyhjhWWOSBUGTXuQF968meTEPTzZuzMNaq3M9/MLF9rFU306Uv+k/wFSKVBalYMYsTP/jk1dgptK4rIgbt9ECCsskydVeHD6IGYvb0Ny4h4m9u7COXXeP+rtFEnZyeR7OlKv+keAVAmUVsWC5hORGkADYI7LqxnAc7hzWibKWGGZXKnC0JkDeea1diQl7mVCz1s475R3j3l7RVJ38HS/9tSt9gkgVQOldUIBY3YGEoBfRSRDRDKAbsD1IlKigNs2EcYKy+RIFYY/k86MpR1JTNjL+Ltv5fxT/1vg7aalbmdqv7acUvVTQKoHLnkofyzbEpEEoB3QCzgt21c93CwhrQsc2EQUKyxzGFUYObs/0xZ3ITF+H+N63M5FpwVvotCihbfzdL921Kr8BSAnBUqr3DFs6mqgBDBFVT/P/oUbp3rYxILG36ywzEFUYcxzfZiy8BYS4vfz2F3duaR+8CcKLV5kK9P6t6FmpS8BqREYxlP2KDfTGXhdVbfm8L2XgNNEpH6Bw5qIYYVl/qEKj77Qi0nzbychfj+P3tmdy898LWSvVyJtC9MGtKFGxa8BqQUsF+G4/OfVZqraNJfvfaiqoqq5XyhmfMcKy/zj8bk9mDCvO/FxGTx8Rw8anbUs5K9ZMu1vpvVvw4kV1gHUAV4XoXTIX9j4khWWAWD8y3cybu7dxMkBRt9+N03OXhy21y5V7C9mpLemWvlvAeriSqtU2AIY37DCMkyYdzuPvdiTODnAqG49aXpO+KdgL13sT2YMaEXVct+D+5TvNRGiYkZWEzxWWDHuqfm38sjzfRDJZMRtvWl2nndTsB9XYhMz0ltS5fj1AKcDy0Qo7lkgE3GssGLYlIVdGDWnHyKZDL+lD9ee/4rXkShb4g9mDGhFpbI/gFu/cpkIxbxNZSKFFVaMmra4IyOeTQdgaJd+XH9h5KwXcXypDcxMb8UJZX4COAtYIkJRj2OZCGCFFYNmLmvHsFkDARjcuT83XPyCx4kOV67U78xMb0WF0r8ANAQWi5DmcSzjMSusGPPs660ZPH0QAIM6ptPi0jkeJ8pdhTK/MiO9JeVL/Qpu/clFIhTxOJbxkBVWDJmzoiUPTB0CwMD2A2l5+bMeJzqyisf9woz0Vhxf8jeA84GFIhT2OJbxiBVWjHjhzZsYOGUYAOltB9Gm0UyPE+VfpbI/MTO9FceV2ABwITBfhFSPYxkPWGHFgLlvNefeycMB6Nd6CO2bTPM20DGofPyPzExvRZniGwEuAeaJkOJxLBNmVlhR7pX/Xkf/p0aiGsc9LYfT6aopXkc6ZlXLrWdGeitKF9sEcDnwigiFPI5lwsgKK4rNf/ca+j05CtU4erUYQZerJ3kdqcCql/+eGQNaUaronwCNgLkiJHscy4SJFVaUWvD+1fSZ8DCZGs/dN4zh1msmeh0paE484VumD2hNibS/AK4EXrLSig1WWFFo8cqr6PPEI2RqPHde/wi3XzfO60hBd3LFdUwf0IbiRTYDNAWeFyHJ41gmxKywoszS1Y3pOe4xDmQmcPv/PU7368d6HSlkalb6mmn921CsyN8A1wBzREj0OJYJISusKPL6/67gP48/zoHMBG69Zjw9bniYaF+dr3aVr5jWry1FU7cCXAc8a6UVvaywosSKDy+jx9hxZBxIpEvTJ+l50+ioL6ssdap+wdT+bUlL3QZwAzBLhASPY5kQsMKKAm9+fDF3Pjae/QeS6HjlZPq0fChmyipL3Wqf8XS/dhRJ2Q5u2foZIsR7HMsEmRWWz/330wvp/uhE9mck077J0/RrPTTmyipLveqfMKVve1IL7QRoCUyz0oouVlg+9u5n59Pt4Uns259Mm0bTGdBmcMyWVZbTT/qIKfe0JyV5J0AbYIqIvc+jhf0ifer9L87htjFPsW9/Mq0un8l97R6I+bLKckaNNUzu04mUpF0A7YGnrLSig/0SfWjll2dz6+gp7N1fiJsumc3A9vdbWR3irFqrmNSnE4WSdgN0AiZaafmf/QJ9ZvXXZ3HL6KfZsy+FGy5+jgc7pRMXp17Hikhn117Jk707k5y4B6ArMF4Eq3Yfs8IKEJFXRURz+brG63wAa9aeQdeRU9m9N5XrL3yBIZ37W1kdwTl13mdir64kJewFuA143ErLv6yw/tURKAecFLh9VeB2OWCRV6GyfPTN6XQZOY1dewtz7flzGdq1n5VVPp1X9x0m9LqFxIR9AHcAj1hp+ZMVVoCq/qWqG4AygALvqOqGwFeGl9k++fY0Oj00nZ17itDs3Fd46NY+xMdlehnJdy449W3G/+fWrNLqAYy20vIfK6zDnQr8oKrbvQ4C8Nn3dek0Yjo796RxVcP5jLitt5XVMbr4tDcZ16MbCfH7AXoCI6y0/MUK63CnAp8eeqeIrBSRMwP/P11EuolIfRFZku0xzUVkfLCCfLG+Dh2Hz2T7rqI0abCI0bf/h4T4A8HafEy6pP4Kxt51B/GutPoAw6y0/MMK63BVgLU53D8YGCAivYAdqjoBV2y1AUQkEUgHHsxtwyISLyLTcWvtoQpvfbyL4bM2H/bYL3+oRYfhs9i2qxhXnLmEMXf0sLIKksvPfI1H77yT+LgMgH7Ag1Za/mCFdbg4oLKInCDy79VNqroAqAY0xp0DIXBu6xcRqQh0A15R1Y25bVhVDwS2vwhgy45Muo76gxJpB/8avv6pJh2Gz2LrzuJcdsYyHrnzLhITPD2NFnUan7WUh7v3yCqte4GBHkcy+WCFdbixwHnA1/DvX10RaQAUB7YcchJ+FXAp7jqfMfnY/vxD77i0/r8LwKz7+WTaD5vFlh0lueT05Tx2V3eSEvYfy89hjuDKsxcx+va7iZMDAA+IcK/XmUzerLAOoaqLVbWiqhZR1UwAEakATMat1nKSiNTK9pRVwMPAOFXdmY+XWAr8U3gnlEngpBPc9E3f/nIi7YY9w9/bS3FhvTd4vMftVlYh1vSchYzq1jOrtAaL0N/rTCZ3VlhHICIpwItAd1VdD4yEg/4SrwP+wBXaEanqVuCtrNuXnJ6CiPDdb9VoN+xZNm8rzfl132b83beRlLgveD+IyVWz817loVv7IJIJ7iT8PV5nMjkTVbv4sCBEZCrwUuAcV36f0wN4FGBqv7KUL12btkNm88eWspx7yjtM7NWFQkl7Q5TY5GbuW83/WRIN6KXKw15nMgezPaxjJCLVRWQtsP1oyipgPkDhQkLZEjVoO/RZ/thSloa132NCz65WVh65/qKXGNLlnyPCMSLuwxUTOWwPyyMJ8fL1uXXq1Pjm12Vs2FyeBrU+YFLvTqQW2s2+/crKr/aw4sNdpCYLfVqW9DpuTJmzoiUDpwzLunmnKtG37JBP2bzXHimU2OD9T9e/VGPrjvKcWWMVw7t2YPHKP3njo928+9ludu5RRGD+8PJeR405N186m8zMOB6YOgTcYOkDqkzwOpexPSxPiFBZZNdK1dSy5UqtpHSxpny+/i+i4Vcxd0g5TqkaHWuazlzWjsHTB2XdvFUV/y+d7XNWWGEmQiXgTaAq7PgEar4CvzYCGkLUXG19pqqu8TpEMATOYz0auNlFlSkexol5VlhhJMIJuLKqDqwGrlBlq/ueHIeb0uZq3NX0RXCzRpyqqp97EvgoicgaoD5RVFgAIvTEXRSsQCdVpnmbKHZZYYWJCOVxZXUSsAa4XJUtOT9WkoGLgGbALlXtG6aYBRKthQUQuDZrBK602qsy0+NIMclOuoeBCOWAN3Bl9RHQKLeyAlDVvcCywJeJAKqMDCwZNgy3fNgBVZ71OlesseuwQkyEssAK4GTgE9xh4OHTM5iIp8pw3CDpOGCmCC08jhRzrLBCSITjcGVVE/gMdxj4l7epTEGoMhgYhPu384wIN3ocKaZYYYWICKWB5bj5sr4ALlPlT29TmSAZBAwB4oHZIlzvcZ6YYYUVAiKUwpXVKcBXuLLa5G0qEyyqKO7Q8CFcaT0nwrXepooNVlhBJkJJ4HXcVMtrgUtVyXVSP+NPgdIaAIzCfXj1gghXe5sq+llhBZEIJYDXgNOAb3BltcHTUCZkAqXVF3gESAReEuEqb1NFNyusIBGhOG5yvvrAd8AlqvyWv+dG/iKuJmeB0uoFPAYkAXNFaOxtquhlhRUEIhQFluAWl1iPK6tfj2ITEb2Iq8lboLT+A4wHkoF5IlzubaroZIVVQCKkAYuBs4EfcGX189FsI5IXcTX5EyitO4GJuNKaL8Kl3qaKPlZYBSBCEdwe0LnAT7iy+rEAm4yoRVzN0QmU1h3AU0AhYIEIF3mbKrpYYR0jEQoDC4HzgV9wZfVDATd72CKueS3WmtPirgV8fVNAqmQCtwFPAynAIhEu8DZV9LCxhMdAhFTcNMcXAr/iyur7IGy6CnDozAw5LdZ6ZeB7WYu7vsu/i7saj6mSKUJX3DVa7YHFIjRW5V2Po/me7WEdJRFSgFdxS379jrt04dsgbf6wRVzzWqw1p8VdTWQI7Gl1BmYBhYElIpzjbSr/s8I6CiIUAl4BLgM24spqXRBfIsdFXMllsdY8Fnc1EUCVA0AHYDZufrMlIjTwNJTPWWHlkwjJwMtAI9w6hJeq8nUwXyOnRVwDDlus9QiLu5oIESitdsDzQFFgmQhnepvKv6yw8iFQVi8BTYA/cWMDvwxjhIMWa83H4q4mgqiSAbTBvYeKAa+JUN/bVP5kM44egQhJuHJoBvyF27P6NO9nBTvD0S/W6oVonnE0GERIBJ4DrgP+xr2XPvY0lM/YHlYesr3BmgGbcfNZha2sCrhYq4kwquwHbsZ9aFMCeF2EU71N5S9WWLkIlNVs4P+ALbiZQj8OZwZV/U5Va6jqXeF8XRM6quwDbsJdw1cKWC7CKd6m8g8rrByIkID7OLo5sBVXVh96m8pEC1X24t5bi4HSwAoRd62dyZsV1iECZTUD91dwG27BiP95m8pEm0BpXY9baKQMrrRqepsq8llhZRNYFWUa0BLYDjRWZZWnoUzUUmUP7pTDcnCLlYhwsqehIpwV1sFq4/7q7QSuVOUDj/OYKKfKbuAa3DJw5YAu3iaKbDaWMBtVPgtMc7vfxn2ZcFFllwjNgFuBR8PxmjJIrgYW6f0HXaAc8aywDqHKCq8zmNijyk7caIZw6Yq7GNlXpzzskNCYGCODJAW4And9oa9YYRnjUyLypIhkikjaIff/KiLf5fHUS3FzdVlhGWPCph9uVo8Hsu4QkZOB8sC4PJ6XVVT1ZJBUDFm6ELDCMsanVPVv3KribbPdPRzIIJeT9zJIBA5aP9FXaylaYRnjb0OAMiJyRuD2VcBbmvusBqcDFbLd9tVhoRWWMT6mqnOAXcBQEWmFW/xiQB5PObSgLpVBUjhU+YLNCssY/5uHO5HeD/hLVfO6VOHQwkrGfWLoC1ZYxvhfHyARqIsbtJ8jGSRlgE9wC/cCvI87/+Wb4UA2gZ8JGpvAzzuByxiqAsWOtK6lDJILgLeB/+r9emE48gWL7WEZEx2KA59G+yK8NjTHGB8TkWq4Jd5KAq09jhNyVljG+Ns63IKtC1R1yZEe7Hd2SGiMj6lqgqqKqkbE9VQiUkZENojIgGz3nS0i+0SkUUG3b3tYxpigUdVNItIJeEVEluEWBZ4FPKGqywq6fSssY0xQqeoiEXkKeAZYDezBXSNWYHZIaApMRO4VkRa4cykANUVkuogU9TKX8VRv3A7RTUBrVd0TjI1aYZlgWA/MAeoFbs8CKqvqttyeICINRWS5iPwpInrIV/EwZDahVQ03a0QcUDlYG7XCMsGwGDhwyH3zc3uwiNQD3sRddX0h0AS3UO0bQAtV3RKSlCYsRCQJdzj4HHAvMEVEygZj21ZYpsBUdTMcNgd+roUFjAXmqWpPVf1SVZfiFq1NU9XnQ5XThM1QoBhwFzAS+AqYEowNW2GZYMleUOtUdV1ODwr8pT0feOKQb+0EbJyYz4nIxcDdQFtV3aaqmbjxiueLSLeCbt8KywTL/Fz+/1Bn4N53n+Rw//9EpL6I/HMBpIg0F5HxwYtpQklV31TVRFV9J9t9P6lqcVWdUNDtW2GZYFkHfBv4/wV5PC7rPZeSdYeI1MWdy5oFfIpbHxIRSQTSgQeDHdb4k12HZYJCVVVE5uOmLslrTceVwG5gpIgMBaoDjwMTVfU9ABH5RUQqAtcBr6jqxtCmN8dCBslVQCfcHvUivV83hfo1rbBMMM0HjlfV/bk9IHAl9E3AGNze1M/ARGB0toetwk1I1xVoGLq4poCW4n5vzQGVQfIB7j0wH/hC7w/+3FU2H5YJmsAh3OWquriA22mF2+saoKpPBiWcT8gg+RGo5HWOIPgBd2pgvt5f8CE5WWwPywRNYM+qQGUVsA63KvHkIGzLeEcJ8ie/todlIo6ITAVeUtW8Tt6bYxSsGUdlkMQDnwG1cMX0Pv8eEn4ZikNC28MyEUNEqgOLgKVWVr7QGLcu4kPAYjvpbmKKqn4H1PA6h8kfvV8X4f7AhI1dh2WM8Q0rLGOMb1hhGWN8wwrLGOMbVljGGN+wwjLG+IYVljHGN6ywjDG+YYVljPENKyxjjG9YYRljfMMKyxjjG1ZYxhjfsMIyxviGFZYxxjessIwxvmGFZYzxDSssY4xvWGEZY3zDCssY4xtWWMYY37DCMsb4hhWWMcY3bOVnY4xv2B6WMcY3rLCMMb5hhWWM8Q0rLGOMb1hhGWN8wwrLGOMbVljGGN+wwjLG+IYVljHGN6ywjDG+YYVljPENKyxjjG9YYRljfMMKyxjjG/8PJyqeTPAzLSoAAAAASUVORK5CYII=' width=300.0/>\n",
       "            </div>\n",
       "        "
      ],
      "text/plain": [
       "Canvas(header_visible=False, toolbar=Toolbar(toolitems=[('Home', 'Reset original view', 'home', 'home'), ('Bac…"
      ]
     },
     "metadata": {
      "filenames": {
       "image/png": "E:\\Work\\Science\\GitHub\\Basics-of-Modelling\\_build\\jupyter_execute\\5-Geomechanics\\1-RG\\RG-3-StressRotation-PrincipleStresses-MohrCircles-Part1_13_0.png"
      }
     },
     "output_type": "display_data"
    }
   ],
   "source": [
    "fig, ax = plt.subplots(frameon=False, figsize=(3, 3))\n",
    "fig.canvas.header_visible = False\n",
    "\n",
    "x0 = [-2, -2, 0, 0, 0, 0, 3, 4, -3, 3]\n",
    "y0 = [0, 0, -2, -2, 0, 0, -4, -5, -3, -3]\n",
    "\n",
    "U = [[-2, 0, 0, -2, 1.414, -1.414, 2, 0, 6, -6]]\n",
    "V = [[0, -2, -2, 0, 1.414, 1.414, 0, 2, 6, 6]]\n",
    "\n",
    "ax.quiver(x0, y0, U, V, scale=1, angles='xy', scale_units='xy',\n",
    "          color=['k', 'k', 'k', 'k', 'k', 'k', 'g', 'g', 'b', 'b'], zorder=2)\n",
    "\n",
    "ax.text(-4.75, 0, '$\\\\sigma_x$')\n",
    "ax.text(-3.15, -1.75, '$\\\\tau_{xy}$')\n",
    "ax.text(0.25, -4, '$\\\\sigma_y$')\n",
    "ax.text(-2, -2.7, '$\\\\tau_{yx}$')\n",
    "ax.text(1.5, 1.0, '$\\\\sigma_{x\\'}$')\n",
    "ax.text(-1.5, 1.5, '$\\\\tau_{x\\'y\\'}$')\n",
    "ax.text(4.8, -3.8, 'x')\n",
    "ax.text(3.4, -3.4, 'y')\n",
    "ax.text(3.4, -3.4, 'y')\n",
    "ax.text(3.3, 3.0, '$x\\'$')\n",
    "ax.text(-3.3, 3.0, '$y\\'$')\n",
    "ax.text(-1.7, 0.5, '$\\\\theta$')\n",
    "ax.text(1, -0.5, 'A')\n",
    "\n",
    "ax.add_patch(Polygon([[-2, -2], [-2, 2], [2, -2]], fc='goldenrod', ec=None))\n",
    "\n",
    "plot_angle_arc(ax, -2, 2, -90, -45, 2.0, 1, color='r')\n",
    "\n",
    "ax.set_xlim(-5, 5)\n",
    "ax.set_ylim(-5, 5)\n",
    "ax.axis('off')\n",
    "fig.patch.set_visible(False)\n",
    "\n",
    "fig.tight_layout()"
   ]
  },
  {
   "cell_type": "markdown",
   "id": "de9914b7",
   "metadata": {},
   "source": [
    "Запишем проекции сил на оси $Ox'$ и $Oy'$, выраженные через произведения напряжений и площадей поверхностей призмы, к которым они приложены:\n",
    "\n",
    "$$ \\begin{align}\n",
    "Ox' &: \\sigma_{x'} A - \\sigma_x \\cos{\\theta} \\cdot A \\cos{\\theta} - \\tau_{xy} \\sin{\\theta} \\cdot A \\cos{\\theta} - \\tau_{yx} \\cos{\\theta} \\cdot A \\sin{\\theta} - \\sigma_y \\sin{\\theta} \\cdot A \\sin{\\theta} = 0 \\\\\n",
    "Ox' &: \\sigma_{x'} = \\sigma_x \\cos^2{\\theta} + \\tau \\sin{2\\theta} + \\sigma_y \\sin^2{\\theta} \\\\\n",
    "Oy' &: \\tau_{x'y'} A + \\sigma_x \\sin{\\theta} \\cdot A \\cos{\\theta} - \\tau_{xy} \\cos{\\theta} \\cdot A \\cos{\\theta} + \\tau_{yx} \\sin{\\theta} \\cdot A \\sin{\\theta} - \\sigma_y \\cos{\\theta} \\cdot A \\cos{\\theta} = 0 \\\\\n",
    "Oy' &: \\tau_{x'y'} = (\\sigma_y - \\sigma_x) sin{\\theta} \\cos{\\theta} + \\tau (\\cos^2{\\theta} - \\sin^2{\\theta}).\n",
    "\\end{align} $$\n",
    "\n",
    "```{admonition} NB\n",
    "При преобразовании выражений было применено упрощение $\\tau_{xy} = \\tau_{yx} = \\tau$, обусловленное нахождением элементарного объема в равновесии (крутящий момент, приложенный к данному объекту равен нулю).\n",
    "```\n",
    "\n",
    "Дополняя приведенные выше уравнения выражением для $\\sigma_{y'}$, полученное преобразованием выражения для $\\sigma_{x'}$ путем подстановки вместо $\\theta$ угла $\\theta + \\frac{\\pi}{2}$, получим:\n",
    "\n",
    "$$\\left\\{\\begin{array} \\\\ \\sigma_{x'} = \\sigma_x \\cdot \\cos^2{\\theta} + \\tau \\cdot \\sin{2\\theta} + \\sigma_y \\cdot \\sin^2{\\theta} \\\\ \\tau_{x'y'} = (\\sigma_y - \\sigma_x) \\cdot sin{\\theta} \\cdot \\cos{\\theta} + \\tau \\cdot (\\cos^2{\\theta} - \\sin^2{\\theta}) \\\\ \\sigma_{y'} = \\sigma_x \\cdot \\sin^2{\\theta} - \\tau \\cdot \\sin{2\\theta} + \\sigma_y \\cdot \\cos^2{\\theta} \\end{array} \\right.$$\n",
    "\n",
    "Это же выражение может быть получено и записано в матричном виде. Поскольку тензор напряжений является матрицей линейного преобразования вектора нормали в вектор напряжений, записанный в стандартном базисе:\n",
    "\n",
    "$$\\vec{T} = S \\cdot \\vec{n},$$\n",
    "\n",
    "то это же линейное преобразование в другом базисе $B$ [может](../../0-Math/1-LAB/LAB-8-LinearTransformations.html#math-lab-linear_transform) быть записано следующим образом:\n",
    "\n",
    "$$\\begin{bmatrix} \\vec{T} \\end{bmatrix}_B = D \\cdot \\begin{bmatrix} \\vec{n} \\end{bmatrix}_B \\\\ D = Q \\cdot S \\cdot Q^{-1}$$\n",
    "\n",
    "Здесь матрица $Q$ представляет собой матрицу перехода от стандартного базиса к базису $B$. Для ее получения рассмотрим следующий пример. Пусть имеется два напряжения $\\sigma_1$ и $\\sigma_2$ в стандартном базисе. Необходимо определить координаты напряжений $\\sigma_{1'}$ и $\\sigma_{2'}$ относительно нового базиса (осей $x'$ и $y'$), повернутого на угол $\\alpha$ относительно стандартного. В данном случае ось $z$ направлена от читателя. Положительное направление угла $\\alpha$ выбрано в соответствии с [положительным направлением вращения правой системы координат](https://en.wikipedia.org/wiki/Right-hand_rule)."
   ]
  },
  {
   "cell_type": "code",
   "execution_count": 8,
   "id": "534a0c20",
   "metadata": {
    "tags": [
     "hide-input"
    ]
   },
   "outputs": [
    {
     "data": {
      "application/vnd.jupyter.widget-view+json": {
       "model_id": "ccef153e4549494e95e9c97ade896de0",
       "version_major": 2,
       "version_minor": 0
      },
      "image/png": "[encoded data removed]",
      "text/html": [
       "\n",
       "            <div style=\"display: inline-block;\">\n",
       "                <div class=\"jupyter-widgets widget-label\" style=\"text-align: center;\">\n",
       "                    Figure\n",
       "                </div>\n",
       "                <img src='data:image/png;base64,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' width=600.0/>\n",
       "            </div>\n",
       "        "
      ],
      "text/plain": [
       "Canvas(header_visible=False, toolbar=Toolbar(toolitems=[('Home', 'Reset original view', 'home', 'home'), ('Bac…"
      ]
     },
     "metadata": {
      "filenames": {
       "image/png": "E:\\Work\\Science\\GitHub\\Basics-of-Modelling\\_build\\jupyter_execute\\5-Geomechanics\\1-RG\\RG-3-StressRotation-PrincipleStresses-MohrCircles-Part1_15_0.png"
      }
     },
     "output_type": "display_data"
    }
   ],
   "source": [
    "fig, ax = plt.subplots(figsize=(6, 4))\n",
    "fig.canvas.header_visible = False\n",
    "\n",
    "x0 = [-2, 0, -2, -1, 0, 0, 0, 0]\n",
    "y0 = [0, -2, 1, -2, 0, 0, 0, 0]\n",
    "\n",
    "U = [[8, 0, 8, 4, 2, 2, 0, 4]]\n",
    "V = [[0, 8, -4, 8, 4, -1, 3, 0]]\n",
    "\n",
    "plot_angle_arc(ax, 0, 0, np.rad2deg(np.arctan(2)), 90, 2.0, 1, color='g')\n",
    "\n",
    "ax.quiver(x0, y0, U, V, scale=1, angles='xy', scale_units='xy', color=['k', 'k', 'b', 'b', 'r', 'r', 'y', 'y'], zorder=3)\n",
    "\n",
    "ax.text(6, 0, '$y$')\n",
    "ax.text(0, 6, '$x$')\n",
    "ax.text(6, -3, '$y\\'$')\n",
    "ax.text(3, 6, '$x\\'$')\n",
    "ax.text(2.2, 3.8, '$\\\\overrightarrow{\\\\sigma_{1\\'}}$')\n",
    "ax.text(-0.5, 2.5, '$\\\\overrightarrow{\\\\sigma_{1}}$')\n",
    "ax.text(1.5, -1.5, '$\\\\overrightarrow{\\\\sigma_{2\\'}}$')\n",
    "ax.text(3.5, 0.25, '$\\\\overrightarrow{\\\\sigma_{2}}$')\n",
    "ax.text(0.17, 1.11, '$\\\\alpha$', c='g')\n",
    "\n",
    "ax.set_xlim(-3, 7)\n",
    "ax.set_ylim(-3, 7)\n",
    "ax.set_xticks(range(-3, 8))\n",
    "ax.set_yticks(range(-4, 8))\n",
    "ax.set_aspect('equal', adjustable='box')\n",
    "ax.set_axisbelow(True)\n",
    "ax.grid()\n",
    "ax.set_xlabel('Y')\n",
    "ax.set_ylabel('X');\n",
    "\n",
    "fig.tight_layout()"
   ]
  },
  {
   "cell_type": "markdown",
   "id": "f1826448",
   "metadata": {},
   "source": [
    "Суть вращения заключается в том, что каким бы то ни было образом повернутые оси не должны изменять напряженное состояние исследуемого объекта. На основании этого можно записать следующие проекции векторов на оси $Ox'$ и $Oy'$ соответственно:\n",
    "\n",
    "$$\\sigma_{1'} = \\sigma_1 \\cdot \\cos{\\alpha} + \\sigma_2 \\cdot \\sin{\\alpha} \\\\ \\sigma_{2'} = -\\sigma_1 \\cdot \\sin{\\alpha} + \\sigma_2 \\cdot \\cos{\\alpha}$$\n",
    "\n",
    "Матричная запись данной системы уравнений:\n",
    "\n",
    "$$\\begin{bmatrix} \\sigma_{1'} \\\\ \\sigma_{2'} \\end{bmatrix} = \\begin{bmatrix} \\cos{\\alpha} & \\sin{\\alpha} \\\\ -\\sin{\\alpha} & \\cos{\\alpha} \\end{bmatrix} \\cdot \\begin{bmatrix} \\sigma_{1} \\\\ \\sigma_{2} \\end{bmatrix}$$\n",
    "\n",
    "Таким образом, матрица\n",
    "\n",
    "$$Q = \\begin{bmatrix} \\cos{\\alpha} & \\sin{\\alpha} \\\\ -\\sin{\\alpha} & \\cos{\\alpha} \\end{bmatrix}$$\n",
    "\n",
    "является матрицей вращения напряжений в двухмерном пространстве."
   ]
  },
  {
   "cell_type": "markdown",
   "id": "c365712f",
   "metadata": {},
   "source": [
    "Рассмотрим пример. Пусть в стандартном двухмерном базисе тензор напряжения:\n",
    "\n",
    "$$S = \\begin{bmatrix} 20 & 10 \\\\ 10 & 7 \\end{bmatrix}$$\n",
    "\n",
    "Необходимо определить тензор напряжения при повороте базиса на угол $\\frac{\\pi}{6}$. Если воспользоваться формулами, выведенными при рассмотрении равновесного состояния призмы, то получим следующие значения напряжений:"
   ]
  },
  {
   "cell_type": "code",
   "execution_count": 9,
   "id": "c17571fc",
   "metadata": {},
   "outputs": [
    {
     "data": {
      "text/plain": [
       "(25.41025403784439, -0.629165124598849, 1.5897459621556145)"
      ]
     },
     "execution_count": 9,
     "metadata": {},
     "output_type": "execute_result"
    }
   ],
   "source": [
    "sx = 20\n",
    "sy = 7\n",
    "t = 10\n",
    "alpha = np.pi / 6\n",
    "sx_new = sx * (np.cos(alpha)) ** 2 + t * np.sin(2 * alpha) + sy * (np.sin(alpha))**2\n",
    "t_new = (sy - sx) * np.sin(alpha) * np.cos(alpha) + t * ((np.cos(alpha))**2 - (np.sin(alpha))**2)\n",
    "sy_new = sx * (np.sin(alpha)) ** 2 - t * np.sin(2 * alpha) + sy * (np.cos(alpha))**2\n",
    "sx_new, t_new, sy_new"
   ]
  },
  {
   "cell_type": "markdown",
   "id": "9964e6ba",
   "metadata": {},
   "source": [
    "Такой же результат получается при использовании матрицы вращения тензора напряжений:"
   ]
  },
  {
   "cell_type": "code",
   "execution_count": 10,
   "id": "39d8df5c",
   "metadata": {},
   "outputs": [
    {
     "data": {
      "text/plain": [
       "array([[25.41025404, -0.62916512],\n",
       "       [-0.62916512,  1.58974596]])"
      ]
     },
     "execution_count": 10,
     "metadata": {},
     "output_type": "execute_result"
    }
   ],
   "source": [
    "S = np.array([[20, 10], [10, 7]])\n",
    "Q = np.array([[np.cos(alpha), np.sin(alpha)], [-np.sin(alpha), np.cos(alpha)]])\n",
    "Q.dot(S).dot(np.linalg.inv(Q))"
   ]
  },
  {
   "cell_type": "markdown",
   "id": "8729799d",
   "metadata": {},
   "source": [
    "Проиллюстрируем изменение значений нормальных и касательных напряжений при повороте базиса на произвольное значение угла. Ниже приведена интерактивная диаграмма, позволяющая определить тензор напряжений при любых значениях угла поворота базиса. На первой диаграмме изображено вращение рассматриваемой элементарной площадки из условия сохранения исходного напряженного состояния. На второй диаграмме показано изменение значений нормальных и касательных составляющих тензора напряжений при вращении площадки. Третья диаграмма представляет собой график изменения нормальной и касательной координат вектора напряжения при повороте площадки на некоторый угол. Эти координаты определялись следующим образом. Вектор напряжения, согласно закону Коши, равен произведению тензора напряжений на нормаль к рассматриваемой площадке:\n",
    "\n",
    "$$\\vec{T} = S \\cdot \\vec{n}$$\n",
    "\n",
    "Координаты нормали к площадки являются направляющими косинусами вектора нормали и могут быть выражены через угол поворота площадки $\\alpha$:\n",
    "\n",
    "$$\\vec{n} = \\begin{bmatrix} \\cos{\\alpha} \\\\ \\sin{\\alpha} \\end{bmatrix}$$\n",
    "\n",
    "Единичный вектор, лежащий в плоскости площадки, будет иметь координаты:\n",
    "\n",
    "$$\\vec{s} = \\begin{bmatrix} -\\sin{\\alpha} \\\\ \\cos{\\alpha} \\end{bmatrix}$$\n",
    "\n",
    "Проекция вектора на некоторую ось (в данном случае – на нормаль) равняется произведению данного вектора на единичный вектор оси (то есть на вектор нормали), тогда:\n",
    "\n",
    "$$T_n = \\vec{T} \\cdot \\vec{n} = S \\cdot \\vec{n} \\cdot \\vec{n}$$\n",
    "\n",
    "Проекция вектора напряжения на плоскость будет равна:\n",
    "\n",
    "$$T_s = \\vec{T} \\cdot \\vec{s} = S \\cdot \\vec{n} \\cdot \\vec{s}$$"
   ]
  },
  {
   "cell_type": "code",
   "execution_count": 11,
   "id": "eea70273",
   "metadata": {
    "tags": [
     "hide-input",
     "full-width"
    ]
   },
   "outputs": [
    {
     "data": {
      "application/vnd.jupyter.widget-view+json": {
       "model_id": "af3dbd983fbe443d935dbfe2ccff98c0",
       "version_major": 2,
       "version_minor": 0
      },
      "text/plain": [
       "interactive(children=(FloatSlider(value=5.0, description='sx', max=5.0, step=0.01), FloatSlider(value=3.0, des…"
      ]
     },
     "metadata": {},
     "output_type": "display_data"
    },
    {
     "data": {
      "application/vnd.jupyter.widget-view+json": {
       "model_id": "28ffe36bd7e6489ea2b09213cee68a16",
       "version_major": 2,
       "version_minor": 0
      },
      "image/png": "[encoded data removed]",
      "text/html": [
       "\n",
       "            <div style=\"display: inline-block;\">\n",
       "                <div class=\"jupyter-widgets widget-label\" style=\"text-align: center;\">\n",
       "                    Figure\n",
       "                </div>\n",
       "                <img src='data:image/png;base64,iVBORw0KGgoAAAANSUhEUgAAA4QAAAGQCAYAAAD2lq6fAAAAOXRFWHRTb2Z0d2FyZQBNYXRwbG90bGliIHZlcnNpb24zLjUuMSwgaHR0cHM6Ly9tYXRwbG90bGliLm9yZy/YYfK9AAAACXBIWXMAAA9hAAAPYQGoP6dpAACt/ElEQVR4nOzdd3wT9RsH8M+lSfee7DIFZIPsvcreylBkqYAMRcTBcKAiPwUVFVEQBRFkD9lQKHvvDbIplNK9V9rc749vLkknaZvkLnfP+/Xqq5eQ5p5cQ3rPfb/f5+F4nudBCCGEEEIIIURxVGIHQAghhBBCCCFEHJQQEkIIIYQQQohCUUJICCGEEEIIIQpFCSEhhBBCCCGEKBQlhIQQQgghhBCiUJQQEkIIIYQQQohCUUJICCGEEEIIIQpFCSEhhBBCCCGEKBQlhIQQQgghhBCiUJQQEkIIIYQQQohCUUJICCGEEEIIIQpFCSEhhBBCCCGEKBQlhIQQQgghhBCiUJQQEkIIIYQQQohCUUJICCGEEEIIIQpFCSEhhBBCCCGEKBQlhIQQQgghhBCiUJQQEkIIIYQQQohCUUJICCGEEEIIIQqlFjsAQgij0+kQEREBDw8PcBwndjiEEIXheR7JyckoV64cVCq6XkyfyYQQMdnyM5kSQkIkIiIiAhUrVhQ7DEKIwoWHh6NChQpihyE6+kwmhEiBLT6TKSEkRCI8PDwAAPfv34evr6/I0dgfrVaLvXv3IiQkBBqNRuxw7A4dv9Kz92OYlJSEihUrGj6LlE44DuHh4fD09LTqvuz9vVMc9FrlRymvE7Dta7XlZzIlhIRIhDAlycPDw+onH3Kk1Wrh6uoKT09P2f9BsgY6fqUnl2NI0yMZ4Th4enraJCGUw3vHHPRa5UcprxMQ57Xa4jOZFgkQQgghhBBCiEJRQkgIIYQQQgghCkUJISGEEEIIIYQoFCWEhBBCCCGEEKJQlBASQgghhBBCiEJRQkgIIYQQQgghCkUJISGEEEIIIYQoFCWEhBBCCCGEEKJQlBASQgghhBBCiEJRQkiI0mRmAjwvdhSSpdXS4SkUzwM5OXSACqHT0aEhROl4nodOp0NqairS0tKQkZEBrVYLnufB0wcEkShKCAmRu6go4OuvgebNAVdXwNkZ8PUF2rcHFi8GkpLEjlBUERHAp58CL70EODkBjo6Anx/QpQuwbBmQni52hCJ79Aj46COgUSNArWZf/v5Az57AqlUsg1awO3eA994DGjQAXF3VGDCgH8qWVWPgQGDdOpY/E0LsE8/zuH79OkaNGgWO48z6UqlUcHBwgLu7O7y9vTF06FC4ublBpVJBpVKZ9RwtWrTAv//+ixz6ACE2QgkhIXKVnQ3MmQNUqwbMnAmcPm3MbhISgMOHgfHjgerVgb//VtzQRlYWMGMGOzxffgmcO8fuA4D4eGD/fmDMGPbvW7aIGqo40tKAd99lB+Dbb4GLF9kQGADExQG7dgHDhwM1agB794oaqhiSkoC33gJeeAFYsAC4fBnQ6TgAQGwsh82bgSFDgDp1gCNHxI2VEFI0rVaL+fPnF5jc1alTB3/99ZdN4zl16hT69+8PtVqdL6Z+/fohMjLSpvEQ+VOLHQAhxAoiI4GhQ4FDh9jtJk2AceOADh3Y6OCTJ8C+fcCvv7IhjhEj2An+n3+yEUSZe/gQePll4OxZdrt1a2DsWKBNG8DLiw2K7dkDLFoEhIcDAwawk/9ffgE0GnFjt4lbt9iLvnGD3e7UiR2Ali0BNzfgwQP2fvnlF3Ywu3UDpk4F5s0DVPK/znj5MtC3L3vpABssHTMGaNRIiyNH9qFata7YvVuNRYvYoezQgY1Cf/opwHGihk6I4ul0Ovz000947733LPq8jRs3Rq1atVC1alUEBATAx8cHPM/j4sWLqF69OuLj4xEeHo5bt27h6tWriImJKdF+tm7diq1bt+a6r3Pnzti4cSO8vLws8VKIEvGEEElITEzkAfAxMTGle6JHj3i+alWeB3je3Z3nV6zgeZ2u4MdmZvL811/zvFrNHt+qFc8nJpZu/yLJysrit2zZwmdlZRX5uFu3eL58efZyfX15ftOmwg9PejrPT5/O8yoVe3z37jyfmmqF4CXAcPxOneL5gAD2gsuU4flduwr/oZQUnp80iT0W4PkhQ9h7SsYOHeJ5Ly/2citXZrcFed+DiYk8P2qU8fCMG8fz2dnixG0O4TMo0U4/AyzNlsfD3M8vObD1a83OzuYnTZrEAyj2V/369fldu3bxOTk5Jdp3aV7rnTt3+BEjRpQobj8/Pz4yMrJEMZcEvX+tw5afQfK/lEuIkkREsOGIe/eAKlXYENjrrxc+LOHoCEyfzqb8eXsDx4+zoQ+ZLpy7f58tnXzyBKhdG7hwgQ2EFXZ4nJ3Z8sstWwAXF2D3bmDwYPkum/MID4e6WzcgOhpo3Bi4dAno3r3wH3BzA37+GVi9mg2drl0LjBplnFoqM2fPAj16AImJQNu2wPnzQLt2hT/e05OtQ12yhL3HFi8GJkxQ3OxsQmzu+PHjhimWarUaCxcuLPLxrVq1Qnh4uKHwi/B16dIldO/eHSoRZj5Uq1YNf/31V76YMjMz8cknnxT5s7GxsShTpozhGHz44YdU0IYUiRJCQizkyZMnGD58OPz8/ODq6oqGDRvi3LlztgsgPR3o358lg1WrsumiNWua97MdO7JFcx4e7Odef112Z62JiUDv3mw2bb16wMGDQKVK5v1snz4sZ3Z2BnbsAN5+W3aHB3j2DM2//BJcQgLQogUQFgYEBpr3s0OHAv/+ywrOrF7NLjLIzP37QK9ebGllly5sSrGPj3k/+9Zb7LBwHEsO582zbqyEKA3P8/juu+8MCVDr1q2LfPyFCxdyJVnHjh1DhQoVbBRt6Tg6OuKLL77IFX9ycjK6dOlS6M/MmzfPUNCmevXqyMzMtGHExB5QQkiIBcTHx6N169bQaDTYtWsXrl+/ju+++w7e3t62CYDn2RrBM2fYGsG9e4GKFYv3HI0bA9u3s1HDjRuB77+3Tqwi4HmW416/DpQrx5a/mZvrCNq0YQNgKhXwxx9suaVs5OTA4dVX4RYVBb56dWDbNraYsjh69GAHBmBFaDZutHycIsnMBF55hRXsbdCAvTQXl+I9x5AhwA8/sO2PPlJkHR5CLO6XX34xFH+ZNm1aoY+7ceNGrgSqYcOGtgvSBtzd3REaGmp4fenp6ejYsWOBj7179y6cnZ3BcRxq1KhBlUwJAEoICbGIb775BhUrVsSyZcvQrFkzVK5cGZ07d0a1atVsE8A//7BKoQ4OwIYNrDJkSbRrx0omAuys9cQJi4UopkWLWI7j5ARs3QqUL1+y5+nbF/jqK7Y9aRJw5YrlYhTVnDlQHTmCbGdnZG/ezNpKlMSIEcCHH7LtN95gw2oy8NFHrAqtry97H3l6lux53n2XFS8C2KF69sxyMRKiFFeuXDGMBE6aNKnAx7zzzjvQ6XSGBKlWrVo2jlJczs7OCAsLM7z+Q0KBuTzu3LljqGT6vGmoRN6oyighFrB161Z069YNr7zyCg4dOoTy5ctjwoQJeOuttwr9mczMzFzTNpL0/QC1Wi20xVmk9ugR1BMnggOQM2sWdG3alG6R2xtvwOHwYajWrAE/ciSyz54t/nCICIRjlvfYXb8OTJumBsDhf//LQf36ulIdnqlTgcOHHbB7twojRvA4dizbriuPcmfOwGH2bHAALo0fj9pVq5bu/fPZZ+z9c/IkdCNHIic01K4rj4aFcfjxR/an8s8/s1GmDF/o4SnsPWhq3jzg6FE1rl/nMGaMDps350im8mixPncIsSGe51GnTh3cECofF2Dp0qV44403bBiV/WjXrp1hDeHDhw9RuXLlfI/56quv8JX+iufjx49RvqRXToldooSQEAu4d+8efv31V0ydOhUzZszA6dOn8c4778DJyQkjRowo8Gfmzp2L2bNn57v/wIEDcHV1NW/HPI/mX32FMomJiKtZE0fr1we/c2dpXgoAQNO7Nzru3QuX27fxYORIXB81qtTPaSuhoaGGbZ0OmDmzDTIy/NC48TNUrnwSFjg8GDLECUePdsLFi44YP/42Bg26XfonFQGXnY3206bBS6fD47Zt8bhDBzw2OX4l5TJ6NDpdvAj1kSO4PHUqHoaEWCBa28vMdMA773QEoEaPHvcBXDbr/RP6nGM4bpwH3n+/A3buVGHWrHNo3TrCIvGWVlpamtghEJLL7du38cILLxT677NmzcKXX35pw4jsX3BwsCE5vHTpUoHTZ4X1lF9//TWmy3BNOMmPEkJCLECn0+Gll17C119/DQBo1KgRrl27hl9//bXQhHD69OmYOnWq4XZSUhIqVqyIjh07ws/Pz6z9clu2QH3uHHhHR3hs2IAe5haRMee53d2B/v1RfetWVP7kE1aJRcK0Wi1CQ0PRtWtXaPRDdn/+yeHGDTXc3HisX++LihV7Wmx/Oh2HN94A1q2rjZkza6BqVYs9tc2o5s2Dw4MH4P384Pv338DFi7mOX2lwKSnA+++jwcqVqPPRR0DZshaI2LZmzFDh2TMHVKjAY+XKCvDwKLroREHvwcJERfGYMwf4+++X8MEH2bDVcuOiCLMUCBHbkiVLMG7cuAL/zdnZGUlJSRb5nFK6Bg0aGJLDr776Kt+00RkzZmDGjBkICgrC06dPwUllOgOxOEoICbGAsmXL4sUXX8x1X+3atbGxiMIaTk5OcHJyyne/RqMx7w9dWhrw/vsAAO7DD6GpW7d4QT9Pv37Ayy+D27ABmmnTWBVSO/hjIBy/hARgxgx23xdfcKha1bInD6NHs8qR+/ZxmD5dg02bLPr01hcZyXpqAOC++w6acuWAixfNf/89z7vvAmvXgjt9GprZs40FZ+zE/fvATz+x7UWLOPj6mn9MzDmGs2ax5b63bnH43/80+O670kRrGXSCTcQ2evRoLF++vMB/27p1K/r06WPbgBRk1qxZmDVrFhISEuCTp4Tys2fPDK03MjIycp+7ZGeD27EDwXv2gON5Vs5bTemFvbHfhR2ESEjr1q1x69atXPf9999/CA4Ott5Of/oJCA8HKlc2Zj6WNn8+67Vw4IDdVY385hsgLg548UXgnXcs//wcx+rvODgAmzezQ2RXZs8GUlOB5s1ZhRNLc3AAfvyRbS9bxpo+2pEZM4CsLKBrV3Z+Y2nOzsbD8/PPwJ07lt+H0s2dOxdNmzaFh4cHAgMD0b9//3yf00QaunfvDo7jCkwGk5OTwfM8JYM24u3tbShG079//3z/LlQoTUtLY5/t5cpBPWAAGv72G9QDBrBS3suW2T5wUiqUEBJiAe+99x5OnjyJr7/+Gnfu3ME///yDJUuWYOLEidbZYXw8y3gAVvbSWkVfgoONVSNnzQKys62zHwt78sRYLPV//7Pexco6dVhPQgD44AM76k146xbw++9se9486438tmgBDBvGDox+NNsenD4NrFnDDos1D0+3bkD37qyGz0cfWWcfSnbo0CFMnDgRJ0+eRGhoKLKzsxESEoLU1FSxQyN6gwYNAsdx2LNnT677K1WqZKgS6u7uLlJ0ZPPmzeB5Hn8W0Gdpgpsb+DFjwEdH5/6H6GhgzBhKCu0MJYSEWEDTpk2xefNmrF69GnXr1sWXX36JBQsW4LXXXrPODr/5BkhIYOv6hg2zzj4E77/P6u3fusXaW9iBzz8HMjJY70BrjO6Y+uwzwN2dtSXYts26+7KY6dOBnBygTx+gbVvr7ut//2O9LQ8cAA4etO6+LIDnAaGd2YgRrO+gNc2fz4qwbtpkd4Ookrd7926MGjUKderUQYMGDbBs2TI8evQI586dEzs0xVu1ahUcHR2xKc9c+759+4LneTx8+JDWq0nI6NGjwfM8Duo/w1UAvtX/W6G/pY8/tpuLyITWEBJiMb1790Zva2cfABv+Euaaff219Uv6e3qyUcKPP2bTDIcNg5T7LNy8aWwa/8031l/26O8PTJ4MzJ3LksM+fSS+1PLUKTbHVaViyZq1VaoEvPkmawY5ezbQoYP191kKoaHAkSNsSqfQc9Ka6tRh/6VWrQK++IL9aoh1JCYmAgB8fX0L/HeLtQIqAXNalshBaGgoevXqle/+QYMGYfXq1QDkdQzk9ntt1aoVsrKycHP+fAQ+b6lKVBSyt28HX8Dv257Z8ndqy/cNJYSE2Jv//Y8Nf7VuDdjqg3bSJOD774F794C//mIn+BL17bcO0OlYE/lWrWyzz/ffBxYuBC5eBLZsAQYMsM1+S0RfSAYjRrAFlrbw8cfA0qVshPDQIaB9e9vstwSEwzN+PFCh6KKiFjNzJht837IFuHTJ+qOSSsTzPKZOnYo2bdqgbiEFuAprBbR3717zWwGV0vNaltirlJQUDB8+PN/91atXx/z58wEAOy3RE0ii5PZ7DX70yKzHXd2zBw8lfYW05GzxO7VlKyBKCAmxJzExxmqNs2fbbijKzY2d1E+dCnz5JTBypCRHCaOiXLBmDTsms2bZbr9+fqyo5ldfsVHCfv0k2ov96lVg61b2vvn4Y9vtt2LF3KOEYWG223cxHDvG8lWNxrZLHmvXBgYPBtauZe+h9ettt2+lmDRpEi5fvoyjR48W+pjCWgGFhITA09PTqvEVp2WJvXF0dCzw/pSUlEL/TS7k+nvleB747bfnPq5iixao09Ny7Z6kwJa/U1u2AqKEkBB7snAhkJ4ONGkCdOpk232PH89GJx89YvXyrb12sQS2bq2G7GwOnTsDTZvadt9Tp7LCr1euALt3A5L8GygUIho4ELBgz0qzCKOEBw6wzKt1a9vu3wxz57LvI0fabnRQMGsWSwg3bGB5u6W7yCjZ5MmTsXXrVhw+fNjQcLsgpW4FZAG23Je1rVy5Eq+//nq++2NiYnD06FE4OjrK5rU+j5x+rwDY4vyAAFZApgA6ANEAyo0aBddJk5CcnGzT8GzBFr9TW75npHgNmxBSkNRUlhACbE2fradhuLiwqaMA8N13kiupGRMDhIayNh9iVGz08QHeeottf/+97ff/XA8esMaJACsqY2sVKxrbW/zwg+33/xwXLwI7drCRXTHeP3XrAoMGsW0JHh67xPM8Jk2ahE2bNiEsLAxVqlQROyRF0Gq14DguXzK4e/du8Dxv9dFWYgNqtfECYx48WKGZj8ASw5SUFHAcZyhIQ6SJEkJC7MWffwKxsUDVqsYzR1t7+22WGJ47Bxw+LE4MhVi0SIXMTDUaNeLRpYs4MUyezNrv7d/P1oJJynffscqiXbuyEWYxTJnCvm/ezDq/S4jQGH7wYKB6dXFiEGYrrlpV6IV3UgwTJ07EypUr8c8//8DDwwORkZGIjIxEenq62KHJ1syZM/NNA61Xrx54nke3bt1EiopYxejR7LwkICDX3VxgILg//8SQPGtCO3bsSJVjJYwSQkLsQU6Ocdhp2jSWdYjB35/NpwOMZ9ASkJkJLF7MPs6mTcsRrcpncDDw8stsW+iDKAlJSYDQ8FnoKymGOnWAkBBAp2Pd2CXi2TM2XRMQt11iy5ZsqjN7P4sXh1z8+uuvSExMRIcOHVC2bFnD11rhl00sRhgV/FqoyqSXmJiIy5cvixQVsbrRo4GICGRv3oyL48cje/NmVgl99Gj06NEDPM/nK8jEcRz27t0rUsCkMJQQEmIPdu1iU/58fYFRo8SNRRjl2baN9SaUgPXrgehoDn5+6RgwQNyprKajPE+fihqK0YoVQEoKq17SubO4sbz3Hvu+dClLVCVgyRLWHL5FC+Cll8SLg+NYcSIA+OUXICtLvFjkgOf5Ar9Gif0ZKjO//PJLvlHBadOm0fRQpVCrwffqhYfdu7MWE+rc5UlSU1Px4MGDXPd169aNRgslhhJCQuzBokXs+5gxbMqmmGrWZM32AGNcIvvlF/a9W7cHef8W2VyzZqxeilZrVhE26+N54wGaOFH8JokhIUCtWkBysrFhpIhMf0+TJ4sbCwC88gpQtiwQGQmsWyd2NIQUjeM4TBLWlutlZGRg3rx5IkVEpCg4OBg8z+OFF17IdT/HcQgPDxcpKmKKEkJCpO7uXVa2EmCVPqVgwgT2fcUKVvVUROfPAydPAhoNj5CQh6LGIhASi6VLgexscWNBWBhw8ybg4WEs6iImlco4DPbbb6IXJ9q8GYiIAIKCjNN9xeToyPJ2gFWtJUSK7t27l2+EZ+TIkeB5vsBKrYQAwK1bt3Djxo1c91WqVAljx44VKSIioISQEKlbvJidNHfvDlSrJnY0TEgIULkykJAg+jCGMPg1cCAPb+9MUWMRDBjA1tlHRACi91oWKtOOGMGSQil47TXW2/LWLeDIEVFDEQ7PuHEsGZOCt95ivRDPnJFgcSKieOPHj0e1PH+LIiMjsVxYp0xIEWrVqgU+z4XA33//HRzH5buf2A4lhIRIWXq6sRG9MConBSoVIFzRE3FeZFwc8M8/bPvtt3WixZGXo6NxqaeoxUEeP2aN6AHjsJMUeHgAr77KtpcsES2MGzdYPurgwBJCqQgMBPr1Y9u//y5uLISY4jgOi/N8qPE8j6CgIJEiIvaK5/l87yWVSoWIiAiRIlI2SggJkbKNG1nWU6mS9Dqdjx7NFo+fPAmIVEXun3+AjAygXj2gZUtpXVkUehLu2gU8eiRSEH/9xSp6tmvHCspIiXBBYcMG9h4XgbCEsVcvoFw5UUIolPD+WbkSSEsTNxZChF5yphYvXkwjOqRUxo4di6Q8xcXKly+PRRKpT6AklBASImXLlrHvb7whXquJwpQpA/Tvz7ZFGiUUDs+bb4pfKyWvGjWATp3YbN+lS0UIQKczZjxvvCFCAM/RpAnQsCHrsfD33zbfvVbLlsAC0jw8XbqwWdmJiSxnJkQs+/btg0ee6eZxcXG07otYhIeHR74LCxMnTkT58uVFikiZKCEkRKoePGAFQTjO2PtPaoR5dsJQnQ1dusQKymg0xtmHUiMcnj/+YK0kberIEeDePTY9c9AgG+/cDBxnHCVcssTmxWW2bweioth1DakNvgNsVraQqNK0USKWt99+G127ds11H8/z8PHxESkiIlc8z2PatGmG2xEREdSawoYoISREqv76i33v1Il1PJeiTp2AihXZMIawVs1GhNHBfv0Af3+b7tps/fqx1pEREcD+/TbeuTA6OHQoK+AiRa++ytqoXL/OKqjYkHB4RozI1zZLMkaPZhMDjh6VTMtPoiAcx+E3k9kfHTt2pCmixKrmzZuHCxcu5LqP4zhotVqRIlIOSggJkSKdzpgQjh4tbixFUamA119n20K8NpCVxdZWAdI+PE5OLB8DjNMTbSIxEVi/nm2PGWPDHReTlxcryQrY9ACZVn+V8uEpX54VFwaM73dCbCHvyMzff/+NsLAwkaIhStKwYUNk5Jlx5OjoiEeiLcZXBkoICZGiw4eB+/cBT0/jCbNUCb3t9uxh3bRtYNs2IDaWFQIJCbHJLktMmO27aRPrxW4Ta9eyCrW1awPNm9topyUkvH/WrGGZvg2sWsWuubRuDdSsaZNdltjw4ez7ypWit2wkCsDzfL5k8N69exguvBEJsQEnJ6d8o9HBwcE4fPiwSBHJHyWEhEiR0M9pyBDA1VXUUJ6rZk2gRQu2SG7VKpvsUhhMkvJ0P0HTpuwQpafbsDiI8HsYNUp61Xby6twZKFuWZfi7dtlkl8LhEXJRKevbF3B3Z0uKjx8XOxoiZxkZGVCpVPnuq1KlikgREaXLmxS2b98eS0RsVSRnlBASIjVpaazdBCDdYjJ5CXH+9ZfVhzHi4ox5gzBbVco4zph42GRWZHg4G2EGgGHDbLDDUlKrWaN6wCYH6No1VpBIowFeftnquys1V1djTSCaNkqsJTY2Fi4uLrnu0+l0cHJyEikiQhie59GxY0fD7XHjxuHjjz8WMSJ5ooSQEInh9u4FUlJYIZlWrcQOxzxDhrAFc1eusLNtK9q4kbUMqF8fePFFq+7KYoYPZ4nhwYNspMeq1qxh39u1YwV/7IGQ2W/bZvWehP/8w7736MEK/tgDYbbe2rU2m1VLFCQ8PBz+eSpzFTR1lBCxhIWFYcaMGYbb33zzDV4TLiQSi6CEkBCJUW3axDaGDpX+dD+Bjw/r7g2ws1YrWr2afZdqq4mCVKoEdOjAtoV8zWqEjMeeDlD9+kCDBizTX7fOarvhefs8PB07slm18fE2m1VLFOK///5DpUqVct1HlUSJFM2ZMwd//PGH4fY///yTryUKKTlKCAmRGG7fPrZhD9P9TAnlNNessdq00SdP2Cib6e7shfDrtGq+fP06cPEim4ZpD/MhTQlXe62YMZ84wUZo3d2BPn2sthuLc3AwJrA0bZRYyn///YeaeaoqUTJIpGzMmDHYvn274fa+fftyTSclJUcJISESw2VlAbVqsVETe9KrF+t39+ABcPq0VXaxbh3LNVu1km5rxsIMHMjytIsXrdhTThg+7d4d8POz0k6sZPBg9v3wYdYXwgqEYjIDBki/VlNewrTRbduAhARRQyEycOfOnVzJoI+PDyWDxC706tULhw4dMtw+ePAgOnfuLGJE8kAJISFSFBEBbN4sdhTF4+rKSiICVhsGs8fpfgI/P6BLF7ZtlcNjr/MhBcHBrFotz1ulHKvpbFR7XHrSoAFQpw6QmclamBBSUo8fP0aNGjUMt/39/RFn5bW7hFhSu3btcOTIEcPtsLAwDBkyRMSI7B8lhIRIUXIym/Jnb2d+wjzOtWtZozcLun0bOHuWTZ975RWLPrXNWHVW7enTwL17uRNzeyP8QbfCOsLQUCAmBggMZJ0u7A3HGacdW3GZJZG5hIQEVDQpNuXh4YHo6GgRIyKkZNq0aZOrL+G6deswdepUESOyb5QQEiJFQrYwZQrr72cvunUDvLzYCOfRoxZ9amE2ZJcu7KTeHvXvDzg6AjduAFevWvjJhdHB/v3Z1F179MorLPM5doy1z7AgYWni4MHS711ZGOFCyP79VijGStMFZS8zMxM+Pj657ktKShIpGkJKr23btti5c6fh9g8//ICFCxeKGJH9ooSQEKnieXZSbDItQvKcnNhiOcDi8yKFE3p7q7VjysuLLe8DLHx4dDrjNEt7q7Zjqnx5oE0btr1+vcWeNisL2LqVbQtLFe3RCy+wpcXZ2cCWLRZ84vh4Vgr3vfcs+KRESnieh7Ozc777CLF3PXr0wF9//WW4PXnyZISGhooYkX2ihJAQqXv6VOwIikeY9rd+PTtztYAbN9iXRgP062eRpxSN6axai52PnTrFRmU9PICQEAs9qUiE948FM+b9+4HERKBMGftp7VkYYZTQgvky8O+/wOPHrAwrkSWVKvfpHiWDRE5GjBiBzz//3HA7JCQEd+7cES8gO0QJISFSV7as2BEUT6dOgL8/EB0NHDhgkafcuJF979IF8Pa2yFOKpk8fwMUFuHMHOH/eQk8qHKDevdkorT17+WVApWJrIu/ft8hTCodnwAC2BtWeCQnhvn0WnDYqjC7372+hJyRSkrfBPCWDRI4+++wz9BL6IQOoUaMGMjIyRIzIvlBCSIhUcRxQsSLQtq3YkRSPRgMMGsS2hTPxUhKeRnhae+buzvI2wELFQXheXgcoKAjo0IFtW+AAmU6vtLfWjAWpWROoV4+9rn//tcATJiYCe/ey7QEDLPCEREo8PDxy3dZZuNgXIVKyfft2qE0Wibu4uNAFEDNRQkiIFAlXdBcssM8hDWEd4ZYtpS6Kc+8e693n4GD/00UFQmKyaZMFpo1euMB6P7q4GBco2jth2qgF2k8cOgTExrK2H+3alfrpJMGi00Z372Y9OWrWZF9ENj744AOkpKQYbqelpeUbLSREbrRaba7beadLk4LRUSJEiipUYCfDQmJlbzp0YHM7nz0DTp4s1VMJg1/t27OZqHLQoweb2XnnDnDtWimfTDhAPXvab3XRvPr1YxdFzp4tdbVR0+mi9lpdNC/TaaPx8aV8MqHajlyuthAAwNGjRzF//nzD7Vu3bsHFxUXEiAixnbyjgnQh5PkoISREYrK3bGFrp+w1GQRYbwVhXmQpeykKPy6H2ZACDw+ga1e2vXlzKZ5IbtNFBUFBQOvWbLsU5TRzcozHV06Hp1YtoG5dNrBXqmmjWi0glGy3196VJJ/09HS0NVlqsGTJErzwwgsiRkSI7eUdKZw5c6ZIkdgHSggJkRi+TRv7nCaal5DQlmJe5OPHxgFGudW7EJZrlSpfvn4duHWLJeAmi+llQThApciYjx8HIiPZYHWnTpYJSyqEUcJSLdM9cgRISAACAoAWLSwRFpEAV1dXw3aTJk3w1ltviRgNIeJQq9W5Ko1+/fXXuFbqKTnyRQkhIcQ6unVj69oePGCLAEtAyAVatQLKlbNYZJLQpw8rpnnxYimKaQrZQEgI4OlpqdCkQUgIDx0CYmJK9BTC4enbl+XMciJcbwkNBUyWiRWPMF20d295XIQi+abGnT17VqRICBFftWrVsGDBAsPtunXrUmGlQlBCSAixDldXY5GTEo7yyHE2pCAgwFjkpMSDYHI+QFWqAA0aADodsG1bsX9cp5P34alTB6hWDcjMNBYJLRaeN843pfWDsjB58uRct6m6IiHAu+++m2v9rANd/CoQJYSEEOsxnTZaTFFRbEab6dPITalmRd65A1y+zCqlyHX9VykO0JkzbMqxuzsbQJUbjjNOoy7RMsurV9novbMza/BJ7Nq9e/ewcOFCw+2YEo6qEyJHaWlpuW7XrVtXpEikixJCQoj19OrFEpZr14D//ivWj/77LxvladIEqFzZOuGJTch3jh1jBVmLRRj+6tgR8PW1aFySIRygvXuLPS9SuAbRuzfLeeRISAi3b2f1YYpFGB3s2lU+1WkVrFq1aobtRYsWwc/PT8RoCJGe7Oxsw/a1a9dw8OBB8YKRIEoICSHW4+NjrOZRzFEeOU/3E1SsCLz0Uu7Ze2aTY/nMvOrVA6pWZfMid+8u1o8Kx1POvdZbtmRTj+PjjaPpZhPWD8p1dFlB8q4bfPvtt0WKhBDpcnBwwOHDhw23O3bsSOsJTVBCSAixrhJMG01KAsLC2LacT+iBEs6KjIwETp1i23I+oee4Eh2gW7fYl0ZjXMYqRw4Oxl9/saaNRkSwObUcZ2wPQ+zSN998k+s2rRskpHBt27ZFrVq1DLdpPaERJYSEEOsSmoyfPm12k/E9e9gUuBdeYD3X5EzIl/fvBxITzfyh7dvZ92bNgLJlrRKXZAgHaPt2ICvLrB8RatB07Ci/4qt5ma4jNDsXEA5Q8+ZAmTJWiIrYQnp6Oj7++GPDbVo3SMjz3bhxI9ftd955R6RIpIUSQkKIdZUpw/pGAGYPYwjnq3Ie/BLUqsW+tFpgxw4zf0hJ0/1atGDvIdNh4+dQ0uHp3JktAQwPBy5cMPOHlHSAZMy03+CUKVNo3SAhZjItMvPzzz8j0eyrsfJFCSEhxPqEsvZmtA/IzjYmRn36WDEmCRFmRZq1jjAtDdi3j20r4QCpVMb3jxnTRmNiWJEeQBmHx8XFOC3WrOstKSlsOBqgdhN2bPDgwblu//DDDyJFQoj9cXFxyTXd2tvbW7xgJIISQkKI9QkjEQcPspGeIhw/DsTFscKZwsCi3AmHZ9cuM2ZF7t8PpKcDwcGs6IoSmJbTfE4RgJ072UMaNgQqVbJ6ZJJQrPYTe/eyIj3VqgG1a1sxKmIt8fHxWL9+veG2afVEQoh5Pvzww1y3+yjhCmIRKCEkhFhfzZpAjRpsXuSePUU+VBhEFDpWKEGzZkBgIJCcDJgUQSuY6XS/PNUFZatDBzYvMiICOH++yIcKo6xKmg3ZqxcrMHPlCnD37nMebNqMXinvH5nxNWkzs3jxYiqMQUgJ5eTkGLa3b9+u6KmjlBASQmxDOEN/zrRRId9R0sU6lcpY7FF4/QXS6ZS1wFLg7Ax068a2i3j/ZGQYrzco6fD4+LCcGXjOKKHpfGwlHSAZGTt2bJG3CSHmU6lUWLx4seG2kqeOUkJICLEN4QR0xw52YlqAW7dY/3qNxnj+rxSm+XKh1SLPnGEd7D09gXbtbBabJAhXCIpICA8cAFJTgXLlgMaNbRSXRAjTRotch3riBBAby+Zjt25ti7CIBWVnZ+P333/PdZsQUjp5L6rMmDFDpEjERQkhIcQ2WrViQxlxcezEtABKaheQV5cugJMT8OABcPVqIQ8SDlD37oCjo61Ck4aePdkUxwsXCm1fosTZtAIhXz52jBXWKZCQLSppPraMaDQaw/ann35KU0UJsRCtVmvYnjt3riIb1lNCSAixDbWanYgChc6LVHI1fDc3lhQCRQyCKfkABQYCLVuybaEPowmeV/bhCQ5mhXR0ukLal/C8MhdYysTOnTtz3Z49e7ZIkRAiP2q1GuPHjzfcVuLFFkoIbeTq0qU47+uLWJWKXbo2+Up8+FDs8AixjSKm/cXGGtsFCOvplEY4PAXmy/fvs6ohDg5Ajx42jUsyinj/nD/Pas64ubERZiUS8rwC3z83bwJ37rCRZaXNx5aBXsLFNFADekKs4ddff811+4LZjV3lgRJCG7i1bh2qv/UWkqpUQfyWLTj71VeI4zhc8PbG8SlT4BUcLHaIhNhGt25sgaCwWNCE0C6gQQM22qFEQiJ8+jQQGZnnH4UkqE0btgZMiYSEcP9+1k/PhJAEdevGatAokdBWcM8eVmAnF+EAdeoEeHjYNC5SOk2bNjVsu7q6UgN6QqzkrkmZ5sYKW4hOCaENpI8di/MVK6LDuXOo3rcvXpo5E1fq1oVTVhZaUTNZoiReXsZyiHlGeZQ83U9QvjzQpAmb3Zdv2h8dIODFF4EqVVizxtDQXP9Ehwdo1Ii9h1JTgbCwPP9IB8guabVanD171nA7NTVVxGgIkbeqVavmuv3ee++JFIntUUJoZdFXr6JeYiJc338/1/28iwt4pVU9IAQocF5kZiawe3fuf1aqArtzJCYChw6xbSUfII4r8AA9egRcvMjad5jMrFMc08OTa9ros2fGQk5Kfv/YIUeT4lE//fSTiJEQogymBWUWLFggXiA2RgmhlT3YuBEOAKoINcH1PG/fRmzlygCAq+7uuL5iBQDgaLVqODxsmG2DJMSWTMshxsYCAA4eZDMAy5ZlI2RKJhyevXuB9HT9nbt3s1YdtWsDNWqIFpskCAdo+3ZA31RYyA1btwb8/UWKSyKEaaNbt7Ip2ADYcDPPs/9cFSqIFhspnvv37+e6PXnyZJEiIUQ5OI7D4MGDDbdNq/vKGSWEVsbrT1gy4uMN9/23cSPqxsfDR//hnjZ1KpI+/hgH+/RBjqsr2q1eLUqshNhE5cpAvXrsZH7XLgDGE/o+fdgoj5I1bMjO2dPTTab9CcM9NLoDtG3LepJER7PFlqDimaY6dGBLBJ8+Bc6d098pHCAhWyR2wXT62o0bN0SMhBBlWbt2rWE7Ozs7V1sKuVL4qZf1VR02DGkAbg8ciHs7d+LM55/DeehQnKhfH/XGjQMANPviC/jEx8Pj+HG0PnNG3IAJsQWTeW1KbxeQF8flmVWr1bKKOwAdIIBVyRSqrG7bhsRENsIM0OEBWC/L7t3Z9tatANLSjOst6QDZjdA8a2Rr1aolUiSEKNNqk8EZRwX0/aWE0Mr8a9fG1U8+QfnHj1GhVy8EzpmDe127oq3h0i1wbdkyuGm1yHJ1hVqp5fGIsggZz+7duHRWi/BwwMWFFUAkxvP27dsB3eGjQEICmwvZooWocUmGSfuJPXtYzlyzJvDCC+KGJRXC++fffwHs28eGm4ODgfr1RY2LmC8kJMSwnZKnoi4hxPqGDh2a63ZcXJxIkdgGJYQ20OyLL1AlKwuOPI9grRYddu6ESq0GADw9exaaCRPAh4XBJzYWdwtouEzsz9y5c8FxHKZMmSJ2KNLUtCkQFAQkJ2PbQtaHMySEJYWE9dFzd2d99c7/oe+F1Ls360FI2AihgwNw9Sq2/sNOlmnwy6hnT3Z4rlwB7q86zu7s25cNPxPJW7ZsWa7bbm5uIkVCiLKdP3/esC33di+UEFpJ1OXLOP7OO0U+Jj0uDjEdOyL9229RsV07xL3xBiInTbJRhMRazpw5gyVLlqA+XY0vnEplGOXZupst2KYTeiMnJ5YgA8C2XeziEa0fNOHrC7Rpg2w4YGcoOz70/jHy9WVLLQFg6079+4cOkN0YM2aMYTs7O1vESAhRtkaNGuW6/eTJE5EisT5KCK3k1vffg89V9zs/F19f1EtORgN9cZlWP/+M1g8e2CA6Yi0pKSl47bXX8Pvvv8PHx0fscKStTx9EoCzORgWD43hFtwsoiGGZZUJbtm7OZAoZAdCnD46iDeLTnOHnB7RsKXZA0mJ4/6R0ZP0/27cXNyBiliVLluS67UCzAggRlWmz+goyrtKsFjsAuXLcswc1nz2DNi0NGldXscMhNjJx4kT06tULXbp0wVdffVXkYzMzM5GZmWm4nZSUBIA1IlZCRSu0b49t6gFANtCsbip8fZ1QmpctHDO5HLuuXQGOU+Mi3wgPWg5BeScnlOoAPYfdHb/u3bFtmn6zcwZ0OgeYtI8ShZSOYY8ewNSpGhxCe8R2HAhP4LnvHynErXSTTGYJ6cR+QxNC8jWrf/r0qUiRWBclhFaQkZCAupGRcANwcckSNKR1ZIqwZs0anDt3DmfPnjXr8XPnzsXs2bPz3X/gwAG4KuQiwga3YUAi0FK1Azt3WqagUt7qfPasmXMFnEpvgiU5PdBcqDRqZfZy/Hge2OIwEMgB6qavw86dXmKHZCCVY1hbXQs3smvi16zOqGfG+yctLc0GUdnO4cOHMW/ePJw7dw5Pnz7F5s2b0T9PT2ApOXz4cK7bHK35JEQS7t27Z0gMg4ODsWXLFnEDsgJKCK3g6sKFKOPggDSdDgkbNgCUEMpeeHg43n33XezduxfOZlaKnT59OqZOnWq4nZSUhIoVK6Jjx46yX7wMAKmpwJBUdsIzJmczavX8u1TPp9VqERoaiq5du8qjkWxUFG6m/4RTaIJzqn6Y3dO6r8nejt/Nm8C9HA00yMJ458Nw6/mr2CFJ6xjevo3T2RtwAzNx2XEQPur5/KmHwiwFuUhNTUWDBg0wevRoDBo0SOxwnuv77783bOfoexgTQsRXpUqVXLfT09NFisR6KCG0grqTJuH09etwPHQILahqqCKcO3cOUVFRaNKkieG+nJwcHD58GAsXLkRmZma+tSBOTk5wcnLK91wajUb8k0kbOHQIyMwGquAe6l5dCy52AVCmTKmfVzbHb+9e9MVWfIxvcPCkKzIyWMNxa7OX47d7N/veAQfhvW8TwP0GqKXxJ00Sx3D3bvTFVnyNmdgT5gyeZ0tRiyJ6zBbWo0cP9BB6VkrcqVOnct1WqajEAyFScvHiRTRs2BAAMGzYMGRlZYkbkIVJ46+nzDh7exe4TeSrc+fOuHLlSq77Ro8ejVq1auGjjz6iwgAFMDSjDzoN7hlY07033xQ1JknZuhW1cBPVfWNxJ84Pe/cCdjDIYTPbtrHvfV33A/HxwPHjQLt24gYlJf/+i6Y4gzKeqYhMcsOhQ2xdKimcmOu62wplYQEkJyfLej2nlNbaWptSXqsSXueLL76Y67bpZ4W12PJ4UkJIiAV4eHigbt26ue5zc3ODn59fvvsJoNOx/A8A+vTIBpaDZYiUEDIZGcDeveAA9O2Rje9XscNDCSETGwscO8a2+3TLAjaDHSBKCJnYWODoUajAo08vHX5fzZrUU0JYtMLWde/du9eq67qTk5Nz3d6/f7/V9iUlUllrawtKea1yf50ffPAB5s2bB4D1JVy3bp1V92fLdd2UEBJCbO70aSAqilXDbzepPksI9+0D0tIAhRTUKVJYGDsW5cuj75uB+H4VsGMHkJ0tmVmRotq5k11UqFcPCH61NbB5Act45s2j5usAe7PodECDBuj7qgd+X83y5Z9/psNTlMLWdYeEhMDT09Nq+3U0mct769atfOuV5EZSa22tTCmvVSmvs2fPnoaEMCsrCz179rTq/my5rptOLQixkoMHD4odgmQJ00W7dwc0jesBwcHAw4fA/v3UgB0wzofs0wet23Dw8WGDPidOGBuOK5lhumhfAN26scVxd+4At24BtWqJGpskGOZj90XnzuwaS3g4cOkSoF8CQwogxrpunudz3a5SpYqsT6hNSWKtrY0o5bUq4XUOHjzYMDI4e/bs57YYKw1bHktatUwIsblcJ/QcZ0wChRNZJeP5XAmhWg306sVuCncrWVaWsaBMnz5glXY6dmR30PuHTTcWDlC/fnBxAUJC2M1//xUvLFKwZs2aGbbfffddESMhhJhj5cqVhu05c+aIGIllUUJICLGpe/eAq1cBBwfWPBuAPjMEy3iU3oz5wgXgyRM2rNOpEwDKl00dOgQkJwNBQUDTpvo7hfcPHSDgwAHW06V8eaBxYwDKPTwpKSm4ePEiLl68CAC4f/8+Ll68iEePHokbmAnTvrUdhQsbhBC7cffuXbFDsAhKCAkhNiWMcrVtC/j46O9s356N9Dx7BpicICmScNYeEgLoe1p26wZoNGxG5K1bIsYmAcL7p1cvwFCZX8iYjx8HoqNFiUsyTKaLCgsGe/dmm+fPs6mjSnH27Fk0atQIjRo1AgBMnToVjRo1wqeffipyZIzpsoLAwEDxAiGEFMvq1asN29WrVxcxEsuhhJAQYlMmsyGNHB2Nw4VKG8bIK9d8WsbLC+jQIfc/K5HpbFqTwwNUrMhGw3ieFVRRKp0ud0KoFxAAtGrFtpX0/unQoQN4ns/3tXz5crFDA5B7RFBKo5aEkKK5uLjkup13LbA9ooSQEGIziYlsyh9QQO0YmhcJPH7MhnE4zrhwUM90Vq1SXbsGPHgAODkBXbrk+Uelzos0df48EBEBuLsb11Xq9evHvtM6QmnIewJJjegJsS8///yzYXv06NEiRmIZ9AlECLGZ3btZ64RatYAaNfL8Y8+ebGHhlSvsrF+JhOaMLVoAeaaQCfny0aOs4qgSCble586Am1uefxQSwj17WGEVJRKyve7dWdZsQjg8Bw4ANqxkTgrRsmVLw/bevXtFjIQQUhLjxo0zbP/1118iRmIZlBASQmymgNlsRr6+QJs2bFupw2DCASqg9UZwMNCgAZsVuHOnjeOSiAKniwoaNgQqVGD9G8PCbBmWdBTxH6xmTeCFFwCtluXMRFynTp0ybHft2lXESAghlpCYmCh2CKVCCSEhxCa0WmMiU2irQSVPG01JMSYyBWY8yj48z54Bwjl0794FPIDjjMdNifMi798HLl9mo+x5phsLaNqoNERFRYkdAiHEAiIjIw3b3t7e4gViAZQQEkJs4tgxICEB8PMDTGZL5Sac0B86xBYcKkloKJCZCVSpArz4YoEPMZ0VmZlpw9gkYMcOVjOmcWPWUaFASm5fIgyftmnDRtsLIByeHTvYBRoijqCgIMO2vY8qEKJkpv+X7R0lhIQQmxBGtXr1YoMYBapRgy0wVOK8NtP5kPp2AXk1aQKULcv68AnFeZSiyOmigg4dWEGVp0+Bc+dsEZZ0bNnCvhdxgFq2BPz92YWZo0dtEhV5Dk9PT7FDIISUQpUqVQzb169fFzGS0qGEkBBidTz/nPWDppQ4LzInx1hQptD5tKzvnhIPT0YGINTdKOLwsEIq3buzbSUdoNhY4PBhtt2/f6EPc3AwTrdV0uGRkqtXrxq269SpI2IkhBBL+O+//wzb9vx/mhJCQojV3bwJ3L3L2g2GhDznwULGuHMnK0mqBKdPs4bqXl5Au3ZFPtS0u4IMWh+ZJSyM1YopXx7Q9xgvnBLbT+zYwS4q1K8PVK1a5ENN1xEq5f0jJfXq1TNsX7p0ScRICCGWoFarxQ7BIighJIRYnXBu3rEj4OHxnAe3bMkWGsbHs4WHSiAcoO7dAY2myId26gS4uADh4YBSzieF2ZB9+hQ6m9ZImJN8+bJy2pcIB2jAgOc+tGtXNpB6/z7r60jE41Do3HlCiD1p3bq1Ydt0FoA9oYSQEGJ1QlXDIqf7CUyrJCphlIfngU2b2LYwfFMEFxfjKKsSunPk5BjfP2bkO8prX5KWxhp8AkVOFxW4uQFdurBtJfz3khLTqWX169cXMRJCiCUdFqbsI/csAHtCCSEhxKoiIoATJ9i2GeerjJLmRd64Afz3H5tPW0i7gLyUNCvyxAkgKorNpu3QwcwfUtIB2rcPSE83Nqo0A7WfEEfNmjUN2+eUVvSIEBlTqew/nbL/V0AIkTThpLN58yLaBeQVEsISpDt32AJEOdu8mX3v3Bkws+Jgr15s6uTZs8CTJ1aMTQKEw9O7N3tLmEUYij54UP7tS4Tpov37mzGflhEKy5w+zQqyEtuTy7ojQgjj5eVl2I6NjRUxkpKhhJAQYlXCbMiBA4vxQx4eLEEyfQK5KsEBCgoCWrRg23IeBON5Y0JYrPdPjRpA7dqsKNGuXVaJTRKys41vALOH31nrkubN2bYSZtVKQabSGocSojCPHz82bPv7+4sYSclQQkgIsZq4OODAAbZt1vovU4MGse8bN1o0Jkl5+BA4f571k3huP47chOMp53z58mVW/MTZGejWrZg/LMyLFDJKOTp+nLWcMF03aSYlzaqVgpYtWxq2n9KwLCGy4+7uLnYIpUIJocSV+eMPcAcPFvg1c+dOscMjpEjbt7OiIPXqsUGbYunblyVKFy4A9+5ZJT7RCdP92rQBAgOL9aNCvnzgAMsJ5EhIdrt1Y8VQikUYUtyxg62xkyPT8qvFnIIoJIT79gGpqZYNi+R34cIFw3aZMmVEjIQQYgu8ndU/oIRQ4o707o1L1atjn/4PyOzMTFyqXh2XqlfHJ127ihydtCUkJGDp0qWYPn064uLiAADnz5/HE7kvupIQ4YS+2KODABAQALRvn/uJ5KYUB6hqVaBhw9xVOOVGGNwr0fvnpZeASpVYtrNnj0XjkgSez71+sJjq1GHvocxMYO9ei0ZGCCGKtFuo+Azgp59+EjGS4qOEUOJqBAWhfoUKuBsbC+h0eLN5c9SvUAH1K1SA83P6lSnZ5cuX8cILL+Cbb77B/PnzkZCQAADYvHkzpk+fLm5wCmF6Hl6s9V+mhGEwOSaEUVHA0aNsuwQn9IC8Z9XevQtcucK6kJjVriQvjpP3Abpyhc2nNe1DUgwcR9NGbeWYST/V2bNnixgJIcSaupmsbZgyZYp4gZQAJYR24lB4ONSxsSjn7S12KHZh6tSpGDVqFG7fvg1nZ2fD/T169MjVL4ZYz+7dQEYGG4UoccstYWjoxAn5ldPcuhXQ6YDGjYHKlUv0FEK+Exoqv2Kawuhg+/ZsiVyJCAdo2zY2FCYnwkWSrl0BV9cSPYWwzFKY2k2so43J+s5PPvlExEgIIaRglBDaicspKfBPShI7DLtx5swZjBs3Lt/95cuXR2RkpAgRKY9p8Uwzq+HnV64c0KoV25ZbcZBSzYdkatdmX1otO6mXkxJVF82rZUtWUjMxEdi/3yJxScb69ey7kPSWQJs2gI8PEBNj7BVKrIsr8YchIcTe5NjRlTZKCO3EM45DJfpDYjZnZ2ckFZBA37p1CwEBASJEZL6jRzm7v1qflWVMUEqR7zBCRiCnaX9JSayaB1DKjEeesyIjI40JSgln0zIqlTzfP9evsy+NptjVaU2p1aynJSDfdaiEEGJL90yK4I0dO1bESIqHEkKRvbpmDd7csAHXIiKKfBzPcXiq0+HMgwfQ6XQ2is5+9evXD1988QW0Wi0AdlX20aNH+PjjjzGoFFfUbaF/fzUqV7bvZXNhYSznKVPG2C+vxIQT+sOHgejoUscmCTt3sqz5hRfYEF8pCG/nXbuAlBQLxCYBW7awminNmgHly5fyyYQDtGULG0qVA2F0MCQEKOUyAiGfpITQOsLCwgzbf/31l4iREEJsoUqVKobtP//8U8RIiqd4daqlLiuLNeqVALWXF6aPGoUbS5cW+bhEFxdklCmDP27ehHtoKFrqdJjfpg3q5zkLmhwQgC+ystDsxg1o/fygcnAoQVBqwNGx+D9nh+bPn4+ePXsiMDAQ6enpaN++PSIjI9GyZUvMmTNH7PCe68kT4OWXgQ0bSj2AJArT4pmq0l52qlKFrbM7f56d1L/1VmnDE9+GDez7gAGlmE/LNGjA1mneu8eSwldesUB8Ilu7ln1/+WULPFnbtoC/P5sXeegQ0KWLBZ5UZEJCaIFfdrdu7M/C7dvAjRulfjqSR+fOnQ3bI0aMEDESQggpnHwSwqwsnF/sBIc0sQNh3CoD5VI6wOPhxSIfd8q3GTLKlIHb3WtoEHECffjjyHn2CJfynCP2038BwLXLJYupQesj7JK7ApJCT09PHD16FGFhYTh//jx0Oh0aN26MLnZyMsjzLE+YMoUVfihJ/i8WrdY4O89ig7GDBrGEcONG+08Ik5NZbzwAGDKk1E8nFNOcN48dHntPCJ8+ZXkbAAwebIEnVKtZ4v377ywRt5PPgELduAFcu8amiwpVYUrB05MNNG7fbuxiQQghRFnkkxBmZ8MhDdBpAF4i3Rjedz343MesTQhH8/Pfo7JzEuDH7uMBWHoJGacFm0+Wna2IhFDQqVMndOrUSewwSoTngfBw4MgRoEMHsaMx3759QFwcEBRkwbgHDQJmzmSFQeLjWSUMe7V1Kyu/WqMGayRoAUJCuGMHe2qTwrp2Z8MG9t5v0QIIDrbQkw4axBLCzZuBX36xrysseQmjg127lnq6qOCVV1hCKLe6TYQQIoaDBw+ig/4EaM2aNRg6dKi4AZlBPgmhHq8BdHaU77wSeAUAYO1VgUpbLPq8hqDvvPOOjSIpvadPxY6geEyn+1nsvLtmTdZJ+9o1NowxerSFnlgEwgEaOrTU00UFTZsCFSoAjx+z3o8WGDgSjXB4LDB4atSxI0uehN6P7dtb8MltzILTRQV9+7Jpxx07ArduWexpFc+0sNmAUlfXIoTYi/Ymf2OGDRtGCSEhYpkyZQpcXV0RGBgInudz/RvHcXaVEJYtK3YE5svIMI4yWPzzb+hQ4JNPgNWr7TchjI9nDRoBi2Y8KhVLwBcsANassd+EMDwcOHaM5ckWnfrq6MgOyl9/AevW2W9CePMmcPWqxaaLCry9gTt32Gzm336z2NMq3qhRowzbf//9t3iBEELIcyht4IgoxIwZM6BSqdClSxecPHkS9+/fN3yZlgSWMo4DKlZkNTHsxe7drLpohQrG9oEWM2wY+75/P+tLYI+ESpd167IRTwt69VX2/d9/7bfaqDD41aaNBaqL5iVcoVi3zn6rjQoHqEsXi0+bpq5GlrfZZA6um5ubiJEQQkjRKCEksvTVV1/hxo0byMrKQs2aNTFnzhxkZmaKHVaxLVhgX8ud1qxh3wcPtkB10byqVWNFkXQ644mxvbHKfEjmpZeA6tWB9HT7bSFgxcPDkqiAAFZtVOgBaU94HvjnH7Zt75WDCCFE5mrUqGHYzjtTTYooISSyVb58eSxfvhxhYWHYv38/qlevjhUrVogdllnUapbz2FPLidRUYNs2tm216fLCMJhwYmxPoqONiYgVMh6Os+/Dc/8+cPo0u5BglVaharXxuK9aZYUdWNmFC2zKqLOzfX0wEEKIAm0TTogALH1OCzopoISQyNLly5cNX2q1GgsWLMDYsWMxadIkNGnSROzwiqRW88jOZkUe7Mn27UBaGov7pZestBNh6PHkSdZ4z55s2gTk5LCeiiZXDi1JmFW7Zw/LP+3JunXse/v2QJkyVtrJa6+x71u2sCsY9mTlSva9b1/Ay0vcWMhzZWVlGbb79OkjYiSEEDHUrFnTsD127FgRIzEPJYRElho2bIhGjRqhYcOGhu3PPvsMKSkpuHjxotjhFal7dza1YPVqkQMpJmG66JAhVlyPVLYsK4VoukN7IfxCrTIfkqlVi+WbOTmsfYO94HljvmPVYmzNm7MrFqmprP2HvcjONr5/hg8XNxZilu+++86wbQ+jA4QQZaOEkMiSUDzGtJCMvRSVGTiQNSFZs4Ytl7MHsbHGXutWr64szIu0p4z5wQPWbZ3jrH6A7HHa6KVLrHimk5OVl8fZ67zasDBWSMnPD+jWTexoiBlmzJhh2A4MDBQxEkIIeT5KCIksBQcHF/klZV278vDwMJbgtwdr17LCjQ0aAPXrW3lnAweyNgJXrwJXrlh5ZxYiDH917AhUqmTVXQkjtEePAg8fWnVXFiMs7e3Tx+LFM/MTEsLdu1mBGXsgvH+GDGHvfUIIIcSCKCEksrR169Yiv6TMxYX1lANY2zR7IMQ5cqQNdubtDfTsybbtobcXzxsznhEjrL67ChWMbfbsYRA1O9s4WGeDwwPUrg00asR2bA/zalNT2fpTgKaLEkKIHTFtSJ+dnS1iJM9HCSGRpf79+xu+BgwYkO+21An9jNeulX7ti5s3WXVIBwfj4IvVCZnD33+zE3spO3kSuH0bcHW1UvnM/IS8Yflylo9KWWgo8OwZ4O8PdO9uo50KxWXsoerwv/+yD4GqVYEWLcSOhhBCiJlM1xL/8ccfIkbyfJQQElnS6XSGL1dXV9y5c8dwOycnR+zwnqttW9Z2LyXFODggVcLoYI8eQFCQjXbaqxfrKRcZyab+SZmQdAwaBLi722SXgwez/PPWLeDECZvsssSEQd5hwwCNxkY7fe01dgXjxAngxg0b7bSEhOmiw4dT93g71KhRI7FDIISIpFy5cobtKVOmiBeIGSghJESCOM44SrhsmaihFCknx3hCb5PpfgJHR+Mw2J9/2nDHxZSZaayGasMD5OHBkkJA2ocnIQHYvJlt2/T9U6YMu6gASPsAPX7MeogAxlFNInmmlaznz58vXiCEEMnIyMgQO4QiUUJIiESNGMESwwMHWNNuKdq/H3jyhC3rs3mrrdGj2fdt26TbdG/TJpb1VKhgbJdhI2PGsO9r17KRZilatQrIyADq1gVs3h5UOEArVrCKSFL055+s1HC7dsALL4gdDTHTZ599ZtjuaOP/94QQUhKUEBJZSkpKMnxxHIeUlJRc99mDSpWAzp3ZtlSLyyxezL6/9hrg7GzjnderB7z0EltDKEyrk5olS9j3N95gUxRtqE0boHp1lgyuX2/TXZuF543vn7FjRZgN2bMnm+McFWXsmSIlOTmAsObkrbfEjYUUi2nhMo6m+RJC7AAlhESWvL294ePjAx8fH6SkpKBRo0bw8fEx3G8vhEGwP/6QXu2UiAhW7wIAxo8XKQjTAyS16im3bgEHDwIqFUsIbYzjjINgUlzLfvo06xri7CxS8UyNxlgWV4oHKDQUePSIDb/bqBgRIYQQZVKLHQAh1nDgwAGxQ7CIgQNZ9cXHj4Ht24H+/cWOyOjPP9kgRqtWbMqfKF59FZg2Dbh2DdzRoyIFUYjff2ffe/YEKlYUJYSRI4FPPmH9LK9eFfH3VADh8Lzyig16DxZm9Gjg22+BnTvZf7IKFUQKpADCARoxgvWiIYQQYnd8fX0RFxcndhjPRSOERJbat29f5Je9cHY2Di4tWiRuLKZycoznq6KNDgJs9ERfbEP1668iBpJHRgbr+QAA48aJFka5ckC/fmxbSu+fpCRjj8SxY0UMpFYt1rRRpzPOX5WCyEhAmHZI00UJIcRuTZ482bCdmZkpYiRFo4SQyNaRI0cwfPhwtGrVCk+ePAEA/P333zgqtZGk5xg3jk3/Cw1l7eykYM8eNpvNxwd4+WWRg5k4EQDAbdkCJ6lchdu8GYiNZSNOPXqIGsqkSez7ihVAYqKooRisXAmkpbEe8a1bixyMcICWLGFVYaVgyRI2R7xFC2kN6xJCCCmWMcLaDQBhYWEiRlI0SggV5IZUzgZtYOPGjejWrRtcXFxw/vx5w1WZ5ORkfP311yJHVzxVqrBZhwDw22/ixiIQRptGjpTAbLaGDYFWrcBlZyM4NFTkYPR++ol9f/NNmxeTyatDB+DFF1lvcykUJ9LpgB9/ZNtvvy2B1nr9+7PEPSoKWLdO5GDAklJhtPudd8SNhRBCSKlUqlTJsL1C6EssQZQQKsSVtAC8rR8lU4KvvvoKv/32G37//XdoTLpdt2rVCufPnxcxspKZMIF9//NPNrIiphs3WFFGjjPGJTr9KGHlPXvEbyFw4gRw8iTrlSjqfFqG4wyHB7/8whIyMe3aBfz3H+DlZawJJCq1mmWmALBwobixACwpjYxk831FH34npdFD5NkBhBBpWSP0JZYgSggVYnVGC5z28xM7DJu5desW2rVrl+9+T09PJCQk2D6gUurWDahalbW0E7uP9g8/sO99+wI1aogbi8HLL4MPDIRLXBy4jRvFjeX779n34cNZWwMJeP111qz+v//Y1GMxCe+ft94C3N3FjcXgzTdZAn/6NPsSC88DCxaw7YkTWSVUYlfSTK7YDRw4UMRICCHEfJQQKsRpv1ZIDw7GmUePxA7FJsqWLYs7d+7ku//o0aOoWrWqCBGVjoMD8P77bPu778RrQREVxdaiAcZ4JMHRETr9KI/D/PnitaC4f581oweA994TJ4YCeHgYW1B8+614cVy5AuzfzzpxCEv3JCEwEBg6lG3Pny9eHMeOAefPs2pSolbbISV17Ngxw3b37t1FjIQQQsxHCaECxGU5I/6FxgCAH86eFTka2xg3bhzeffddnDp1ChzHISIiAqtWrcK0adMwQTLzHItn1CjWguLBA2DDBnFiWLSILXFq2pQ1PpcS3dtvI9vZGdzly6zqjRh+/pnNyQwJkVwxkKlT2ezIsDDxBsGEwa9Bg4DgYHFiKJRwhWPDBjaUKobvvmPfX3+d/WcndmePyWdP+fLlRYyEEELMRwmhAhxJqQL/m6egefoUyVLrbm4lH374Ifr374+OHTsiJSUF7dq1w5tvvolx48ZhkqSGJszn6mqsMfHNN7YfBEtLMxaTef99CRQDycvXFw9CQtj2N9/Yfv+xscZeHBYYHczheTxIT8eVlBREZWWBL+UvvFIlQ4cOzJ1b6vCK7eFD4O+/2baEBk+N6tcH+vRh/7HEeP9cvgxs2cL+Y1ngAKXn5OCe/v2TpJDPfSk4cuSIYZuT3IckIYQUjBJCBejnewNd4w/ALTkZ2wYPtuq+li69Cl/f81CpYsFxyPX18KFtq5zOmTMHMTExOH36NE6ePIno6Gh8+eWXNo3B0iZMYInhxYu2Xwu2aBEQHc2qng4aZNt9m+tu377gNRrg4EHg1Cnb7nz+fCAlhVU97datxE9zID4eQ65dg/uRI6hy6hTqnz2LoOPHUe3UKXx49y6elqI1wocfsu9btrDiQLY0dy6r99OlC9CypW33bbYZM9j3FStYXxVb+uor9n3wYNaPowR4nsem6Gj0unwZ3kePopr+/eN19Chqnz6NuQ8fIk7soksyd1rMNaiEEFJClBASi1m37hbeeqs6qlRJwpYt8fjqq7PguDh4e1/AlCnHERzsZfOYXF1d8dJLL6FZs2Zw11ewuHLlis3jsBQ/P2Of6s8+s90oYXKycdDkk0/Y1EMpyvD3Bz9sGLthy+Q/OppNFwWA2bNLNHz6OCMDA69eRadLl7AuOhoZOh0cOQ5+ajU4APczMjAvPBw1Tp3C/x4+hK4Ev/wXX2RdFgDbjhI+fGgshvTZZ7bbb7G1aAF06sQW6dpyLeG1a8Z54LNmlegpbqamos2FCxh07Rp2xsUhi+fholLBV/+f9WZaGmbcv4+ap09j+dOnpR5xJoQQIh+UEBKLGTs2HRUrnse5cx3Qt291zJz5EurWvYKsLCf88EMrm8YyevRo5OTk5LovMzMTM2bMQIsWLWwai6V99BEbJTx5Eti61Tb7/PlnICaGVRV9/XXb7LOkcj76iFXh2bEDOHzYNjudP581+mvShE07LKaTiYlocu4cNsfEQM1xGF+uHM42aYK0du0Q06YNktu2xYY6ddDcwwOpOh2m37+PPleuIL4Eoz3CINiqVazIiy0Io4OdO0tv7Wk+wgFasoRlsrbw1Vfs6s6gQSVae7oxOhpNz5/H8aQkuKpUmF6pEq41bYrUtm0R26YN4lq3xp81a6KOqytitFqMvnULb926hSyxe5AQQgiRBEoIiUVcvRqNxMR6eP9911z3u7jw4DjbX4n+77//0KtXL6SkpAAADhw4gLp162Lfvn25qsDZo7JlgSlT2PbMmUCevNfiEhONgyWffSbd0UGDGjWMw6gffWT9YdSoKGP/us8/L/bo4J64OHS4eBFRWi0auLnhQpMm+PWFF9DEwwMO+udyc3DAoIAAnGjcGH/UrAlnlQo74+LQ5dKlYieFTZuy9nY6HfDxx8X60RJ58MBORgcFnToBHTqw6kklHK0rlsuXgbVr2fYnnxT7x5c/fYpXrl1DSk4OOnh747/mzfF11ap40c3NsIbNR6PB6LJlceGllzCnShWoAPwRGYk+V64gk5JCQghRPEoIiUVs3PgAgAP696+S6/7btz1RuXIsVq26AX9/Y4XTDz44gXr1DlktnrCwMLi6uqJdu3YYPXo0+vXrhwkTJuDkyZNo2LChxfc3d+5cNG3aFB4eHggMDET//v1x69atEj3X0aQk5DwnifngA8DHh800W7WqRLsx27x5QHw8m24oVOaXvE8/NQ6j/vuvdff1+ees4k7TpkCvXsX60SMJCRhw9SoyeR59/PxwtFEj1C2iOR/HcRhTtiyON2qEAI0G51NS0PXSJaQUs2jI11+zxH7nTuDAgWL9aLF99JFx7WDbttbdl0VwnPEKyMqVrA2EtfA8q9DE82ztYIMGxfrxf549w5hbt8ADGF+uHELr10d5J6dCH69RqTAjOBjb6tWDm0qFvfHxGHr9OrJtlBQOHz4cSUlJAICdO3di8+bNNtnvokWLUKVKFTg7O6NJkya5Cr8QQgihhJBYSE4OS2Di4zMM923c+B/i4+ti8mQfDBpUAwkJZQEAaWla/PKLN1avftFq8Tg5OWHjxo1o1aoVVqxYgfXr1+O9996DSmWdt/yhQ4cwceJEnDx5EqGhocjOzkZISAhSU1OL/Vz9r19H5ZMnsSk6utDHeHsD06ez7Vmz2GxFa7h3z3hu/NVXbCamXShb1lipcfp0lpFYw+XLwOLFbHvevGKNDt5LT0e/q1eRrtOhp68vNtSpA3czh18beXggrEEDBGg0OJeSghE3bxZrTWGNGsC4cWz7ww/ZaKE1HDsGrFuXO8eyC02aGEuyTptmvVHmXbuAffsAR0fgf/8r1o+eSkrCmJs3wQN4u1w5LKpRA2ozP996+vlha716cOI4bImJwbS7d0sQfPFdvnwZnp6euH79OqZNm4bdu3djijDdwUrWrl2LKVOmYObMmbhw4QLatm2LHj164JFCevISQog5KCEkFjFsWFUAaRg48DZ27ryHzz8/g6FDnVG//gmMG1cPzs5quLjE4dSpCLz++nG0aPEMdesGWC2erVu3Ytu2bQgJCUG7du3w2muvYcWKFdi6dSu2WmHh3e7duzFq1CjUqVMHDRo0wLJly/Do0SOcO3euRM/3JDMTL1+7VmRSOGkS6+UWHm4sUGhp06axmXNduhiLkdiNDz5gvdxu3gR++MHyz8/zbO6uTge88grQvr3ZP5qek4NB164hPjsbzT08sKFOHTgW82JFXXd3/Fu3Lhw5DptjYjCnmOvdPv0UcHcHzp4Fli0r1o+aJTvb2CblzTeLPfglvjlzACcnNoS6ZYvlnz89HXj3Xbb97rusfK+ZnmVlGUaW+/v7Y2GNGsVucdDJxwf/vMguyv345AnWPHtWrJ8vCY1GA57nsXz5csycOROLFy+2+mjd999/jzfeeANvvvkmateujQULFqBixYr49ddfrbpfQgixJ6InhCkpKdiyZQtWrFghdijkORYtuowRIw7j4sX8Jw61a/vjk0+u4vHj8ujVqwLmzAlE1673cO6ccY5Y9epxWLr0HnbsKIc1a5paNdb+/fsbvg4fPoy4uDiMGjUK/fv3x4ABA6y6bwBITGQtNnx9fUv088J4xJQ7dwqdPuriAvz0E9uePx+4fr1EuyrUv/8CmzezUcEff5Rg38Hn8fJio3YAm9b54IFln3/ZMpYsODsD335brB/94O5dXExJQYBGgw116sClhEOvLb288NsLLwAAPn/wACcTzW/tEhjIDgvAcueoqBKFUKgff2SzLb29bVvw1WKCg43N6idNYotpLWnOHODOHaBcuWKtVeR5Hm/cvImnWVmo4+qKFbVqQVXC/5wDAwIwvVIlAMCbt27hblpaiZ4nrz179kBXwLDzuHHj0LRpU2zYsAH99VeYSjKLwlxZWVk4d+4cQoT+pHohISE4fvy41fZLCCH2RpTyEM+ePcPGjRuxbds2HDhwAJmZmWjZsiX2799f4ufUZmRgTHXA1/X5j1UiJ2QhLSYQ1eqeBbiSXQfIyFAjIqId/v4bcHW9jmbNovDOO+UxYEANAMAXXzTDF18Ijw7Wfxm1aqXGr7/WxrBhVxEYWKPkL8YMwslIYmIiBgwYAJ1Ohy1btsDb29uq+wXYCdvUqVPRpk0b1C2iYmBmZiYyTXrKCWtrDM8DIDwzEwdiY9Heq+CWHT16AL17O2D7dhVGjtTh0KEcaDSlfw1xccD48WoAHN57Lwc1auisNuvSUrT6ALWmgb76KhyWLYPq8GHo3noLOdu3A5aYNhwRAfXUqeAA5Hz2GXTly5s9LfVAQgJ+iYgAAPz1wgsIcnDIHXMxDff3x97YWKyJicHrN27gTMOGcDMzwZwwAVi5Uo2LFzm8+y6H4cNRqlgEd+8Cn3zC3j/ffpsNX19e8u+fAn30EdTr1oG7cwc506ZBt2hRkQ8v8D1YkEuXoP7mG3AAshcsAO/iYvb754/ISOyIi4Mjx+HvF16AM8+X6nf2aYUKOJaQgMNJSRhbwnXPefXs2RNPnz5FYGBgrvvHjh2LwYMHQ61Ww83NDXfu3EHz5s0tss+CxMTEICcnB0FBQbnuDwoKQmRkZL7HF/aZrNVqS3SMi/MzZr93ZIBeq/wo5XUCpX+tJflcsAVREkJ/f3/Ur18fDx8+xMOHD3Hjxg0EBASgXr16JX7OsNBQ/LwH+GykBQOVkcm+x+C0ayIe19SWeCFYZGQ2IiIAlSoK5cvHokULF7RsWdbsn2/e3AdLl8Zj2bLWJdp/cT158gTdu3fH9evX8csvv9gkGQSASZMm4fLlyzh69GiRj5s7dy5mz5793Ofbdfo0Uov4UOjf3xkHDnTE2bOOGDPmPwwbVrqTOp4H5s9/CZGR5VGhQjKaNTuInTvtpxJhaGhortvuQ4ag/cmTUO/bh2sTJuBe376l20FODlp+8QUCExMRX706jrzwAvidO8360QwA73h4ACoVumdmIuv4cZj3k0XrDSDUwwN3MjIw+tAhjMrIeO7PCIYP98Lly+2wcaMa5cpVBMeFPv+HiqDVcpgxoy3S031Qr140AgKOw8zDI0l+o0ahzaxZcFi6FGf9/RFpRtuavO9BUw4ZGWg/bRo8srPxtHlznHZ0hLkHKI7jMNXDA+A4vJqWhkeHDsESK+GGcxzOenhAl5BggWdDkT0OTT+Hq1evjr/++ssi+yxK3um0PM8XOMW2sM/kvXv3wtW1+Febd5bgjV/Ue0du6LXKj1JeJ1Dy11qcz4U0C83aMAfHS6A77d27d3Hv3j107dq1xM8xd/ZsnNn+OWaNAHSOFgxOJlRZQOMau4B27Vj1xRJYu/YWUlK0GDnyRajVxR9lqVHjCIYNc8IXXzQr0f6L48qVK+jRowcGDx6Mdu3aYfLkyahRowZ+//13VKtWzWr7nTx5MrZs2YLDhw+jynPWBBV0NbpixYrA9u2Am5vh/tC6dQsdIRSsW8dh+HA1VCoe27bloGvXkv+3/uUXFd57zwFqNY9Dh3LQtKnoHxFm0Wq1CA0NRdeuXaHJM0yqWrIEDpMmgXd0RM6BA+CblnzKsmrOHDjMng3exQXZJ06w8qtm+vThQ/zv8WNUcnLChYYN4WHBHh674uLQ78YNqDkOZxo2RJ1i/D//5hsVPvnEAU5O2Th2TIv69Use14cfqrBggQN8fHicOZMN/YxEu6b66CM4/PADeG9vZJ85w6aTFqCo9yAAgOfhMG4cVMuXgy9bFtnnzrF1rmZ6/dYtrI2JQVN3dxypX7/EU0ULcjc9Hf5ZWQgICEBiYiI8PT1L/FwqlQqRkZH5RghtLSsrC66urli/fn2upQLvvvsuLl68iEOHcle6LuwzOSYmxuzj4ehoPAHJysoyO9bnvndkhF6r/CjldQIle60l/VxISkqCv79/qT+TzSGJjmLVqlWz6kk6sYwhQ2qW6OfCwh6ie3cdatfW2SQZBID27dvjs88+w7v6og1dunTBxx9/jAYNGmDGjBmYITSfthCe5zF58mRs3rwZBw8efG4yCLBKqE5FlIjnAFRwckJHPz9DP7rCvPYasH8/sGwZh9deU+PUKUC/tKxYwsLYejIAmD+fQ6tWkviIKBaNRpP/Q3rCBGD/fnCbN0M9cCBw+jRKlKls2gRhXjT366/QFKNSyt30dHz/5AkAYEH16vB1cSn+/ovQNygI/aOjsSUmBlPu3cOBhg3NLjQyfToQFqbDgQNqvPKKA06e5FCSc/k//wQWLGDby5ZxqFZNJicG//sfcOwYuNOnoRkwADh6lK1RLUSB70GALfZdvhzgOHArV0JT1vwZFgfj47E2JgYqAL/VrAknR8te+ayl0eSbtl4aCxcuROvWrdGkSRP4FyPptSRHR0c0adIEoaGhuRLC0NBQ9OvXL9/jC/tMLvT3+Rwl/Rm5n1AL6LXKj1JeJ2CbzwVbHkvRi8oQ+evUKRhZWVVw6ZL5VRhLa8mSJYZkEADc3d2xcOFC7N+/H2uFJtAWNHHiRKxcuRL//PMPPDw8EBkZicjISKSnp5f4OXmwxOF5yaDg11+Bli2BhAQgJKT4NVTOnAH69WPVIYcONVaIlAWOA/76C6hfH3j2jC2+LGANUZEOHgRefZXNqR0/HhhZvPnpH9y9iyyeR1cfH/S30gnygurV4aJS4VBiIrbFxpr9cw4OwMqVOQgKSsX9+xx692a9J4tj2zZg7Fi2PXMmey/JhqMjsH49a2dy9SoruVvcYigrV7IeHwDw3XdAp05m/yjP8/jw3j0ArN9gYw+P4u1bBL/++it69OiBoKAgVKpUCf3798eXX36JHTt24OnTpzaLY+rUqVi6dCn+/PNP3LhxA++99x4ePXqE8ePH2ywGQgiROkoIiSy9/PLLBd7fvHlznLdCo+lff/0ViYmJ6NChA8qWLWv4Kk3y6aZSoWMx1j06ObGqoDVqAA8fsi4I166Z97N79rDWEikpQOfOrICm3VUVfR4PD5a1lCvHSrK2bw/cv2/ez27axJLIzEyWDPz8c7F2fTYpCZv1ozsLqlcvdosAcwU7O2NKhQoAgOn37hWr4XhAAPDppyfg68vjzBmgQwfA3PP2FSuAAQOAnBxgxAg7rSr6PJUqsbV+7u7s4kCXLoC5SfeiRezA8DyrWFrM3nubY2JwJjkZbioVPqtcubiRi+LatWt4/Pgxtm7dirfeegscx2Hp0qXo06cPKlSogHLlytkkjiFDhmDBggX44osv0LBhQxw+fBg7d+5EcCHTfgkhRInsbz4YIWa4fPlykf9ev359i+7PkktxN9aujU+io3E9PR0/PH6ML4rRnywoiHVC6NgRuH0baNaMtaYYPbrg4pqZmWw23JdfspP5du1YUunsbLGXIy2VKgGHD7PRmf/+Axo1An77DRgypOAMOC0N+OQT1seQ54E+fYB//gGKufbvU/1w7WtBQXjRZH2oNXxYsSIWR0TgeloaVjx7hjHFmJZYvnwq9u7NRq9eGly+zHoHLl3KXnZBhyc5mXVm+P13dvv119njZXcxQdCwIbt60rs3cPIke//8+SdLDgsSH88SwH/+YbcnT2ZzaotxgLJ1OszSX7iYWrEiAi08VdQahAse5cqVQ7ly5dCrVy/Dv8XFxeHs2bO4ePGizeKZMGECJkyYYLP9EUKIvaGEkMhSQ/36KSFRE05QhOpyOTk5YoZXpPZeXvjCwwMvX7uGnx4/xtQKFeBdjHnk5csDx46x2Y379rGm4D//DLz1Fhv18fMDHj9m/7Z4sXFq6YgRwJIlbKRR1qpVYwdo8GDgxAlg2DA2hW/sWKBtW7Y27NEjduK/eDGgbxGBiRPZyXwxk8FjiYnYFRcHB8AmozveGg1mBgfj/bt3MefhQ4wICoK6GK026tdnS+QGDQIuX2ZTP1u3Zu+fli1ZvaMHD4Bdu1guLQySffwxa61nia4ektaqFXDkCDswd+8CXbuyYfU33gAaNoRzTAy4w4eN75+kJDYn98sv2UEqZrb897NnuJGWBl+1Gu9XrGilF2VZRV0g8/X1RUhISL7egIQQQsRDCSGRrVOnTiEgIAA8z6Nu3bp2NU1ogL8/6ri64lpaGn5+8gSfFDORCAgAdu8Gvv+enaRfusQGKgpSpgxrIv7KKzIe2cmrQgXg0CF2cObNA86eZV8FqViRZT49e5ZoV5/oR3fGlC2LahYuJFOYceXKYe6jR7iXkYG10dF4LU8ftuepXh04dYoNjv70E8ufjx0r+LHVqrFRwQ4dSh+33ahTB7h4EfjoI5b07d8P7N8PDYBueR9bty4bQjWjXUVe2Todvnj4EAAwvVIleFmwKq017dq1C17PqYxMCCFEOmRxLVdnsk6mGEtmiMxVqlQJwcHBqFy5MjiOg6urK4KDg+0iKVRxHGbp4/zh8WMkZ2cX+zkcHFjF0Lt3gW+/Bdq0MRZGDAxks9yWLQPu3GGDZYpJBgUaDfD552wd4ZdfsuEvd3d2IIKCWAK4ahWbe1vCZPBYYiIOJCTA0eT3aQtuDg54T7+W8OuHD6ErwZRmZ2eWK9+/D8yaBTRvzu5TqdhFhP79gXXrgJs3FZYMCtzdgV9+Yf/BPvwQeOkl8I6O0KnV4MuWZf+ptmxhV2NKkAwCwProaDzIyECARoOJ5ctbNn4r6tatW5EVlOVMqa+bEGLfZJEQrlu3Dv+sW4ez94F/DoodDZGCwMBA/PfffwCAiIgIpKamomfPnti9e7fIkZnvlcBA1HRxQXx2Nn7RtysoCT8/lhgeOcIqkObksEKboaHAqFG5Wh4qU2Agy3iOH2eL4nJyWAXSHTvYvNtSnOB9Fx4OABhRpgwq2Xhh5sTy5eHl4IDraWn4NyamxM9TrhzLl0+eBNLT2eF5+pStNX3llWLPoJWf4GDgm2+AM2eQnZKCbRs2IPvhQ2DtWjattIRzaHmex7f698875cvDxcHBklETK2lRwuSfEELEJIuEsEOHDrh6/TrCY4EG5tffIDLWvXt3DB06FOPHj0enTp3QtWtX/PXXX3j99dfx+eefix2eWRw4DjP1o0o/PnmCLAsNf8t+jVdpWWio9HZaGrboE7Gp+tE6W/JSqzFJP6o05+FDixY+Ita3Lz4eF1NS4KpSYYIdjQ4qXefOnQ3bOpqyRAixE7I4NSxTpgyaNmkCX3egjvRnAxIb+OWXXzBixAiEh4ejS5cu+Pvvv9GjRw+cPn0aW7duFTs8sw0JDERZR0dEZmVhfXS02OGQYljw+DF4AL18fVFbpGHYdytUgLNKhXMpKTiWmChKDKRk5ulHB98sWxa+Cmn0LAddTCrO3r59W8RICCHEfLJICAGgT8+eaFuTRj8I4+bmhq+//ho7duzAwoULERgYCACoUqUKTpw4IXJ05nNUqTBB36/rx8ePaZTHTsRkZWGZvvG9mJUhAxwdMVxfUObnUkw7JrZ1KSUFofHxcAAMa0GJfWjcuLFhe/v27SJGQggh5pNN+tSnRw+0ry12FESKwsPD8fjxY8Nte1v0P65cOThxHM4kJ+NkUpLY4RAzLH76FOk6HRq5u6ODt7eosUzWTzfcGB2NxxkZosZCzCOsGX45IACVbVSZlliG6d+X9evXixgJIURqpFx9WTYJYYP69dGqpthREKnIzs7GJ598Ai8vL1SuXBnBwcHw8vLCrFmzoNVqxQ6vWAIcHfGqfpRngUliS6Qph+exWN+78L0KFQw9MMVS390d7by8kAPgN6GnIpGsxOxsrHr2DABo7aCdO3XqlNghEEJEZjqza8iQISJGUjTZJIQcx8GZllkQvUmTJmHJkiX49ttvceHCBVy4cAHffvst/vjjD0yePFns8IrtXf20sY3R0XiSmSlyNKQou2JjEZ6ZCV+1Gq8EBIgdDgDjKOGSp0+RkZMjcjSkKCsiI5Gm06GOqyvaSvhqMiGEkOe7cuWKYfuNN94QMZKiKb1gOJGp1atXY82aNejRo4fhvvr166NSpUoYOnQofvvtNxGjK74G7u5o4+WFo4mJWB4Zaag+SqRn8dOnAIBRZcrAWSKtAvr7+6OCkxMeZ2ZiQ3Q0hpcpI3ZIpAA8z+NX/Sju2+XLiz66TAghpHSWLl1q2H7ppZdEjKRoshkhJMSUs7MzKleunO/+ypUrw9HR0fYBWcBbZcsCAP54+rREjcaJ9T3MyMCO2FgAwFh9MSApUKtUGKt//yzVJ6xEeg4lJOBGWhrcVCq8rp8mTgghxH79/PPPhm2VhCtfSjcyQkph4sSJ+PLLL5FpMr0yMzMTc+bMwaRJk0SMrOReDgiAl4MD7mdkICw+XuxwSAGWPn0KHkAnb2/UdHUVO5xcRpUpAw7AocRE3ElLEzscUgBhjefwoCB4qmkCDyGEENugvzhEli5cuID9+/ejQoUKaNCgAQDg0qVLyMrKQufOnTFw4EDDYzdt2iRWmMXi6uCA14KCsCgiAr8/fYouvr5ih0RMZOt0+EM/+jZOQqODgorOzujm64vdcXH4MzISX1etKnZIxES8VovNMTEApDW6TAghRP4oISSy5O3tjUGDBuW6r6KI/eAs5c2yZbEoIgKbY2IQnZWFADud/ipH++Lj8TQrC35qNfr7+4sdToHeKFMGu+PisDwyEl9Urgy1hKevKM2aqChk8Tzqu7mhkbu72OGQUhg7diyWLFkCgFW8VtNoLyFE4uhTisjSsmXLxA7BKhp5eKCJuzvOpaTg72fPMFUGSa5crNC3ChgWFARHiSZaff394a/R4GlWFnbHxaG3RBNXJVoWGQkAGF2mDBWTsXOzZs0yJITr16/HsGHDRI6IEEKKJs2zFkJIocboi4Os1CcgRHxJ2dmG6X4jJFwMxNGkWMkf+gSEiO9aairOJCdDzXF4TcLvH2Ie09koU6ZMES8QQohkFFToUEpohJDIUuPGjYv89/Pnz9soEssbEhiId+/cwYWUFFxLTUUdNzexQ1K8DdHRyNDpUMvVFS95eIgdTpHGlCmDHx4/xo7YWMRptfDVUANXsS3XJ+e9/fxoGrjMREVFiR0CIUQkly9fNmwvWrRIxEiejxJCIksXL17E+++/D3cZrsXx02jQ09cXW2NjserZMyoOIgEr9Cf0I4OCJD/dr667O+q7ueFyaio2REdTARORZet0+Fv//hlF/SEJIUQ2Jk6caNju1q2biJE8HyWERLY++OADBAYGih2GVQwPCjIkhF9VqQKVxJMQOXuQno5DiYngALuZ7vdaUBAu37uHVc+eUUIosv0JCXim1cJff6GHEEKIPBw9etSwLeUehACtISTELvX284OngwMeZWbiaGKi2OEomrCWs5O3Nyo6O4scjXmGBQaCA3A4MRHhGRlih6Noa/RTCl8JCIBG4icMhBBC5In++hDZkvrUvdJwcXDAywEBAIBVVFxGNDzPG6qLjrCj6X4VnZ3RzssLALCa1jiJJiMnB5uiowGwJJ3Ix99//23YvnbtmoiREELI89GUUSJbn3zyCVxdXQv8t++//97G0Vjea0FB+DMyEuuio/FTjRpwotEFmzuTnIzb6elwVakw0M5aOLwaFIRDiYlY9ewZPqxUSexwFGlXXByScnJQwckJrfUJOpGH1157Da+//joA4OWXX8aNGzdEjogQIhapTxcFKCEkMtWuXTvcunWrwH+Ty8hhe29vlHd0xJOsLOyMjcUA/YghsZ11+tG1vv7+cLez5tMvBwRg0u3buJyaiqspKajp5CR2SIojjM4ODQykdcAyY/p35ubNmyJGQggRw4EDBwzbO3bsEDES89jXGQwhZjp48KDYIVidA8fh1aAgzAsPx8pnzyghtDGe57FOP91vsB0ee199EZN/Y2PxT1QUZpv0TiPWl5ydjW2xsQBouighhMhNp06dDNtSrzAK0BpCQuyacCK5My4OKdnZIkejLKeSkhCemQl3Bwf0sNPqkEJV1H+ePQPP8yJHoyz/xsQgQ6dDDRcXNJJhexxCCCGMPcxMoxFCIltnzpzB+vXr8ejRI2RlZeX6t02bNokUlWU1dHdHNWdn3M3IwI64OAyhkQabWasfHezn5wdnBweRoymZ3n5+cHdwwMPMTJxNSRE7HEURposOCwy0i5MFUnwffPAB5s2bBwB48uQJypcvL3JEhBBSMBohJLK0Zs0atG7dGtevX8fmzZuh1Wpx/fp1hIWFwUtGxRs4jsMr+iRwPVWLtBkdzxuO92A7TsJdHBzQ288PALAxJkbkaJQjVqvF3vh4ADRdVM7mzp1r2O7SpYuIkRBCbMkeZ9xQQlgMPA/ciwDWHQBydGJHQ4ry9ddf44cffsD27dvh6OiIH3/8ETdu3MDgwYNRSWYVFV/Rr1/bGReH1JwckaNRhhNJSXiSlQVPBwd0s9PpogLh/bMpNhb29yfMPm2JiUE2z6OBmxtqubmJHQ6xEgeTmQNUWIYQ5Vi+fLlh+9ixY+IFUgyymzLKaS2b5WpzgPN3gCNXgcNXgSexQHk/4HFk0T/H88CorkCARAajOK3YEdjW3bt30atXLwCAk5MTUlNTwXEc3nvvPXTq1AmzZ88WOULLaeTujqrOzriXkYGdsbGGEUNiPWv1o4P9/f3tvt1Hd19fuKpUeJCZibt2/lrsxUb9dGP6v0oIIfIzZswYw3arVq1EjMR88kkI1Wo0aH0EsPA6GJ1OB+A/PIk9hWuPTuFJ7H24OJVDlTJti/y583fuYOE2B2yTUuLh7g7YWWn8kvL19UVycjIAoHz58rh69Srq1auHhIQEpKWliRydZXEch1cCAvBNeDjWR0fTSaaV5fA8NgjVRWVwrF0dHNDLzw/ro6NxQqPBO2IHJHOJ2dnYp58uam+9K0np6HQ6u+hHRghRHvlkB46OQLNmgIUrLaoANO/QAc3HjsVXAB4+eoT9Bw5g5PDhuaaD5PXb0qUIDQsD2rWzaDylolaz46QAbdu2RWhoKOrVq4fBgwfj3XffRVhYGEJDQ9G5c2exw7O4VwID8U14OHbExiItJweudlrkxB4cS0zE06wseKvV6OrjI3Y4FvFyQADWR0fjuEZjl2sf7Mn22FhoeR61XV1Rm6aLyt7NmzdRq1YtAMBHH31kKDJDCCFSIp+EEGDJjpUTnuBatTBG/+H+3FgcHABXV6vGQwq2cOFCZGRkAACmT58OjUaDo0ePYuDAgfjkk09Ejs7yGru7o4qzM+5nZGBXXBwG2WFfPHuxRV98pZ+fHxxlcrW/p68vnFUqPAVwKTUVTRVy4UgMm/SjyzQ6qAw1a9Y0bM+fP58SQkJkznTN4MKFC0WMpHjkcTZDiF5SUhKSkpKgVqvh7u6OpKQkpKSkYPz48Vi5ciU+//zzIkd27RXHcXhZnwRStVHr4Xke/woJoYxO6N3VanTz9gbAissQ60jLycGuuDgAwEC6aEMIIbLTpk0bw/aECRNEjKR4KCEksuLt7Q0fH5/nfsmRUC1ye2wsMqjaqFVcT0vDvYwMOHEcQuy8umheg/QJ7saYGJo2aiW74+KQrtOhsrMzNaNXqGwLL2shhEiXPfWYldeUUaJ4Bw4cMGzzPI+ePXti6dKlimgI/JKHByo4OeFxZib2JySgl76/HLGcrfrRwS4+PnCT2UhzTx8faHgetzMycC01FXUpYbE40+mi9nSiQErnwYMHqFy5MgBgyJAh2Lhxo7gBEUJIHpQQEllp3759rtsODg5o0aIFqlatKlJEtsNxHPr7+2PhkyfYEhNDCaEVbNVPp+wro+miAk+1Gg2ys3FWo8GWmBhKCC0sS6fDNv37h6aLKktwcLBhe9OmTSJGQgixpvnz5xu2d+/eLWIkxUdTRgmRkf76RGVrTAxyaNqfRUVmZuJUUhIAoLdMk+3mWtaw9F9aR2hx++PjkZSTgzKOjmjp6Sl2OIQQQizsgw8+MGx369ZNxEiKjxJCQmSknZcXvNVqRGm1OKlPXohlbI+NBQ+gmYcHyjk5iR2OVTTNzgYH4GxyMh7rq/QSy9ikn248wN8fKpouqjhvvPGGYfvs2bMiRkIIIflRQkhkT0lrdTQqlWH0SmiPQCxDztNFBd48j5YeHgCMr5eUXrZOZ/j/SO0mlOn33383bDdt2lTESAgh1vDw4UPDduvWrUWMpGRoDSGRlYEDB+a6nZGRgfHjx8MtTwNoOa/j6O/vj5XPnmFzdDS+rVpVUQmxtaTl5CA0Ph4A0Fem00UFfXx9cTw5GVtiYjBBAcWYbOFoYiJitFr4qNVor2/vQZSFPocJkTehcBSQu8ChvaCEkMiKl5dXrtvDhw8XKRLxdPPxgRPH4W5GBq6npaFOnmSYFN+++Hhk6NsF1JX58ezr54fpDx/iQEICErRaeGs0Yodk94TR1j5+ftCoaGKOUqnVakPbifj4eNm2QCJE6TR2+HeTEkIiK8uWLRM7BNG5q9Xo6uuL7bGx2BITQwmhBRia0fv5yf5Kfw0XF9R2dcWNtDTsiovDsKAgsUOyazzPG9qVyHm6MXm+uLg4eOoLCvn6+lK/T0JkIiUlRewQSo0uVRIiQ0K1UVpHWHo5PG9oF6CUE3rh/fMvvX9K7WZaGu5mZMCR4xBCI0KK5qFfn0sIkRfT/9tRUVEiRlJylBASIkN9/PwM1SLDqVpkqZxOSkK0VgsvBwe0zTMlWa766RPCnXFxyNTpRI7GvgnTRTt6e8NDTZNyiFFiYqLYIRBCLCzATvvMUkJIiAwFOjqilX5qElWLLB3h+PVU0Pqvph4eKOvoiOScHBxMSBA7HLu2jaaLEhOxJp/H3lRgiBC7FxcXJ3YIFqGMsxtCFIimjVqGMG1S7tVFTak4zvB66f1TctFZWTiu7wfaW0HvH1I4X19fsUMghFiQn8lnuz0nh5QQEiJTQkJ4UF8tkhTf7bQ03EhLg5rj0ENhJ/TC+2drTAx0VPyiRHbGxYEH0NDdHZWcncUOh0iE6XqjW7duiRgJIcSS7LlyMCWEhMhUdVdXvOjqimyexy47vmolJqGYTAdvb3gpbP1XRx8feDg4ICIrC2eTk8UOxy4J1UX7KOxiAiladHS0YbtWrVoiRkIIKY0zZ84YtmvUqCFiJKVHCSEhMiasW6J1hCWzVYHTRQVOKhW666e3baVpo8WWkZODPfoLMUp8/5DCOTk5iR0CIcQCmjVrZti+efOmiJGUHiWEhMhYP/2J6M7YWGRRtchiidVqcURfBVCpBUH60QWFEjuYkIBUnQ5lHR3RmNoNkDymTZtm2J47d66IkRBCLEFl50Xn7Dt6QkiRmnl6IkijQVJODg5Ttchi2RkbCx2ABm5uCFbo+q8evr5wAHAlNRX309PFDseuCNON+/j5QcVxIkdDpGbevHmG7RkzZogYCSGkJEaOHGnY/v3330WMxDIoISRExlQchz5Ck3Ea5SmWrQprRl8QX40GbfWl8WmU0Hw8z9P7hxRLkr4aLSHEPqxevdqw/eabb4oYiWVQQkiIzAnrl7bGxICnapFmydTpsJvWfwEwTjumdYTmu5iaiseZmXBRqdCJes2RQjx48MCw7U8XDgixG0+ePBE7BIujhJAQmevi4wMXlQqPMjNxOTVV7HDswoH4eKTk5KAcrf8yjDAfSkhAPLUvMcsO/cWEEB8fuDg4iByNcs2ZMwetWrWCq6urJJvABwcHix0CIaQEJk6caNhOS0sTMRLLoYSQEJlzcXBAiL43zr80ymMW0+l+Sl//Vc3FBXVcXZEDUPsSM23XH6c+NOojqqysLLzyyit4++23xQ6lUB999JFhe+HChSJGQggxhy5PgT4XFxeRIrEsSggJUYC+Jk3GSdF4nld0u4mC0PvHfLEch/OpqeAA9Kb3j6hmz56N9957D/Xq1RM7lEL973//M2zv27dPxEgIIeYICAgwbO/YsUPESCyLEkJCFKC3nx84AOdSUvA4I0PscCTtQkoKnmRlwU2lQkcJTjMTg9B+YldcHLUveY6zGg0AoJmHB4IcHUWOhtib0NBQsUMghBQhOTnZsN2zZ08RI7EstdgBECInixYtwrx58/D06VPUqVMHCxYsQNu2bcUOC4GOjmjp6YnjSUnYFhuLt8uXFzskyRKm1Xbz9YUzrf8CADT18ECQRoNnWi0OJySgi75hPcnvjJr9WaXqovYnMzMTmZmZhttC5U+tVgutFdfPpqenG6ad9erVC1lZWVbblxQIx9Kax1QqlPJalfI6TfuHDh482Oqv15bHkxJCQixk7dq1mDJlChYtWoTWrVtj8eLF6NGjB65fv45KlSqJHR76+fvjeFIS/o2JoYSwCNQuID+hfcnSp0/xb2wsJYSFSM3JwSUhIaTpolbx+eefY/bs2UU+5syZM3jppZeK/dxz584t8Ln37t0LV1fXYj9fSf3111+5pqXJlZJGQ5XyWuX+On/66SfD9quvvoqdO3dadX+2LFhDCaEVREREIDs7GwDw6NEjSSQDxPq+//57vPHGG4Z+NAsWLMCePXvw66+/Yu7cuSJHx05QP7p3D2EJCUjKzoanmv775/UoIwMXU1KgAtCLkp5c+vn5YenTp9gaE4OfqlcHp/BiOwXZl5AALcehspMT6ri5iR2OLE2aNAlDhw4t8jGVK1cu0XNPnz4dU6dONdxOSkpCxYoVERISAk9PzxI9p7nu3buHqlWrAgDeeustWY8SarVahIaGomvXrtDop1jLlVJeqxJe58qVKw3barXaJq/Vlv1J6YzQCu7fv4/3338fAFC/fn189tlnIkdErC0rKwvnzp3Dxx9/nOv+kJAQHD9+vMCfsfX0pGqOjqjh7IzbGRnYER2Nl2U2AmaJKStboqIAAK08PeHFcbKf/mLqecevnbu7oX3JucRENKCEJ59t+unGPby9DRcF7Yk9vN/9/f2t1rPPyckJTk5O+e7XaDRWP/GrUKFCrttpaWnw8vKy6j7FZovjKhVKea1yfp1jxowxbK9fv94mr9WWx5ISQito0aIFPDw8EBsbi969e4sdDrGBmJgY5OTkICgoKNf9QUFBiIyMLPBnCpuedODAAatNT6rj7IzbTk5YfOUKXNPTrbIPsZVmysoyV1dAo0H1Z8+wMzzcglHZj6KOXz1XV5zWaPD9yZMYYnIxgwA6AP96eAAqFcrcvYud//0ndkjFJpd+WoJHjx4hLi4Ojx49Qk5ODi5evAgAqF69Otzd3cUNrgA//vgj3n33XQCAt7c3eJ4XOSJCCIB8U0PlOEOGEkIrcHBwQM+ePbF//340btxY7HCIDeX9kOB5vtAPjsKmJ3Xs2BF+Vlp/5JWUhC1XruCyqytCOnSAWkYfaqWdspKYnY1rp08DPI9prVvjBZn0FjKXOccv+tkznL5zB7f8/NCzYUPbBihxp5KTkXj5Mlx5Hu906AC3AkaapM6W05Ns4dNPP8Vff/1luN2oUSMA7KJbhw4dRIqqcHkb1aekpEgycSVEaXr16mXYTktLw969e0WMxjooIbSSPn36wMXFRZZXEUh+/v7+cHBwyDcaGBUVlW/UUCDG9KS2vr7wU6sRm52NU6mp6KBvWC8nJT1+YfHx0PI8arm6oo6V1wtJWVHHr29gIMbeuYPzqal4lpODCs7ONo5OunYmJAAAGmm1cHNysstpU/YYc1GWL1+O5cuXix1GsRw9ehRt2rQBAHh4eNAoISEi27ZtW67bapnWX6A+hFbSrVs3DBo0SOwwiI04OjqiSZMm+abbhYaGolWrViJFlZ8DxxmaZQvVNAlDzeifT2hfAgDb6P2Ti3A8mtnh2kEiHc2aNct1Oy4uTqRICCEA0LdvX8O2nIs9UUJoJZ6enggJCRE7DGJDU6dOxdKlS/Hnn3/ixo0beO+99/Do0SOMHz9e7NByEZqM/xsTQ1ef9bQ6HXboT7yo3UTRhPcPXVAwupeejqupqXAA0JgSQlJKFy5cMGxba/kAIeT5Fi9enOu23GZRmKKEkBALGTJkCBYsWIAvvvgCDRs2xOHDh7Fz585860LE1tXHB04ch3sZGbgusyISJXU0MREJ2dnw12jQQsHTRc0hjKCGxccjmZIfAMbRwTaenvCgiyyklBrmWZ/7nx0WKCJEDkwv6Ofk5IgYifVRQkiIBU2YMAEPHjxAZmYmzp07h3bt2okdUj7uajW66NcO/qufJql0wmhXbz8/ONC63yLVdHVFDRcXZPE89tB0NgDGdhPUu5JYSrhJleOaNWuKGAkhyjR69GjDtouLC1QqeadM8n51hJACCdMit1JCCJ7nDYlxP5qe9Vwcx9G0URMJWi0OJSYCoISQWE7evoTr1q0TKRJClMm0IFVqaqp4gdgIJYSEKFAffeJzKjkZTxXeT+56WhruZ2TAiePQlU7ozSJMG90RG4tsnU7kaMS1Oy4O2TyP2vqRU0IsJdPks3nIkCEiRkKIsph2CBg+fLgiOgZQQkiIApV1ckIzDw8AwHaFj/IIo4NdfHzg5uAgcjT2oaWnJ/zUasRlZ+OYzHrXFZcwStqHRpeJhTk6OsLV1dVwu3v37iJGQ4gyJCcn57r9999/ixSJbVFCSIhC0bQ/xtBugqqLmk2tUqGX0L5EwdOOtToddlF1WmJFplPV9uzZI/vCFoSIzdOksNz27dtFjMS2KCEkRKGEaX/74uORqtCTjMjMTJzSXw2kEZ7iofYlVJ2W2MZXX31l2JZrU2xCpGDz5s25bvfq1UukSGyPEkJCFKqOmxuqODsjQ6dDqEKrRQrTZZt5eKCsk5PI0diXEB8fOHIc7mZk4KZC25dQdVpiCzNnzsx1+/jx4yJFQoi8DRw40LCdqC8WphSUEBKiUKbVIv9V6LRR4XXTdL/ic1er0VnB7Ut4nje0m6DRZWJtDx48MGy3bt1avEAIkSkPfV0FAChTpkyuqaNKQAkhIQomTBvdHhuLHIVN+0vNycG++HgAxuNAikfJ61BvpKXhbkYGHDkOIfrEmBBrCQ4OznW7Vq1aIkVCiPw8efIEKSkphttPnz4VMRpxUEJIiIK18fKCj1qNGK0WJxQ2PWJvXBwydDpUcXZGXTc3scOxS731ifTJpCQ8y8oSORrbEorpdPbxgTut6yI2oDNp8XLr1i1ERUWJGA0h8mHa93P37t0iRiIeSggJUTCNSoWe+t57Shvl2aI/oe/v76+IHkPWUN7JCS95eICH8tqXbBOmG9PoMrERjuNyFb0ICgoSMRpC5CFv4Zhu3bqJFIm4KCEkROFMq0UqRbZOZ0hg+tP6wVLpp8D2E1FZWTih77/YmxJCYkP9+/fPdVupJ6+EWEJsbCx27txpuG06Cq80lBASonDdfH2h4Tj8l56OWwqpFnk0MRFx+nYBrRS2cNzShII8ofHxSFNI+5IdsbHgATR2d0cFZ2exwyEKY3rSunfvXkRGRooYDSH2y9/kgvAff/yh6NlClBASonCeajU6eXsDUM4ooTBdtLefH9Qq+hgsjXpubgh2ckK6Tmco0iN326g6LRERx3FYvny54XbZsmXFC4YQO9WoUaNct8eMGSNSJNJAZ0KEEMOJrRKm/fE8b2g3QdNFS8+0fYkS3j8ZOTnYo+/bSe0miFhGjhyZ67YPVbolxGw3btzAxYsXDbeVPFVUQAkhIcRwYns8KQnRMq8WeTk1FQ8yMuCiUqErnURZhHBBYVtsLHQyb1+yLz4eaTodKjg5oZG7u9jhEAUzPYlNSEjA4cOHRYyGEPvx4osvGra3bdum6KmiAkoICSGo6OyMxu7uiqgWKUwX7ebrC1cHB5GjkYd2Xl7wcnBAlFaLU/piK3K1Uf/+GUDVaYnIOI7DqVOnDLfbt29PIx2EPEfez+3evXuLFIm0UEJICAFgMm1UIQkhTRe1HI1KhR5CtVEZv3+0Op1hWuyggACRoyEEaNasGapVq2a47UAXuQgp1KeffprrNi/zGS3FQQkhIQSAsX3A3rg4pMu0WuTDjAxcTEmBCkAvff9FYhlKaD9xWF+dNkCjQRsvL7HDIQQAcOfOnVy327VrJ1IkhEjXkydP8OWXXxpux8j4b1VJUEJICAEANHB3RyUnJ6TpdNgv02qRQhXVtl5e8Hd0FDkaeenu6ws1x+F6WhruyLR9yaboaACsd6cDTRclEpKZmWnYPnLkCA4ePCheMIRIDM/zqFChguH2V199BT8qCpYLJYSEEABsXr0wbfRfmU77o+mi1uOt0aC9ftRMjtNGdTyPzfr3z0B6/xCJcXR0xJ49ewy3O3bsiIyMDBEjIkQ6VHnaS82cOVOkSKSLEkJCiEFf/RWzbTExsqsWGZOVhcMJCQBgaJNALEvO7SdOJSXhaVYWPB0c0Imq0xIJCgkJQdOmTQ23XVxcRIyGEGlo1qxZrtu0brBglBASQgzae3vD08EBz7RanJZZtcgtMTHIAdDI3R1V6ETJKoT2JUcTExGr1YocjWVt0ie5vf384KSiP51Emk6fPp3rNlXCJUq2YsUKnDlzxnA7PT1dxGikjf6qEUIMHFUq9NAXW5HbtL8N+vVfr1B1SKup7OKC+m5uyAGwU0bvH57nsVH//hlI7x8icXlbT3Ts2FGkSAgRz6NHjzBy5EjD7UOHDsHZ2VnEiKSNEkJCSC59ZTjtL06rxX79dNGX6YTeqoRpo//K6P1zKSUF9zMy4KJSoTtVpyUSx3EcEvSfdwBw8OBBLF68WLyACLGx7OxsBAcHG25PmDCBqu8+ByWEhJBceuirRV5LS8NdmUyv+DcmBtk8jwZubqjh6ip2OLImJIS74uKQKpP2JcJ00e6+vnCjPm/EDnh5eSEsLMxwe/z48bh8+bKIERFiOxqNJtftX375RaRI7AclhISQXHw0GrTTV4sUpsnZu/X610Gjg9bX2N0dVZ2dkabTYYdMpo0K7SaouiixJx07dsTHH39suN2gQQPEy7SlECGCvOtmqYiMeSghJITkMzgwEACwNipK5EhKL16rxT79SdAr+tdFrIfjOMP7Z50M3j83U1NxLS0Nao5Db+pbRezM3LlzUblyZcNtX19fZGdnixcQIVaUNxnMu56WFI4SQkJIPoP8/eEA4HxKCm7beZPxbbGx0PI86rq5oSZNF7WJIfqR2B1xcUi285PPNfqkNsTHB955piERYg/u37+f67ZGo6FREyI7AXlmAGm1WqqyWwyUEBJC8vF3dEQXfa81ex8lpOmittfA3R01XFyQodNhmx1PG+V53pAQDqPRZWLH8iaAeRt1E2LPOnfujBiTQmYxMTFQq9UiRmR/6BOBEFKgIcK0UTteR5iYnY29cXEAqN2ELXEcZ3z/2PEFhUspKbiVng5nlcpQfZcQe5U3KaTREyIHY8aMyVVA6caNG/Cj6f3FRgkhIaRAA/z9oeE4XE1NxbXUVLHDKZHN0dHI4nnUdnXFi25uYoejKMK00d1xcUi002mjq/XJbC9fX3jS1WYiA3nXVFFSSOzZu+++i2XLlhluHz58GLVq1RIxIvtFCSEhpEDeGo2h55q9jvKs0sf9WlCQyJEoTx03N9R2dUUWz9tlT8Jc00Xp/UNkguM45ORpB0NJIbFHH374IX766SfD7U2bNqFt27YiRmTfKCEkhBRqqH7a35qoKLsrQhCRmYn9+uqir9L6L5uz92mjJ5OS8CgzEx4ODuhJzeiJjKhUKmi12lz3UVJI7MmkSZMwb948w+1Vq1ZhwIABIkZk/yghJIQUqo+fH5xVKtxOT8eFlBSxwymWNVFR4AG09vREFRcXscNRpMH6aaN74+MRk5UlcjTFI0wX7e/vDxdqRk9kRq1WIzMzM9d9lBQSezBs2LBcjeaXLVuGV199VcSI5IESQkJIoTzUakPvtdV2Nsqz8tkzADRdVEy13dzQyN0d2SbTL+1BDs8beigOpdFlIlOOjo4FjhTa22wQohwtWrTAmjVrDLdXr16NUaNGiReQjFBCSAgpkjDd8p9nz5BjJycKN1JTcSElBWqOo+qiIhtZpgwAYIU+QbcHBxMS8Eyrha9abWi/QogcqdXqfI3qVSoVNa8nksNxHE6dOmW4vX37dgwdOlTEiOSFEkJCSJF6+vnBV61GRFYW9unX5EndKn3y0d3XF/6OjiJHo2zDAgOh5jicSU7GDTupVrsiMhIAa1XiSP3aiMw5ODjkqz6q0WgQbyef90T+8k5nPnnyJHr16iVSNPJEf+kIIUVyUqkMTbmFE2Up43neUF10OE0XFV2goyN66Iuy2MMoYXJ2Njboe2+O0o9uEiJ3BU0V9fX1xcWLF8UJiBCwv+d5k8H79++jefPmIkUkX5QQEkKea4T+xHhzTAySJD6V6ERyMh5kZMDdwQF9qDmtJIzQJ+Z/R0ZKftrxhuhopOl0qOniguaenmKHQ4hN5U0KGzVqlKuAByG2kpqaClWeGRqJiYmoXLmyOAHJHCWEhJDnaurhgVqurkjX6QyjJ1L1l34UapC/P1ypOqQk9PH3h7dajSdZWQiT+DS05fpR8FFlylDVRaJIPM+jatWqhtuTJk1Cq1atRIyIKM358+fh7u6e6z6dTgdPukhnNZQQEkKei+M4jNSP8vwl4Wmj6QDW6Zugv1G2rLjBEAMnlcpQrVPK00bvpafjcGIiVABep+miRMHu3r2LGTNmGG6fOHGCLpAQm5g5cyaaNGmS676Cpo4Sy6KEkBBiluFBQeAAHE5MxH9paWKHU6CjGg1SdTq84OKCNl5eYodDTAgXFDZFRyNZotOOhTWyXX18UN7JSeRoCBHXnDlzcOjQoVz3cRyHVDspDkXsD8dx+Prrrw23q1WrRm1QbIQSQkKIWSo4OxuKg/z+9KnI0RRsn76i6Jtly9LVRIlp7umJF1xckKbTSbInYQ7P4099QjiSRgcJAQC0a9cOSUlJue5zd3fHtm3bRIqIyJFWq833N/vnn3/GnTt3RIpIeSghJISYbVy5cgDYOqvMPGXKxXY1NRW31GqoOc5QBIdIB8dxGKt///waESG5q747YmMRnpkJf40GA6l3JSEGHh4e+dpS9O3bF1WqVBEpIiIn+/fvh2Oe9lD379/HpEmTRIpImSghJISYraevL8o7OiJGq8UmiRWXWa5fm9bLxwdB1HtQkkaVKQMnjsOFlBScSU4WO5xcfouIAACMLlMGTtR7kJBchLYU3bt3N9z34MEDcByHrKwsESMj9iw4OBhdunTJdZ9Op6NKoiKgv3qEELOpVSq8qS/Wslh/Ai0FqTk5WKGfhjiGeg9Klp9Gg8H64jK/Suj9cz89Hbvj4gAYR8EJIfnt2rULJ06cyHWfk5MTVqxYIVJExB6lpqaC4zg8evTIcF+LFi2oeIyIKCEkhBTLm2XLQgXgUGIibkqkuMCqZ8+QkJODMjk56ObjI3Y4pAhv6xOuNVFRiNdqRY6GWRwRAR5AiI8Pqrm4iB0OIZLWokUL5OTk5Lpv5MiRdCJPzPLll1/maylx/PjxfBcaiG1RQkgIKZYKzs7orW/4vvDJE5GjYeWof3r8GADQMysLKjopkbQWnp5o4OaGDJ1OEi1MMnU6QzGZt2l0kBCzqFQq8DyPgQMH5rqf4zgcP35cpKiIlOXk5IDjOHz66af57m/ZsqVIUREBJYSEkGJ7t0IFAMCyyEjEiTzKE5aQgGtpaXBTqdCZ1rJIHsdxeLt8eQDAT0+eIFvk4kT/PHuGaK0WFZycDBc6CCHm2bhxI8LDw3Pd17p1axotJLl8++23UKvVue774IMPwPM8VLRmWxLot0AIKbaO3t5o6O6ONJ1O9LWEwujgiMBAuIkaCTHX60FB8FOrcT8jA5tjYkSLg+d5zNefzL5TvjzUdGJCSLFVqFABPM/Dw8Mj1/0cx2Hz5s0iRUWkID09HRzH4aOPPsp1f0pKCr799luRoiIFob9+hJBi4zgOU/WjhD8/eYIskUZ57qSlYVtsLADgbX2xGyJ9rg4OmKgfJZwXHi5aC4pdcXG4npYGDwcHQ0sMIg8PHjzAG2+8gSpVqsDFxQXVqlXDZ599RhUxrSgpKQnXrl3Ldd/AgQNzVSLNzgZ27OCwe3cwduzgkJ0tRqTEFjp37gxXV9dc940cORI8z8PNjS7fSg0lhISQEhkSGIiyjo54mpUlWqPxb8LDwQPo4euLWnn+8BBpm1i+PJxVKpxJTsbhxERRYpinHx0cW7YsvPJMZyL27ebNm9DpdFi8eDGuXbuGH374Ab/99htmzJghdmiy9uKLL4Ln+Xw9Cp2cnFC79jcoVw4YMECN335riAED1ChXDli2TKRgiVUcOnQIHMchLCws1/2pqalYvny5OEGR56KEkBBSIo4qFSbrR3m+ffQIOhuP8jzKyDAUJZkZHGzTfZPSC3R0xEh9i5D5edYg2cLZpCQcTEiAmuMMa2KJfHTv3h3Lli1DSEgIqlatir59+2LatGnYtGmT2KEpwr179xCTazr4SNy8+SGio3P/nYiOBsaMoaRQDtLT0+Ho6IgOHTrkun/hwoXgeT7faCGRFkoICSElNr5cOXg6OOBaWho22LhR/bzwcGh5Hh28vdHay8um+yaW8X7FiuAAbI+NxQUbN6qfo+9/NSQgABWdnW26byKOxMRE+Pr6ih2GYvj5+bF1uvMXABDWixVcbObjj0HTR+0Uz/NwdHTEsGHDCvy3iRMnihAVKS6aI0MIKTEfjQZTK1bE5w8e4PMHDzAoIAAONqguF5mZid/1xWw+odFBu1XD1RVDAwOxOioKs+7fx4769W2y39NJSdgSEwMVaHRZKe7evYuff/4Z3333XaGPyczMRGZmpuF2UlISAECr1UJr5WrKwvNbez9iqFZtIp53uhkVBWzfno1evcRZT2wtcv69AkCjRo3yrRsFgIiICPj7+8vyddvyd2rL40cJISGkVKZUqIAFjx/jRloa1kZF4VX9NEBr+jY8HJk8j5aenujo7W31/RHrmV25MtZFRWFnXByOJyailQ1Ge2fdvw+AVTutTcUN7Mrnn3+O2bNnF/mYM2fO4KWXXjLcjoiIQPfu3fHKK6/gzTffLPTn5s6dW+Bz792712bT3UJDQ22yH1vasycYQMPnPm7HjovgOPF721qD3H6vs2fPxoULF/Ld/+mnn6Jx48Y4ffq0CFHZli1+p2lpaVbfh4ASQkJIqXip1ZhWsSJm3b+Pzx88wOCAAKuW73+Qno5fnrCThk+Dg6nflZ2r4eqK0WXLYunTp5hx7x4ONGxo1d/pwfh4hMbHQ8Nx+KxyZavth1jHpEmTMHTo0CIfU9nk9xoREYGOHTuiZcuWWLJkSZE/N336dEydOtVwOykpCRUrVkRISAg8PT1LFffzaLVahIaGomvXrtBoNFbdl63xPIfffnv+45Yu/RxLl+5AdHQ0vGSyDEBuv9d27drh5MmT+e7/+OOP0aJFC9m8zqLY8ncqzFKwBUoICSmlBw8e4Msvv0RYWBgiIyNRrlw5DB8+HDNnzoSjo6PY4dnEO+XL44fwcNxOT8fvT58aGo9bw6z795HF8+js7Y1utB5IFj4JDsaKyEgcSkxEaHw8Qqz0e+V5HjP0o4NvlS2LKi4uVtkPsR5/f3/4+/ub9dgnT56gY8eOaNKkCZYtW/bcBthOTk5wcnLKd79Go7HZSa4t92UrvXsDAQGsgEzBdACiAewCAAQEBAAAbt++jerVq9siRKuz59+rTqeDg4NDgf82dOhQrF69GlqtFjt37rTr11lctnittjyWVFSGkFKi8uaAh1qNz/VX5Wfdv484K817P5WUhFX6FhffVqtGo4MyUcnZGRP0FxGm3Lljtb6W/0RF4URSElxUKlo7KHMRERHo0KEDKlasiPnz5yM6OhqRkZGI1FcmJrajVgPffFPUI1T4+OMEsMTQqEaNGuA4jloViOTZs2fgOK7AZHDQoEHgeR6rV68WITJiDZQQElJKVN6cGV+uHOq4uiIuOxuf6kdhLClbp8P4//4DAIwMCkJjDw+L74OI57PgYARoNLiRloafHj+2+PMnZWdj2t27AIBZwcEoV8BIEJGPvXv34s6dOwgLC0OFChVQtmxZwxexvdGjgT//ZCOFpgID2f1z59YEz/O4cuVKAT87GhzHISgoCDorXSwiRgsXLgTHcShTpky+f5s6dSp4nseGDRtEiIxYEyWEhFiBEsubq1Uq/FijBgBgUUQEjlm42fjCJ09wMSUFPmo1vq1WzaLPTcTnrdHgf1WrAgBmP3yIB+npFn3+WffvIzIrC9VdXPB+xYoWfW4iPaNGjQLP8wV+EXGMHg1ERACbN2dj/PiL2Lw5G0+esPsFdevWBc/ziIuLy/fzUVFRcHBwAMdx2LVrlw0jl7+EhARwHAeO4zB58uR8/75hwwbwPF9klV5i32gNISEWZk55c0DcEufW0s7dHSMCA7EiKgqjb9zA2YYN4VLI2oPiuJWWZlj79XVwMHw4Lt8xknt5b2uTwvF7zc8Pf3p64lhSEkbfvInddepAZYFpwQcSEvCzvhDRj1WqQJWTA21OTqmfNy8pHMPSsNe4if1Qq4FevXhw3EP07FkH6kLOQn18fAwJfJMmTfJVtOzZs6dhOyIigkZ+S4DneXTt2hX79+8v9DFPnz4tcKSQyA8lhIQUwprlzYHCS5wfOHDAZiXOrSEEwDYPD9zOyMCQQ4cwPiOjVM+nBfCxmxvS1Wo00GoRdP48dhbxeLmV97Y1sY/fcJUKZ93dcTAxERP270ffrKxSPV8KgPc8PACVCt0yM6E9caLI948liH0MS8qWJc4JMQfHcTh//jwAICwsDJ07d873mHLlyhm2o6OjzS46pEQ8z+PVV1/FmjVrCn3MsGHDsGrVKlqjrzCUEBJSCGuWNwcKL3HesWNH+Pn5lThuKfCKj0ff69ex28kJw+rVw7C8C0eKYcq9e7j79Cl81WpseekllC9k7ZfcynvbmpSOX87Tp5h07x5WuLritaZN0baEJehzeB4DbtxAdHw8qjo7Y3WLFnC3wIh1YaR0DEvCliXOCSmuTp06GUYNu3XrVuCFlwCTvzWnTp1Cs2bNbBmiJKWkpKBWrVp48qToHo/Pnj1DYGCgjaIiUkMJIfl/e/ceE+Wd73H8M8CASIGiCMPFWg5lvUsVqovSurFdT7Rae9w1amzU7Em7Yr0Q/aPb6glNulbTi1bt1m7dxtTTdunJtnpo1hutSmtdW0VURKp4BRVKZFEQFbn8zh+ts4cq3mB4xnner2QS5pnnge/vG34Dn+eZ+Q1a4cnlzSXvWOLcU8ZERWlBXZ3+eOqUZhw9qqSQEKXdxT/1q86c0Tvl5ZKkNb166cH77rvlMb7QPyt5Q/9mdu+unRcv6uPKSk0+fFi7Bg26q4+IWHjsmDZVVyvYz0+f9u2riE6dPFDt9byhh3fjXqwZ9uNwOLRlyxZJUl1dne5r5e/CkCFD3F8/8sgj2r59+z396pvbZYzRW2+91eKEc2u+/vprpaend0BV8HYsKgO0Ecub39jLDz6o0V266HJzs54sLNSBixfv6PgPKyo0q6REkrQ4IUFP8TIg23A4HFrds6eSQ0JU2dCgEfv3q+wOX3r8x5Mn9VpZmSRpdc+eephVaQGfExIS4r5qWFNTo+BWThzt3r1bISEh7oVTEhMTdfbs2Q6u1jMaGxuVmZnpHpufn99Nw2BeXp67Z4RBXEMgBNqI5c1vzN/h0P/07au0sDBVNzbq0YICfVldfcvjjDFacfq0pn7/vZolPRcToxceeMDzBcOrdPb318YBA/RQcLBOXrmi9IIC7autveVxjc3Nmn/0qP7r5ElJ0huJiZoSHe3hagFYLTQ0VJcuXZIxRs3NzcrMzGx13+PHjysuLs4dohwOh4YNG6ZTp051XMF3ob6+XgsXLmxRt9Pp1PLly1s9JjQ0VP/85z/dIfCxxx7rwIpxryAQAm3E8uatC/H319/791d6eLhqmpr07/v364Vjx3SplRUeS69c0W+LijT36FEZSTNjY7XqF7/gze02FRMUpK3JyUoKDlZpfb2GFhRoWVlZqx9cX1RXpyf279fSnz7H8NWEBD5iArAhh8OhZcuWuf8WV1VVqWfPnjc9ZufOnXrwwQdbhK1rt4ULF3bYq37q6+v18ccf6xc//e37/7dOnTpp0aJFt/weW7dubXHlNCIiogMqx72M9xAC8KgIp1O5AwbouSNH9N8//KDXysr0fnm5prpcGhoWpginU+X19dpSXa1PKit11Rg5HQ69npioOT+dwYV9de/USd8OGqTJhw5pc3W15h07puWnT2tKdLQGh4Up1N9fJ65cUc65c/p7VZWaJHX289MHvXrptyyQAEBSly5d9P3337vvNzQ0aP78+Vq5cuVtHb9o0aLbCmJWSEpK0hdffKEHeCUN2oBACMDjOvn7a23v3prQrZvmHD2qk1euaNnp01p2g32Hh4frzYceUgrv+cJPIpxObRgwQGsqKvTi8eM6VV+vV0tLb7jvf0RG6o3ERP3bXSxCA8AenE6nVqxYoRUrVri3NTY2avXq1Zo5c6aFld3ctGnT9Prrr7dYTRVoDwRCAB1mbGSkRnftqg1VVVp/7pwK6+pU19SkiIAApYWH6+nISA0NC+OqIK7j53DoP2NiNDkqSjnnzul/q6p07PJl1TY1KS4wUEPCwjQ5Kkr9bmMlWgD4uYCAAGVkZCgjI+O6xy5fvqycnBytXLlS33zzjcdqiI6O1uzZszV9+nTFxcV57OcAP0cgBNCh/B0OjY2M1FhWDcVd6Ozvr0nR0ZrEQjEAOkhwcLAmTpyoiRMn3tFxDQ0N2rBhg0aPHs3HusCrsagMAAAAANgUgRAAAAAAbIpACAAAAAA2RSAEAAAAAJsiEAIAAACATREIAQAAAMCmCIQAAAAAYFMEQgAAAACwKQIhAAAAANgUgRAAAAAAbIpACAAAAAA2FWB1AQB+ZIyRJNXW1srpdFpczb2noaFBly5dUk1NDf27C/Sv7e71HtbU1Ej613OR3V3rw7W+eNK9/rtzJxir77HLOKWOHWtHPicTCAEvUVVVJUlKSEiwuBIAdlZbW6vw8HCry7BcbW2tJKl79+4WVwLAzjriOdlhOBUIeIXz588rIiJCpaWl/DN2F2pqatS9e3eVlZUpLCzM6nLuOfSv7e71HhpjVFtbq9jYWPn58Y6S5uZmnT17VqGhoXI4HB79Wff6786dYKy+xy7jlDp2rB35nMwVQsBLXJvs4eHhPv+E6klhYWH0rw3oX9vdyz3kZNS/+Pn5KT4+vkN/5r38u3OnGKvvscs4pY4ba0c9J3MKEAAAAABsikAIAAAAADZFIAS8RFBQkLKyshQUFGR1Kfck+tc29K/t6CHulp1+dxir77HLOCXfHSuLygAAAACATXGFEAAAAABsikAIAAAAADZFIAQAAAAAmyIQAgAAAIBNEQgBL/HOO+8oISFBnTp1UkpKir7++murS7LcV199pbFjxyo2NlYOh0Pr169v8bgxRi+//LJiY2MVHBysX/3qVyoqKmqxT319vWbPnq3IyEiFhIToqaee0unTpztwFNZZvHixHnnkEYWGhioqKkpPP/20Dh8+3GIfeti6VatWacCAAe4PIE5LS9PGjRvdj9M7tNXtzFFfcav55KsWL14sh8OhzMxMq0tpdy+//LIcDkeLm8vlsrosjzlz5oyeeeYZde3aVZ07d9bDDz+s/Px8q8tqFwRCwAt88sknyszM1IIFC1RQUKBHH31Uo0aNUmlpqdWlWaqurk7Jycl6++23b/j4a6+9pqVLl+rtt9/W7t275XK59Otf/1q1tbXufTIzM7Vu3TplZ2drx44dunjxosaMGaOmpqaOGoZl8vLy9Pzzz2vXrl3Kzc1VY2OjRo4cqbq6Ovc+9LB18fHxWrJkifbs2aM9e/ZoxIgRGjdunDv00Tu01e3MUV9xq/nki3bv3q333ntPAwYMsLoUj+nbt6/Ky8vdt8LCQqtL8ojq6moNGzZMTqdTGzdu1KFDh/Tmm2/q/vvvt7q09mEAWG7w4MFmxowZLbb16tXL/OEPf7CoIu8jyaxbt859v7m52bhcLrNkyRL3titXrpjw8HDz7rvvGmOMOX/+vHE6nSY7O9u9z5kzZ4yfn5/ZtGlTh9XuLSorK40kk5eXZ4yhh3cjIiLC/OUvf6F38Iifz1Ffd20++aLa2lqTlJRkcnNzzfDhw83cuXOtLqndZWVlmeTkZKvL6BAvvPCCSU9Pt7oMj+EKIWCxq1evKj8/XyNHjmyxfeTIkdq5c6dFVXm/EydOqKKiokXfgoKCNHz4cHff8vPz1dDQ0GKf2NhY9evXz5a9vXDhgiSpS5cukujhnWhqalJ2drbq6uqUlpZG7+ARP5+jvurn88kXPf/883ryySf1xBNPWF2KR5WUlCg2NlYJCQmaNGmSjh8/bnVJHpGTk6PU1FRNmDBBUVFRGjhwoFavXm11We2GQAhY7Ny5c2pqalJ0dHSL7dHR0aqoqLCoKu93rTc361tFRYUCAwMVERHR6j52YYzRvHnzlJ6ern79+kmih7ejsLBQ9913n4KCgjRjxgytW7dOffr0oXdodzeao76mtfnka7Kzs5Wfn6/FixdbXYpHDRkyRGvXrtXmzZu1evVqVVRUaOjQoaqqqrK6tHZ3/PhxrVq1SklJSdq8ebNmzJihOXPmaO3atVaX1i4CrC4AwI8cDkeL+8aY67bhenfTNzv2dtasWTpw4IB27Nhx3WP0sHU9e/bUvn37dP78eX366aeaNm2a8vLy3I/TO7SXm81RX9HafPKlUFhWVqa5c+dqy5Yt6tSpk9XleNSoUaPcX/fv319paWlKTEzUBx98oHnz5llYWftrbm5WamqqXn31VUnSwIEDVVRUpFWrVmnq1KkWV9d2XCEELBYZGSl/f//rrhhUVlZed/UB/3JtJbOb9c3lcunq1auqrq5udR87mD17tnJycrRt2zbFx8e7t9PDWwsMDNRDDz2k1NRULV68WMnJyVq+fDm9Q7tqbY76mtbmky/Jz89XZWWlUlJSFBAQoICAAOXl5WnFihUKCAjw6QWlQkJC1L9/f5WUlFhdSruLiYm57sRF7969fWbxPwIhYLHAwEClpKQoNze3xfbc3FwNHTrUoqq8X0JCglwuV4u+Xb16VXl5ee6+paSkyOl0ttinvLxcBw8etEVvjTGaNWuWPvvsM23dulUJCQktHqeHd84Yo/r6enqHdnGrOerrrs0nX/L444+rsLBQ+/btc99SU1M1ZcoU7du3T/7+/laX6DH19fUqLi5WTEyM1aW0u2HDhl33kTBHjhxRjx49LKqonVmylA2AFrKzs43T6TTvv/++OXTokMnMzDQhISHm5MmTVpdmqdraWlNQUGAKCgqMJLN06VJTUFBgTp06ZYwxZsmSJSY8PNx89tlnprCw0EyePNnExMSYmpoa9/eYMWOGiY+PN1988YXZu3evGTFihElOTjaNjY1WDavDZGRkmPDwcLN9+3ZTXl7uvl26dMm9Dz1s3Ysvvmi++uorc+LECXPgwAHz0ksvGT8/P7NlyxZjDL1D293OHPUVt5pPvsxXVxmdP3++2b59uzl+/LjZtWuXGTNmjAkNDfXJ/12+++47ExAQYBYtWmRKSkrMRx99ZDp37mw+/PBDq0trFwRCwEv86U9/Mj169DCBgYFm0KBBtll2/Ga2bdtmJF13mzZtmjHmx49NyMrKMi6XywQFBZnHHnvMFBYWtvgely9fNrNmzTJdunQxwcHBZsyYMaa0tNSC0XS8G/VOklmzZo17H3rYut/97nfuOdmtWzfz+OOPt/jnld6hrW5njvqKW80nX+argXDixIkmJibGOJ1OExsba8aPH2+KioqsLstjPv/8c9OvXz8TFBRkevXqZd577z2rS2o3DmOM6eirkgAAAAAA6/EeQgAAAACwKQIhAAAAANgUgRAAAAAAbIpACAAAAAA2RSAEAAAAAJsiEAIAAACATREIAQAAAMCmCIQAAAAAYFMEQgAAAACwKQIhAHiJV155RREREaqrq2ux/d1331VQUJB++OEHiyoDALRm06ZNcjgcN71t3LjR6jKBVjmMMcbqIgAAUmVlpR544AEtW7ZMGRkZ7u19+vRRamqq1q5da2F1AIAbuXz5si5cuOC+369fP/3+97/X7Nmz3dsiIyMVEBBgRXnALXGFEAC8RFRUlCZNmqSVK1fq2rm6LVu2qLi4WHPmzNH27dtveOb54MGDkqTq6mpNnTpVERER6ty5s0aNGqWSkpLrfs6Nvse+ffs6cqgA4DOCg4PlcrnkcrnU1NSkqqoqpaenu7e5XC7CILwagRAAvMjcuXNVXFys3NxcSdLy5cuVlpam1NRU9z6HDx9WeXm5+9arVy9J0vTp07Vnzx7l5OToH//4h4wxGj16tBoaGtzHXguaa9asUXl5ub777rsOHB0A+LaCggJJUkpKisWVALeP0xUA4EUGDhyo9PR0rVixQgkJCdq4caP++te/ttgnKipK999/f4ttJSUlysnJ0TfffKOhQ4dKkj766CN1795d69ev14QJEyTJHQ67desml8ulK1eueH5QAGATe/fuVVxcnKKioqwuBbhtBEIA8DJz5szRxIkTZYxRbGysfvOb39zymOLiYgUEBGjIkCHubV27dlXPnj1VXFzs3lZTUyNJCgkJaf/CAcDm9u7dq0GDBlldBnBHeMkoAHiZ8ePHKz4+Xhs2bFBGRsZtvfektfXBjDFyOBzu+2fPnpUkxcbGtk+xAAC3vXv33vDloqNGjVJWVpZ++ctfqkePHjp06JAF1QE3RiAEAC/j7++v8ePHKygoSM8999xtHdOnTx81Njbq22+/dW+rqqrSkSNH1Lt3b/e23bt3KywsTImJie1eNwDYWVVVlcrKym54hfDgwYNKSEjQrl279Oyzz+rzzz+3oELgxgiEAOBFSktL9eWXX+pvf/ubpkyZom7dut3WcUlJSRo3bpyeffZZ7dixQ/v379czzzyjuLg4jRs3Ts3NzcrJydFLL72kqVOnyt/f38MjAQB7yc/Pl6TrAuGFCxfkdDo1ffp0SVJgYOB17wMHrEQgBAAvkpWVpbFjxyopKUmvvPLKHR27Zs0apaSkaMyYMUpLS5MxRhs2bJDT6VR1dbVmzpypadOm6Y033vBQ9QBgXwUFBYqKilJcXFyL7QcPHtTgwYNb3O/bt29Hlwe0ig+mBwAAADzkz3/+s86dO6cFCxZI+nE16W3btnGVEF6DK4QAAACAhxQVFal///6SpMbGRl28eJEwCK/CFUIAAAAAsCmuEAIAAACATREIAQAAAMCmCIQAAAAAYFMEQgAAAACwKQIhAAAAANgUgRAAAAAAbIpACAAAAAA2RSAEAAAAAJsiEAIAAACATREIAQAAAMCmCIQAAAAAYFMEQgAAAACwKQIhAAAAANgUgRAAAAAAbIpACAAAAAA2RSAEAAAAAJsiEAIAAACATf0ftaRnTdx5R+UAAAAASUVORK5CYII=' width=900.0/>\n",
       "            </div>\n",
       "        "
      ],
      "text/plain": [
       "Canvas(header_visible=False, toolbar=Toolbar(toolitems=[('Home', 'Reset original view', 'home', 'home'), ('Bac…"
      ]
     },
     "metadata": {
      "filenames": {
       "image/png": "E:\\Work\\Science\\GitHub\\Basics-of-Modelling\\_build\\jupyter_execute\\5-Geomechanics\\1-RG\\RG-3-StressRotation-PrincipleStresses-MohrCircles-Part1_22_1.png"
      }
     },
     "output_type": "display_data"
    }
   ],
   "source": [
    "fig, ax = plt.subplots(1, 3, figsize=(9, 4), gridspec_kw={'width_ratios': [1, 2, 2]})\n",
    "fig.canvas.header_visible = False\n",
    "\n",
    "ax[0].set_xlim(-10, 10)\n",
    "ax[0].set_ylim(-10, 10)\n",
    "ax[0].set_aspect('equal', adjustable='box')\n",
    "ax[0].axis('off')\n",
    "colors = ['k', 'k', 'k', 'k', 'k', 'k', 'k', 'k', 'b', 'r', 'c', 'c']\n",
    "\n",
    "ax[1].set_xlim(0, 360)\n",
    "ax[1].grid()\n",
    "ax[1].set_ylabel('Напряжение')\n",
    "ax[1].set_xlabel('Угол')\n",
    "angles = range(0, 360, 1)\n",
    "\n",
    "ax[2].grid()\n",
    "ax[2].set_ylabel('$T_s$')\n",
    "ax[2].set_xlabel('$T_n$')\n",
    "\n",
    "fig.tight_layout()\n",
    "\n",
    "removing = [mpl.quiver.Quiver, mpl.patches.Rectangle, mpl.patches.Wedge, mpl.text.Text, mpl.lines.Line2D]\n",
    "\n",
    "@interact(sx=widgets.FloatSlider(min=0, max=5.0, step=0.01, value=5.0),\n",
    "          sy=widgets.FloatSlider(min=0, max=5.0, step=0.01, value=3.0),\n",
    "          t=widgets.FloatSlider(min=-5.0, max=5.0, step=0.01, value=2.0),\n",
    "          alpha=widgets.IntSlider(min=0, max=360, step=1, value=0))\n",
    "def rotation_2d(sx, sy, t, alpha):\n",
    "    for i in range(3):\n",
    "        for child in ax[i].get_children():\n",
    "            if type(child) in removing:\n",
    "                try:\n",
    "                    child.remove()\n",
    "                except:\n",
    "                    pass\n",
    "    ax[0].add_patch(Rectangle((-5, -5), 10, 10, fc='y', ec=None, angle=0))\n",
    "    alpha = np.pi * alpha / 180\n",
    "    S = np.array([[sx, t], [t, sy]])\n",
    "    sx = S[0, 0]\n",
    "    sy = S[1, 1]\n",
    "    tau = S[0, 1]\n",
    "    Q = np.array([[np.cos(alpha), np.sin(alpha)], [-np.sin(alpha), np.cos(alpha)]])\n",
    "    S_new = Q.dot(S).dot(np.linalg.inv(Q))\n",
    "    sx_new = S_new[0, 0]\n",
    "    sy_new = S_new[1, 1]\n",
    "    tau_new = S_new[0, 1]\n",
    "    new_coords = Q.dot(np.array([[5, 0, 0, 5], [0, 5, 5, 0]]))\n",
    "    x0 = [0, 5, 0, -5, 0, 5, 0, -5, new_coords[0][0], new_coords[0][1], new_coords[0][2], new_coords[0][3]]\n",
    "    y0 = [5, 0, -5, 0, 5, 0, -5, 0, new_coords[1][0], new_coords[1][1], new_coords[1][2], new_coords[1][3]]\n",
    "    U = [[0, sy, 0, -sy, tau, 0, -tau, 0, sy_new * np.cos(alpha), sx_new * np.sin(alpha), tau_new * np.cos(alpha), tau_new * np.sin(alpha)]]\n",
    "    V = [[sx, 0, -sx, 0, 0, tau, 0, -tau, -sy_new * np.sin(alpha), sx_new * np.cos(alpha), -tau_new * np.sin(alpha), tau_new * np.cos(alpha)]]\n",
    "    ax[0].quiver(x0, y0, U, V, scale=1, angles='xy', scale_units='xy', color=colors, zorder=3)\n",
    "    ax[0].add_patch(Rectangle((-5, -5), 10, 10, fc='r', ec='r',\\\n",
    "                              transform=mpl.transforms.Affine2D().rotate_around(0, 0, -alpha) + ax[0].transData, alpha=0.2))\n",
    "    ax[0].text(0, 5 + sx, '$\\\\sigma_x$')\n",
    "    ax[0].text(5 + sy, 0, '$\\\\sigma_y$')\n",
    "    ax[0].text(t, 5, '$\\\\tau$')\n",
    "    ax[0].text(new_coords[0][0] + sy_new * np.cos(alpha), new_coords[1][0] - sy_new * np.sin(alpha), '$\\\\sigma_y$', c='b')\n",
    "    ax[0].text(new_coords[0][1] + sx_new * np.sin(alpha), new_coords[1][1] + sx_new * np.cos(alpha), '$\\\\sigma_x$', c='r')\n",
    "    ax[0].text(new_coords[0][2] + tau_new * np.cos(alpha), new_coords[1][2] - tau_new * np.sin(alpha), '$\\\\tau$', c='c')\n",
    "    stress = [[], [], []]\n",
    "    tn = []\n",
    "    ts = []\n",
    "    for theta in np.linspace(0, 2*np.pi, 360):\n",
    "        q = np.array([[np.cos(theta), np.sin(theta)], [-np.sin(theta), np.cos(theta)]])\n",
    "        temp_matrix = q.dot(S).dot(np.linalg.inv(q))\n",
    "        stress[0].append(temp_matrix[0, 0])\n",
    "        stress[1].append(temp_matrix[1, 1])\n",
    "        stress[2].append(temp_matrix[0, 1])\n",
    "        n = np.array([np.cos(theta), np.sin(theta)])\n",
    "        s = np.array([-np.sin(theta), np.cos(theta)])\n",
    "        T = temp_matrix.dot(np.transpose(n))\n",
    "        tn.append(T.dot(n))\n",
    "        ts.append(T.dot(s))\n",
    "    ax[1].plot(angles, stress[0], c='r')\n",
    "    ax[1].plot(angles, stress[1], c='b')\n",
    "    ax[1].plot(angles, stress[2], c='c')\n",
    "    ax[1].plot(alpha * 180 / np.pi, sy_new, c='b', lw=0, marker='o')\n",
    "    ax[1].plot(alpha * 180 / np.pi, sx_new, c='r', lw=0, marker='o')\n",
    "    ax[1].plot(alpha * 180 / np.pi, tau_new, c='c', lw=0, marker='o')\n",
    "    ax[2].add_patch(Wedge(((sx + sy) / 2, 0), np.sqrt((sx - sy)**2 + 4 * tau**2) / 2,\n",
    "                          (np.arctan(2 * tau / (sx - sy)) - alpha * 2) * 180 / np.pi, np.arctan(2 * tau / (sx - sy)) * 180 / np.pi,\n",
    "                          color='r', alpha=0.1, ec=None))\n",
    "    ax[2].add_patch(Wedge(((sx + sy) / 2, 0), np.sqrt((sx - sy)**2 + 4 * tau**2) / 2,\n",
    "                          (np.arctan(2 * tau / (sx - sy)) - alpha * 2) * 180 / np.pi - 180, np.arctan(2 * tau / (sx - sy)) * 180 / np.pi - 180,\n",
    "                          color='b', alpha=0.1, ec=None))\n",
    "    ax[2].plot(tn, ts, c='k')\n",
    "    ax[2].plot(sy, -tau, c='b', lw=0, marker='o', alpha=0.25)\n",
    "    ax[2].plot(sx, tau, c='r', lw=0, marker='o', alpha=0.25)\n",
    "    ax[2].plot(sy_new, -tau_new, c='b', lw=0, marker='o')\n",
    "    ax[2].plot(sx_new, tau_new, c='r', lw=0, marker='o')\n",
    "    pass"
   ]
  },
  {
   "cell_type": "markdown",
   "id": "e3558a6d",
   "metadata": {},
   "source": [
    "```{admonition} NB\n",
    "Проанализируем полученные результаты:\n",
    "* значения нормальных и касательных напряжений, действительно, зависят от поворота базиса;\n",
    "* при изменении угла поворота базиса от $0$ до $2 \\pi$ значения напряжений изменяются периодически;\n",
    "* при построении графика зависимости касательного напряжения от нормального получается окружность, называемая ***кругом Мора***;\n",
    "* угол отклонения радиуса круга Мора при повороте базиса на угол $\\theta$ равен $2 \\theta$;\n",
    "* существуют такие углы поворота базиса, при которых касательные напряжения равны нулю, такие положения (площадки) называются главными, а действующие на данные площадки нормальные напряжения соответственно – ***главными напряжениями*** (*principle stresses*);\n",
    "* при любых исходных соотношениях нормальных и касательных напряжений всегда существует такое положениие базиса, при котором касательные напряжения равны нулю.\n",
    "```\n",
    "\n",
    "Последнее утверждение доказывается существованием собственных векторов для любой матрицы. Действительно, при рассмотрении [темы линейных преобразований](../../0-Math/1-LAB/LAB-8-LinearTransformations.html#math-lab-linear_transform) было показано, что если в качестве базиса выбрать собственные векторы матрицы, то относительно данного базиса матрица будет диагональной, то есть значения касательных напряжений будут равны нулю.\n",
    "\n",
    "Рассмотрим пример. Пусть в стандартном двухмерном базисе тензор напряжений представлен следующей матрицей:\n",
    "\n",
    "$$S = \\begin{bmatrix} 5 & 2 \\\\ 2 & 3 \\end{bmatrix}$$\n",
    "\n",
    "Необходимо определелить угол поворота базиса и значения главных напряжений."
   ]
  },
  {
   "cell_type": "code",
   "execution_count": 12,
   "id": "8fde42cb",
   "metadata": {},
   "outputs": [
    {
     "data": {
      "text/plain": [
       "array([[ 6.23606798e+00,  4.44089210e-16],\n",
       "       [-4.44089210e-16,  1.76393202e+00]])"
      ]
     },
     "execution_count": 12,
     "metadata": {},
     "output_type": "execute_result"
    }
   ],
   "source": [
    "S = np.array([[5, 2], [2, 3]])\n",
    "Lambda, C_inv = np.linalg.eig(S)\n",
    "C = np.linalg.inv(C_inv)\n",
    "S_principle = C.dot(S).dot(C_inv)\n",
    "S_principle"
   ]
  },
  {
   "cell_type": "code",
   "execution_count": 13,
   "id": "06844a37",
   "metadata": {},
   "outputs": [
    {
     "data": {
      "text/plain": [
       "31.717474411460998"
      ]
     },
     "execution_count": 13,
     "metadata": {},
     "output_type": "execute_result"
    }
   ],
   "source": [
    "np.arccos(C[0, 0]) * 180 / np.pi"
   ]
  },
  {
   "cell_type": "markdown",
   "id": "d0c2aeef",
   "metadata": {},
   "source": [
    "Главные напряжения индексируются числами в порядке уменьшения:\n",
    "\n",
    "$$\\sigma_1 = 6.24, \\sigma_2 = 1.76$$\n",
    "\n",
    "Тензор напряжения на главных площадках будет равен:\n",
    "\n",
    "$$S = \\begin{bmatrix} \\sigma_1 & 0 \\\\ 0 & \\sigma_2 \\end{bmatrix}$$\n",
    "\n",
    "Трехмерный базис тензора напряжений будет рассмотрен в [следующем разделе](RG-3-StressRotation-PrincipleStresses-MohrCircles-Part2.html#geomech-rg-stress_rotation-2)."
   ]
  }
 ],
 "metadata": {
  "jupytext": {
   "text_representation": {
    "extension": ".md",
    "format_name": "myst",
    "format_version": 0.13,
    "jupytext_version": "1.10.3"
   }
  },
  "kernelspec": {
   "display_name": "Python 3 (ipykernel)",
   "language": "python",
   "name": "python3"
  },
  "language_info": {
   "codemirror_mode": {
    "name": "ipython",
    "version": 3
   },
   "file_extension": ".py",
   "mimetype": "text/x-python",
   "name": "python",
   "nbconvert_exporter": "python",
   "pygments_lexer": "ipython3",
   "version": "3.7.13"
  },
  "source_map": [
   12,
   19,
   34,
   40,
   65,
   69,
   95,
   99,
   125,
   129,
   154,
   158,
   193,
   197,
   236,
   265,
   302,
   318,
   326,
   335,
   339,
   343,
   365,
   460,
   480,
   488,
   490
  ],
  "widgets": {
   "application/vnd.jupyter.widget-state+json": {
    "state": {
     "009c7a09f3e84618b801ef1fd92d4e90": {
      "model_module": "@jupyter-widgets/controls",
      "model_module_version": "1.5.0",
      "model_name": "IntSliderModel",
      "state": {
       "_dom_classes": [],
       "_model_module": "@jupyter-widgets/controls",
       "_model_module_version": "1.5.0",
       "_model_name": "IntSliderModel",
       "_view_count": null,
       "_view_module": "@jupyter-widgets/controls",
       "_view_module_version": "1.5.0",
       "_view_name": "IntSliderView",
       "continuous_update": true,
       "description": "alpha",
       "description_tooltip": null,
       "disabled": false,
       "layout": "IPY_MODEL_a6e5fc6b49d4455ca12100449fd34a48",
       "max": 360,
       "min": 0,
       "orientation": "horizontal",
       "readout": true,
       "readout_format": "d",
       "step": 1,
       "style": "IPY_MODEL_e1bde8f99c524960ae644bc63a77e704",
       "value": 0
      }
     },
     "00e9b39883c24b57a483b34e23dda7c8": {
      "model_module": "jupyter-matplotlib",
      "model_module_version": "^0.10.5",
      "model_name": "MPLCanvasModel",
      "state": {
       "_cursor": "default",
       "_data_url": "data:image/png;base64,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",
       "_dom_classes": [],
       "_figure_label": "Figure",
       "_image_mode": "full",
       "_message": "",
       "_model_module": "jupyter-matplotlib",
       "_model_module_version": "^0.10.5",
       "_model_name": "MPLCanvasModel",
       "_rubberband_height": 0,
       "_rubberband_width": 0,
       "_rubberband_x": 0,
       "_rubberband_y": 0,
       "_size": [
        300.0,
        300.0
       ],
       "_view_count": null,
       "_view_module": "jupyter-matplotlib",
       "_view_module_version": "^0.10.5",
       "_view_name": "MPLCanvasView",
       "capture_scroll": false,
       "footer_visible": true,
       "header_visible": false,
       "layout": "IPY_MODEL_bd0887c4a7974b1a8533cda8a29cfbbe",
       "pan_zoom_throttle": 33.0,
       "resizable": true,
       "toolbar": "IPY_MODEL_0e50d61e47264e15adce7d71c52d0cfc",
       "toolbar_position": "left",
       "toolbar_visible": "fade-in-fade-out"
      }
     },
     "02827c2ea9ad4782a5b6e622985be3b5": {
      "model_module": "jupyter-matplotlib",
      "model_module_version": "^0.10.5",
      "model_name": "ToolbarModel",
      "state": {
       "_current_action": "",
       "_dom_classes": [],
       "_model_module": "jupyter-matplotlib",
       "_model_module_version": "^0.10.5",
       "_model_name": "ToolbarModel",
       "_view_count": null,
       "_view_module": "jupyter-matplotlib",
       "_view_module_version": "^0.10.5",
       "_view_name": "ToolbarView",
       "button_style": "",
       "collapsed": true,
       "layout": "IPY_MODEL_6824838ac30e477e89ae85a3f9d3b5cb",
       "orientation": "vertical",
       "toolitems": [
        [
         "Home",
         "Reset original view",
         "home",
         "home"
        ],
        [
         "Back",
         "Back to previous view",
         "arrow-left",
         "back"
        ],
        [
         "Forward",
         "Forward to next view",
         "arrow-right",
         "forward"
        ],
        [
         "Pan",
         "Left button pans, Right button zooms\nx/y fixes axis, CTRL fixes aspect",
         "arrows",
         "pan"
        ],
        [
         "Zoom",
         "Zoom to rectangle\nx/y fixes axis",
         "square-o",
         "zoom"
        ],
        [
         "Download",
         "Download plot",
         "floppy-o",
         "save_figure"
        ]
       ]
      }
     },
     "02c0c9e294b34761a2bdf1f095a21494": {
      "model_module": "jupyter-matplotlib",
      "model_module_version": "^0.10.5",
      "model_name": "MPLCanvasModel",
      "state": {
       "_cursor": "default",
       "_data_url": "data:image/png;base64,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",
       "_dom_classes": [],
       "_figure_label": "Figure",
       "_image_mode": "full",
       "_message": "",
       "_model_module": "jupyter-matplotlib",
       "_model_module_version": "^0.10.5",
       "_model_name": "MPLCanvasModel",
       "_rubberband_height": 0,
       "_rubberband_width": 0,
       "_rubberband_x": 0,
       "_rubberband_y": 0,
       "_size": [
        300.0,
        300.0
       ],
       "_view_count": null,
       "_view_module": "jupyter-matplotlib",
       "_view_module_version": "^0.10.5",
       "_view_name": "MPLCanvasView",
       "capture_scroll": false,
       "footer_visible": true,
       "header_visible": false,
       "layout": "IPY_MODEL_dfdff0c6ff53465ba08507a8a7ab2da7",
       "pan_zoom_throttle": 33.0,
       "resizable": true,
       "toolbar": "IPY_MODEL_6048634879a6430d9dc18db004c30500",
       "toolbar_position": "left",
       "toolbar_visible": "fade-in-fade-out"
      }
     },
     "056b6768a6ec487f87d3544f2ab6e25c": {
      "model_module": "jupyter-matplotlib",
      "model_module_version": "^0.10.5",
      "model_name": "MPLCanvasModel",
      "state": {
       "_cursor": "default",
       "_data_url": "data:image/png;base64,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",
       "_dom_classes": [],
       "_figure_label": "Figure",
       "_image_mode": "full",
       "_message": "",
       "_model_module": "jupyter-matplotlib",
       "_model_module_version": "^0.10.5",
       "_model_name": "MPLCanvasModel",
       "_rubberband_height": 0,
       "_rubberband_width": 0,
       "_rubberband_x": 0,
       "_rubberband_y": 0,
       "_size": [
        300.0,
        300.0
       ],
       "_view_count": null,
       "_view_module": "jupyter-matplotlib",
       "_view_module_version": "^0.10.5",
       "_view_name": "MPLCanvasView",
       "capture_scroll": false,
       "footer_visible": true,
       "header_visible": false,
       "layout": "IPY_MODEL_ad6373f12fdc411985ca49282665c70f",
       "pan_zoom_throttle": 33.0,
       "resizable": true,
       "toolbar": "IPY_MODEL_1c71427d0a6f4a5eaa4de138f14f8387",
       "toolbar_position": "left",
       "toolbar_visible": "fade-in-fade-out"
      }
     },
     "0e50d61e47264e15adce7d71c52d0cfc": {
      "model_module": "jupyter-matplotlib",
      "model_module_version": "^0.10.5",
      "model_name": "ToolbarModel",
      "state": {
       "_current_action": "",
       "_dom_classes": [],
       "_model_module": "jupyter-matplotlib",
       "_model_module_version": "^0.10.5",
       "_model_name": "ToolbarModel",
       "_view_count": null,
       "_view_module": "jupyter-matplotlib",
       "_view_module_version": "^0.10.5",
       "_view_name": "ToolbarView",
       "button_style": "",
       "collapsed": true,
       "layout": "IPY_MODEL_90b26eea946649e7b68475c3e42afef1",
       "orientation": "vertical",
       "toolitems": [
        [
         "Home",
         "Reset original view",
         "home",
         "home"
        ],
        [
         "Back",
         "Back to previous view",
         "arrow-left",
         "back"
        ],
        [
         "Forward",
         "Forward to next view",
         "arrow-right",
         "forward"
        ],
        [
         "Pan",
         "Left button pans, Right button zooms\nx/y fixes axis, CTRL fixes aspect",
         "arrows",
         "pan"
        ],
        [
         "Zoom",
         "Zoom to rectangle\nx/y fixes axis",
         "square-o",
         "zoom"
        ],
        [
         "Download",
         "Download plot",
         "floppy-o",
         "save_figure"
        ]
       ]
      }
     },
     "0e80d7461e774e9a88dc5dbb86cd4d1e": {
      "model_module": "@jupyter-widgets/base",
      "model_module_version": "1.2.0",
      "model_name": "LayoutModel",
      "state": {
       "_model_module": "@jupyter-widgets/base",
       "_model_module_version": "1.2.0",
       "_model_name": "LayoutModel",
       "_view_count": null,
       "_view_module": "@jupyter-widgets/base",
       "_view_module_version": "1.2.0",
       "_view_name": "LayoutView",
       "align_content": null,
       "align_items": null,
       "align_self": null,
       "border": null,
       "bottom": null,
       "display": null,
       "flex": null,
       "flex_flow": null,
       "grid_area": null,
       "grid_auto_columns": null,
       "grid_auto_flow": null,
       "grid_auto_rows": null,
       "grid_column": null,
       "grid_gap": null,
       "grid_row": null,
       "grid_template_areas": null,
       "grid_template_columns": null,
       "grid_template_rows": null,
       "height": null,
       "justify_content": null,
       "justify_items": null,
       "left": null,
       "margin": null,
       "max_height": null,
       "max_width": null,
       "min_height": null,
       "min_width": null,
       "object_fit": null,
       "object_position": null,
       "order": null,
       "overflow": null,
       "overflow_x": null,
       "overflow_y": null,
       "padding": null,
       "right": null,
       "top": null,
       "visibility": null,
       "width": null
      }
     },
     "1c71427d0a6f4a5eaa4de138f14f8387": {
      "model_module": "jupyter-matplotlib",
      "model_module_version": "^0.10.5",
      "model_name": "ToolbarModel",
      "state": {
       "_current_action": "",
       "_dom_classes": [],
       "_model_module": "jupyter-matplotlib",
       "_model_module_version": "^0.10.5",
       "_model_name": "ToolbarModel",
       "_view_count": null,
       "_view_module": "jupyter-matplotlib",
       "_view_module_version": "^0.10.5",
       "_view_name": "ToolbarView",
       "button_style": "",
       "collapsed": true,
       "layout": "IPY_MODEL_9989b923ac86477d8030f8e10afe8174",
       "orientation": "vertical",
       "toolitems": [
        [
         "Home",
         "Reset original view",
         "home",
         "home"
        ],
        [
         "Back",
         "Back to previous view",
         "arrow-left",
         "back"
        ],
        [
         "Forward",
         "Forward to next view",
         "arrow-right",
         "forward"
        ],
        [
         "Pan",
         "Left button pans, Right button zooms\nx/y fixes axis, CTRL fixes aspect",
         "arrows",
         "pan"
        ],
        [
         "Zoom",
         "Zoom to rectangle\nx/y fixes axis",
         "square-o",
         "zoom"
        ],
        [
         "Download",
         "Download plot",
         "floppy-o",
         "save_figure"
        ]
       ]
      }
     },
     "252b79239e69424bab9533a338eae631": {
      "model_module": "jupyter-matplotlib",
      "model_module_version": "^0.10.5",
      "model_name": "MPLCanvasModel",
      "state": {
       "_cursor": "default",
       "_data_url": "data:image/png;base64,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",
       "_dom_classes": [],
       "_figure_label": "Figure",
       "_image_mode": "full",
       "_message": "",
       "_model_module": "jupyter-matplotlib",
       "_model_module_version": "^0.10.5",
       "_model_name": "MPLCanvasModel",
       "_rubberband_height": 0,
       "_rubberband_width": 0,
       "_rubberband_x": 0,
       "_rubberband_y": 0,
       "_size": [
        300.0,
        300.0
       ],
       "_view_count": null,
       "_view_module": "jupyter-matplotlib",
       "_view_module_version": "^0.10.5",
       "_view_name": "MPLCanvasView",
       "capture_scroll": false,
       "footer_visible": true,
       "header_visible": false,
       "layout": "IPY_MODEL_b5449be3411242b9afa3078ca7ce0637",
       "pan_zoom_throttle": 33.0,
       "resizable": true,
       "toolbar": "IPY_MODEL_60f6358e57894f2eacd61a63e0a2a27d",
       "toolbar_position": "left",
       "toolbar_visible": "fade-in-fade-out"
      }
     },
     "27b2855ceab841a5b1d346ef2811bf13": {
      "model_module": "jupyter-matplotlib",
      "model_module_version": "^0.10.5",
      "model_name": "ToolbarModel",
      "state": {
       "_current_action": "",
       "_dom_classes": [],
       "_model_module": "jupyter-matplotlib",
       "_model_module_version": "^0.10.5",
       "_model_name": "ToolbarModel",
       "_view_count": null,
       "_view_module": "jupyter-matplotlib",
       "_view_module_version": "^0.10.5",
       "_view_name": "ToolbarView",
       "button_style": "",
       "collapsed": true,
       "layout": "IPY_MODEL_90bbbc49105448fb8a645e6533fe2d73",
       "orientation": "vertical",
       "toolitems": [
        [
         "Home",
         "Reset original view",
         "home",
         "home"
        ],
        [
         "Back",
         "Back to previous view",
         "arrow-left",
         "back"
        ],
        [
         "Forward",
         "Forward to next view",
         "arrow-right",
         "forward"
        ],
        [
         "Pan",
         "Left button pans, Right button zooms\nx/y fixes axis, CTRL fixes aspect",
         "arrows",
         "pan"
        ],
        [
         "Zoom",
         "Zoom to rectangle\nx/y fixes axis",
         "square-o",
         "zoom"
        ],
        [
         "Download",
         "Download plot",
         "floppy-o",
         "save_figure"
        ]
       ]
      }
     },
     "28ffe36bd7e6489ea2b09213cee68a16": {
      "model_module": "jupyter-matplotlib",
      "model_module_version": "^0.10.5",
      "model_name": "MPLCanvasModel",
      "state": {
       "_cursor": "default",
       "_data_url": "data:image/png;base64,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",
       "_dom_classes": [],
       "_figure_label": "Figure",
       "_image_mode": "full",
       "_message": "",
       "_model_module": "jupyter-matplotlib",
       "_model_module_version": "^0.10.5",
       "_model_name": "MPLCanvasModel",
       "_rubberband_height": 0,
       "_rubberband_width": 0,
       "_rubberband_x": 0,
       "_rubberband_y": 0,
       "_size": [
        900.0,
        400.0
       ],
       "_view_count": null,
       "_view_module": "jupyter-matplotlib",
       "_view_module_version": "^0.10.5",
       "_view_name": "MPLCanvasView",
       "capture_scroll": false,
       "footer_visible": true,
       "header_visible": false,
       "layout": "IPY_MODEL_c11f71d22f6a43bdaaa233d0df90ae92",
       "pan_zoom_throttle": 33.0,
       "resizable": true,
       "toolbar": "IPY_MODEL_02827c2ea9ad4782a5b6e622985be3b5",
       "toolbar_position": "left",
       "toolbar_visible": "fade-in-fade-out"
      }
     },
     "353f0dac14b04d1595cfadb21d74b7fe": {
      "model_module": "@jupyter-widgets/base",
      "model_module_version": "1.2.0",
      "model_name": "LayoutModel",
      "state": {
       "_model_module": "@jupyter-widgets/base",
       "_model_module_version": "1.2.0",
       "_model_name": "LayoutModel",
       "_view_count": null,
       "_view_module": "@jupyter-widgets/base",
       "_view_module_version": "1.2.0",
       "_view_name": "LayoutView",
       "align_content": null,
       "align_items": null,
       "align_self": null,
       "border": null,
       "bottom": null,
       "display": null,
       "flex": null,
       "flex_flow": null,
       "grid_area": null,
       "grid_auto_columns": null,
       "grid_auto_flow": null,
       "grid_auto_rows": null,
       "grid_column": null,
       "grid_gap": null,
       "grid_row": null,
       "grid_template_areas": null,
       "grid_template_columns": null,
       "grid_template_rows": null,
       "height": null,
       "justify_content": null,
       "justify_items": null,
       "left": null,
       "margin": null,
       "max_height": null,
       "max_width": null,
       "min_height": null,
       "min_width": null,
       "object_fit": null,
       "object_position": null,
       "order": null,
       "overflow": null,
       "overflow_x": null,
       "overflow_y": null,
       "padding": null,
       "right": null,
       "top": null,
       "visibility": null,
       "width": null
      }
     },
     "37f3b0a859a4444f9f8ff94c056993ec": {
      "model_module": "jupyter-matplotlib",
      "model_module_version": "^0.10.5",
      "model_name": "ToolbarModel",
      "state": {
       "_current_action": "",
       "_dom_classes": [],
       "_model_module": "jupyter-matplotlib",
       "_model_module_version": "^0.10.5",
       "_model_name": "ToolbarModel",
       "_view_count": null,
       "_view_module": "jupyter-matplotlib",
       "_view_module_version": "^0.10.5",
       "_view_name": "ToolbarView",
       "button_style": "",
       "collapsed": true,
       "layout": "IPY_MODEL_7745a7727bef4fbbacc93daa9f92e8f0",
       "orientation": "vertical",
       "toolitems": [
        [
         "Home",
         "Reset original view",
         "home",
         "home"
        ],
        [
         "Back",
         "Back to previous view",
         "arrow-left",
         "back"
        ],
        [
         "Forward",
         "Forward to next view",
         "arrow-right",
         "forward"
        ],
        [
         "Pan",
         "Left button pans, Right button zooms\nx/y fixes axis, CTRL fixes aspect",
         "arrows",
         "pan"
        ],
        [
         "Zoom",
         "Zoom to rectangle\nx/y fixes axis",
         "square-o",
         "zoom"
        ],
        [
         "Download",
         "Download plot",
         "floppy-o",
         "save_figure"
        ]
       ]
      }
     },
     "391fb2118e674055b08d6b39f085e028": {
      "model_module": "@jupyter-widgets/controls",
      "model_module_version": "1.5.0",
      "model_name": "SliderStyleModel",
      "state": {
       "_model_module": "@jupyter-widgets/controls",
       "_model_module_version": "1.5.0",
       "_model_name": "SliderStyleModel",
       "_view_count": null,
       "_view_module": "@jupyter-widgets/base",
       "_view_module_version": "1.2.0",
       "_view_name": "StyleView",
       "description_width": "",
       "handle_color": null
      }
     },
     "3a59bb82eddc44ef8d02e5d7bb3b5b63": {
      "model_module": "@jupyter-widgets/base",
      "model_module_version": "1.2.0",
      "model_name": "LayoutModel",
      "state": {
       "_model_module": "@jupyter-widgets/base",
       "_model_module_version": "1.2.0",
       "_model_name": "LayoutModel",
       "_view_count": null,
       "_view_module": "@jupyter-widgets/base",
       "_view_module_version": "1.2.0",
       "_view_name": "LayoutView",
       "align_content": null,
       "align_items": null,
       "align_self": null,
       "border": null,
       "bottom": null,
       "display": null,
       "flex": null,
       "flex_flow": null,
       "grid_area": null,
       "grid_auto_columns": null,
       "grid_auto_flow": null,
       "grid_auto_rows": null,
       "grid_column": null,
       "grid_gap": null,
       "grid_row": null,
       "grid_template_areas": null,
       "grid_template_columns": null,
       "grid_template_rows": null,
       "height": null,
       "justify_content": null,
       "justify_items": null,
       "left": null,
       "margin": null,
       "max_height": null,
       "max_width": null,
       "min_height": null,
       "min_width": null,
       "object_fit": null,
       "object_position": null,
       "order": null,
       "overflow": null,
       "overflow_x": null,
       "overflow_y": null,
       "padding": null,
       "right": null,
       "top": null,
       "visibility": null,
       "width": null
      }
     },
     "3f17608289e346fea3f698988bca7a65": {
      "model_module": "jupyter-matplotlib",
      "model_module_version": "^0.10.5",
      "model_name": "ToolbarModel",
      "state": {
       "_current_action": "",
       "_dom_classes": [],
       "_model_module": "jupyter-matplotlib",
       "_model_module_version": "^0.10.5",
       "_model_name": "ToolbarModel",
       "_view_count": null,
       "_view_module": "jupyter-matplotlib",
       "_view_module_version": "^0.10.5",
       "_view_name": "ToolbarView",
       "button_style": "",
       "collapsed": true,
       "layout": "IPY_MODEL_c521c4bd04a34b7cad47f1d6e6ac621a",
       "orientation": "vertical",
       "toolitems": [
        [
         "Home",
         "Reset original view",
         "home",
         "home"
        ],
        [
         "Back",
         "Back to previous view",
         "arrow-left",
         "back"
        ],
        [
         "Forward",
         "Forward to next view",
         "arrow-right",
         "forward"
        ],
        [
         "Pan",
         "Left button pans, Right button zooms\nx/y fixes axis, CTRL fixes aspect",
         "arrows",
         "pan"
        ],
        [
         "Zoom",
         "Zoom to rectangle\nx/y fixes axis",
         "square-o",
         "zoom"
        ],
        [
         "Download",
         "Download plot",
         "floppy-o",
         "save_figure"
        ]
       ]
      }
     },
     "3fb89d9b08344a699cac8b41717a511c": {
      "model_module": "@jupyter-widgets/base",
      "model_module_version": "1.2.0",
      "model_name": "LayoutModel",
      "state": {
       "_model_module": "@jupyter-widgets/base",
       "_model_module_version": "1.2.0",
       "_model_name": "LayoutModel",
       "_view_count": null,
       "_view_module": "@jupyter-widgets/base",
       "_view_module_version": "1.2.0",
       "_view_name": "LayoutView",
       "align_content": null,
       "align_items": null,
       "align_self": null,
       "border": null,
       "bottom": null,
       "display": null,
       "flex": null,
       "flex_flow": null,
       "grid_area": null,
       "grid_auto_columns": null,
       "grid_auto_flow": null,
       "grid_auto_rows": null,
       "grid_column": null,
       "grid_gap": null,
       "grid_row": null,
       "grid_template_areas": null,
       "grid_template_columns": null,
       "grid_template_rows": null,
       "height": null,
       "justify_content": null,
       "justify_items": null,
       "left": null,
       "margin": null,
       "max_height": null,
       "max_width": null,
       "min_height": null,
       "min_width": null,
       "object_fit": null,
       "object_position": null,
       "order": null,
       "overflow": null,
       "overflow_x": null,
       "overflow_y": null,
       "padding": null,
       "right": null,
       "top": null,
       "visibility": null,
       "width": null
      }
     },
     "4aed078117bc43029cc35c22e4e1c4eb": {
      "model_module": "@jupyter-widgets/base",
      "model_module_version": "1.2.0",
      "model_name": "LayoutModel",
      "state": {
       "_model_module": "@jupyter-widgets/base",
       "_model_module_version": "1.2.0",
       "_model_name": "LayoutModel",
       "_view_count": null,
       "_view_module": "@jupyter-widgets/base",
       "_view_module_version": "1.2.0",
       "_view_name": "LayoutView",
       "align_content": null,
       "align_items": null,
       "align_self": null,
       "border": null,
       "bottom": null,
       "display": null,
       "flex": null,
       "flex_flow": null,
       "grid_area": null,
       "grid_auto_columns": null,
       "grid_auto_flow": null,
       "grid_auto_rows": null,
       "grid_column": null,
       "grid_gap": null,
       "grid_row": null,
       "grid_template_areas": null,
       "grid_template_columns": null,
       "grid_template_rows": null,
       "height": null,
       "justify_content": null,
       "justify_items": null,
       "left": null,
       "margin": null,
       "max_height": null,
       "max_width": null,
       "min_height": null,
       "min_width": null,
       "object_fit": null,
       "object_position": null,
       "order": null,
       "overflow": null,
       "overflow_x": null,
       "overflow_y": null,
       "padding": null,
       "right": null,
       "top": null,
       "visibility": null,
       "width": null
      }
     },
     "4f3a0e3e27544cf4b9bb63cb349cf5cc": {
      "model_module": "@jupyter-widgets/base",
      "model_module_version": "1.2.0",
      "model_name": "LayoutModel",
      "state": {
       "_model_module": "@jupyter-widgets/base",
       "_model_module_version": "1.2.0",
       "_model_name": "LayoutModel",
       "_view_count": null,
       "_view_module": "@jupyter-widgets/base",
       "_view_module_version": "1.2.0",
       "_view_name": "LayoutView",
       "align_content": null,
       "align_items": null,
       "align_self": null,
       "border": null,
       "bottom": null,
       "display": null,
       "flex": null,
       "flex_flow": null,
       "grid_area": null,
       "grid_auto_columns": null,
       "grid_auto_flow": null,
       "grid_auto_rows": null,
       "grid_column": null,
       "grid_gap": null,
       "grid_row": null,
       "grid_template_areas": null,
       "grid_template_columns": null,
       "grid_template_rows": null,
       "height": null,
       "justify_content": null,
       "justify_items": null,
       "left": null,
       "margin": null,
       "max_height": null,
       "max_width": null,
       "min_height": null,
       "min_width": null,
       "object_fit": null,
       "object_position": null,
       "order": null,
       "overflow": null,
       "overflow_x": null,
       "overflow_y": null,
       "padding": null,
       "right": null,
       "top": null,
       "visibility": null,
       "width": null
      }
     },
     "55d4f68f59d2484f89feabfa163a319c": {
      "model_module": "jupyter-matplotlib",
      "model_module_version": "^0.10.5",
      "model_name": "ToolbarModel",
      "state": {
       "_current_action": "",
       "_dom_classes": [],
       "_model_module": "jupyter-matplotlib",
       "_model_module_version": "^0.10.5",
       "_model_name": "ToolbarModel",
       "_view_count": null,
       "_view_module": "jupyter-matplotlib",
       "_view_module_version": "^0.10.5",
       "_view_name": "ToolbarView",
       "button_style": "",
       "collapsed": true,
       "layout": "IPY_MODEL_4f3a0e3e27544cf4b9bb63cb349cf5cc",
       "orientation": "vertical",
       "toolitems": [
        [
         "Home",
         "Reset original view",
         "home",
         "home"
        ],
        [
         "Back",
         "Back to previous view",
         "arrow-left",
         "back"
        ],
        [
         "Forward",
         "Forward to next view",
         "arrow-right",
         "forward"
        ],
        [
         "Pan",
         "Left button pans, Right button zooms\nx/y fixes axis, CTRL fixes aspect",
         "arrows",
         "pan"
        ],
        [
         "Zoom",
         "Zoom to rectangle\nx/y fixes axis",
         "square-o",
         "zoom"
        ],
        [
         "Download",
         "Download plot",
         "floppy-o",
         "save_figure"
        ]
       ]
      }
     },
     "5aa6e67fdbc54e0994aa619935fe4505": {
      "model_module": "jupyter-matplotlib",
      "model_module_version": "^0.10.5",
      "model_name": "ToolbarModel",
      "state": {
       "_current_action": "",
       "_dom_classes": [],
       "_model_module": "jupyter-matplotlib",
       "_model_module_version": "^0.10.5",
       "_model_name": "ToolbarModel",
       "_view_count": null,
       "_view_module": "jupyter-matplotlib",
       "_view_module_version": "^0.10.5",
       "_view_name": "ToolbarView",
       "button_style": "",
       "collapsed": true,
       "layout": "IPY_MODEL_aae541f2bd2049498b9b5b99e258cb1c",
       "orientation": "vertical",
       "toolitems": [
        [
         "Home",
         "Reset original view",
         "home",
         "home"
        ],
        [
         "Back",
         "Back to previous view",
         "arrow-left",
         "back"
        ],
        [
         "Forward",
         "Forward to next view",
         "arrow-right",
         "forward"
        ],
        [
         "Pan",
         "Left button pans, Right button zooms\nx/y fixes axis, CTRL fixes aspect",
         "arrows",
         "pan"
        ],
        [
         "Zoom",
         "Zoom to rectangle\nx/y fixes axis",
         "square-o",
         "zoom"
        ],
        [
         "Download",
         "Download plot",
         "floppy-o",
         "save_figure"
        ]
       ]
      }
     },
     "5e912a90e27b481ab323630098331a09": {
      "model_module": "@jupyter-widgets/base",
      "model_module_version": "1.2.0",
      "model_name": "LayoutModel",
      "state": {
       "_model_module": "@jupyter-widgets/base",
       "_model_module_version": "1.2.0",
       "_model_name": "LayoutModel",
       "_view_count": null,
       "_view_module": "@jupyter-widgets/base",
       "_view_module_version": "1.2.0",
       "_view_name": "LayoutView",
       "align_content": null,
       "align_items": null,
       "align_self": null,
       "border": null,
       "bottom": null,
       "display": null,
       "flex": null,
       "flex_flow": null,
       "grid_area": null,
       "grid_auto_columns": null,
       "grid_auto_flow": null,
       "grid_auto_rows": null,
       "grid_column": null,
       "grid_gap": null,
       "grid_row": null,
       "grid_template_areas": null,
       "grid_template_columns": null,
       "grid_template_rows": null,
       "height": null,
       "justify_content": null,
       "justify_items": null,
       "left": null,
       "margin": null,
       "max_height": null,
       "max_width": null,
       "min_height": null,
       "min_width": null,
       "object_fit": null,
       "object_position": null,
       "order": null,
       "overflow": null,
       "overflow_x": null,
       "overflow_y": null,
       "padding": null,
       "right": null,
       "top": null,
       "visibility": null,
       "width": null
      }
     },
     "6048634879a6430d9dc18db004c30500": {
      "model_module": "jupyter-matplotlib",
      "model_module_version": "^0.10.5",
      "model_name": "ToolbarModel",
      "state": {
       "_current_action": "",
       "_dom_classes": [],
       "_model_module": "jupyter-matplotlib",
       "_model_module_version": "^0.10.5",
       "_model_name": "ToolbarModel",
       "_view_count": null,
       "_view_module": "jupyter-matplotlib",
       "_view_module_version": "^0.10.5",
       "_view_name": "ToolbarView",
       "button_style": "",
       "collapsed": true,
       "layout": "IPY_MODEL_353f0dac14b04d1595cfadb21d74b7fe",
       "orientation": "vertical",
       "toolitems": [
        [
         "Home",
         "Reset original view",
         "home",
         "home"
        ],
        [
         "Back",
         "Back to previous view",
         "arrow-left",
         "back"
        ],
        [
         "Forward",
         "Forward to next view",
         "arrow-right",
         "forward"
        ],
        [
         "Pan",
         "Left button pans, Right button zooms\nx/y fixes axis, CTRL fixes aspect",
         "arrows",
         "pan"
        ],
        [
         "Zoom",
         "Zoom to rectangle\nx/y fixes axis",
         "square-o",
         "zoom"
        ],
        [
         "Download",
         "Download plot",
         "floppy-o",
         "save_figure"
        ]
       ]
      }
     },
     "60f6358e57894f2eacd61a63e0a2a27d": {
      "model_module": "jupyter-matplotlib",
      "model_module_version": "^0.10.5",
      "model_name": "ToolbarModel",
      "state": {
       "_current_action": "",
       "_dom_classes": [],
       "_model_module": "jupyter-matplotlib",
       "_model_module_version": "^0.10.5",
       "_model_name": "ToolbarModel",
       "_view_count": null,
       "_view_module": "jupyter-matplotlib",
       "_view_module_version": "^0.10.5",
       "_view_name": "ToolbarView",
       "button_style": "",
       "collapsed": true,
       "layout": "IPY_MODEL_f69354624e6448e4b24dd1593b9e288c",
       "orientation": "vertical",
       "toolitems": [
        [
         "Home",
         "Reset original view",
         "home",
         "home"
        ],
        [
         "Back",
         "Back to previous view",
         "arrow-left",
         "back"
        ],
        [
         "Forward",
         "Forward to next view",
         "arrow-right",
         "forward"
        ],
        [
         "Pan",
         "Left button pans, Right button zooms\nx/y fixes axis, CTRL fixes aspect",
         "arrows",
         "pan"
        ],
        [
         "Zoom",
         "Zoom to rectangle\nx/y fixes axis",
         "square-o",
         "zoom"
        ],
        [
         "Download",
         "Download plot",
         "floppy-o",
         "save_figure"
        ]
       ]
      }
     },
     "64e6cc54e1264662b8ef516dc565893a": {
      "model_module": "@jupyter-widgets/output",
      "model_module_version": "1.0.0",
      "model_name": "OutputModel",
      "state": {
       "_dom_classes": [],
       "_model_module": "@jupyter-widgets/output",
       "_model_module_version": "1.0.0",
       "_model_name": "OutputModel",
       "_view_count": null,
       "_view_module": "@jupyter-widgets/output",
       "_view_module_version": "1.0.0",
       "_view_name": "OutputView",
       "layout": "IPY_MODEL_d854b72063ae4aff92f479bc2b3602ce",
       "msg_id": "",
       "outputs": []
      }
     },
     "668e25d5c89148838f2fce69a2b1eff0": {
      "model_module": "jupyter-matplotlib",
      "model_module_version": "^0.10.5",
      "model_name": "ToolbarModel",
      "state": {
       "_current_action": "",
       "_dom_classes": [],
       "_model_module": "jupyter-matplotlib",
       "_model_module_version": "^0.10.5",
       "_model_name": "ToolbarModel",
       "_view_count": null,
       "_view_module": "jupyter-matplotlib",
       "_view_module_version": "^0.10.5",
       "_view_name": "ToolbarView",
       "button_style": "",
       "collapsed": true,
       "layout": "IPY_MODEL_996602654557498a8c710aaca818a4a0",
       "orientation": "vertical",
       "toolitems": [
        [
         "Home",
         "Reset original view",
         "home",
         "home"
        ],
        [
         "Back",
         "Back to previous view",
         "arrow-left",
         "back"
        ],
        [
         "Forward",
         "Forward to next view",
         "arrow-right",
         "forward"
        ],
        [
         "Pan",
         "Left button pans, Right button zooms\nx/y fixes axis, CTRL fixes aspect",
         "arrows",
         "pan"
        ],
        [
         "Zoom",
         "Zoom to rectangle\nx/y fixes axis",
         "square-o",
         "zoom"
        ],
        [
         "Download",
         "Download plot",
         "floppy-o",
         "save_figure"
        ]
       ]
      }
     },
     "6824838ac30e477e89ae85a3f9d3b5cb": {
      "model_module": "@jupyter-widgets/base",
      "model_module_version": "1.2.0",
      "model_name": "LayoutModel",
      "state": {
       "_model_module": "@jupyter-widgets/base",
       "_model_module_version": "1.2.0",
       "_model_name": "LayoutModel",
       "_view_count": null,
       "_view_module": "@jupyter-widgets/base",
       "_view_module_version": "1.2.0",
       "_view_name": "LayoutView",
       "align_content": null,
       "align_items": null,
       "align_self": null,
       "border": null,
       "bottom": null,
       "display": null,
       "flex": null,
       "flex_flow": null,
       "grid_area": null,
       "grid_auto_columns": null,
       "grid_auto_flow": null,
       "grid_auto_rows": null,
       "grid_column": null,
       "grid_gap": null,
       "grid_row": null,
       "grid_template_areas": null,
       "grid_template_columns": null,
       "grid_template_rows": null,
       "height": null,
       "justify_content": null,
       "justify_items": null,
       "left": null,
       "margin": null,
       "max_height": null,
       "max_width": null,
       "min_height": null,
       "min_width": null,
       "object_fit": null,
       "object_position": null,
       "order": null,
       "overflow": null,
       "overflow_x": null,
       "overflow_y": null,
       "padding": null,
       "right": null,
       "top": null,
       "visibility": null,
       "width": null
      }
     },
     "75deed1e3a324fff88dfbfad291c59ea": {
      "model_module": "jupyter-matplotlib",
      "model_module_version": "^0.10.5",
      "model_name": "ToolbarModel",
      "state": {
       "_current_action": "",
       "_dom_classes": [],
       "_model_module": "jupyter-matplotlib",
       "_model_module_version": "^0.10.5",
       "_model_name": "ToolbarModel",
       "_view_count": null,
       "_view_module": "jupyter-matplotlib",
       "_view_module_version": "^0.10.5",
       "_view_name": "ToolbarView",
       "button_style": "",
       "collapsed": true,
       "layout": "IPY_MODEL_3a59bb82eddc44ef8d02e5d7bb3b5b63",
       "orientation": "vertical",
       "toolitems": [
        [
         "Home",
         "Reset original view",
         "home",
         "home"
        ],
        [
         "Back",
         "Back to previous view",
         "arrow-left",
         "back"
        ],
        [
         "Forward",
         "Forward to next view",
         "arrow-right",
         "forward"
        ],
        [
         "Pan",
         "Left button pans, Right button zooms\nx/y fixes axis, CTRL fixes aspect",
         "arrows",
         "pan"
        ],
        [
         "Zoom",
         "Zoom to rectangle\nx/y fixes axis",
         "square-o",
         "zoom"
        ],
        [
         "Download",
         "Download plot",
         "floppy-o",
         "save_figure"
        ]
       ]
      }
     },
     "770999b7dabb440eb50a3640c9a1acb8": {
      "model_module": "@jupyter-widgets/base",
      "model_module_version": "1.2.0",
      "model_name": "LayoutModel",
      "state": {
       "_model_module": "@jupyter-widgets/base",
       "_model_module_version": "1.2.0",
       "_model_name": "LayoutModel",
       "_view_count": null,
       "_view_module": "@jupyter-widgets/base",
       "_view_module_version": "1.2.0",
       "_view_name": "LayoutView",
       "align_content": null,
       "align_items": null,
       "align_self": null,
       "border": null,
       "bottom": null,
       "display": null,
       "flex": null,
       "flex_flow": null,
       "grid_area": null,
       "grid_auto_columns": null,
       "grid_auto_flow": null,
       "grid_auto_rows": null,
       "grid_column": null,
       "grid_gap": null,
       "grid_row": null,
       "grid_template_areas": null,
       "grid_template_columns": null,
       "grid_template_rows": null,
       "height": null,
       "justify_content": null,
       "justify_items": null,
       "left": null,
       "margin": null,
       "max_height": null,
       "max_width": null,
       "min_height": null,
       "min_width": null,
       "object_fit": null,
       "object_position": null,
       "order": null,
       "overflow": null,
       "overflow_x": null,
       "overflow_y": null,
       "padding": null,
       "right": null,
       "top": null,
       "visibility": null,
       "width": null
      }
     },
     "7745a7727bef4fbbacc93daa9f92e8f0": {
      "model_module": "@jupyter-widgets/base",
      "model_module_version": "1.2.0",
      "model_name": "LayoutModel",
      "state": {
       "_model_module": "@jupyter-widgets/base",
       "_model_module_version": "1.2.0",
       "_model_name": "LayoutModel",
       "_view_count": null,
       "_view_module": "@jupyter-widgets/base",
       "_view_module_version": "1.2.0",
       "_view_name": "LayoutView",
       "align_content": null,
       "align_items": null,
       "align_self": null,
       "border": null,
       "bottom": null,
       "display": null,
       "flex": null,
       "flex_flow": null,
       "grid_area": null,
       "grid_auto_columns": null,
       "grid_auto_flow": null,
       "grid_auto_rows": null,
       "grid_column": null,
       "grid_gap": null,
       "grid_row": null,
       "grid_template_areas": null,
       "grid_template_columns": null,
       "grid_template_rows": null,
       "height": null,
       "justify_content": null,
       "justify_items": null,
       "left": null,
       "margin": null,
       "max_height": null,
       "max_width": null,
       "min_height": null,
       "min_width": null,
       "object_fit": null,
       "object_position": null,
       "order": null,
       "overflow": null,
       "overflow_x": null,
       "overflow_y": null,
       "padding": null,
       "right": null,
       "top": null,
       "visibility": null,
       "width": null
      }
     },
     "90800e29acfe4411b54f3987266d3248": {
      "model_module": "jupyter-matplotlib",
      "model_module_version": "^0.10.5",
      "model_name": "MPLCanvasModel",
      "state": {
       "_cursor": "default",
       "_data_url": "data:image/png;base64,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",
       "_dom_classes": [],
       "_figure_label": "Figure",
       "_image_mode": "full",
       "_message": "",
       "_model_module": "jupyter-matplotlib",
       "_model_module_version": "^0.10.5",
       "_model_name": "MPLCanvasModel",
       "_rubberband_height": 0,
       "_rubberband_width": 0,
       "_rubberband_x": 0,
       "_rubberband_y": 0,
       "_size": [
        300.0,
        300.0
       ],
       "_view_count": null,
       "_view_module": "jupyter-matplotlib",
       "_view_module_version": "^0.10.5",
       "_view_name": "MPLCanvasView",
       "capture_scroll": false,
       "footer_visible": true,
       "header_visible": false,
       "layout": "IPY_MODEL_3fb89d9b08344a699cac8b41717a511c",
       "pan_zoom_throttle": 33.0,
       "resizable": true,
       "toolbar": "IPY_MODEL_da99258637b44277b22c5991de984d24",
       "toolbar_position": "left",
       "toolbar_visible": "fade-in-fade-out"
      }
     },
     "90b26eea946649e7b68475c3e42afef1": {
      "model_module": "@jupyter-widgets/base",
      "model_module_version": "1.2.0",
      "model_name": "LayoutModel",
      "state": {
       "_model_module": "@jupyter-widgets/base",
       "_model_module_version": "1.2.0",
       "_model_name": "LayoutModel",
       "_view_count": null,
       "_view_module": "@jupyter-widgets/base",
       "_view_module_version": "1.2.0",
       "_view_name": "LayoutView",
       "align_content": null,
       "align_items": null,
       "align_self": null,
       "border": null,
       "bottom": null,
       "display": null,
       "flex": null,
       "flex_flow": null,
       "grid_area": null,
       "grid_auto_columns": null,
       "grid_auto_flow": null,
       "grid_auto_rows": null,
       "grid_column": null,
       "grid_gap": null,
       "grid_row": null,
       "grid_template_areas": null,
       "grid_template_columns": null,
       "grid_template_rows": null,
       "height": null,
       "justify_content": null,
       "justify_items": null,
       "left": null,
       "margin": null,
       "max_height": null,
       "max_width": null,
       "min_height": null,
       "min_width": null,
       "object_fit": null,
       "object_position": null,
       "order": null,
       "overflow": null,
       "overflow_x": null,
       "overflow_y": null,
       "padding": null,
       "right": null,
       "top": null,
       "visibility": null,
       "width": null
      }
     },
     "90bbbc49105448fb8a645e6533fe2d73": {
      "model_module": "@jupyter-widgets/base",
      "model_module_version": "1.2.0",
      "model_name": "LayoutModel",
      "state": {
       "_model_module": "@jupyter-widgets/base",
       "_model_module_version": "1.2.0",
       "_model_name": "LayoutModel",
       "_view_count": null,
       "_view_module": "@jupyter-widgets/base",
       "_view_module_version": "1.2.0",
       "_view_name": "LayoutView",
       "align_content": null,
       "align_items": null,
       "align_self": null,
       "border": null,
       "bottom": null,
       "display": null,
       "flex": null,
       "flex_flow": null,
       "grid_area": null,
       "grid_auto_columns": null,
       "grid_auto_flow": null,
       "grid_auto_rows": null,
       "grid_column": null,
       "grid_gap": null,
       "grid_row": null,
       "grid_template_areas": null,
       "grid_template_columns": null,
       "grid_template_rows": null,
       "height": null,
       "justify_content": null,
       "justify_items": null,
       "left": null,
       "margin": null,
       "max_height": null,
       "max_width": null,
       "min_height": null,
       "min_width": null,
       "object_fit": null,
       "object_position": null,
       "order": null,
       "overflow": null,
       "overflow_x": null,
       "overflow_y": null,
       "padding": null,
       "right": null,
       "top": null,
       "visibility": null,
       "width": null
      }
     },
     "92a5677f14c9496cb53beb2104bf7f15": {
      "model_module": "@jupyter-widgets/base",
      "model_module_version": "1.2.0",
      "model_name": "LayoutModel",
      "state": {
       "_model_module": "@jupyter-widgets/base",
       "_model_module_version": "1.2.0",
       "_model_name": "LayoutModel",
       "_view_count": null,
       "_view_module": "@jupyter-widgets/base",
       "_view_module_version": "1.2.0",
       "_view_name": "LayoutView",
       "align_content": null,
       "align_items": null,
       "align_self": null,
       "border": null,
       "bottom": null,
       "display": null,
       "flex": null,
       "flex_flow": null,
       "grid_area": null,
       "grid_auto_columns": null,
       "grid_auto_flow": null,
       "grid_auto_rows": null,
       "grid_column": null,
       "grid_gap": null,
       "grid_row": null,
       "grid_template_areas": null,
       "grid_template_columns": null,
       "grid_template_rows": null,
       "height": null,
       "justify_content": null,
       "justify_items": null,
       "left": null,
       "margin": null,
       "max_height": null,
       "max_width": null,
       "min_height": null,
       "min_width": null,
       "object_fit": null,
       "object_position": null,
       "order": null,
       "overflow": null,
       "overflow_x": null,
       "overflow_y": null,
       "padding": null,
       "right": null,
       "top": null,
       "visibility": null,
       "width": null
      }
     },
     "97027f34ca7a4505a3fcbcdfb8466969": {
      "model_module": "@jupyter-widgets/controls",
      "model_module_version": "1.5.0",
      "model_name": "FloatSliderModel",
      "state": {
       "_dom_classes": [],
       "_model_module": "@jupyter-widgets/controls",
       "_model_module_version": "1.5.0",
       "_model_name": "FloatSliderModel",
       "_view_count": null,
       "_view_module": "@jupyter-widgets/controls",
       "_view_module_version": "1.5.0",
       "_view_name": "FloatSliderView",
       "continuous_update": true,
       "description": "sx",
       "description_tooltip": null,
       "disabled": false,
       "layout": "IPY_MODEL_cd651de9f1eb4fcebf26a2a73f3549b1",
       "max": 5.0,
       "min": 0.0,
       "orientation": "horizontal",
       "readout": true,
       "readout_format": ".2f",
       "step": 0.01,
       "style": "IPY_MODEL_a0c51a18d5154a77a221dd7ed99486eb",
       "value": 5.0
      }
     },
     "996602654557498a8c710aaca818a4a0": {
      "model_module": "@jupyter-widgets/base",
      "model_module_version": "1.2.0",
      "model_name": "LayoutModel",
      "state": {
       "_model_module": "@jupyter-widgets/base",
       "_model_module_version": "1.2.0",
       "_model_name": "LayoutModel",
       "_view_count": null,
       "_view_module": "@jupyter-widgets/base",
       "_view_module_version": "1.2.0",
       "_view_name": "LayoutView",
       "align_content": null,
       "align_items": null,
       "align_self": null,
       "border": null,
       "bottom": null,
       "display": null,
       "flex": null,
       "flex_flow": null,
       "grid_area": null,
       "grid_auto_columns": null,
       "grid_auto_flow": null,
       "grid_auto_rows": null,
       "grid_column": null,
       "grid_gap": null,
       "grid_row": null,
       "grid_template_areas": null,
       "grid_template_columns": null,
       "grid_template_rows": null,
       "height": null,
       "justify_content": null,
       "justify_items": null,
       "left": null,
       "margin": null,
       "max_height": null,
       "max_width": null,
       "min_height": null,
       "min_width": null,
       "object_fit": null,
       "object_position": null,
       "order": null,
       "overflow": null,
       "overflow_x": null,
       "overflow_y": null,
       "padding": null,
       "right": null,
       "top": null,
       "visibility": null,
       "width": null
      }
     },
     "9989b923ac86477d8030f8e10afe8174": {
      "model_module": "@jupyter-widgets/base",
      "model_module_version": "1.2.0",
      "model_name": "LayoutModel",
      "state": {
       "_model_module": "@jupyter-widgets/base",
       "_model_module_version": "1.2.0",
       "_model_name": "LayoutModel",
       "_view_count": null,
       "_view_module": "@jupyter-widgets/base",
       "_view_module_version": "1.2.0",
       "_view_name": "LayoutView",
       "align_content": null,
       "align_items": null,
       "align_self": null,
       "border": null,
       "bottom": null,
       "display": null,
       "flex": null,
       "flex_flow": null,
       "grid_area": null,
       "grid_auto_columns": null,
       "grid_auto_flow": null,
       "grid_auto_rows": null,
       "grid_column": null,
       "grid_gap": null,
       "grid_row": null,
       "grid_template_areas": null,
       "grid_template_columns": null,
       "grid_template_rows": null,
       "height": null,
       "justify_content": null,
       "justify_items": null,
       "left": null,
       "margin": null,
       "max_height": null,
       "max_width": null,
       "min_height": null,
       "min_width": null,
       "object_fit": null,
       "object_position": null,
       "order": null,
       "overflow": null,
       "overflow_x": null,
       "overflow_y": null,
       "padding": null,
       "right": null,
       "top": null,
       "visibility": null,
       "width": null
      }
     },
     "a0c51a18d5154a77a221dd7ed99486eb": {
      "model_module": "@jupyter-widgets/controls",
      "model_module_version": "1.5.0",
      "model_name": "SliderStyleModel",
      "state": {
       "_model_module": "@jupyter-widgets/controls",
       "_model_module_version": "1.5.0",
       "_model_name": "SliderStyleModel",
       "_view_count": null,
       "_view_module": "@jupyter-widgets/base",
       "_view_module_version": "1.2.0",
       "_view_name": "StyleView",
       "description_width": "",
       "handle_color": null
      }
     },
     "a6e5fc6b49d4455ca12100449fd34a48": {
      "model_module": "@jupyter-widgets/base",
      "model_module_version": "1.2.0",
      "model_name": "LayoutModel",
      "state": {
       "_model_module": "@jupyter-widgets/base",
       "_model_module_version": "1.2.0",
       "_model_name": "LayoutModel",
       "_view_count": null,
       "_view_module": "@jupyter-widgets/base",
       "_view_module_version": "1.2.0",
       "_view_name": "LayoutView",
       "align_content": null,
       "align_items": null,
       "align_self": null,
       "border": null,
       "bottom": null,
       "display": null,
       "flex": null,
       "flex_flow": null,
       "grid_area": null,
       "grid_auto_columns": null,
       "grid_auto_flow": null,
       "grid_auto_rows": null,
       "grid_column": null,
       "grid_gap": null,
       "grid_row": null,
       "grid_template_areas": null,
       "grid_template_columns": null,
       "grid_template_rows": null,
       "height": null,
       "justify_content": null,
       "justify_items": null,
       "left": null,
       "margin": null,
       "max_height": null,
       "max_width": null,
       "min_height": null,
       "min_width": null,
       "object_fit": null,
       "object_position": null,
       "order": null,
       "overflow": null,
       "overflow_x": null,
       "overflow_y": null,
       "padding": null,
       "right": null,
       "top": null,
       "visibility": null,
       "width": null
      }
     },
     "a7a6685b5d174c0c9eb13cf9ab5ae599": {
      "model_module": "@jupyter-widgets/base",
      "model_module_version": "1.2.0",
      "model_name": "LayoutModel",
      "state": {
       "_model_module": "@jupyter-widgets/base",
       "_model_module_version": "1.2.0",
       "_model_name": "LayoutModel",
       "_view_count": null,
       "_view_module": "@jupyter-widgets/base",
       "_view_module_version": "1.2.0",
       "_view_name": "LayoutView",
       "align_content": null,
       "align_items": null,
       "align_self": null,
       "border": null,
       "bottom": null,
       "display": null,
       "flex": null,
       "flex_flow": null,
       "grid_area": null,
       "grid_auto_columns": null,
       "grid_auto_flow": null,
       "grid_auto_rows": null,
       "grid_column": null,
       "grid_gap": null,
       "grid_row": null,
       "grid_template_areas": null,
       "grid_template_columns": null,
       "grid_template_rows": null,
       "height": null,
       "justify_content": null,
       "justify_items": null,
       "left": null,
       "margin": null,
       "max_height": null,
       "max_width": null,
       "min_height": null,
       "min_width": null,
       "object_fit": null,
       "object_position": null,
       "order": null,
       "overflow": null,
       "overflow_x": null,
       "overflow_y": null,
       "padding": null,
       "right": null,
       "top": null,
       "visibility": null,
       "width": null
      }
     },
     "aae541f2bd2049498b9b5b99e258cb1c": {
      "model_module": "@jupyter-widgets/base",
      "model_module_version": "1.2.0",
      "model_name": "LayoutModel",
      "state": {
       "_model_module": "@jupyter-widgets/base",
       "_model_module_version": "1.2.0",
       "_model_name": "LayoutModel",
       "_view_count": null,
       "_view_module": "@jupyter-widgets/base",
       "_view_module_version": "1.2.0",
       "_view_name": "LayoutView",
       "align_content": null,
       "align_items": null,
       "align_self": null,
       "border": null,
       "bottom": null,
       "display": null,
       "flex": null,
       "flex_flow": null,
       "grid_area": null,
       "grid_auto_columns": null,
       "grid_auto_flow": null,
       "grid_auto_rows": null,
       "grid_column": null,
       "grid_gap": null,
       "grid_row": null,
       "grid_template_areas": null,
       "grid_template_columns": null,
       "grid_template_rows": null,
       "height": null,
       "justify_content": null,
       "justify_items": null,
       "left": null,
       "margin": null,
       "max_height": null,
       "max_width": null,
       "min_height": null,
       "min_width": null,
       "object_fit": null,
       "object_position": null,
       "order": null,
       "overflow": null,
       "overflow_x": null,
       "overflow_y": null,
       "padding": null,
       "right": null,
       "top": null,
       "visibility": null,
       "width": null
      }
     },
     "ad6373f12fdc411985ca49282665c70f": {
      "model_module": "@jupyter-widgets/base",
      "model_module_version": "1.2.0",
      "model_name": "LayoutModel",
      "state": {
       "_model_module": "@jupyter-widgets/base",
       "_model_module_version": "1.2.0",
       "_model_name": "LayoutModel",
       "_view_count": null,
       "_view_module": "@jupyter-widgets/base",
       "_view_module_version": "1.2.0",
       "_view_name": "LayoutView",
       "align_content": null,
       "align_items": null,
       "align_self": null,
       "border": null,
       "bottom": null,
       "display": null,
       "flex": null,
       "flex_flow": null,
       "grid_area": null,
       "grid_auto_columns": null,
       "grid_auto_flow": null,
       "grid_auto_rows": null,
       "grid_column": null,
       "grid_gap": null,
       "grid_row": null,
       "grid_template_areas": null,
       "grid_template_columns": null,
       "grid_template_rows": null,
       "height": null,
       "justify_content": null,
       "justify_items": null,
       "left": null,
       "margin": null,
       "max_height": null,
       "max_width": null,
       "min_height": null,
       "min_width": null,
       "object_fit": null,
       "object_position": null,
       "order": null,
       "overflow": null,
       "overflow_x": null,
       "overflow_y": null,
       "padding": null,
       "right": null,
       "top": null,
       "visibility": null,
       "width": null
      }
     },
     "af3dbd983fbe443d935dbfe2ccff98c0": {
      "model_module": "@jupyter-widgets/controls",
      "model_module_version": "1.5.0",
      "model_name": "VBoxModel",
      "state": {
       "_dom_classes": [
        "widget-interact"
       ],
       "_model_module": "@jupyter-widgets/controls",
       "_model_module_version": "1.5.0",
       "_model_name": "VBoxModel",
       "_view_count": null,
       "_view_module": "@jupyter-widgets/controls",
       "_view_module_version": "1.5.0",
       "_view_name": "VBoxView",
       "box_style": "",
       "children": [
        "IPY_MODEL_97027f34ca7a4505a3fcbcdfb8466969",
        "IPY_MODEL_b7cd6ed45d1640e5931ad6dc5eeb1bf8",
        "IPY_MODEL_b8f4a161e90a400087b0250df8ec94ee",
        "IPY_MODEL_009c7a09f3e84618b801ef1fd92d4e90",
        "IPY_MODEL_64e6cc54e1264662b8ef516dc565893a"
       ],
       "layout": "IPY_MODEL_770999b7dabb440eb50a3640c9a1acb8"
      }
     },
     "b5449be3411242b9afa3078ca7ce0637": {
      "model_module": "@jupyter-widgets/base",
      "model_module_version": "1.2.0",
      "model_name": "LayoutModel",
      "state": {
       "_model_module": "@jupyter-widgets/base",
       "_model_module_version": "1.2.0",
       "_model_name": "LayoutModel",
       "_view_count": null,
       "_view_module": "@jupyter-widgets/base",
       "_view_module_version": "1.2.0",
       "_view_name": "LayoutView",
       "align_content": null,
       "align_items": null,
       "align_self": null,
       "border": null,
       "bottom": null,
       "display": null,
       "flex": null,
       "flex_flow": null,
       "grid_area": null,
       "grid_auto_columns": null,
       "grid_auto_flow": null,
       "grid_auto_rows": null,
       "grid_column": null,
       "grid_gap": null,
       "grid_row": null,
       "grid_template_areas": null,
       "grid_template_columns": null,
       "grid_template_rows": null,
       "height": null,
       "justify_content": null,
       "justify_items": null,
       "left": null,
       "margin": null,
       "max_height": null,
       "max_width": null,
       "min_height": null,
       "min_width": null,
       "object_fit": null,
       "object_position": null,
       "order": null,
       "overflow": null,
       "overflow_x": null,
       "overflow_y": null,
       "padding": null,
       "right": null,
       "top": null,
       "visibility": null,
       "width": null
      }
     },
     "b7cd6ed45d1640e5931ad6dc5eeb1bf8": {
      "model_module": "@jupyter-widgets/controls",
      "model_module_version": "1.5.0",
      "model_name": "FloatSliderModel",
      "state": {
       "_dom_classes": [],
       "_model_module": "@jupyter-widgets/controls",
       "_model_module_version": "1.5.0",
       "_model_name": "FloatSliderModel",
       "_view_count": null,
       "_view_module": "@jupyter-widgets/controls",
       "_view_module_version": "1.5.0",
       "_view_name": "FloatSliderView",
       "continuous_update": true,
       "description": "sy",
       "description_tooltip": null,
       "disabled": false,
       "layout": "IPY_MODEL_0e80d7461e774e9a88dc5dbb86cd4d1e",
       "max": 5.0,
       "min": 0.0,
       "orientation": "horizontal",
       "readout": true,
       "readout_format": ".2f",
       "step": 0.01,
       "style": "IPY_MODEL_f8b3b29535764de289796bd42c3e5281",
       "value": 3.0
      }
     },
     "b8f4a161e90a400087b0250df8ec94ee": {
      "model_module": "@jupyter-widgets/controls",
      "model_module_version": "1.5.0",
      "model_name": "FloatSliderModel",
      "state": {
       "_dom_classes": [],
       "_model_module": "@jupyter-widgets/controls",
       "_model_module_version": "1.5.0",
       "_model_name": "FloatSliderModel",
       "_view_count": null,
       "_view_module": "@jupyter-widgets/controls",
       "_view_module_version": "1.5.0",
       "_view_name": "FloatSliderView",
       "continuous_update": true,
       "description": "t",
       "description_tooltip": null,
       "disabled": false,
       "layout": "IPY_MODEL_dacf71bc4aec4ab48cf233129046f61a",
       "max": 5.0,
       "min": -5.0,
       "orientation": "horizontal",
       "readout": true,
       "readout_format": ".2f",
       "step": 0.01,
       "style": "IPY_MODEL_391fb2118e674055b08d6b39f085e028",
       "value": 2.0
      }
     },
     "bd0887c4a7974b1a8533cda8a29cfbbe": {
      "model_module": "@jupyter-widgets/base",
      "model_module_version": "1.2.0",
      "model_name": "LayoutModel",
      "state": {
       "_model_module": "@jupyter-widgets/base",
       "_model_module_version": "1.2.0",
       "_model_name": "LayoutModel",
       "_view_count": null,
       "_view_module": "@jupyter-widgets/base",
       "_view_module_version": "1.2.0",
       "_view_name": "LayoutView",
       "align_content": null,
       "align_items": null,
       "align_self": null,
       "border": null,
       "bottom": null,
       "display": null,
       "flex": null,
       "flex_flow": null,
       "grid_area": null,
       "grid_auto_columns": null,
       "grid_auto_flow": null,
       "grid_auto_rows": null,
       "grid_column": null,
       "grid_gap": null,
       "grid_row": null,
       "grid_template_areas": null,
       "grid_template_columns": null,
       "grid_template_rows": null,
       "height": null,
       "justify_content": null,
       "justify_items": null,
       "left": null,
       "margin": null,
       "max_height": null,
       "max_width": null,
       "min_height": null,
       "min_width": null,
       "object_fit": null,
       "object_position": null,
       "order": null,
       "overflow": null,
       "overflow_x": null,
       "overflow_y": null,
       "padding": null,
       "right": null,
       "top": null,
       "visibility": null,
       "width": null
      }
     },
     "c11f71d22f6a43bdaaa233d0df90ae92": {
      "model_module": "@jupyter-widgets/base",
      "model_module_version": "1.2.0",
      "model_name": "LayoutModel",
      "state": {
       "_model_module": "@jupyter-widgets/base",
       "_model_module_version": "1.2.0",
       "_model_name": "LayoutModel",
       "_view_count": null,
       "_view_module": "@jupyter-widgets/base",
       "_view_module_version": "1.2.0",
       "_view_name": "LayoutView",
       "align_content": null,
       "align_items": null,
       "align_self": null,
       "border": null,
       "bottom": null,
       "display": null,
       "flex": null,
       "flex_flow": null,
       "grid_area": null,
       "grid_auto_columns": null,
       "grid_auto_flow": null,
       "grid_auto_rows": null,
       "grid_column": null,
       "grid_gap": null,
       "grid_row": null,
       "grid_template_areas": null,
       "grid_template_columns": null,
       "grid_template_rows": null,
       "height": null,
       "justify_content": null,
       "justify_items": null,
       "left": null,
       "margin": null,
       "max_height": null,
       "max_width": null,
       "min_height": null,
       "min_width": null,
       "object_fit": null,
       "object_position": null,
       "order": null,
       "overflow": null,
       "overflow_x": null,
       "overflow_y": null,
       "padding": null,
       "right": null,
       "top": null,
       "visibility": null,
       "width": null
      }
     },
     "c521c4bd04a34b7cad47f1d6e6ac621a": {
      "model_module": "@jupyter-widgets/base",
      "model_module_version": "1.2.0",
      "model_name": "LayoutModel",
      "state": {
       "_model_module": "@jupyter-widgets/base",
       "_model_module_version": "1.2.0",
       "_model_name": "LayoutModel",
       "_view_count": null,
       "_view_module": "@jupyter-widgets/base",
       "_view_module_version": "1.2.0",
       "_view_name": "LayoutView",
       "align_content": null,
       "align_items": null,
       "align_self": null,
       "border": null,
       "bottom": null,
       "display": null,
       "flex": null,
       "flex_flow": null,
       "grid_area": null,
       "grid_auto_columns": null,
       "grid_auto_flow": null,
       "grid_auto_rows": null,
       "grid_column": null,
       "grid_gap": null,
       "grid_row": null,
       "grid_template_areas": null,
       "grid_template_columns": null,
       "grid_template_rows": null,
       "height": null,
       "justify_content": null,
       "justify_items": null,
       "left": null,
       "margin": null,
       "max_height": null,
       "max_width": null,
       "min_height": null,
       "min_width": null,
       "object_fit": null,
       "object_position": null,
       "order": null,
       "overflow": null,
       "overflow_x": null,
       "overflow_y": null,
       "padding": null,
       "right": null,
       "top": null,
       "visibility": null,
       "width": null
      }
     },
     "ccef153e4549494e95e9c97ade896de0": {
      "model_module": "jupyter-matplotlib",
      "model_module_version": "^0.10.5",
      "model_name": "MPLCanvasModel",
      "state": {
       "_cursor": "default",
       "_data_url": "data:image/png;base64,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",
       "_dom_classes": [],
       "_figure_label": "Figure",
       "_image_mode": "full",
       "_message": "",
       "_model_module": "jupyter-matplotlib",
       "_model_module_version": "^0.10.5",
       "_model_name": "MPLCanvasModel",
       "_rubberband_height": 0,
       "_rubberband_width": 0,
       "_rubberband_x": 0,
       "_rubberband_y": 0,
       "_size": [
        600.0,
        400.0
       ],
       "_view_count": null,
       "_view_module": "jupyter-matplotlib",
       "_view_module_version": "^0.10.5",
       "_view_name": "MPLCanvasView",
       "capture_scroll": false,
       "footer_visible": true,
       "header_visible": false,
       "layout": "IPY_MODEL_a7a6685b5d174c0c9eb13cf9ab5ae599",
       "pan_zoom_throttle": 33.0,
       "resizable": true,
       "toolbar": "IPY_MODEL_668e25d5c89148838f2fce69a2b1eff0",
       "toolbar_position": "left",
       "toolbar_visible": "fade-in-fade-out"
      }
     },
     "cd651de9f1eb4fcebf26a2a73f3549b1": {
      "model_module": "@jupyter-widgets/base",
      "model_module_version": "1.2.0",
      "model_name": "LayoutModel",
      "state": {
       "_model_module": "@jupyter-widgets/base",
       "_model_module_version": "1.2.0",
       "_model_name": "LayoutModel",
       "_view_count": null,
       "_view_module": "@jupyter-widgets/base",
       "_view_module_version": "1.2.0",
       "_view_name": "LayoutView",
       "align_content": null,
       "align_items": null,
       "align_self": null,
       "border": null,
       "bottom": null,
       "display": null,
       "flex": null,
       "flex_flow": null,
       "grid_area": null,
       "grid_auto_columns": null,
       "grid_auto_flow": null,
       "grid_auto_rows": null,
       "grid_column": null,
       "grid_gap": null,
       "grid_row": null,
       "grid_template_areas": null,
       "grid_template_columns": null,
       "grid_template_rows": null,
       "height": null,
       "justify_content": null,
       "justify_items": null,
       "left": null,
       "margin": null,
       "max_height": null,
       "max_width": null,
       "min_height": null,
       "min_width": null,
       "object_fit": null,
       "object_position": null,
       "order": null,
       "overflow": null,
       "overflow_x": null,
       "overflow_y": null,
       "padding": null,
       "right": null,
       "top": null,
       "visibility": null,
       "width": null
      }
     },
     "d854b72063ae4aff92f479bc2b3602ce": {
      "model_module": "@jupyter-widgets/base",
      "model_module_version": "1.2.0",
      "model_name": "LayoutModel",
      "state": {
       "_model_module": "@jupyter-widgets/base",
       "_model_module_version": "1.2.0",
       "_model_name": "LayoutModel",
       "_view_count": null,
       "_view_module": "@jupyter-widgets/base",
       "_view_module_version": "1.2.0",
       "_view_name": "LayoutView",
       "align_content": null,
       "align_items": null,
       "align_self": null,
       "border": null,
       "bottom": null,
       "display": null,
       "flex": null,
       "flex_flow": null,
       "grid_area": null,
       "grid_auto_columns": null,
       "grid_auto_flow": null,
       "grid_auto_rows": null,
       "grid_column": null,
       "grid_gap": null,
       "grid_row": null,
       "grid_template_areas": null,
       "grid_template_columns": null,
       "grid_template_rows": null,
       "height": null,
       "justify_content": null,
       "justify_items": null,
       "left": null,
       "margin": null,
       "max_height": null,
       "max_width": null,
       "min_height": null,
       "min_width": null,
       "object_fit": null,
       "object_position": null,
       "order": null,
       "overflow": null,
       "overflow_x": null,
       "overflow_y": null,
       "padding": null,
       "right": null,
       "top": null,
       "visibility": null,
       "width": null
      }
     },
     "da99258637b44277b22c5991de984d24": {
      "model_module": "jupyter-matplotlib",
      "model_module_version": "^0.10.5",
      "model_name": "ToolbarModel",
      "state": {
       "_current_action": "",
       "_dom_classes": [],
       "_model_module": "jupyter-matplotlib",
       "_model_module_version": "^0.10.5",
       "_model_name": "ToolbarModel",
       "_view_count": null,
       "_view_module": "jupyter-matplotlib",
       "_view_module_version": "^0.10.5",
       "_view_name": "ToolbarView",
       "button_style": "",
       "collapsed": true,
       "layout": "IPY_MODEL_e831d8468f3e4650a329745859b19021",
       "orientation": "vertical",
       "toolitems": [
        [
         "Home",
         "Reset original view",
         "home",
         "home"
        ],
        [
         "Back",
         "Back to previous view",
         "arrow-left",
         "back"
        ],
        [
         "Forward",
         "Forward to next view",
         "arrow-right",
         "forward"
        ],
        [
         "Pan",
         "Left button pans, Right button zooms\nx/y fixes axis, CTRL fixes aspect",
         "arrows",
         "pan"
        ],
        [
         "Zoom",
         "Zoom to rectangle\nx/y fixes axis",
         "square-o",
         "zoom"
        ],
        [
         "Download",
         "Download plot",
         "floppy-o",
         "save_figure"
        ]
       ]
      }
     },
     "dacf71bc4aec4ab48cf233129046f61a": {
      "model_module": "@jupyter-widgets/base",
      "model_module_version": "1.2.0",
      "model_name": "LayoutModel",
      "state": {
       "_model_module": "@jupyter-widgets/base",
       "_model_module_version": "1.2.0",
       "_model_name": "LayoutModel",
       "_view_count": null,
       "_view_module": "@jupyter-widgets/base",
       "_view_module_version": "1.2.0",
       "_view_name": "LayoutView",
       "align_content": null,
       "align_items": null,
       "align_self": null,
       "border": null,
       "bottom": null,
       "display": null,
       "flex": null,
       "flex_flow": null,
       "grid_area": null,
       "grid_auto_columns": null,
       "grid_auto_flow": null,
       "grid_auto_rows": null,
       "grid_column": null,
       "grid_gap": null,
       "grid_row": null,
       "grid_template_areas": null,
       "grid_template_columns": null,
       "grid_template_rows": null,
       "height": null,
       "justify_content": null,
       "justify_items": null,
       "left": null,
       "margin": null,
       "max_height": null,
       "max_width": null,
       "min_height": null,
       "min_width": null,
       "object_fit": null,
       "object_position": null,
       "order": null,
       "overflow": null,
       "overflow_x": null,
       "overflow_y": null,
       "padding": null,
       "right": null,
       "top": null,
       "visibility": null,
       "width": null
      }
     },
     "dfdff0c6ff53465ba08507a8a7ab2da7": {
      "model_module": "@jupyter-widgets/base",
      "model_module_version": "1.2.0",
      "model_name": "LayoutModel",
      "state": {
       "_model_module": "@jupyter-widgets/base",
       "_model_module_version": "1.2.0",
       "_model_name": "LayoutModel",
       "_view_count": null,
       "_view_module": "@jupyter-widgets/base",
       "_view_module_version": "1.2.0",
       "_view_name": "LayoutView",
       "align_content": null,
       "align_items": null,
       "align_self": null,
       "border": null,
       "bottom": null,
       "display": null,
       "flex": null,
       "flex_flow": null,
       "grid_area": null,
       "grid_auto_columns": null,
       "grid_auto_flow": null,
       "grid_auto_rows": null,
       "grid_column": null,
       "grid_gap": null,
       "grid_row": null,
       "grid_template_areas": null,
       "grid_template_columns": null,
       "grid_template_rows": null,
       "height": null,
       "justify_content": null,
       "justify_items": null,
       "left": null,
       "margin": null,
       "max_height": null,
       "max_width": null,
       "min_height": null,
       "min_width": null,
       "object_fit": null,
       "object_position": null,
       "order": null,
       "overflow": null,
       "overflow_x": null,
       "overflow_y": null,
       "padding": null,
       "right": null,
       "top": null,
       "visibility": null,
       "width": null
      }
     },
     "e1bde8f99c524960ae644bc63a77e704": {
      "model_module": "@jupyter-widgets/controls",
      "model_module_version": "1.5.0",
      "model_name": "SliderStyleModel",
      "state": {
       "_model_module": "@jupyter-widgets/controls",
       "_model_module_version": "1.5.0",
       "_model_name": "SliderStyleModel",
       "_view_count": null,
       "_view_module": "@jupyter-widgets/base",
       "_view_module_version": "1.2.0",
       "_view_name": "StyleView",
       "description_width": "",
       "handle_color": null
      }
     },
     "e34faca5dc2c41f3bcacf2f043db6452": {
      "model_module": "jupyter-matplotlib",
      "model_module_version": "^0.10.5",
      "model_name": "ToolbarModel",
      "state": {
       "_current_action": "",
       "_dom_classes": [],
       "_model_module": "jupyter-matplotlib",
       "_model_module_version": "^0.10.5",
       "_model_name": "ToolbarModel",
       "_view_count": null,
       "_view_module": "jupyter-matplotlib",
       "_view_module_version": "^0.10.5",
       "_view_name": "ToolbarView",
       "button_style": "",
       "collapsed": true,
       "layout": "IPY_MODEL_92a5677f14c9496cb53beb2104bf7f15",
       "orientation": "vertical",
       "toolitems": [
        [
         "Home",
         "Reset original view",
         "home",
         "home"
        ],
        [
         "Back",
         "Back to previous view",
         "arrow-left",
         "back"
        ],
        [
         "Forward",
         "Forward to next view",
         "arrow-right",
         "forward"
        ],
        [
         "Pan",
         "Left button pans, Right button zooms\nx/y fixes axis, CTRL fixes aspect",
         "arrows",
         "pan"
        ],
        [
         "Zoom",
         "Zoom to rectangle\nx/y fixes axis",
         "square-o",
         "zoom"
        ],
        [
         "Download",
         "Download plot",
         "floppy-o",
         "save_figure"
        ]
       ]
      }
     },
     "e70aedc03b0541859ba58dc174067c54": {
      "model_module": "jupyter-matplotlib",
      "model_module_version": "^0.10.5",
      "model_name": "ToolbarModel",
      "state": {
       "_current_action": "",
       "_dom_classes": [],
       "_model_module": "jupyter-matplotlib",
       "_model_module_version": "^0.10.5",
       "_model_name": "ToolbarModel",
       "_view_count": null,
       "_view_module": "jupyter-matplotlib",
       "_view_module_version": "^0.10.5",
       "_view_name": "ToolbarView",
       "button_style": "",
       "collapsed": true,
       "layout": "IPY_MODEL_5e912a90e27b481ab323630098331a09",
       "orientation": "vertical",
       "toolitems": [
        [
         "Home",
         "Reset original view",
         "home",
         "home"
        ],
        [
         "Back",
         "Back to previous view",
         "arrow-left",
         "back"
        ],
        [
         "Forward",
         "Forward to next view",
         "arrow-right",
         "forward"
        ],
        [
         "Pan",
         "Left button pans, Right button zooms\nx/y fixes axis, CTRL fixes aspect",
         "arrows",
         "pan"
        ],
        [
         "Zoom",
         "Zoom to rectangle\nx/y fixes axis",
         "square-o",
         "zoom"
        ],
        [
         "Download",
         "Download plot",
         "floppy-o",
         "save_figure"
        ]
       ]
      }
     },
     "e77cf0c2f09347ddb23c3d8517e46031": {
      "model_module": "jupyter-matplotlib",
      "model_module_version": "^0.10.5",
      "model_name": "ToolbarModel",
      "state": {
       "_current_action": "",
       "_dom_classes": [],
       "_model_module": "jupyter-matplotlib",
       "_model_module_version": "^0.10.5",
       "_model_name": "ToolbarModel",
       "_view_count": null,
       "_view_module": "jupyter-matplotlib",
       "_view_module_version": "^0.10.5",
       "_view_name": "ToolbarView",
       "button_style": "",
       "collapsed": true,
       "layout": "IPY_MODEL_4aed078117bc43029cc35c22e4e1c4eb",
       "orientation": "vertical",
       "toolitems": [
        [
         "Home",
         "Reset original view",
         "home",
         "home"
        ],
        [
         "Back",
         "Back to previous view",
         "arrow-left",
         "back"
        ],
        [
         "Forward",
         "Forward to next view",
         "arrow-right",
         "forward"
        ],
        [
         "Pan",
         "Left button pans, Right button zooms\nx/y fixes axis, CTRL fixes aspect",
         "arrows",
         "pan"
        ],
        [
         "Zoom",
         "Zoom to rectangle\nx/y fixes axis",
         "square-o",
         "zoom"
        ],
        [
         "Download",
         "Download plot",
         "floppy-o",
         "save_figure"
        ]
       ]
      }
     },
     "e831d8468f3e4650a329745859b19021": {
      "model_module": "@jupyter-widgets/base",
      "model_module_version": "1.2.0",
      "model_name": "LayoutModel",
      "state": {
       "_model_module": "@jupyter-widgets/base",
       "_model_module_version": "1.2.0",
       "_model_name": "LayoutModel",
       "_view_count": null,
       "_view_module": "@jupyter-widgets/base",
       "_view_module_version": "1.2.0",
       "_view_name": "LayoutView",
       "align_content": null,
       "align_items": null,
       "align_self": null,
       "border": null,
       "bottom": null,
       "display": null,
       "flex": null,
       "flex_flow": null,
       "grid_area": null,
       "grid_auto_columns": null,
       "grid_auto_flow": null,
       "grid_auto_rows": null,
       "grid_column": null,
       "grid_gap": null,
       "grid_row": null,
       "grid_template_areas": null,
       "grid_template_columns": null,
       "grid_template_rows": null,
       "height": null,
       "justify_content": null,
       "justify_items": null,
       "left": null,
       "margin": null,
       "max_height": null,
       "max_width": null,
       "min_height": null,
       "min_width": null,
       "object_fit": null,
       "object_position": null,
       "order": null,
       "overflow": null,
       "overflow_x": null,
       "overflow_y": null,
       "padding": null,
       "right": null,
       "top": null,
       "visibility": null,
       "width": null
      }
     },
     "f20e2d95e1164c85b47aaf66c854c914": {
      "model_module": "jupyter-matplotlib",
      "model_module_version": "^0.10.5",
      "model_name": "MPLCanvasModel",
      "state": {
       "_cursor": "default",
       "_data_url": "data:image/png;base64,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",
       "_dom_classes": [],
       "_figure_label": "Figure",
       "_image_mode": "full",
       "_message": "",
       "_model_module": "jupyter-matplotlib",
       "_model_module_version": "^0.10.5",
       "_model_name": "MPLCanvasModel",
       "_rubberband_height": 0,
       "_rubberband_width": 0,
       "_rubberband_x": 0,
       "_rubberband_y": 0,
       "_size": [
        300.0,
        300.0
       ],
       "_view_count": null,
       "_view_module": "jupyter-matplotlib",
       "_view_module_version": "^0.10.5",
       "_view_name": "MPLCanvasView",
       "capture_scroll": false,
       "footer_visible": true,
       "header_visible": false,
       "layout": "IPY_MODEL_f34ef4a159494f7bb24521fb898b1870",
       "pan_zoom_throttle": 33.0,
       "resizable": true,
       "toolbar": "IPY_MODEL_e70aedc03b0541859ba58dc174067c54",
       "toolbar_position": "left",
       "toolbar_visible": "fade-in-fade-out"
      }
     },
     "f34ef4a159494f7bb24521fb898b1870": {
      "model_module": "@jupyter-widgets/base",
      "model_module_version": "1.2.0",
      "model_name": "LayoutModel",
      "state": {
       "_model_module": "@jupyter-widgets/base",
       "_model_module_version": "1.2.0",
       "_model_name": "LayoutModel",
       "_view_count": null,
       "_view_module": "@jupyter-widgets/base",
       "_view_module_version": "1.2.0",
       "_view_name": "LayoutView",
       "align_content": null,
       "align_items": null,
       "align_self": null,
       "border": null,
       "bottom": null,
       "display": null,
       "flex": null,
       "flex_flow": null,
       "grid_area": null,
       "grid_auto_columns": null,
       "grid_auto_flow": null,
       "grid_auto_rows": null,
       "grid_column": null,
       "grid_gap": null,
       "grid_row": null,
       "grid_template_areas": null,
       "grid_template_columns": null,
       "grid_template_rows": null,
       "height": null,
       "justify_content": null,
       "justify_items": null,
       "left": null,
       "margin": null,
       "max_height": null,
       "max_width": null,
       "min_height": null,
       "min_width": null,
       "object_fit": null,
       "object_position": null,
       "order": null,
       "overflow": null,
       "overflow_x": null,
       "overflow_y": null,
       "padding": null,
       "right": null,
       "top": null,
       "visibility": null,
       "width": null
      }
     },
     "f69354624e6448e4b24dd1593b9e288c": {
      "model_module": "@jupyter-widgets/base",
      "model_module_version": "1.2.0",
      "model_name": "LayoutModel",
      "state": {
       "_model_module": "@jupyter-widgets/base",
       "_model_module_version": "1.2.0",
       "_model_name": "LayoutModel",
       "_view_count": null,
       "_view_module": "@jupyter-widgets/base",
       "_view_module_version": "1.2.0",
       "_view_name": "LayoutView",
       "align_content": null,
       "align_items": null,
       "align_self": null,
       "border": null,
       "bottom": null,
       "display": null,
       "flex": null,
       "flex_flow": null,
       "grid_area": null,
       "grid_auto_columns": null,
       "grid_auto_flow": null,
       "grid_auto_rows": null,
       "grid_column": null,
       "grid_gap": null,
       "grid_row": null,
       "grid_template_areas": null,
       "grid_template_columns": null,
       "grid_template_rows": null,
       "height": null,
       "justify_content": null,
       "justify_items": null,
       "left": null,
       "margin": null,
       "max_height": null,
       "max_width": null,
       "min_height": null,
       "min_width": null,
       "object_fit": null,
       "object_position": null,
       "order": null,
       "overflow": null,
       "overflow_x": null,
       "overflow_y": null,
       "padding": null,
       "right": null,
       "top": null,
       "visibility": null,
       "width": null
      }
     },
     "f8b3b29535764de289796bd42c3e5281": {
      "model_module": "@jupyter-widgets/controls",
      "model_module_version": "1.5.0",
      "model_name": "SliderStyleModel",
      "state": {
       "_model_module": "@jupyter-widgets/controls",
       "_model_module_version": "1.5.0",
       "_model_name": "SliderStyleModel",
       "_view_count": null,
       "_view_module": "@jupyter-widgets/base",
       "_view_module_version": "1.2.0",
       "_view_name": "StyleView",
       "description_width": "",
       "handle_color": null
      }
     }
    },
    "version_major": 2,
    "version_minor": 0
   }
  }
 },
 "nbformat": 4,
 "nbformat_minor": 5
}