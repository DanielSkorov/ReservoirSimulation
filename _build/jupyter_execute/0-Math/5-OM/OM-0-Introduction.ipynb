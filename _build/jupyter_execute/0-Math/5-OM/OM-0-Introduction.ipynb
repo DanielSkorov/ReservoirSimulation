{
 "cells": [
  {
   "cell_type": "markdown",
   "id": "03793dde",
   "metadata": {},
   "source": [
    "<a id='math-om'></a>\n",
    "# Методы оптимизации функций\n",
    "Данный раздел посвящен изложению некоторых численных методов оптимизации: поиска стационарных точек функции, а также глобальных минимума и максимума функции, которые будут использовать в дальнейшем для решения задач моделирования."
   ]
  },
  {
   "cell_type": "markdown",
   "id": "799f0078",
   "metadata": {},
   "source": [
    "**Содержание:**\n",
    "* [Нахождение стационарной точки методом градиентного спуска](./OM-1-GradientDescent.md)\n",
    "* [Нахождение стационарной точки методом Ньютона](./OM-2-Newton.md)\n",
    "* [Квази-ньютоновские методы поиска стационарной точки функции](./OM-3-QNewton.md)\n",
    "* [Метод доверительной области](./OM-4-TR.md)\n",
    "* [Туннельный метод оптимизации функции](./OM-5-Tunneling.md)"
   ]
  }
 ],
 "metadata": {
  "jupytext": {
   "text_representation": {
    "extension": ".md",
    "format_name": "myst",
    "format_version": 0.13,
    "jupytext_version": "1.10.3"
   }
  },
  "kernelspec": {
   "display_name": "Python 3 (ipykernel)",
   "language": "python",
   "name": "python3"
  },
  "language_info": {
   "codemirror_mode": {
    "name": "ipython",
    "version": 3
   },
   "file_extension": ".py",
   "mimetype": "text/x-python",
   "name": "python",
   "nbconvert_exporter": "python",
   "pygments_lexer": "ipython3",
   "version": "3.7.13"
  },
  "source_map": [
   12,
   18
  ]
 },
 "nbformat": 4,
 "nbformat_minor": 5
}