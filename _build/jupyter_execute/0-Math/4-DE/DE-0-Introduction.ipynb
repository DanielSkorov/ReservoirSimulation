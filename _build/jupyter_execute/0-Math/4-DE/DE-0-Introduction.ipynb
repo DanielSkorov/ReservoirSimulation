{
 "cells": [
  {
   "cell_type": "markdown",
   "id": "5feeecfd",
   "metadata": {},
   "source": [
    "<a id='math-de'></a>\n",
    "# Дифференциальные уравнения\n",
    "Дифференциальные уравнения лежат в основе математического моделирования ..."
   ]
  },
  {
   "cell_type": "markdown",
   "id": "061be3dd",
   "metadata": {},
   "source": [
    "**Содержание:**"
   ]
  }
 ],
 "metadata": {
  "jupytext": {
   "text_representation": {
    "extension": ".md",
    "format_name": "myst",
    "format_version": 0.13,
    "jupytext_version": "1.10.3"
   }
  },
  "kernelspec": {
   "display_name": "Python 3 (ipykernel)",
   "language": "python",
   "name": "python3"
  },
  "language_info": {
   "codemirror_mode": {
    "name": "ipython",
    "version": 3
   },
   "file_extension": ".py",
   "mimetype": "text/x-python",
   "name": "python",
   "nbconvert_exporter": "python",
   "pygments_lexer": "ipython3",
   "version": "3.7.13"
  },
  "source_map": [
   12,
   18
  ]
 },
 "nbformat": 4,
 "nbformat_minor": 5
}