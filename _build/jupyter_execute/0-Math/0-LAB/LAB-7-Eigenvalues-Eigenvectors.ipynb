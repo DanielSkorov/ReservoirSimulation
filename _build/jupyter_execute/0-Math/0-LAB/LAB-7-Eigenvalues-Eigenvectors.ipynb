{
 "cells": [
  {
   "cell_type": "code",
   "execution_count": 1,
   "id": "40c97964",
   "metadata": {
    "tags": [
     "remove-input"
    ]
   },
   "outputs": [],
   "source": [
    "import numpy as np"
   ]
  },
  {
   "cell_type": "markdown",
   "id": "b219d341",
   "metadata": {},
   "source": [
    "(math-lab-eigen)=\n",
    "# Собственные векторы и значения матриц\n",
    "\n",
    "Пусть дана матрица:\n",
    "\n",
    "$$ \\mathbf{A} = \\begin{bmatrix} -1 & -6 \\\\ 2 & 6 \\end{bmatrix}. $$\n",
    "\n",
    "Умножим матрицу $\\mathbf{A}$ на вектор $\\mathbf{u} = \\begin{bmatrix} 2 \\\\ -1 \\end{bmatrix}$:\n",
    "\n",
    "$$ \\mathbf{A} \\mathbf{u} = \\begin{bmatrix} -1 & -6 \\\\ 2 & 6 \\end{bmatrix} \\cdot \\begin{bmatrix} 2 \\\\ -1 \\end{bmatrix}=\\begin{bmatrix} -1 \\cdot 2 + (-6) \\cdot (-1) \\\\ 2 \\cdot 2 + 6 \\cdot (-1) \\end{bmatrix} = \\begin{bmatrix} 4 \\\\ -2 \\end{bmatrix} = 2 \\cdot \\begin{bmatrix} 2 \\\\ -1 \\end{bmatrix} = \\lambda \\mathbf{u}. $$\n",
    "\n",
    "В результате умножения матрицы $\\mathbf{A}$ на вектор $\\mathbf{u}$ получился тот же самый вектор $\\mathbf{u}$ с числовым коэффициентом $\\lambda = 2$:\n",
    "\n",
    "$$ \\mathbf{A} \\mathbf{u} = \\lambda \\mathbf{u}. $$\n",
    "\n",
    "Такой вектор $\\mathbf{u}$ называется ***собственным вектором*** (*eigenvector*) матрицы $\\mathbf{A}$, а $\\lambda$ – ***собственным значением*** матрицы $\\mathbf{A}$ (*eigenvalue*).\n",
    "\n",
    "```{admonition} Определение\n",
    ":class: tip\n",
    "Ненулевой вектор $\\mathbf{u}$, который при умножении на некоторую квадратную матрицу $\\mathbf{A}$ преобразуется в самого же себя с числовым коэффициентом $\\lambda$, называется ***собственным вектором*** матрицы $\\mathbf{A}$, а число $\\lambda$ – ***собственным значением*** матрицы $\\mathbf{A}$.\n",
    "```\n",
    "\n",
    "Нахождение собственного вектора и собственного значения некоторой матрицы реализуется с использованием следующего алгоритма. Выражение, полученное из определения собственного вектора, можно преобразовать:\n",
    "\n",
    "$$ \\mathbf{A} \\mathbf{u} - \\lambda \\mathbf{u} = 0. $$\n",
    "\n",
    "$$ \\begin{bmatrix} \\mathbf{A} - \\lambda \\mathbf{E} \\end{bmatrix} \\mathbf{u} = 0. $$\n",
    "\n",
    "Поскольку тривиальное решение данного уравнения не удовлетворяет условию, указанному в определении собственного вектора $\\left( \\mathbf{u} \\neq 0 \\right)$, то необходимо, чтобы:\n",
    "\n",
    "$$ \\det \\left(\\mathbf{A} - \\lambda \\mathbf{E} \\right) = 0. $$\n",
    "\n",
    "Данное уравнение называется характеристическим для матрицы $\\mathbf{A}$. Отсюда выражается $\\lambda$. Последующее определение $\\mathbf{u}$ основано на решении уравнения $\\begin{bmatrix} \\mathbf{A} - \\lambda \\mathbf{E} \\end{bmatrix} \\mathbf{u} = 0$ относительно $\\mathbf{u}$.\n",
    "\n",
    "```{admonition} Доказательство\n",
    ":class: proof\n",
    "Предположим, что $\\det \\left( \\mathbf{A} - \\lambda \\mathbf{E} \\right) \\neq 0$. Следовательно, существует такая обратная матрица, что:\n",
    "\n",
    "$$ {\\begin{bmatrix} \\mathbf{A} - \\lambda \\mathbf{E} \\end{bmatrix}}^{-1} \\begin{bmatrix} \\mathbf{A} - \\lambda \\mathbf{E} \\end{bmatrix} \\mathbf{u} = {\\begin{bmatrix} \\mathbf{A} - \\lambda \\mathbf{E} \\end{bmatrix}}^{-1} \\cdot 0, $$\n",
    "\n",
    "откуда следует:\n",
    "\n",
    "$$ \\mathbf{u} = 0, $$\n",
    "\n",
    "что противоречит условию $(\\mathbf{u} \\neq 0)$.\n",
    "```\n",
    "\n",
    "Рассмотрим пример. Пусть дана матрица $\\mathbf{A}$:\n",
    "\n",
    "$$ \\mathbf{A} = \\begin{bmatrix} 4 & -5 \\\\ 2 & -3 \\end{bmatrix}. $$\n",
    "\n",
    "Необходимо найти собственные значения и собственные векторы матрицы $\\mathbf{A}$. Для начала найдем собственные значения. Запишем уравнение и решим его относительно $\\lambda$:\n",
    "\n",
    "$$ \\begin{align}\n",
    "\\begin{vmatrix} \\begin{bmatrix} 4 & -5 \\\\ 2 & -3 \\end{bmatrix} - \\lambda \\cdot \\begin{bmatrix} 1 & 0 \\\\ 0 & 1 \\end{bmatrix}\\end{vmatrix} &= 0 \\\\ \\begin{vmatrix} 4 - \\lambda & -5 \\\\ 2 & -3 - \\lambda \\end{vmatrix} &= 0 \\\\ (4 - \\lambda) \\cdot (-3 - \\lambda) + 10 &= 0 \\\\ {\\lambda}^2 - \\lambda - 2 &= 0 \\\\ {\\lambda}_{1,2} &= (-1, 2)\n",
    "\\end{align} $$\n",
    "\n",
    "При $\\lambda = -1$:\n",
    "\n",
    "$$ \\begin{align}\n",
    "\\left( \\begin{bmatrix} 4 & -5 \\\\ 2 & -3 \\end{bmatrix} - (-1) \\cdot \\begin{bmatrix} 1 & 0 \\\\ 0 & 1 \\end{bmatrix} \\right) \\cdot \\mathbf{u} &= 0 \\\\ \\begin{bmatrix} 5 & -5 \\\\ 2 & -2 \\end{bmatrix} \\cdot \\begin{bmatrix} u_1 \\\\ u_2 \\end{bmatrix} &= 0.\n",
    "\\end{align} $$\n",
    "\n",
    "Данное выражение может быть преобразовано в систему линейных уравнений и решено с использованием [метода Гаусса](https://en.wikipedia.org/wiki/Gaussian_elimination). Его целью является получение \"треугольной матрицы нулей\" путем простейших математических преобразований – сложения и умножения. В результате, получится следующее выражение:\n",
    "\n",
    "$$ \\begin{matrix}\\\\ 1 & -1 & 0\\\\ 0 & 0 & 0 \\end{matrix}. $$\n",
    "\n",
    "Исходя из второй строчки, $u_2$ может принимать любые значения. Поэтому пусть $u_2 = 1$. Тогда $u_1 = 1$. Отнормируем $u_1$ и $u_2$ на величину $\\sqrt{{u_1}^2 + {u_2}^2}$ исключительно для сопоставления с результатом, получаемым в *[numpy](https://numpy.org/)* (далее будет показано, что данная операция, по сути, не играет существенной роли). Тогда $u_1 = u_2 = \\frac{1}{\\sqrt{2}}$.\n",
    "\n",
    "При $\\lambda = 2$:\n",
    "\n",
    "$$ \\begin{align} \\left( \\begin{bmatrix} 4 & -5 \\\\ 2 & -3 \\end{bmatrix} - 2 \\cdot \\begin{bmatrix} 1 & 0 \\\\ 0 & 1 \\end{bmatrix} \\right) \\cdot u &= 0 \\\\ \\begin{bmatrix} 2 & -5 \\\\ 2 & -5 \\end{bmatrix} \\cdot \\begin{bmatrix} u_1 \\\\ u_2 \\end{bmatrix} &= 0 \\end{align} $$\n",
    "\n",
    "После применения метода Гаусса получим:\n",
    "\n",
    "$$ \\begin{matrix}\\\\ 2 & -5 & 0\\\\ 0 & 0 & 0 \\end{matrix}. $$\n",
    "\n",
    "Исходя из второй строчки, $u_2$ может принимать любые значения. Поэтому пусть $u_2 = 1$. Тогда $u_1 = \\frac{5}{2}$. Аналогично отнормируем $u_1$ и $u_2$ на величину $\\sqrt{{u_1}^2 + {u_2}^2}$. Тогда $u_1 = \\frac{5}{\\sqrt{29}}$ и $u_2 = \\frac{2}{\\sqrt{29}}$."
   ]
  },
  {
   "cell_type": "code",
   "execution_count": 2,
   "id": "c1652e06",
   "metadata": {},
   "outputs": [
    {
     "data": {
      "text/plain": [
       "(array([ 2, -1]),\n",
       " array([[0.92847669, 0.70710678],\n",
       "        [0.37139068, 0.70710678]]))"
      ]
     },
     "execution_count": 2,
     "metadata": {},
     "output_type": "execute_result"
    }
   ],
   "source": [
    "Lambda = np.array([2, -1])\n",
    "u = np.array([[5 / 29**0.5, 1 / 2**0.5], [2 / 29**0.5, 1 / 2**0.5]])\n",
    "Lambda, u"
   ]
  },
  {
   "cell_type": "markdown",
   "id": "0fc5e446",
   "metadata": {},
   "source": [
    "Полученные результаты полностью совпадают с расчетом, выполненным *numpy*:"
   ]
  },
  {
   "cell_type": "code",
   "execution_count": 3,
   "id": "4c53fb59",
   "metadata": {},
   "outputs": [
    {
     "data": {
      "text/plain": [
       "EigResult(eigenvalues=array([ 2., -1.]), eigenvectors=array([[0.92847669, 0.70710678],\n",
       "       [0.37139068, 0.70710678]]))"
      ]
     },
     "execution_count": 3,
     "metadata": {},
     "output_type": "execute_result"
    }
   ],
   "source": [
    "A = np.array([[4, -5], [2, -3]])\n",
    "np.linalg.eig(A)"
   ]
  },
  {
   "cell_type": "markdown",
   "id": "11c3fe8d",
   "metadata": {},
   "source": [
    "Выполним проверку:"
   ]
  },
  {
   "cell_type": "code",
   "execution_count": 4,
   "id": "1750ed6e",
   "metadata": {},
   "outputs": [
    {
     "data": {
      "text/plain": [
       "array([[2.22044605e-16],\n",
       "       [2.22044605e-16]])"
      ]
     },
     "execution_count": 4,
     "metadata": {},
     "output_type": "execute_result"
    }
   ],
   "source": [
    "Lambda = 2\n",
    "u = np.array([[5 / 29**0.5], [2 / 29**0.5]])\n",
    "A.dot(u) - Lambda * u"
   ]
  },
  {
   "cell_type": "code",
   "execution_count": 5,
   "id": "70854a60",
   "metadata": {},
   "outputs": [
    {
     "data": {
      "text/plain": [
       "array([[0.],\n",
       "       [0.]])"
      ]
     },
     "execution_count": 5,
     "metadata": {},
     "output_type": "execute_result"
    }
   ],
   "source": [
    "Lambda = -1\n",
    "u = np.array([[1 / 2**0.5], [1 / 2**0.5]])\n",
    "A.dot(u) - Lambda * u"
   ]
  },
  {
   "cell_type": "markdown",
   "id": "2512bfb5",
   "metadata": {},
   "source": [
    "Также проверим правильность подобранных значений $\\mathbf{u}$ без нормирования:"
   ]
  },
  {
   "cell_type": "code",
   "execution_count": 6,
   "id": "e16954ca",
   "metadata": {},
   "outputs": [
    {
     "data": {
      "text/plain": [
       "array([[0.],\n",
       "       [0.]])"
      ]
     },
     "execution_count": 6,
     "metadata": {},
     "output_type": "execute_result"
    }
   ],
   "source": [
    "Lambda = 2\n",
    "u = np.array([[5 / 2], [1]])\n",
    "A.dot(u) - Lambda * u"
   ]
  },
  {
   "cell_type": "code",
   "execution_count": 7,
   "id": "8bcefecd",
   "metadata": {},
   "outputs": [
    {
     "data": {
      "text/plain": [
       "array([[0],\n",
       "       [0]])"
      ]
     },
     "execution_count": 7,
     "metadata": {},
     "output_type": "execute_result"
    }
   ],
   "source": [
    "Lambda = -1\n",
    "u = np.array([[1], [1]])\n",
    "A.dot(u) - Lambda * u"
   ]
  },
  {
   "cell_type": "markdown",
   "id": "f041ad0a",
   "metadata": {},
   "source": [
    "Кроме того, правильность решения не зависит от выбора значения $u_2$. При $\\lambda = 2$ предположим, что $u_2 = 2$. Тогда $u_1 = 5$."
   ]
  },
  {
   "cell_type": "code",
   "execution_count": 8,
   "id": "cd06bf2c",
   "metadata": {},
   "outputs": [
    {
     "data": {
      "text/plain": [
       "array([[0],\n",
       "       [0]])"
      ]
     },
     "execution_count": 8,
     "metadata": {},
     "output_type": "execute_result"
    }
   ],
   "source": [
    "Lambda = 2\n",
    "u = np.array([[5], [2]])\n",
    "A.dot(u) - Lambda * u"
   ]
  },
  {
   "cell_type": "markdown",
   "id": "ca25e5b4",
   "metadata": {},
   "source": [
    "Также необходимо отметить, что найденные собственные векторы матрицы не являются коллинеарными – [определитель](LAB-5-Determinant-InverseMatrix.md#math-lab-detinv) матрицы, составленный из их координат, отличен от нуля:"
   ]
  },
  {
   "cell_type": "code",
   "execution_count": 9,
   "id": "0a796ae4",
   "metadata": {},
   "outputs": [
    {
     "data": {
      "text/plain": [
       "np.float64(0.39391929857916763)"
      ]
     },
     "execution_count": 9,
     "metadata": {},
     "output_type": "execute_result"
    }
   ],
   "source": [
    "Lambda, V = np.linalg.eig(A)\n",
    "np.linalg.det(V)"
   ]
  },
  {
   "cell_type": "markdown",
   "id": "f6df5586",
   "metadata": {},
   "source": [
    "```{admonition} Определение\n",
    ":class: tip\n",
    "Два неколлинеарных вектора образуют ***базис***. Под базисом понимается совокупность неколлинеарных векторов в векторном пространстве, взятых в определенном порядке, при этом любой вектор в этом пространстве может быть выражен через линейную комбинацию базисных векторов.\n",
    "```"
   ]
  }
 ],
 "metadata": {
  "jupytext": {
   "text_representation": {
    "extension": ".md",
    "format_name": "myst",
    "format_version": "3.0.1",
    "jupytext_version": "1.16.3"
   }
  },
  "kernelspec": {
   "display_name": "Python 3 (ipykernel)",
   "language": "python",
   "name": "python3"
  },
  "language_info": {
   "codemirror_mode": {
    "name": "ipython",
    "version": 3
   },
   "file_extension": ".py",
   "mimetype": "text/x-python",
   "name": "python",
   "nbconvert_exporter": "python",
   "pygments_lexer": "ipython3",
   "version": "3.12.7"
  },
  "source_map": [
   14,
   18,
   99,
   103,
   107,
   110,
   114,
   120,
   124,
   128,
   134,
   138,
   142,
   146,
   150,
   153
  ]
 },
 "nbformat": 4,
 "nbformat_minor": 5
}