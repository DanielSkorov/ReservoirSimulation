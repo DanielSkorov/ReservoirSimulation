{
 "cells": [
  {
   "cell_type": "markdown",
   "id": "14dfcc25",
   "metadata": {},
   "source": [
    "(math-lab)=\n",
    "# Основы линейной алгебры\n",
    "\n",
    "```{epigraph}\n",
    "The main thing that I know from my experience of teaching [this class](https://youtube.com/playlist?list=PLXsmhnDvpjORzPelSDs0LSDrfJcqyLlZc) many times to many students from different departments is that linear algebra is the sticking point, and it is a thing that we never get enough of.\n",
    "\n",
    "-- Dr. Constantine Caramanis\n",
    "```\n",
    "\n",
    "Понимание операций над векторами, матрицами является необходимым, поскольку основными смысловыми единицами в моделировании могут выступать величины, представляющие собой векторы (как, например, *компонентный состав* в PVT-моделировании, *скорость течения* в гидродинамике или *вектор напряжения* в геомеханике). В данном разделе собрана основная вспомогательная информация об основах линейной алгебры. Данный раздел не претендует на полноценный курс о линейной алгебре, а является кратким изложением избранных понятий, свойств и теорем, необходимых для дальнейшего изучения основ моделирования пластовых систем.\n",
    "\n",
    "В данном разделе будут использоваться стандартные библиотеки [*numpy*](https://numpy.org) для проведения операций над векторами и матрицами, а также [*matplotlib*](https://matplotlib.org) для построения графиков и отображения информации.\n",
    "\n",
    "При составлении данного раздела использовалась информация, изложенная в курсе линейной алгебры от [Khan Academy](https://www.youtube.com/playlist?list=PLFD0EB975BA0CC1E0).\n",
    "\n",
    "**Содержание:**\n",
    "* [Вектор. Координаты вектора](LAB-1-Vectors.md)\n",
    "* [Операции с векторами](LAB-2-VectorOperations.md)\n",
    "* [Направляющие косинусы](LAB-3-RotationAngles.md)\n",
    "* [Матрицы](LAB-4-Matrices.md)\n",
    "* [Определитель матрицы. Обратная матрица](LAB-5-Determinant-InverseMatrix.md)\n",
    "* [Матричные уравнения](LAB-6-MatrixEquation.md)\n",
    "* [Собственные векторы и значения матриц](LAB-7-Eigenvalues-Eigenvectors.md)\n",
    "* [Линейные преобразования](LAB-8-LinearTransformations.md)"
   ]
  }
 ],
 "metadata": {
  "jupytext": {
   "text_representation": {
    "extension": ".md",
    "format_name": "myst",
    "format_version": "3.0.1",
    "jupytext_version": "1.16.3"
   }
  },
  "kernelspec": {
   "display_name": "Python 3 (ipykernel)",
   "language": "python",
   "name": "python3"
  },
  "language_info": {
   "codemirror_mode": {
    "name": "ipython",
    "version": 3
   },
   "file_extension": ".py",
   "mimetype": "text/x-python",
   "name": "python",
   "nbconvert_exporter": "python",
   "pygments_lexer": "ipython3",
   "version": "3.12.7"
  },
  "source_map": [
   12
  ]
 },
 "nbformat": 4,
 "nbformat_minor": 5
}