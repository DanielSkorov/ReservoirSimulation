{
 "cells": [
  {
   "cell_type": "code",
   "execution_count": 1,
   "id": "f725df36",
   "metadata": {
    "tags": [
     "remove-input"
    ]
   },
   "outputs": [],
   "source": [
    "%matplotlib inline\n",
    "\n",
    "from matplotlib import pyplot as plt\n",
    "plt.rcParams.update({'figure.max_open_warning': False})\n",
    "from matplotlib import patches\n",
    "import numpy as np\n",
    "\n",
    "def plot_angle_arc(axis, x0, y0, theta1, theta2, rad, num=1, inc=0.1, color='k'):\n",
    "    inc *= rad\n",
    "    for r in np.linspace(rad, rad + (num - 1) * inc, num):\n",
    "        axis.add_patch(patches.Arc((x0, y0), width=r, height=r, theta1=theta1, theta2=theta2, color=color))\n",
    "    pass"
   ]
  },
  {
   "cell_type": "markdown",
   "id": "42a65c13",
   "metadata": {},
   "source": [
    "(math-lab-rotationangles)=\n",
    "# Направляющие косинусы\n",
    "\n",
    "Рассмотрим вектор $\\mathbf{v} = \\left(3, \\, 4 \\right)$, заданный своими координатами в базисе $\\left( \\mathbf{i}, \\, \\mathbf{j} \\right)$."
   ]
  },
  {
   "cell_type": "code",
   "execution_count": 2,
   "id": "c3d64fd3",
   "metadata": {
    "tags": [
     "remove-input"
    ]
   },
   "outputs": [
    {
     "data": {
      "image/png": "[encoded data removed]",
      "text/plain": [
       "<Figure size 600x400 with 1 Axes>"
      ]
     },
     "metadata": {},
     "output_type": "display_data"
    }
   ],
   "source": [
    "fig, ax = plt.subplots(figsize=(6, 4))\n",
    "fig.canvas.header_visible = False\n",
    "\n",
    "x0 = y0 = [0., 0., 0., 0.]\n",
    "\n",
    "U = [[1., 0., 3., 0.6]]\n",
    "V = [[0., 1., 4., 0.8]]\n",
    "\n",
    "ax.plot([0., 3.], [0., 0.], lw=1.5, c='r', zorder=1)\n",
    "ax.plot([3., 3.], [0., 4.], lw=1., c='r', ls='--', zorder=1)\n",
    "ax.plot([0., 0.], [0., 4.], lw=1.5, c='r', zorder=1)\n",
    "ax.plot([0., 3.], [4., 4.], lw=1., c='r', ls='--', zorder=1)\n",
    "ax.quiver(x0, y0, U, V, scale=1, angles='xy', scale_units='xy', color=['k', 'k', 'r', 'y'], zorder=2)\n",
    "\n",
    "plot_angle_arc(ax, 0., 0., 0., np.rad2deg(np.arctan(4./3.)), 1., 1, color='b')\n",
    "plot_angle_arc(ax, 0., 0., np.rad2deg(np.arctan(4./3.)), 90., 1., 2, color='g')\n",
    "\n",
    "ax.text(1., -0.35, r'$\\mathbf{i}$')\n",
    "ax.text(-0.2, 1., r'$\\mathbf{j}$')\n",
    "ax.text(3., 4., r'$\\mathbf{v}$', c='r')\n",
    "ax.text(2., -0.35, '$v_x$')\n",
    "ax.text(-0.35, 2., '$v_y$')\n",
    "ax.text(0.5, 0.2, r'$\\alpha$', c='b')\n",
    "ax.text(0.15, 0.65, r'$\\beta$', c='g')\n",
    "ax.text(0.6, 0.62, r'$\\mathbf{u}$', c='y')\n",
    "\n",
    "ax.set_xlim(-1., 5.)\n",
    "ax.set_ylim(-1., 5.)\n",
    "ax.set_axisbelow(True)\n",
    "ax.grid()\n",
    "ax.set_xlabel('X')\n",
    "ax.set_ylabel('Y')\n",
    "\n",
    "fig.tight_layout()"
   ]
  },
  {
   "cell_type": "markdown",
   "id": "cf5d9880",
   "metadata": {},
   "source": [
    "Проекцией вектора на координатную ось является его координата."
   ]
  },
  {
   "cell_type": "code",
   "execution_count": 3,
   "id": "8eb40720",
   "metadata": {},
   "outputs": [],
   "source": [
    "v = np.array([3, 4])\n",
    "v_x = 3\n",
    "v_y = 4"
   ]
  },
  {
   "cell_type": "markdown",
   "id": "e0794486",
   "metadata": {},
   "source": [
    "Длина вектора $\\mathbf{v}$:"
   ]
  },
  {
   "cell_type": "code",
   "execution_count": 4,
   "id": "270e586b",
   "metadata": {},
   "outputs": [
    {
     "data": {
      "text/plain": [
       "np.float64(5.0)"
      ]
     },
     "execution_count": 4,
     "metadata": {},
     "output_type": "execute_result"
    }
   ],
   "source": [
    "mod_v = np.linalg.norm(v)\n",
    "mod_v"
   ]
  },
  {
   "cell_type": "markdown",
   "id": "ba046740",
   "metadata": {},
   "source": [
    "Обозначим через $\\alpha$ угол между вектором $\\mathbf{v}$ и положительным направлением оси $Ox$ (вектором $\\mathbf{i}$). Тогда косинус этого угла:\n",
    "\n",
    "$$ \\cos \\alpha = \\frac{v_x}{\\left| \\mathbf{v} \\right|}. $$"
   ]
  },
  {
   "cell_type": "code",
   "execution_count": 5,
   "id": "3a5f1b3b",
   "metadata": {},
   "outputs": [
    {
     "data": {
      "text/plain": [
       "np.float64(0.6)"
      ]
     },
     "execution_count": 5,
     "metadata": {},
     "output_type": "execute_result"
    }
   ],
   "source": [
    "cos_alpha = v_x / mod_v\n",
    "cos_alpha"
   ]
  },
  {
   "cell_type": "markdown",
   "id": "777779af",
   "metadata": {},
   "source": [
    "Аналогично для угла $\\beta$:\n",
    "\n",
    "$$ \\cos \\beta = \\frac{v_y}{\\left| \\mathbf{v} \\right|}. $$"
   ]
  },
  {
   "cell_type": "code",
   "execution_count": 6,
   "id": "ee2ce613",
   "metadata": {},
   "outputs": [
    {
     "data": {
      "text/plain": [
       "np.float64(0.8)"
      ]
     },
     "execution_count": 6,
     "metadata": {},
     "output_type": "execute_result"
    }
   ],
   "source": [
    "cos_beta = v_y / mod_v\n",
    "cos_beta"
   ]
  },
  {
   "cell_type": "markdown",
   "id": "7de5fa09",
   "metadata": {},
   "source": [
    "Косинусы $\\cos \\alpha$ и $\\cos \\beta$ называются ***направляющими косинусами***. Причем, для любого ненулевого вектора справедливо равенство:\n",
    "\n",
    "$$ \\cos^2 \\alpha + \\cos^2 \\beta = 1. $$"
   ]
  },
  {
   "cell_type": "code",
   "execution_count": 7,
   "id": "a48518fa",
   "metadata": {},
   "outputs": [
    {
     "data": {
      "text/plain": [
       "np.float64(1.0)"
      ]
     },
     "execution_count": 7,
     "metadata": {},
     "output_type": "execute_result"
    }
   ],
   "source": [
    "cos_alpha**2 + cos_beta**2"
   ]
  },
  {
   "cell_type": "markdown",
   "id": "c6b2686b",
   "metadata": {},
   "source": [
    "Данное свойство характерно и для трехмерного пространства.\n",
    "\n",
    "Таким образом, вектор $\\mathbf{u}$, координатами которого являются направляющие косинусы вектора $\\mathbf{v}$, сонаправлен с ним. При этом, длина такого вектора $\\mathbf{u}$ равна 1."
   ]
  }
 ],
 "metadata": {
  "jupytext": {
   "text_representation": {
    "extension": ".md",
    "format_name": "myst",
    "format_version": "3.0.1",
    "jupytext_version": "1.16.3"
   }
  },
  "kernelspec": {
   "display_name": "Python 3 (ipykernel)",
   "language": "python",
   "name": "python3"
  },
  "language_info": {
   "codemirror_mode": {
    "name": "ipython",
    "version": 3
   },
   "file_extension": ".py",
   "mimetype": "text/x-python",
   "name": "python",
   "nbconvert_exporter": "python",
   "pygments_lexer": "ipython3",
   "version": "3.12.7"
  },
  "source_map": [
   14,
   30,
   37,
   74,
   78,
   82,
   86,
   89,
   95,
   98,
   104,
   107,
   113,
   115
  ]
 },
 "nbformat": 4,
 "nbformat_minor": 5
}