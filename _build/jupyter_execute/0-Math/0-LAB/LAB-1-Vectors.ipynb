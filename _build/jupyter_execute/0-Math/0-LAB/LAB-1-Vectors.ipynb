{
 "cells": [
  {
   "cell_type": "code",
   "execution_count": 1,
   "id": "94765cfc",
   "metadata": {
    "tags": [
     "remove-input"
    ]
   },
   "outputs": [],
   "source": [
    "%matplotlib inline\n",
    "\n",
    "from matplotlib import pyplot as plt\n",
    "plt.rcParams.update({'figure.max_open_warning': False})"
   ]
  },
  {
   "cell_type": "markdown",
   "id": "f0f3ca15",
   "metadata": {},
   "source": [
    "(math-lab-vector)=\n",
    "# Вектор. Координаты вектора\n",
    "В рамках линейной алгебры под ***вектором*** понимается упорядоченный набор чисел:\n",
    "\n",
    "$$ \\mathbf{v} = \\left( v_1, \\, v_2, \\, v_3, \\, \\ldots, \\, v_n \\right), $$\n",
    "\n",
    "записанных в виде строки или столбца. Иными словами,\n",
    "\n",
    "```{admonition} Определение\n",
    ":class: tip\n",
    "***Вектор*** – это элемент [векторного простраства](https://en.wikipedia.org/wiki/Vector_space) (со свойственными ему аксиомами), который в частности может представлять собой упорядоченную строку или столбец действительных (вещественных) чисел.\n",
    "```\n",
    "\n",
    "Для обозначения векторов здесь и далее будут использоваться малые латинские буквы, выделенные жирным, например, $\\mathbf{v}$. Например, следующая запись\n",
    "\n",
    "$$ \\exists ~ \\mathbf{v} \\in {\\rm I\\!R}^n $$\n",
    "\n",
    "читается следующим образом: *существует* $\\left( \\exists \\right)$ *вектор* $\\left( \\mathbf{v} \\right)$ *, принадлежащий пространству действительных чисел* $\\left( {\\rm I\\!R} \\right)$, *размерностью* $n$. Эта запись эквивалентна представленной выше.\n",
    "\n",
    "Одной из интерпретаций векторов является геометрическая. Согласно ей, вектор представляет собой направленный отрезок, элементами которого являются координаты в некотором заданном базисе. Так, например, вектор, состоящий из двух действительных чисел:\n",
    "\n",
    "$$ \\mathbf{v} = \\left( v_1, \\, v_2 \\right) $$\n",
    "\n",
    "понимается, как упорядоченная пара чисел, которую можно интерпретировать, как координаты геометрического вектора:\n",
    "\n",
    "$$ \\mathbf{v} = v_1 \\cdot \\mathbf{i} + v_2 \\cdot \\mathbf{j}, $$\n",
    "\n",
    "где $\\mathbf{i}$ и $\\mathbf{j}$ – единичные векторы базиса $\\left( \\mathbf{i}, \\, \\mathbf{j} \\right)$. Данная запись соответвует разложению вектора по заданному базису. При этом, такое разложение единственно.\n",
    "\n",
    "Рассмотрим вектор:\n",
    "\n",
    "$$ \\mathbf{v} = \\left( 3, \\, 4 \\right). $$\n",
    "\n",
    "Его можно разложить на единичные векторы базиса $\\left( \\mathbf{i}, \\, \\mathbf{j} \\right)$ следующим образом:\n",
    "\n",
    "$$ \\mathbf{v} = 3 \\cdot \\mathbf{i} + 4 \\cdot \\mathbf{j}. $$"
   ]
  },
  {
   "cell_type": "code",
   "execution_count": 2,
   "id": "cfe37612",
   "metadata": {
    "tags": [
     "remove-input"
    ]
   },
   "outputs": [
    {
     "data": {
      "image/png": "[encoded data removed]",
      "text/plain": [
       "<Figure size 600x400 with 1 Axes>"
      ]
     },
     "metadata": {},
     "output_type": "display_data"
    }
   ],
   "source": [
    "fig, ax = plt.subplots(figsize=(6, 4))\n",
    "fig.canvas.header_visible = False\n",
    "\n",
    "x0 = y0 = [0., 0., 0.]\n",
    "\n",
    "U = [[1., 0., 3.]]\n",
    "V = [[0., 1., 4.]]\n",
    "\n",
    "ax.quiver(x0, y0, U, V, scale=1, angles='xy', scale_units='xy', color=['k', 'k', 'r'])\n",
    "\n",
    "ax.text(1., 0., r'$\\mathbf{i}$')\n",
    "ax.text(0., 1., r'$\\mathbf{j}$')\n",
    "ax.text(3., 4., r'$\\mathbf{v}$')\n",
    "\n",
    "ax.set_xlim(-1., 5.)\n",
    "ax.set_ylim(-1., 5.)\n",
    "ax.set_axisbelow(True)\n",
    "ax.grid()\n",
    "ax.set_xlabel('X')\n",
    "ax.set_ylabel('Y')\n",
    "\n",
    "fig.tight_layout()"
   ]
  }
 ],
 "metadata": {
  "jupytext": {
   "text_representation": {
    "extension": ".md",
    "format_name": "myst",
    "format_version": "3.0.1",
    "jupytext_version": "1.16.3"
   }
  },
  "kernelspec": {
   "display_name": "Python 3 (ipykernel)",
   "language": "python",
   "name": "python3"
  },
  "language_info": {
   "codemirror_mode": {
    "name": "ipython",
    "version": 3
   },
   "file_extension": ".py",
   "mimetype": "text/x-python",
   "name": "python",
   "nbconvert_exporter": "python",
   "pygments_lexer": "ipython3",
   "version": "3.12.7"
  },
  "source_map": [
   14,
   21,
   60
  ]
 },
 "nbformat": 4,
 "nbformat_minor": 5
}