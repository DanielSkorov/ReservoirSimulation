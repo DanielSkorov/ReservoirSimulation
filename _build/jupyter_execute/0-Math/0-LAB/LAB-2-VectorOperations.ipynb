{
 "cells": [
  {
   "cell_type": "code",
   "execution_count": 1,
   "id": "f5caf1c2",
   "metadata": {
    "tags": [
     "remove-input"
    ]
   },
   "outputs": [],
   "source": [
    "%matplotlib inline\n",
    "\n",
    "from matplotlib import pyplot as plt\n",
    "plt.rcParams.update({'figure.max_open_warning': False})\n",
    "\n",
    "import numpy as np"
   ]
  },
  {
   "cell_type": "markdown",
   "id": "f57d14c2",
   "metadata": {},
   "source": [
    "(math-lab-vectoroperations)=\n",
    "# Операции с векторами\n",
    "Операции с векторами представляют собой комплекс алгебраических манипуляций, направленных на преобразование векторов.\n",
    "\n",
    "(math-lab-vectoroperations-addition)=\n",
    "## Сложение векторов\n",
    "\n",
    "```{admonition} Определение\n",
    ":class: tip\n",
    "Под ***сложением*** векторов понимают вычисление элементов нового вектора $\\mathbf{c}$, удовлетворяющих условию:\n",
    "\n",
    "$$ \\mathbf{c} = \\mathbf{a} + \\mathbf{b}. $$\n",
    "\n",
    "```\n",
    "\n",
    "При сложении векторов чаще всего оперируют правилом треугольника.\n",
    "\n",
    "Рассмотрим пример:\n",
    "\n",
    "$$ \\left\\{ \\begin{array} \\\\ \\mathbf{a} + \\mathbf{b} = \\mathbf{c} \\\\ \\mathbf{a} = (2, 1) \\\\ \\mathbf{b} = (1, 3) \\end{array} \\right. $$"
   ]
  },
  {
   "cell_type": "code",
   "execution_count": 2,
   "id": "c342f02f",
   "metadata": {
    "tags": [
     "remove-input"
    ]
   },
   "outputs": [
    {
     "data": {
      "image/png": "[encoded data removed]",
      "text/plain": [
       "<Figure size 600x400 with 1 Axes>"
      ]
     },
     "metadata": {},
     "output_type": "display_data"
    }
   ],
   "source": [
    "fig, ax = plt.subplots(figsize=(6, 4))\n",
    "fig.canvas.header_visible = False\n",
    "\n",
    "x0 = [0., 2., 0.]\n",
    "y0 = [0., 1., 0.]\n",
    "\n",
    "U = [[2., 1., 3.]]\n",
    "V = [[1., 3., 4.]]\n",
    "\n",
    "ax.quiver(x0, y0, U, V, scale=1, angles='xy', scale_units='xy', color=['k', 'k', 'r'])\n",
    "\n",
    "ax.text(1., 0., r'$\\mathbf{a}$')\n",
    "ax.text(2.5, 2., r'$\\mathbf{b}$')\n",
    "ax.text(1., 2., r'$\\mathbf{c}$')\n",
    "\n",
    "ax.set_xlim(-1., 5.)\n",
    "ax.set_ylim(-1., 5.)\n",
    "ax.set_axisbelow(True)\n",
    "ax.grid()\n",
    "ax.set_xlabel('X')\n",
    "ax.set_ylabel('Y')\n",
    "\n",
    "fig.tight_layout()"
   ]
  },
  {
   "cell_type": "markdown",
   "id": "a3e75170",
   "metadata": {},
   "source": [
    "$$ \\mathbf{c} = \\left( 3, \\, 4 \\right). $$\n",
    "\n",
    "Таким образом, чтобы найти координаты вектора, равного сумме других векторов, необходимо поэлементно сложить составляющие векторов. Это можно сделать с использованием *[numpy](https://numpy.org/)*:"
   ]
  },
  {
   "cell_type": "code",
   "execution_count": 3,
   "id": "6f515fb8",
   "metadata": {},
   "outputs": [
    {
     "data": {
      "text/plain": [
       "array([3, 4])"
      ]
     },
     "execution_count": 3,
     "metadata": {},
     "output_type": "execute_result"
    }
   ],
   "source": [
    "a = np.array([2, 1])\n",
    "b = np.array([1, 3])\n",
    "c = a + b\n",
    "c"
   ]
  },
  {
   "cell_type": "markdown",
   "id": "a582f589",
   "metadata": {},
   "source": [
    "(math-lab-vectoroperations-length)=\n",
    "## Нахождение длины вектора\n",
    "\n",
    "```{admonition} Определение\n",
    ":class: tip\n",
    "Под ***длиной вектора*** $\\mathbf{a}$ понимается его числовое значение, равное расстоянию между его началом и концом. Длина вектора обозначается следующим образом: $\\lVert \\mathbf{a} \\rVert_2$. Математически длина вектора вычисляется по следующему выражению:\n",
    "\n",
    "$$ \\lVert \\mathbf{a} \\rVert_2 =\\sqrt{\\sum_{i=1}^{n} a_i^2}, $$\n",
    "\n",
    "где $n$ – количество элементов в векторе (размерность векторного пространства).\n",
    "```\n",
    "\n",
    "Например, найдем длину вектора $\\mathbf{a} = \\left( 3, \\, 4 \\right)$."
   ]
  },
  {
   "cell_type": "code",
   "execution_count": 4,
   "id": "07be055e",
   "metadata": {},
   "outputs": [
    {
     "data": {
      "text/plain": [
       "np.float64(5.0)"
      ]
     },
     "execution_count": 4,
     "metadata": {},
     "output_type": "execute_result"
    }
   ],
   "source": [
    "a = np.array([3, 4])\n",
    "np.sqrt(a[0]**2 + a[1]**2)"
   ]
  },
  {
   "cell_type": "markdown",
   "id": "5db8e53f",
   "metadata": {},
   "source": [
    "Эту же операцию можно осуществить с использованием специального метода библиотеки *[numpy](https://numpy.org/)*."
   ]
  },
  {
   "cell_type": "code",
   "execution_count": 5,
   "id": "232d28d8",
   "metadata": {},
   "outputs": [
    {
     "data": {
      "text/plain": [
       "np.float64(5.0)"
      ]
     },
     "execution_count": 5,
     "metadata": {},
     "output_type": "execute_result"
    }
   ],
   "source": [
    "np.linalg.norm([3, 4])"
   ]
  },
  {
   "cell_type": "markdown",
   "id": "0f9deb37",
   "metadata": {},
   "source": [
    "```{admonition} Определение\n",
    ":class: tip\n",
    "***Нулевым вектором*** называется вектор, длина которого равна нулю.\n",
    "```"
   ]
  },
  {
   "cell_type": "code",
   "execution_count": 6,
   "id": "f4eff90b",
   "metadata": {},
   "outputs": [
    {
     "data": {
      "text/plain": [
       "np.float64(0.0)"
      ]
     },
     "execution_count": 6,
     "metadata": {},
     "output_type": "execute_result"
    }
   ],
   "source": [
    "a = np.array([0, 0])\n",
    "np.linalg.norm(a)"
   ]
  },
  {
   "cell_type": "markdown",
   "id": "87456fbf",
   "metadata": {},
   "source": [
    "(math-lab-vectoroperations-collinearity)=\n",
    "## Коллинеарные векторы\n",
    "\n",
    "```{admonition} Определение\n",
    ":class: tip\n",
    "Два вектора называются ***коллинеарными***, если они лежат на одной прямой или на параллельных прямых.\n",
    "```"
   ]
  },
  {
   "cell_type": "code",
   "execution_count": 7,
   "id": "63a438bb",
   "metadata": {
    "tags": [
     "remove-input"
    ]
   },
   "outputs": [
    {
     "data": {
      "image/png": "[encoded data removed]",
      "text/plain": [
       "<Figure size 600x400 with 1 Axes>"
      ]
     },
     "metadata": {},
     "output_type": "display_data"
    }
   ],
   "source": [
    "fig, ax = plt.subplots(figsize=(6, 4))\n",
    "fig.canvas.header_visible = False\n",
    "\n",
    "x0 = [0., 2., 4., 0., 5.]\n",
    "y0 = [0., 4., 3., 4., 7.]\n",
    "\n",
    "U = [[1., 2., -1., 1., -1.]]\n",
    "V = [[2., 4., -2., 3., -3.]]\n",
    "\n",
    "ax.quiver(x0, y0, U, V, scale=1, angles='xy', scale_units='xy', color=['g', 'g', 'g', 'r', 'r'])\n",
    "\n",
    "ax.text(0., 1., r'$\\mathbf{a}$')\n",
    "ax.text(3., 2., r'$\\mathbf{b}$')\n",
    "ax.text(3., 7., r'$\\mathbf{c}$')\n",
    "ax.text(0., 6., r'$\\mathbf{d}$')\n",
    "ax.text(4., 5., r'$\\mathbf{e}$')\n",
    "\n",
    "ax.set_xlim(-1., 6.)\n",
    "ax.set_ylim(-1., 8.)\n",
    "ax.set_axisbelow(True)\n",
    "ax.grid()\n",
    "ax.set_xlabel('X')\n",
    "ax.set_ylabel('Y')\n",
    "\n",
    "fig.tight_layout()"
   ]
  },
  {
   "cell_type": "markdown",
   "id": "5f372674",
   "metadata": {},
   "source": [
    "В данном случае коллинеарными являются векторы: $\\mathbf{a} \\; || \\; \\mathbf{b} \\; || \\; \\mathbf{c}$ и $\\mathbf{d} \\; || \\; \\mathbf{e}$. При этом, векторы $\\mathbf{a} \\uparrow \\uparrow \\mathbf{c}$ – сонаправлены, а $\\mathbf{d} \\uparrow \\downarrow \\mathbf{e}$ – противоположно направлены. Если два вектора коллинеарны, то они являются ***линейно зависимыми***.\n",
    "\n",
    "(math-lab-vectoroperations-dotnumber)=\n",
    "## Произведение вектора на число\n",
    "\n",
    "```{admonition} Определение\n",
    ":class: tip\n",
    "***Произведением ненулевого вектора $\\mathbf{a}$ на число $\\lambda$*** является такой вектор $\\mathbf{b}$, длина которого равна $\\left| \\lambda \\right| \\cdot \\lVert \\mathbf{a} \\rVert_2$, причем векторы $\\mathbf{a}$ и $\\mathbf{b}$ сонаправлены, если $\\lambda>0$, и противоположно направлены, если $\\lambda<0$.\n",
    "```\n",
    "\n",
    "```{admonition} NB\n",
    ":class: note\n",
    "В дальнейшем в рамках данного пособия следующие обозначения произведения вектора на число эквивалентны:\n",
    "\n",
    "$$ \\lambda \\cdot \\mathbf{a} = \\lambda \\mathbf{a}. $$\n",
    "\n",
    "```\n",
    "\n",
    "Рассмотрим пример. Допустим, имеется вектор $\\mathbf{a} = \\left( 3, \\, 4 \\right)$. Необходимо найти векторы $\\mathbf{b} = 2 \\cdot \\mathbf{a}$ и $\\mathbf{c} = -1 \\cdot \\mathbf{a}$."
   ]
  },
  {
   "cell_type": "code",
   "execution_count": 8,
   "id": "10d1962a",
   "metadata": {},
   "outputs": [
    {
     "data": {
      "text/plain": [
       "(array([6, 8]), array([-3, -4]))"
      ]
     },
     "execution_count": 8,
     "metadata": {},
     "output_type": "execute_result"
    }
   ],
   "source": [
    "a = np.array([3, 4])\n",
    "b = 2 * a\n",
    "c = -1 * a\n",
    "b, c"
   ]
  },
  {
   "cell_type": "markdown",
   "id": "ff6c5489",
   "metadata": {},
   "source": [
    "Геометрически произведение вектора на скаляр можно отобразить следующим образом."
   ]
  },
  {
   "cell_type": "code",
   "execution_count": 9,
   "id": "51fde538",
   "metadata": {
    "tags": [
     "remove-input"
    ]
   },
   "outputs": [
    {
     "data": {
      "image/png": "[encoded data removed]",
      "text/plain": [
       "<Figure size 600x400 with 1 Axes>"
      ]
     },
     "metadata": {},
     "output_type": "display_data"
    }
   ],
   "source": [
    "fig, ax = plt.subplots(figsize=(6, 4))\n",
    "fig.canvas.header_visible = False\n",
    "\n",
    "x0 = y0 = [0., 0., 0.]\n",
    "\n",
    "U = [[3., 6., -3.]]\n",
    "V = [[4., 8., -4.]]\n",
    "\n",
    "ax.quiver(x0, y0, U, V, scale=1, angles='xy', scale_units='xy', color=['k', 'g', 'r'], linewidths=[3, 0.5, 0.5], edgecolors=['k', 'g', 'r'])\n",
    "\n",
    "ax.text(2., 1., r'$\\mathbf{a}$', c='k')\n",
    "ax.text(4., 6., r'$\\mathbf{b}$', c='g')\n",
    "ax.text(-2., -2., r'$\\mathbf{c}$', c='r')\n",
    "\n",
    "ax.set_xlim(-4., 7.)\n",
    "ax.set_ylim(-5., 9.)\n",
    "ax.set_xticks(np.linspace(-4., 7., 12))\n",
    "ax.set_yticks(np.linspace(-5., 9., 15))\n",
    "ax.set_axisbelow(True)\n",
    "ax.grid()\n",
    "ax.set_xlabel('X')\n",
    "ax.set_ylabel('Y')\n",
    "\n",
    "fig.tight_layout()"
   ]
  },
  {
   "cell_type": "markdown",
   "id": "02a2581d",
   "metadata": {},
   "source": [
    "(math-lab-vectoroperations-innerproduct)=\n",
    "## Скалярное произведение векторов\n",
    "\n",
    "```{admonition} Определение\n",
    ":class: tip\n",
    "***Скалярным произведением двух векторов*** $\\mathbf{a}$ и $\\mathbf{b}$ называется число, равное произведению длин этих векторов на косинус угла между ними:\n",
    "\n",
    "$$ \\mathbf{a}^\\top \\mathbf{b} = \\lVert \\mathbf{a} \\rVert_2 \\cdot \\lVert \\mathbf{b} \\rVert_2 \\cdot \\cos \\alpha. $$\n",
    "\n",
    "```\n",
    "\n",
    "Необходимо отметить, что скалярное произведение (*dot product* или *inner product*) может обозначаться несколькими способами:\n",
    "* с использованием символа $\\cdot$, например, следующим образом:\n",
    "\n",
    "$$ \\mathbf{a} \\cdot \\mathbf{b},$$\n",
    "\n",
    "* с использованием $\\langle$ и $\\rangle$:\n",
    "\n",
    "$$ \\langle \\mathbf{a} , \\, \\mathbf{b} \\rangle,$$\n",
    "\n",
    "* с использованием транспонирования первого вектора (преобразования его из вектора-столбца в вектор-строку), если оба вектора являются векторами-столбцами:\n",
    "\n",
    "$$ \\mathbf{a}^\\top \\mathbf{b},$$\n",
    "\n",
    "* с использованием поэлементного обозначения:\n",
    "\n",
    "$$ \\sum_{i} a_i b_i, $$\n",
    "\n",
    "где $a_i$ и $b_i$ – $i$-ые элементы векторов $\\mathbf{a}$ и $\\mathbf{b}$ соответственно.\n",
    "\n",
    "```{admonition} NB\n",
    ":class: note\n",
    "В дальнейшем в рамках данного пособия для обозначения скалярного произведения векторов будут использоваться третий $\\mathbf{a}^\\top \\mathbf{b}$ и четвертый $\\sum_{i} a_i b_i$ способы, а выражение $\\mathbf{a} \\cdot \\mathbf{b}$ или $\\mathbf{a} \\mathbf{b}$ будет использоваться для *поэлементного произведения двух векторов*, принадлежащих пространству с одинаковой размерностью, в результате которого получается вектор:\n",
    "\n",
    "$$ \\mathbf{a} \\cdot \\mathbf{b} = \\mathbf{a} \\mathbf{b} = \\mathbf{c} \\, : \\, c_i = a_i b_i, \\, i = 1 \\, \\ldots \\, n .$$\n",
    "\n",
    "```\n",
    "\n",
    "Рассмотрим следущий пример: необходимо найти скалярное произведение двух векторов $\\mathbf{a} = \\left( 1, \\, 2 \\right)$ и $\\mathbf{b} = \\left( 4, \\, 2 \\right)$."
   ]
  },
  {
   "cell_type": "code",
   "execution_count": 10,
   "id": "a228d2eb",
   "metadata": {},
   "outputs": [
    {
     "data": {
      "text/plain": [
       "(np.float64(2.23606797749979), np.float64(4.47213595499958))"
      ]
     },
     "execution_count": 10,
     "metadata": {},
     "output_type": "execute_result"
    }
   ],
   "source": [
    "a = np.array([1, 2])\n",
    "b = np.array([4, 2])\n",
    "mod_a = np.linalg.norm(a)\n",
    "mod_b = np.linalg.norm(b)\n",
    "mod_a, mod_b"
   ]
  },
  {
   "cell_type": "code",
   "execution_count": 11,
   "id": "66e8e2fa",
   "metadata": {
    "tags": [
     "remove-input"
    ]
   },
   "outputs": [
    {
     "data": {
      "image/png": "[encoded data removed]",
      "text/plain": [
       "<Figure size 600x400 with 1 Axes>"
      ]
     },
     "metadata": {},
     "output_type": "display_data"
    }
   ],
   "source": [
    "fig, ax = plt.subplots(figsize=(6, 4))\n",
    "fig.canvas.header_visible = False\n",
    "\n",
    "x0 = [0., 0., 1., 0., 4.]\n",
    "y0 = [0., 0., 2., 0., 2.]\n",
    "\n",
    "U = [[1., 4., 3., 3., -1.]]\n",
    "V = [[2., 2., 0., 0., -2.]]\n",
    "\n",
    "ax.quiver(x0, y0, U, V, scale=1, angles='xy', scale_units='xy', color=['k', 'g', 'r', 'r', 'k'])\n",
    "\n",
    "ax.text(0.2, 1., r'$\\mathbf{a}$', c='k')\n",
    "ax.text(2., 0.5, r'$\\mathbf{b}$', c='g')\n",
    "ax.text(2., 2.2, r'$\\mathbf{c}$', c='r')\n",
    "ax.text(1., -0.5, r'$\\mathbf{c}$', c='r')\n",
    "ax.text(3.7, 1., r'-$\\mathbf{a}$', c='k')\n",
    "\n",
    "ax.set_xlim(-1., 5.)\n",
    "ax.set_ylim(-1., 5.)\n",
    "ax.set_axisbelow(True)\n",
    "ax.grid()\n",
    "ax.set_xlabel('X')\n",
    "ax.set_ylabel('Y')\n",
    "\n",
    "fig.tight_layout()"
   ]
  },
  {
   "cell_type": "code",
   "execution_count": 12,
   "id": "5db85654",
   "metadata": {},
   "outputs": [
    {
     "data": {
      "text/plain": [
       "(array([3, 0]), np.float64(3.0))"
      ]
     },
     "execution_count": 12,
     "metadata": {},
     "output_type": "execute_result"
    }
   ],
   "source": [
    "c = b - a\n",
    "mod_c = np.linalg.norm(c)\n",
    "c, mod_c"
   ]
  },
  {
   "cell_type": "markdown",
   "id": "eac56dfa",
   "metadata": {},
   "source": [
    "Угол $\\alpha$ между векторами $\\mathbf{a}$ и $\\mathbf{b}$ можно определить по теореме косинусов:\n",
    "\n",
    "$$ \\lVert \\mathbf{c} \\rVert_2^2 = \\lVert \\mathbf{a} \\rVert_2^2 + \\lVert \\mathbf{b} \\rVert_2^2 - 2 \\cdot \\lVert \\mathbf{a} \\rVert_2 \\cdot \\lVert \\mathbf{b} \\rVert_2 \\cdot \\cos \\alpha. $$"
   ]
  },
  {
   "cell_type": "code",
   "execution_count": 13,
   "id": "7d857294",
   "metadata": {},
   "outputs": [
    {
     "data": {
      "text/plain": [
       "np.float64(0.8)"
      ]
     },
     "execution_count": 13,
     "metadata": {},
     "output_type": "execute_result"
    }
   ],
   "source": [
    "cos_alpha = (mod_a**2 + mod_b**2 - mod_c**2) / (2. * mod_a * mod_b)\n",
    "cos_alpha"
   ]
  },
  {
   "cell_type": "markdown",
   "id": "8ef1fdd1",
   "metadata": {},
   "source": [
    "Тогда скалярное произведение векторов $\\mathbf{a}$ и $\\mathbf{b}$:"
   ]
  },
  {
   "cell_type": "code",
   "execution_count": 14,
   "id": "5f7bfa68",
   "metadata": {},
   "outputs": [
    {
     "data": {
      "text/plain": [
       "np.float64(8.000000000000002)"
      ]
     },
     "execution_count": 14,
     "metadata": {},
     "output_type": "execute_result"
    }
   ],
   "source": [
    "mod_a * mod_b * cos_alpha"
   ]
  },
  {
   "cell_type": "markdown",
   "id": "60288491",
   "metadata": {},
   "source": [
    "Однако, зная координаты векторов, скалярное произведение можно найти путем сложения попарных произведений соответствующих координат:\n",
    "\n",
    "$$ \\mathbf{a}^\\top \\mathbf{b} = a_1 \\cdot b_1 + a_2 \\cdot b_2 + \\ldots + a_n \\cdot b_n. $$"
   ]
  },
  {
   "cell_type": "code",
   "execution_count": 15,
   "id": "ea806343",
   "metadata": {},
   "outputs": [
    {
     "data": {
      "text/plain": [
       "np.int64(8)"
      ]
     },
     "execution_count": 15,
     "metadata": {},
     "output_type": "execute_result"
    }
   ],
   "source": [
    "a.dot(b)"
   ]
  },
  {
   "cell_type": "markdown",
   "id": "abc427e2",
   "metadata": {},
   "source": [
    "Пусть вектор $\\mathbf{v}$ имеет координаты $\\left( 4, \\, 2 \\right)$. Тогда скалярные произведения вектора $\\mathbf{v}$ и векторов базиса $\\left( \\mathbf{i}, \\, \\mathbf{j} \\right)$:"
   ]
  },
  {
   "cell_type": "code",
   "execution_count": 16,
   "id": "98294da8",
   "metadata": {},
   "outputs": [
    {
     "data": {
      "text/plain": [
       "(np.int64(4), np.int64(2))"
      ]
     },
     "execution_count": 16,
     "metadata": {},
     "output_type": "execute_result"
    }
   ],
   "source": [
    "v = np.array([4, 2])\n",
    "i = np.array([1, 0])\n",
    "j = np.array([0, 1])\n",
    "v.dot(i), v.dot(j)"
   ]
  },
  {
   "cell_type": "markdown",
   "id": "a80e48d7",
   "metadata": {},
   "source": [
    "Таким образом, скалярное произведение вектора и единичного вектора, сонаправленного с определенной осью, дает значение координаты вектора на данной оси, иными словами, проекцию вектора на ось.\n",
    "\n",
    "(math-lab-vectoroperations-outerproduct)=\n",
    "## Тензорное произведение векторов\n",
    "\n",
    "Существует также и тензорное произведение (*outer product*) векторов для обозначения которого используется символ $\\otimes$. В результате тензорного произведения увеличивается размерность, то есть результатом тензорного произведения двух векторов является [матрица](LAB-4-Matrices.md):\n",
    "\n",
    "$$ \\forall ~ \\mathbf{a} \\in {\\rm I\\!R}^{n}, \\, \\mathbf{b} \\in {\\rm I\\!R}^{m} ~ \\exists ~ \\mathbf{a} \\otimes \\mathbf{b} = \\mathbf{M} ~ : ~ \\mathbf{M} \\in {\\rm I\\!R}^{n \\times m}.  $$\n",
    "\n",
    "Также необходимо отметить, что тензорное произведение двух векторов-стобцов может обозначаться следующим образом:\n",
    "\n",
    "$$ \\mathbf{a} \\mathbf{b}^\\top. $$\n",
    "\n",
    "С использованием *[numpy](https://numpy.org/)* тензорное произведение вектором может быть выполнено следующим образом:"
   ]
  },
  {
   "cell_type": "code",
   "execution_count": 17,
   "id": "d7687bc8",
   "metadata": {},
   "outputs": [
    {
     "data": {
      "text/plain": [
       "array([[0, 0, 0],\n",
       "       [1, 2, 3],\n",
       "       [2, 4, 6],\n",
       "       [3, 6, 9]])"
      ]
     },
     "execution_count": 17,
     "metadata": {},
     "output_type": "execute_result"
    }
   ],
   "source": [
    "a = np.array([0, 1, 2, 3])\n",
    "b = np.array([1, 2, 3])\n",
    "np.outer(a, b)"
   ]
  },
  {
   "cell_type": "markdown",
   "id": "2df31f2d",
   "metadata": {},
   "source": [
    "Другим способом выполнения тензорного произведения является *[broadcasting](https://numpy.org/doc/stable/user/basics.broadcasting.html)*:"
   ]
  },
  {
   "cell_type": "code",
   "execution_count": 18,
   "id": "22c59e0b",
   "metadata": {},
   "outputs": [
    {
     "data": {
      "text/plain": [
       "array([[0, 0, 0],\n",
       "       [1, 2, 3],\n",
       "       [2, 4, 6],\n",
       "       [3, 6, 9]])"
      ]
     },
     "execution_count": 18,
     "metadata": {},
     "output_type": "execute_result"
    }
   ],
   "source": [
    "a[:, np.newaxis] * b"
   ]
  }
 ],
 "metadata": {
  "jupytext": {
   "text_representation": {
    "extension": ".md",
    "format_name": "myst",
    "format_version": "3.0.1",
    "jupytext_version": "1.16.3"
   }
  },
  "kernelspec": {
   "display_name": "Python 3 (ipykernel)",
   "language": "python",
   "name": "python3"
  },
  "language_info": {
   "codemirror_mode": {
    "name": "ipython",
    "version": 3
   },
   "file_extension": ".py",
   "mimetype": "text/x-python",
   "name": "python",
   "nbconvert_exporter": "python",
   "pygments_lexer": "ipython3",
   "version": "3.12.7"
  },
  "source_map": [
   14,
   23,
   46,
   72,
   78,
   83,
   99,
   102,
   106,
   108,
   115,
   118,
   128,
   156,
   178,
   183,
   187,
   214,
   256,
   264,
   294,
   298,
   304,
   307,
   311,
   313,
   319,
   321,
   325,
   330,
   347,
   351,
   355
  ]
 },
 "nbformat": 4,
 "nbformat_minor": 5
}