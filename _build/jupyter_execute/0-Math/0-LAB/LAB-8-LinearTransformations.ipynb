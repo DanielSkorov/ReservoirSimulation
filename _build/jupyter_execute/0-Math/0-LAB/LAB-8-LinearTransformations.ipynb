{
 "cells": [
  {
   "cell_type": "code",
   "execution_count": 1,
   "id": "7d61e1d0",
   "metadata": {
    "tags": [
     "remove-input"
    ]
   },
   "outputs": [],
   "source": [
    "%matplotlib inline\n",
    "\n",
    "from matplotlib import pyplot as plt\n",
    "plt.rcParams.update({'figure.max_open_warning': False})\n",
    "\n",
    "import numpy as np"
   ]
  },
  {
   "cell_type": "markdown",
   "id": "306f9778",
   "metadata": {},
   "source": [
    "(math-lab-lineartransform)=\n",
    "# Линейные преобразования\n",
    "\n",
    "```{admonition} Определение\n",
    ":class: tip\n",
    "Пусть имеется множество [векторов](LAB-1-Vectors.md), для каждого из которых определены операции [сложения и умножения на скаляр](LAB-2-VectorOperations.md#math-lab-vectoroperations), при этом, если результаты данных операций также принадлежат данному множеству, и для каждого элемента этого множества выполняются [аксиомы векторного пространства](https://en.wikipedia.org/wiki/Vector_space), то такое множество называется ***векторным (или линейным) пространством***.\n",
    "```\n",
    "\n",
    "```{admonition} Определение\n",
    ":class: tip\n",
    "Если в некотором линейном пространстве $\\mathbf{V}$ каждому вектору $\\mathbf{v}$ по некоторому правилу $\\mathbf{T}$ поставлен в соответствие вектор $\\mathbf{u}$ этого же пространства, то говорят, что в данном пространстве задана ***функция линейного преобразования*** (*linear transformation*).\n",
    "\n",
    "$$ \\mathbf{u} = \\mathbf{T} \\left(\\mathbf{v} \\right). $$\n",
    "\n",
    "```\n",
    "\n",
    "При этом, для функции линейного преобразования должны выполняться ***свойства линейности***:\n",
    "\n",
    "$$ \\mathbf{T}\\left( a + b \\right)=\\mathbf{T} \\left( a \\right) + \\mathbf{T} \\left( b \\right) ;\\\\ \\mathbf{T} \\left( \\lambda a \\right) = \\lambda \\mathbf{T} \\left( a \\right). $$\n",
    "\n",
    "Рассмотрим пример:\n",
    "\n",
    "```{admonition} Пример\n",
    ":class: exercise\n",
    "Пусть функция преобразования определена так, что:\n",
    "\n",
    "$$ \\mathbf{T} \\left( \\begin{bmatrix} x_1 \\\\ x_2 \\end{bmatrix} \\right) = \\begin{bmatrix} x_1 + x_2 \\\\ 3x_1 \\end{bmatrix}. $$\n",
    "\n",
    "Необходимо доказать, что данное преобразование является линейным.\n",
    "```\n",
    "\n",
    "````{dropdown} Решение\n",
    "Рассмотрим два вектора $\\mathbf{a} = \\begin{bmatrix} a_1 \\\\ a_2 \\end{bmatrix}$ и $\\mathbf{b} = \\begin{bmatrix} b_1 \\\\ b_2 \\end{bmatrix}.$ Их сумма:\n",
    "\n",
    "$$ \\mathbf{a} + \\mathbf{b} = \\begin{bmatrix} a_1 + b_1 \\\\ a_2 + b_2 \\end{bmatrix}. $$\n",
    "\n",
    "Тогда:\n",
    "\n",
    "$$ \\mathbf{T} \\left( \\mathbf{a} + \\mathbf{b} \\right) = \\mathbf{T} \\left( \\begin{bmatrix} a_1 + b_1 \\\\ a_2 + b_2 \\end{bmatrix} \\right) = \\begin{bmatrix} a_1 + b_1 + a_2 + b_2 \\\\ 3a_1 + 3b_2 \\end{bmatrix}.$$\n",
    "\n",
    "Линейное преобразование вектора $\\mathbf{a}$:\n",
    "\n",
    "$$ \\mathbf{T} \\left( \\mathbf{a} \\right)= \\mathbf{T} \\left( \\begin{bmatrix} a_1 \\\\ a_2 \\end{bmatrix} \\right) = \\begin{bmatrix} a_1 + a_2 \\\\ 3a_1 \\end{bmatrix}. $$\n",
    "\n",
    "Линейное преобразование вектора $\\mathbf{b}$:\n",
    "\n",
    "$$ \\mathbf{T} \\left( \\mathbf{b} \\right) = \\mathbf{T} \\left( \\begin{bmatrix} b_1 \\\\ b_2 \\end{bmatrix} \\right) = \\begin{bmatrix} b_1 + b_2 \\\\ 3b_1 \\end{bmatrix}. \\\\ \\mathbf{T} \\left( \\mathbf{a} \\right) + \\mathbf{T} \\left( \\mathbf{b} \\right) = \\begin{bmatrix} a_1 + a_2 \\\\ 3a_1 \\end{bmatrix} + \\begin{bmatrix} b_1 + b_2 \\\\ 3b_1 \\end{bmatrix} = \\begin{bmatrix} a_1 + a_2 + b_1 + b_2 \\\\ 3a_1 + 3b_1 \\end{bmatrix}. $$\n",
    "\n",
    "Из этого следует, что\n",
    "\n",
    "$$ \\mathbf{T} \\left(\\mathbf{a} + \\mathbf{b} \\right) = \\mathbf{T} \\left( \\mathbf{a} \\right) + \\mathbf{T} \\left( \\mathbf{b} \\right). $$\n",
    "\n",
    "Докажем для данного примера и второе свойство линейности:\n",
    "\n",
    "$$ \\mathbf{T} \\left( \\lambda \\mathbf{a} \\right) = \\mathbf{T} \\left(\\lambda \\begin{bmatrix} a_1 \\\\ a_2 \\end{bmatrix}\\right) = \\mathbf{T} \\left( \\begin{bmatrix} \\lambda a_1 \\\\ \\lambda a_2 \\end{bmatrix} \\right) = \\begin{bmatrix} \\lambda a_1 + \\lambda a_2 \\\\ 3 \\lambda a_1 \\end{bmatrix} \\\\ \\lambda \\mathbf{T} \\left( \\mathbf{a} \\right) = \\lambda \\mathbf{T} \\left( \\begin{bmatrix} a_1 \\\\ a_2 \\end{bmatrix} \\right) = \\lambda \\begin{bmatrix} a_1 + a_2 \\\\ 3a_1 \\end{bmatrix} = \\begin{bmatrix} \\lambda a_1 + \\lambda a_2 \\\\ 3 \\lambda a_1 \\end{bmatrix}. $$\n",
    "\n",
    "Из этого следует, что\n",
    "\n",
    "$$ \\mathbf{T} \\left( \\lambda \\mathbf{a} \\right) = \\lambda \\mathbf{T} \\left( \\mathbf{a} \\right). $$\n",
    "\n",
    "Таким образом, преобразование $\\mathbf{T} \\left( \\begin{bmatrix} x_1 \\\\ x_2 \\end{bmatrix} \\right) = \\begin{bmatrix} x_1 + x_2 \\\\ 3x_1 \\end{bmatrix}$ является линейным.\n",
    "````\n",
    "\n",
    "```{admonition} Теорема\n",
    ":class: danger\n",
    "Любое линейное преобразование вектора можно представить в виде произведения матрицы на данный вектор.\n",
    "```\n",
    "\n",
    "```{admonition} Доказательство\n",
    ":class: proof\n",
    "Пусть имеется вектор $\\mathbf{x}$. Данный вектор можно разложить на сумму:\n",
    "\n",
    "$$ \\begin{align}\n",
    "\\mathbf{x} = \\begin{bmatrix} x_1 \\\\ x_2 \\\\ x_3 \\\\ \\vdots \\\\ x_n \\end{bmatrix}\n",
    "&= x_1 \\cdot \\begin{bmatrix} 1 \\\\ 0 \\\\ 0 \\\\ \\vdots \\\\ 0 \\end{bmatrix} + x_2 \\cdot \\begin{bmatrix} 0 \\\\ 1 \\\\ 0 \\\\ \\vdots \\\\ 0 \\end{bmatrix} + x_3 \\cdot \\begin{bmatrix} 0 \\\\ 0 \\\\ 1 \\\\ \\vdots \\\\ 0 \\end{bmatrix} + \\ldots + x_n \\cdot \\begin{bmatrix} 0 \\\\ 0 \\\\ 0 \\\\ \\vdots \\\\ 1 \\end{bmatrix} \\\\\n",
    "&= x_1 \\cdot \\mathbf{e_1} + x_2 \\cdot \\mathbf{e_2} + \\ldots + x_n \\cdot \\mathbf{e_n},\n",
    "\\end{align} $$\n",
    "\n",
    "где $\\mathbf{e_1}$, $\\mathbf{e_2}$, $\\ldots$, $\\mathbf{e_n}$ – вертикальные векторы единичной квадратной матрицы $\\mathbf{I_n}$ размерностью $n \\times n$:\n",
    "\n",
    "$$ \\mathbf{I_n} = \\begin{bmatrix} 1 & 0 & 0 & \\ldots & 0 \\\\ 0 & 1 & 0 & \\ldots & 0 \\\\ 0 & 0 & 1 & \\ldots & 0 \\\\ \\vdots & \\vdots & \\vdots & \\ddots & \\vdots \\\\ 0 & 0 & 0 & \\ldots & 1 \\end{bmatrix}. $$\n",
    "\n",
    "Тогда линейное преобразование вектора $\\mathbf{x}$:\n",
    "\n",
    "$$ \\begin{align}\n",
    "\\mathbf{T} \\left( \\mathbf{x} \\right)\n",
    "&= \\mathbf{T} \\left( x_1 \\cdot \\mathbf{e_1} + x_2 \\cdot \\mathbf{e_2} + \\ldots + x_n \\cdot \\mathbf{e_n} \\right) \\\\\n",
    "&= \\mathbf{T} \\left( x_1 \\cdot \\mathbf{e_1} \\right) + \\mathbf{T} \\left( x_2 \\cdot \\mathbf{e_2} \\right) + \\ldots + \\mathbf{T} \\left( x_n \\cdot \\mathbf{e_n} \\right) \\\\\n",
    "&= x_1 \\cdot \\mathbf{T} \\left( \\mathbf{e_1} \\right) + x_2 \\cdot \\mathbf{T} \\left( \\mathbf{e_2} \\right) + \\ldots + x_n \\cdot \\mathbf{T} \\left( \\mathbf{e_n} \\right).\n",
    "\\end{align}$$\n",
    "\n",
    "Здесь последовательно были применены свойства линейности линейных преобразований. Последнее выражение может быть преобразовано следующим образом:\n",
    "\n",
    "$$ \\begin{align}\n",
    "\\mathbf{T} \\left( \\mathbf{x} \\right)\n",
    "&= x_1 \\cdot \\mathbf{T} \\left( \\mathbf{e_1} \\right) + x_2 \\cdot \\mathbf{T} \\left( \\mathbf{e_2} \\right) + \\ldots + x_n \\cdot \\mathbf{T} \\left( \\mathbf{e_n} \\right) \\\\\n",
    "&= \\begin{bmatrix} | & | & \\, & | \\\\ \\mathbf{T} \\left( \\mathbf{e_1} \\right) & \\mathbf{T} \\left( \\mathbf{e_2} \\right) & \\ldots & \\mathbf{T} \\left( \\mathbf{e_n} \\right) \\\\ | & | & \\, & | \\end{bmatrix} \\cdot \\begin{bmatrix} x_1 \\\\ x_2 \\\\ \\vdots \\\\ x_n \\end{bmatrix}.\n",
    "\\end{align} $$\n",
    "\n",
    "В свою очередь, $\\mathbf{T} \\left( \\mathbf{e_n} \\right)$ – вектор. Таким образом, линейное преобразование любого вектора может быть представлено в виде произведения матрицы на этот же вектор:\n",
    "\n",
    "$$ \\mathbf{T} \\left( \\mathbf{x} \\right) = \\mathbf{A} \\mathbf{x}. $$\n",
    "\n",
    "Такая матрица $\\mathbf{A}$ называется матрицей преобразования по отношению к рассматриваемому (*стандартному*) базису.\n",
    "```\n",
    "\n",
    "Однако один и тот же вектор может быть представлен в различных базисах. Пусть имеется вектор $\\mathbf{x}$, координаты которого выражены через базис $\\mathbf{B}$. Это может быть записано следующим образом:\n",
    "\n",
    "$$ \\begin{bmatrix} \\mathbf{x} \\end{bmatrix}_\\mathbf{B}. $$\n",
    "\n",
    "Тогда вектор $\\mathbf{T} \\left( \\mathbf{x} \\right)$ также выражается через координаты базиса $\\mathbf{B}$:\n",
    "\n",
    "$$ \\begin{bmatrix} \\mathbf{T} \\left( \\mathbf{x} \\right) \\end{bmatrix}_\\mathbf{B}. $$\n",
    "\n",
    "При этом, линейное преобразование $\\mathbf{T}$ по-прежнему устанавливает связь между этими двумя векторами, поэтому можно записать:\n",
    "\n",
    "$$ \\begin{bmatrix} \\mathbf{T} \\left( \\mathbf{x} \\right) \\end{bmatrix}_\\mathbf{B} = \\mathbf{D} \\begin{bmatrix} \\mathbf{x} \\end{bmatrix}_\\mathbf{B}. $$\n",
    "\n",
    "Такая матрица $\\mathbf{D}$ называется матрицей преобразования по отношению к базису $\\mathbf{B}$. Известно, что любой базис определяется через $n$ базисных векторов:\n",
    "\n",
    "$$ \\mathbf{B} = \\begin{Bmatrix} \\mathbf{v_1}, \\mathbf{v_2}, \\ldots, \\mathbf{v_n} \\end{Bmatrix}. $$\n",
    "\n",
    "При этом, любой вектор [можно представить](LAB-1-Vectors.md) в виде суммы произведений координат данного вектора и базисных векторов. Если имеется вектор $\\begin{bmatrix} \\mathbf{x} \\end{bmatrix}_\\mathbf{B}$, представленный в виде координат $\\begin{bmatrix} x_1 \\\\ x_2 \\\\ \\vdots \\\\ x_n \\end{bmatrix}_\\mathbf{B}$, отнесенных к базису $\\mathbf{B}$, то:\n",
    "\n",
    "$$ \\begin{bmatrix} \\mathbf{x} \\end{bmatrix}_\\mathbf{B} = x_1 \\cdot \\mathbf{v_1} + x_2 \\cdot \\mathbf{v_2} + \\ldots + x_n \\cdot \\mathbf{v_n}. $$\n",
    "\n",
    "Рассмотрим пример. Пусть базис $\\mathbf{B}$ задан векторами $\\mathbf{v_1} = \\begin{bmatrix} 2 \\\\ 1 \\end{bmatrix}$ и $\\mathbf{v_2} = \\begin{bmatrix} 1 \\\\ 2 \\end{bmatrix}$:\n",
    "\n",
    "$$ \\mathbf{B} = \\begin{Bmatrix} \\mathbf{v_1}, \\mathbf{v_2}\\end{Bmatrix}. $$\n",
    "\n",
    "Рассмотрим вектор:\n",
    "\n",
    "$$ \\mathbf{x} = 3 \\cdot \\mathbf{v_1} + 2 \\cdot \\mathbf{v_2} = 3 \\cdot \\begin{bmatrix} 2 \\\\ 1 \\end{bmatrix} + 2 \\cdot \\begin{bmatrix} 1 \\\\ 2 \\end{bmatrix} = \\begin{bmatrix} 8 \\\\ 7 \\end{bmatrix}. $$"
   ]
  },
  {
   "cell_type": "code",
   "execution_count": 2,
   "id": "fb7d7222",
   "metadata": {
    "tags": [
     "remove-input"
    ]
   },
   "outputs": [
    {
     "data": {
      "image/png": "[encoded data removed]",
      "text/plain": [
       "<Figure size 600x400 with 1 Axes>"
      ]
     },
     "metadata": {},
     "output_type": "display_data"
    }
   ],
   "source": [
    "fig, ax = plt.subplots(figsize=(6, 4))\n",
    "fig.canvas.header_visible = False\n",
    "\n",
    "x0 = y0 = [0., 0., 0.]\n",
    "\n",
    "U = [[2., 1., 8.]]\n",
    "V = [[1., 2., 7.]]\n",
    "\n",
    "ax.plot([0., 8.], [0., 4.], color='k', ls='--', zorder=1)\n",
    "ax.plot([1., 2., 3.], [2., 4., 6.], lw=0., marker='o', color='k', ms=4.)\n",
    "ax.plot([0., 4.], [0., 8.], color='k', ls='--', zorder=1)\n",
    "ax.plot([2., 4., 6.], [1., 2., 3.], lw=0., marker='o', color='k', ms=4.)\n",
    "ax.plot([6., 8.], [3., 7.], color='r', ls='--', zorder=1)\n",
    "ax.plot([2., 8.], [4., 7.], color='r', ls='--', zorder=1)\n",
    "ax.quiver(x0, y0, U, V, scale=1, angles='xy', scale_units='xy', color=['k', 'k', 'r'], zorder=2)\n",
    "\n",
    "ax.text(2., 0.5, r'$\\mathbf{v_1}$')\n",
    "ax.text(4., 1.5, r'$2 \\cdot \\mathbf{v_1}$')\n",
    "ax.text(6., 2.5, r'$3 \\cdot \\mathbf{v_1}$')\n",
    "ax.text(0.5, 2, r'$\\mathbf{v_2}$')\n",
    "ax.text(1., 4., r'$2 \\cdot \\mathbf{v_2}$')\n",
    "ax.text(2., 6., r'$3 \\cdot \\mathbf{v_2}$')\n",
    "ax.text(8., 7., r'$\\mathbf{x}$', c='r')\n",
    "\n",
    "ax.set_xlim(-1., 10.)\n",
    "ax.set_ylim(-1., 10.)\n",
    "ax.set_axisbelow(True)\n",
    "ax.grid()\n",
    "ax.set_xticks(range(0, 10, 1))\n",
    "ax.set_yticks(range(0, 10, 1))\n",
    "ax.set_xlabel('X')\n",
    "ax.set_ylabel('Y')\n",
    "\n",
    "fig.tight_layout()"
   ]
  },
  {
   "cell_type": "markdown",
   "id": "bf79ee09",
   "metadata": {},
   "source": [
    "Тогда вектор $\\mathbf{x}$ относительно базиса $\\mathbf{B}$:\n",
    "\n",
    "$$ \\begin{bmatrix} \\mathbf{x} \\end{bmatrix}_\\mathbf{B} = \\begin{bmatrix} 3 \\\\ 2 \\end{bmatrix}_\\mathbf{B}. $$\n",
    "\n",
    "Таким образом, вектор $\\mathbf{x}$ в стандартном базисе может быть выражен в виде произведения матрицы (назовем ее $\\mathbf{C}^{-1}$), составленной из базисных векторов другого базиса $\\mathbf{B}$, на данный вектор, представленный в базисе $\\mathbf{B}$:\n",
    "\n",
    "$$ \\mathbf{x} = \\begin{bmatrix} \\mathbf{v_1} & \\mathbf{v_2} & \\ldots & \\mathbf{v_n} \\end{bmatrix} \\cdot \\begin{bmatrix} \\mathbf{x} \\end{bmatrix}_\\mathbf{B} = \\mathbf{C}^{-1} \\begin{bmatrix} \\mathbf{x} \\end{bmatrix}_\\mathbf{B}. $$"
   ]
  },
  {
   "cell_type": "code",
   "execution_count": 3,
   "id": "95a4acd4",
   "metadata": {},
   "outputs": [
    {
     "data": {
      "text/plain": [
       "array([[8],\n",
       "       [7]])"
      ]
     },
     "execution_count": 3,
     "metadata": {},
     "output_type": "execute_result"
    }
   ],
   "source": [
    "x_B = np.array([[3], [2]])\n",
    "C_inv = np.array([[2, 1], [1, 2]])\n",
    "x = C_inv.dot(x_B)\n",
    "x"
   ]
  },
  {
   "cell_type": "markdown",
   "id": "949915cc",
   "metadata": {},
   "source": [
    "И, наоборот, если у нас есть координаты вектора $\\mathbf{x}$ в стандтартном базисе, то определить его координаты относительно базиса $\\mathbf{B}$ можно следующим образом:\n",
    "\n",
    "$$ \\begin{bmatrix} \\mathbf{x} \\end{bmatrix}_\\mathbf{B} = \\mathbf{C} \\mathbf{x}. $$"
   ]
  },
  {
   "cell_type": "code",
   "execution_count": 4,
   "id": "31ebba4b",
   "metadata": {},
   "outputs": [
    {
     "data": {
      "text/plain": [
       "array([[3.],\n",
       "       [2.]])"
      ]
     },
     "execution_count": 4,
     "metadata": {},
     "output_type": "execute_result"
    }
   ],
   "source": [
    "np.linalg.inv(C_inv).dot(x)"
   ]
  },
  {
   "cell_type": "markdown",
   "id": "769dd977",
   "metadata": {},
   "source": [
    "Из этого следует, что любой переход от одного базиса к другому можно записать в виде матричного произведения.\n",
    "\n",
    "\n",
    "Итак, линейное преобразование $\\mathbf{T}$ в базисе $\\mathbf{B}$, устанавливающее связь между вектором $\\begin{bmatrix} \\mathbf{x} \\end{bmatrix}_\\mathbf{B}$ и вектором $\\begin{bmatrix} \\mathbf{T} \\left( \\mathbf{x} \\right) \\end{bmatrix}_\\mathbf{B}$:\n",
    "\n",
    "$$ \\begin{bmatrix} \\mathbf{T} \\left( \\mathbf{x} \\right) \\end{bmatrix}_\\mathbf{B} = \\mathbf{D} \\begin{bmatrix} \\mathbf{x} \\end{bmatrix}_\\mathbf{B}. $$\n",
    "\n",
    "Однако линейное преобразование $\\mathbf{T} \\left( \\mathbf{x} \\right)$ может быть выражено в виде матричного произведения:\n",
    "\n",
    "$$ \\mathbf{T} \\left( \\mathbf{x} \\right) = \\mathbf{A} \\mathbf{x}. $$\n",
    "\n",
    "Тогда:\n",
    "\n",
    "$$ \\begin{bmatrix} \\mathbf{T} \\left( \\mathbf{x} \\right) \\end{bmatrix}_\\mathbf{B} = \\mathbf{D} \\begin{bmatrix} \\mathbf{x} \\end{bmatrix}_\\mathbf{B} = \\begin{bmatrix} \\mathbf{A} \\mathbf{x} \\end{bmatrix}_\\mathbf{B}. $$\n",
    "\n",
    "В свою очередь, переход от базиса $\\mathbf{B}$ к стандартному может быть записан в виде матричного произведения. Поэтому:\n",
    "\n",
    "$$ \\begin{bmatrix} \\mathbf{A} \\mathbf{x} \\end{bmatrix}_\\mathbf{B} = \\mathbf{C} \\mathbf{A} \\mathbf{x}. $$\n",
    "\n",
    "Подставляя это равенство в выражение выше, получим:\n",
    "\n",
    "$$ \\begin{bmatrix} \\mathbf{T} \\left( \\mathbf{x} \\right) \\end{bmatrix}_\\mathbf{B} = \\mathbf{D} \\begin{bmatrix} \\mathbf{x} \\end{bmatrix}_\\mathbf{B} = \\begin{bmatrix} \\mathbf{A} \\mathbf{x} \\end{bmatrix}_\\mathbf{B} = \\mathbf{C} \\mathbf{A} \\mathbf{x}. $$\n",
    "\n",
    "В свою очередь, вектор $\\mathbf{x}$ в базисе $\\mathbf{B}$ может быть записан следующим образом:\n",
    "\n",
    "$$ \\mathbf{x} = \\mathbf{C}^{-1} \\begin{bmatrix} \\mathbf{x} \\end{bmatrix}_\\mathbf{B}. $$\n",
    "\n",
    "Тогда:\n",
    "\n",
    "$$ \\begin{bmatrix} \\mathbf{T} \\left( \\mathbf{x} \\right) \\end{bmatrix}_\\mathbf{B} = \\mathbf{D} \\begin{bmatrix} \\mathbf{x} \\end{bmatrix}_\\mathbf{B} = \\begin{bmatrix} \\mathbf{A} \\mathbf{x} \\end{bmatrix}_\\mathbf{B} = \\mathbf{C} \\mathbf{A} \\mathbf{x} = \\mathbf{C} \\mathbf{A}  \\mathbf{C}^{-1} \\begin{bmatrix} \\mathbf{x} \\end{bmatrix}_\\mathbf{B}. $$\n",
    "\n",
    "Итак, матрица $\\mathbf{D}$ линейного преобразования $\\mathbf{T}$ по отношению к базису $\\mathbf{B}$:\n",
    "\n",
    "$$ \\mathbf{D} = \\mathbf{C} \\mathbf{A} \\mathbf{C}^{-1}, $$\n",
    "\n",
    "где: $\\mathbf{C}$ – матрица перехода от стандартного базиса к базису $\\mathbf{B}$, $\\mathbf{A}$ – матрица линейного преобразования вектора $\\mathbf{x}$ по отношению к стандартному базису.\n",
    "\n",
    "\n",
    "Пусть матрица $\\mathbf{C}^{-1}$ составлена из координат собственных векторов $\\mathbf{v_1}$, $\\mathbf{v_2}$, $\\ldots$ матрицы $\\mathbf{A}$:\n",
    "\n",
    "$$ \\mathbf{C}^{-1} = \\begin{bmatrix} \\vert & \\vert &  \\\\ \\mathbf{v_1} & \\mathbf{v_2} & \\ldots \\\\ \\vert & \\vert &  \\end{bmatrix}. $$\n",
    "\n",
    "Умножим левую и правую части равенства $\\mathbf{D} = \\mathbf{C} \\mathbf{A} \\mathbf{C}^{-1}$ на единичный вектор $\\mathbf{e_i}$, сонаправленный с собственным вектором $\\mathbf{v_i}$:\n",
    "\n",
    "$$ \\mathbf{D} \\mathbf{e_i} = \\mathbf{C} \\mathbf{A} \\mathbf{C}^{-1} \\mathbf{e_i}. $$\n",
    "\n",
    "Поскольку матрица $\\mathbf{D}$ задана относительно базиса $\\mathbf{B}$, определенного собственными векторами матрицы $\\mathbf{A}$, то результатом произведения матрицы $\\mathbf{D}$ на единичный вектор $\\mathbf{e_i}$ будет $i$-ый столбец матрицы. Например:"
   ]
  },
  {
   "cell_type": "code",
   "execution_count": 5,
   "id": "9abaf14f",
   "metadata": {},
   "outputs": [
    {
     "data": {
      "text/plain": [
       "array([[2],\n",
       "       [4],\n",
       "       [8]])"
      ]
     },
     "execution_count": 5,
     "metadata": {},
     "output_type": "execute_result"
    }
   ],
   "source": [
    "M = np.array([[2, 3, 1], [4, 5, 2], [8, 1, 3]])\n",
    "M.dot([[1], [0], [0]])"
   ]
  },
  {
   "cell_type": "markdown",
   "id": "8564a7e1",
   "metadata": {},
   "source": [
    "Произведение матрицы $\\mathbf{C}^{-1}$ на единичный вектор $\\mathbf{e_i}$ даст $i$-ый собственный вектор:\n",
    "\n",
    "$$ \\mathbf{C}^{-1} \\mathbf{e_i} = \\mathbf{v_i}. $$\n",
    "\n",
    "Тогда:\n",
    "\n",
    "$$ \\mathbf{D} \\mathbf{e_i} = \\mathbf{C} \\mathbf{A} \\mathbf{C}^{-1} \\mathbf{e_i} = \\mathbf{C} \\mathbf{A} \\mathbf{v_i}. $$\n",
    "\n",
    "По [определению собственного вектора матрицы](LAB-7-Eigenvalues-Eigenvectors.md#math-lab-eigen) данное выражение преобразуется в:\n",
    "\n",
    "$$ \\mathbf{D} \\mathbf{e_i} = \\mathbf{C} \\mathbf{A} \\mathbf{C}^{-1} \\mathbf{e_i} = \\mathbf{C} \\mathbf{A} \\mathbf{v_i}= \\mathbf{C} \\lambda_i \\mathbf{v_i}. $$\n",
    "\n",
    "С учетом того, что $\\mathbf{e_i} = \\mathbf{C} \\mathbf{v_i}$, получим:\n",
    "\n",
    "$$ \\mathbf{D} \\mathbf{e_i} = \\mathbf{C} \\mathbf{A} \\mathbf{C}^{-1} \\mathbf{e_i} = \\mathbf{C} \\mathbf{A} \\mathbf{v_i} = \\mathbf{C} \\lambda_i \\mathbf{v_i} = \\lambda_i \\mathbf{e_i}. $$\n",
    "\n",
    "Таким образом, вертикальный столбец матрицы $\\mathbf{D}$ представляет собой произведение единичного вектора на скаляр, следовательно, если в качестве базиса выбрать собственные векторы матрицы $\\mathbf{A}$, то матрица $D$ будет являться диагонализированной матрицей $\\mathbf{A}$ относительно базиса $\\mathbf{B}$.\n",
    "\n",
    "\n",
    "Рассмотрим данное свойство на следующем примере:\n",
    "\n",
    "$$ \\mathbf{A} = \\begin{bmatrix} -1 & 3 & -1 \\\\ -3 & 5 & -1 \\\\ -3 & 3 & 1 \\end{bmatrix}. $$"
   ]
  },
  {
   "cell_type": "code",
   "execution_count": 6,
   "id": "88c31046",
   "metadata": {},
   "outputs": [
    {
     "data": {
      "text/plain": [
       "array([[ 0.57735027,  0.57013378,  0.16222142],\n",
       "       [ 0.57735027,  0.70867096, -0.16222142],\n",
       "       [ 0.57735027,  0.41561154, -0.97332853]])"
      ]
     },
     "execution_count": 6,
     "metadata": {},
     "output_type": "execute_result"
    }
   ],
   "source": [
    "A = np.array([[-1, 3, -1], [-3, 5, -1], [-3, 3, 1]])\n",
    "Lambda, C_inv = np.linalg.eig(A)\n",
    "C_inv"
   ]
  },
  {
   "cell_type": "code",
   "execution_count": 7,
   "id": "bcd7a08d",
   "metadata": {},
   "outputs": [
    {
     "data": {
      "text/plain": [
       "np.float64(-0.11977103697194431)"
      ]
     },
     "execution_count": 7,
     "metadata": {},
     "output_type": "execute_result"
    }
   ],
   "source": [
    "np.linalg.det(C_inv)"
   ]
  },
  {
   "cell_type": "markdown",
   "id": "98e6ae47",
   "metadata": {},
   "source": [
    "Определитель матрицы, составленной из координат собственных векторов, не равен нулю, следовательно, собственные векторы матрицы $\\mathbf{A}$ образуют базис."
   ]
  },
  {
   "cell_type": "code",
   "execution_count": 8,
   "id": "bfa1568e",
   "metadata": {},
   "outputs": [
    {
     "data": {
      "text/plain": [
       "array([[ 1.00000000e+00, -2.89448969e-15, -6.94794103e-16],\n",
       "       [ 1.06216225e-15,  2.00000000e+00, -3.99272379e-16],\n",
       "       [-1.07463280e-16, -5.70009031e-16,  2.00000000e+00]])"
      ]
     },
     "execution_count": 8,
     "metadata": {},
     "output_type": "execute_result"
    }
   ],
   "source": [
    "np.linalg.inv(C_inv).dot(A).dot(C_inv)"
   ]
  }
 ],
 "metadata": {
  "jupytext": {
   "text_representation": {
    "extension": ".md",
    "format_name": "myst",
    "format_version": "3.0.1",
    "jupytext_version": "1.16.3"
   }
  },
  "kernelspec": {
   "display_name": "Python 3 (ipykernel)",
   "language": "python",
   "name": "python3"
  },
  "language_info": {
   "codemirror_mode": {
    "name": "ipython",
    "version": 3
   },
   "file_extension": ".py",
   "mimetype": "text/x-python",
   "name": "python",
   "nbconvert_exporter": "python",
   "pygments_lexer": "ipython3",
   "version": "3.12.7"
  },
  "source_map": [
   14,
   23,
   159,
   196,
   206,
   211,
   217,
   219,
   269,
   272,
   297,
   303,
   305,
   309
  ]
 },
 "nbformat": 4,
 "nbformat_minor": 5
}