{
 "cells": [
  {
   "cell_type": "code",
   "execution_count": 1,
   "id": "c8a86453",
   "metadata": {
    "tags": [
     "remove-input"
    ]
   },
   "outputs": [],
   "source": [
    "import numpy as np"
   ]
  },
  {
   "cell_type": "markdown",
   "id": "dfa62587",
   "metadata": {},
   "source": [
    "(math-lab-detinv)=\n",
    "# Определитель матрицы. Обратная матрица\n",
    "\n",
    "## Определитель матрицы\n",
    "\n",
    "Определитель матрицы первого порядка равен единственному элементу этой матрицы."
   ]
  },
  {
   "cell_type": "code",
   "execution_count": 2,
   "id": "8b49bb40",
   "metadata": {},
   "outputs": [
    {
     "data": {
      "text/plain": [
       "np.float64(4.999999999999999)"
      ]
     },
     "execution_count": 2,
     "metadata": {},
     "output_type": "execute_result"
    }
   ],
   "source": [
    "A = np.array([[5]])\n",
    "np.linalg.det(A)"
   ]
  },
  {
   "cell_type": "markdown",
   "id": "1c12a449",
   "metadata": {},
   "source": [
    "Определитель квадратной матрицы размерностью $\\left( 2 \\times 2 \\right)$:\n",
    "\n",
    "$$ \\begin{vmatrix} a_{11} & a_{12} \\\\ a_{21} & a_{22} \\end{vmatrix} = a_{11} \\cdot a_{22} - a_{12} \\cdot a_{21}. $$"
   ]
  },
  {
   "cell_type": "code",
   "execution_count": 3,
   "id": "52a31881",
   "metadata": {},
   "outputs": [
    {
     "data": {
      "text/plain": [
       "array([[ 1,  2],\n",
       "       [-3, -4]])"
      ]
     },
     "execution_count": 3,
     "metadata": {},
     "output_type": "execute_result"
    }
   ],
   "source": [
    "A = np.array([[1, 2], [-3, -4]])\n",
    "A"
   ]
  },
  {
   "cell_type": "code",
   "execution_count": 4,
   "id": "6bf8f00b",
   "metadata": {},
   "outputs": [
    {
     "data": {
      "text/plain": [
       "np.float64(2.0000000000000004)"
      ]
     },
     "execution_count": 4,
     "metadata": {},
     "output_type": "execute_result"
    }
   ],
   "source": [
    "np.linalg.det(A)"
   ]
  },
  {
   "cell_type": "markdown",
   "id": "9c58fffa",
   "metadata": {},
   "source": [
    "При нахождении определителя матрицы размерностью $\\left( 3 \\times 3 \\right)$ необходимо \"раскрыть\" определитель по любой строке или столбцу с учетом матрицы знаков:\n",
    "\n",
    "$$ \\begin{vmatrix} a_{11} & a_{12} & a_{13} \\\\ a_{21} & a_{22} & a_{23} \\\\ a_{31} & a_{32} & a_{33} \\end{vmatrix} = a_{11} \\cdot \\begin{vmatrix} a_{22} & a_{23} \\\\ a_{32} & a_{33} \\end{vmatrix} - a_{12} \\cdot \\begin{vmatrix} a_{21} & a_{23} \\\\ a_{31} & a_{33} \\end{vmatrix} + a_{13} \\cdot \\begin{vmatrix} a_{21} & a_{22} \\\\ a_{31} & a_{32} \\end{vmatrix}. $$"
   ]
  },
  {
   "cell_type": "code",
   "execution_count": 5,
   "id": "efce364b",
   "metadata": {},
   "outputs": [
    {
     "data": {
      "text/plain": [
       "np.float64(-441.0)"
      ]
     },
     "execution_count": 5,
     "metadata": {},
     "output_type": "execute_result"
    }
   ],
   "source": [
    "A = np.array([[1, 3, 14], [5, 2, -7], [4, -2, 7]])\n",
    "np.linalg.det(A)"
   ]
  },
  {
   "cell_type": "markdown",
   "id": "e36c8145",
   "metadata": {},
   "source": [
    "Одним из свойств векторов является то, что если определитель матрицы, составленной из координат этих векторов, равен нулю, то данные векторы являются [коллинеарными](LAB-2-VectorOperations.md#math-lab-vectoroperations-collinearity). Рассмотрим пример. Пусть даны два вектора $\\mathbf{v_1} = \\begin{bmatrix} 1 \\\\ 3 \\end{bmatrix}$ и $\\mathbf{v_2} = \\begin{bmatrix} 2 \\\\ 6 \\end{bmatrix}$. Тогда матрица $\\mathbf{M} = \\begin{bmatrix} 1 & 2 \\\\ 3 & 6 \\end{bmatrix}$. Вычислим определитель этой матрицы:"
   ]
  },
  {
   "cell_type": "code",
   "execution_count": 6,
   "id": "711f3377",
   "metadata": {},
   "outputs": [
    {
     "data": {
      "text/plain": [
       "np.float64(-3.330669073875464e-16)"
      ]
     },
     "execution_count": 6,
     "metadata": {},
     "output_type": "execute_result"
    }
   ],
   "source": [
    "M = np.array([[1, 2], [3, 6]])\n",
    "np.linalg.det(M)"
   ]
  },
  {
   "cell_type": "markdown",
   "id": "8ab4a6cf",
   "metadata": {},
   "source": [
    "Определитель этой матрицы равен нулю, следовательно, векторы $\\mathbf{v_1}$ и $\\mathbf{v_2}$ являются коллинеарными.\n",
    "\n",
    "## Обратная матрица\n",
    "\n",
    "```{admonition} Определение\n",
    ":class: tip\n",
    "Под ***обратной матрицей*** матрице $\\mathbf{M}$ называется матрица, удовлетворяющая следующему выражению:\n",
    "\n",
    "$$ \\mathbf{M} \\mathbf{M}^{-1} = \\mathbf{E}, $$\n",
    "\n",
    "где $\\mathbf{E}$ – единичная матрица.\n",
    "```\n",
    "\n",
    "При умножении матрицы на единичную матрицу в результате получается исходная матрица."
   ]
  },
  {
   "cell_type": "code",
   "execution_count": 7,
   "id": "a784313b",
   "metadata": {},
   "outputs": [
    {
     "data": {
      "text/plain": [
       "array([[ 1,  2],\n",
       "       [-1,  3]])"
      ]
     },
     "execution_count": 7,
     "metadata": {},
     "output_type": "execute_result"
    }
   ],
   "source": [
    "A = np.array([[1, 2], [-1, 3]])\n",
    "E = np.array([[1, 0], [0, 1]])\n",
    "A.dot(E)"
   ]
  },
  {
   "cell_type": "markdown",
   "id": "4553182b",
   "metadata": {},
   "source": [
    "При нахождении обратной матрицы можно использовать следующее выражение:\n",
    "\n",
    "$$ \\mathbf{M}^{-1} = \\frac{1}{\\left| \\mathbf{M} \\right|} \\cdot \\mathbf{M}_{*}^\\top, $$\n",
    "\n",
    "где $\\mathbf{M}_{*}^\\top$ – транспонированная матрица алгебраических дополнений. Следует отметить, что, исходя из указанного выше выражения, необходимым условием для существования обратной матрицы является $\\left| \\mathbf{M} \\right| \\neq 0$.\n",
    "\n",
    "Однако использование библиотеки [*numpy*](https://numpy.org/) может значительно упростить данную операцию."
   ]
  },
  {
   "cell_type": "code",
   "execution_count": 8,
   "id": "33d1854a",
   "metadata": {},
   "outputs": [
    {
     "data": {
      "text/plain": [
       "array([[ 0.6, -0.4],\n",
       "       [ 0.2,  0.2]])"
      ]
     },
     "execution_count": 8,
     "metadata": {},
     "output_type": "execute_result"
    }
   ],
   "source": [
    "A_inv = np.linalg.inv(A)\n",
    "A_inv"
   ]
  },
  {
   "cell_type": "code",
   "execution_count": 9,
   "id": "21dae98d",
   "metadata": {},
   "outputs": [
    {
     "data": {
      "text/plain": [
       "array([[1.00000000e+00, 0.00000000e+00],\n",
       "       [1.11022302e-16, 1.00000000e+00]])"
      ]
     },
     "execution_count": 9,
     "metadata": {},
     "output_type": "execute_result"
    }
   ],
   "source": [
    "A.dot(A_inv)"
   ]
  },
  {
   "cell_type": "markdown",
   "id": "3f8faae3",
   "metadata": {},
   "source": [
    "Матрица, обратная обратной матрице $\\mathbf{A}$, равняется самой матрице $\\mathbf{A}$:"
   ]
  },
  {
   "cell_type": "code",
   "execution_count": 10,
   "id": "9a380a82",
   "metadata": {},
   "outputs": [
    {
     "data": {
      "text/plain": [
       "array([[ 1.,  2.],\n",
       "       [-1.,  3.]])"
      ]
     },
     "execution_count": 10,
     "metadata": {},
     "output_type": "execute_result"
    }
   ],
   "source": [
    "np.linalg.inv(np.linalg.inv(A))"
   ]
  }
 ],
 "metadata": {
  "jupytext": {
   "text_representation": {
    "extension": ".md",
    "format_name": "myst",
    "format_version": "3.0.1",
    "jupytext_version": "1.16.3"
   }
  },
  "kernelspec": {
   "display_name": "Python 3 (ipykernel)",
   "language": "python",
   "name": "python3"
  },
  "language_info": {
   "codemirror_mode": {
    "name": "ipython",
    "version": 3
   },
   "file_extension": ".py",
   "mimetype": "text/x-python",
   "name": "python",
   "nbconvert_exporter": "python",
   "pygments_lexer": "ipython3",
   "version": "3.12.7"
  },
  "source_map": [
   14,
   18,
   27,
   30,
   36,
   41,
   43,
   49,
   52,
   56,
   59,
   76,
   80,
   90,
   95,
   97,
   101
  ]
 },
 "nbformat": 4,
 "nbformat_minor": 5
}