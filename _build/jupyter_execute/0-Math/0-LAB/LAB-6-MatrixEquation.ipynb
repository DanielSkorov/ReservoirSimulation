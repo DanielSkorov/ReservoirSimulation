{
 "cells": [
  {
   "cell_type": "code",
   "execution_count": 1,
   "id": "7e6e0f58",
   "metadata": {
    "tags": [
     "remove-input"
    ]
   },
   "outputs": [],
   "source": [
    "import numpy as np\n",
    "from sympy import Matrix, Symbol"
   ]
  },
  {
   "cell_type": "markdown",
   "id": "c40bde48",
   "metadata": {},
   "source": [
    "(math-lab-matrixeq)=\n",
    "# Матричные уравнения\n",
    "\n",
    "Допустим, имеется следующая система линейных уравнений:\n",
    "\n",
    "$$ \\left\\{\\begin{array} \\\\ 3x + 2y + z = 5 \\\\ 2x + 3y + z = -1 \\\\ 2x + y + 3z = 3 \\end{array}\\right. $$\n",
    "\n",
    "Левую часть уравнений в данной системе можно представить в виде произведения матрицы и вектора искомых переменных:\n",
    "\n",
    "$$ \\mathbf{A} \\mathbf{x}, $$\n",
    "\n",
    "где:\n",
    "\n",
    "$$ \\mathbf{A} = \\begin{bmatrix} 3 & 2 & 1 \\\\ 2 & 3 & 1 \\\\ 2 & 1 & 3 \\end{bmatrix}, \\; \\mathbf{x} = \\begin{bmatrix} x \\\\ y \\\\ z \\end{bmatrix}. $$"
   ]
  },
  {
   "cell_type": "code",
   "execution_count": 2,
   "id": "df342b5d",
   "metadata": {},
   "outputs": [
    {
     "data": {
      "text/latex": [
       "$\\displaystyle \\left[\\begin{matrix}3 x + 2 y + z\\\\2 x + 3 y + z\\\\2 x + y + 3 z\\end{matrix}\\right]$"
      ],
      "text/plain": [
       "Matrix([\n",
       "[3*x + 2*y + z],\n",
       "[2*x + 3*y + z],\n",
       "[2*x + y + 3*z]])"
      ]
     },
     "execution_count": 2,
     "metadata": {},
     "output_type": "execute_result"
    }
   ],
   "source": [
    "from sympy import Matrix, Symbol\n",
    "A = Matrix([[3, 2, 1], [2, 3, 1], [2, 1, 3]])\n",
    "x = Symbol('x')\n",
    "y = Symbol('y')\n",
    "z = Symbol('z')\n",
    "X = Matrix([[x], [y], [z]])\n",
    "A * X"
   ]
  },
  {
   "cell_type": "markdown",
   "id": "83586c23",
   "metadata": {},
   "source": [
    "Правые части уравнений также можно представить в виде матрицы-столбца $\\mathbf{b}$:\n",
    "\n",
    "$$ \\mathbf{b} = \\begin{bmatrix} 5 \\\\ -1 \\\\ 3 \\end{bmatrix}. $$\n",
    "\n",
    "Тогда исходную систему линейных уравнений можно представить в виде матричного уравнения:\n",
    "\n",
    "$$ \\mathbf{A} \\mathbf{x} = \\mathbf{b}. $$\n",
    "\n",
    "Домножим обе части уравнения на $\\mathbf{A}^{-1}$:\n",
    "\n",
    "$$ \\mathbf{A}^{-1} \\mathbf{A} \\mathbf{x} = \\mathbf{A}^{-1} \\mathbf{b}. $$\n",
    "\n",
    "Левую часть уравнения можно упростить, применив определение обратной матрицы:\n",
    "\n",
    "$$ \\mathbf{x} = \\mathbf{A}^{-1} \\mathbf{b}. $$"
   ]
  },
  {
   "cell_type": "code",
   "execution_count": 3,
   "id": "1e9af459",
   "metadata": {},
   "outputs": [
    {
     "data": {
      "text/plain": [
       "array([[ 3.5],\n",
       "       [-2.5],\n",
       "       [-0.5]])"
      ]
     },
     "execution_count": 3,
     "metadata": {},
     "output_type": "execute_result"
    }
   ],
   "source": [
    "A = np.array([[3, 2, 1], [2, 3, 1], [2, 1, 3]])\n",
    "B = np.array([[5], [-1], [3]])\n",
    "X = np.linalg.inv(A).dot(B)\n",
    "X"
   ]
  },
  {
   "cell_type": "markdown",
   "id": "9ea15e0d",
   "metadata": {},
   "source": [
    "Проверка:"
   ]
  },
  {
   "cell_type": "code",
   "execution_count": 4,
   "id": "a97019f9",
   "metadata": {},
   "outputs": [
    {
     "data": {
      "text/plain": [
       "array([[ 5.],\n",
       "       [-1.],\n",
       "       [ 3.]])"
      ]
     },
     "execution_count": 4,
     "metadata": {},
     "output_type": "execute_result"
    }
   ],
   "source": [
    "A.dot(X)"
   ]
  }
 ],
 "metadata": {
  "jupytext": {
   "text_representation": {
    "extension": ".md",
    "format_name": "myst",
    "format_version": "3.0.1",
    "jupytext_version": "1.16.3"
   }
  },
  "kernelspec": {
   "display_name": "Python 3 (ipykernel)",
   "language": "python",
   "name": "python3"
  },
  "language_info": {
   "codemirror_mode": {
    "name": "ipython",
    "version": 3
   },
   "file_extension": ".py",
   "mimetype": "text/x-python",
   "name": "python",
   "nbconvert_exporter": "python",
   "pygments_lexer": "ipython3",
   "version": "3.12.7"
  },
  "source_map": [
   14,
   19,
   36,
   44,
   62,
   67,
   71
  ]
 },
 "nbformat": 4,
 "nbformat_minor": 5
}