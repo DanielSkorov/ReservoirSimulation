{
 "cells": [
  {
   "cell_type": "code",
   "execution_count": 1,
   "id": "520c97e8",
   "metadata": {
    "tags": [
     "remove-input"
    ]
   },
   "outputs": [],
   "source": [
    "import numpy as np"
   ]
  },
  {
   "cell_type": "markdown",
   "id": "f9938e1c",
   "metadata": {},
   "source": [
    "(math-lab-matrix)=\n",
    "# Матрицы\n",
    "\n",
    "(math-lab-matrix-definition)=\n",
    "## Определение и объявление\n",
    "\n",
    "```{admonition} Определение\n",
    ":class: tip\n",
    "Под ***матрицей*** в общем смысле понимается совокупность строк и столбцов, на пересечении которых находяется элементы. В качестве элементов в разделе линейной алгебры используются действительные числа.\n",
    "```\n",
    "\n",
    "````{margin}\n",
    "```{admonition} Дополнительно\n",
    ":class: note\n",
    "Существуют также многомерные матрицы, называемые *тензорами*. Например, трехмерный тензор объявляется следующим образом:\n",
    "\n",
    "$$ \\exists ~ \\mathbf{T} \\in {\\rm I\\!R}^{n \\times m \\times k}. $$\n",
    "\n",
    "```\n",
    "````\n",
    "\n",
    "Для обозначения матрицы здесь и далее будут использоваться заглавные латинские буквы, выделенные жирным, например, $\\mathbf{A}$. В отличие от [вектора](LAB-1-Vectors.md), представляющего собой одномерный набор действительных чисел, матрица является двумерной. Например, следующая запись\n",
    "\n",
    "$$ \\exists ~ \\mathbf{A} \\in {\\rm I\\!R}^{n \\times m} $$\n",
    "\n",
    "читается следующим образом: *существует* $\\left( \\exists \\right)$ *матрица* $\\left( \\mathbf{A} \\right)$ *, принадлежащая пространству реальных чисел* $\\left( {\\rm I\\!R} \\right)$, *размерностью* $n \\times m$. Данная запись объявляет матрицу $\\mathbf{M}$ следующего вида:\n",
    "\n",
    "$$ \\mathbf{A} = \\begin{bmatrix} a_{1,1} & a_{1,2} & \\ldots & a_{1,m} \\\\ a_{2,1} & a_{2,2} & \\ldots & a_{2,m} \\\\ \\vdots & \\vdots & \\ddots & \\vdots \\\\ a_{n,1} & a_{n,2} & \\ldots & a_{n,m} \\end{bmatrix}. $$\n",
    "\n",
    "Кроме того, матрица может обозначаться путем указания элементов с индексами, например, для изложенного выше примера:\n",
    "\n",
    "$$ \\mathbf{A} = \\left\\{ a_{ij}, \\, i=1 \\ldotp \\ldotp n, \\, j = 1 \\ldotp \\ldotp m \\right\\}. $$\n",
    "\n",
    "<!-- ```{admonition} Определение\n",
    ":class: tip\n",
    "***Рангом матрицы*** с $n$ строками и $m$ столбцами называется максимальное число линейно независимых строк или столбцов (то есть таких строк и столбцов, которые не могут быть выражены линейно через другие) матрицы.\n",
    "``` -->\n",
    "\n",
    "```{admonition} Определение\n",
    ":class: tip\n",
    "***Квадратной матрицей*** называется матрица, у которой число строк равняется числу столбцов (и это число называется порядком).\n",
    "```\n",
    "\n",
    "Рассмотрим следующую *прямоугольную* матрицу:\n",
    "\n",
    "$$ \\mathbf{M} = \\begin{bmatrix} 3 & 5 & -17 \\\\ -1 & 0 & 10 \\end{bmatrix}. $$\n",
    "\n",
    "С использованием *[numpy](https://numpy.org/)* матрица задается следующим образом:"
   ]
  },
  {
   "cell_type": "code",
   "execution_count": 2,
   "id": "e30ea834",
   "metadata": {},
   "outputs": [
    {
     "data": {
      "text/plain": [
       "array([[  3,   5, -17],\n",
       "       [ -1,   0,  10]])"
      ]
     },
     "execution_count": 2,
     "metadata": {},
     "output_type": "execute_result"
    }
   ],
   "source": [
    "M = np.array([[3, 5, -17], [-1, 0, 10]])\n",
    "M"
   ]
  },
  {
   "cell_type": "markdown",
   "id": "f787be78",
   "metadata": {},
   "source": [
    "Данная матрица состоит из двух строк и трех столбцов."
   ]
  },
  {
   "cell_type": "code",
   "execution_count": 3,
   "id": "277feae6",
   "metadata": {},
   "outputs": [
    {
     "data": {
      "text/plain": [
       "(2, 3)"
      ]
     },
     "execution_count": 3,
     "metadata": {},
     "output_type": "execute_result"
    }
   ],
   "source": [
    "M.shape"
   ]
  },
  {
   "cell_type": "markdown",
   "id": "fee85043",
   "metadata": {},
   "source": [
    "Если в матрице количество строк (столбцов) равно 1, то такая матрица называется ***вектором-строкой*** (***вектором-столбцом***). Данная тема подробно освещалась в [разделе, посвященном векторам](LAB-1-Vectors.md).\n",
    "\n",
    "(math-lab-matrix-dotnumber)=\n",
    "## Умножение матрицы на число\n",
    "\n",
    "Чтобы ***умножить матрицу на число***, необходимо умножить каждый ее элемент на данное число:\n",
    "\n",
    "$$ \\lambda \\cdot \\mathbf{M} = \\lambda \\mathbf{M} = \\lambda \\cdot \\begin{bmatrix} m_{11} & \\dots & m_{1k} \\\\ \\vdots & \\ddots & \\vdots \\\\ m_{n1} & \\dots & m_{nk} \\end{bmatrix} = \\begin{bmatrix} \\lambda \\cdot m_{11} & \\dots & \\lambda \\cdot m_{1k} \\\\ \\vdots & \\ddots & \\vdots \\\\ \\lambda \\cdot m_{n1} & \\dots & \\lambda \\cdot m_{nk} \\end{bmatrix}. $$"
   ]
  },
  {
   "cell_type": "code",
   "execution_count": 4,
   "id": "2582988f",
   "metadata": {},
   "outputs": [
    {
     "data": {
      "text/plain": [
       "array([[  6,  10, -34],\n",
       "       [ -2,   0,  20]])"
      ]
     },
     "execution_count": 4,
     "metadata": {},
     "output_type": "execute_result"
    }
   ],
   "source": [
    "2 * M"
   ]
  },
  {
   "cell_type": "code",
   "execution_count": 5,
   "id": "df641a14",
   "metadata": {},
   "outputs": [
    {
     "data": {
      "text/plain": [
       "array([[  6,  10, -34],\n",
       "       [ -2,   0,  20]])"
      ]
     },
     "execution_count": 5,
     "metadata": {},
     "output_type": "execute_result"
    }
   ],
   "source": [
    "M * 2"
   ]
  },
  {
   "cell_type": "markdown",
   "id": "bba111c0",
   "metadata": {},
   "source": [
    "(math-lab-matrix-addition)=\n",
    "## Сложение матриц\n",
    "\n",
    "Чтобы ***сложить матрицы*** между собой, необходимо сложить их значения поэлементно. Можно складывать матрицы только с одинаковыми размерностями.\n",
    "\n",
    "$$ \\mathbf{M} + \\mathbf{P} = \\begin{bmatrix} m_{11} & \\dots & m_{1k} \\\\ \\vdots & \\ddots & \\vdots \\\\ m_{n1} & \\dots & m_{nk} \\end{bmatrix} + \\begin{bmatrix} p_{11} & \\dots & p_{1k} \\\\ \\vdots & \\ddots & \\vdots \\\\ p_{n1} & \\dots & p_{nk} \\end{bmatrix} = \\begin{bmatrix} m_{11} + p_{11} & \\dots & m_{1k} + p_{1k} \\\\ \\vdots & \\ddots & \\vdots \\\\ m_{n1} + p_{n1} & \\dots & m_{nk} + p_{nk} \\end{bmatrix}. $$"
   ]
  },
  {
   "cell_type": "code",
   "execution_count": 6,
   "id": "b270cfe5",
   "metadata": {},
   "outputs": [
    {
     "data": {
      "text/plain": [
       "array([[ 1,  3, 14],\n",
       "       [ 5,  2, -7]])"
      ]
     },
     "execution_count": 6,
     "metadata": {},
     "output_type": "execute_result"
    }
   ],
   "source": [
    "P = np.array([[1, 3, 14], [5, 2, -7]])\n",
    "P"
   ]
  },
  {
   "cell_type": "code",
   "execution_count": 7,
   "id": "5b896fef",
   "metadata": {},
   "outputs": [
    {
     "data": {
      "text/plain": [
       "array([[ 4,  8, -3],\n",
       "       [ 4,  2,  3]])"
      ]
     },
     "execution_count": 7,
     "metadata": {},
     "output_type": "execute_result"
    }
   ],
   "source": [
    "M + P"
   ]
  },
  {
   "cell_type": "code",
   "execution_count": 8,
   "id": "d3a3138c",
   "metadata": {},
   "outputs": [
    {
     "data": {
      "text/plain": [
       "array([[ 4,  8, -3],\n",
       "       [ 4,  2,  3]])"
      ]
     },
     "execution_count": 8,
     "metadata": {},
     "output_type": "execute_result"
    }
   ],
   "source": [
    "P + M"
   ]
  },
  {
   "cell_type": "markdown",
   "id": "6ac7af95",
   "metadata": {},
   "source": [
    "(math-lab-matrix-multiplication)=\n",
    "## Произведение матриц\n",
    "\n",
    "***Произведением двух матриц*** $\\mathbf{M}$ и $\\mathbf{P}$ называется матрица $\\mathbf{Q}$, элемент которой, находящийся на пересечении $i$-ой строки и $j$-го столбца равен сумме произведений элементов $i$-ой строки матрицы $\\mathbf{M}$ на соответствующие (по порядку) элементы $j$-го столбца матрицы $\\mathbf{P}$.\n",
    "\n",
    "$$ q_{ij} = m_{i1} \\cdot p_{1j} + m_{i2} \\cdot p_{2j} + \\ldots + m_{in} \\cdot p_{nj}. $$\n",
    "\n",
    "Исходя из данного определения, количество столбцов матрицы $\\mathbf{M}$ должно быть равно количеству строк матрицы $\\mathbf{P}$. Произведение двух матриц будет обозначаться $\\mathbf{M} \\mathbf{P}$"
   ]
  },
  {
   "cell_type": "code",
   "execution_count": 9,
   "id": "ae1931ac",
   "metadata": {},
   "outputs": [
    {
     "data": {
      "text/plain": [
       "array([[ 1,  2],\n",
       "       [-1,  3]])"
      ]
     },
     "execution_count": 9,
     "metadata": {},
     "output_type": "execute_result"
    }
   ],
   "source": [
    "M = np.array([[1, 2], [-1, 3]])\n",
    "M"
   ]
  },
  {
   "cell_type": "code",
   "execution_count": 10,
   "id": "0593a7fe",
   "metadata": {},
   "outputs": [
    {
     "data": {
      "text/plain": [
       "array([[ 3,  5, -2],\n",
       "       [-1,  0, 10]])"
      ]
     },
     "execution_count": 10,
     "metadata": {},
     "output_type": "execute_result"
    }
   ],
   "source": [
    "P = np.array([[3, 5, -2], [-1, 0, 10]])\n",
    "P"
   ]
  },
  {
   "cell_type": "code",
   "execution_count": 11,
   "id": "d14bad71",
   "metadata": {},
   "outputs": [
    {
     "data": {
      "text/plain": [
       "array([[ 1,  5, 18],\n",
       "       [-6, -5, 32]])"
      ]
     },
     "execution_count": 11,
     "metadata": {},
     "output_type": "execute_result"
    }
   ],
   "source": [
    "M.dot(P)"
   ]
  },
  {
   "cell_type": "markdown",
   "id": "4bda5790",
   "metadata": {},
   "source": [
    "Результатом произведения некоторой матрицы на *единичную матрицу* является эта же самая матрица:"
   ]
  },
  {
   "cell_type": "code",
   "execution_count": 12,
   "id": "729e4684",
   "metadata": {},
   "outputs": [
    {
     "data": {
      "text/plain": [
       "array([[ 3,  5, -2],\n",
       "       [-1,  0, 10]])"
      ]
     },
     "execution_count": 12,
     "metadata": {},
     "output_type": "execute_result"
    }
   ],
   "source": [
    "I = np.identity(P.shape[1], dtype=int)\n",
    "P.dot(I)"
   ]
  },
  {
   "cell_type": "markdown",
   "id": "a9fba568",
   "metadata": {},
   "source": [
    "```{admonition} Определение\n",
    ":class: tip\n",
    "***Единичная матрица*** является квадратной матрицей, на главной диагонали которой расположены единицы, а все остальные элементы равны нулю.\n",
    "```"
   ]
  },
  {
   "cell_type": "code",
   "execution_count": 13,
   "id": "123de78e",
   "metadata": {},
   "outputs": [
    {
     "data": {
      "text/plain": [
       "array([[1, 0, 0],\n",
       "       [0, 1, 0],\n",
       "       [0, 0, 1]])"
      ]
     },
     "execution_count": 13,
     "metadata": {},
     "output_type": "execute_result"
    }
   ],
   "source": [
    "I"
   ]
  },
  {
   "cell_type": "markdown",
   "id": "6333c4c0",
   "metadata": {},
   "source": [
    "(math-lab-matrix-dotvector)=\n",
    "## Произведение матрицы и вектора\n",
    "\n",
    "В результате произведения матрицы и вектора получится вектор:\n",
    "\n",
    "$$ \\mathbf{M} \\mathbf{a} = \\mathbf{b}. $$"
   ]
  },
  {
   "cell_type": "code",
   "execution_count": 14,
   "id": "c8d4f578",
   "metadata": {},
   "outputs": [
    {
     "data": {
      "text/plain": [
       "array([ 9, 11])"
      ]
     },
     "execution_count": 14,
     "metadata": {},
     "output_type": "execute_result"
    }
   ],
   "source": [
    "v = np.array([1, 4])\n",
    "M.dot(v)"
   ]
  },
  {
   "cell_type": "markdown",
   "id": "8a99b55b",
   "metadata": {},
   "source": [
    "Кроме того, произведение матрицы $\\mathbf{A} = \\left\\{ a_{ij}, \\, i=1 \\ldotp \\ldotp n, \\, j = 1 \\ldotp \\ldotp m \\right\\}$ и вектора $\\mathbf{b} = \\left\\{b_j, \\, j = 1 \\ldotp \\ldotp m \\right\\}$ можно записать следующим образом:\n",
    "\n",
    "$$ \\sum_{j=1}^m a_{ij} \\cdot b_j = c_i. $$"
   ]
  },
  {
   "cell_type": "code",
   "execution_count": 15,
   "id": "720d6277",
   "metadata": {},
   "outputs": [
    {
     "data": {
      "text/plain": [
       "array([17, 32, 47, 62])"
      ]
     },
     "execution_count": 15,
     "metadata": {},
     "output_type": "execute_result"
    }
   ],
   "source": [
    "A = np.array([[0, 1, 2], [1, 2, 3], [2, 3, 4], [3, 4, 5]])\n",
    "b = np.array([4, 5, 6])\n",
    "np.sum(A * b, axis=1)"
   ]
  },
  {
   "cell_type": "code",
   "execution_count": 16,
   "id": "4ced6ea9",
   "metadata": {},
   "outputs": [
    {
     "data": {
      "text/plain": [
       "array([17, 32, 47, 62])"
      ]
     },
     "execution_count": 16,
     "metadata": {},
     "output_type": "execute_result"
    }
   ],
   "source": [
    "A.dot(b)"
   ]
  },
  {
   "cell_type": "markdown",
   "id": "3b36f3dd",
   "metadata": {},
   "source": [
    "Результатом произведения единичной матрицы и вектора является этот же вектор."
   ]
  },
  {
   "cell_type": "code",
   "execution_count": 17,
   "id": "b10bed52",
   "metadata": {},
   "outputs": [
    {
     "data": {
      "text/plain": [
       "array([4, 5, 6])"
      ]
     },
     "execution_count": 17,
     "metadata": {},
     "output_type": "execute_result"
    }
   ],
   "source": [
    "I = np.identity(b.shape[0], dtype=int)\n",
    "I.dot(b)"
   ]
  },
  {
   "cell_type": "markdown",
   "id": "2a03beb5",
   "metadata": {},
   "source": [
    "(math-lab-matrix-transpose)=\n",
    "## Транспонирование матрицы\n",
    "\n",
    "Для того чтобы ***транспонировать матрицу***, нужно ее строки записать в столбцы транспонированной матрицы. Транспонирование обозначается символом $^\\top$ или изменением индексов матрицы:\n",
    "\n",
    "$$ \\begin{align} & \\mathbf{A} = \\left\\{ a_{ij}, \\, i=1 \\ldotp \\ldotp n, \\, j = 1 \\ldotp \\ldotp m \\right\\}, \\\\ & \\mathbf{A}^{\\top} = \\left\\{ a_{ji}, \\, j = 1 \\ldotp \\ldotp m, \\, i=1 \\ldotp \\ldotp n \\right\\}. \\end{align} $$"
   ]
  },
  {
   "cell_type": "code",
   "execution_count": 18,
   "id": "8a446029",
   "metadata": {},
   "outputs": [
    {
     "data": {
      "text/plain": [
       "array([[0, 1, 2],\n",
       "       [1, 2, 3],\n",
       "       [2, 3, 4],\n",
       "       [3, 4, 5]])"
      ]
     },
     "execution_count": 18,
     "metadata": {},
     "output_type": "execute_result"
    }
   ],
   "source": [
    "A"
   ]
  },
  {
   "cell_type": "code",
   "execution_count": 19,
   "id": "059b97ac",
   "metadata": {},
   "outputs": [
    {
     "data": {
      "text/plain": [
       "array([[0, 1, 2, 3],\n",
       "       [1, 2, 3, 4],\n",
       "       [2, 3, 4, 5]])"
      ]
     },
     "execution_count": 19,
     "metadata": {},
     "output_type": "execute_result"
    }
   ],
   "source": [
    "A.T"
   ]
  },
  {
   "cell_type": "markdown",
   "id": "2363028f",
   "metadata": {},
   "source": [
    "```{admonition} Определение\n",
    ":class: tip\n",
    "***Симметричной матрицей*** называется *квадратная матрица*, совпадающая со своей транспонированной матрицей, то есть:\n",
    "\n",
    "$$ A = A^{\\top}. $$\n",
    "\n",
    "```\n",
    "\n",
    "Например, единичная матрица является симметричной:"
   ]
  },
  {
   "cell_type": "code",
   "execution_count": 20,
   "id": "1b5b7ade",
   "metadata": {},
   "outputs": [
    {
     "data": {
      "text/plain": [
       "True"
      ]
     },
     "execution_count": 20,
     "metadata": {},
     "output_type": "execute_result"
    }
   ],
   "source": [
    "np.allclose(I, I.T)"
   ]
  },
  {
   "cell_type": "markdown",
   "id": "b35861be",
   "metadata": {},
   "source": [
    "Например, симметричная матрица получается в результате [тензорного произведения вектора](LAB-2-VectorOperations.md#math-lab-vectoroperations-outerproduct) на самого себя:"
   ]
  },
  {
   "cell_type": "code",
   "execution_count": 21,
   "id": "e73c11e0",
   "metadata": {},
   "outputs": [
    {
     "data": {
      "text/plain": [
       "array([[16, 20, 24],\n",
       "       [20, 25, 30],\n",
       "       [24, 30, 36]])"
      ]
     },
     "execution_count": 21,
     "metadata": {},
     "output_type": "execute_result"
    }
   ],
   "source": [
    "np.outer(b, b)"
   ]
  },
  {
   "cell_type": "markdown",
   "id": "31c87316",
   "metadata": {},
   "source": [
    "(math-lab-matrix-trace)=\n",
    "## След матрицы\n",
    "\n",
    "Под ***следом матрицы*** понимается сумма компонентов главной диагонали квадратной матрицы."
   ]
  },
  {
   "cell_type": "code",
   "execution_count": 22,
   "id": "d7c9ca09",
   "metadata": {},
   "outputs": [
    {
     "data": {
      "text/plain": [
       "array([[ 1,  3, 14],\n",
       "       [ 5,  2, -7],\n",
       "       [ 4, -2,  7]])"
      ]
     },
     "execution_count": 22,
     "metadata": {},
     "output_type": "execute_result"
    }
   ],
   "source": [
    "A = np.array([[1, 3, 14], [5, 2, -7], [4, -2, 7]])\n",
    "A"
   ]
  },
  {
   "cell_type": "code",
   "execution_count": 23,
   "id": "a7c27ad4",
   "metadata": {},
   "outputs": [
    {
     "data": {
      "text/plain": [
       "np.int64(10)"
      ]
     },
     "execution_count": 23,
     "metadata": {},
     "output_type": "execute_result"
    }
   ],
   "source": [
    "np.trace(A)"
   ]
  }
 ],
 "metadata": {
  "jupytext": {
   "text_representation": {
    "extension": ".md",
    "format_name": "myst",
    "format_version": "3.0.1",
    "jupytext_version": "1.16.3"
   }
  },
  "kernelspec": {
   "display_name": "Python 3 (ipykernel)",
   "language": "python",
   "name": "python3"
  },
  "language_info": {
   "codemirror_mode": {
    "name": "ipython",
    "version": 3
   },
   "file_extension": ".py",
   "mimetype": "text/x-python",
   "name": "python",
   "nbconvert_exporter": "python",
   "pygments_lexer": "ipython3",
   "version": "3.12.7"
  },
  "source_map": [
   14,
   18,
   69,
   72,
   76,
   78,
   89,
   93,
   95,
   104,
   109,
   113,
   115,
   126,
   131,
   136,
   138,
   142,
   145,
   152,
   154,
   163,
   166,
   172,
   178,
   180,
   184,
   187,
   196,
   200,
   202,
   214,
   216,
   220,
   222,
   229,
   234
  ]
 },
 "nbformat": 4,
 "nbformat_minor": 5
}