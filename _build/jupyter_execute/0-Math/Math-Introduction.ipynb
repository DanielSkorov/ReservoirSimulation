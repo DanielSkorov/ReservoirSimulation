{
 "cells": [
  {
   "cell_type": "markdown",
   "id": "e8a5ed9a",
   "metadata": {},
   "source": [
    "(math)=\n",
    "# Основы вычислительной математики\n",
    "Данный раздел предназначен для ознакомления читателя с некоторыми математическими операциями с целью улучшения понимания получения и использования математических выражений при рассмотрении вопросов моделирования. Данный раздел не предназначен для изучения вопросов математики, в нем не рассматриваются фундаментальные математические структуры - для этого существуют отдельные пособия, учебные и научные материалы. Однако данный раздел комплексирует тот необходимый математический минимум, который авторами считается полезным для понимания вопросов, рассматриваемых в дальнейшем.\n",
    "\n",
    "**Содержание:**\n",
    "* ***[Основы линейной алгебры](./0-LAB/LAB-0-Introduction.md)***\n",
    "    * [Векторы](./0-LAB/LAB-1-Vectors.md)\n",
    "    * [Векторные операции](./0-LAB/LAB-2-VectorOperations.md)\n",
    "    * [Направляющие косинусы](./0-LAB/LAB-3-RotationAngles.md)\n",
    "    * [Матрицы](./0-LAB/LAB-4-Matrices.md)\n",
    "    * [Определитель матрицы. Обратная матрица](./0-LAB/LAB-5-Determinant-InverseMatrix.md)\n",
    "    * [Матричные уравнения](./0-LAB/LAB-6-MatrixEquation.md)\n",
    "    * [Собственный вектор](./0-LAB/LAB-7-Eigenvalues-Eigenvectors.md)\n",
    "    * [Линейные преобразования](./0-LAB/LAB-8-LinearTransformations.md)\n",
    "* ***[Методы оптимизации функций](./1-OM/OM-0-Introduction.md)***"
   ]
  }
 ],
 "metadata": {
  "jupytext": {
   "text_representation": {
    "extension": ".md",
    "format_name": "myst",
    "format_version": "3.0.1",
    "jupytext_version": "1.16.3"
   }
  },
  "kernelspec": {
   "display_name": "Python 3 (ipykernel)",
   "language": "python",
   "name": "python3"
  },
  "language_info": {
   "codemirror_mode": {
    "name": "ipython",
    "version": 3
   },
   "file_extension": ".py",
   "mimetype": "text/x-python",
   "name": "python",
   "nbconvert_exporter": "python",
   "pygments_lexer": "ipython3",
   "version": "3.12.7"
  },
  "source_map": [
   12
  ]
 },
 "nbformat": 4,
 "nbformat_minor": 5
}