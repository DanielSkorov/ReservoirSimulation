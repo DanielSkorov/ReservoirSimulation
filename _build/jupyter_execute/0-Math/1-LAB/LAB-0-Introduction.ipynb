{
 "cells": [
  {
   "cell_type": "markdown",
   "id": "1986596b",
   "metadata": {},
   "source": [
    "<a id='math.lab'></a>\n",
    "# Основы линейной алгебры\n",
    "Понимание операций над векторами, матрицами является необходимым, поскольку основными смысловыми единицами в моделировании могут выступать величины, представляющие собой векторы (как, например, *скорость течения* в гидродинамике или *вектор напряжения* в геомеханике). Таким образом, в данном разделе собрана основная вспомогательная информация об основах линейной алгебры."
   ]
  },
  {
   "cell_type": "markdown",
   "id": "39cd43ef",
   "metadata": {},
   "source": [
    "В данном разделе будут использоваться стандартные библиотеки [*numpy*](https://numpy.org) для проведения операций над матрицами и [*matplotlib*](https://matplotlib.org) для построения графиков и отображения информации."
   ]
  },
  {
   "cell_type": "markdown",
   "id": "079e48f0",
   "metadata": {},
   "source": [
    "При составлении данного раздела использовалась информация, изложенная на интернет-ресурсе [mathprofi.ru](http://mathprofi.ru) и в курсе линейной алгебы от [Khan Academy](https://www.youtube.com/playlist?list=PLFD0EB975BA0CC1E0)."
   ]
  },
  {
   "cell_type": "markdown",
   "id": "cfac58b8",
   "metadata": {},
   "source": [
    "**Содержание:**\n",
    "* [Вектор. Координаты вектора](./LAB-1-Vectors.md)\n",
    "* [Операции с векторами](./LAB-2-VectorOperations.md)\n",
    "* [Направляющие косинусы](./LAB-3-RotationAngles.md)\n",
    "* [Матрицы](./LAB-4-Matrices.md)\n",
    "* [Определитель матрицы. Обратная матрица](./LAB-5-Determinant-InverseMatrix.md)\n",
    "* [Матричные уравнения](./LAB-6-MatrixEquation.md)\n",
    "* [Собственные векторы и значения матриц](./LAB-7-Eigenvalues-Eigenvectors.md)\n",
    "* [Линейные преобразования](./LAB-8-LinearTransformations.md)"
   ]
  }
 ],
 "metadata": {
  "jupytext": {
   "text_representation": {
    "extension": ".md",
    "format_name": "myst",
    "format_version": 0.13,
    "jupytext_version": "1.10.3"
   }
  },
  "kernelspec": {
   "display_name": "Python 3 (ipykernel)",
   "language": "python",
   "name": "python3"
  },
  "language_info": {
   "codemirror_mode": {
    "name": "ipython",
    "version": 3
   },
   "file_extension": ".py",
   "mimetype": "text/x-python",
   "name": "python",
   "nbconvert_exporter": "python",
   "pygments_lexer": "ipython3",
   "version": "3.7.13"
  },
  "source_map": [
   14,
   20,
   24,
   28
  ]
 },
 "nbformat": 4,
 "nbformat_minor": 5
}