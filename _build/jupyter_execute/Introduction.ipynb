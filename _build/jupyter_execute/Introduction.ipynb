{
 "cells": [
  {
   "cell_type": "markdown",
   "id": "5f64267e",
   "metadata": {},
   "source": [
    "# Основы моделирования пластовых систем\n",
    "\n",
    "**Содержание:**\n",
    "* ***[Основы вычислительной математики](./0-Math/Math-Introduction.md)***\n",
    "    * [Основы линейной алгебры](./0-Math/0-LAB/LAB-0-Introduction.md)\n",
    "    * [Методы оптимизации функций](./0-Math/1-OM/OM-0-Introduction.md)\n",
    "* ***[PVT-моделирование](./1-PVT/PVT-Introduction.md)***\n",
    "    * [Основы термодинамики](./1-PVT/1-TD/TD-0-Introduction.md)\n",
    "    * [Уравнения состояния](./1-PVT/2-EOS/EOS-0-Introduction.md)\n",
    "    * [Стабильность. Равновесие. Критическое состояние](./1-PVT/3-SEC/SEC-0-Introduction.md)\n",
    "    * [Моделирование лабораторных исследований](./1-PVT/4-LAB/LAB-0-Introduction.md)"
   ]
  }
 ],
 "metadata": {
  "jupytext": {
   "text_representation": {
    "extension": ".md",
    "format_name": "myst",
    "format_version": "3.0.1",
    "jupytext_version": "1.16.3"
   }
  },
  "kernelspec": {
   "display_name": "Python 3 (ipykernel)",
   "language": "python",
   "name": "python3"
  },
  "language_info": {
   "codemirror_mode": {
    "name": "ipython",
    "version": 3
   },
   "file_extension": ".py",
   "mimetype": "text/x-python",
   "name": "python",
   "nbconvert_exporter": "python",
   "pygments_lexer": "ipython3",
   "version": "3.12.7"
  },
  "source_map": [
   12
  ]
 },
 "nbformat": 4,
 "nbformat_minor": 5
}