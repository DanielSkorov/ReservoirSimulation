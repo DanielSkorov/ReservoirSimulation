{
 "cells": [
  {
   "cell_type": "markdown",
   "id": "f26dd1f3",
   "metadata": {},
   "source": [
    "(pvt)=\n",
    "# PVT-моделирование\n",
    "\n",
    "Изучение вопросов PVT-моделирования позволяет понять, как постоянно изменяющиеся условия (термобарические, химические и т.д.) в процессе разработки залежей углеводородов влияют на свойства флюидов. Понимание взаимовлияния параметров многокомпонентных систем необходимо для моделирования их течения в поровом (и не только) пространстве. Следовательно, рассмотрение вопросов гидродинамического моделирования рекомендуется начать с изучения PVT-моделирования.\n",
    "\n",
    "**Содержание:**\n",
    "* ***[Основы термодинамики](./1-TD/TD-0-Introduction.md)***\n",
    "    * [Введение в термодинамику](./1-TD/TD-1-Basics.md)\n",
    "    * [Термическое равновесие](./1-TD/TD-2-ThermalEquilibrium.md)\n",
    "    * [Количество теплоты и работа](./1-TD/TD-3-Heat-Work.md)\n",
    "    * [Теплоемкость](./1-TD/TD-4-HeatCapacity.md)\n",
    "    * [Энтальпия](./1-TD/TD-5-Enthalpy.md)\n",
    "    * [Энтропия](./1-TD/TD-6-Entropy.md)\n",
    "    * [Химический потенциал](./1-TD/TD-7-ChemicalPotential.md)\n",
    "    * [Энергия Гельмгольца. Энергия Гиббса](./1-TD/TD-8-Helmholtz-Gibbs.md)\n",
    "    * [Интенсивные и экстенсивные параметры](./1-TD/TD-9-Observables.md)\n",
    "    * [Энергия Гиббса многокомпонентной системы](./1-TD/TD-10-MixtureGibbsEnergy.md)\n",
    "    * [Правило фаз Гиббса](./1-TD/TD-11-GibbsPhaseRule.md)\n",
    "    * [Уравнение Гиббса-Дюгема](./1-TD/TD-12-GibbsDuhemEquation.md)\n",
    "    * [Соотношения Максвелла](./1-TD/TD-13-MaxwellRelations.md)\n",
    "    * [Свободная энергия и фазовое равновесие](./1-TD/TD-14-PhaseEquilibrium.md)\n",
    "    * [Летучесть](./1-TD/TD-15-Fugacity.md)\n",
    "* ***[Уравнения состояния](./2-EOS/EOS-0-Introduction.md)***\n",
    "    * [Уравнение состояния Ван-дер-Ваальса](./2-EOS/EOS-1-VanDerWaals.md)\n",
    "    * [Уравнения состояния Суаве-Редлиха-Квонга и Пенга-Робинсона](./2-EOS/EOS-2-SRK-PR.md)\n",
    "    * [Кубическое уравнение состояния с учетом ассоциации молекул](./2-EOS/EOS-3-CPA.md)\n",
    "    * [Приложение A. Частные производные летучести компонентов](./2-EOS/EOS-Appendix-A-PD.md)\n",
    "    * [Приложение B. Универсальный расчет коэффициентов попарного взаимодействия](./2-EOS/EOS-Appendix-B-BIP.md)\n",
    "* ***[Стабильность. Равновесие. Критическое состояние](./3-SEC/SEC-0-Introduction.md)***\n",
    "    * [Определение стабильности фазового состояния системы](./3-SEC/SEC-1-Stability.md)\n",
    "    * [Определение равновесного состояния системы](./3-SEC/SEC-2-Equilibrium.md)\n",
    "    <!-- * [Определение критического состояния системы](./3-SEC/SEC-3-Criticality.md) -->"
   ]
  }
 ],
 "metadata": {
  "jupytext": {
   "text_representation": {
    "extension": ".md",
    "format_name": "myst",
    "format_version": "3.0.1",
    "jupytext_version": "1.16.3"
   }
  },
  "kernelspec": {
   "display_name": "Python 3 (ipykernel)",
   "language": "python",
   "name": "python3"
  },
  "language_info": {
   "codemirror_mode": {
    "name": "ipython",
    "version": 3
   },
   "file_extension": ".py",
   "mimetype": "text/x-python",
   "name": "python",
   "nbconvert_exporter": "python",
   "pygments_lexer": "ipython3",
   "version": "3.12.7"
  },
  "source_map": [
   12
  ]
 },
 "nbformat": 4,
 "nbformat_minor": 5
}