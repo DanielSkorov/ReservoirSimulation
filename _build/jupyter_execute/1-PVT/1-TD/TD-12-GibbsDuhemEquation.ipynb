{
 "cells": [
  {
   "cell_type": "markdown",
   "id": "34bcf0b9",
   "metadata": {},
   "source": [
    "(pvt-td-gibbsduhemequation)=\n",
    "# Уравнение Гиббса-Дюгема\n",
    "Рассматривая изотермический квазистационарный процесс, дифференциал энергии Гиббса может быть записан следующим образом:\n",
    "\n",
    "$$ dG = \\sum_i \\mu_i dN_i + \\sum_i N_i d \\mu_i. $$\n",
    "\n",
    "С другой стороны, [ранее](TD-8-Helmholtz-Gibbs.md#pvt-td-helmholtzgibbs-gibbspartials) было показано, что дифференциал энергии Гиббса:\n",
    "\n",
    "$$ dG = -S dT + V dP + \\sum_i \\mu_i dN_i. $$\n",
    "\n",
    "Приравнивая правые части записанных выше уравнений, получим:\n",
    "\n",
    "$$ S dT - V dP + \\sum_i N_i d \\mu_i = 0. $$\n",
    "\n",
    "Данное уравнение является уравнением Гиббса-Дюгема.\n",
    "\n",
    "Если в системе температура и давление постоянны, то уравнение Гиббса-Дюгема:\n",
    "\n",
    "$$ \\sum_i N_i d \\mu_i = 0. $$"
   ]
  }
 ],
 "metadata": {
  "jupytext": {
   "text_representation": {
    "extension": ".md",
    "format_name": "myst",
    "format_version": "3.0.1",
    "jupytext_version": "1.16.3"
   }
  },
  "kernelspec": {
   "display_name": "Python 3 (ipykernel)",
   "language": "python",
   "name": "python3"
  },
  "language_info": {
   "codemirror_mode": {
    "name": "ipython",
    "version": 3
   },
   "file_extension": ".py",
   "mimetype": "text/x-python",
   "name": "python",
   "nbconvert_exporter": "python",
   "pygments_lexer": "ipython3",
   "version": "3.12.7"
  },
  "source_map": [
   12
  ]
 },
 "nbformat": 4,
 "nbformat_minor": 5
}