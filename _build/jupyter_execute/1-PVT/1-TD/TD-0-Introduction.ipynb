{
 "cells": [
  {
   "cell_type": "markdown",
   "id": "f1604881",
   "metadata": {},
   "source": [
    "(pvt-td)=\n",
    "# Основы термодинамики\n",
    "Данный раздел предназначен для изложения основ термодинамики с целью получения математических моделей, позволяющих описывать изменения свойств чистых компонентов и смесей с точки зрения основных термодинамических параметров.\n",
    "\n",
    "\n",
    "**Содержание:**\n",
    "* [Введение в термодинамику](TD-1-Basics.md)\n",
    "* [Термическое равновесие](TD-2-ThermalEquilibrium.md)\n",
    "* [Количество теплоты и работа](TD-3-Heat-Work.md)\n",
    "* [Теплоемкость](TD-4-HeatCapacity.md)\n",
    "* [Энтальпия](TD-5-Enthalpy.md)\n",
    "* [Энтропия](TD-6-Entropy.md)\n",
    "* [Химический потенциал](TD-7-ChemicalPotential.md)\n",
    "* [Энергия Гельмгольца. Энергия Гиббса](TD-8-Helmholtz-Gibbs.md)\n",
    "* [Интенсивные и экстенсивные параметры](TD-9-Observables.md)\n",
    "* [Энергия Гиббса многокомпонентной системы](TD-10-MixtureGibbsEnergy.md)\n",
    "* [Правило фаз Гиббса](TD-11-GibbsPhaseRule.md)\n",
    "* [Уравнение Гиббса-Дюгема](TD-12-GibbsDuhemEquation.md)\n",
    "* [Соотношения Максвелла](TD-13-MaxwellRelations.md)\n",
    "* [Свободная энергия и фазовое равновесие](TD-14-PhaseEquilibrium.md)\n",
    "* [Летучесть](TD-15-Fugacity.md)"
   ]
  }
 ],
 "metadata": {
  "jupytext": {
   "text_representation": {
    "extension": ".md",
    "format_name": "myst",
    "format_version": "3.0.1",
    "jupytext_version": "1.16.3"
   }
  },
  "kernelspec": {
   "display_name": "Python 3 (ipykernel)",
   "language": "python",
   "name": "python3"
  },
  "language_info": {
   "codemirror_mode": {
    "name": "ipython",
    "version": 3
   },
   "file_extension": ".py",
   "mimetype": "text/x-python",
   "name": "python",
   "nbconvert_exporter": "python",
   "pygments_lexer": "ipython3",
   "version": "3.12.7"
  },
  "source_map": [
   12
  ]
 },
 "nbformat": 4,
 "nbformat_minor": 5
}