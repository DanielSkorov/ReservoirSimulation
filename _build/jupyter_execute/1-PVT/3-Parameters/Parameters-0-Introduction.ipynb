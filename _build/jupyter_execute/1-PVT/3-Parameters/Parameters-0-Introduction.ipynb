{
 "cells": [
  {
   "cell_type": "markdown",
   "id": "51bf6721",
   "metadata": {},
   "source": [
    "<a id='pvt-parameters'></a>\n",
    "# Определение параметров систем с использованием уравнений состояния\n",
    "[Рассмотренные уравнения состояния](../2-EOS/EOS-0-Introduction.md) для определения летучести компонентов были рассмотрены в предыдущем разделе. Здесь будут рассмотрены подходы к определению таких термодинамических параметров, как внутренняя энергия, энтальпия и т.д. Кроме того, в приложении к данному приложению рассматриваются подходы к нахождению частных произодных термодинамических параметров по давлению, температуре и количеству вещества компонентов."
   ]
  },
  {
   "cell_type": "markdown",
   "id": "2eaf94c3",
   "metadata": {},
   "source": [
    "**Содержание:**\n",
    "* [Внутренняя энергия](./Parameters-1-InternalEnergy.md)\n",
    "* [Энтальпия](./Parameters-2-Enthalpy.md)\n",
    "* [Энтропия](./Parameters-3-Entropy.md)\n",
    "* [Теплоемкость](./Parameters-4-HeatCapacity.md)\n",
    "* [Химический потенциал](./Parameters-5-ChemicalPotential.md)\n",
    "* [Энергия Гиббса](./Parameters-6-GibbsEnergy.md)\n",
    "* [Энергия Гельмгольца](./Parameters-7-HelmholtzEnergy.md)\n",
    "* [Коэффициент сжимаемости. Коэффициент термического расширения](./Parameters-8-Compressibility-ThermalExpansion.md)\n",
    "* [Коэффициент Джоуля-Томсона](./Parameters-9-JouleThomsonCoefficient.md)\n",
    "* [Приложение A. Частные производные термодинамических параметров](./Parameters-Appendix-A-PD.md)"
   ]
  }
 ],
 "metadata": {
  "jupytext": {
   "text_representation": {
    "extension": ".md",
    "format_name": "myst",
    "format_version": 0.13,
    "jupytext_version": "1.10.3"
   }
  },
  "kernelspec": {
   "display_name": "Python 3 (ipykernel)",
   "language": "python",
   "name": "python3"
  },
  "language_info": {
   "codemirror_mode": {
    "name": "ipython",
    "version": 3
   },
   "file_extension": ".py",
   "mimetype": "text/x-python",
   "name": "python",
   "nbconvert_exporter": "python",
   "pygments_lexer": "ipython3",
   "version": "3.7.13"
  },
  "source_map": [
   12,
   18
  ]
 },
 "nbformat": 4,
 "nbformat_minor": 5
}