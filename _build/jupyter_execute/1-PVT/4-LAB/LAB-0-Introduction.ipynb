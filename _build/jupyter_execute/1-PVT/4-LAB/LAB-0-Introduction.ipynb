{
 "cells": [
  {
   "cell_type": "markdown",
   "id": "64a7337b",
   "metadata": {},
   "source": [
    "(pvt-lab)=\n",
    "# Моделирование лабораторных исследований\n",
    "\n",
    "В данном разделе будут рассматриваться подходы к моделированию лабораторных PVT-исследований, а также способы адаптации флюидных моделей на результаты лабораторных экспериментов.\n",
    "\n",
    "**Содержание:**"
   ]
  }
 ],
 "metadata": {
  "jupytext": {
   "text_representation": {
    "extension": ".md",
    "format_name": "myst",
    "format_version": "3.0.1",
    "jupytext_version": "1.16.3"
   }
  },
  "kernelspec": {
   "display_name": "Python 3 (ipykernel)",
   "language": "python",
   "name": "python3"
  },
  "language_info": {
   "codemirror_mode": {
    "name": "ipython",
    "version": 3
   },
   "file_extension": ".py",
   "mimetype": "text/x-python",
   "name": "python",
   "nbconvert_exporter": "python",
   "pygments_lexer": "ipython3",
   "version": "3.12.7"
  },
  "source_map": [
   12
  ]
 },
 "nbformat": 4,
 "nbformat_minor": 5
}