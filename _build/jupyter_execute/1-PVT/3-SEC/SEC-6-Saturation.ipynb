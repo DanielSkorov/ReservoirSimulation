{
 "cells": [
  {
   "cell_type": "markdown",
   "id": "f354e22e",
   "metadata": {},
   "source": [
    "(pvt-esc-saturation)=\n",
    "# Определение насыщенного состояния системы\n",
    "\n",
    "\n",
    "\n",
    "(pvt-esc-saturation-pt)=\n",
    "## PT-термодинамика\n",
    "\n",
    "\n",
    "\n",
    "\n",
    "(pvt-esc-saturation-vt)=\n",
    "## VT-термодинамика"
   ]
  }
 ],
 "metadata": {
  "jupytext": {
   "text_representation": {
    "extension": ".md",
    "format_name": "myst",
    "format_version": "3.0.1",
    "jupytext_version": "1.16.3"
   }
  },
  "kernelspec": {
   "display_name": "Python 3 (ipykernel)",
   "language": "python",
   "name": "python3"
  },
  "language_info": {
   "codemirror_mode": {
    "name": "ipython",
    "version": 3
   },
   "file_extension": ".py",
   "mimetype": "text/x-python",
   "name": "python",
   "nbconvert_exporter": "python",
   "pygments_lexer": "ipython3",
   "version": "3.12.7"
  },
  "source_map": [
   12
  ]
 },
 "nbformat": 4,
 "nbformat_minor": 5
}