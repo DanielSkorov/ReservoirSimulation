{
 "cells": [
  {
   "cell_type": "markdown",
   "id": "069ceddb",
   "metadata": {},
   "source": [
    "(pvt-esc-equilibrium)=\n",
    "# Определение равновесного состояния системы\n",
    "\n",
    "В [предыдущем разделе](SEC-1-Stability.md) были подробно представлены особенности проверки стабильности фазового состояния системы. Данный раздел посвящен расчету равновесного фазового состояния, проводимому в том случае, если по результатам анализа стабильности текущее фазовое состояние оказалось нестабильным. Как и в случае анализа стабильности, расчет равновесного состояния также имеет различные формулировки ([PT-термодинамика](#pvt-esc-equilibrium-pt), [VT-термодинамика](#pvt-esc-equilibrium-vt)).\n",
    "\n",
    "## Уравнение Речфорда-Райса\n",
    "\n",
    "Рассмотрим многофазную ($N_p$ – количество фаз) многокомпонентную ($N_c$ – количество компонентов) систему с количеством вещества в системе $n$. Количество вещества $i$-го компонента в системе обозначим $n_i$, причем сумма количеств вещества всех компонентов будет составлять количество вещества всей системы:\n",
    "\n",
    "$$ \\sum_{i=1}^{N_c} n_i = n. $$\n",
    "\n",
    "Пусть количество вещества $j$-й фазы будет $n^j$, тогда сумма количеств вещества всех фаз также будет составлять количество вещества всей системы:\n",
    "\n",
    "$$ \\sum_{j=1}^{N_p} n^j = n. $$\n",
    "\n",
    "Обозначим количество вещества $i$-го компонента в $j$-й фазе $n_i^j$, следовательно:\n",
    "\n",
    "$$ \\begin{align}\n",
    "\\sum_{i=1}^{N_c} n_i^j &= n^j, \\; j = 1 \\, \\ldots \\, N_p, \\\\\n",
    "\\sum_{j=1}^{N_p} n_i^j &= n_i, \\; i = 1 \\, \\ldots \\, N_c, \\\\\n",
    "\\sum_{i=1}^{N_c} \\sum_{j=1}^{N_p} n_i^j &= n.\n",
    "\\end{align} $$\n",
    "\n",
    "Пусть мольная доля $i$-го компонента в системе в целом обозначается $y_i$ и характеризует отношение количества вещества $i$-го компонента к количеству вещества всей системы, то есть:\n",
    "\n",
    "$$ y_i = \\frac{n_i}{n}, \\; i = 1 \\, \\ldots \\, N_c. $$\n",
    "\n",
    "Причем,\n",
    "\n",
    "$$ \\sum_{i=1}^{N_c} y_i = 1. $$\n",
    "\n",
    "Пусть мольная доля $j$-й фазы в системе обозначается $F^j$ и соответствует следующему выражению:\n",
    "\n",
    "$$ F^j = \\frac{n^j}{n}, \\; j = 1 \\, \\ldots \\, N_p. $$\n",
    "\n",
    "То есть мольная доля $j$-й фазы характеризует отношение количества вещества $j$-й фазы к количеству вещества всей систеы. При этом,\n",
    "\n",
    "$$ \\sum_{j=1}^{N_p} F^j = 1. $$\n",
    "\n",
    "Пусть мольная доля $i$-го компонента в $j$-й фазе обозначается $y_i^j$, характеризует отношение количества вещества $i$-го компонента в $j$-й фазе к количеству вещества $j$-й фазы. Математически это записывается следующим образом:\n",
    "\n",
    "$$ y_i^j = \\frac{n_i^j}{n^j}, \\; j = 1 \\, \\ldots \\, N_p, \\; i = 1 \\, \\ldots \\, N_c. $$\n",
    "\n",
    "Причем,\n",
    "\n",
    "$$ \\sum_{i=1}^{N_c} y_i^j = 1, \\; j = 1 \\, \\ldots \\, N_p. $$\n",
    "\n",
    "Введем понятие константы фазового равновесия (*k-value*):\n",
    "\n",
    "```{admonition} Определение\n",
    ":class: tip\n",
    "***Константа фазового равновесия*** $i$-го компонента характеризует отношение мольной доли компонента в фазе $j$ к мольной доли этого же компонета в референсной фазе $R$:\n",
    "\n",
    "$$ K_i^{jR} = \\frac{y_i^j}{y_i^R}, \\; j = \\left\\{ 1 \\, \\ldots \\, N_p \\right\\} - \\left\\{ R \\right\\}. $$\n",
    "\n",
    "```\n",
    "\n",
    "При этом,\n",
    "\n",
    "$$ K_i^{RR} = \\frac{y_i^R}{y_i^R} = 1. $$\n",
    "\n",
    "Кроме того, необходимо отметить, что референсной фазой может быть любая. Рассмотрим следующее соотношение:\n",
    "\n",
    "$$ \\sum_{k=1}^{N_p} n_i^k = n_i, \\; i = 1 \\, \\ldots \\, N_c. $$\n",
    "\n",
    "Разделим левую и правую части данного выражения на количество вещества системы $n$:\n",
    "\n",
    "$$ \\sum_{k=1}^{N_p} \\frac{n_i^k}{n} = \\frac{n_i}{n}, \\; i = 1 \\, \\ldots \\, N_c. $$\n",
    "\n",
    "В левой части выражения домножим числитель и знаменатель каждого слагаемого на количество вещества соответствующей $k$-й фазы $n^k$:\n",
    "\n",
    "$$ \\sum_{k=1}^{N_p} \\frac{n_i^k}{n} \\frac{n^k}{n^k} = \\sum_{k=1}^{N_p} \\frac{n_i^k}{n^k} \\frac{n^k}{n} = \\frac{n_i}{n}, \\; i = 1 \\, \\ldots \\, N_c. $$\n",
    "\n",
    "С учетом представленных выше соотношений, данное выражение преобразуется к следующему:\n",
    "\n",
    "$$ \\sum_{k=1}^{N_p} y_i^k F^k = y_i, \\; i = 1 \\, \\ldots \\, N_c. $$\n",
    "\n",
    "В левой части выражения выразим $y_i^k$ через константу фазового равновесия:\n",
    "\n",
    "$$ \\sum_{k=1}^{N_p} K_i^{kR} y_i^R F^k = y_i, \\; i = 1 \\, \\ldots \\, N_c. $$\n",
    "\n",
    "Поскольку $y_i^R$ в левой части выражения не зависит от индекса суммирования $k$, то ее можно вынести за знак суммирования:\n",
    "\n",
    "$$ y_i^R \\sum_{k=1}^{N_p} K_i^{kR} F^k = y_i, \\; i = 1 \\, \\ldots \\, N_c. $$\n",
    "\n",
    "Тогда:\n",
    "\n",
    "$$ y_i^R = \\frac{y_i}{\\sum_{k=1}^{N_p} K_i^{kR} F^k}, \\; i = 1 \\, \\ldots \\, N_c. $$\n",
    "\n",
    "Поскольку $y_i^j = K_i^{jR} y_i^R, \\; i = 1 \\, \\ldots \\, N_c, \\; j = 1 \\, \\ldots \\, N_p - 1$, то:\n",
    "\n",
    "$$ y_i^j = \\frac{y_i K_i^{jR}}{\\sum_{k=1}^{N_p} K_i^{kR} F^k}, \\; i = 1 \\, \\ldots \\, N_c, \\; j = 1 \\, \\ldots \\, N_p - 1. $$\n",
    "\n",
    "Здесь и далее в качестве референсной фазы принята фаза с индексом $j = N_p$. Учитывая\n",
    "\n",
    "$$ \\sum_{i=1}^{N_c} y_i^j = 1, \\; j = 1 \\, \\ldots \\, N_p, $$\n",
    "\n",
    "можно записать следующую систему уравнений:\n",
    "\n",
    "$$ \\sum_{i=1}^{N_c} y_i^j - \\sum_{i=1}^{N_c} y_i^R = 0, \\; j = 1 \\, \\ldots \\, N_p - 1. $$\n",
    "\n",
    "Подставляя полученные ранее выражения для мольной доли $i$-го компонента в фазе $j$ и референсной фазе $R$, получим:\n",
    "\n",
    "$$ \\begin{align}\n",
    "\\sum_{i=1}^{N_c} y_i^j - \\sum_{i=1}^{N_c} y_i^R &= 0, \\; j = 1 \\, \\ldots \\, N_p - 1, \\\\\n",
    "\\sum_{i=1}^{N_c} \\left( y_i^j - y_i^R \\right) &= 0, \\; j = 1 \\, \\ldots \\, N_p - 1, \\\\\n",
    "\\sum_{i=1}^{N_c} \\left( \\frac{y_i K_i^{jR}}{\\sum_{k=1}^{N_p} K_i^{kR} F^k} - \\frac{y_i}{\\sum_{k=1}^{N_p} K_i^{kR} F^k} \\right) &= 0, \\; j = 1 \\, \\ldots \\, N_p - 1, \\\\\n",
    "\\sum_{i=1}^{N_c} \\frac{y_i \\left( K_i^{jR} - 1 \\right)}{\\sum_{k=1}^{N_p} K_i^{kR} F^k} &= 0, \\; j = 1 \\, \\ldots \\, N_p - 1.\n",
    "\\end{align} $$\n",
    "\n",
    "С учетом $\\sum_{k=1}^{N_p} F^k = 1$ представленную выше систему уравнений можно преобразовать следующим образом:\n",
    "\n",
    "$$ \\begin{align}\n",
    "\\sum_{i=1}^{N_c} \\frac{y_i \\left( K_i^{jR} - 1 \\right)}{\\sum_{k=1}^{N_p} K_i^{kR} F^k} &= 0, \\; j = 1 \\, \\ldots \\, N_p - 1, \\\\\n",
    "\\sum_{i=1}^{N_c} \\frac{y_i \\left( K_i^{jR} - 1 \\right)}{\\sum_{k=1}^{N_p-1} K_i^{kR} F^k + K_i^{RR} F^R} &= 0, \\; j = 1 \\, \\ldots \\, N_p - 1, \\\\\n",
    "\\sum_{i=1}^{N_c} \\frac{y_i \\left( K_i^{jR} - 1 \\right)}{\\sum_{k=1}^{N_p-1} K_i^{kR} F^k + 1 - \\sum_{k=1}^{N_p-1} F^k} &= 0, \\; j = 1 \\, \\ldots \\, N_p - 1, \\\\\n",
    "\\sum_{i=1}^{N_c} \\frac{y_i \\left( K_i^{jR} - 1 \\right)}{\\sum_{k=1}^{N_p-1} F^k \\left( K_i^{kR} - 1 \\right) + 1} &= 0, \\; j = 1 \\, \\ldots \\, N_p - 1. \\\\\n",
    "\\end{align} $$\n",
    "\n",
    "Таким образом, система уравнений\n",
    "\n",
    "$$ \\sum_{i=1}^{N_c} \\frac{y_i \\left( K_i^{jR} - 1 \\right)}{\\sum_{k=1}^{N_p-1} F^k \\left( K_i^{kR} - 1 \\right) + 1} = 0, \\; j = 1 \\, \\ldots \\, N_p - 1, $$\n",
    "\n",
    "называется системой уравнений Речфорда-Райса. Она содержит $N_p - 1$ уравнений и разрешается относительно $F^k, \\; k = 1 \\, \\ldots \\, N_p - 1,$ неизвестных. После определения мольных долей фаз мольные доли компонентов в них определяются с использованием полученных ранее выражений:\n",
    "\n",
    "$$ \\begin{align}\n",
    "y_i^R &= \\frac{y_i}{\\sum_{k=1}^{N_p-1} F^k \\left( K_i^{kR} - 1 \\right) + 1}, \\\\\n",
    "y_i^j &=  K_i^{jR} y_i^R, \\; j = 1 \\, \\ldots \\, N_p - 1. \\\\\n",
    "\\end{align} $$\n",
    "\n",
    "### Уравнение Речфорда-Райса для двухфазных систем\n",
    "\n",
    "Рассмотрим двухфазную систему. Для такого случая уравнение Речфорда-Райса записывается следующим образом:\n",
    "\n",
    "$$ R \\left( F \\right) = \\sum_{i=1}^{N_c} \\frac{y_i \\left( K_i - 1 \\right)}{ F \\left( K_i - 1 \\right) + 1} = 0, $$\n",
    "\n",
    "где $F$ – мольная доля нереференсной фазы.\n",
    "\n",
    "С математической точки зрения уравнение Речфорда-Райса представляет собой сумму гипербол, поэтому наличие точки перегиба, то есть невыпуклый вид функции, осложняет применение численных методов для решения данного уравнения. Кроме того, одной из особенностей уравнения Речфорда-Райса является наличие [полюсов](https://en.wikipedia.org/wiki/Zeros_and_poles) в точках, где знаменатель равен нулю:\n",
    "\n",
    "$$ F \\left( K_i - 1 \\right) + 1 = 0 \\Rightarrow F = -\\frac{1}{K_i - 1}, \\; i = 1 \\, \\ldots \\, N_c. $$\n",
    "\n",
    "Для наглядности рассмотрим поведение данного уравнения на следующем примере.\n",
    "\n",
    "````{admonition} Пример\n",
    ":class: exercise\n",
    "\n",
    "Пусть мольные доли компонентов и их константы фазового равновесия заданы следующим образом.\n",
    "\n",
    "``` python\n",
    "import numpy as np\n",
    "yi = np.array([0.2, 0.4, 0.3, 0.1])\n",
    "kvi = np.array([5., 1.2, 0.8, 0.2])\n",
    "```\n",
    "\n",
    "Необходимо найти мольные доли фаз для заданной системы.\n",
    "\n",
    "````"
   ]
  },
  {
   "cell_type": "code",
   "execution_count": 1,
   "id": "4153ed85",
   "metadata": {
    "tags": [
     "remove-cell"
    ]
   },
   "outputs": [],
   "source": [
    "import numpy as np\n",
    "yi = np.array([0.2, 0.4, 0.3, 0.1])\n",
    "kvi = np.array([5., 1.2, 0.8, 0.2])"
   ]
  },
  {
   "cell_type": "markdown",
   "id": "516693b6",
   "metadata": {},
   "source": [
    "Построим график функции Речфорда-Райса."
   ]
  },
  {
   "cell_type": "code",
   "execution_count": 2,
   "id": "9e586efc",
   "metadata": {},
   "outputs": [
    {
     "name": "stdout",
     "output_type": "stream",
     "text": [
      "poles = array([-0.25, -5.  ,  5.  ,  1.25])\n"
     ]
    },
    {
     "data": {
      "image/png": "[encoded data removed]",
      "text/plain": [
       "<Figure size 600x400 with 1 Axes>"
      ]
     },
     "metadata": {},
     "output_type": "display_data"
    }
   ],
   "source": [
    "poles = -1. / (kvi - 1.)\n",
    "print(f'{poles = }')\n",
    "segments = np.sort(np.append(poles, [-7., 6.]))\n",
    "\n",
    "from matplotlib import pyplot as plt\n",
    "fig1, ax1 = plt.subplots(1, 1, figsize=(6., 4.), tight_layout=True)\n",
    "eps = 1e-3\n",
    "for i in range(segments.shape[0] - 1):\n",
    "    F = np.linspace(segments[i]+eps, segments[i+1]-eps, 100, endpoint=True)\n",
    "    R = np.sum(yi * (kvi - 1.) / (F[:,None] * (kvi - 1.) + 1), axis=1)\n",
    "    p1, = ax1.plot(F, R, lw=2., c='b', zorder=3)\n",
    "for pole in poles:\n",
    "    p2, = ax1.plot([pole, pole], [-1., 1.], lw=2., ls='--', c='r', zorder=3)\n",
    "p3 = ax1.fill_betweenx([-1., 1.], 0., 1., color='g', alpha=0.2, zorder=2)\n",
    "ax1.plot([-7., 6.], [0., 0.], lw=0.5, c='k')\n",
    "ax1.set_ylim(-1., 1.)\n",
    "ax1.set_ylabel('Уравнение Речфорда-Райса')\n",
    "ax1.set_xlim(-7., 6.)\n",
    "ax1.set_xlabel('Мольная доля фазы, д.ед.')\n",
    "ax1.legend(\n",
    "    [p1, p2, p3],\n",
    "    ['Уравнение Речфорда-Райса', 'Полюс', 'Физичные значения'],\n",
    "    loc=2,\n",
    "    fontsize=8\n",
    ")\n",
    "ax1.grid(zorder=1)"
   ]
  },
  {
   "cell_type": "markdown",
   "id": "5337a120",
   "metadata": {},
   "source": [
    "Анализируя полученные результаты, можно отметить, что помимо корня, находящегося в области физичных значений мольной доли фазы, то есть на отрезке $\\left[0, \\, 1 \\right]$, существуют также и другие корни. Естественно, численные методы решения нелинейных уравнений, применяемые для такого вида функций, не могут гарантировать быстрый и надежный поиск нужного корня, поэтому прежде чем переходить к рассмотрению алгоритмов решения уравнения Речфорда-Райса для двухфазных систем, необходимо выполнить ряд преобразований, позволяющих видоизменить функцию для получения выпуклого вида.\n",
    "\n",
    "Прежде всего, необходимо отметить, что у данной задачи есть несколько подходов к решению. Одним из таких подходов является выбор в качестве основной переменной мольной доли компонента в некоторой фазе, а не мольной доли фазы. Согласно \\[[Wang and Orr, 1997](https://doi.org/10.1016/S0378-3812(97)00179-9)\\], мольная доля фазы может принимать различные значения при решении уравнения Речфорда-Райса (что продемонстрировано на рисунке выше), в то время как мольные доли компонентов в фазах ограничены отрезком от нуля до единицы. Другой подход, изложенный в работе \\[[Leibovici and Neoschil, 1992](https://doi.org/10.1016/0378-3812(92)85069-K)\\], основан на преобразовании уравнения Речфорда-Райса, позволяющему сделать функцию более линейной в определенном интервале, содержащем корень. Третий подход предполагает выбор других основных переменных (количества вещества компонентов в фазах) для нахождения равновесного состония, позволяющий вообще убрать необходимость решения уравнения Речфорда-Райса, однако об этом речь пойдет в следующих подразделах. Подход к решению уравнения Речфорда-Райса, представленный далее, основан на работах \\[[Nichita and Leibovici, 2013](https://doi.org/10.1016/j.fluid.2013.05.030)\\], \\[[Nichita and Leibovici, 2017](https://doi.org/10.1016/j.fluid.2017.08.020)\\].\n",
    "\n",
    "Для начала необходимо описать тот результат, который необходимо получить. Поскольку численные методы решения нелинейных уравнений, в том числе метод Ньютона, показывают свою эффективность для выпуклых функций, а уравнение Речфорда-Райса не является таковым, то необходимо путем замены переменных преобразовать рассматриваемую функцию в выпуклую на интервале, содержащем искомый корень.\n",
    "\n",
    "Сначала необходимо отметить, что для того чтобы уравнение Речфорда-Райса имело хотя бы один корень, необходимо, чтобы хотя бы одно из слагаемых суммы\n",
    "\n",
    "$$ \\sum_{i=1}^{N_c} \\frac{y_i \\left( K_i - 1 \\right)}{ F \\left( K_i - 1 \\right) + 1} $$\n",
    "\n",
    "было отрицательным и хотя бы одно было положительным. Это возможно в том случае, если хотя бы одна из констант фазового равновесия будет меньше единицы, и хотя бы одна константа фазового равновесия будет больше единицы. Таким образом, дальнейшее рассмотрение справедливо с учетом сформулированного условия.\n",
    "\n",
    "Кроме того, ранее было показано, что уравнение Речфорда-Райса имеет $N_c$ асимптот, абсциссы которых описываются выражением:\n",
    "\n",
    "$$ F = \\frac{1}{1 - K_i}, \\; i = 1 \\, \\ldots \\, N_c. $$\n",
    "\n",
    "При этом, для того чтобы мольные доли компонентов в фазах, определяемые выражением:\n",
    "\n",
    "$$ y_i^R = \\frac{y_i}{F \\left( K_i - 1 \\right) + 1}, \\; i = 1 \\, \\ldots \\, N_c, $$\n",
    "\n",
    "были положительными, необходимо, чтобы было положительным следующее выражение:\n",
    "\n",
    "$$ F \\left( K_i - 1 \\right) + 1 > 0, \\; i = 1 \\, \\ldots \\, N_c. $$\n",
    "\n",
    "Пусть $K_1 > K_i > K_{N_c}, \\; i = 2 \\, \\ldots \\, N_c-1$, то есть константы фазового равновесия расположены по убыванию, тогда часть из них будет больше единицы, а часть из них меньше. Тогда представленное выше неравенство преобразуется в систему неравенств:\n",
    "\n",
    "$$ \\begin{cases}\n",
    "F > \\frac{1}{1 - K_i}, \\; i = 1 \\, \\ldots \\,, \\; K_i > 1, \\\\\n",
    "F < \\frac{1}{1 - K_i}, \\; i = \\ldots\\, N_c, \\; K_i < 1.\n",
    "\\end{cases} $$\n",
    "\n",
    "Ряд, определяемый выражением\n",
    "\n",
    "$$ \\frac{1}{1 - K_i}, \\; i = 1 \\, \\ldots \\,, \\; K_i > 1, $$\n",
    "\n",
    "содержит только отрицательные значения, причем наибольшее из них соответствует наибольшей константе фазового равновесия $K_1$. Ряд, определяемый выражением\n",
    "\n",
    "$$ \\frac{1}{1 - K_i}, \\; i = \\ldots\\, N_c, \\; K_i < 1, $$\n",
    "\n",
    "содержит только положительные значения, причем наименьшее из них соответствует наименьшей константе фазового равновесия $K_{N_c}$. Таким образом, диапазон значений:\n",
    "\n",
    "$$ F \\in \\left( \\frac{1}{1 - K_1}, \\, \\frac{1}{1 - K_{N_c}} \\right) $$\n",
    "\n",
    "определяет отрезок с необходимым корнем уравнения. Использование данного отрезка вместо отрезка физичных значений $\\left[0, \\, 1 \\right]$ было впервые предложено и обосновано в работе \\[[Whitson and Michelsen, 1989](http://doi.org/10.1016/0378-3812(89)80072-X)\\] и получило название *negative flash window (NF-window)*.\n",
    "\n",
    "Теперь перейдем к рассмотрению преобразования функции Речфорда-Райса к выпуклому виду на данном отрезке. Для этого введем следующее обозначение:\n",
    "\n",
    "$$ c_i = \\frac{1}{1 - K_i}, \\; i = 1 \\, \\ldots \\, N_c. $$\n",
    "\n",
    "Тогда уравнение Речфорда-Райса преобразуется к следующему виду:\n",
    "\n",
    "$$ R \\left( F \\right) = \\sum_{i=1}^{N_c} \\frac{y_i}{F - c_i} = 0. $$\n",
    "\n",
    "А отрезок NF-window:\n",
    "\n",
    "$$ F \\in \\left( с_1, \\, с_{N_c} \\right). $$\n",
    "\n",
    "Введем новую переменную:\n",
    "\n",
    "$$ a = \\frac{F - c_1}{c_{N_c} - F}. $$\n",
    "\n",
    "При этом, отрезок NF-window $F \\in \\left( с_1, \\, с_{N_c} \\right)$ эквивалентен интервалу $a \\in \\left(0, \\, +\\infty \\right)$. Уравнение Речфорда-Райса преобразуется следующим образом:\n",
    "\n",
    "$$ \\begin{align}\n",
    "\\sum_{i=1}^{N_c} \\frac{y_i}{F - c_i} &= 0, \\\\\n",
    "\\sum_{i=1}^{N_c} \\frac{y_i}{\\frac{c_{N_c} a + c_1}{a + 1} - c_i} &= 0, \\\\\n",
    "\\left( a + 1 \\right) \\sum_{i=1}^{N_c} \\frac{y_i}{c_{N_c} a + c_1 - c_i a - c_i} &= 0, \\\\\n",
    "\\left( a + 1 \\right) \\left( \\frac{y_1}{\\left( c_{N_c} - c_1 \\right) a} + \\sum_{i=2}^{N_c-1} \\frac{y_i}{c_{N_c} a + c_1 - c_i a - c_i} - \\frac{y_{N_c}}{c_{N_c} - c_1} \\right) &= 0, \\\\\n",
    "\\left( a + 1 \\right) \\left( \\frac{y_1}{a} + \\sum_{i=2}^{N_c-1} \\frac{y_i \\left( c_{N_c} - c_1 \\right)}{\\left( c_{N_c} - c_1 + c_1 - c_i \\right) a + c_1 - c_i} - y_{N_c} \\right) &= 0, \\\\\n",
    "\\left( a + 1 \\right) \\left( \\frac{y_1}{a} + \\sum_{i=2}^{N_c-1} \\frac{y_i}{\\left( 1 + \\frac{c_1 - c_i}{c_{N_c} - c_1} \\right) a + \\frac{c_1 - c_i}{c_{N_c} - c_1}} - y_{N_c} \\right) &= 0.\n",
    "\\end{align} $$\n",
    "\n",
    "Пусть $d_i = \\frac{c_1 - c_i}{c_{N_c} - c_1}, \\; i = 2 \\, \\ldots \\, N_c-1$, при этом $d_1 = 0$ и $d_{N_c} = -1$, тогда:\n",
    "\n",
    "$$ \\begin{align}\n",
    "\\left( a + 1 \\right) \\left( \\frac{y_1}{\\left( 1 + d_1 \\right) a + d_1} + \\sum_{i=2}^{N_c-1} \\frac{y_i}{\\left( 1 + d_i \\right) a + d_i} + \\frac{y_{N_c}}{\\left( 1 + d_{N_c} \\right) a + d_{N_c}} \\right) &= 0, \\\\\n",
    "\\left( a + 1 \\right) \\sum_{i=1}^{N_c} \\frac{y_i}{\\left( 1 + d_i \\right) a + d_i} &= 0.\n",
    "\\end{align} $$\n",
    "\n",
    "Данная функция имеет асимптоту в точке $a = 0$. Докажем, что полученная функция\n",
    "\n",
    "$$ G \\left( a \\right) = \\left( a + 1 \\right) \\sum_{i=1}^{N_c} \\frac{y_i}{\\left( 1 + d_i \\right) a + d_i} $$\n",
    "\n",
    "является выпуклой на рассматриваемом интервале $a \\in \\left(0, \\, +\\infty \\right)$. Для этого необходимо доказать, что $\\frac{\\partial^2 G}{\\partial a^2} > 0, \\; a \\in \\left(0, \\, +\\infty \\right)$.\n",
    "\n",
    "```{admonition} Доказательство\n",
    ":class: proof\n",
    "Получим первую производную от $G \\left( a \\right)$:\n",
    "\n",
    "$$ \\begin{align}\n",
    "\\frac{\\partial G}{\\partial a}\n",
    "&= \\sum_{i=1}^{N_c} \\frac{y_i}{\\left( 1 + d_i \\right) a + d_i} + \\left( a + 1 \\right) \\sum_{i=1}^{N_c} \\frac{y_i \\left( d_i + 1 \\right)}{\\left( \\left( 1 + d_i \\right) a + d_i \\right)^2} \\\\\n",
    "&= \\sum_{i=1}^{N_c} \\frac{y_i \\left( \\left( 1 + d_i \\right) a + d_i - \\left( a + 1 \\right) \\left( d_i + 1 \\right) \\right)}{\\left( \\left( 1 + d_i \\right) a + d_i \\right)^2} \\\\\n",
    "&= - \\sum_{i=1}^{N_c} \\frac{y_i}{\\left( \\left( 1 + d_i \\right) a + d_i \\right)^2}.\n",
    "\\end{align} $$\n",
    "\n",
    "Вторая частная производная функции $G \\left( a \\right)$ по $a$:\n",
    "\n",
    "$$ \\begin{align}\n",
    "\\frac{\\partial^2 G}{\\partial a^2}\n",
    "&= 2 \\sum_{i=1}^{N_c} \\frac{y_i}{\\left( \\left( 1 + d_i \\right) a + d_i \\right)^2} \\frac{d_i + 1}{\\left( 1 + d_i \\right) a + d_i} \\\\\n",
    "&= 2 \\left( \\frac{y_1}{a^3} + \\sum_{i=2}^{N_c-1} \\frac{y_i}{\\left( \\left( 1 + d_i \\right) a + d_i \\right)^2} \\frac{1}{a + \\frac{d_i}{d_i + 1}} \\right).\n",
    "\\end{align} $$\n",
    "\n",
    "Анализируя данное выражение, можно заключить, что для того чтобы показать, что вторая частная производная функции $G \\left( a \\right)$ по $a$ больше нуля на интервале $a \\in \\left(0, \\, +\\infty \\right)$, необходимо доказать следующее неравенство:\n",
    "\n",
    "$$ \\frac{d_i}{d_i + 1} > 0, i = 2 \\, \\ldots \\, N_c - 1. $$\n",
    "\n",
    "Для этого выполним следующие преобразования:\n",
    "\n",
    "$$ \\frac{d_i}{d_i + 1} = \\frac{c_1 - c_i}{c_{N_c} - c_i} = \\frac{\\left( K_1 - K_i \\right) \\left( 1 - K_{N_c} \\right)}{\\left( K_{N_c} - K_i \\right) \\left( 1 - K_1 \\right)}, \\; i = 2 \\, \\ldots \\, N_c - 1. $$\n",
    "\n",
    "Поскольку $\\left( K_1 - K_i \\right) > 0, \\; \\left( 1 - K_{N_c} \\right) > 0, \\; \\left( K_{N_c} - K_i \\right) < 0, \\; \\left( 1 - K_1 \\right) < 0$, то:\n",
    "\n",
    "$$ \\frac{d_i}{d_i + 1} > 0, i = 2 \\, \\ldots \\, N_c - 1. $$\n",
    "\n",
    "Следовательно, вторая частная производная функции $G \\left( a \\right)$ по $a$ больше нуля на интервале $a \\in \\left(0, \\, +\\infty \\right)$, и функция $G \\left( a \\right)$ является выпуклой на этом интервале.\n",
    "```\n",
    "\n",
    "Построим график функции $G \\left( a \\right)$ для рассматриваемых коэффициентов фазового равновесия:\n",
    "\n",
    "Для начала рассчитаем значения коэффициентов $c_i$ и $d_i$:"
   ]
  },
  {
   "cell_type": "code",
   "execution_count": 3,
   "id": "b58abde2",
   "metadata": {},
   "outputs": [
    {
     "data": {
      "text/plain": [
       "array([-0.25, -5.  ,  5.  ,  1.25])"
      ]
     },
     "execution_count": 3,
     "metadata": {},
     "output_type": "execute_result"
    }
   ],
   "source": [
    "ci = 1. / (1. - kvi)\n",
    "ci"
   ]
  },
  {
   "cell_type": "code",
   "execution_count": 4,
   "id": "18c7da11",
   "metadata": {},
   "outputs": [
    {
     "data": {
      "text/plain": [
       "array([ 0.        ,  3.16666667, -3.5       , -1.        ])"
      ]
     },
     "execution_count": 4,
     "metadata": {},
     "output_type": "execute_result"
    }
   ],
   "source": [
    "di = np.hstack([0., (ci[0] - ci[1:-1]) / (ci[-1] - ci[0]), -1.])\n",
    "di"
   ]
  },
  {
   "cell_type": "markdown",
   "id": "796a0ae3",
   "metadata": {},
   "source": [
    "Построим график функции $G \\left( a \\right)$"
   ]
  },
  {
   "cell_type": "code",
   "execution_count": 5,
   "id": "4d40a672",
   "metadata": {},
   "outputs": [
    {
     "data": {
      "image/png": "[encoded data removed]",
      "text/plain": [
       "<Figure size 600x400 with 1 Axes>"
      ]
     },
     "metadata": {},
     "output_type": "display_data"
    }
   ],
   "source": [
    "a = np.linspace(1e-3, 10., 1000, endpoint=True)\n",
    "G = (a + 1.) * np.sum(yi / (a[:,None] * (di + 1) + di), axis=1)\n",
    "fig2, ax2 = plt.subplots(1, 1, figsize=(6., 4.), tight_layout=True)\n",
    "ax2.plot(a, G, lw=2., c='b', zorder=2, label='G(a)')\n",
    "ax2.plot([0., 0.], [-1., 1.], lw=2., c='r', ls='--', label='Полюс')\n",
    "ax2.fill_betweenx(\n",
    "    [-1., 1.],\n",
    "    -ci[0]/ci[-1],\n",
    "    (1.-ci[0])/(ci[-1]-1.),\n",
    "    color='g', alpha=0.2, zorder=2, label='Физичные значения')\n",
    "ax2.plot([0., 10.], [0., 0.], lw=0.5, c='k')\n",
    "ax2.set_xlim(0., 10.)\n",
    "ax2.set_xlabel('a')\n",
    "ax2.set_ylim(-1., 1.)\n",
    "ax2.set_ylabel('G(a)')\n",
    "ax2.legend(loc=1, fontsize=8)\n",
    "ax2.grid(zorder=1)"
   ]
  },
  {
   "cell_type": "markdown",
   "id": "07cecea1",
   "metadata": {},
   "source": [
    "Видно, что функция $G \\left( a \\right)$ является выпуклой и имеет корень в диапазоне физичных значений. Продемонстрируем применение метода Ньютона для решения рассматриваемой задачи.\n",
    "\n",
    "Создадим функцию, которая рассчитывает значение и первую производную функции $G \\left( a \\right)$, и проинициализируем ее:"
   ]
  },
  {
   "cell_type": "code",
   "execution_count": 6,
   "id": "bfd6bed8",
   "metadata": {},
   "outputs": [],
   "source": [
    "import numpy.typing as npt\n",
    "from functools import partial\n",
    "\n",
    "def G_val_grad(\n",
    "    a: np.floating,\n",
    "    yi: npt.NDArray[np.floating],\n",
    "    di: npt.NDArray[np.floating],\n",
    ") -> tuple[np.floating, np.floating]:\n",
    "    denom = 1. / (di + a * (1. + di))\n",
    "    return (1. + a) * yi.dot(denom), -1. * yi.dot(denom * denom)\n",
    "\n",
    "pG = partial(G_val_grad, yi=yi, di=di)"
   ]
  },
  {
   "cell_type": "markdown",
   "id": "658ebfed",
   "metadata": {},
   "source": [
    "Затем создадим функцию, которая принимает на вход кортеж из номера итерации `i`, переменной `a`, ее изменения `da` и значения уравнения `eq`, а также точность решения уравнения `tol` и максимальное количество итераций `Niter`, и возвращает необходимость выполнения следующей итерации:"
   ]
  },
  {
   "cell_type": "code",
   "execution_count": 7,
   "id": "b29e3383",
   "metadata": {},
   "outputs": [],
   "source": [
    "def condit(\n",
    "    carry: tuple[int, np.floating, np.floating, np.floating],\n",
    "    tol: np.floating,\n",
    "    Niter: int,\n",
    ") -> bool:\n",
    "    i, a, _, eq = carry\n",
    "    return (i < Niter) & (np.abs(eq) > tol)\n",
    "\n",
    "pcondit = partial(condit, tol=np.float64(1e-8), Niter=50)"
   ]
  },
  {
   "cell_type": "markdown",
   "id": "2f0719f2",
   "metadata": {},
   "source": [
    "Далее создадим функцию, которая принимает на вход кортеж с результатами предыдущей итерации и обновляет их значениями для новой итерации:"
   ]
  },
  {
   "cell_type": "code",
   "execution_count": 8,
   "id": "7e739106",
   "metadata": {},
   "outputs": [],
   "source": [
    "from typing import Callable\n",
    "\n",
    "def update(\n",
    "    carry: tuple[int, np.floating, np.floating, np.floating],\n",
    "    pF: Callable[[np.floating], tuple[np.floating, np.floating]],\n",
    ") -> tuple[int, np.floating, np.floating, np.floating]:\n",
    "    i, a_, da_, _ = carry\n",
    "    a = a_ - da_\n",
    "    eq, grad = pF(a)\n",
    "    da = eq / grad\n",
    "    print(f'Iteration {i = }:\\n\\t{a = }\\n\\t{eq = }\\n')\n",
    "    return i + 1, a, da, eq\n",
    "\n",
    "pupdate = partial(update, pF=pG)"
   ]
  },
  {
   "cell_type": "markdown",
   "id": "a1181802",
   "metadata": {},
   "source": [
    "Решим уравнение Речфорда-Райса с использованием метода Ньютона:"
   ]
  },
  {
   "cell_type": "code",
   "execution_count": 9,
   "id": "0b157eb7",
   "metadata": {},
   "outputs": [
    {
     "name": "stdout",
     "output_type": "stream",
     "text": [
      "Iteration i = 0:\n",
      "\ta = 4.0\n",
      "\teq = np.float64(-0.2602707749766574)\n",
      "\n",
      "Iteration i = 1:\n",
      "\ta = np.float64(1.7399785731375021)\n",
      "\teq = np.float64(0.04144889438150349)\n",
      "\n",
      "Iteration i = 2:\n",
      "\ta = np.float64(1.9773510304991195)\n",
      "\teq = np.float64(0.0020395349969379428)\n",
      "\n",
      "Iteration i = 3:\n",
      "\ta = np.float64(1.9902240432681577)\n",
      "\teq = np.float64(4.650097165664025e-06)\n",
      "\n",
      "Iteration i = 4:\n",
      "\ta = np.float64(1.9902535274929716)\n",
      "\teq = np.float64(2.4088155408978353e-11)\n",
      "\n",
      "Solution of the Rachford-Rice equation: F = np.float64(0.7483702932849309)\n"
     ]
    }
   ],
   "source": [
    "a = 4. # Initial estimate\n",
    "\n",
    "eq, grad = pG(a)\n",
    "da = eq / grad\n",
    "carry = (1, a, da, eq)\n",
    "print(f'Iteration i = 0:\\n\\t{a = }\\n\\t{eq = }\\n')\n",
    "\n",
    "while pcondit(carry):\n",
    "    carry = pupdate(carry)\n",
    "\n",
    "i, a, _, eq = carry\n",
    "F = (a * ci[-1] + ci[0]) / (a + 1.)\n",
    "print(f'Solution of the Rachford-Rice equation: {F = }')"
   ]
  },
  {
   "cell_type": "markdown",
   "id": "62bd8aed",
   "metadata": {},
   "source": [
    "Анализируя результаты, можно отметить, что метод Ньютона успешно нашел решение за пять итераций. Кроме того, можно отметить, что метод Ньютона [сходится немонотонно](https://en.wikipedia.org/wiki/Newton%27s_method#Fourier_conditions), то есть, если обозначить $a^*$ как решение уравнения, то на нулевой итерации $a_0 > a^*, \\; G \\left( a_0 \\right) < 0$, а на первой итерации $a_1 < a^*, \\; G \\left( a_1 \\right) > 0$. В этом случае значение на первой итерации, по сути, является перелетом *(overshoot)*. Такое поведение иногда может приводить к колебаниям вокруг решения уравнения или выходу за границы рассматриваемого интервала (NF-window). Появление перелета на первой итерации обуславливается двумя факторами: начальным приближением и видом (формулировкой) решаемого уравнения. Рассмотрим путь сходимости метода Ньютона для другого начального приближения:"
   ]
  },
  {
   "cell_type": "code",
   "execution_count": 10,
   "id": "db5b14fa",
   "metadata": {},
   "outputs": [
    {
     "name": "stdout",
     "output_type": "stream",
     "text": [
      "Iteration i = 0:\n",
      "\ta = 1.0\n",
      "\teq = np.float64(0.20909090909090905)\n",
      "\n",
      "Iteration i = 1:\n",
      "\ta = np.float64(1.6621592148309703)\n",
      "\teq = np.float64(0.055296882842432886)\n",
      "\n",
      "Iteration i = 2:\n",
      "\ta = np.float64(1.9669307177696957)\n",
      "\teq = np.float64(0.003693558565420202)\n",
      "\n",
      "Iteration i = 3:\n",
      "\ta = np.float64(1.9901565574942008)\n",
      "\teq = np.float64(1.5293725383083946e-05)\n",
      "\n",
      "Iteration i = 4:\n",
      "\ta = np.float64(1.990253525993566)\n",
      "\teq = np.float64(2.605641876569794e-10)\n",
      "\n",
      "Solution of the Rachford-Rice equation: F = np.float64(0.7483702930333983)\n"
     ]
    }
   ],
   "source": [
    "a = 1. # Initial estimate\n",
    "\n",
    "eq, grad = pG(a)\n",
    "da = eq / grad\n",
    "carry = (1, a, da, eq)\n",
    "print(f'Iteration i = 0:\\n\\t{a = }\\n\\t{eq = }\\n')\n",
    "\n",
    "while pcondit(carry):\n",
    "    carry = pupdate(carry)\n",
    "\n",
    "i, a, _, eq = carry\n",
    "F = (a * ci[-1] + ci[0]) / (a + 1.)\n",
    "print(f'Solution of the Rachford-Rice equation: {F = }')"
   ]
  },
  {
   "cell_type": "markdown",
   "id": "1135d685",
   "metadata": {},
   "source": [
    "Видно, что для данного начального приближения метод Ньютона сошелся к решению без перелетов. Таким образом, выбор начального приближения и вида (формулировки) решаемого уравнения может непосредственно влиять на устойчивость *(robustness)* численного метода. Для наглядности рассмотрим следующий пример.\n",
    "\n",
    "````{admonition} Пример\n",
    ":class: exercise\n",
    "Пусть константы фазового равновесия и мольные доли компонентов заданы следующим образом:\n",
    "\n",
    "``` python\n",
    "eps = 1e-9\n",
    "kvi = 1. + np.array([2. * eps, 1.5 * eps, eps, -eps, -1.5 * eps, -2. * eps])\n",
    "yi = np.full_like(kvi, 1. / 6.)\n",
    "```\n",
    "\n",
    "Необходимо найти решение уравнение Речфорда-Райса, соответствующее NF-window.\n",
    "\n",
    "````"
   ]
  },
  {
   "cell_type": "code",
   "execution_count": 11,
   "id": "ea50222d",
   "metadata": {
    "tags": [
     "remove-cell"
    ]
   },
   "outputs": [],
   "source": [
    "eps = 1e-9\n",
    "kvi = 1. + np.array([2. * eps, 1.5 * eps, eps, -eps, -1.5 * eps, -2. * eps])\n",
    "yi = np.full_like(kvi, 1. / 6.)"
   ]
  },
  {
   "cell_type": "markdown",
   "id": "d4e165ae",
   "metadata": {},
   "source": [
    "Рассчитаем значения коэффициентов $c_i$ и $d_i$:"
   ]
  },
  {
   "cell_type": "code",
   "execution_count": 12,
   "id": "960a96e7",
   "metadata": {},
   "outputs": [
    {
     "data": {
      "text/plain": [
       "array([-5.00000014e+08, -6.66666710e+08, -9.99999917e+08,  1.00000003e+09,\n",
       "        6.66666661e+08,  4.99999986e+08])"
      ]
     },
     "execution_count": 12,
     "metadata": {},
     "output_type": "execute_result"
    }
   ],
   "source": [
    "ci = 1. / (1. - kvi)\n",
    "ci"
   ]
  },
  {
   "cell_type": "code",
   "execution_count": 13,
   "id": "8bd7065f",
   "metadata": {},
   "outputs": [
    {
     "data": {
      "text/plain": [
       "array([ 0.        ,  0.1666667 ,  0.4999999 , -1.50000004, -1.16666667,\n",
       "       -1.        ])"
      ]
     },
     "execution_count": 13,
     "metadata": {},
     "output_type": "execute_result"
    }
   ],
   "source": [
    "di = np.hstack([0., (ci[0] - ci[1:-1]) / (ci[-1] - ci[0]), -1.])\n",
    "di"
   ]
  },
  {
   "cell_type": "markdown",
   "id": "b6b35fb9",
   "metadata": {},
   "source": [
    "Построим график функции $G \\left( a \\right)$"
   ]
  },
  {
   "cell_type": "code",
   "execution_count": 14,
   "id": "8dcada36",
   "metadata": {},
   "outputs": [
    {
     "data": {
      "image/png": "[encoded data removed]",
      "text/plain": [
       "<Figure size 600x400 with 1 Axes>"
      ]
     },
     "metadata": {},
     "output_type": "display_data"
    }
   ],
   "source": [
    "a = np.linspace(1e-3, 10., 1000, endpoint=True)\n",
    "G = (a + 1.) * np.sum(yi / (a[:,None] * (di + 1) + di), axis=1)\n",
    "fig3, ax3 = plt.subplots(1, 1, figsize=(6., 4.), tight_layout=True)\n",
    "ax3.plot(a, G, lw=2., c='b', zorder=2)\n",
    "ax3.plot([0., 10.], [0., 0.], lw=0.5, c='k')\n",
    "ax3.set_xlim(0., 10.)\n",
    "ax3.set_xlabel('a')\n",
    "ax3.set_ylim(-2.5, 1.)\n",
    "ax3.set_ylabel('G(a)')\n",
    "ax3.grid(zorder=1)"
   ]
  },
  {
   "cell_type": "markdown",
   "id": "1f29daf2",
   "metadata": {},
   "source": [
    "Из данного графика видно, что рассматриваемое уравнение имеет корень внутри NF-window: $a \\approx 1$. Попробуем применить метод Ньютона:"
   ]
  },
  {
   "cell_type": "code",
   "execution_count": 15,
   "id": "701dad30",
   "metadata": {},
   "outputs": [
    {
     "name": "stdout",
     "output_type": "stream",
     "text": [
      "Iteration i = 0:\n",
      "\ta = 4.0\n",
      "\teq = np.float64(-1.0170217432585626)\n",
      "\n",
      "Iteration i = 1:\n",
      "\ta = np.float64(-0.04616186013996604)\n",
      "\teq = np.float64(-2.0693455759349475)\n",
      "\n",
      "Iteration i = 2:\n",
      "\ta = np.float64(-0.0685150091222449)\n",
      "\teq = np.float64(-0.4806547410956097)\n",
      "\n",
      "Iteration i = 3:\n",
      "\ta = np.float64(-0.07664997226823414)\n",
      "\teq = np.float64(-0.008232200611855804)\n",
      "\n",
      "Iteration i = 4:\n",
      "\ta = np.float64(-0.07679240622786793)\n",
      "\teq = np.float64(1.1737896543702413e-06)\n",
      "\n",
      "Iteration i = 5:\n",
      "\ta = np.float64(-0.07679238592476864)\n",
      "\teq = np.float64(2.5419165471458324e-14)\n",
      "\n",
      "Solution of the Rachford-Rice equation: F = np.float64(-583179988.8231626)\n"
     ]
    }
   ],
   "source": [
    "pG = partial(G_val_grad, yi=yi, di=di)\n",
    "pcondit = partial(condit, tol=1e-8, Niter=50)\n",
    "pupdate = partial(update, pF=pG)\n",
    "\n",
    "a = 4. # Initial estimate\n",
    "\n",
    "eq, grad = pG(a)\n",
    "da = eq / grad\n",
    "carry = (1, a, da, eq)\n",
    "print(f'Iteration i = 0:\\n\\t{a = }\\n\\t{eq = }\\n')\n",
    "\n",
    "while pcondit(carry):\n",
    "    carry = pupdate(carry)\n",
    "\n",
    "i, a, _, eq = carry\n",
    "F = (a * ci[-1] + ci[0]) / (a + 1.)\n",
    "print(f'Solution of the Rachford-Rice equation: {F = }')"
   ]
  },
  {
   "cell_type": "markdown",
   "id": "a7e19c9a",
   "metadata": {},
   "source": [
    "Метод Ньютона сошелся к решению, находящемуся за пределами NF-window. Причина – перелет на первой итерации. Таким образом, необходимо доработать представленный алгоритм для повышения его устойчивости. Рассмотрим [теорему Дарбу](http://www.numdam.org/article/NAM_1869_2_8__17_0.pdf), позволяющую определить наличие и отсутствие перелета на первой итерации:\n",
    "\n",
    "```{admonition} Теорема\n",
    ":class: danger\n",
    "Пусть $x_0$ является начальным приближением уравнения $f \\left( x \\right) = 0$. Выпуклая функция $f \\left( x \\right)$ непрерывна и дважды дифференциируема на рассматриваемом интервале. Условием отсутствия перелета при использовании метода Ньютона и начальном приближении $x_0$ является:\n",
    "\n",
    "$$ f \\left( x_0 \\right) f'' \\left( x_0 \\right) > 0. $$\n",
    "\n",
    "```\n",
    "\n",
    "Иными словами, необходимо доказать, что если выполняется условие $f \\left( x_0 \\right) \\, f'' \\left( x_0 \\right) > 0$, то расчетный шаг $h_0 = - \\frac{f \\left( x_0 \\right)}{f' \\left( x_0 \\right)}$ меньше расстояния $h = x^* - x_0$ от начального приближения $x_0$ до решения уравнения $x^*$.\n",
    "\n",
    "````{admonition} Доказательство\n",
    ":class: proof\n",
    "\n",
    "Для начала отметим, что условие $f \\left( x_0 \\right) \\, f'' \\left( x_0 \\right) > 0$ эквивалентно тому, что обе функции $f \\left( x_0 \\right)$ и $f'' \\left( x_0 \\right)$ имеют один знак в точке $x_0$. Это может быть верно в двух случаях.\n",
    "\n",
    "Пусть $f \\left( x_0 \\right) > 0$ и $f'' \\left( x_0 \\right) > 0$. Тогда имеется выпуклая вниз функция $f \\left( x \\right)$, которая может иметь два пересечения с осью абсцисс:\n",
    "\n",
    "```{glue:} glued_fig_1\n",
    "```\n",
    "\n",
    "<br>\n",
    "<br>\n",
    "\n",
    "Если $f' \\left( x \\right) > 0$, то $h_0 = x_1 - x_0 < 0$ и $h = x^* - x_0 < 0$. Если же $f' \\left( x \\right) < 0$, то $h_0 = x_1 - x_0 > 0$ и $h = x^* - x_0 > 0$. Разложим функцию $f \\left( x \\right)$ в ряд Тейлора вблизи точки $x^*$:\n",
    "\n",
    "$$ f \\left( x^* \\right) = 0 \\approx f \\left( x_0 \\right) + \\left( x^* - x_0 \\right) f' \\left( x_0 \\right) + \\frac{\\left( x^* - x_0 \\right)^2}{2} f'' \\left( x_0 \\right). $$\n",
    "\n",
    "С учетом представленных выше обозначений:\n",
    "\n",
    "$$ f \\left( x_0 \\right) + h f' \\left( x_0 \\right) + \\frac{h^2}{2} f'' \\left( x_0 \\right) = 0. $$\n",
    "\n",
    "Данное выражение можно преобразовать следующим образом:\n",
    "\n",
    "$$ h = - \\frac{f \\left( x_0 \\right)}{f' \\left( x_0 \\right)} - \\frac{h^2}{2} \\frac{f'' \\left( x_0 \\right)}{f' \\left( x_0 \\right)}. $$\n",
    "\n",
    "На первой итерации метода Ньютона:\n",
    "\n",
    "$$ x_1 = x_0 - \\frac{f \\left( x_0 \\right)}{f' \\left( x_0 \\right)}. $$\n",
    "\n",
    "Тогда\n",
    "\n",
    "$$ h_0 = - \\frac{f \\left( x_0 \\right)}{f' \\left( x_0 \\right)}. $$\n",
    "\n",
    "С учетом этого выражение выше можно записать:\n",
    "\n",
    "$$ h = h_0 - \\frac{h^2}{2} \\frac{f'' \\left( x_0 \\right)}{f' \\left( x_0 \\right)}. $$\n",
    "\n",
    "Разделим левую и правую части на $h$ и преобразуем:\n",
    "\n",
    "$$ 1 - \\frac{h_0}{h} = - \\frac{h}{2} \\frac{f'' \\left( x_0 \\right)}{f' \\left( x_0 \\right)}. $$\n",
    "\n",
    "Таким образом, если $f'' \\left( x_0 \\right) > 0, \\; f' \\left( x \\right) > 0, \\; h < 0$, то $1 - \\frac{h_0}{h} > 0$, следовательно $h_0 < h$. Если же $f'' \\left( x_0 \\right) > 0, \\; f' \\left( x \\right) < 0, \\; h > 0$, то $1 - \\frac{h_0}{h} > 0$, следовательно $h_0 < h$.\n",
    "\n",
    "Аналогичным образом доказывается для случая, когда $f \\left( x_0 \\right) < 0$ и $f'' \\left( x_0 \\right) < 0$.\n",
    "\n",
    "````"
   ]
  },
  {
   "cell_type": "code",
   "execution_count": 16,
   "id": "a628b945",
   "metadata": {
    "tags": [
     "remove-cell"
    ]
   },
   "outputs": [
    {
     "data": {
      "image/png": "[encoded data removed]",
      "text/plain": [
       "<Figure size 600x400 with 1 Axes>"
      ]
     },
     "metadata": {
      "scrapbook": {
       "mime_prefix": "",
       "name": "glued_fig_1"
      }
     },
     "output_type": "display_data"
    },
    {
     "data": {
      "image/png": "[encoded data removed]",
      "text/plain": [
       "<Figure size 600x400 with 1 Axes>"
      ]
     },
     "metadata": {},
     "output_type": "display_data"
    }
   ],
   "source": [
    "fig_1, ax_1 = plt.subplots(1, 1, figsize=(6., 4.), tight_layout=True)\n",
    "xmax = 6.\n",
    "xmin = -xmax\n",
    "x = np.linspace(xmin, xmax, 1000, endpoint=True)\n",
    "a = .4\n",
    "b = 0.\n",
    "c = -1.\n",
    "y = a * x * x + b * x + c\n",
    "D = np.sqrt(b * b - 4. * a * c)\n",
    "x1 = (-b + D) / 2. / a\n",
    "x2 = (-b - D) / 2. / a\n",
    "ax_1.plot(x, y, lw=2., c='b', label='f(x)', zorder=3)\n",
    "\n",
    "x0 = 5.\n",
    "y0 = a * x0 * x0 + b * x0 + c\n",
    "xp = np.array([x0, (a * x0 * x0 - c) / (2. * a * x0 + b)])\n",
    "yp = (2. * a * x0 + b) * xp + (c - a * x0 * x0)\n",
    "ax_1.plot(xp, yp, lw=1., ls='--', c='maroon', label=\"f'(x)\", zorder=4)\n",
    "ax_1.plot([x0, x0,], [y0, 0.,], 'o', lw=0., ms=6., mfc='lightcoral', mec='maroon', zorder=5)\n",
    "ax_1.plot([x0, x0], [0., y0], c='k', lw=.5, ls='--', zorder=4)\n",
    "ax_1.text(x0, -.3, '$x_0$', ha='center', va='top')\n",
    "ax_1.plot(xp[1], 0., 'o', lw=0., ms=6., mfc='cyan', mec='teal', zorder=5)\n",
    "ax_1.text(xp[1], -.3, '$x_1$', ha='center', va='top')\n",
    "ax_1.plot(x1, 0., 'o', lw=0., ms=6., mfc='lime', mec='forestgreen', zorder=5)\n",
    "ax_1.text(x1, -.3, '$x*$', ha='center', va='top')\n",
    "ax_1.text(4., 2., r\"$f \\/ ' (x) > 0$\", ha='center', va='top', c='maroon')\n",
    "\n",
    "x0 = -5.\n",
    "y0 = a * x0 * x0 + b * x0 + c\n",
    "xp = np.array([x0, (a * x0 * x0 - c) / (2. * a * x0 + b)])\n",
    "yp = (2. * a * x0 + b) * xp + (c - a * x0 * x0)\n",
    "ax_1.plot(xp, yp, lw=1., ls='--', c='turquoise', label=\"f'(x)\", zorder=4)\n",
    "ax_1.plot([x0, x0,], [y0, 0.,], 'o', lw=0., ms=6., mfc='lightcoral', mec='maroon', zorder=5)\n",
    "ax_1.plot([x0, x0], [0., y0], c='k', lw=.5, ls='--', zorder=4)\n",
    "ax_1.text(x0, -.3, '$x_0$', ha='center', va='top')\n",
    "ax_1.plot(xp[1], 0., 'o', lw=0., ms=6., mfc='cyan', mec='teal', zorder=5)\n",
    "ax_1.text(xp[1], -.3, '$x_1$', ha='center', va='top')\n",
    "ax_1.plot(x2, 0., 'o', lw=0., ms=6., mfc='lime', mec='forestgreen', zorder=5)\n",
    "ax_1.text(x2, -.3, '$x*$', ha='center', va='top')\n",
    "ax_1.text(-4., 2., r\"$f \\/ ' (x) < 0$\", ha='center', va='top', c='turquoise')\n",
    "\n",
    "ax_1.plot([xmin, xmax], [0., 0.], lw=.5, c='k', zorder=2)\n",
    "ax_1.plot([0., 0.], [-2., 10.], lw=.5, c='k', zorder=2)\n",
    "ax_1.set_xlim(xmin, xmax)\n",
    "ax_1.set_xlabel('x')\n",
    "ax_1.set_ylim(-2., 10.)\n",
    "ax_1.set_ylabel('f(x)')\n",
    "ax_1.grid(zorder=1)\n",
    "\n",
    "from myst_nb import glue\n",
    "glue('glued_fig_1', fig_1)"
   ]
  },
  {
   "cell_type": "markdown",
   "id": "ea52d492",
   "metadata": {},
   "source": [
    "Таким образом, при $a_0 > a^*$ условие $G \\left( a_0 \\right) \\, G'' \\left( a_0 \\right) > 0$ не выполняется, поскольку $G \\left( a_0 \\right) < 0$ и $G'' \\left( a_0 \\right) > 0$, следовательно, представленный выше алгоритм может иметь перелет на первой итерации и сходиться к корню, находящемуся вне заданного интервала. Для того чтобы гарантированно находить корень в нужном диапазоне, могут применяться модификации метода Ньютона, например, совмещение метода Ньютона и [метода бисекции](https://en.wikipedia.org/wiki/Bisection_method). Однако авторами работы \\[[Nichita and Leibovici, 2013](https://doi.org/10.1016/j.fluid.2013.05.030)\\] было предложено рассмотреть другую выпуклую функцию, которая имеет тот же корень, что и $G \\left( a \\right)$:\n",
    "\n",
    "$$ H \\left( a \\right) = -a G \\left( a \\right). $$\n",
    "\n",
    "Покажем, что функция $H \\left( a \\right)$ является выпуклой на интервале $a \\in \\left(0, \\, +\\infty \\right)$. Для этого докажем, что $\\frac{\\partial^2 H}{\\partial a^2} > 0$ на интервале $a \\in \\left(0, \\, +\\infty \\right)$.\n",
    "\n",
    "```{admonition} Доказательство\n",
    ":class: proof\n",
    "\n",
    "Получим первую частную производную $H \\left( a \\right)$:\n",
    "\n",
    "$$ \\frac{ \\partial H}{\\partial a } = - \\left( G + a \\frac{ \\partial G}{\\partial a } \\right). $$\n",
    "\n",
    "Вторая частная производная $H \\left( a \\right)$:\n",
    "\n",
    "$$ \\begin{align}\n",
    "\\frac{ \\partial^2 H}{\\partial a^2 }\n",
    "&= - \\left( 2 \\frac{ \\partial G}{\\partial a } + a \\frac{ \\partial^2 G}{\\partial a^2 } \\right) \\\\\n",
    "&= - \\left( -2 \\sum_{i=1}^{N_c} \\frac{y_i}{\\left( \\left( 1 + d_i \\right) a + d_i \\right)^2} + 2 a \\sum_{i=1}^{N_c} \\frac{y_i \\left( d_i + 1 \\right)}{\\left( \\left( 1 + d_i \\right) a + d_i \\right)^3} \\right) \\\\\n",
    "&= 2 \\sum_{i=1}^{N_c} \\frac{y_i d_i}{\\left( \\left( 1 + d_i \\right) a + d_i \\right)^3} \\\\\n",
    "&= 2 \\left( \\sum_{i=2}^{N_c-1} \\frac{y_i}{\\left( \\left( 1 + d_i \\right) a + d_i \\right)^2} \\frac{1}{\\frac{d_i + 1}{d_i} a + 1} + y_{N_c} \\right).\n",
    "\\end{align} $$\n",
    "\n",
    "С учетом ранее доказанного неравенства:\n",
    "\n",
    "$$ \\frac{d_i}{d_i + 1} > 0, \\; i = 2 \\, \\ldots \\, N_c - 1, $$\n",
    "\n",
    "вторая частная производная функции $H \\left( a \\right) > 0$ для $a \\in \\left(0, \\, +\\infty \\right)$.\n",
    "\n",
    "```\n",
    "\n",
    "Таким образом, функция $H \\left( a \\right)$ является выпуклой на интервале $a \\in \\left(0, \\, +\\infty \\right)$. Построим график функции $H \\left( a \\right)$ для рассматриваемого примера."
   ]
  },
  {
   "cell_type": "code",
   "execution_count": 17,
   "id": "87158cf6",
   "metadata": {},
   "outputs": [
    {
     "data": {
      "image/png": "[encoded data removed]",
      "text/plain": [
       "<Figure size 600x400 with 1 Axes>"
      ]
     },
     "metadata": {},
     "output_type": "display_data"
    }
   ],
   "source": [
    "a = np.linspace(1e-3, 10., 1000, endpoint=True)\n",
    "G = (a + 1.) * np.sum(yi / (a[:,None] * (di + 1) + di), axis=1)\n",
    "H = -a * G\n",
    "fig4, ax4 = plt.subplots(1, 1, figsize=(6., 4.), tight_layout=True)\n",
    "ax4.plot(a, G, lw=2., c='b', zorder=2, label='G(a)')\n",
    "ax4.plot(a, H, lw=2., c='g', zorder=2, label='H(a)')\n",
    "ax4.plot([0., 10.], [0., 0.], lw=0.5, c='k')\n",
    "ax4.set_xlim(0., 10.)\n",
    "ax4.set_xlabel('a')\n",
    "ax4.set_ylim(-2.5, 1.)\n",
    "ax4.set_ylabel('G(a), H(a)')\n",
    "ax4.legend(loc=1)\n",
    "ax4.grid(zorder=1)"
   ]
  },
  {
   "cell_type": "markdown",
   "id": "e8581f77",
   "metadata": {},
   "source": [
    "Таким образом, для функции $H \\left( a \\right)$ теорема Дарбу $H \\left( a_0 \\right) \\, H'' \\left( a_0 \\right) > 0$ справедлива для $a_0 > a^*$, и при использовании этой формулировки уравнения Речфорда-Райса при начальном приближении $a_0 > a^*$ перелета не будет. Проверим это на рассматриваемом примере.\n",
    "\n",
    "Создадим функцию, которая рассчитывает значение и первую производную функции $H \\left( a \\right)$, и проинициализируем ее:"
   ]
  },
  {
   "cell_type": "code",
   "execution_count": 18,
   "id": "2d0fec96",
   "metadata": {},
   "outputs": [],
   "source": [
    "def H_val_grad(\n",
    "    a: np.floating,\n",
    "    yi: npt.NDArray[np.floating],\n",
    "    di: npt.NDArray[np.floating],\n",
    ") -> tuple[np.floating, np.floating]:\n",
    "    denom = 1. / (di + a * (1. + di))\n",
    "    G = (1. + a) * yi.dot(denom)\n",
    "    dGda = -1. * yi.dot(denom * denom)\n",
    "    return -a * G, -G - a * dGda\n",
    "\n",
    "pH = partial(H_val_grad, yi=yi, di=di)"
   ]
  },
  {
   "cell_type": "markdown",
   "id": "df3dcc8a",
   "metadata": {},
   "source": [
    "Проинициализируем функцию `update`:"
   ]
  },
  {
   "cell_type": "code",
   "execution_count": 19,
   "id": "57549a25",
   "metadata": {},
   "outputs": [],
   "source": [
    "pupdate = partial(update, pF=pH)"
   ]
  },
  {
   "cell_type": "markdown",
   "id": "2fd57c28",
   "metadata": {},
   "source": [
    "Решим уравнение Речфорда-Райса, используя формулировку в виде $H \\left( a \\right) = 0$:"
   ]
  },
  {
   "cell_type": "code",
   "execution_count": 20,
   "id": "e0c3903d",
   "metadata": {},
   "outputs": [
    {
     "name": "stdout",
     "output_type": "stream",
     "text": [
      "Iteration i = 0:\n",
      "\ta = 4.0\n",
      "\teq = np.float64(4.068086973034251)\n",
      "\n",
      "Iteration i = 1:\n",
      "\ta = np.float64(1.9885257440895772)\n",
      "\teq = np.float64(0.8679133716572004)\n",
      "\n",
      "Iteration i = 2:\n",
      "\ta = np.float64(1.2228760655119744)\n",
      "\teq = np.float64(0.14929840426946112)\n",
      "\n",
      "Iteration i = 3:\n",
      "\ta = np.float64(1.0195014354612744)\n",
      "\teq = np.float64(0.011896720513545194)\n",
      "\n",
      "Iteration i = 4:\n",
      "\ta = np.float64(1.0001856947104446)\n",
      "\teq = np.float64(0.00011218593245642622)\n",
      "\n",
      "Iteration i = 5:\n",
      "\ta = np.float64(1.0000000421169861)\n",
      "\teq = np.float64(1.0411409018190242e-08)\n",
      "\n",
      "Iteration i = 6:\n",
      "\ta = np.float64(1.0000000248843093)\n",
      "\teq = np.float64(5.551115330329282e-17)\n",
      "\n",
      "Solution of the Rachford-Rice equation: F = np.float64(-7.656710589033492)\n"
     ]
    }
   ],
   "source": [
    "a = 4. # Initial estimate\n",
    "\n",
    "eq, grad = pH(a)\n",
    "da = eq / grad\n",
    "carry = (1, a, da, eq)\n",
    "print(f'Iteration i = 0:\\n\\t{a = }\\n\\t{eq = }\\n')\n",
    "\n",
    "while pcondit(carry):\n",
    "    carry = pupdate(carry)\n",
    "\n",
    "i, a, _, eq = carry\n",
    "F = (a * ci[-1] + ci[0]) / (a + 1.)\n",
    "print(f'Solution of the Rachford-Rice equation: {F = }')"
   ]
  },
  {
   "cell_type": "markdown",
   "id": "3f9a3b9c",
   "metadata": {},
   "source": [
    "Таким образом, метод Ньютона сошелся на корне, находящимся в нужном диапазоне. Следовательно, для повышения устойчивости численного метода решения уравнения Речфорда-Райса необходимо проверять условие $G \\left( a_0 \\right) \\, ? \\, 0$. Если $G \\left( a_0 \\right) < 0$, то выбирается формулировка $H \\left( a \\right)$, иначе – формулировка $G \\left( a \\right)$. Проверка данного условия для начального приближения $a_0$ позволяет повысить устойчивость численного алгоритма решения уравнения Речфорда-Райса. Однако, с точки зрения практической значимости, хороший численный метод отличает не только его устойчивость, но и его эффективность *(rapidness)* – количество затрачиваемых итераций на поиск решения заданной точности. Зачастую повышение эффективности численного метода связывают с поиском наиболее точного начального приближения, для определения которого необходимо минимум вычислений, а также с *линеаризацией* функции, то есть с ее преобразованием к виду, максимально приближенному к линейной зависимости, поскольку для решения линейного уравнения необходима ровно одна ньютоновская итерация.\n",
    "\n",
    "Для получения выражения для начального приближения рассмотрим следующий вид уравнения Речфорда-Райса, полученный авторами работы \\[[Leibovici and Neoschil, 1992](https://doi.org/10.1016/0378-3812(92)85069-K)\\]:\n",
    "\n",
    "$$ L \\left( F \\right) = \\left( F - c_1 \\right) \\left( c_{N_c} - F \\right) \\sum_{i=1}^{N_c} \\frac{y_i}{F - c_i} = 0. $$\n",
    "\n",
    "Функция $L \\left( F \\right)$ не является монотонной и не является выпуклой на интервале NF-window $F \\in \\left( с_1, \\, с_{N_c} \\right)$, однако в большинстве случаев ее график близок к линейному. Построим график этой функции для рассматриваемого примера."
   ]
  },
  {
   "cell_type": "code",
   "execution_count": 21,
   "id": "5b030dea",
   "metadata": {},
   "outputs": [
    {
     "data": {
      "image/png": "[encoded data removed]",
      "text/plain": [
       "<Figure size 600x400 with 1 Axes>"
      ]
     },
     "metadata": {},
     "output_type": "display_data"
    }
   ],
   "source": [
    "F = np.linspace(ci[0] + 1e-3, ci[-1] - 1e-3, 1000, endpoint=True)\n",
    "L = (F - ci[0]) * (ci[-1] - F) * np.sum(yi / (F[:,None] - ci), axis=1)\n",
    "fig5, ax5 = plt.subplots(1, 1, figsize=(6., 4.), tight_layout=True)\n",
    "ax5.plot(F, L, lw=2., c='m', zorder=2)\n",
    "ax5.plot([ci[0], ci[-1]], [0., 0.], lw=0.5, c='k')\n",
    "ax5.set_xlabel('F')\n",
    "ax5.set_ylabel('L(F)')\n",
    "ax5.grid(zorder=1)"
   ]
  },
  {
   "cell_type": "markdown",
   "id": "9ed1af13",
   "metadata": {},
   "source": [
    "Преобразуем выражение для функции $L \\left( F \\right)$ к следующему виду:\n",
    "\n",
    "$$ \\begin{align}\n",
    "L \\left( F \\right)\n",
    "&= \\left( F - c_1 \\right) \\left( c_{N_c} - F \\right) \\sum_{i=1}^{N_c} \\frac{y_i}{F - c_i} \\\\\n",
    "&= y_1 \\left( c_{N_c} - F \\right) + \\left( F - c_1 \\right) \\left( c_{N_c} - F \\right) \\sum_{i=2}^{N_c-1} \\frac{y_i}{F - c_i} - y_{N_c} \\left( F - c_1 \\right).\n",
    "\\end{align} $$\n",
    "\n",
    "В точке $F = c_1$ значение функции $L \\left( F \\right)$:\n",
    "\n",
    "$$ L \\left( c_1 \\right) = y_1 \\left( c_{N_c} - c_1 \\right). $$\n",
    "\n",
    "В точке $F = c_{N_c}$ значение функции $L \\left( F \\right)$:\n",
    "\n",
    "$$ L \\left( c_{N_c} \\right) = - y_{N_c} \\left( c_{N_c} - c_1 \\right). $$\n",
    "\n",
    "Уравнение прямой, проходящей через эти две точки, записывается следующим образом:\n",
    "\n",
    "$$ l \\left( F \\right) = - \\left( y_1 + y_{N_c} \\right) F + \\left( y_1 c_{N_c} + y_{N_c} c_1 \\right). $$\n",
    "\n",
    "Эта прямая пересекает ось абсцисс в точке:\n",
    "\n",
    "$$ F_0 = \\frac{y_1 c_{N_c} + y_{N_c} c_1}{y_1 + y_{N_c}}. $$\n",
    "\n",
    "Или относительно переменной $a$:\n",
    "\n",
    "$$ a_0 = \\frac{y_1}{y_{N_c}}. $$\n",
    "\n",
    "Согласно \\[[Nichita and Leibovici, 2017](https://doi.org/10.1016/j.fluid.2017.08.020)\\], это выражение позволяет получить наиболее точное начальное приближение без дополнительных вычислений (то есть используя только известные величины).\n",
    "\n",
    "Рассмотрим следующую функцию и построим ее график для рассматриваемого примера:\n",
    "\n",
    "$$ D \\left( a \\right) = \\frac{a}{a + 1} G \\left( a \\right) = - \\frac{1}{a + 1} H \\left( a \\right) = y_1 + a \\sum_{i = 2}^{N_c - 1} \\frac{y_i}{d_i + a \\left( 1 + d_i \\right)} - y_{N_c} a. $$"
   ]
  },
  {
   "cell_type": "code",
   "execution_count": 22,
   "id": "2ea5a37b",
   "metadata": {},
   "outputs": [
    {
     "data": {
      "image/png": "[encoded data removed]",
      "text/plain": [
       "<Figure size 600x400 with 1 Axes>"
      ]
     },
     "metadata": {},
     "output_type": "display_data"
    }
   ],
   "source": [
    "a = np.linspace(1e-3, 10., 1000, endpoint=True)\n",
    "G = (a + 1.) * np.sum(yi / (a[:,None] * (di + 1) + di), axis=1)\n",
    "H = -a * G\n",
    "D = a / (a + 1.) * G\n",
    "fig6, ax6 = plt.subplots(1, 1, figsize=(6., 4.), tight_layout=True)\n",
    "ax6.plot(a, G, lw=2., c='b', zorder=2, label='G(a)')\n",
    "ax6.plot(a, H, lw=2., c='g', zorder=2, label='H(a)')\n",
    "ax6.plot(a, D, lw=2., c='c', zorder=2, label='D(a)')\n",
    "ax6.plot([0., 10.], [0., 0.], lw=0.5, c='k')\n",
    "ax6.set_xlabel('a')\n",
    "ax6.set_xlim(0., 10.)\n",
    "ax6.set_ylabel('G(a), H(a), D(a)')\n",
    "ax6.set_ylim(-2.5, 1.)\n",
    "ax6.legend(loc=1)\n",
    "ax6.grid(zorder=1)"
   ]
  },
  {
   "cell_type": "markdown",
   "id": "761e44ad",
   "metadata": {},
   "source": [
    "Из данного графика видно, что функция $D \\left( a \\right)$ близка к прямой, однако она не является выпуклой и не гарантирует сходимость метода Ньютона к корню в нужном интервале. Тем не менее, можно использовать преимущество почти линейного вида функции $D \\left( a \\right)$, проверяя на каждой итерации соответствие текущего приближения нужному интервалу NF-window. Если приближение на $\\left(k+1\\right)$-й итерации решения уравнения $D \\left( a \\right) = 0$ выходит за NF-window, то есть если $a_{k+1} < 0$, то необходимо переключиться на решение уравнения $G \\left( a \\right) = 0$ или $H \\left( a \\right) = 0$ и пересчитать значение $a_{k+1}$. Покажем, как это можно сделать без дополнительных вычислений функции $G \\left( a \\right)$ или $H \\left( a \\right)$ и их производных.\n",
    "\n",
    "Допустим, на $\\left(k+1\\right)$-й ньютоновской итерации решения уравнения $D \\left( a \\right) = 0$ приближение $a^D_{k+1}$ получилось отрицательным. То есть\n",
    "\n",
    "$$ a^D_{k+1} = a_k - h < 0, $$\n",
    "\n",
    "где $h = \\frac{D}{D'}$, $D = D \\left( a_k \\right)$ и $D' = \\frac{\\partial D \\left(a \\right)}{\\partial a} \\bigg|_{a_k}$. И допустим, $D \\left( a_k \\right) > 0$, то есть $a_k < a^*$. В этом случае нам необходимо переключиться на решение уравнения $G \\left( a \\right) = 0$:\n",
    "\n",
    "$$ a^G_{k+1} = a_k - \\frac{G}{G'}, $$\n",
    "\n",
    "где $G = G \\left( a_k \\right)$ и $G' = \\frac{\\partial G \\left(a \\right)}{\\partial a} \\bigg|_{a_k}$. С учетом\n",
    "\n",
    "$$ G \\left( a \\right) = \\frac{a + 1}{a} D \\left( a \\right) $$\n",
    "\n",
    "выразим частную производную функции $G \\left( a \\right)$ через частную производную функции $D \\left( a \\right)$:\n",
    "\n",
    "$$ \\begin{align}\n",
    "\\frac{\\partial G \\left(a \\right)}{\\partial a}\n",
    "&= D \\left( a \\right) \\frac{\\partial}{\\partial a} \\left( \\frac{a + 1}{a} \\right) + \\frac{a + 1}{a} \\frac{\\partial D \\left(a \\right)}{\\partial a} \\\\\n",
    "&= \\frac{a + 1}{a} \\frac{\\partial D \\left(a \\right)}{\\partial a} - \\frac{D \\left( a \\right)}{a^2} \\\\\n",
    "&= \\frac{a + 1}{a} \\left( \\frac{\\partial D \\left(a \\right)}{\\partial a} - \\frac{D \\left( a \\right)}{a \\left( a + 1 \\right)} \\right)\n",
    "\\end{align} $$\n",
    "\n",
    "С учетом введенных выше обозначений в точке $a_k$ значение производной $\\frac{\\partial G \\left(a \\right)}{\\partial a}$:\n",
    "\n",
    "$$ \\frac{\\partial G \\left(a \\right)}{\\partial a} \\bigg|_{a_k} = G' = \\frac{a_k + 1}{a_k} \\left( D' - \\frac{D}{a_k \\left( a_k + 1 \\right)} \\right). $$\n",
    "\n",
    "Значение самой функции $G \\left(a \\right)$ в точке $a_k$:\n",
    "\n",
    "$$ G \\left(a_k \\right) = G = \\frac{a_k + 1}{a_k} D. $$\n",
    "\n",
    "Тогда преобразуем выражение для $a^G_{k+1}$ следующим образом:\n",
    "\n",
    "$$ \\begin{align}\n",
    "a^G_{k+1}\n",
    "&= a_k - \\frac{G}{G'} \\\\\n",
    "&= a_k - h + h - \\frac{G}{G'} \\\\\n",
    "&= a^D_{k+1} + h - \\frac{G}{G'} \\\\\n",
    "&= a^D_{k+1} + h - \\frac{\\frac{a_k + 1}{a_k} D}{\\frac{a_k + 1}{a_k} \\left( D' - \\frac{D}{a_k \\left( a_k + 1 \\right)} \\right)} \\\\\n",
    "&= a^D_{k+1} + h - \\frac{D}{D' - \\frac{D}{a_k \\left( a_k + 1 \\right)}} \\\\\n",
    "&= a^D_{k+1} + h - \\frac{h}{1 - \\frac{h}{a_k \\left( a_k + 1 \\right)}} \\\\\n",
    "&= a^D_{k+1} + h - \\frac{h a_k \\left( a_k + 1 \\right)}{a_k \\left( a_k + 1 \\right) - h} \\\\\n",
    "&= a^D_{k+1} + \\frac{h^2}{h - a_k \\left( a_k + 1 \\right)}.\n",
    "\\end{align} $$\n",
    "\n",
    "Таким образом, значение приближения на $\\left(k+1\\right)$-й итерации решения уравнения $G \\left( a \\right) = 0$ может быть получено путем преобразования приближения на $\\left(k+1\\right)$-й итерации решения уравнения $D \\left( a \\right) = 0$ без дополнительных вычислений функции $G \\left( a \\right)$ и ее производной. Аналогичная связь может быть получена для приближений на $\\left(k+1\\right)$-й итерациях решений уравнений $D \\left( a \\right) = 0$ и $H \\left( a \\right) = 0$:\n",
    "\n",
    "$$ a_{k+1}^H = a_{k+1}^D + \\frac{h^2}{h + a_k + 1}. $$\n",
    "\n",
    "Таким образом, можно сформулировать численный алгоритм решения уравнения Речфорда-Райса \\[[Nichita and Leibovici, 2014](https://doi.org/10.1016/j.compchemeng.2014.10.006)\\], гарантирующий сходимость к корню в нужном интервале и являющийся эффективным (использующий преимущество линеаризации):\n",
    "\n",
    "```{eval-rst}\n",
    ".. role:: comment\n",
    "    :class: comment\n",
    "```\n",
    "\n",
    "```{admonition} Алгоритм. Решение уравнения Речфорда-Райса для двухфазной системы\n",
    ":class: algorithm\n",
    "\n",
    "**Дано:** Отсортированный по убыванию вектор констант фазового равновесия $\\mathbf{k}$; вектор компонентного состава системы $\\mathbf{y}$, соответствующий вектору констант фазового равновесия; максимальное число итераций $N_{iter}$; точность решения уравнения $\\epsilon$.\n",
    "\n",
    "**Определить:** Корень уравнения Речфорда-Райса, соответствующий NF-window.\n",
    "\n",
    "**Псевдокод:**  \n",
    "$c_i := 1 \\, / \\left( 1 - k_i \\right), \\; i = 1 \\, \\ldots \\, N_c$  \n",
    "$d_i := \\left( c_1 - c_i \\right) \\, / \\left( c_{N_c} - c_1 \\right), \\; i = 2 \\, \\ldots \\, N_c - 1$  \n",
    "$a := y_1 \\, / \\, y_{N_c}$ {comment}`# Начальное приближение`  \n",
    "**function**$\\; fD \\left( a, \\, \\mathbf{y}, \\, \\mathbf{d} \\right)$ {comment}`# Функция D(a)`  \n",
    "&emsp;$D := y_1 + a \\sum_{i=2}^{N_c-1} y_i \\, / \\left( d_i + a \\left( d_i + 1 \\right) \\right) - y_{N_c} a$ {comment}`# Значение функции в точке a`  \n",
    "&emsp;$D' := \\sum_{i=2}^{N_c-1} y_i d_i \\, / \\left( d_i + a \\left( d_i + 1 \\right) \\right)^2 - y_{N_c}$  {comment}`# Значение производной функции в точке a`  \n",
    "&emsp;**return** $D, \\; D'$  \n",
    "**end function**  \n",
    "$\\left( D, \\; D' \\right) := fD \\left( a, \\, \\mathbf{y}, \\, \\mathbf{d} \\right)$ {comment}`# Расчет значения функции D(a) и ее градиента для начального приближения`  \n",
    "$h := D \\, / \\, D'$ {comment}`# Длина шага`  \n",
    "$i := 1$ {comment}`# Номер итерации`  \n",
    "**while** $\\left| D \\right| > \\epsilon$ **and** $i < N_{iter}$ **do**  \n",
    "&emsp;$a_{i+1} := a - h$ {comment}`# Расчет нового приближения для (i+1)-й итерации`  \n",
    "&emsp;**if** $a_{i+1} < 0$ **then** {comment}`# Если новое приближение находится вне NF-window...`  \n",
    "&emsp;&emsp;**if** $D > 0$ **then**  {comment}`# Выбор между переключением на функции G(a) или H(a)`  \n",
    "&emsp;&emsp;&emsp;$a_{i+1} := a_{i+1} + h^2 / \\left( h - a \\left( a + 1 \\right) \\right)$  {comment}`# Итерация в формулировке G(a)`  \n",
    "&emsp;&emsp;**else**  \n",
    "&emsp;&emsp;&emsp;$a_{i+1} := a_{i+1} + h^2 / \\left( h + a + 1 \\right)$ {comment}`# Итерация в формулировке H(a)`  \n",
    "&emsp;&emsp;**end if**  \n",
    "&emsp;**end if**  \n",
    "&emsp;$\\left( D, \\; D' \\right) := fD \\left( a_{i+1}, \\, \\mathbf{y}, \\, \\mathbf{d} \\right)$ {comment}`# Расчет значения функции D(a) и ее градиента для нового приближения`  \n",
    "&emsp;$h := D / D'$ {comment}`# Обновление шага итерации`  \n",
    "&emsp;$i := i + 1$ {comment}`# Обновление номера итерации`  \n",
    "**end while**  \n",
    "```\n",
    "\n",
    "Пример реализации данного алгоритма представлен [здесь](https://github.com/DanielSkorov/ReservoirSimulation/blob/main/_src/rr.py). Рассмотрим несколько примеров решения уравнения Речфорда-Райса для различных исходных компонентных составов и констант фазового равновесия. Более детальный разбор этих примеров представлен в работе \\[[Nichita and Leibovici, 2013](https://doi.org/10.1016/j.fluid.2013.05.030)\\].\n",
    "\n",
    "````{admonition} Пример\n",
    ":class: exercise\n",
    "\n",
    "Пусть мольные доли компонентов и их константы фазового равновесия заданы следующим образом.\n",
    "\n",
    "``` python\n",
    "yi = np.array([0.770, 0.200, 0.010, 0.010, 0.005, 0.005])\n",
    "kvi = np.array([1.00003, 1.00002, 1.00001, 0.99999, 0.99998, 0.99997])\n",
    "```\n",
    "\n",
    "Необходимо найти корень уравнения Речфорда-Райса, соответствующий NF-window.\n",
    "\n",
    "````\n",
    "\n",
    "````{dropdown} Решение\n",
    "\n",
    "Сначала рассчитаем значения $c_i, \\; i = 1 \\, \\ldots \\, N_c,$ и $d_i, \\; i = 2 \\, \\ldots \\, N_c - 1$:\n",
    "\n",
    "``` python\n",
    "ci = 1. / (1. - kvi)\n",
    "di = (ci[0] - ci[1:-1]) / (ci[-1] - ci[0])\n",
    "```\n",
    "\n",
    "Создадим функцию, позволяющую рассчитать значение и производную функции $D \\left( a \\right)$ и проинициализируем ее исходными данными:\n",
    "\n",
    "``` python\n",
    "def fD(\n",
    "    a: np.floating,\n",
    "    yi: npt.NDArray[np.floating],\n",
    "    di: npt.NDArray[np.floating],\n",
    ") -> tuple[np.floating, np.floating]:\n",
    "    denom = 1. / (di * (a + 1.) + a)\n",
    "    return (\n",
    "        yi[0] + a * yi[1:-1].dot(denom) - yi[-1] * a,\n",
    "        (yi[1:-1] * di).dot(denom * denom) - yi[-1],\n",
    "    )\n",
    "\n",
    "pD = partial(fD, yi=yi, di=di)\n",
    "```\n",
    "\n",
    "Затем создадим функцию, которая принимает на вход кортеж из номера итерации `i`, переменной `a`, шага итерации `h` и значения функции $D \\left( a \\right)$ `D`, а также точность решения уравнения `tol` и максимальное количество итераций `Niter`, и возвращает необходимость выполнения следующей итерации:\n",
    "\n",
    "``` python\n",
    "def condit(\n",
    "    carry: tuple[int, np.floating, np.floating, np.floating],\n",
    "    tol: np.floating,\n",
    "    Niter: int,\n",
    ") -> bool:\n",
    "    i, a, _, D = carry\n",
    "    return (i < Niter) & (np.abs(D) > tol)\n",
    "\n",
    "pcondit = partial(condit, tol=np.float64(1e-10), Niter=50)\n",
    "```\n",
    "\n",
    "Далее создадим функцию, которая принимает на вход кортеж с результатами предыдущей итерации и обновляет их значениями для новой итерации:\n",
    "\n",
    "``` python\n",
    "def update(\n",
    "    carry: tuple[int, np.floating, np.floating, np.floating],\n",
    "    pD: Callable[[np.floating], tuple[np.floating, np.floating]],\n",
    ") -> tuple[int, np.floating, np.floating, np.floating]:\n",
    "    i, a_, h_, D_ = carry\n",
    "    print(f'\\nIteration #{i}:')\n",
    "    a = a_ - h_\n",
    "    if a < 0.:\n",
    "        print(f'\\tThe value of a becomes less than zero ({a = })')\n",
    "        if D_ > 0.:\n",
    "            print('\\tUse G(a) formulation to correct step size')\n",
    "            a += h_ * h_ / (h_ - a_ * (a_ + 1.))\n",
    "        else:\n",
    "            print('\\tUse H(a) formulation to correct step size')\n",
    "            a += h_ * h_ / (h_ + a_ + 1.)\n",
    "    D, dDda = pD(a)\n",
    "    print(f'\\t{a = }\\n\\t{D = }')\n",
    "    return i + 1, a, D / dDda, D\n",
    "\n",
    "pupdate = partial(update, pD=pD)\n",
    "```\n",
    "\n",
    "Зададим начальное приближение и рассчитаем значения функции $D \\left( a \\right)$ и ее производной в точке с начальным приближением:\n",
    "\n",
    "``` python\n",
    "a = yi[0] / yi[-1]\n",
    "D, dDda = pD(a)\n",
    "```\n",
    "\n",
    "Решим уравнение Речфорда-Райса методом Ньютона:\n",
    "\n",
    "``` python\n",
    "print(f'Iteration #0:\\n\\t{a = }\\n\\t{D = }')\n",
    "carry = (1, a, D / dDda, D)\n",
    "while pcondit(carry):\n",
    "    carry = pupdate(carry)\n",
    "```\n",
    "\n",
    "```{glue:} glued_out1\n",
    "```\n",
    "\n",
    "Тогда мольная доля нереференсной фазы:\n",
    "\n",
    "``` python\n",
    "a = carry[1]\n",
    "F = (ci[0] + a * ci[-1]) / (1. + a)\n",
    "print(f'{F = }')\n",
    "```\n",
    "\n",
    "```{glue:} glued_out2\n",
    "```\n",
    "\n",
    "````"
   ]
  },
  {
   "cell_type": "code",
   "execution_count": 23,
   "id": "49101604",
   "metadata": {
    "tags": [
     "remove-cell"
    ]
   },
   "outputs": [
    {
     "data": {
      "text/html": [
       "\n",
       "<div class=\"output text_plain highlight-myst-ansi notranslate\"><div class=\"highlight\"><pre id=\"codecell20\" tabindex=\"0\"><span></span>Iteration #0:<br>\ta = np.float64(154.0)<br>\tD = np.float64(0.13553343201786738)<br><br>Iteration #1:<br>\ta = np.float64(181.0886625154994)<br>\tD = np.float64(1.3020914872874378e-05)<br><br>Iteration #2:<br>\ta = np.float64(181.09126543090247)<br>\tD = np.float64(8.79296635503124e-14)\n",
       "</pre><button class=\"copybtn o-tooltip--left\" data-tooltip=\"Copy\" data-clipboard-target=\"#codecell20\">\n",
       "      <svg xmlns=\"http://www.w3.org/2000/svg\" class=\"icon icon-tabler icon-tabler-copy\" width=\"44\" height=\"44\" viewBox=\"0 0 24 24\" stroke-width=\"1.5\" stroke=\"#000000\" fill=\"none\" stroke-linecap=\"round\" stroke-linejoin=\"round\">\n",
       "  <title>Copy to clipboard</title>\n",
       "  <path stroke=\"none\" d=\"M0 0h24v24H0z\" fill=\"none\"></path>\n",
       "  <rect x=\"8\" y=\"8\" width=\"12\" height=\"12\" rx=\"2\"></rect>\n",
       "  <path d=\"M16 8v-2a2 2 0 0 0 -2 -2h-8a2 2 0 0 0 -2 2v8a2 2 0 0 0 2 2h2\"></path>\n",
       "</svg>\n",
       "    </button></div>\n",
       "</div>\n"
      ],
      "text/plain": [
       "<__main__.MultilineText at 0x149f919fa10>"
      ]
     },
     "metadata": {
      "scrapbook": {
       "mime_prefix": "",
       "name": "glued_out1"
      }
     },
     "output_type": "display_data"
    },
    {
     "data": {
      "text/html": [
       "\n",
       "<div class=\"output text_plain highlight-myst-ansi notranslate\"><div class=\"highlight\"><pre id=\"codecell20\" tabindex=\"0\"><span></span>F = np.float64(32967.21655939691)\n",
       "</pre><button class=\"copybtn o-tooltip--left\" data-tooltip=\"Copy\" data-clipboard-target=\"#codecell20\">\n",
       "      <svg xmlns=\"http://www.w3.org/2000/svg\" class=\"icon icon-tabler icon-tabler-copy\" width=\"44\" height=\"44\" viewBox=\"0 0 24 24\" stroke-width=\"1.5\" stroke=\"#000000\" fill=\"none\" stroke-linecap=\"round\" stroke-linejoin=\"round\">\n",
       "  <title>Copy to clipboard</title>\n",
       "  <path stroke=\"none\" d=\"M0 0h24v24H0z\" fill=\"none\"></path>\n",
       "  <rect x=\"8\" y=\"8\" width=\"12\" height=\"12\" rx=\"2\"></rect>\n",
       "  <path d=\"M16 8v-2a2 2 0 0 0 -2 -2h-8a2 2 0 0 0 -2 2v8a2 2 0 0 0 2 2h2\"></path>\n",
       "</svg>\n",
       "    </button></div>\n",
       "</div>\n"
      ],
      "text/plain": [
       "<__main__.MultilineText at 0x149f919fa10>"
      ]
     },
     "metadata": {
      "scrapbook": {
       "mime_prefix": "",
       "name": "glued_out2"
      }
     },
     "output_type": "display_data"
    }
   ],
   "source": [
    "yi = np.array([0.770, 0.200, 0.010, 0.010, 0.005, 0.005])\n",
    "kvi = np.array([1.00003, 1.00002, 1.00001, 0.99999, 0.99998, 0.99997])\n",
    "\n",
    "ci = 1. / (1. - kvi)\n",
    "di = (ci[0] - ci[1:-1]) / (ci[-1] - ci[0])\n",
    "\n",
    "def fD(\n",
    "    a: np.floating,\n",
    "    yi: npt.NDArray[np.floating],\n",
    "    di: npt.NDArray[np.floating],\n",
    ") -> tuple[np.floating, np.floating]:\n",
    "    denom = 1. / (di * (a + 1.) + a)\n",
    "    return (\n",
    "        yi[0] + a * yi[1:-1].dot(denom) - yi[-1] * a,\n",
    "        (yi[1:-1] * di).dot(denom * denom) - yi[-1],\n",
    "    )\n",
    "\n",
    "pD = partial(fD, yi=yi, di=di)\n",
    "\n",
    "def condit(\n",
    "    carry: tuple[int, np.floating, np.floating, np.floating],\n",
    "    tol: np.floating,\n",
    "    Niter: int,\n",
    ") -> bool:\n",
    "    i, a, _, D = carry\n",
    "    return (i < Niter) & (np.abs(D) > tol)\n",
    "\n",
    "pcondit = partial(condit, tol=np.float64(1e-10), Niter=50)\n",
    "\n",
    "def update(\n",
    "    carry: tuple[int, np.floating, np.floating, np.floating],\n",
    "    pD: Callable[[np.floating], tuple[np.floating, np.floating]],\n",
    ") -> tuple[tuple[int, np.floating, np.floating, np.floating], str]:\n",
    "    i, a_, h_, D_ = carry\n",
    "    out = f'\\n\\nIteration #{i}:'\n",
    "    a = a_ - h_\n",
    "    if a < 0.:\n",
    "        out += f'\\n\\tThe value of a becomes less than zero ({a = })'\n",
    "        if D_ > 0.:\n",
    "            out += '\\n\\tUse G(a) formulation to correct step size'\n",
    "            a += h_ * h_ / (h_ - a_ * (a_ + 1.))\n",
    "        else:\n",
    "            out += '\\n\\tUse H(a) formulation to correct step size'\n",
    "            a += h_ * h_ / (h_ + a_ + 1.)\n",
    "    D, dDda = pD(a)\n",
    "    out += f'\\n\\t{a = }\\n\\t{D = }'\n",
    "    return (i + 1, a, D / dDda, D), out\n",
    "\n",
    "pupdate = partial(update, pD=pD)\n",
    "\n",
    "a = yi[0] / yi[-1]\n",
    "D, dDda = pD(a)\n",
    "\n",
    "out1 = f'Iteration #0:\\n\\t{a = }\\n\\t{D = }'\n",
    "\n",
    "carry = (1, a, D / dDda, D)\n",
    "while pcondit(carry):\n",
    "    carry, out = pupdate(carry)\n",
    "    out1 += out\n",
    "\n",
    "a = carry[1]\n",
    "F = (ci[0] + a * ci[-1]) / (1. + a)\n",
    "\n",
    "out2 = f'{F = }'\n",
    "\n",
    "class MultilineText(object):\n",
    "    def __init__(self, text):\n",
    "        self.text = text\n",
    "        self.template = \"\"\"\n",
    "<div class=\"output text_plain highlight-myst-ansi notranslate\"><div class=\"highlight\"><pre id=\"codecell20\" tabindex=\"0\"><span></span>{}\n",
    "</pre><button class=\"copybtn o-tooltip--left\" data-tooltip=\"Copy\" data-clipboard-target=\"#codecell20\">\n",
    "      <svg xmlns=\"http://www.w3.org/2000/svg\" class=\"icon icon-tabler icon-tabler-copy\" width=\"44\" height=\"44\" viewBox=\"0 0 24 24\" stroke-width=\"1.5\" stroke=\"#000000\" fill=\"none\" stroke-linecap=\"round\" stroke-linejoin=\"round\">\n",
    "  <title>Copy to clipboard</title>\n",
    "  <path stroke=\"none\" d=\"M0 0h24v24H0z\" fill=\"none\"></path>\n",
    "  <rect x=\"8\" y=\"8\" width=\"12\" height=\"12\" rx=\"2\"></rect>\n",
    "  <path d=\"M16 8v-2a2 2 0 0 0 -2 -2h-8a2 2 0 0 0 -2 2v8a2 2 0 0 0 2 2h2\"></path>\n",
    "</svg>\n",
    "    </button></div>\n",
    "</div>\n",
    "\"\"\"\n",
    "    def _repr_html_(self):\n",
    "        return self.template.format(self.text.replace('\\n', '<br>'))\n",
    "\n",
    "glue('glued_out1', MultilineText(out1))\n",
    "glue('glued_out2', MultilineText(out2))"
   ]
  },
  {
   "cell_type": "markdown",
   "id": "0415a5d1",
   "metadata": {},
   "source": [
    "````{admonition} Пример\n",
    ":class: exercise\n",
    "\n",
    "Пусть мольные доли компонентов и их константы фазового равновесия заданы следующим образом.\n",
    "\n",
    "``` python\n",
    "yi = np.array([0.44, 0.55, 3.88E-03, 2.99E-03, 2.36E-03, 1.95E-03])\n",
    "kvi = np.array([161.59, 6.90, 0.15, 1.28E-03, 5.86E-06, 2.32E-08])\n",
    "```\n",
    "\n",
    "Необходимо найти корень уравнения Речфорда-Райса, соответствующий NF-window.\n",
    "\n",
    "````\n",
    "\n",
    "````{dropdown} Решение\n",
    "\n",
    "Рассчитаем значения $c_i, \\; i = 1 \\, \\ldots \\, N_c,$ и $d_i, \\; i = 2 \\, \\ldots \\, N_c - 1$:\n",
    "\n",
    "``` python\n",
    "ci = 1. / (1. - kvi)\n",
    "di = (ci[0] - ci[1:-1]) / (ci[-1] - ci[0])\n",
    "```\n",
    "\n",
    "Проинициализируем функцию $D \\left( a \\right)$:\n",
    "\n",
    "``` python\n",
    "pD = partial(fD, yi=yi, di=di)\n",
    "```\n",
    "\n",
    "Проинициализируем функцию `update`:\n",
    "\n",
    "``` python\n",
    "pupdate = partial(update, pD=pD)\n",
    "```\n",
    "\n",
    "Зададим начальное приближение и рассчитаем значения функции $D \\left( a \\right)$ и ее производной в точке с начальным приближением:\n",
    "\n",
    "``` python\n",
    "a = yi[0] / yi[-1]\n",
    "D, dDda = pD(a)\n",
    "```\n",
    "\n",
    "Решим уравнение Речфорда-Райса методом Ньютона:\n",
    "\n",
    "``` python\n",
    "print(f'Iteration #0:\\n\\t{a = }\\n\\t{D = }')\n",
    "carry = (1, a, D / dDda, D)\n",
    "while pcondit(carry):\n",
    "    carry = pupdate(carry)\n",
    "```\n",
    "\n",
    "```{glue:} glued_out3\n",
    "```\n",
    "\n",
    "Тогда мольная доля нереференсной фазы:\n",
    "\n",
    "``` python\n",
    "a = carry[1]\n",
    "F = (ci[0] + a * ci[-1]) / (1. + a)\n",
    "print(f'{F = }')\n",
    "```\n",
    "\n",
    "```{glue:} glued_out4\n",
    "```\n",
    "\n",
    "````"
   ]
  },
  {
   "cell_type": "code",
   "execution_count": 24,
   "id": "281070f1",
   "metadata": {
    "tags": [
     "remove-cell"
    ]
   },
   "outputs": [
    {
     "data": {
      "text/html": [
       "\n",
       "<div class=\"output text_plain highlight-myst-ansi notranslate\"><div class=\"highlight\"><pre id=\"codecell20\" tabindex=\"0\"><span></span>Iteration #0:<br>\ta = np.float64(225.64102564102566)<br>\tD = np.float64(-0.6039107000317067)<br><br>Iteration #1:<br>\ta = np.float64(126.76964616606497)<br>\tD = np.float64(0.01953938797320995)<br><br>Iteration #2:<br>\ta = np.float64(129.76411480566324)<br>\tD = np.float64(2.206614699529208e-05)<br><br>Iteration #3:<br>\ta = np.float64(129.76750414958664)<br>\tD = np.float64(2.8071045488076152e-11)\n",
       "</pre><button class=\"copybtn o-tooltip--left\" data-tooltip=\"Copy\" data-clipboard-target=\"#codecell20\">\n",
       "      <svg xmlns=\"http://www.w3.org/2000/svg\" class=\"icon icon-tabler icon-tabler-copy\" width=\"44\" height=\"44\" viewBox=\"0 0 24 24\" stroke-width=\"1.5\" stroke=\"#000000\" fill=\"none\" stroke-linecap=\"round\" stroke-linejoin=\"round\">\n",
       "  <title>Copy to clipboard</title>\n",
       "  <path stroke=\"none\" d=\"M0 0h24v24H0z\" fill=\"none\"></path>\n",
       "  <rect x=\"8\" y=\"8\" width=\"12\" height=\"12\" rx=\"2\"></rect>\n",
       "  <path d=\"M16 8v-2a2 2 0 0 0 -2 -2h-8a2 2 0 0 0 -2 2v8a2 2 0 0 0 2 2h2\"></path>\n",
       "</svg>\n",
       "    </button></div>\n",
       "</div>\n"
      ],
      "text/plain": [
       "<__main__.MultilineText at 0x149faf33ad0>"
      ]
     },
     "metadata": {
      "scrapbook": {
       "mime_prefix": "",
       "name": "glued_out3"
      }
     },
     "output_type": "display_data"
    },
    {
     "data": {
      "text/html": [
       "\n",
       "<div class=\"output text_plain highlight-myst-ansi notranslate\"><div class=\"highlight\"><pre id=\"codecell20\" tabindex=\"0\"><span></span>F = np.float64(0.9923052440762278)\n",
       "</pre><button class=\"copybtn o-tooltip--left\" data-tooltip=\"Copy\" data-clipboard-target=\"#codecell20\">\n",
       "      <svg xmlns=\"http://www.w3.org/2000/svg\" class=\"icon icon-tabler icon-tabler-copy\" width=\"44\" height=\"44\" viewBox=\"0 0 24 24\" stroke-width=\"1.5\" stroke=\"#000000\" fill=\"none\" stroke-linecap=\"round\" stroke-linejoin=\"round\">\n",
       "  <title>Copy to clipboard</title>\n",
       "  <path stroke=\"none\" d=\"M0 0h24v24H0z\" fill=\"none\"></path>\n",
       "  <rect x=\"8\" y=\"8\" width=\"12\" height=\"12\" rx=\"2\"></rect>\n",
       "  <path d=\"M16 8v-2a2 2 0 0 0 -2 -2h-8a2 2 0 0 0 -2 2v8a2 2 0 0 0 2 2h2\"></path>\n",
       "</svg>\n",
       "    </button></div>\n",
       "</div>\n"
      ],
      "text/plain": [
       "<__main__.MultilineText at 0x149faf33ad0>"
      ]
     },
     "metadata": {
      "scrapbook": {
       "mime_prefix": "",
       "name": "glued_out4"
      }
     },
     "output_type": "display_data"
    }
   ],
   "source": [
    "yi = np.array([0.44, 0.55, 3.88E-03, 2.99E-03, 2.36E-03, 1.95E-03])\n",
    "kvi = np.array([161.59, 6.90, 0.15, 1.28E-03, 5.86E-06, 2.32E-08])\n",
    "\n",
    "ci = 1. / (1. - kvi)\n",
    "di = (ci[0] - ci[1:-1]) / (ci[-1] - ci[0])\n",
    "\n",
    "pD = partial(fD, yi=yi, di=di)\n",
    "\n",
    "pupdate = partial(update, pD=pD)\n",
    "\n",
    "a = yi[0] / yi[-1]\n",
    "D, dDda = pD(a)\n",
    "\n",
    "out3 = f'Iteration #0:\\n\\t{a = }\\n\\t{D = }'\n",
    "\n",
    "carry = (1, a, D / dDda, D)\n",
    "while pcondit(carry):\n",
    "    carry, out = pupdate(carry)\n",
    "    out3 += out\n",
    "\n",
    "a = carry[1]\n",
    "F = (ci[0] + a * ci[-1]) / (1. + a)\n",
    "\n",
    "out4 = f'{F = }'\n",
    "\n",
    "glue('glued_out3', MultilineText(out3))\n",
    "glue('glued_out4', MultilineText(out4))"
   ]
  },
  {
   "cell_type": "markdown",
   "id": "72e790f7",
   "metadata": {},
   "source": [
    "````{admonition} Пример\n",
    ":class: exercise\n",
    "\n",
    "Пусть мольные доли компонентов и их константы фазового равновесия заданы следующим образом.\n",
    "\n",
    "``` python\n",
    "eps = 1e-9\n",
    "kvi = 1. + np.array([2. * eps, 1.5 * eps, eps, -eps, -1.5 * eps, -2. * eps])\n",
    "yi = np.full_like(kvi, 1. / 6.)\n",
    "```\n",
    "\n",
    "Необходимо найти корень уравнения Речфорда-Райса, соответствующий NF-window.\n",
    "\n",
    "````\n",
    "\n",
    "````{dropdown} Решение\n",
    "\n",
    "Данный пример подробно разбирался выше, однако покажем, как изменилось количество итераций для этого примера при использовнии линеаризованной функции $D \\left( a \\right)$. Рассчитаем значения $c_i, \\; i = 1 \\, \\ldots \\, N_c,$ и $d_i, \\; i = 2 \\, \\ldots \\, N_c - 1$:\n",
    "\n",
    "``` python\n",
    "ci = 1. / (1. - kvi)\n",
    "di = (ci[0] - ci[1:-1]) / (ci[-1] - ci[0])\n",
    "\n",
    "pD = partial(fD, yi=yi, di=di)\n",
    "\n",
    "pupdate = partial(update, pD=pD)\n",
    "\n",
    "pcondit = partial(condit, tol=np.float64(1e-12), Niter=50)\n",
    "\n",
    "a = yi[0] / yi[-1]\n",
    "D, dDda = pD(a)\n",
    "\n",
    "print(f'Iteration #0:\\n\\t{a = }\\n\\t{D = }')\n",
    "carry = (1, a, D / dDda, D)\n",
    "while pcondit(carry):\n",
    "    carry = pupdate(carry)\n",
    "```\n",
    "\n",
    "```{glue:} glued_out5\n",
    "```\n",
    "\n",
    "Мольная доля нереференсной фазы:\n",
    "\n",
    "``` python\n",
    "a = carry[1]\n",
    "F = (ci[0] + a * ci[-1]) / (1. + a)\n",
    "print(f'{F = }')\n",
    "```\n",
    "\n",
    "```{glue:} glued_out6\n",
    "```\n",
    "\n",
    "````"
   ]
  },
  {
   "cell_type": "code",
   "execution_count": 25,
   "id": "f0b5a072",
   "metadata": {
    "tags": [
     "remove-cell"
    ]
   },
   "outputs": [
    {
     "data": {
      "text/html": [
       "\n",
       "<div class=\"output text_plain highlight-myst-ansi notranslate\"><div class=\"highlight\"><pre id=\"codecell20\" tabindex=\"0\"><span></span>Iteration #0:<br>\ta = np.float64(1.0)<br>\tD = np.float64(7.517134886780852e-09)<br><br>Iteration #1:<br>\ta = np.float64(1.000000024884309)<br>\tD = np.float64(0.0)\n",
       "</pre><button class=\"copybtn o-tooltip--left\" data-tooltip=\"Copy\" data-clipboard-target=\"#codecell20\">\n",
       "      <svg xmlns=\"http://www.w3.org/2000/svg\" class=\"icon icon-tabler icon-tabler-copy\" width=\"44\" height=\"44\" viewBox=\"0 0 24 24\" stroke-width=\"1.5\" stroke=\"#000000\" fill=\"none\" stroke-linecap=\"round\" stroke-linejoin=\"round\">\n",
       "  <title>Copy to clipboard</title>\n",
       "  <path stroke=\"none\" d=\"M0 0h24v24H0z\" fill=\"none\"></path>\n",
       "  <rect x=\"8\" y=\"8\" width=\"12\" height=\"12\" rx=\"2\"></rect>\n",
       "  <path d=\"M16 8v-2a2 2 0 0 0 -2 -2h-8a2 2 0 0 0 -2 2v8a2 2 0 0 0 2 2h2\"></path>\n",
       "</svg>\n",
       "    </button></div>\n",
       "</div>\n"
      ],
      "text/plain": [
       "<__main__.MultilineText at 0x149faf8ed20>"
      ]
     },
     "metadata": {
      "scrapbook": {
       "mime_prefix": "",
       "name": "glued_out5"
      }
     },
     "output_type": "display_data"
    },
    {
     "data": {
      "text/html": [
       "\n",
       "<div class=\"output text_plain highlight-myst-ansi notranslate\"><div class=\"highlight\"><pre id=\"codecell20\" tabindex=\"0\"><span></span>F = np.float64(-7.656710648638137)\n",
       "</pre><button class=\"copybtn o-tooltip--left\" data-tooltip=\"Copy\" data-clipboard-target=\"#codecell20\">\n",
       "      <svg xmlns=\"http://www.w3.org/2000/svg\" class=\"icon icon-tabler icon-tabler-copy\" width=\"44\" height=\"44\" viewBox=\"0 0 24 24\" stroke-width=\"1.5\" stroke=\"#000000\" fill=\"none\" stroke-linecap=\"round\" stroke-linejoin=\"round\">\n",
       "  <title>Copy to clipboard</title>\n",
       "  <path stroke=\"none\" d=\"M0 0h24v24H0z\" fill=\"none\"></path>\n",
       "  <rect x=\"8\" y=\"8\" width=\"12\" height=\"12\" rx=\"2\"></rect>\n",
       "  <path d=\"M16 8v-2a2 2 0 0 0 -2 -2h-8a2 2 0 0 0 -2 2v8a2 2 0 0 0 2 2h2\"></path>\n",
       "</svg>\n",
       "    </button></div>\n",
       "</div>\n"
      ],
      "text/plain": [
       "<__main__.MultilineText at 0x149fa982990>"
      ]
     },
     "metadata": {
      "scrapbook": {
       "mime_prefix": "",
       "name": "glued_out6"
      }
     },
     "output_type": "display_data"
    }
   ],
   "source": [
    "eps = 1e-9\n",
    "kvi = 1. + np.array([2. * eps, 1.5 * eps, eps, -eps, -1.5 * eps, -2. * eps])\n",
    "yi = np.full_like(kvi, 1. / 6.)\n",
    "\n",
    "ci = 1. / (1. - kvi)\n",
    "di = (ci[0] - ci[1:-1]) / (ci[-1] - ci[0])\n",
    "\n",
    "pD = partial(fD, yi=yi, di=di)\n",
    "\n",
    "pupdate = partial(update, pD=pD)\n",
    "\n",
    "pcondit = partial(condit, tol=np.float64(1e-12), Niter=50)\n",
    "\n",
    "a = yi[0] / yi[-1]\n",
    "D, dDda = pD(a)\n",
    "\n",
    "out5 = f'Iteration #0:\\n\\t{a = }\\n\\t{D = }'\n",
    "\n",
    "carry = (1, a, D / dDda, D)\n",
    "while pcondit(carry):\n",
    "    carry, out = pupdate(carry)\n",
    "    out5 += out\n",
    "\n",
    "a = carry[1]\n",
    "F = (ci[0] + a * ci[-1]) / (1. + a)\n",
    "\n",
    "out6 = f'{F = }'\n",
    "\n",
    "glue('glued_out5', MultilineText(out5))\n",
    "glue('glued_out6', MultilineText(out6))"
   ]
  },
  {
   "cell_type": "markdown",
   "id": "7837e1da",
   "metadata": {},
   "source": [
    "````{admonition} Пример\n",
    ":class: exercise\n",
    "\n",
    "Пусть мольные доли компонентов и их константы фазового равновесия заданы следующим образом.\n",
    "\n",
    "``` python\n",
    "yi = np.array([0.8097, 0.0566, 0.0306, 0.0457, 0.0330, 0.0244])\n",
    "kvi = np.array([1.000065, 0.999922, 0.999828, 0.999650, 0.999490, 0.999282])\n",
    "```\n",
    "\n",
    "Необходимо найти корень уравнения Речфорда-Райса, соответствующий NF-window.\n",
    "\n",
    "````\n",
    "\n",
    "````{dropdown} Решение\n",
    "\n",
    "``` python\n",
    "ci = 1. / (1. - kvi)\n",
    "di = (ci[0] - ci[1:-1]) / (ci[-1] - ci[0])\n",
    "\n",
    "pD = partial(fD, yi=yi, di=di)\n",
    "\n",
    "pupdate = partial(update, pD=pD)\n",
    "\n",
    "pcondit = partial(condit, tol=np.float64(1e-10), Niter=50)\n",
    "\n",
    "a = yi[0] / yi[-1]\n",
    "D, dDda = pD(a)\n",
    "\n",
    "print(f'Iteration #0:\\n\\t{a = }\\n\\t{D = }')\n",
    "carry = (1, a, D / dDda, D)\n",
    "while pcondit(carry):\n",
    "    carry = pupdate(carry)\n",
    "```\n",
    "\n",
    "```{glue:} glued_out7\n",
    "```\n",
    "\n",
    "Мольная доля нереференсной фазы:\n",
    "\n",
    "``` python\n",
    "a = carry[1]\n",
    "F = (ci[0] + a * ci[-1]) / (1. + a)\n",
    "print(f'{F = }')\n",
    "```\n",
    "\n",
    "```{glue:} glued_out8\n",
    "```\n",
    "\n",
    "````"
   ]
  },
  {
   "cell_type": "code",
   "execution_count": 26,
   "id": "6abbbce7",
   "metadata": {
    "tags": [
     "remove-cell"
    ]
   },
   "outputs": [
    {
     "data": {
      "text/html": [
       "\n",
       "<div class=\"output text_plain highlight-myst-ansi notranslate\"><div class=\"highlight\"><pre id=\"codecell20\" tabindex=\"0\"><span></span>Iteration #0:<br>\ta = np.float64(33.18442622950819)<br>\tD = np.float64(-1.0670854714034523)<br><br>Iteration #1:<br>\ta = np.float64(3.0481357029147347)<br>\tD = np.float64(0.4528844597725437)<br><br>Iteration #2:<br>\ta = np.float64(7.880987189744696)<br>\tD = np.float64(0.07908915413161241)<br><br>Iteration #3:<br>\ta = np.float64(9.084506956495334)<br>\tD = np.float64(0.002399234047837512)<br><br>Iteration #4:<br>\ta = np.float64(9.123302825398902)<br>\tD = np.float64(2.2119510855178603e-06)<br><br>Iteration #5:<br>\ta = np.float64(9.123338658895335)<br>\tD = np.float64(1.8801904477783182e-12)\n",
       "</pre><button class=\"copybtn o-tooltip--left\" data-tooltip=\"Copy\" data-clipboard-target=\"#codecell20\">\n",
       "      <svg xmlns=\"http://www.w3.org/2000/svg\" class=\"icon icon-tabler icon-tabler-copy\" width=\"44\" height=\"44\" viewBox=\"0 0 24 24\" stroke-width=\"1.5\" stroke=\"#000000\" fill=\"none\" stroke-linecap=\"round\" stroke-linejoin=\"round\">\n",
       "  <title>Copy to clipboard</title>\n",
       "  <path stroke=\"none\" d=\"M0 0h24v24H0z\" fill=\"none\"></path>\n",
       "  <rect x=\"8\" y=\"8\" width=\"12\" height=\"12\" rx=\"2\"></rect>\n",
       "  <path d=\"M16 8v-2a2 2 0 0 0 -2 -2h-8a2 2 0 0 0 -2 2v8a2 2 0 0 0 2 2h2\"></path>\n",
       "</svg>\n",
       "    </button></div>\n",
       "</div>\n"
      ],
      "text/plain": [
       "<__main__.MultilineText at 0x149faf78440>"
      ]
     },
     "metadata": {
      "scrapbook": {
       "mime_prefix": "",
       "name": "glued_out7"
      }
     },
     "output_type": "display_data"
    },
    {
     "data": {
      "text/html": [
       "\n",
       "<div class=\"output text_plain highlight-myst-ansi notranslate\"><div class=\"highlight\"><pre id=\"codecell20\" tabindex=\"0\"><span></span>F = np.float64(-264.5387723733895)\n",
       "</pre><button class=\"copybtn o-tooltip--left\" data-tooltip=\"Copy\" data-clipboard-target=\"#codecell20\">\n",
       "      <svg xmlns=\"http://www.w3.org/2000/svg\" class=\"icon icon-tabler icon-tabler-copy\" width=\"44\" height=\"44\" viewBox=\"0 0 24 24\" stroke-width=\"1.5\" stroke=\"#000000\" fill=\"none\" stroke-linecap=\"round\" stroke-linejoin=\"round\">\n",
       "  <title>Copy to clipboard</title>\n",
       "  <path stroke=\"none\" d=\"M0 0h24v24H0z\" fill=\"none\"></path>\n",
       "  <rect x=\"8\" y=\"8\" width=\"12\" height=\"12\" rx=\"2\"></rect>\n",
       "  <path d=\"M16 8v-2a2 2 0 0 0 -2 -2h-8a2 2 0 0 0 -2 2v8a2 2 0 0 0 2 2h2\"></path>\n",
       "</svg>\n",
       "    </button></div>\n",
       "</div>\n"
      ],
      "text/plain": [
       "<__main__.MultilineText at 0x149faf78440>"
      ]
     },
     "metadata": {
      "scrapbook": {
       "mime_prefix": "",
       "name": "glued_out8"
      }
     },
     "output_type": "display_data"
    }
   ],
   "source": [
    "yi = np.array([0.8097, 0.0566, 0.0306, 0.0457, 0.0330, 0.0244])\n",
    "kvi = np.array([1.000065, 0.999922, 0.999828, 0.999650, 0.999490, 0.999282])\n",
    "\n",
    "ci = 1. / (1. - kvi)\n",
    "di = (ci[0] - ci[1:-1]) / (ci[-1] - ci[0])\n",
    "\n",
    "pD = partial(fD, yi=yi, di=di)\n",
    "\n",
    "pupdate = partial(update, pD=pD)\n",
    "\n",
    "pcondit = partial(condit, tol=np.float64(1e-10), Niter=50)\n",
    "\n",
    "a = yi[0] / yi[-1]\n",
    "D, dDda = pD(a)\n",
    "\n",
    "out7 = f'Iteration #0:\\n\\t{a = }\\n\\t{D = }'\n",
    "\n",
    "carry = (1, a, D / dDda, D)\n",
    "while pcondit(carry):\n",
    "    carry, out = pupdate(carry)\n",
    "    out7 += out\n",
    "\n",
    "a = carry[1]\n",
    "F = (ci[0] + a * ci[-1]) / (1. + a)\n",
    "\n",
    "out8 = f'{F = }'\n",
    "\n",
    "glue('glued_out7', MultilineText(out7))\n",
    "glue('glued_out8', MultilineText(out8))"
   ]
  },
  {
   "cell_type": "markdown",
   "id": "66f555d5",
   "metadata": {},
   "source": [
    "````{admonition} Пример\n",
    ":class: exercise\n",
    "\n",
    "Пусть мольные доли компонентов и их константы фазового равновесия заданы следующим образом.\n",
    "\n",
    "``` python\n",
    "yi = np.array([\n",
    "    0.1789202106,\n",
    "    0.0041006011,\n",
    "    0.7815241261,\n",
    "    0.0164691242,\n",
    "    0.0189859122,\n",
    "    0.0000000257,\n",
    "])\n",
    "kvi = np.array([\n",
    "    445.995819899,\n",
    "    441.311360487,\n",
    "    411.625356748,\n",
    "    339.586063803,\n",
    "    29.7661058122,\n",
    "    0.00596602417,\n",
    "])\n",
    "```\n",
    "\n",
    "Необходимо найти корень уравнения Речфорда-Райса, соответствующий NF-window.\n",
    "\n",
    "````\n",
    "\n",
    "````{dropdown} Решение\n",
    "\n",
    "``` python\n",
    "ci = 1. / (1. - kvi)\n",
    "di = (ci[0] - ci[1:-1]) / (ci[-1] - ci[0])\n",
    "\n",
    "pD = partial(fD, yi=yi, di=di)\n",
    "\n",
    "pupdate = partial(update, pD=pD)\n",
    "\n",
    "a = yi[0] / yi[-1]\n",
    "D, dDda = pD(a)\n",
    "\n",
    "print(f'Iteration #0:\\n\\t{a = }\\n\\t{D = }')\n",
    "carry = (1, a, D / dDda, D)\n",
    "while pcondit(carry):\n",
    "    carry = pupdate(carry)\n",
    "```\n",
    "\n",
    "```{glue:} glued_out9\n",
    "```\n",
    "\n",
    "Мольная доля нереференсной фазы:\n",
    "\n",
    "``` python\n",
    "a = carry[1]\n",
    "F = (ci[0] + a * ci[-1]) / (1. + a)\n",
    "print(f'{F = }')\n",
    "```\n",
    "\n",
    "```{glue:} glued_out10\n",
    "```\n",
    "\n",
    "````"
   ]
  },
  {
   "cell_type": "code",
   "execution_count": 27,
   "id": "7f1281f7",
   "metadata": {
    "tags": [
     "remove-cell"
    ]
   },
   "outputs": [
    {
     "data": {
      "text/html": [
       "\n",
       "<div class=\"output text_plain highlight-myst-ansi notranslate\"><div class=\"highlight\"><pre id=\"codecell20\" tabindex=\"0\"><span></span>Iteration #0:<br>\ta = np.float64(6961875.898832685)<br>\tD = np.float64(0.820329201053753)<br><br>Iteration #1:<br>\ta = np.float64(38881300.08310598)<br>\tD = np.float64(-3.9575387411616703e-10)<br><br>Iteration #2:<br>\ta = np.float64(38881300.067706995)<br>\tD = np.float64(1.1102230246251565e-16)\n",
       "</pre><button class=\"copybtn o-tooltip--left\" data-tooltip=\"Copy\" data-clipboard-target=\"#codecell20\">\n",
       "      <svg xmlns=\"http://www.w3.org/2000/svg\" class=\"icon icon-tabler icon-tabler-copy\" width=\"44\" height=\"44\" viewBox=\"0 0 24 24\" stroke-width=\"1.5\" stroke=\"#000000\" fill=\"none\" stroke-linecap=\"round\" stroke-linejoin=\"round\">\n",
       "  <title>Copy to clipboard</title>\n",
       "  <path stroke=\"none\" d=\"M0 0h24v24H0z\" fill=\"none\"></path>\n",
       "  <rect x=\"8\" y=\"8\" width=\"12\" height=\"12\" rx=\"2\"></rect>\n",
       "  <path d=\"M16 8v-2a2 2 0 0 0 -2 -2h-8a2 2 0 0 0 -2 2v8a2 2 0 0 0 2 2h2\"></path>\n",
       "</svg>\n",
       "    </button></div>\n",
       "</div>\n"
      ],
      "text/plain": [
       "<__main__.MultilineText at 0x149fb006b10>"
      ]
     },
     "metadata": {
      "scrapbook": {
       "mime_prefix": "",
       "name": "glued_out9"
      }
     },
     "output_type": "display_data"
    },
    {
     "data": {
      "text/html": [
       "\n",
       "<div class=\"output text_plain highlight-myst-ansi notranslate\"><div class=\"highlight\"><pre id=\"codecell20\" tabindex=\"0\"><span></span>F = np.float64(1.00600180530878)\n",
       "</pre><button class=\"copybtn o-tooltip--left\" data-tooltip=\"Copy\" data-clipboard-target=\"#codecell20\">\n",
       "      <svg xmlns=\"http://www.w3.org/2000/svg\" class=\"icon icon-tabler icon-tabler-copy\" width=\"44\" height=\"44\" viewBox=\"0 0 24 24\" stroke-width=\"1.5\" stroke=\"#000000\" fill=\"none\" stroke-linecap=\"round\" stroke-linejoin=\"round\">\n",
       "  <title>Copy to clipboard</title>\n",
       "  <path stroke=\"none\" d=\"M0 0h24v24H0z\" fill=\"none\"></path>\n",
       "  <rect x=\"8\" y=\"8\" width=\"12\" height=\"12\" rx=\"2\"></rect>\n",
       "  <path d=\"M16 8v-2a2 2 0 0 0 -2 -2h-8a2 2 0 0 0 -2 2v8a2 2 0 0 0 2 2h2\"></path>\n",
       "</svg>\n",
       "    </button></div>\n",
       "</div>\n"
      ],
      "text/plain": [
       "<__main__.MultilineText at 0x149facb6b70>"
      ]
     },
     "metadata": {
      "scrapbook": {
       "mime_prefix": "",
       "name": "glued_out10"
      }
     },
     "output_type": "display_data"
    }
   ],
   "source": [
    "yi = np.array([0.1789202106, 0.0041006011, 0.7815241261, 0.0164691242, 0.0189859122, 0.0000000257])\n",
    "kvi = np.array([445.995819899, 441.311360487, 411.625356748, 339.586063803, 29.7661058122, 0.00596602417])\n",
    "\n",
    "ci = 1. / (1. - kvi)\n",
    "di = (ci[0] - ci[1:-1]) / (ci[-1] - ci[0])\n",
    "\n",
    "pD = partial(fD, yi=yi, di=di)\n",
    "\n",
    "pupdate = partial(update, pD=pD)\n",
    "\n",
    "a = yi[0] / yi[-1]\n",
    "D, dDda = pD(a)\n",
    "\n",
    "out9 = f'Iteration #0:\\n\\t{a = }\\n\\t{D = }'\n",
    "\n",
    "carry = (1, a, D / dDda, D)\n",
    "while pcondit(carry):\n",
    "    carry, out = pupdate(carry)\n",
    "    out9 += out\n",
    "\n",
    "a = carry[1]\n",
    "F = (ci[0] + a * ci[-1]) / (1. + a)\n",
    "\n",
    "out10 = f'{F = }'\n",
    "\n",
    "glue('glued_out9', MultilineText(out9))\n",
    "glue('glued_out10', MultilineText(out10))"
   ]
  },
  {
   "cell_type": "markdown",
   "id": "453b4335",
   "metadata": {},
   "source": [
    "### Уравнение Речфорда-Райса для многофазных систем\n",
    "\n",
    "(pvt-esc-equilibrium-pt)=\n",
    "## PT-термодинамика"
   ]
  }
 ],
 "metadata": {
  "jupytext": {
   "text_representation": {
    "extension": ".md",
    "format_name": "myst",
    "format_version": "3.0.1",
    "jupytext_version": "1.16.3"
   }
  },
  "kernelspec": {
   "display_name": "Python 3 (ipykernel)",
   "language": "python",
   "name": "python3"
  },
  "language_info": {
   "codemirror_mode": {
    "name": "ipython",
    "version": 3
   },
   "file_extension": ".py",
   "mimetype": "text/x-python",
   "name": "python",
   "nbconvert_exporter": "python",
   "pygments_lexer": "ipython3",
   "version": "3.12.7"
  },
  "source_map": [
   12,
   173,
   179,
   184,
   211,
   336,
   341,
   344,
   348,
   366,
   372,
   385,
   389,
   399,
   403,
   418,
   422,
   436,
   440,
   454,
   472,
   478,
   482,
   487,
   490,
   494,
   505,
   509,
   527,
   588,
   642,
   677,
   691,
   697,
   709,
   713,
   715,
   719,
   733,
   743,
   752,
   788,
   804,
   1009,
   1098,
   1167,
   1198,
   1254,
   1288,
   1341,
   1374,
   1439,
   1470
  ]
 },
 "nbformat": 4,
 "nbformat_minor": 5
}