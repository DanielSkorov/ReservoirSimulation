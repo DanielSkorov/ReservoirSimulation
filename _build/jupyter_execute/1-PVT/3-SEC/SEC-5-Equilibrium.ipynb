{
 "cells": [
  {
   "cell_type": "markdown",
   "id": "6f5751a5",
   "metadata": {},
   "source": [
    "(pvt-esc-equilibrium)=\n",
    "# Определение равновесного состояния системы\n",
    "\n",
    "В предыдущих разделах были представлены особенности проверки [стабильности фазового состояния системы](SEC-1-Stability.md), а также получено [уравнение Речфорда-Райса](SEC-2-RR.md) и рассмотрены численные методы его решения для [двухфазной](SEC-3-RR-2P.md) и [многофазной](SEC-4-RR-NP.md) систем. Данный раздел посвящен расчету равновесного фазового состояния, проводимому в том случае, если по результатам анализа стабильности текущее фазовое состояние оказалось нестабильным. Как и в случае анализа стабильности, расчет равновесного состояния также имеет различные формулировки ([PT-термодинамика](#pvt-esc-equilibrium-pt), [VT-термодинамика](#pvt-esc-equilibrium-vt)).\n",
    "\n",
    "(pvt-esc-equilibrium-pt)=\n",
    "## PT-термодинамика\n",
    "\n",
    "Задача поиска равновесного состояния многокомпонентной ($N_c$ – количество компонентов) многофазной ($N_p$ – количество фаз) системы для фиксированных давления $P$, температуры $T$, количеств вещества компонентов в системе $n_i, \\; i = 1 \\, \\ldots \\, N_c$ достаточно хорошо изучена и проработана. [Ранее](../1-TD/TD-14-PhaseEquilibrium.md) было показано, что равновесное состояние характеризуется минимумом энергии Гиббса. При этом, необходимым условием равновесного состояния является равенство химических потенциалов (или летучестей) соответствующих компонентов в фазах. Это условие определяет положение стационарных точек функции энергии Гиббса, [называемых](SEC-1-Stability.md) стационарными состояниями системы.\n",
    "\n",
    "В результате решения задачи поиска равновесного состояния системы требуется определить количества вещества компонентов в фазах, всего $N_c \\times \\left( N_p - 1 \\right)$ неизвестных с учетом ограничения $\\sum_{j=1}^{N_p} n_i^j = n_i$, соответствующих положению минимума функции энергии Гиббса. Существует два основных направления решения данной задачи. Первое направление включает широкую группу подходов, основанных на ***методе последовательных подстановок*** *(successive (direct) substitution method)*. Данный метод, по сути, эквивалентен [методу градиентного спуска](https://en.wikipedia.org/wiki/Gradient_descent) с длиной шага, равной единице, с точки зрения минимизации энергии Гиббса. Преимуществом данного метода является его относительная простота, поскольку нет необходимости в расчете многомерных матриц и вторых частных производных функции энергии Гиббса. Недостатком данного метода является необходимость сравнительно большого количества итераций для нахождения решения, при этом, данный метод может сходиться к стационарным точкам функции. Метод последовательных подстановок подробно представлен в работах \\[[Michelsen, 1982b](https://doi.org/10.1016/0378-3812(82)85002-4); [Heidemann, 1983](https://doi.org/10.1016/0378-3812(83)80115-0); [Mehra et al, 1983](https://doi.org/10.1002/cjce.5450610414)\\]. Другим направлением решения задачи поиска равновесного состояния является совокупность [методов глобальной оптимизации](https://en.wikipedia.org/wiki/Global_optimization) функции энергии Гиббса, частично представленная в работах \\[[Nichita et al, 2002](https://doi.org/10.1016/S0098-1354(02)00144-8); [Nichita et al, 2004](https://doi.org/10.2118/04-05-TN2), [Petitfrere and Nichita, 2014](https://doi.org/10.1016/j.fluid.2013.08.039)\\]. В рамках данного курса подробно остановимся на методах определения равновесного состояния, относящихся к первому направлению.\n",
    "\n",
    "Отношение мольной доли $i$-го компонента в $j$-й фазе, где $j = 1 \\, \\ldots \\, N_p-1$, к мольной доли этого же компонента в референсной фазе (поскольку референсной фазой может быть любая, то здесь и далее под референсной фазой понимается фаза с индексом $N_p$) называется *константой фазового равновесия*:\n",
    "\n",
    "$$ K_i^j = \\frac{y_i^j}{y_i^{N_p}}, \\; j = 1 \\, \\ldots \\, N_p - 1, \\; i = 1 \\, \\ldots \\, N_c. $$\n",
    "\n",
    "Данный параметр также использовался при выводе [уравнения Речфорда-Райса](SEC-2-RR.md).\n",
    "\n",
    "Ключевой особенностью метода последовательных подстановок является итеративное обновление констант фазового равновесия в процессе поиска равновесного состояния, осуществляемое с использованием следующего выражения:\n",
    "\n",
    "$$ {K_i^j}_{k+1} = {K_i^j}_{k} \\frac{f_i \\left( P, \\, T, \\, y_i^{N_p} \\right)}{f_i \\left( P, \\, T, \\, y_i^j \\right)}, \\; j = 1 \\, \\ldots \\, N_p - 1, \\; i = 1 \\, \\ldots \\, N_c. $$\n",
    "\n",
    "где ${K_i^j}_{k+1}$ – константа фазового равновесия $i$-го компонента в $j$-й фазе на $\\left( k+1 \\right)$-й итерации, ${K_i^j}_{k}$ – константа фазового равновесия $i$-го компонента в $j$-й фазе на $k$-й итерации, $f_i \\left( P, \\, T, \\, y_i^j \\right)$ – летучесть $i$-го компонента в $j$-й фазе, $f_i \\left( P, \\, T, \\, y_i^{N_p} \\right)$ – летучесть $i$-го компонента в референсной фазе.\n",
    "\n",
    "Преобразуем данное выражение к следующему виду:\n",
    "\n",
    "$$ \\begin{align}\n",
    "\\ln {K_i^j}_{k+1} &= \\ln {K_i^j}_{k} + \\ln f_i  \\left( P, \\, T, \\, y_i^{N_p} \\right) - \\ln f_i \\left( P, \\, T, \\, y_i^j \\right), \\; j = 1 \\, \\ldots \\, N_p - 1, \\; i = 1 \\, \\ldots \\, N_c, \\\\\n",
    "\\Delta \\ln {K_i^j}_{k} &= \\ln f_i  \\left( P, \\, T, \\, y_i^j \\right) - \\ln f_i \\left( P, \\, T, \\, y_i^{N_p} \\right), \\; j = 1 \\, \\ldots \\, N_p - 1, \\; i = 1 \\, \\ldots \\, N_c, \\\\\n",
    "\\Delta \\ln {K_i^j}_{k} &= \\ln {K_i^j}_{k} + \\ln \\varphi_i \\left( P, \\, T, \\, y_i^j \\right) - \\ln \\varphi_i  \\left( P, \\, T, \\, y_i^{N_p} \\right), \\; j = 1 \\, \\ldots \\, N_p - 1, \\; i = 1 \\, \\ldots \\, N_c.\n",
    "\\end{align} $$\n",
    "\n",
    "Тогда итеративное обновление констант фазового равновесия в методе последовательных подстановок записывается в следующем виде:\n",
    "\n",
    "$$ \\ln {K_i^j}_{k+1} = \\ln {K_i^j}_{k} - \\Delta \\ln {K_i^j}_{k}, \\; j = 1 \\, \\ldots \\, N_p - 1, \\; i = 1 \\, \\ldots \\, N_c. $$\n",
    "\n",
    "В свою очередь, метод градиентного спуска для минимизации функции энергии Гиббса с выбранными в качестве основных переменных логарифмами констант фазового равновесия:\n",
    "\n",
    "$$ \\begin{align}\n",
    "\\ln {K_i^j}_{k+1}\n",
    "&= \\ln {K_i^j}_{k} - \\lambda \\left( \\frac{\\partial \\bar{G}}{\\partial \\ln K_i^j} \\right)_{P, \\, T, \\, K_l^m \\neq K_i^j} \\\\\n",
    "&= \\ln {K_i^j}_{k} - \\lambda \\sum_{l=1}^{N_c} \\sum_{m=1}^{N_p-1} \\left( \\frac{\\partial \\bar{G}}{\\partial n_l^m} \\right)_{P, \\, T, \\, n_i^j \\neq n_l^m} \\left( \\frac{\\partial n_l^m}{\\partial \\ln K_i^j} \\right)_{P, \\, T, \\, K_l^m \\neq K_i^j} \\\\\n",
    "&= \\ln {K_i^j}_{k} - \\lambda \\sum_{l=1}^{N_c} \\sum_{m=1}^{N_p-1} \\left( \\ln f_l \\left( P, \\, T, \\, y_l^m \\right) - \\ln f_l \\left( P, \\, T, \\, y_l^{N_p} \\right) \\right) U_{lmij}.\n",
    "\\end{align} $$\n",
    "\n",
    "В представленном выражении параметр $\\lambda$ характеризует длину шага, а $\\bar{G} = G / \\left(RT\\right)$ – приведенная энергия Гиббса системы. При преобразовании данного выражения учитывалось [правило дифференцирования сложной функции от нескольких переменных](https://en.wikipedia.org/wiki/Chain_rule#General_rule:_Vector-valued_functions_with_multiple_inputs). Если принять\n",
    "\n",
    "$$ \\lambda = 1, $$\n",
    "\n",
    "$$ U_{lmij} = \\delta_{lmij} = \\begin{cases} 1, \\; l = i, \\; m = j, \\; i = 1 \\, \\ldots \\, N_c, \\; j = 1 \\, \\ldots \\, N_p - 1, \\\\ 0, \\; \\mathrm{otherwise}, \\end{cases} $$\n",
    "\n",
    "тогда метод последовательных подстановок будет эквивалентен методу градиентного спуска для минимизации функции энергии Гиббса. Таким образом, метод последовательных подстановок является своеобразным упрощением метода градиентного спуска для минимизации функции энергии Гиббса.\n",
    "\n",
    "<!-- TODO: добавить анализ матрицы U_{lmij}. См. 10.1002/cjce.5450610414, 10.1002/aic.690330606, 10.1016/j.fluid.2014.11.017 -->\n",
    "\n",
    "Рассмотрим алгоритм метода последовательных подстановок.\n",
    "\n",
    "```{eval-rst}\n",
    ".. role:: comment\n",
    "    :class: comment\n",
    "```\n",
    "\n",
    "```{admonition} Алгоритм. Метод последовательных подстановок для определения равновесного состояния\n",
    ":class: algorithm\n",
    "\n",
    "**Дано:** Вектор компонентного состава исследуемой системы $\\mathbf{z} \\in {\\rm I\\!R}^{N_c}$; термобарические условия $P$ и $T$; количество вещества в системе $n=1 \\, моль$; необходимые свойства компонентов для нахождения коэффициентов летучести компонентов с использованием уравнения состояния; количество фаз в системе $N_p$; набор (тензор) начальных приближений констант фазового равновесия $\\mathbf{K}_0 \\in {\\rm I\\!R}^{N \\times \\left( N_p - 1 \\right) \\times N_c}$; максимальное число итераций $N_{iter}$; точность $\\epsilon$; длина шага $\\lambda = 1$.\n",
    "\n",
    "**Определить:** Компонентные составы фаз $\\mathbf{Y} \\in {\\rm I\\!R}^{ \\left( N_p - 1 \\right) \\times N_c}$ и мольные доли фаз $\\mathbf{F} \\in {\\rm I\\!R}^{N_p-1}$ в системе, соответствующие равновесному состоянию.\n",
    "\n",
    "**Псевдокод:**  \n",
    "**def** $\\phi \\left( \\mathbf{Y} \\in {\\rm I\\!R}^{\\left( N_p - 1 \\right) \\times N_c}, \\, \\ldots \\right) \\rightarrow \\mathbf{\\Phi} \\in {\\rm I\\!R}^{\\left( N_p - 1 \\right) \\times N_c}$ {comment}`# Функция для расчета матрицы коэф-тов летучести`  \n",
    "**def** $R \\left( \\mathbf{K} \\in {\\rm I\\!R}^{\\left( N_p - 1 \\right) \\times N_c}, \\, \\mathbf{z} \\right) \\rightarrow \\mathbf{F} \\in {\\rm I\\!R}^{N_p-1}$ {comment}`# Функция для решения уравнения Речфорда-Райса`  \n",
    "**for** $i := 1$ **to** $N$ **do** {comment}`# Цикл перебора начальных приближений`  \n",
    "&emsp;$\\mathbf{K} := \\mathbf{K}_0 \\left[ i,:,: \\right]$ {comment}`# Матрица начальных приближений констант фазового равновесия`  \n",
    "&emsp;$\\mathbf{F} := R \\left( \\mathbf{K}, \\, \\mathbf{z} \\right)$ {comment}`# Вектор мольных долей фаз для начального приближения`  \n",
    "&emsp;$\\mathbf{x} := \\mathbf{z} \\, / \\left( \\mathbf{F}^\\top \\left(\\mathbf{K} - 1 \\right) + 1 \\right)$ {comment}`# Компонентный состав референсной фазы`  \n",
    "&emsp;$\\mathbf{Y} := \\mathbf{K} \\cdot \\mathbf{x}$ {comment}`# Матрица компонентных составов нереференсных фаз`  \n",
    "&emsp;$\\mathbf{\\Phi} := \\phi \\left( \\mathbf{Y} \\right)$ {comment}`# Матрица коэффициентов летучести компонентов в нереференсных фазах`  \n",
    "&emsp;$\\mathbf{\\varphi} := \\phi \\left( \\mathbf{x} \\right)$ {comment}`# Вектор коэффициентов летучести компонентов в референсной фазе`  \n",
    "&emsp;$\\mathbf{g} := \\ln \\mathbf{K} + \\ln \\mathbf{\\Phi} - \\ln \\mathbf{\\varphi}$ {comment}`# Матрица невязок`  \n",
    "&emsp;$k := 1$ {comment}`# Счетчик итераций`  \n",
    "&emsp;**while** $\\lVert \\mathbf{g} \\rVert_2 > \\epsilon$ **and** $k < N_{iter}$ **do** {comment}`# Цикл решения системы нелинейных уравнений`  \n",
    "&emsp;&emsp;$\\mathbf{K} := \\mathbf{K} \\cdot \\exp \\left( - \\lambda \\mathbf{g} \\right)$  {comment}`# Обновление матрицы основных переменных`  \n",
    "&emsp;&emsp;$\\mathbf{F} := R \\left( \\mathbf{K}, \\, \\mathbf{z} \\right)$ {comment}`# Вектор мольных долей фаз`  \n",
    "&emsp;&emsp;$\\mathbf{x} := \\mathbf{z} \\, / \\left( \\mathbf{F}^\\top \\left(\\mathbf{K} - 1 \\right) + 1 \\right)$ {comment}`# Компонентный состав референсной фазы`  \n",
    "&emsp;&emsp;$\\mathbf{Y} := \\mathbf{K} \\cdot \\mathbf{x}$ {comment}`# Матрица компонентных составов нереференсных фаз`  \n",
    "&emsp;&emsp;$\\mathbf{\\Phi} := \\phi \\left( \\mathbf{Y} \\right)$ {comment}`# Матрица коэффициентов летучести компонентов в нереференсных фазах`  \n",
    "&emsp;&emsp;$\\mathbf{\\varphi} := \\phi \\left( \\mathbf{x} \\right)$ {comment}`# Вектор коэффициентов летучести компонентов в референсной фазе`  \n",
    "&emsp;&emsp;$\\mathbf{g} := \\ln \\mathbf{K} + \\ln \\mathbf{\\Phi} - \\ln \\mathbf{\\varphi}$ {comment}`# Матрица невязок`  \n",
    "&emsp;&emsp;$k := k + 1$ {comment}`# Обновление счетчика итераций`  \n",
    "&emsp;**end while**  \n",
    "&emsp;**if** $k < N_{iter}$ **then**  \n",
    "&emsp;&emsp;**exit for**  \n",
    "&emsp;**end if**  \n",
    "**end for**  \n",
    "```\n",
    "\n",
    "Таким образом, метод последовательных подстановок характеризуется наличием двух `while`-циклов: внутренний цикл используется для решения уравнения Речфорда-Райса при фиксированных константах фазового равновесия, внешний цикл – для обновления констант фазового равновесия, исходя из необходимого условия равновесия.\n",
    "\n",
    "В качестве начальных приближений констант фазового равновесия для расчета равновесного состояния можно использовать тот же набор начальных приближений, что и для [проверки стабильности системы](SEC-1-Stability.md). Кроме того, в качестве начального приближения к определению равновесного состояния можно использовать результаты анализа стабильности, одним из которых является вектор $Y_i, \\; i = 1 \\, \\ldots \\, N_c$, интерепретируемый как вектор количеств вещества компонентов в системе. Тогда вектор\n",
    "\n",
    "$$ y_i = \\frac{Y_i}{\\sum_{j=1}^{N_c} Y_j}, \\; i = 1 \\, \\ldots \\, N_c, $$\n",
    "\n",
    "представляет собой вектор мольных долей компонентов в системе. Следовательно, набор начальных приближений для расчета равновесного состояния:\n",
    "\n",
    "$$ \\mathbf{K}_0 = \\left\\{ y_i \\, / \\, z_i, \\; z_i  \\, / \\, y_i, \\; i = 1 \\, \\ldots \\, N_c \\right\\}. $$\n",
    "\n",
    "После определения равновесного состояния для $N_p$-фазной постановки задачи выполняется анализ стабильности системы. Если анализ стабильности показывает, что $N_p$-фазный компонентный состав не является стабильным, то выполняется поиск равновесного состояния для $\\left( N_p+1 \\right)$-фазной постановки.\n",
    "\n",
    "Рассмотрим применения метода последовательных подстановок для нахождения равновесного состояния. В данном подразделе будет использоваться [уравнение состояние Пенга-Робинсона](../2-EOS/EOS-2-SRK-PR.md) и его [реализация](https://github.com/DanielSkorov/ReservoirSimulation/blob/main/_src/eos.py). Кроме того, для проверки стабильности стабильности системы будет применяться метод QNSS, алгоритм которого был рассмотрен [ранее](SEC-1-Stability.md), реализованный [здесь](https://github.com/DanielSkorov/ReservoirSimulation/blob/main/_src/stability.py). Также на каждой итерации метода последовательных подстановок необходимо решать [уравнение Речфорда-Райса](SEC-2-RR.md). Для решения уравнения в двухфазной постановке будет использоваться [реализация](https://github.com/DanielSkorov/ReservoirSimulation/blob/main/_src/rr.py) [метода FGH](SEC-3-RR-2P.md)"
   ]
  },
  {
   "cell_type": "code",
   "execution_count": 1,
   "id": "1a23b307",
   "metadata": {},
   "outputs": [],
   "source": [
    "import sys\n",
    "sys.path.append('../../_src/')\n",
    "from eos import pr78\n",
    "from stability import stabilityPT\n",
    "from rr import solve2p_FGH"
   ]
  },
  {
   "cell_type": "markdown",
   "id": "945bb932",
   "metadata": {},
   "source": [
    "```{admonition} Пример\n",
    ":class: exercise\n",
    "Пусть имеется $1 \\; моль$ смеси из метана и диоксида углерода при температуре $10 \\; ^{\\circ} C$ и давлении $6 \\; МПа$ с мольной долей метана $0.1$. Необходимо определить равновесное состояние системы.\n",
    "```\n",
    "\n",
    "Зададим исходные термобарические условия и компонентный состав."
   ]
  },
  {
   "cell_type": "code",
   "execution_count": 2,
   "id": "c356e4e0",
   "metadata": {},
   "outputs": [],
   "source": [
    "import numpy as np\n",
    "P = np.float64(6e6) # Pressure [Pa]\n",
    "T = np.float64(10. + 273.15) # Temperature [K]\n",
    "yi = np.array([.9, .1]) # Mole fractions [fr.]"
   ]
  },
  {
   "cell_type": "markdown",
   "id": "bd5b7935",
   "metadata": {},
   "source": [
    "Также зададим максимальное число итераций $N_{iter}$, точность решения системы нелинейных уравнений $\\epsilon$:"
   ]
  },
  {
   "cell_type": "code",
   "execution_count": 3,
   "id": "71e20d59",
   "metadata": {},
   "outputs": [],
   "source": [
    "Niter = 50 # Number of iterations\n",
    "eps = np.float64(1e-6) # Tolerance"
   ]
  },
  {
   "cell_type": "markdown",
   "id": "273a85ff",
   "metadata": {},
   "source": [
    "Зададим свойства компонентов, необходимые для уравнения состояния Пенга-Робинсона, и выполним инициализацию класса."
   ]
  },
  {
   "cell_type": "code",
   "execution_count": 4,
   "id": "587bfb05",
   "metadata": {},
   "outputs": [],
   "source": [
    "Pci = np.array([7.37646, 4.600155]) * 1e6 # Critical pressures [Pa]\n",
    "Tci = np.array([304.2, 190.6]) # Critical temperatures [K]\n",
    "wi = np.array([.225, .008]) # Acentric factors\n",
    "mwi = np.array([0.04401, 0.016043]) # Molar mass [kg/gmole]\n",
    "vsi = np.array([0., 0.]) # Volume shift parameters\n",
    "dij = np.array([.025]) # Binary interaction parameters\n",
    "pr = pr78(Pci, Tci, wi, mwi, vsi, dij)"
   ]
  },
  {
   "cell_type": "markdown",
   "id": "7a16f3c6",
   "metadata": {},
   "source": [
    "Проиницилизируем класс для проведения теста стабильности и выполним проверку стабильности однофазного состояния:"
   ]
  },
  {
   "cell_type": "code",
   "execution_count": 5,
   "id": "07cac0f5",
   "metadata": {},
   "outputs": [
    {
     "name": "stdout",
     "output_type": "stream",
     "text": [
      "The system is stable: False.\n"
     ]
    }
   ],
   "source": [
    "stab = stabilityPT(pr)\n",
    "is_stable, kv0, _ = stab.run(P, T, yi, method='qnss')\n",
    "print(f'The system is stable: {is_stable}.')"
   ]
  },
  {
   "cell_type": "markdown",
   "id": "eabdd34b",
   "metadata": {},
   "source": [
    "В результате проверки стабильности (путем вызова метода `run`) однофазное состояние системы оказалось нестабильным. В [разделе](SEC-1-Stability.md), посвященном тесту стабильности, применение метода QNSS для данного примера было представлено подробнее. Также был получен набор начальных приближений для проведения расчета равновесного состояния."
   ]
  },
  {
   "cell_type": "code",
   "execution_count": 6,
   "id": "4058f085",
   "metadata": {},
   "outputs": [
    {
     "data": {
      "text/plain": [
       "array([[0.86345279, 2.06584343],\n",
       "       [1.12067466, 0.46840417]])"
      ]
     },
     "execution_count": 6,
     "metadata": {},
     "output_type": "execute_result"
    }
   ],
   "source": [
    "kv0"
   ]
  },
  {
   "cell_type": "markdown",
   "id": "4c56315f",
   "metadata": {},
   "source": [
    "Создадим функцию, которая будет принимать на вход кортеж из результатов предыдущей итерации, точность и максимальное число итераций, и возвращать необходимость расчета следующей итерации цикла решения системы нелинейных уравнений. Проиницилизируем данную функцию."
   ]
  },
  {
   "cell_type": "code",
   "execution_count": 7,
   "id": "781ac6d5",
   "metadata": {},
   "outputs": [],
   "source": [
    "import numpy.typing as npt\n",
    "from functools import partial\n",
    "\n",
    "def condit(\n",
    "    carry: tuple[int, npt.NDArray[np.float64], np.float64, npt.NDArray[np.float64]],\n",
    "    tol: np.float64,\n",
    "    Niter: int,\n",
    ") -> bool:\n",
    "    k, kvi, _, gi = carry\n",
    "    return (k < Niter) & (np.linalg.norm(gi) > tol)\n",
    "\n",
    "pcondit = partial(condit, tol=eps, Niter=Niter)"
   ]
  },
  {
   "cell_type": "markdown",
   "id": "fcfb3381",
   "metadata": {},
   "source": [
    "Также создадим функцию, которая будет принимать на вход результаты предыдущей итерации в виде кортежа, и рассчитывать результаты для новой итерации."
   ]
  },
  {
   "cell_type": "code",
   "execution_count": 8,
   "id": "54664c34",
   "metadata": {},
   "outputs": [],
   "source": [
    "from typing import Callable\n",
    "\n",
    "def update(\n",
    "    carry: tuple[int, npt.NDArray[np.float64], np.float64, npt.NDArray[np.float64]],\n",
    "    yi: npt.NDArray[np.float64],\n",
    "    plnphi: Callable[[npt.NDArray[np.float64]], npt.NDArray[np.float64]],\n",
    ") -> tuple[int, npt.NDArray[np.float64], np.float64, npt.NDArray[np.float64]]:\n",
    "    k, kvi_k, _, gi_k = carry\n",
    "    kvi_kp1 = kvi_k * np.exp(-gi_k)\n",
    "    Fv = solve2p_FGH(kvi_kp1, yi)\n",
    "    yli = yi / (Fv * (kvi_kp1 - 1.) + 1.)\n",
    "    yvi = yli * kvi_kp1\n",
    "    lnphili = plnphi(yi=yli)\n",
    "    lnphivi = plnphi(yi=yvi)\n",
    "    gi_kp1 = np.log(kvi_kp1) + lnphivi - lnphili\n",
    "    return k + 1, kvi_kp1, Fv, gi_kp1\n",
    "\n",
    "pupdate = partial(update, yi=yi, plnphi=partial(pr.get_lnphii, P=P, T=T))"
   ]
  },
  {
   "cell_type": "markdown",
   "id": "5598cb4f",
   "metadata": {},
   "source": [
    "Найдем равновесное состояние с использованием метода последовательных подстановок:"
   ]
  },
  {
   "cell_type": "code",
   "execution_count": 9,
   "id": "201bc6ad",
   "metadata": {},
   "outputs": [
    {
     "name": "stdout",
     "output_type": "stream",
     "text": [
      "For the initial guess #0:\n",
      "\ttolerance of equations: 4.4933782279399514e-07\n",
      "\tnumber of iterations: 10\n",
      "\tphase compositions:\n",
      "\t\t[0.81827116 0.18172884]\n",
      "\t\t[0.9176069 0.0823931]\n",
      "\tphase mole fractions: 0.17724634561906258, 0.8227536543809374\n"
     ]
    }
   ],
   "source": [
    "for i, kvi in enumerate(kv0):\n",
    "    Fv = solve2p_FGH(kvi, yi)\n",
    "    yli = yi / (Fv * (kvi - 1.) + 1.)\n",
    "    yvi = yli * kvi\n",
    "    lnphili = pr.get_lnphii(P, T, yli)\n",
    "    lnphivi = pr.get_lnphii(P, T, yvi)\n",
    "    gi = np.log(kvi) + lnphivi - lnphili\n",
    "    carry = (1, kvi, Fv, gi)\n",
    "    while pcondit(carry):\n",
    "        carry = pupdate(carry)\n",
    "    k, kvi, Fv, gi = carry\n",
    "    if k < Niter:\n",
    "        yli = yi / (Fv * (kvi - 1.) + 1.)\n",
    "        yvi = yli * kvi\n",
    "        print(f'For the initial guess #{i}:')\n",
    "        print(f'\\ttolerance of equations: {np.linalg.norm(gi)}')\n",
    "        print(f'\\tnumber of iterations: {k}')\n",
    "        print(f'\\tphase compositions:\\n\\t\\t{yvi}\\n\\t\\t{yli}')\n",
    "        print(f'\\tphase mole fractions: {Fv}, {1.-Fv}')\n",
    "        break"
   ]
  },
  {
   "cell_type": "markdown",
   "id": "9f0d932a",
   "metadata": {},
   "source": [
    "Выполним проверку стабильности найденного решения:"
   ]
  },
  {
   "cell_type": "code",
   "execution_count": 10,
   "id": "4cba3375",
   "metadata": {},
   "outputs": [
    {
     "name": "stdout",
     "output_type": "stream",
     "text": [
      "The system is stable: True.\n"
     ]
    }
   ],
   "source": [
    "is_stable = stab.run(P, T, yvi, method='qnss')[0]\n",
    "print(f'The system is stable: {is_stable}.')"
   ]
  },
  {
   "cell_type": "markdown",
   "id": "71a20558",
   "metadata": {},
   "source": [
    "Тест стабильности показал, что найденное решение соответствует равновесному состоянию. Проиллюстрируем данный пример графически. Для этого построим зависимость функции энергии Гиббса для первой фазы от компонентного состава и проведем касательную в точке с найденным равновесным составом этой фазы. Значения функции энергии Гиббса:"
   ]
  },
  {
   "cell_type": "code",
   "execution_count": 11,
   "id": "fa005515",
   "metadata": {},
   "outputs": [],
   "source": [
    "yj1 = np.linspace(1e-4, 0.9999, 100, endpoint=True)\n",
    "yji = np.vstack([yj1, 1. - yj1]).T\n",
    "lnphiji, Zj = pr.get_lnphiji_Zj(P, T, yji)\n",
    "lnfji = lnphiji + np.log(P * yji)\n",
    "Gj = np.sum(yji * lnfji, axis=1)"
   ]
  },
  {
   "cell_type": "markdown",
   "id": "d1e0f5b7",
   "metadata": {},
   "source": [
    "Уравнение касательной:"
   ]
  },
  {
   "cell_type": "code",
   "execution_count": 12,
   "id": "9eca371f",
   "metadata": {},
   "outputs": [],
   "source": [
    "lnfi = pr.get_lnfi(P, T, yvi)\n",
    "Lj = np.sum(yji * lnfi, axis=1)"
   ]
  },
  {
   "cell_type": "markdown",
   "id": "28b35f99",
   "metadata": {},
   "source": [
    "Построение графиков функции энергии Гиббса и касательной:"
   ]
  },
  {
   "cell_type": "code",
   "execution_count": 13,
   "id": "5e75112c",
   "metadata": {},
   "outputs": [
    {
     "data": {
      "image/png": "[encoded data removed]",
      "text/plain": [
       "<Figure size 600x400 with 1 Axes>"
      ]
     },
     "metadata": {},
     "output_type": "display_data"
    }
   ],
   "source": [
    "from matplotlib import pyplot as plt\n",
    "\n",
    "fig1, ax1 = plt.subplots(1, 1, figsize=(6., 4.), tight_layout=True)\n",
    "ax1.plot(yj1, Gj, lw=2., c='teal', zorder=2, label='Приведенная энергия Гиббса')\n",
    "ax1.plot(yj1, Lj, lw=2., c='orchid', zorder=2, label='Касательная')\n",
    "ax1.set_xlim(0., 1.)\n",
    "ax1.set_xlabel('Количество вещества диоксида углерода в системе, моль')\n",
    "ax1.set_ylabel('Приведенная энергия Гиббса')\n",
    "ax1.grid(zorder=1)\n",
    "\n",
    "axins1 = ax1.inset_axes([0.04, 0.05, 0.5, 0.89], xlim=(0.65, 0.975), ylim=(14.5, 15.1),\n",
    "                        xticklabels=[], yticklabels=[])\n",
    "ax1.indicate_inset_zoom(axins1, edgecolor='black')\n",
    "axins1.plot(yj1, Gj, lw=2., c='teal', zorder=2, label='Приведенная энергия Гиббса')\n",
    "axins1.plot(yj1, Lj, lw=2., c='orchid', zorder=2, label='Касательная')\n",
    "axins1.plot(yvi[0], yvi.dot(lnfi), 'o', lw=0., mfc='blue', mec='blue', ms=5., zorder=3)\n",
    "axins1.plot(yli[0], yli.dot(lnfi), 'o', lw=0., mfc='green', mec='green', ms=5., zorder=3)\n",
    "axins1.plot([yvi[0], yvi[0]], [0., yvi.dot(lnfi)], '--', lw=1., c='blue', zorder=2)\n",
    "axins1.plot([yli[0], yli[0]], [0., yli.dot(lnfi)], '--', lw=1., c='green', zorder=2)\n",
    "axins1.text(0.8, 14.55, '$y_{CO_2} = 0.818$', fontsize=8, color='blue', rotation='vertical')\n",
    "axins1.text(0.9, 14.55, '$y_{CO_2} = 0.918$', fontsize=8, color='green', rotation='vertical')\n",
    "axins1.set_xticks([0.8])\n",
    "axins1.set_yticks([14.6, 14.8, 15.0])\n",
    "axins1.legend(loc=2, fontsize=8)\n",
    "axins1.grid(zorder=1)"
   ]
  },
  {
   "cell_type": "markdown",
   "id": "863068bb",
   "metadata": {},
   "source": [
    "Из данного графика следует, что касательная, проведенная к функции энергии Гиббса в точке с компонентным составом первой фазы, не имеет пересечений с самой функцией, что подтверждает сделанный вывод о равновесности найденного состояния. Кроме того, можно отметить, что касательная имеет две точки касания, абсциссы которых соответствуют равновесным компонентным составам фаз, то есть функция энергии Гиббса имеет одинаковую касательную для каждого из компонентных составов, определяющих стационарное состояние. Это следует из равенства летучестей соответствующих компонентов в фазах, а полное доказательство данного утверждения было рассмотрено [ранее](SEC-1-Stability.md).\n",
    "\n",
    "Таким образом, метод последовательных подстановок может быть использован для определения равновесного состояния системы. Недостатком данного метода является большое количество итераций, необходимых для нахождения решения. Существует множество работ, посвященных \"ускорению\" метода последовательных подстановок. Так, например, в работе \\[[Nghiem and Li, 1984](https://doi.org/10.1016/0378-3812(84)80013-8)\\] предлагается использовать *quasi-Newton succesive substitution (QNSS)* для поиска равновесного состояния. Реализация данного метода представлена [здесь](https://github.com/DanielSkorov/ReservoirSimulation/blob/main/_src/flash.py).\n",
    "\n",
    "На примере, представленном выше, было рассмотрено применение метода последовательных подстановок для расчета равновесного состояния в двухфазной постановке. Однако этот метод может применяться и для многофазного случая. Рассмотрим следующий пример.\n",
    "\n",
    "```{admonition} Пример\n",
    ":class: exercise\n",
    "Пусть имеется $1 \\; моль$ смеси из метана, гексана и воды при температуре $20 \\; ^{\\circ} C$ и давлении $1 \\; атм$ с мольными долями компонентов $0.3, \\, 0.4, \\, 0.3$ соответственно. Необходимо определить равновесное состояние системы.\n",
    "```\n",
    "\n",
    "\n",
    "(pvt-esc-equilibrium-vt)=\n",
    "## VT-термодинамика"
   ]
  }
 ],
 "metadata": {
  "jupytext": {
   "text_representation": {
    "extension": ".md",
    "format_name": "myst",
    "format_version": "3.0.1",
    "jupytext_version": "1.16.3"
   }
  },
  "kernelspec": {
   "display_name": "Python 3 (ipykernel)",
   "language": "python",
   "name": "python3"
  },
  "language_info": {
   "codemirror_mode": {
    "name": "ipython",
    "version": 3
   },
   "file_extension": ".py",
   "mimetype": "text/x-python",
   "name": "python",
   "nbconvert_exporter": "python",
   "pygments_lexer": "ipython3",
   "version": "3.12.7"
  },
  "source_map": [
   12,
   125,
   131,
   140,
   145,
   149,
   152,
   156,
   164,
   168,
   172,
   176,
   178,
   182,
   195,
   199,
   218,
   222,
   243,
   247,
   250,
   254,
   260,
   264,
   267,
   271,
   297
  ]
 },
 "nbformat": 4,
 "nbformat_minor": 5
}