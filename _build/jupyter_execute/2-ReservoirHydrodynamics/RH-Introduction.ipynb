{
 "cells": [
  {
   "cell_type": "markdown",
   "id": "676a2216",
   "metadata": {},
   "source": [
    "<a id='rh'></a>\n",
    "# Гидродинамика"
   ]
  },
  {
   "cell_type": "markdown",
   "id": "6c33c5c4",
   "metadata": {},
   "source": [
    "**Содержание:**"
   ]
  },
  {
   "cell_type": "code",
   "execution_count": null,
   "id": "c1cf9642",
   "metadata": {},
   "outputs": [],
   "source": []
  }
 ],
 "metadata": {
  "jupytext": {
   "text_representation": {
    "extension": ".md",
    "format_name": "myst",
    "format_version": 0.13,
    "jupytext_version": "1.10.3"
   }
  },
  "kernelspec": {
   "display_name": "Python 3 (ipykernel)",
   "language": "python",
   "name": "python3"
  },
  "language_info": {
   "codemirror_mode": {
    "name": "ipython",
    "version": 3
   },
   "file_extension": ".py",
   "mimetype": "text/x-python",
   "name": "python",
   "nbconvert_exporter": "python",
   "pygments_lexer": "ipython3",
   "version": "3.7.13"
  },
  "source_map": [
   12,
   17,
   21
  ]
 },
 "nbformat": 4,
 "nbformat_minor": 5
}