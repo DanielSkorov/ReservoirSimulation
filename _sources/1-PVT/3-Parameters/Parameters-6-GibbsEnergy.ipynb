{
 "cells": [
  {
   "cell_type": "markdown",
   "id": "289d54c7",
   "metadata": {},
   "source": [
    "<a id='pvt-parameters-gibbs_energy'></a>\n",
    "# Энергия Гиббса"
   ]
  },
  {
   "cell_type": "markdown",
   "id": "f9cfefe2",
   "metadata": {},
   "source": [
    "Дифференциал энергии Гиббса для изотермического квазистационарного процесса с постоянным количеством вещества в системе:\n",
    "\n",
    "$$ dG = \\sum_i n_i d \\mu_i = R T \\sum_i n_i d \\ln f_i. $$\n",
    "\n",
    "С учетом этого, изменение энергии Гиббса в рассматриваемом процессе:\n",
    "\n",
    "$$ \\Delta G = G - G^0 = \\sum_i n_i \\Delta \\mu_i = R T \\sum_i n_i \\ln \\frac{f_i}{f_i^0}. $$"
   ]
  },
  {
   "cell_type": "code",
   "execution_count": null,
   "id": "b6087278",
   "metadata": {},
   "outputs": [],
   "source": []
  }
 ],
 "metadata": {
  "jupytext": {
   "text_representation": {
    "extension": ".md",
    "format_name": "myst",
    "format_version": 0.13,
    "jupytext_version": "1.10.3"
   }
  },
  "kernelspec": {
   "display_name": "Python 3 (ipykernel)",
   "language": "python",
   "name": "python3"
  },
  "language_info": {
   "codemirror_mode": {
    "name": "ipython",
    "version": 3
   },
   "file_extension": ".py",
   "mimetype": "text/x-python",
   "name": "python",
   "nbconvert_exporter": "python",
   "pygments_lexer": "ipython3",
   "version": "3.7.13"
  },
  "source_map": [
   12,
   17,
   27
  ]
 },
 "nbformat": 4,
 "nbformat_minor": 5
}