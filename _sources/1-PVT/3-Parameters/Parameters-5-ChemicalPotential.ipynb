{
 "cells": [
  {
   "cell_type": "markdown",
   "id": "f60da966",
   "metadata": {},
   "source": [
    "<a id='pvt-parameters-chemical_potential'></a>\n",
    "# Химический потенциал"
   ]
  },
  {
   "cell_type": "markdown",
   "id": "59e890fc",
   "metadata": {},
   "source": [
    "Рассматривая изотермический квазистационарный процесс с постоянным количеством молекул в системе, химический потенциал компонента, как было показано [ранее](../1-TD/TD-15-Fugacity.html#pvt-td-fugacity), связан с летучестью следующим соотношением:\n",
    "\n",
    "$$ d \\mu_i = R T d \\ln f_i.$$\n",
    "\n",
    "Следовательно, изменение химического потенциала компонента в некоторой фазе:\n",
    "\n",
    "$$\\Delta \\mu_i = \\mu_i - \\mu_i^0 = R T \\ln \\frac{f_i}{f_i^0}.$$\n",
    "\n",
    "Таким образом, зная значения летучести компонента при известных давлении $P$ и температуре $T$, а также при референсных давлении $P^0$ и температуре $T^0$ можно определить изменение химического потенциала компонента относительно референсных условий."
   ]
  },
  {
   "cell_type": "code",
   "execution_count": null,
   "id": "d98b0bee",
   "metadata": {},
   "outputs": [],
   "source": []
  }
 ],
 "metadata": {
  "jupytext": {
   "text_representation": {
    "extension": ".md",
    "format_name": "myst",
    "format_version": 0.13,
    "jupytext_version": "1.10.3"
   }
  },
  "kernelspec": {
   "display_name": "Python 3 (ipykernel)",
   "language": "python",
   "name": "python3"
  },
  "language_info": {
   "codemirror_mode": {
    "name": "ipython",
    "version": 3
   },
   "file_extension": ".py",
   "mimetype": "text/x-python",
   "name": "python",
   "nbconvert_exporter": "python",
   "pygments_lexer": "ipython3",
   "version": "3.7.13"
  },
  "source_map": [
   12,
   17,
   29
  ]
 },
 "nbformat": 4,
 "nbformat_minor": 5
}