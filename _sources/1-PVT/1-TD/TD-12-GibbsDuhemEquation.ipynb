{
 "cells": [
  {
   "cell_type": "markdown",
   "id": "6deef9bf",
   "metadata": {},
   "source": [
    "<a id='pvt-td-gibbs_duhem_equation'></a>\n",
    "# Уравнение Гиббса-Дюгема\n",
    "Рассматривая изотермический квазистационарный процесс, дифференциал энергии Гиббса может быть записан следующим образом:\n",
    "\n",
    "$$ dG = \\sum_i \\mu_i dN_i + \\sum_i N_i d \\mu_i. $$\n",
    "\n",
    "С другой стороны, [ранее](TD-8-Helmholtz-Gibbs.html#pvt-td-helmholtz_gibbs-gibbs_partials) было показано, что дифференциал энергии Гиббса:\n",
    "\n",
    "$$ dG = -S dT + V dP + \\sum_i \\mu_i dN_i. $$\n",
    "\n",
    "Приравнивая правые части записанных выше уравнений, получим:\n",
    "\n",
    "$$ S dT - V dP + \\sum_i N_i d \\mu_i = 0. $$\n",
    "\n",
    "Данное уравнение является уравнением Гиббса-Дюгема."
   ]
  }
 ],
 "metadata": {
  "jupytext": {
   "text_representation": {
    "extension": ".md",
    "format_name": "myst",
    "format_version": 0.13,
    "jupytext_version": "1.10.3"
   }
  },
  "kernelspec": {
   "display_name": "Python 3 (ipykernel)",
   "language": "python",
   "name": "python3"
  },
  "language_info": {
   "codemirror_mode": {
    "name": "ipython",
    "version": 3
   },
   "file_extension": ".py",
   "mimetype": "text/x-python",
   "name": "python",
   "nbconvert_exporter": "python",
   "pygments_lexer": "ipython3",
   "version": "3.7.13"
  },
  "source_map": [
   12
  ]
 },
 "nbformat": 4,
 "nbformat_minor": 5
}