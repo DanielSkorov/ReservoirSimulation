{
 "cells": [
  {
   "cell_type": "markdown",
   "id": "a38d7876",
   "metadata": {},
   "source": [
    "# Основы моделирования пластовых систем"
   ]
  },
  {
   "cell_type": "markdown",
   "id": "3652d2b5",
   "metadata": {},
   "source": [
    "**Содержание:**\n",
    "* ***[Основы вычислительной математики](./0-Math/Math-Introduction.md)***\n",
    "    * [Основы линейной алгебры](./0-Math/1-LAB/LAB-0-Introduction.md)\n",
    "    * [Пределы](./0-Math/2-Limits/Limits-0-Introduction.md)\n",
    "    * [Основы дифференциальных и интегральных исчислений](./0-Math/3-DIB/DIB-0-Introduction.md)\n",
    "    * [Дифференциальные уравнения](./0-Math/4-DE/DE-0-Introduction.md)\n",
    "    * [Методы оптимизации функций](./0-Math/5-OM/OM-0-Introduction.md)\n",
    "* ***[PVT-моделирование](./1-PVT/PVT-Introduction.md)***\n",
    "    * [Основы термодинамики](./1-PVT/1-TD/TD-0-Introduction.md)\n",
    "    * [Уравнения состояния](./1-PVT/2-EOS/EOS-0-Introduction.md)\n",
    "    * [Определение параметров систем с использованием уравнений состояния](./1-PVT/3-Parameters/Parameters-0-Introduction.md)\n",
    "    * [Равновесие. Стабильность. Критическое состояние](./1-PVT/4-ESC/ESC-0-Introduction.md)\n",
    "* ***[Гидродинамика](./2-ReservoirHydrodynamics/RH-Introduction.md)***\n",
    "* ***[Инициализация модели пласта](./3-ReservoirInitialization/RI-Introduction.md)***\n",
    "* ***[Моделирование скважин](./4-WellModelling/WM-Introduction.md)***\n",
    "* ***[Геомеханика](./5-Geomechanics/Geomech-Introduction.md)***\n",
    "    * [Основы геомеханики](./5-Geomechanics/1-RG/RG-0-Introduction.md)\n",
    "    * [Основные вопросы геомеханического моделирования](./5-Geomechanics/2-ARG/ARG-0-Introduction.md)\n",
    "* ***[Геохимия](./6-Geochemistry/Geochem-Introduction.md)***\n",
    "* ***[Численные методы в гидродинамическом моделировании](./7-NumericalMethods/NM-Introduction.md)***"
   ]
  }
 ],
 "metadata": {
  "jupytext": {
   "text_representation": {
    "extension": ".md",
    "format_name": "myst",
    "format_version": 0.13,
    "jupytext_version": "1.10.3"
   }
  },
  "kernelspec": {
   "display_name": "Python 3 (ipykernel)",
   "language": "python",
   "name": "python3"
  },
  "language_info": {
   "codemirror_mode": {
    "name": "ipython",
    "version": 3
   },
   "file_extension": ".py",
   "mimetype": "text/x-python",
   "name": "python",
   "nbconvert_exporter": "python",
   "pygments_lexer": "ipython3",
   "version": "3.7.13"
  },
  "source_map": [
   12,
   16
  ]
 },
 "nbformat": 4,
 "nbformat_minor": 5
}