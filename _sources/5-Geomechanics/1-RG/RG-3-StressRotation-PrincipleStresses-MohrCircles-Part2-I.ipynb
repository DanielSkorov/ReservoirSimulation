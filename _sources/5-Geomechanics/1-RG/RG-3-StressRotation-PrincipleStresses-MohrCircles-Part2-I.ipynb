{
 "cells": [
  {
   "cell_type": "markdown",
   "id": "10c72190",
   "metadata": {},
   "source": [
    "```{admonition} Внимание!\n",
    ":class: warning\n",
    "Данная страница является интерактивной копией [страницы](RG-3-StressRotation-PrincipleStresses-MohrCircles-Part2.md). Интерактивность осуществляется путем инициализации [Binder](https://mybinder.org/) через [Thebe](https://github.com/executablebooks/thebe).\n",
    "```\n",
    "\n",
    "<a id='geomech-rg-stress_rotation-2-i'></a>\n",
    "# Базис тензора напряжений. Главные напряжения. Круги Мора. Часть 2\n",
    "\n",
    "```{admonition} Важно!\n",
    ":class: important\n",
    "Для начала работы с данной страницей необходимо инициализировать кернель путем нажатия на кнопку `Activate`, расположенную ниже, и дождаться появления надписи \"STATUS: <span style=\"color:green\">READY</span>\". После этого Вы можете проверить работу кернеля, нажав на кнопку `run`, расположенную под кодом `print(\"Hello World!\")`. Иногда инициализация кернеля может пройти неудачно, что будет сопровождаться надписью \"STATUS: <span style=\"color:red\">FAILED</span>\" или \"STATUS: <span style=\"color:grey\">WAITING</span>\". Чаще всего это связано с перегрузкой сервера [Binder](https://mybinder.org/).\n",
    "```\n",
    "\n",
    "<link rel=\"stylesheet\" href=\"https://cdnjs.cloudflare.com/ajax/libs/font-awesome/4.7.0/css/font-awesome.css\" integrity=\"sha512-5A8nwdMOWrSz20fDsjczgUidUBR8liPYU+WymTZP1lmY9G6Oc7HlZv156XqnsgNUzTyMefFTcsFH/tnJE/+xBg==\" crossorigin=\"anonymous\" />\n",
    "\n",
    "<script src=\"https://cdnjs.cloudflare.com/ajax/libs/require.js/2.3.4/require.min.js\"></script>\n",
    "\n",
    "<script src=\"https://unpkg.com/thebe@latest/lib/index.js\"></script>\n",
    "\n",
    "<script type=\"text/x-thebe-config\">\n",
    "  {\n",
    "      requestKernel: true,\n",
    "      mountActivateWidget: true,\n",
    "      mountStatusWidget: true,\n",
    "      binderOptions: {\n",
    "      repo: \"https://github.com/DanielSkorov/Basics-of-Modelling\",\n",
    "      ref: \"main\",\n",
    "    },\n",
    "  }\n",
    "</script>\n",
    "\n",
    "<div class=\"thebe-activate\"></div>\n",
    "\n",
    "<div class=\"thebe-status\"></div>\n",
    "\n",
    "<pre data-executable=\"true\" data-readonly data-language=\"python\">print(\"Hello World!\")</pre>"
   ]
  },
  {
   "cell_type": "markdown",
   "id": "c42a09e8",
   "metadata": {},
   "source": [
    "```{admonition} Важно!\n",
    ":class: important\n",
    "После инициализации и проверки кернеля под каждой ячейкой необходимо нажать кнопку `run` для ее запуска и отображения интерактивной диаграммы.\n",
    "```"
   ]
  },
  {
   "cell_type": "code",
   "execution_count": 1,
   "id": "e0355c14",
   "metadata": {
    "tags": [
     "hide-input"
    ]
   },
   "outputs": [],
   "source": [
    "from sympy import Symbol, Matrix, cos, sin"
   ]
  },
  {
   "cell_type": "markdown",
   "id": "9c3a2618",
   "metadata": {},
   "source": [
    "<!-- ```{code-cell} ipython3\n",
    ":tags: [hide-input]\n",
    "import numpy as np\n",
    "import matplotlib as mpl\n",
    "from matplotlib import pyplot as plt\n",
    "from mpl_toolkits.mplot3d.art3d import Poly3DCollection, Text3D\n",
    "%matplotlib widget\n",
    "from ipywidgets import interact, widgets\n",
    "from sympy import Symbol, Matrix, cos, sin\n",
    "import sys\n",
    "sys.path.append('./SupportCode/')\n",
    "from Graphics import plot_angle_arc, cube_plane, Arrow3D\n",
    "``` -->\n",
    "\n",
    "<pre data-executable=\"true\" data-readonly data-language=\"python\">\n",
    "import numpy as np\n",
    "import matplotlib as mpl\n",
    "from matplotlib import pyplot as plt\n",
    "from mpl_toolkits.mplot3d.art3d import Poly3DCollection, Text3D\n",
    "%matplotlib widget\n",
    "from ipywidgets import interact, widgets\n",
    "import sys\n",
    "sys.path.append('./SupportCode/')\n",
    "from Graphics import plot_angle_arc, cube_plane, Arrow3D\n",
    "</pre>"
   ]
  },
  {
   "cell_type": "markdown",
   "id": "496ceabb",
   "metadata": {},
   "source": [
    "Теперь рассмотрим элементарный объем в трехмерном пространстве. Для этого необходимо составить матрицу перехода от стандартного базиса к базису, повернутому на некоторые углы в трехмерном пространстве. Рассматривать вращения будем вокруг каждой из осей: $x, y, z$. Углы вращения соответственно: $\\gamma, \\beta, \\alpha$. Вращение вокруг оси $z$ уже было рассмотрено. Система уравнений для трехмерного случая имеет вид:"
   ]
  },
  {
   "cell_type": "markdown",
   "id": "20c8ae74",
   "metadata": {},
   "source": [
    "$$\\left\\{\\begin{array} \\\\ \\sigma_{1'} = \\sigma_1 \\cdot \\cos{\\alpha} + \\sigma_2 \\cdot \\sin{\\alpha} \\\\ \\sigma_{2'} = -\\sigma_1 \\cdot \\sin{\\alpha} + \\sigma_2 \\cdot \\cos{\\alpha} \\\\ \\sigma_{3'} = \\sigma_{3}  \\end{array} \\right.$$"
   ]
  },
  {
   "cell_type": "markdown",
   "id": "9aa2e04b",
   "metadata": {},
   "source": [
    "Матричная запись данной системы уравнений:"
   ]
  },
  {
   "cell_type": "markdown",
   "id": "a5c75b3a",
   "metadata": {},
   "source": [
    "$$\\begin{bmatrix} \\sigma_{1'} \\\\ \\sigma_{2'} \\\\ \\sigma_{3'} \\end{bmatrix} = \\begin{bmatrix} \\cos{\\alpha} & \\sin{\\alpha} & 0 \\\\ -\\sin{\\alpha} & \\cos{\\alpha} & 0 \\\\ 0 & 0 & 1 \\end{bmatrix} \\cdot \\begin{bmatrix} \\sigma_{1} \\\\ \\sigma_{2} \\\\ \\sigma_{3} \\end{bmatrix}$$"
   ]
  },
  {
   "cell_type": "markdown",
   "id": "903ea471",
   "metadata": {},
   "source": [
    "Таким образом, матрица"
   ]
  },
  {
   "cell_type": "markdown",
   "id": "c445e51a",
   "metadata": {},
   "source": [
    "$$Q_z = \\begin{bmatrix} \\cos{\\alpha} & \\sin{\\alpha} & 0 \\\\ -\\sin{\\alpha} & \\cos{\\alpha} & 0 \\\\ 0 & 0 & 1 \\end{bmatrix}$$"
   ]
  },
  {
   "cell_type": "markdown",
   "id": "660e8acc",
   "metadata": {},
   "source": [
    "является матрицей вращения напряжений вокруг оси $z$ в трехмерном пространстве."
   ]
  },
  {
   "cell_type": "markdown",
   "id": "aaf8c826",
   "metadata": {},
   "source": [
    "Рассмотрим вращение вокруг оси $y$, направленной на читателя на рисунке ниже."
   ]
  },
  {
   "cell_type": "markdown",
   "id": "39c1d08a",
   "metadata": {},
   "source": [
    "<!-- ```{code-cell} ipython3\n",
    ":tags: [hide-input]\n",
    "\n",
    "fig, ax = plt.subplots(figsize=(6, 4))\n",
    "fig.canvas.header_visible = False\n",
    "\n",
    "x0 = [-2, 0, -2, -1, 0, 0, 0, 0]\n",
    "y0 = [4, 6, 3, 6, 4, 4, 4, 4]\n",
    "\n",
    "U = [[8, 0, 8, 4, 2, 1, 3, 0]]\n",
    "V = [[0, -8, 4, -8, 1, -2, 0, -1]]\n",
    "\n",
    "plot_angle_arc(ax, 0, 4, -90, -90 + np.rad2deg(np.arctan(0.5)), 4.0, 2, color='c')\n",
    "\n",
    "ax.quiver(x0, y0, U, V, scale=1, angles='xy', scale_units='xy', color=['k', 'k', 'b', 'b', 'r', 'r', 'y', 'y'], zorder=3)\n",
    "\n",
    "ax.text(6, 4, '$x$')\n",
    "ax.text(0.2, -2, '$z$')\n",
    "ax.text(6, 7, '$x\\'$')\n",
    "ax.text(3, -2, '$z\\'$')\n",
    "ax.text(1.2, 5, '$\\overrightarrow{\\\\sigma_{1\\'}}$')\n",
    "ax.text(3, 4.2, '$\\overrightarrow{\\\\sigma_{1}}$')\n",
    "ax.text(1.2, 2, '$\\overrightarrow{\\\\sigma_{3\\'}}$')\n",
    "ax.text(-0.8, 3, '$\\overrightarrow{\\\\sigma_{3}}$')\n",
    "ax.text(0.5, 1.2, '$\\\\beta$', c='c')\n",
    "\n",
    "ax.set_xlim(-3, 8)\n",
    "ax.set_ylim(-3, 8)\n",
    "ax.set_xticks(range(-3, 8))\n",
    "ax.set_yticks(range(-3, 8))\n",
    "ax.set_aspect('equal', adjustable='box')\n",
    "ax.set_axisbelow(True)\n",
    "ax.grid()\n",
    "ax.set_xlabel('X')\n",
    "ax.set_ylabel('Z')\n",
    "\n",
    "fig.tight_layout()\n",
    "``` -->\n",
    "\n",
    "<pre data-executable=\"true\" data-readonly data-language=\"python\">\n",
    "fig, ax = plt.subplots(figsize=(6, 4))\n",
    "fig.canvas.header_visible = False\n",
    "\n",
    "x0 = [-2, 0, -2, -1, 0, 0, 0, 0]\n",
    "y0 = [4, 6, 3, 6, 4, 4, 4, 4]\n",
    "\n",
    "U = [[8, 0, 8, 4, 2, 1, 3, 0]]\n",
    "V = [[0, -8, 4, -8, 1, -2, 0, -1]]\n",
    "\n",
    "plot_angle_arc(ax, 0, 4, -90, -90 + np.rad2deg(np.arctan(0.5)), 4.0, 2, color='c')\n",
    "\n",
    "ax.quiver(x0, y0, U, V, scale=1, angles='xy', scale_units='xy', color=['k', 'k', 'b', 'b', 'r', 'r', 'y', 'y'], zorder=3)\n",
    "\n",
    "ax.text(6, 4, '$x$')\n",
    "ax.text(0.2, -2, '$z$')\n",
    "ax.text(6, 7, '$x\\'$')\n",
    "ax.text(3, -2, '$z\\'$')\n",
    "ax.text(1.2, 5, '$\\overrightarrow{\\\\sigma_{1\\'}}$')\n",
    "ax.text(3, 4.2, '$\\overrightarrow{\\\\sigma_{1}}$')\n",
    "ax.text(1.2, 2, '$\\overrightarrow{\\\\sigma_{3\\'}}$')\n",
    "ax.text(-0.8, 3, '$\\overrightarrow{\\\\sigma_{3}}$')\n",
    "ax.text(0.5, 1.2, '$\\\\beta$', c='c')\n",
    "\n",
    "ax.set_xlim(-3, 8)\n",
    "ax.set_ylim(-3, 8)\n",
    "ax.set_xticks(range(-3, 8))\n",
    "ax.set_yticks(range(-3, 8))\n",
    "ax.set_aspect('equal', adjustable='box')\n",
    "ax.set_axisbelow(True)\n",
    "ax.grid()\n",
    "ax.set_xlabel('X')\n",
    "ax.set_ylabel('Z')\n",
    "\n",
    "fig.tight_layout()\n",
    "</pre>"
   ]
  },
  {
   "cell_type": "markdown",
   "id": "334c457f",
   "metadata": {},
   "source": [
    "С учетом принципа вращения напряжений получим следующую систему уравнений:"
   ]
  },
  {
   "cell_type": "markdown",
   "id": "14427fc1",
   "metadata": {},
   "source": [
    "$$\\left\\{\\begin{array} \\\\ \\sigma_{1'} = \\sigma_1 \\cdot \\cos{\\beta} - \\sigma_3 \\cdot \\sin{\\beta} \\\\ \\sigma_{2'} = \\sigma_2 \\\\ \\sigma_{3'} = \\sigma_1 \\cdot \\sin{\\beta} + \\sigma_3 \\cdot \\cos{\\beta} \\end{array} \\right.$$"
   ]
  },
  {
   "cell_type": "markdown",
   "id": "02079f35",
   "metadata": {},
   "source": [
    "Данная система уравнений в матричной форме:"
   ]
  },
  {
   "cell_type": "markdown",
   "id": "de461242",
   "metadata": {},
   "source": [
    "$$\\begin{bmatrix}\\sigma_{1'} \\\\ \\sigma_{2'} \\\\ \\sigma_{3'} \\end{bmatrix} = \\begin{bmatrix} \\cos{\\beta} & 0 & -\\sin{\\beta} \\\\ 0 & 1 & 0 \\\\ \\sin{\\beta} & 0 & \\cos{\\beta} \\end{bmatrix} \\cdot \\begin{bmatrix}\\sigma_1 \\\\ \\sigma_2 \\\\ \\sigma_3 \\end{bmatrix}$$"
   ]
  },
  {
   "cell_type": "markdown",
   "id": "94e862da",
   "metadata": {},
   "source": [
    "Таким образом, матрица"
   ]
  },
  {
   "cell_type": "markdown",
   "id": "e8b7e80a",
   "metadata": {},
   "source": [
    "$$Q_y = \\begin{bmatrix} \\cos{\\beta} & 0 & -\\sin{\\beta} \\\\ 0 & 1 & 0 \\\\ \\sin{\\beta} & 0 & \\cos{\\beta} \\end{bmatrix}$$"
   ]
  },
  {
   "cell_type": "markdown",
   "id": "bb5ed7fe",
   "metadata": {},
   "source": [
    "является матрицей вращения напряжений вокруг оси $y$."
   ]
  },
  {
   "cell_type": "markdown",
   "id": "bd4b3a61",
   "metadata": {},
   "source": [
    "Рассмотрим вращение вокруг оси $x$, направленной от читателя на рисунке ниже."
   ]
  },
  {
   "cell_type": "markdown",
   "id": "df4813f9",
   "metadata": {},
   "source": [
    "<!-- ```{code-cell} ipython3\n",
    ":tags: [hide-input]\n",
    "\n",
    "fig, ax = plt.subplots(figsize=(6, 4))\n",
    "fig.canvas.header_visible = False\n",
    "\n",
    "x0 = [-2, 0, -2, 1, 0, 0, 0, 0]\n",
    "y0 = [4, 6, 5, 6, 4, 4, 4, 4]\n",
    "\n",
    "U = [[8, 0, 8, -4, 5, -1, 4, 0]]\n",
    "V = [[0, -8, -4, -8, -2.5, -2, 0, -4.5]]\n",
    "\n",
    "plot_angle_arc(ax, 0, 4, -90 - np.rad2deg(np.arctan(0.5)), -90, 4.0, 3, color='m')\n",
    "\n",
    "ax.quiver(x0, y0, U, V, scale=1, angles='xy', scale_units='xy', color=['k', 'k', 'b', 'b', 'r', 'r', 'y', 'y'], zorder=3)\n",
    "\n",
    "ax.text(6, 4, '$y$')\n",
    "ax.text(0.2, -2, '$z$')\n",
    "ax.text(6, 1, '$x\\'$')\n",
    "ax.text(-2.8, -2, '$z\\'$')\n",
    "ax.text(5, 1.8, '$\\overrightarrow{\\\\sigma_{2\\'}}$')\n",
    "ax.text(4, 4.2, '$\\overrightarrow{\\\\sigma_{2}}$')\n",
    "ax.text(-1.8, 2, '$\\overrightarrow{\\\\sigma_{3\\'}}$')\n",
    "ax.text(0.2, -0.5, '$\\overrightarrow{\\\\sigma_{3}}$')\n",
    "ax.text(-0.8, 1.2, '$\\\\gamma$', c='m')\n",
    "\n",
    "ax.set_xlim(-4, 7)\n",
    "ax.set_ylim(-4, 7)\n",
    "ax.set_xticks(range(-4, 8))\n",
    "ax.set_yticks(range(-4, 8))\n",
    "ax.set_aspect('equal', adjustable='box')\n",
    "ax.set_axisbelow(True)\n",
    "ax.grid()\n",
    "ax.set_xlabel('y')\n",
    "ax.set_ylabel('Z')\n",
    "\n",
    "fig.tight_layout()\n",
    "``` -->\n",
    "\n",
    "<pre data-executable=\"true\" data-readonly data-language=\"python\">\n",
    "fig, ax = plt.subplots(figsize=(6, 4))\n",
    "fig.canvas.header_visible = False\n",
    "\n",
    "x0 = [-2, 0, -2, 1, 0, 0, 0, 0]\n",
    "y0 = [4, 6, 5, 6, 4, 4, 4, 4]\n",
    "\n",
    "U = [[8, 0, 8, -4, 5, -1, 4, 0]]\n",
    "V = [[0, -8, -4, -8, -2.5, -2, 0, -4.5]]\n",
    "\n",
    "plot_angle_arc(ax, 0, 4, -90 - np.rad2deg(np.arctan(0.5)), -90, 4.0, 3, color='m')\n",
    "\n",
    "ax.quiver(x0, y0, U, V, scale=1, angles='xy', scale_units='xy', color=['k', 'k', 'b', 'b', 'r', 'r', 'y', 'y'], zorder=3)\n",
    "\n",
    "ax.text(6, 4, '$y$')\n",
    "ax.text(0.2, -2, '$z$')\n",
    "ax.text(6, 1, '$x\\'$')\n",
    "ax.text(-2.8, -2, '$z\\'$')\n",
    "ax.text(5, 1.8, '$\\overrightarrow{\\\\sigma_{2\\'}}$')\n",
    "ax.text(4, 4.2, '$\\overrightarrow{\\\\sigma_{2}}$')\n",
    "ax.text(-1.8, 2, '$\\overrightarrow{\\\\sigma_{3\\'}}$')\n",
    "ax.text(0.2, -0.5, '$\\overrightarrow{\\\\sigma_{3}}$')\n",
    "ax.text(-0.8, 1.2, '$\\\\gamma$', c='m')\n",
    "\n",
    "ax.set_xlim(-4, 7)\n",
    "ax.set_ylim(-4, 7)\n",
    "ax.set_xticks(range(-4, 8))\n",
    "ax.set_yticks(range(-4, 8))\n",
    "ax.set_aspect('equal', adjustable='box')\n",
    "ax.set_axisbelow(True)\n",
    "ax.grid()\n",
    "ax.set_xlabel('y')\n",
    "ax.set_ylabel('Z')\n",
    "\n",
    "fig.tight_layout()\n",
    "</pre>"
   ]
  },
  {
   "cell_type": "markdown",
   "id": "5d9a8942",
   "metadata": {},
   "source": [
    "С учетом принципа вращения напряжений получим следующую систему уравнений:"
   ]
  },
  {
   "cell_type": "markdown",
   "id": "6e4efa4e",
   "metadata": {},
   "source": [
    "$$\\left\\{\\begin{array} \\\\ \\sigma_{1'} = \\sigma_1 \\\\ \\sigma_{2'} = \\sigma_2 \\cdot \\cos{\\gamma} + \\sigma_3 \\cdot \\sin{\\gamma} \\\\ \\sigma_{3'} = -\\sigma_2 \\cdot \\sin{\\gamma} + \\sigma_3 \\cdot \\cos{\\gamma} \\end{array} \\right.$$"
   ]
  },
  {
   "cell_type": "markdown",
   "id": "4d6ee741",
   "metadata": {},
   "source": [
    "Данная система уравнений в матричной форме:"
   ]
  },
  {
   "cell_type": "markdown",
   "id": "fce3ec61",
   "metadata": {},
   "source": [
    "$$\\begin{bmatrix}\\sigma_{1'} \\\\ \\sigma_{2'} \\\\ \\sigma_{3'} \\end{bmatrix} = \\begin{bmatrix} 1 & 0 & 0 \\\\ 0 & \\cos{\\gamma} & \\sin{\\gamma} \\\\ 0 & -\\sin{\\gamma} & \\cos{\\gamma} \\end{bmatrix} \\cdot \\begin{bmatrix}\\sigma_1 \\\\ \\sigma_2 \\\\ \\sigma_3 \\end{bmatrix}$$"
   ]
  },
  {
   "cell_type": "markdown",
   "id": "a0f6b9c9",
   "metadata": {},
   "source": [
    "Таким образом, матрица"
   ]
  },
  {
   "cell_type": "markdown",
   "id": "22b9bf92",
   "metadata": {},
   "source": [
    "$$Q_x = \\begin{bmatrix} 1 & 0 & 0 \\\\ 0 & \\cos{\\gamma} & \\sin{\\gamma} \\\\ 0 & -\\sin{\\gamma} & \\cos{\\gamma} \\end{bmatrix}$$"
   ]
  },
  {
   "cell_type": "markdown",
   "id": "a9ee1cde",
   "metadata": {},
   "source": [
    "является матрицей вращения напряжений вокруг оси $x$."
   ]
  },
  {
   "cell_type": "markdown",
   "id": "0180bd35",
   "metadata": {},
   "source": [
    "Итоговая матрица преобразования в трехмерном пространстве:"
   ]
  },
  {
   "cell_type": "markdown",
   "id": "697ce9ec",
   "metadata": {},
   "source": [
    "$$Q = Q_x \\cdot Q_y \\cdot Q_z$$"
   ]
  },
  {
   "cell_type": "code",
   "execution_count": 2,
   "id": "04718f2d",
   "metadata": {},
   "outputs": [
    {
     "data": {
      "text/latex": [
       "$\\displaystyle \\left[\\begin{matrix}\\cos{\\left(\\alpha \\right)} \\cos{\\left(\\beta \\right)} & \\sin{\\left(\\alpha \\right)} \\cos{\\left(\\beta \\right)} & - \\sin{\\left(\\beta \\right)}\\\\- \\sin{\\left(\\alpha \\right)} \\cos{\\left(\\gamma \\right)} + \\sin{\\left(\\beta \\right)} \\sin{\\left(\\gamma \\right)} \\cos{\\left(\\alpha \\right)} & \\sin{\\left(\\alpha \\right)} \\sin{\\left(\\beta \\right)} \\sin{\\left(\\gamma \\right)} + \\cos{\\left(\\alpha \\right)} \\cos{\\left(\\gamma \\right)} & \\sin{\\left(\\gamma \\right)} \\cos{\\left(\\beta \\right)}\\\\\\sin{\\left(\\alpha \\right)} \\sin{\\left(\\gamma \\right)} + \\sin{\\left(\\beta \\right)} \\cos{\\left(\\alpha \\right)} \\cos{\\left(\\gamma \\right)} & \\sin{\\left(\\alpha \\right)} \\sin{\\left(\\beta \\right)} \\cos{\\left(\\gamma \\right)} - \\sin{\\left(\\gamma \\right)} \\cos{\\left(\\alpha \\right)} & \\cos{\\left(\\beta \\right)} \\cos{\\left(\\gamma \\right)}\\end{matrix}\\right]$"
      ],
      "text/plain": [
       "Matrix([\n",
       "[                                    cos(alpha)*cos(beta),                                    sin(alpha)*cos(beta),           -sin(beta)],\n",
       "[-sin(alpha)*cos(gamma) + sin(beta)*sin(gamma)*cos(alpha), sin(alpha)*sin(beta)*sin(gamma) + cos(alpha)*cos(gamma), sin(gamma)*cos(beta)],\n",
       "[ sin(alpha)*sin(gamma) + sin(beta)*cos(alpha)*cos(gamma), sin(alpha)*sin(beta)*cos(gamma) - sin(gamma)*cos(alpha), cos(beta)*cos(gamma)]])"
      ]
     },
     "execution_count": 2,
     "metadata": {},
     "output_type": "execute_result"
    }
   ],
   "source": [
    "alpha = Symbol('alpha')\n",
    "beta = Symbol('beta')\n",
    "gamma = Symbol('gamma')\n",
    "Qx = Matrix([[1, 0, 0], [0, cos(gamma), sin(gamma)], [0, -sin(gamma), cos(gamma)]])\n",
    "Qy = Matrix([[cos(beta), 0, -sin(beta)], [0, 1, 0], [sin(beta), 0, cos(beta)]])\n",
    "Qz = Matrix([[cos(alpha), sin(alpha), 0], [-sin(alpha), cos(alpha), 0], [0, 0, 1]])\n",
    "Qx * Qy * Qz"
   ]
  },
  {
   "cell_type": "markdown",
   "id": "d36abb04",
   "metadata": {},
   "source": [
    "Рассмотрим пример. Пусть напряженное состояние в некоторой точке трехмерного пространства представлено следующим тензором в стандартном базисе:"
   ]
  },
  {
   "cell_type": "markdown",
   "id": "2271ca23",
   "metadata": {},
   "source": [
    "$$S = \\begin{bmatrix} 2 & 1 & 0 \\\\ 1 & 3 & -2 \\\\ 0 & -2 & 1 \\end{bmatrix}$$"
   ]
  },
  {
   "cell_type": "markdown",
   "id": "c5852dc2",
   "metadata": {},
   "source": [
    "Необходимо найти тензор напряженного состояния при повороте стандартного базиса на угол: $\\beta = \\frac{\\pi}{4}$, то есть вокруг оси $y$."
   ]
  },
  {
   "cell_type": "markdown",
   "id": "a776aba4",
   "metadata": {},
   "source": [
    "Для начала убедимся, что при нулевых значениях углов в результате перехода к новому базису мы получаем исходную матрицу."
   ]
  },
  {
   "cell_type": "markdown",
   "id": "219ca097",
   "metadata": {},
   "source": [
    "<!-- ```{code-cell} ipython3\n",
    "S = np.array([[2, 1, 0], [1, 3, -2], [0, -2, 1]])\n",
    "\n",
    "def stress_rotation_matrix_3d(a, b, g):\n",
    "    Qx = np.array([[1, 0, 0], [0, np.cos(g), np.sin(g)], [0, -np.sin(g), np.cos(g)]])\n",
    "    Qy = np.array([[np.cos(b), 0, -np.sin(b)], [0, 1, 0], [np.sin(b), 0, np.cos(b)]])\n",
    "    Qz = np.array([[np.cos(a), np.sin(a), 0], [-np.sin(a), np.cos(a), 0], [0, 0, 1]])\n",
    "    return Qx.dot(Qy).dot(Qz)\n",
    "\n",
    "Q = stress_rotation_matrix_3d(0, 0, 0)\n",
    "Q.dot(S).dot(np.linalg.inv(Q))\n",
    "``` -->\n",
    "\n",
    "<pre data-executable=\"true\" data-readonly data-language=\"python\">\n",
    "S = np.array([[2, 1, 0], [1, 3, -2], [0, -2, 1]])\n",
    "\n",
    "def stress_rotation_matrix_3d(a, b, g):\n",
    "    Qx = np.array([[1, 0, 0], [0, np.cos(g), np.sin(g)], [0, -np.sin(g), np.cos(g)]])\n",
    "    Qy = np.array([[np.cos(b), 0, -np.sin(b)], [0, 1, 0], [np.sin(b), 0, np.cos(b)]])\n",
    "    Qz = np.array([[np.cos(a), np.sin(a), 0], [-np.sin(a), np.cos(a), 0], [0, 0, 1]])\n",
    "    return Qx.dot(Qy).dot(Qz)\n",
    "\n",
    "Q = stress_rotation_matrix_3d(0, 0, 0)\n",
    "Q.dot(S).dot(np.linalg.inv(Q))\n",
    "</pre>"
   ]
  },
  {
   "cell_type": "markdown",
   "id": "fc683827",
   "metadata": {},
   "source": [
    "<!-- ```{code-cell} ipython3\n",
    "Q = stress_rotation_matrix_3d(0, np.pi/4, 0)\n",
    "Q.dot(S).dot(np.linalg.inv(Q))\n",
    "``` -->\n",
    "\n",
    "<pre data-executable=\"true\" data-readonly data-language=\"python\">\n",
    "Q = stress_rotation_matrix_3d(0, np.pi/4, 0)\n",
    "Q.dot(S).dot(np.linalg.inv(Q))\n",
    "</pre>"
   ]
  },
  {
   "cell_type": "markdown",
   "id": "8dd9cd30",
   "metadata": {},
   "source": [
    "Ниже представлена интерактивная диаграмма для определения напряженного состояния в трехмерном пространстве для любых значений углов поворота вокруг каждой из трех осей."
   ]
  },
  {
   "cell_type": "markdown",
   "id": "16a231c0",
   "metadata": {},
   "source": [
    "<!-- ```{code-cell} ipython3\n",
    ":tags: [hide-input]\n",
    "fig = plt.figure(figsize=(7, 5))\n",
    "fig.canvas.header_visible = False\n",
    "ax = fig.add_subplot(1, 1, 1, projection='3d')\n",
    "S = np.array([[2, 1, 0], [1, 3, -2], [0, -2, 1]])\n",
    "[[s11, s12, s13], [s21, s22, s23], [s31, s32, s33]] = S\n",
    "unit_cube = cube_plane(1, 1, 1, alpha=0.1, linewidths=0.4, equal_scale=True)\n",
    "s11_arr = Arrow3D([0.5, 0.5+s11], [0, 0], [0, 0], color='k', lw=1, mutation_scale=4)\n",
    "s22_arr = Arrow3D([0, 0], [0.5, 0.5+s22], [0, 0], color='k', lw=1, mutation_scale=4)\n",
    "s33_arr = Arrow3D([0, 0], [0, 0], [0.5, 0.5+s33], color='k', lw=1, mutation_scale=4)\n",
    "s12_arr = Arrow3D([0.5, 0.5], [0, s12], [0, 0], color='k', lw=1, mutation_scale=4)\n",
    "s23_arr = Arrow3D([0, 0], [0.5, 0.5], [0, s23], color='k', lw=1, mutation_scale=4)\n",
    "s31_arr = Arrow3D([0, s31], [0, 0], [0.5, 0.5], color='k', lw=1, mutation_scale=4)\n",
    "ax.set_xlim(unit_cube.xlim)\n",
    "ax.set_ylim(unit_cube.ylim)\n",
    "ax.set_zlim(unit_cube.zlim)\n",
    "ax.set_xticks([])\n",
    "ax.set_yticks([])\n",
    "ax.set_zticks([])\n",
    "ax.invert_zaxis()\n",
    "ax.invert_xaxis()\n",
    "ax.set_xlabel('X')\n",
    "ax.set_ylabel('Y')\n",
    "ax.set_zlabel('Z')\n",
    "fig.tight_layout()\n",
    "removing1 = [Text3D, Poly3DCollection, Arrow3D]\n",
    "@interact(alpha=widgets.IntSlider(min=0, max=360, step=1, value=0), beta=widgets.IntSlider(min=0, max=360, step=1, value=0), gamma=widgets.IntSlider(min=0, max=360, step=1, value=0))\n",
    "def rotation_3d(alpha, beta, gamma):\n",
    "    for child in ax.get_children():\n",
    "        if type(child) in removing1:\n",
    "            try:\n",
    "                child.remove()\n",
    "            except:\n",
    "                pass\n",
    "    alpha, beta, gamma = alpha * np.pi / 180, beta * np.pi / 180, gamma * np.pi / 180\n",
    "    ax.add_collection3d(unit_cube.cube_collection())\n",
    "    for art in [s11_arr, s22_arr, s33_arr, s12_arr, s23_arr, s31_arr]:\n",
    "        ax.add_artist(art)\n",
    "    rot_cube = cube_plane(1.01, 1.01, 1.01, rotation_angles=(alpha, beta, gamma), facecolors='r', edgecolors='r', alpha=0.1)\n",
    "    rot_m = rot_cube.rotation_matrix()\n",
    "    ax.add_collection3d(rot_cube.cube_collection())\n",
    "    Q = stress_rotation_matrix_3d(alpha, beta, gamma)\n",
    "    S_rotation = Q.dot(S).dot(np.linalg.inv(Q))\n",
    "    [[s11_rot, s12_rot, s13_rot], [s21_rot, s22_rot, s23_rot], [s31_rot, s32_rot, s33_rot]] = S_rotation\n",
    "    ax.add_artist(Arrow3D([0.5, 0.5+s11_rot], [0, 0], [0, 0], color='r', lw=1, mutation_scale=4, rotation_angles=(alpha, beta, gamma)))\n",
    "    ax.add_artist(Arrow3D([0, 0], [0.5, 0.5+s22_rot], [0, 0], color='r', lw=1, mutation_scale=4, rotation_angles=(alpha, beta, gamma)))\n",
    "    ax.add_artist(Arrow3D([0, 0], [0, 0], [0.5, 0.5+s33_rot], color='r', lw=1, mutation_scale=4, rotation_angles=(alpha, beta, gamma)))\n",
    "    ax.add_artist(Arrow3D([0.5, 0.5], [0, s12_rot], [0, 0], color='r', lw=1, mutation_scale=4, rotation_angles=(alpha, beta, gamma)))\n",
    "    ax.add_artist(Arrow3D([0, 0], [0.5, 0.5], [0, s23_rot], color='r', lw=1, mutation_scale=4, rotation_angles=(alpha, beta, gamma)))\n",
    "    ax.add_artist(Arrow3D([0, s31_rot], [0, 0], [0.5, 0.5], color='r', lw=1, mutation_scale=4, rotation_angles=(alpha, beta, gamma)))\n",
    "    ax.text(*rot_m.dot(np.array([0.5+s11_rot, 0, 0])), '$\\sigma_{11}$')\n",
    "    ax.text(*rot_m.dot(np.array([0, 0.5+s22_rot, 0])), '$\\sigma_{22}$')\n",
    "    ax.text(*rot_m.dot(np.array([0, 0, 0.5+s33_rot])), '$\\sigma_{33}$')\n",
    "    ax.text(*rot_m.dot(np.array([0.5, s12_rot, 0])), '$\\\\tau_{12}$')\n",
    "    ax.text(*rot_m.dot(np.array([0, 0.5, s23_rot])), '$\\\\tau_{23}$')\n",
    "    ax.text(*rot_m.dot(np.array([s31_rot, 0, 0.5])), '$\\\\tau_{31}$')\n",
    "    pass\n",
    "``` -->\n",
    "\n",
    "<pre data-executable=\"true\" data-readonly data-language=\"python\">\n",
    "fig = plt.figure(figsize=(7, 5))\n",
    "fig.canvas.header_visible = False\n",
    "ax = fig.add_subplot(1, 1, 1, projection='3d')\n",
    "S = np.array([[2, 1, 0], [1, 3, -2], [0, -2, 1]])\n",
    "[[s11, s12, s13], [s21, s22, s23], [s31, s32, s33]] = S\n",
    "unit_cube = cube_plane(1, 1, 1, alpha=0.1, linewidths=0.4, equal_scale=True)\n",
    "s11_arr = Arrow3D([0.5, 0.5+s11], [0, 0], [0, 0], color='k', lw=1, mutation_scale=4)\n",
    "s22_arr = Arrow3D([0, 0], [0.5, 0.5+s22], [0, 0], color='k', lw=1, mutation_scale=4)\n",
    "s33_arr = Arrow3D([0, 0], [0, 0], [0.5, 0.5+s33], color='k', lw=1, mutation_scale=4)\n",
    "s12_arr = Arrow3D([0.5, 0.5], [0, s12], [0, 0], color='k', lw=1, mutation_scale=4)\n",
    "s23_arr = Arrow3D([0, 0], [0.5, 0.5], [0, s23], color='k', lw=1, mutation_scale=4)\n",
    "s31_arr = Arrow3D([0, s31], [0, 0], [0.5, 0.5], color='k', lw=1, mutation_scale=4)\n",
    "ax.set_xlim(unit_cube.xlim)\n",
    "ax.set_ylim(unit_cube.ylim)\n",
    "ax.set_zlim(unit_cube.zlim)\n",
    "ax.set_xticks([])\n",
    "ax.set_yticks([])\n",
    "ax.set_zticks([])\n",
    "ax.invert_zaxis()\n",
    "ax.invert_xaxis()\n",
    "ax.set_xlabel('X')\n",
    "ax.set_ylabel('Y')\n",
    "ax.set_zlabel('Z')\n",
    "fig.tight_layout()\n",
    "removing1 = [Text3D, Poly3DCollection, Arrow3D]\n",
    "@interact(alpha=widgets.IntSlider(min=0, max=360, step=1, value=0), beta=widgets.IntSlider(min=0, max=360, step=1, value=0), gamma=widgets.IntSlider(min=0, max=360, step=1, value=0))\n",
    "def rotation_3d(alpha, beta, gamma):\n",
    "    for child in ax.get_children():\n",
    "        if type(child) in removing1:\n",
    "            try:\n",
    "                child.remove()\n",
    "            except:\n",
    "                pass\n",
    "    alpha, beta, gamma = alpha * np.pi / 180, beta * np.pi / 180, gamma * np.pi / 180\n",
    "    ax.add_collection3d(unit_cube.cube_collection())\n",
    "    for art in [s11_arr, s22_arr, s33_arr, s12_arr, s23_arr, s31_arr]:\n",
    "        ax.add_artist(art)\n",
    "    rot_cube = cube_plane(1.01, 1.01, 1.01, rotation_angles=(alpha, beta, gamma), facecolors='r', edgecolors='r', alpha=0.1)\n",
    "    rot_m = rot_cube.rotation_matrix()\n",
    "    ax.add_collection3d(rot_cube.cube_collection())\n",
    "    Q = stress_rotation_matrix_3d(alpha, beta, gamma)\n",
    "    S_rotation = Q.dot(S).dot(np.linalg.inv(Q))\n",
    "    [[s11_rot, s12_rot, s13_rot], [s21_rot, s22_rot, s23_rot], [s31_rot, s32_rot, s33_rot]] = S_rotation\n",
    "    ax.add_artist(Arrow3D([0.5, 0.5+s11_rot], [0, 0], [0, 0], color='r', lw=1, mutation_scale=4, rotation_angles=(alpha, beta, gamma)))\n",
    "    ax.add_artist(Arrow3D([0, 0], [0.5, 0.5+s22_rot], [0, 0], color='r', lw=1, mutation_scale=4, rotation_angles=(alpha, beta, gamma)))\n",
    "    ax.add_artist(Arrow3D([0, 0], [0, 0], [0.5, 0.5+s33_rot], color='r', lw=1, mutation_scale=4, rotation_angles=(alpha, beta, gamma)))\n",
    "    ax.add_artist(Arrow3D([0.5, 0.5], [0, s12_rot], [0, 0], color='r', lw=1, mutation_scale=4, rotation_angles=(alpha, beta, gamma)))\n",
    "    ax.add_artist(Arrow3D([0, 0], [0.5, 0.5], [0, s23_rot], color='r', lw=1, mutation_scale=4, rotation_angles=(alpha, beta, gamma)))\n",
    "    ax.add_artist(Arrow3D([0, s31_rot], [0, 0], [0.5, 0.5], color='r', lw=1, mutation_scale=4, rotation_angles=(alpha, beta, gamma)))\n",
    "    ax.text(*rot_m.dot(np.array([0.5+s11_rot, 0, 0])), '$\\sigma_{11}$')\n",
    "    ax.text(*rot_m.dot(np.array([0, 0.5+s22_rot, 0])), '$\\sigma_{22}$')\n",
    "    ax.text(*rot_m.dot(np.array([0, 0, 0.5+s33_rot])), '$\\sigma_{33}$')\n",
    "    ax.text(*rot_m.dot(np.array([0.5, s12_rot, 0])), '$\\\\tau_{12}$')\n",
    "    ax.text(*rot_m.dot(np.array([0, 0.5, s23_rot])), '$\\\\tau_{23}$')\n",
    "    ax.text(*rot_m.dot(np.array([s31_rot, 0, 0.5])), '$\\\\tau_{31}$')\n",
    "    pass\n",
    "</pre>"
   ]
  },
  {
   "cell_type": "markdown",
   "id": "9fd0074e",
   "metadata": {},
   "source": [
    "С использованием данной диаграммы решается задача преобразования известного тензора напряжений при повороте элементарного объема из условия постоянства напряженного состония. Иными словами, при любых значениях углов поворота значение вектора напряжения остается неизменным."
   ]
  },
  {
   "cell_type": "markdown",
   "id": "f01789a8",
   "metadata": {},
   "source": [
    "Отображение напряженного состояния с использованием кругов Мора для трехмерного базиса будет рассмотрено в [следующем разделе](RG-3-StressRotation-PrincipleStresses-MohrCircles-Part3.md)."
   ]
  }
 ],
 "metadata": {
  "jupytext": {
   "text_representation": {
    "extension": ".md",
    "format_name": "myst",
    "format_version": 0.13,
    "jupytext_version": "1.10.3"
   }
  },
  "kernelspec": {
   "display_name": "Python 3 (ipykernel)",
   "language": "python",
   "name": "python3"
  },
  "language_info": {
   "codemirror_mode": {
    "name": "ipython",
    "version": 3
   },
   "file_extension": ".py",
   "mimetype": "text/x-python",
   "name": "python",
   "nbconvert_exporter": "python",
   "pygments_lexer": "ipython3",
   "version": "3.7.13"
  },
  "source_map": [
   12,
   51,
   58,
   61,
   89,
   93,
   97,
   101,
   105,
   109,
   113,
   117,
   121,
   199,
   203,
   207,
   211,
   215,
   219,
   223,
   227,
   231,
   309,
   313,
   317,
   321,
   325,
   329,
   333,
   337,
   341,
   347,
   357,
   361,
   365,
   369,
   373,
   401,
   413,
   417,
   538,
   542
  ]
 },
 "nbformat": 4,
 "nbformat_minor": 5
}