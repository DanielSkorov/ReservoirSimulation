{
 "cells": [
  {
   "cell_type": "markdown",
   "id": "ac9efba7",
   "metadata": {},
   "source": [
    "<a id='geomech'></a>\n",
    "# Геомеханика\n",
    "Изучение вопросов геомеханики необходимо при проектировании и моделировании разработки сложных месторождений углеводородов, например, глубокозалегающих карбонатных отложений с естественной структурой трещин или терригенных рыхлых коллекторов. Данная глава состоит из двух разделов. В первом излагаются основы геомеханики, включающие такие основополагающие понятия как вектор напряжения, тензор напряжения и так далее. Во втором разделе более детально рассматриваются вопросы геомеханического моделирования подземных залежей углеводородов."
   ]
  },
  {
   "cell_type": "markdown",
   "id": "9c13ce5d",
   "metadata": {},
   "source": [
    "**Содержание:**\n",
    "*   ***[Основы геомеханики](./1-RG/RG-0-Introduction.md)***\n",
    "    * [Напряженно-деформированное состояние. Допущения и условия теории упругости](./1-RG/RG-1-LinearElasticityAssumptions.md)\n",
    "    * [Напряжение. Тензор напряжений](./1-RG/RG-2-StressTensor.md)\n",
    "    * [Базис тензора напряжений. Главные напряжения. Круги Мора. Часть 1](./1-RG/RG-3-StressRotation-PrincipleStresses-MohrCircles-Part1.md)\n",
    "    * [Базис тензора напряжений. Главные напряжения. Круги Мора. Часть 2](./1-RG/RG-3-StressRotation-PrincipleStresses-MohrCircles-Part2.md)\n",
    "    * [Базис тензора напряжений. Главные напряжения. Круги Мора. Часть 3](./1-RG/RG-3-StressRotation-PrincipleStresses-MohrCircles-Part3.md)\n",
    "    * [Напряженное состояние в земной коре](./1-RG/RG-4-StressesInEarthsCrust.md)\n",
    "*   ***[Основные вопросы геомеханического моделирования](./2-ARG/ARG-0-Introduction.md)***"
   ]
  },
  {
   "cell_type": "code",
   "execution_count": null,
   "id": "e4c3f33b",
   "metadata": {},
   "outputs": [],
   "source": []
  }
 ],
 "metadata": {
  "jupytext": {
   "text_representation": {
    "extension": ".md",
    "format_name": "myst",
    "format_version": 0.13,
    "jupytext_version": "1.10.3"
   }
  },
  "kernelspec": {
   "display_name": "Python 3 (ipykernel)",
   "language": "python",
   "name": "python3"
  },
  "language_info": {
   "codemirror_mode": {
    "name": "ipython",
    "version": 3
   },
   "file_extension": ".py",
   "mimetype": "text/x-python",
   "name": "python",
   "nbconvert_exporter": "python",
   "pygments_lexer": "ipython3",
   "version": "3.7.13"
  },
  "source_map": [
   12,
   18,
   30
  ]
 },
 "nbformat": 4,
 "nbformat_minor": 5
}