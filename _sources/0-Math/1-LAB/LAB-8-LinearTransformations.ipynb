{
 "cells": [
  {
   "cell_type": "code",
   "execution_count": 1,
   "id": "2feaf213",
   "metadata": {
    "tags": [
     "hide-input"
    ]
   },
   "outputs": [],
   "source": [
    "from matplotlib import pyplot as plt\n",
    "plt.rcParams.update({'figure.max_open_warning': False})\n",
    "\n",
    "%matplotlib widget\n",
    "\n",
    "import numpy as np"
   ]
  },
  {
   "cell_type": "markdown",
   "id": "3165f21f",
   "metadata": {},
   "source": [
    "<a id='math-lab-linear_transform'></a>\n",
    "# Линейные преобразования\n",
    "\n",
    "```{prf:определение}\n",
    ":nonumber:\n",
    "Пусть имеется множество [векторов](./LAB-1-Vectors.md), для каждого из которых определены операции [сложения и умножения на скаляр](./LAB-2-VectorOperations.html#math-lab-vector_operations), при этом, если результаты данных операций также принадлежат данному множеству, и для каждого элемента этого множества выполняются [аксиомы векторного пространства](https://en.wikipedia.org/wiki/Vector_space), то такое множество называется ***векторным (или линейным) пространством***.\n",
    "```\n",
    "\n",
    "```{prf:определение}\n",
    ":nonumber:\n",
    "Если в некотором линейном пространстве $V$ каждому вектору $\\vec{v}$ по некоторому правилу $T$ поставлен в соответствие вектор $\\vec{u}$ этого же пространства, то говорят, что в данном пространстве задана ***функция линейного преобразования*** (*linear transformation*).\n",
    "+++\n",
    "$$ \\vec{u} = T \\left(\\vec{v} \\right). $$\n",
    "```\n",
    "\n",
    "При этом, для функции линейного преобразования должны выполняться ***свойства линейности***:\n",
    "\n",
    "$$ T\\left(a+b\\right)=T\\left(a\\right)+T\\left(b\\right) ;\\\\ T\\left(\\lambda a\\right) = \\lambda T\\left(a\\right). $$\n",
    "\n",
    "Рассмотрим пример. Пусть функция преобразования определена так, что:\n",
    "\n",
    "$$ T\\left( \\begin{bmatrix} x_1 \\\\ x_2 \\end{bmatrix} \\right) = \\begin{bmatrix} x_1 + x_2 \\\\ 3x_1 \\end{bmatrix}. $$\n",
    "\n",
    "Рассмотрим два вектора $\\vec{a}=\\begin{bmatrix} a_1 \\\\ a_2 \\end{bmatrix}$ и $\\vec{b}=\\begin{bmatrix} b_1 \\\\ b_2 \\end{bmatrix}.$ Их сумма:\n",
    "\n",
    "$$ \\vec{a} + \\vec{b} = \\begin{bmatrix} a_1 + b_1 \\\\ a_2 + b_2 \\end{bmatrix}. $$\n",
    "\n",
    "Тогда:\n",
    "\n",
    "$$ T\\left(\\vec{a} + \\vec{b}\\right)=T\\left( \\begin{bmatrix} a_1 + b_1 \\\\ a_2 + b_2 \\end{bmatrix} \\right) = \\begin{bmatrix} a_1 + b_1 + a_2 + b_2 \\\\ 3a_1 + 3b_2 \\end{bmatrix}.$$\n",
    "\n",
    "Линейное преобразование вектора $\\vec{a}$:\n",
    "\n",
    "$$ T \\left(\\vec{a} \\right)=T\\left( \\begin{bmatrix} a_1 \\\\ a_2 \\end{bmatrix} \\right) = \\begin{bmatrix} a_1 + a_2 \\\\ 3a_1 \\end{bmatrix}. $$\n",
    "\n",
    "Линейное преобразование вектора $\\vec{b}$:\n",
    "\n",
    "$$ T\\left(\\vec{b}\\right)=T\\left( \\begin{bmatrix} b_1 \\\\ b_2 \\end{bmatrix} \\right) = \\begin{bmatrix} b_1 + b_2 \\\\ 3b_1 \\end{bmatrix}. \\\\ T(\\vec{a}) + T(\\vec{b}) = \\begin{bmatrix} a_1 + a_2 \\\\ 3a_1 \\end{bmatrix} + \\begin{bmatrix} b_1 + b_2 \\\\ 3b_1 \\end{bmatrix} = \\begin{bmatrix} a_1 + a_2 + b_1 + b_2 \\\\ 3a_1 + 3b_1 \\end{bmatrix}. $$\n",
    "\n",
    "Из этого следует, что\n",
    "\n",
    "$$ T \\left(\\vec{a} + \\vec{b} \\right)=T \\left(\\vec{a} \\right) + T \\left(\\vec{b} \\right). $$\n",
    "\n",
    "Докажем для данного примера и второе свойство линейности:\n",
    "\n",
    "$$ T \\left(\\lambda \\vec{a} \\right) = T \\left(\\lambda \\begin{bmatrix} a_1 \\\\ a_2 \\end{bmatrix}\\right) = T \\left(\\begin{bmatrix} \\lambda a_1 \\\\ \\lambda a_2 \\end{bmatrix}\\right) = \\begin{bmatrix} \\lambda a_1 + \\lambda a_2 \\\\ 3 \\lambda a_1 \\end{bmatrix} \\\\ \\lambda T(\\vec{a}) = \\lambda T \\left(\\begin{bmatrix} a_1 \\\\ a_2 \\end{bmatrix}\\right) = \\lambda \\begin{bmatrix} a_1 + a_2 \\\\ 3a_1 \\end{bmatrix} = \\begin{bmatrix} \\lambda a_1 + \\lambda a_2 \\\\ 3 \\lambda a_1 \\end{bmatrix}. $$\n",
    "\n",
    "Из этого следует, что\n",
    "\n",
    "$$ T \\left(\\lambda \\vec{a} \\right) = \\lambda T \\left(\\vec{a} \\right). $$\n",
    "\n",
    "Таким образом, преобразование $T\\left( \\begin{bmatrix} x_1 \\\\ x_2 \\end{bmatrix} \\right) = \\begin{bmatrix} x_1 + x_2 \\\\ 3x_1 \\end{bmatrix}$ является линейным."
   ]
  },
  {
   "cell_type": "markdown",
   "id": "82fe2549",
   "metadata": {},
   "source": [
    "Любое линейное преобразование вектора можно представить в виде произведения матрицы на данный вектор. Пусть имеется вектор $\\vec{x}$. Данный вектор можно разложить на сумму:\n",
    "\n",
    "$$ \\vec{x} = \\begin{bmatrix} x_1 \\\\ x_2 \\\\ x_3 \\\\ \\vdots \\\\ x_n \\end{bmatrix} = x_1 \\cdot \\begin{bmatrix} 1 \\\\ 0 \\\\ 0 \\\\ \\vdots \\\\ 0 \\end{bmatrix} + x_2 \\cdot \\begin{bmatrix} 0 \\\\ 1 \\\\ 0 \\\\ \\vdots \\\\ 0 \\end{bmatrix} + x_3 \\cdot \\begin{bmatrix} 0 \\\\ 0 \\\\ 1 \\\\ \\vdots \\\\ 0 \\end{bmatrix} + \\ldots + x_n \\cdot \\begin{bmatrix} 0 \\\\ 0 \\\\ 0 \\\\ \\vdots \\\\ 1 \\end{bmatrix} = x_1 \\cdot \\vec{e_1} + x_2 \\cdot \\vec{e_2} + \\ldots + x_n \\cdot \\vec{e_n}, $$\n",
    "\n",
    "где $\\vec{e_1}$, $\\vec{e_2}$, $\\ldots$, $\\vec{e_n}$ – вертикальные векторы единичной квадратной матрицы $n \\times n$ $I_n$:\n",
    "\n",
    "$$ I_n=\\begin{bmatrix} 1 & 0 & 0 & \\ldots & 0 \\\\ 0 & 1 & 0 & \\ldots & 0 \\\\ 0 & 0 & 1 & \\ldots & 0 \\\\ \\vdots & \\vdots & \\vdots & \\ddots & \\vdots \\\\ 0 & 0 & 0 & \\ldots & 1 \\end{bmatrix}. $$\n",
    "\n",
    "Тогда линейное преобразование вектора $\\vec{x}$:\n",
    "\n",
    "$$ \\begin{align}\n",
    "T \\left( \\vec{x} \\right)\n",
    "&= T \\left( x_1 \\cdot \\vec{e_1} + x_2 \\cdot \\vec{e_2} + \\ldots + x_n \\cdot \\vec{e_n} \\right) \\\\\n",
    "&= T \\left( x_1 \\cdot \\vec{e_1} \\right) + T \\left( x_2 \\cdot \\vec{e_2} \\right) + \\ldots + T \\left( x_n \\cdot \\vec{e_n} \\right) \\\\\n",
    "&= x_1 \\cdot T \\left( \\vec{e_1} \\right) + x_2 \\cdot T \\left( \\vec{e_2} \\right) + \\ldots + x_n \\cdot T \\left( \\vec{e_n} \\right).\n",
    "\\end{align}$$\n",
    "\n",
    "Здесь последовательно были применены свойства линейности линейных преобразований. Последнее выражение может быть преобразовано следующим образом:\n",
    "\n",
    "$$ T \\left( \\vec{x} \\right) = x_1 \\cdot T \\left( \\vec{e_1} \\right) + x_2 \\cdot T \\left( \\vec{e_2} \\right) + \\ldots + x_n \\cdot T \\left( \\vec{e_n} \\right) = \\begin{bmatrix} T \\left( \\vec{e_1} \\right) & T \\left( \\vec{e_2} \\right) & \\ldots & T \\left( \\vec{e_n} \\right) \\end{bmatrix} \\cdot \\begin{bmatrix} x_1 \\\\ x_2 \\\\ \\vdots \\\\ x_n \\end{bmatrix}. $$\n",
    "\n",
    "В свою очередь, $T(\\vec{e_n})$ – вектор. Таким образом, линейное преобразование любого вектора может быть представлено в виде произведения матрицы на этот же вектор:\n",
    "\n",
    "$$ T(\\vec{x})= A \\cdot \\vec{x}. $$\n",
    "\n",
    "Такая матрица $A$ называется матрицей преобразования по отношению к рассматриваемому (*стандартному*) базису."
   ]
  },
  {
   "cell_type": "markdown",
   "id": "28adfa3a",
   "metadata": {},
   "source": [
    "Однако один и тот же вектор может быть представлен в различных базисах. Пусть имеется вектор $\\vec{x}$, координаты которого выражены через базис $B$. Это может быть записано следующим образом:\n",
    "\n",
    "$$ \\begin{bmatrix} \\vec{x} \\end{bmatrix}_B. $$\n",
    "\n",
    "Тогда вектор $T(\\vec{x})$ также выражается через координаты базиса $B$:\n",
    "\n",
    "$$ \\begin{bmatrix} T(\\vec{x}) \\end{bmatrix}_B. $$\n",
    "\n",
    "При этом, линейное преобразование $T$ по-прежнему устанавливает связь между этими двумя векторами, поэтому можно записать:\n",
    "\n",
    "$$ \\begin{bmatrix} T(\\vec{x}) \\end{bmatrix}_B = D \\cdot \\begin{bmatrix} \\vec{x} \\end{bmatrix}_B. $$\n",
    "\n",
    "Такая матрица $D$ называется матрицей преобразования по отношению к базису $B$. Известно, что любой базис определяется через $n$ базисных векторов:\n",
    "\n",
    "$$ B=\\begin{Bmatrix} \\vec{v_1}, \\vec{v_2}, \\ldots, \\vec{v_n} \\end{Bmatrix}. $$\n",
    "\n",
    "При этом, любой вектор [можно представить](./LAB-1-Vectors.md) в виде суммы произведений координат данного вектора и базисных векторов. Если имеется вектор $\\begin{bmatrix} \\vec{x} \\end{bmatrix}_B$, представленный в виде координат $\\begin{bmatrix} x_1 \\\\ x_2 \\\\ \\vdots \\\\ x_n \\end{bmatrix}_B$, отнесенных к базису $B$, то:\n",
    "\n",
    "$$ \\begin{bmatrix} \\vec{x} \\end{bmatrix}_B = x_1 \\cdot \\vec{v_1} + x_2 \\cdot \\vec{v_2} + \\ldots + x_n \\cdot \\vec{v_n}. $$\n",
    "\n",
    "Рассмотрим пример. Пусть базис $B$ задан векторами $\\vec{v_1}=\\begin{bmatrix} 2 \\\\ 1 \\end{bmatrix}$ и $\\vec{v_2}=\\begin{bmatrix} 1 \\\\ 2 \\end{bmatrix}$:\n",
    "\n",
    "$$ B=\\begin{Bmatrix} \\vec{v_1}, \\vec{v_2}\\end{Bmatrix}. $$\n",
    "\n",
    "Рассмотрим вектор:\n",
    "\n",
    "$$ \\vec{x}=3 \\cdot \\vec{v_1} + 2 \\cdot \\vec{v_2}=3 \\cdot \\begin{bmatrix} 2 \\\\ 1 \\end{bmatrix} + 2 \\cdot \\begin{bmatrix} 1 \\\\ 2 \\end{bmatrix} = \\begin{bmatrix} 8 \\\\ 7 \\end{bmatrix}. $$"
   ]
  },
  {
   "cell_type": "code",
   "execution_count": 2,
   "id": "1fd2bd63",
   "metadata": {
    "tags": [
     "hide-input"
    ]
   },
   "outputs": [
    {
     "data": {
      "application/vnd.jupyter.widget-view+json": {
       "model_id": "b83f43920264412c81e905a98d0396e0",
       "version_major": 2,
       "version_minor": 0
      },
      "image/png": "[encoded data removed]",
      "text/html": [
       "\n",
       "            <div style=\"display: inline-block;\">\n",
       "                <div class=\"jupyter-widgets widget-label\" style=\"text-align: center;\">\n",
       "                    Figure\n",
       "                </div>\n",
       "                <img src='data:image/png;base64,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' width=600.0/>\n",
       "            </div>\n",
       "        "
      ],
      "text/plain": [
       "Canvas(header_visible=False, toolbar=Toolbar(toolitems=[('Home', 'Reset original view', 'home', 'home'), ('Bac…"
      ]
     },
     "metadata": {
      "filenames": {
       "image/png": "E:\\Work\\Science\\GitHub\\Basics-of-Modelling\\_build\\jupyter_execute\\0-Math\\1-LAB\\LAB-8-LinearTransformations_4_0.png"
      }
     },
     "output_type": "display_data"
    }
   ],
   "source": [
    "fig, ax = plt.subplots(figsize=(6, 4))\n",
    "fig.canvas.header_visible = False\n",
    "\n",
    "x0 = y0 = [0, 0, 0]\n",
    "\n",
    "U = [[2, 1, 8]]\n",
    "V = [[1, 2, 7]]\n",
    "\n",
    "ax.plot([0, 8], [0, 4], color='k', ls='--', zorder=1)\n",
    "ax.plot([1, 2, 3], [2, 4, 6], lw=0, marker='o', color='k', ms=4)\n",
    "ax.plot([0, 4], [0, 8], color='k', ls='--', zorder=1)\n",
    "ax.plot([2, 4, 6], [1, 2, 3], lw=0, marker='o', color='k', ms=4)\n",
    "ax.plot([6, 8], [3, 7], color='r', ls='--', zorder=1)\n",
    "ax.plot([2, 8], [4, 7], color='r', ls='--', zorder=1)\n",
    "ax.quiver(x0, y0, U, V, scale=1, angles='xy', scale_units='xy', color=['k', 'k', 'r'], zorder=2)\n",
    "\n",
    "ax.text(2, 0.5, r'$\\overrightarrow{v_1}$')\n",
    "ax.text(4, 1.5, r'$\\overrightarrow{2 \\cdot v_1}$')\n",
    "ax.text(6, 2.5, r'$\\overrightarrow{3 \\cdot v_1}$')\n",
    "ax.text(0.5, 2, r'$\\overrightarrow{v_2}$')\n",
    "ax.text(1, 4, r'$\\overrightarrow{2 \\cdot v_2}$')\n",
    "ax.text(2, 6, r'$\\overrightarrow{3 \\cdot v_2}$')\n",
    "ax.text(8, 7, r'$\\overrightarrow{x}$')\n",
    "\n",
    "ax.set_xlim(-1, 10)\n",
    "ax.set_ylim(-1, 10)\n",
    "ax.set_axisbelow(True)\n",
    "ax.grid()\n",
    "ax.set_xticks(range(0, 10, 1))\n",
    "ax.set_yticks(range(0, 10, 1))\n",
    "ax.set_xlabel('X')\n",
    "ax.set_ylabel('Y')\n",
    "\n",
    "fig.tight_layout()"
   ]
  },
  {
   "cell_type": "markdown",
   "id": "d51d5a20",
   "metadata": {},
   "source": [
    "Тогда вектор $\\vec{x}$ относительно базиса $B$:\n",
    "\n",
    "$$ \\begin{bmatrix} \\vec{x} \\end{bmatrix}_B = \\begin{bmatrix} 3 \\\\ 2 \\end{bmatrix}_B. $$\n",
    "\n",
    "Таким образом, вектор $\\vec{x}$ в стандартном базисе может быть выражен в виде произведения матрицы (назовем ее $C^{-1}$), составленной из базисных векторов другого базиса $B$, на данный вектор, представленный в базисе $B$:\n",
    "\n",
    "$$ \\vec{x} = \\begin{bmatrix} \\vec{v_1} & \\vec{v_2} & \\ldots & \\vec{v_n} \\end{bmatrix} \\cdot \\begin{bmatrix} \\vec{x} \\end{bmatrix}_B = C^{-1} \\cdot \\begin{bmatrix} \\vec{x} \\end{bmatrix}_B. $$"
   ]
  },
  {
   "cell_type": "code",
   "execution_count": 3,
   "id": "8d9afb10",
   "metadata": {},
   "outputs": [
    {
     "data": {
      "text/plain": [
       "array([[8],\n",
       "       [7]])"
      ]
     },
     "execution_count": 3,
     "metadata": {},
     "output_type": "execute_result"
    }
   ],
   "source": [
    "x_B = np.array([[3], [2]])\n",
    "C_inv = np.array([[2, 1], [1, 2]])\n",
    "x = C_inv.dot(x_B)\n",
    "x"
   ]
  },
  {
   "cell_type": "markdown",
   "id": "1608c80a",
   "metadata": {},
   "source": [
    "И, наоборот, если у нас есть координаты вектора $\\vec{x}$ в стандтартном базисе, то определить его координаты относительно базиса $B$ можно следующим образом:\n",
    "\n",
    "$$ \\begin{bmatrix} \\vec{x} \\end{bmatrix}_B = C \\cdot \\vec{x}. $$"
   ]
  },
  {
   "cell_type": "code",
   "execution_count": 4,
   "id": "53e90df7",
   "metadata": {},
   "outputs": [
    {
     "data": {
      "text/plain": [
       "array([[3.],\n",
       "       [2.]])"
      ]
     },
     "execution_count": 4,
     "metadata": {},
     "output_type": "execute_result"
    }
   ],
   "source": [
    "np.linalg.inv(C_inv).dot(x)"
   ]
  },
  {
   "cell_type": "markdown",
   "id": "4240e503",
   "metadata": {},
   "source": [
    "Из этого следует, что любой переход от одного базиса к другому можно записать в виде матричного произведения."
   ]
  },
  {
   "cell_type": "markdown",
   "id": "3933cb8b",
   "metadata": {},
   "source": [
    "Итак, линейное преобразование $T$ в базисе $B$, устанавливающее связь между вектором $\\begin{bmatrix} \\vec{x} \\end{bmatrix}_B$ и вектором $\\begin{bmatrix} T \\left( \\vec{x} \\right) \\end{bmatrix}_B$:\n",
    "\n",
    "$$ \\begin{bmatrix} T \\left( \\vec{x} \\right) \\end{bmatrix}_B = D \\cdot \\begin{bmatrix} \\vec{x} \\end{bmatrix}_B. $$\n",
    "\n",
    "Однако линейное преобразование $T(\\vec{x})$ может быть выражено в виде матричного произведения:\n",
    "\n",
    "$$ T \\left( \\vec{x} \\right) =A \\cdot \\vec{x}. $$\n",
    "\n",
    "Тогда:\n",
    "\n",
    "$$ \\begin{bmatrix} T \\left( \\vec{x} \\right) \\end{bmatrix}_B = D \\cdot \\begin{bmatrix} \\vec{x} \\end{bmatrix}_B = \\begin{bmatrix} A \\cdot \\vec{x} \\end{bmatrix}_B. $$\n",
    "\n",
    "В свою очередь, переход от базиса $B$ к стандартному может быть записан в виде матричного произведения. Поэтому:\n",
    "\n",
    "$$ \\begin{bmatrix} A \\cdot \\vec{x} \\end{bmatrix}_B = C \\cdot A \\cdot \\vec{x}. $$\n",
    "\n",
    "Подставляя это равенство в выражение выше, получим:\n",
    "\n",
    "$$ \\begin{bmatrix} T \\left( \\vec{x} \\right) \\end{bmatrix}_B = D \\cdot \\begin{bmatrix} \\vec{x} \\end{bmatrix}_B = \\begin{bmatrix} A \\cdot \\vec{x} \\end{bmatrix}_B = C \\cdot A \\cdot \\vec{x}. $$\n",
    "\n",
    "В свою очередь, вектор $\\vec{x}$ в базисе $B$ может быть записан следующим образом:\n",
    "\n",
    "$$ \\vec{x} = C^{-1} \\cdot \\begin{bmatrix} \\vec{x} \\end{bmatrix}_B. $$\n",
    "\n",
    "Тогда:\n",
    "\n",
    "$$ \\begin{bmatrix} T \\left( \\vec{x} \\right) \\end{bmatrix}_B = D \\cdot \\begin{bmatrix} \\vec{x} \\end{bmatrix}_B = \\begin{bmatrix} A \\cdot \\vec{x} \\end{bmatrix}_B = C \\cdot A \\cdot \\vec{x} = C \\cdot A \\cdot C^{-1} \\cdot \\begin{bmatrix} \\vec{x} \\end{bmatrix}_B. $$\n",
    "\n",
    "Итак, матрица $D$ линейного преобразования $T$ по отношению к базису $B$:\n",
    "\n",
    "$$ D = C \\cdot A \\cdot C^{-1}, $$\n",
    "\n",
    "где: $C$ – матрица перехода от стандартного базиса к базису $B$, $A$ – матрица линейного преобразования вектора $\\vec{x}$ по отношению к стандартному базису."
   ]
  },
  {
   "cell_type": "markdown",
   "id": "d2ab4559",
   "metadata": {},
   "source": [
    "Пусть матрица $C^{-1}$ составлена из координат собственных векторов $\\vec{v_1}$, $\\vec{v_2}$, $\\ldots$ матрицы $A$:\n",
    "\n",
    "$$ C^{-1} = \\begin{bmatrix} \\vert & \\vert &  \\\\ \\vec{v_1} & \\vec{v_2} & \\ldots \\\\ \\vert & \\vert &  \\end{bmatrix}. $$\n",
    "\n",
    "Умножим левую и правую части равенства $D=C \\cdot A \\cdot C^{-1}$ на единичный вектор $\\vec{e_i}$, сонаправленный с собственным вектором $\\vec{v_i}$:\n",
    "\n",
    "$$ D\\cdot \\vec{e_i} = C \\cdot A \\cdot C^{-1} \\cdot \\vec{e_i}. $$\n",
    "\n",
    "Поскольку матрица $D$ задана относительно базиса $B$, определенного собственными векторами матрицы $A$, то результатом произведения матрицы $D$ на единичный вектор $\\vec{e_i}$ будет $i$-ый столбец матрицы. Например:"
   ]
  },
  {
   "cell_type": "code",
   "execution_count": 5,
   "id": "60a21499",
   "metadata": {},
   "outputs": [
    {
     "data": {
      "text/plain": [
       "array([[2],\n",
       "       [4],\n",
       "       [8]])"
      ]
     },
     "execution_count": 5,
     "metadata": {},
     "output_type": "execute_result"
    }
   ],
   "source": [
    "M = np.array([[2, 3, 1], [4, 5, 2], [8, 1, 3]])\n",
    "M.dot([[1], [0], [0]])"
   ]
  },
  {
   "cell_type": "markdown",
   "id": "0b959c5f",
   "metadata": {},
   "source": [
    "Произведение матрицы $C^{-1}$ на единичный вектор $\\vec{e_i}$ даст $i$-ый собственный вектор:\n",
    "\n",
    "$$ C^{-1} \\cdot \\vec{e_i} = \\vec{v_i}. $$\n",
    "\n",
    "Тогда:\n",
    "\n",
    "$$ D\\cdot \\vec{e_i} = C \\cdot A \\cdot C^{-1} \\cdot \\vec{e_i} = C \\cdot A \\cdot \\vec{v_i}. $$\n",
    "\n",
    "По [определению собственного вектора матрицы](./LAB-7-Eigenvalues-Eigenvectors.html#math-lab-eigen) данное выражение преобразуется в:\n",
    "\n",
    "$$ D\\cdot \\vec{e_i} = C \\cdot A \\cdot C^{-1} \\cdot \\vec{e_i} = C \\cdot A \\cdot \\vec{v_i}= C \\cdot \\lambda_i \\cdot \\vec{v_i}. $$\n",
    "\n",
    "С учетом того, что $\\vec{e_i} = C \\cdot \\vec{v_i}$, получим:\n",
    "\n",
    "$$ D\\cdot \\vec{e_i} = C \\cdot A \\cdot C^{-1} \\cdot \\vec{e_i} = C \\cdot A \\cdot \\vec{v_i}= C \\cdot \\lambda_i \\cdot \\vec{v_i} = \\lambda_i \\cdot \\vec{e_i}. $$\n",
    "\n",
    "Таким образом, вертикальный столбец матрицы $D$ представляет собой произведение единичного вектора на скаляр, следовательно, если в качестве базиса выбрать собственные векторы матрицы $A$, то матрица $D$ будет являться диагонализированной матрицей $A$ относительно базиса $B$."
   ]
  },
  {
   "cell_type": "markdown",
   "id": "261833f0",
   "metadata": {},
   "source": [
    "Рассмотрим данное свойство на следующем примере:\n",
    "\n",
    "$$ A = \\begin{bmatrix} -1 & 3 & -1 \\\\ -3 & 5 & -1 \\\\ -3 & 3 & 1 \\end{bmatrix}. $$"
   ]
  },
  {
   "cell_type": "code",
   "execution_count": 6,
   "id": "0a016849",
   "metadata": {},
   "outputs": [
    {
     "data": {
      "text/plain": [
       "array([[ 0.57735027,  0.57013378,  0.16222142],\n",
       "       [ 0.57735027,  0.70867096, -0.16222142],\n",
       "       [ 0.57735027,  0.41561154, -0.97332853]])"
      ]
     },
     "execution_count": 6,
     "metadata": {},
     "output_type": "execute_result"
    }
   ],
   "source": [
    "A = np.array([[-1, 3, -1], [-3, 5, -1], [-3, 3, 1]])\n",
    "Lambda, C_inv = np.linalg.eig(A)\n",
    "C_inv"
   ]
  },
  {
   "cell_type": "code",
   "execution_count": 7,
   "id": "66eb91fb",
   "metadata": {},
   "outputs": [
    {
     "data": {
      "text/plain": [
       "-0.11977103697194431"
      ]
     },
     "execution_count": 7,
     "metadata": {},
     "output_type": "execute_result"
    }
   ],
   "source": [
    "np.linalg.det(C_inv)"
   ]
  },
  {
   "cell_type": "markdown",
   "id": "1cc5406c",
   "metadata": {},
   "source": [
    "Определитель матрицы, составленной из координат собственных векторов, не равен нулю, следовательно, собственные векторы матрицы $A$ образуют базис."
   ]
  },
  {
   "cell_type": "code",
   "execution_count": 8,
   "id": "a03aba0f",
   "metadata": {},
   "outputs": [
    {
     "data": {
      "text/plain": [
       "array([[ 1.00000000e+00, -2.89448969e-15, -6.94794103e-16],\n",
       "       [ 1.06216225e-15,  2.00000000e+00, -3.99272379e-16],\n",
       "       [-1.07463280e-16, -5.70009031e-16,  2.00000000e+00]])"
      ]
     },
     "execution_count": 8,
     "metadata": {},
     "output_type": "execute_result"
    }
   ],
   "source": [
    "np.linalg.inv(C_inv).dot(A).dot(C_inv)"
   ]
  }
 ],
 "metadata": {
  "jupytext": {
   "text_representation": {
    "extension": ".md",
    "format_name": "myst",
    "format_version": 0.13,
    "jupytext_version": "1.10.3"
   }
  },
  "kernelspec": {
   "display_name": "Python 3 (ipykernel)",
   "language": "python",
   "name": "python3"
  },
  "language_info": {
   "codemirror_mode": {
    "name": "ipython",
    "version": 3
   },
   "file_extension": ".py",
   "mimetype": "text/x-python",
   "name": "python",
   "nbconvert_exporter": "python",
   "pygments_lexer": "ipython3",
   "version": "3.7.13"
  },
  "source_map": [
   14,
   23,
   78,
   107,
   137,
   174,
   184,
   189,
   195,
   197,
   201,
   237,
   249,
   252,
   272,
   278,
   284,
   286,
   290
  ],
  "widgets": {
   "application/vnd.jupyter.widget-state+json": {
    "state": {
     "30963f73b0774fdca3b2a868c5f64157": {
      "model_module": "@jupyter-widgets/base",
      "model_module_version": "1.2.0",
      "model_name": "LayoutModel",
      "state": {
       "_model_module": "@jupyter-widgets/base",
       "_model_module_version": "1.2.0",
       "_model_name": "LayoutModel",
       "_view_count": null,
       "_view_module": "@jupyter-widgets/base",
       "_view_module_version": "1.2.0",
       "_view_name": "LayoutView",
       "align_content": null,
       "align_items": null,
       "align_self": null,
       "border": null,
       "bottom": null,
       "display": null,
       "flex": null,
       "flex_flow": null,
       "grid_area": null,
       "grid_auto_columns": null,
       "grid_auto_flow": null,
       "grid_auto_rows": null,
       "grid_column": null,
       "grid_gap": null,
       "grid_row": null,
       "grid_template_areas": null,
       "grid_template_columns": null,
       "grid_template_rows": null,
       "height": null,
       "justify_content": null,
       "justify_items": null,
       "left": null,
       "margin": null,
       "max_height": null,
       "max_width": null,
       "min_height": null,
       "min_width": null,
       "object_fit": null,
       "object_position": null,
       "order": null,
       "overflow": null,
       "overflow_x": null,
       "overflow_y": null,
       "padding": null,
       "right": null,
       "top": null,
       "visibility": null,
       "width": null
      }
     },
     "473fb036008e44f08c1d1e91360746cc": {
      "model_module": "jupyter-matplotlib",
      "model_module_version": "^0.10.5",
      "model_name": "ToolbarModel",
      "state": {
       "_current_action": "",
       "_dom_classes": [],
       "_model_module": "jupyter-matplotlib",
       "_model_module_version": "^0.10.5",
       "_model_name": "ToolbarModel",
       "_view_count": null,
       "_view_module": "jupyter-matplotlib",
       "_view_module_version": "^0.10.5",
       "_view_name": "ToolbarView",
       "button_style": "",
       "collapsed": true,
       "layout": "IPY_MODEL_30963f73b0774fdca3b2a868c5f64157",
       "orientation": "vertical",
       "toolitems": [
        [
         "Home",
         "Reset original view",
         "home",
         "home"
        ],
        [
         "Back",
         "Back to previous view",
         "arrow-left",
         "back"
        ],
        [
         "Forward",
         "Forward to next view",
         "arrow-right",
         "forward"
        ],
        [
         "Pan",
         "Left button pans, Right button zooms\nx/y fixes axis, CTRL fixes aspect",
         "arrows",
         "pan"
        ],
        [
         "Zoom",
         "Zoom to rectangle\nx/y fixes axis",
         "square-o",
         "zoom"
        ],
        [
         "Download",
         "Download plot",
         "floppy-o",
         "save_figure"
        ]
       ]
      }
     },
     "647606e1dc694780b02123d61c55b95b": {
      "model_module": "jupyter-matplotlib",
      "model_module_version": "^0.10.5",
      "model_name": "ToolbarModel",
      "state": {
       "_current_action": "",
       "_dom_classes": [],
       "_model_module": "jupyter-matplotlib",
       "_model_module_version": "^0.10.5",
       "_model_name": "ToolbarModel",
       "_view_count": null,
       "_view_module": "jupyter-matplotlib",
       "_view_module_version": "^0.10.5",
       "_view_name": "ToolbarView",
       "button_style": "",
       "collapsed": true,
       "layout": "IPY_MODEL_75a3e99622ae47479ddbb3c0558517b2",
       "orientation": "vertical",
       "toolitems": [
        [
         "Home",
         "Reset original view",
         "home",
         "home"
        ],
        [
         "Back",
         "Back to previous view",
         "arrow-left",
         "back"
        ],
        [
         "Forward",
         "Forward to next view",
         "arrow-right",
         "forward"
        ],
        [
         "Pan",
         "Left button pans, Right button zooms\nx/y fixes axis, CTRL fixes aspect",
         "arrows",
         "pan"
        ],
        [
         "Zoom",
         "Zoom to rectangle\nx/y fixes axis",
         "square-o",
         "zoom"
        ],
        [
         "Download",
         "Download plot",
         "floppy-o",
         "save_figure"
        ]
       ]
      }
     },
     "75a3e99622ae47479ddbb3c0558517b2": {
      "model_module": "@jupyter-widgets/base",
      "model_module_version": "1.2.0",
      "model_name": "LayoutModel",
      "state": {
       "_model_module": "@jupyter-widgets/base",
       "_model_module_version": "1.2.0",
       "_model_name": "LayoutModel",
       "_view_count": null,
       "_view_module": "@jupyter-widgets/base",
       "_view_module_version": "1.2.0",
       "_view_name": "LayoutView",
       "align_content": null,
       "align_items": null,
       "align_self": null,
       "border": null,
       "bottom": null,
       "display": null,
       "flex": null,
       "flex_flow": null,
       "grid_area": null,
       "grid_auto_columns": null,
       "grid_auto_flow": null,
       "grid_auto_rows": null,
       "grid_column": null,
       "grid_gap": null,
       "grid_row": null,
       "grid_template_areas": null,
       "grid_template_columns": null,
       "grid_template_rows": null,
       "height": null,
       "justify_content": null,
       "justify_items": null,
       "left": null,
       "margin": null,
       "max_height": null,
       "max_width": null,
       "min_height": null,
       "min_width": null,
       "object_fit": null,
       "object_position": null,
       "order": null,
       "overflow": null,
       "overflow_x": null,
       "overflow_y": null,
       "padding": null,
       "right": null,
       "top": null,
       "visibility": null,
       "width": null
      }
     },
     "b83f43920264412c81e905a98d0396e0": {
      "model_module": "jupyter-matplotlib",
      "model_module_version": "^0.10.5",
      "model_name": "MPLCanvasModel",
      "state": {
       "_cursor": "default",
       "_data_url": "data:image/png;base64,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",
       "_dom_classes": [],
       "_figure_label": "Figure",
       "_image_mode": "full",
       "_message": "",
       "_model_module": "jupyter-matplotlib",
       "_model_module_version": "^0.10.5",
       "_model_name": "MPLCanvasModel",
       "_rubberband_height": 0,
       "_rubberband_width": 0,
       "_rubberband_x": 0,
       "_rubberband_y": 0,
       "_size": [
        600.0,
        400.0
       ],
       "_view_count": null,
       "_view_module": "jupyter-matplotlib",
       "_view_module_version": "^0.10.5",
       "_view_name": "MPLCanvasView",
       "capture_scroll": false,
       "footer_visible": true,
       "header_visible": false,
       "layout": "IPY_MODEL_bb6f79556a7748558627e46cef4a1347",
       "pan_zoom_throttle": 33.0,
       "resizable": true,
       "toolbar": "IPY_MODEL_647606e1dc694780b02123d61c55b95b",
       "toolbar_position": "left",
       "toolbar_visible": "fade-in-fade-out"
      }
     },
     "bb6f79556a7748558627e46cef4a1347": {
      "model_module": "@jupyter-widgets/base",
      "model_module_version": "1.2.0",
      "model_name": "LayoutModel",
      "state": {
       "_model_module": "@jupyter-widgets/base",
       "_model_module_version": "1.2.0",
       "_model_name": "LayoutModel",
       "_view_count": null,
       "_view_module": "@jupyter-widgets/base",
       "_view_module_version": "1.2.0",
       "_view_name": "LayoutView",
       "align_content": null,
       "align_items": null,
       "align_self": null,
       "border": null,
       "bottom": null,
       "display": null,
       "flex": null,
       "flex_flow": null,
       "grid_area": null,
       "grid_auto_columns": null,
       "grid_auto_flow": null,
       "grid_auto_rows": null,
       "grid_column": null,
       "grid_gap": null,
       "grid_row": null,
       "grid_template_areas": null,
       "grid_template_columns": null,
       "grid_template_rows": null,
       "height": null,
       "justify_content": null,
       "justify_items": null,
       "left": null,
       "margin": null,
       "max_height": null,
       "max_width": null,
       "min_height": null,
       "min_width": null,
       "object_fit": null,
       "object_position": null,
       "order": null,
       "overflow": null,
       "overflow_x": null,
       "overflow_y": null,
       "padding": null,
       "right": null,
       "top": null,
       "visibility": null,
       "width": null
      }
     }
    },
    "version_major": 2,
    "version_minor": 0
   }
  }
 },
 "nbformat": 4,
 "nbformat_minor": 5
}