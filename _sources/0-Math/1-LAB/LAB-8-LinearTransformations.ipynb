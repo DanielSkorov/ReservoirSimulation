{
 "cells": [
  {
   "cell_type": "code",
   "execution_count": 1,
   "id": "ee3ca0e4",
   "metadata": {
    "tags": [
     "hide-input"
    ]
   },
   "outputs": [],
   "source": [
    "from matplotlib import pyplot as plt\n",
    "plt.rcParams.update({'figure.max_open_warning': False})\n",
    "\n",
    "# %matplotlib widget\n",
    "\n",
    "import numpy as np"
   ]
  },
  {
   "cell_type": "markdown",
   "id": "f545b0ff",
   "metadata": {},
   "source": [
    "<a id='math-lab-linear_transform'></a>\n",
    "# Линейные преобразования\n",
    "\n",
    "```{prf:определение}\n",
    ":nonumber:\n",
    "Пусть имеется множество [векторов](./LAB-1-Vectors.md), для каждого из которых определены операции [сложения и умножения на скаляр](./LAB-2-VectorOperations.html#math-lab-vector_operations), при этом, если результаты данных операций также принадлежат данному множеству, и для каждого элемента этого множества выполняются [аксиомы векторного пространства](https://en.wikipedia.org/wiki/Vector_space), то такое множество называется ***векторным (или линейным) пространством***.\n",
    "```\n",
    "\n",
    "```{prf:определение}\n",
    ":nonumber:\n",
    "Если в некотором линейном пространстве $V$ каждому вектору $\\vec{v}$ по некоторому правилу $T$ поставлен в соответствие вектор $\\vec{u}$ этого же пространства, то говорят, что в данном пространстве задана ***функция линейного преобразования*** (*linear transformation*).\n",
    "+++\n",
    "$$ \\vec{u} = T \\left(\\vec{v} \\right). $$\n",
    "```\n",
    "\n",
    "При этом, для функции линейного преобразования должны выполняться ***свойства линейности***:\n",
    "\n",
    "$$ T\\left(a+b\\right)=T\\left(a\\right)+T\\left(b\\right) ;\\\\ T\\left(\\lambda a\\right) = \\lambda T\\left(a\\right). $$\n",
    "\n",
    "Рассмотрим пример. Пусть функция преобразования определена так, что:\n",
    "\n",
    "$$ T\\left( \\begin{bmatrix} x_1 \\\\ x_2 \\end{bmatrix} \\right) = \\begin{bmatrix} x_1 + x_2 \\\\ 3x_1 \\end{bmatrix}. $$\n",
    "\n",
    "Рассмотрим два вектора $\\vec{a}=\\begin{bmatrix} a_1 \\\\ a_2 \\end{bmatrix}$ и $\\vec{b}=\\begin{bmatrix} b_1 \\\\ b_2 \\end{bmatrix}.$ Их сумма:\n",
    "\n",
    "$$ \\vec{a} + \\vec{b} = \\begin{bmatrix} a_1 + b_1 \\\\ a_2 + b_2 \\end{bmatrix}. $$\n",
    "\n",
    "Тогда:\n",
    "\n",
    "$$ T\\left(\\vec{a} + \\vec{b}\\right)=T\\left( \\begin{bmatrix} a_1 + b_1 \\\\ a_2 + b_2 \\end{bmatrix} \\right) = \\begin{bmatrix} a_1 + b_1 + a_2 + b_2 \\\\ 3a_1 + 3b_2 \\end{bmatrix}.$$\n",
    "\n",
    "Линейное преобразование вектора $\\vec{a}$:\n",
    "\n",
    "$$ T \\left(\\vec{a} \\right)=T\\left( \\begin{bmatrix} a_1 \\\\ a_2 \\end{bmatrix} \\right) = \\begin{bmatrix} a_1 + a_2 \\\\ 3a_1 \\end{bmatrix}. $$\n",
    "\n",
    "Линейное преобразование вектора $\\vec{b}$:\n",
    "\n",
    "$$ T\\left(\\vec{b}\\right)=T\\left( \\begin{bmatrix} b_1 \\\\ b_2 \\end{bmatrix} \\right) = \\begin{bmatrix} b_1 + b_2 \\\\ 3b_1 \\end{bmatrix}. \\\\ T(\\vec{a}) + T(\\vec{b}) = \\begin{bmatrix} a_1 + a_2 \\\\ 3a_1 \\end{bmatrix} + \\begin{bmatrix} b_1 + b_2 \\\\ 3b_1 \\end{bmatrix} = \\begin{bmatrix} a_1 + a_2 + b_1 + b_2 \\\\ 3a_1 + 3b_1 \\end{bmatrix}. $$\n",
    "\n",
    "Из этого следует, что\n",
    "\n",
    "$$ T \\left(\\vec{a} + \\vec{b} \\right)=T \\left(\\vec{a} \\right) + T \\left(\\vec{b} \\right). $$\n",
    "\n",
    "Докажем для данного примера и второе свойство линейности:\n",
    "\n",
    "$$ T \\left(\\lambda \\vec{a} \\right) = T \\left(\\lambda \\begin{bmatrix} a_1 \\\\ a_2 \\end{bmatrix}\\right) = T \\left(\\begin{bmatrix} \\lambda a_1 \\\\ \\lambda a_2 \\end{bmatrix}\\right) = \\begin{bmatrix} \\lambda a_1 + \\lambda a_2 \\\\ 3 \\lambda a_1 \\end{bmatrix} \\\\ \\lambda T(\\vec{a}) = \\lambda T \\left(\\begin{bmatrix} a_1 \\\\ a_2 \\end{bmatrix}\\right) = \\lambda \\begin{bmatrix} a_1 + a_2 \\\\ 3a_1 \\end{bmatrix} = \\begin{bmatrix} \\lambda a_1 + \\lambda a_2 \\\\ 3 \\lambda a_1 \\end{bmatrix}. $$\n",
    "\n",
    "Из этого следует, что\n",
    "\n",
    "$$ T \\left(\\lambda \\vec{a} \\right) = \\lambda T \\left(\\vec{a} \\right). $$\n",
    "\n",
    "Таким образом, преобразование $T\\left( \\begin{bmatrix} x_1 \\\\ x_2 \\end{bmatrix} \\right) = \\begin{bmatrix} x_1 + x_2 \\\\ 3x_1 \\end{bmatrix}$ является линейным."
   ]
  },
  {
   "cell_type": "markdown",
   "id": "1748bf64",
   "metadata": {},
   "source": [
    "Любое линейное преобразование вектора можно представить в виде произведения матрицы на данный вектор. Пусть имеется вектор $\\vec{x}$. Данный вектор можно разложить на сумму:\n",
    "\n",
    "$$ \\vec{x} = \\begin{bmatrix} x_1 \\\\ x_2 \\\\ x_3 \\\\ \\vdots \\\\ x_n \\end{bmatrix} = x_1 \\cdot \\begin{bmatrix} 1 \\\\ 0 \\\\ 0 \\\\ \\vdots \\\\ 0 \\end{bmatrix} + x_2 \\cdot \\begin{bmatrix} 0 \\\\ 1 \\\\ 0 \\\\ \\vdots \\\\ 0 \\end{bmatrix} + x_3 \\cdot \\begin{bmatrix} 0 \\\\ 0 \\\\ 1 \\\\ \\vdots \\\\ 0 \\end{bmatrix} + \\ldots + x_n \\cdot \\begin{bmatrix} 0 \\\\ 0 \\\\ 0 \\\\ \\vdots \\\\ 1 \\end{bmatrix} = x_1 \\cdot \\vec{e_1} + x_2 \\cdot \\vec{e_2} + \\ldots + x_n \\cdot \\vec{e_n}, $$\n",
    "\n",
    "где $\\vec{e_1}$, $\\vec{e_2}$, $\\ldots$, $\\vec{e_n}$ – вертикальные векторы единичной квадратной матрицы $n \\times n$ $I_n$:\n",
    "\n",
    "$$ I_n=\\begin{bmatrix} 1 & 0 & 0 & \\ldots & 0 \\\\ 0 & 1 & 0 & \\ldots & 0 \\\\ 0 & 0 & 1 & \\ldots & 0 \\\\ \\vdots & \\vdots & \\vdots & \\ddots & \\vdots \\\\ 0 & 0 & 0 & \\ldots & 1 \\end{bmatrix}. $$\n",
    "\n",
    "Тогда линейное преобразование вектора $\\vec{x}$:\n",
    "\n",
    "$$ \\begin{align}\n",
    "T \\left( \\vec{x} \\right)\n",
    "&= T \\left( x_1 \\cdot \\vec{e_1} + x_2 \\cdot \\vec{e_2} + \\ldots + x_n \\cdot \\vec{e_n} \\right) \\\\\n",
    "&= T \\left( x_1 \\cdot \\vec{e_1} \\right) + T \\left( x_2 \\cdot \\vec{e_2} \\right) + \\ldots + T \\left( x_n \\cdot \\vec{e_n} \\right) \\\\\n",
    "&= x_1 \\cdot T \\left( \\vec{e_1} \\right) + x_2 \\cdot T \\left( \\vec{e_2} \\right) + \\ldots + x_n \\cdot T \\left( \\vec{e_n} \\right).\n",
    "\\end{align}$$\n",
    "\n",
    "Здесь последовательно были применены свойства линейности линейных преобразований. Последнее выражение может быть преобразовано следующим образом:\n",
    "\n",
    "$$ T \\left( \\vec{x} \\right) = x_1 \\cdot T \\left( \\vec{e_1} \\right) + x_2 \\cdot T \\left( \\vec{e_2} \\right) + \\ldots + x_n \\cdot T \\left( \\vec{e_n} \\right) = \\begin{bmatrix} T \\left( \\vec{e_1} \\right) & T \\left( \\vec{e_2} \\right) & \\ldots & T \\left( \\vec{e_n} \\right) \\end{bmatrix} \\cdot \\begin{bmatrix} x_1 \\\\ x_2 \\\\ \\vdots \\\\ x_n \\end{bmatrix}. $$\n",
    "\n",
    "В свою очередь, $T(\\vec{e_n})$ – вектор. Таким образом, линейное преобразование любого вектора может быть представлено в виде произведения матрицы на этот же вектор:\n",
    "\n",
    "$$ T(\\vec{x})= A \\cdot \\vec{x}. $$\n",
    "\n",
    "Такая матрица $A$ называется матрицей преобразования по отношению к рассматриваемому (*стандартному*) базису."
   ]
  },
  {
   "cell_type": "markdown",
   "id": "f5d99803",
   "metadata": {},
   "source": [
    "Однако один и тот же вектор может быть представлен в различных базисах. Пусть имеется вектор $\\vec{x}$, координаты которого выражены через базис $B$. Это может быть записано следующим образом:\n",
    "\n",
    "$$ \\begin{bmatrix} \\vec{x} \\end{bmatrix}_B. $$\n",
    "\n",
    "Тогда вектор $T(\\vec{x})$ также выражается через координаты базиса $B$:\n",
    "\n",
    "$$ \\begin{bmatrix} T(\\vec{x}) \\end{bmatrix}_B. $$\n",
    "\n",
    "При этом, линейное преобразование $T$ по-прежнему устанавливает связь между этими двумя векторами, поэтому можно записать:\n",
    "\n",
    "$$ \\begin{bmatrix} T(\\vec{x}) \\end{bmatrix}_B = D \\cdot \\begin{bmatrix} \\vec{x} \\end{bmatrix}_B. $$\n",
    "\n",
    "Такая матрица $D$ называется матрицей преобразования по отношению к базису $B$. Известно, что любой базис определяется через $n$ базисных векторов:\n",
    "\n",
    "$$ B=\\begin{Bmatrix} \\vec{v_1}, \\vec{v_2}, \\ldots, \\vec{v_n} \\end{Bmatrix}. $$\n",
    "\n",
    "При этом, любой вектор [можно представить](./LAB-1-Vectors.md) в виде суммы произведений координат данного вектора и базисных векторов. Если имеется вектор $\\begin{bmatrix} \\vec{x} \\end{bmatrix}_B$, представленный в виде координат $\\begin{bmatrix} x_1 \\\\ x_2 \\\\ \\vdots \\\\ x_n \\end{bmatrix}_B$, отнесенных к базису $B$, то:\n",
    "\n",
    "$$ \\begin{bmatrix} \\vec{x} \\end{bmatrix}_B = x_1 \\cdot \\vec{v_1} + x_2 \\cdot \\vec{v_2} + \\ldots + x_n \\cdot \\vec{v_n}. $$\n",
    "\n",
    "Рассмотрим пример. Пусть базис $B$ задан векторами $\\vec{v_1}=\\begin{bmatrix} 2 \\\\ 1 \\end{bmatrix}$ и $\\vec{v_2}=\\begin{bmatrix} 1 \\\\ 2 \\end{bmatrix}$:\n",
    "\n",
    "$$ B=\\begin{Bmatrix} \\vec{v_1}, \\vec{v_2}\\end{Bmatrix}. $$\n",
    "\n",
    "Рассмотрим вектор:\n",
    "\n",
    "$$ \\vec{x}=3 \\cdot \\vec{v_1} + 2 \\cdot \\vec{v_2}=3 \\cdot \\begin{bmatrix} 2 \\\\ 1 \\end{bmatrix} + 2 \\cdot \\begin{bmatrix} 1 \\\\ 2 \\end{bmatrix} = \\begin{bmatrix} 8 \\\\ 7 \\end{bmatrix}. $$"
   ]
  },
  {
   "cell_type": "code",
   "execution_count": 2,
   "id": "1c4e0faf",
   "metadata": {
    "tags": [
     "hide-input"
    ]
   },
   "outputs": [
    {
     "data": {
      "image/png": "[encoded data removed]",
      "text/plain": [
       "<Figure size 432x288 with 1 Axes>"
      ]
     },
     "metadata": {
      "filenames": {
       "image/png": "E:\\Work\\Science\\GitHub\\Basics-of-Modelling\\_build\\jupyter_execute\\0-Math\\1-LAB\\LAB-8-LinearTransformations_4_0.png"
      },
      "needs_background": "light"
     },
     "output_type": "display_data"
    }
   ],
   "source": [
    "fig, ax = plt.subplots(figsize=(6, 4))\n",
    "fig.canvas.header_visible = False\n",
    "\n",
    "x0 = y0 = [0, 0, 0]\n",
    "\n",
    "U = [[2, 1, 8]]\n",
    "V = [[1, 2, 7]]\n",
    "\n",
    "ax.plot([0, 8], [0, 4], color='k', ls='--', zorder=1)\n",
    "ax.plot([1, 2, 3], [2, 4, 6], lw=0, marker='o', color='k', ms=4)\n",
    "ax.plot([0, 4], [0, 8], color='k', ls='--', zorder=1)\n",
    "ax.plot([2, 4, 6], [1, 2, 3], lw=0, marker='o', color='k', ms=4)\n",
    "ax.plot([6, 8], [3, 7], color='r', ls='--', zorder=1)\n",
    "ax.plot([2, 8], [4, 7], color='r', ls='--', zorder=1)\n",
    "ax.quiver(x0, y0, U, V, scale=1, angles='xy', scale_units='xy', color=['k', 'k', 'r'], zorder=2)\n",
    "\n",
    "ax.text(2, 0.5, r'$\\overrightarrow{v_1}$')\n",
    "ax.text(4, 1.5, r'$\\overrightarrow{2 \\cdot v_1}$')\n",
    "ax.text(6, 2.5, r'$\\overrightarrow{3 \\cdot v_1}$')\n",
    "ax.text(0.5, 2, r'$\\overrightarrow{v_2}$')\n",
    "ax.text(1, 4, r'$\\overrightarrow{2 \\cdot v_2}$')\n",
    "ax.text(2, 6, r'$\\overrightarrow{3 \\cdot v_2}$')\n",
    "ax.text(8, 7, r'$\\overrightarrow{x}$')\n",
    "\n",
    "ax.set_xlim(-1, 10)\n",
    "ax.set_ylim(-1, 10)\n",
    "ax.set_axisbelow(True)\n",
    "ax.grid()\n",
    "ax.set_xticks(range(0, 10, 1))\n",
    "ax.set_yticks(range(0, 10, 1))\n",
    "ax.set_xlabel('X')\n",
    "ax.set_ylabel('Y')\n",
    "\n",
    "fig.tight_layout()"
   ]
  },
  {
   "cell_type": "markdown",
   "id": "aa63032c",
   "metadata": {},
   "source": [
    "Тогда вектор $\\vec{x}$ относительно базиса $B$:\n",
    "\n",
    "$$ \\begin{bmatrix} \\vec{x} \\end{bmatrix}_B = \\begin{bmatrix} 3 \\\\ 2 \\end{bmatrix}_B. $$\n",
    "\n",
    "Таким образом, вектор $\\vec{x}$ в стандартном базисе может быть выражен в виде произведения матрицы (назовем ее $C^{-1}$), составленной из базисных векторов другого базиса $B$, на данный вектор, представленный в базисе $B$:\n",
    "\n",
    "$$ \\vec{x} = \\begin{bmatrix} \\vec{v_1} & \\vec{v_2} & \\ldots & \\vec{v_n} \\end{bmatrix} \\cdot \\begin{bmatrix} \\vec{x} \\end{bmatrix}_B = C^{-1} \\cdot \\begin{bmatrix} \\vec{x} \\end{bmatrix}_B. $$"
   ]
  },
  {
   "cell_type": "code",
   "execution_count": 3,
   "id": "661066cd",
   "metadata": {},
   "outputs": [
    {
     "data": {
      "text/plain": [
       "array([[8],\n",
       "       [7]])"
      ]
     },
     "execution_count": 3,
     "metadata": {},
     "output_type": "execute_result"
    }
   ],
   "source": [
    "x_B = np.array([[3], [2]])\n",
    "C_inv = np.array([[2, 1], [1, 2]])\n",
    "x = C_inv.dot(x_B)\n",
    "x"
   ]
  },
  {
   "cell_type": "markdown",
   "id": "f9630667",
   "metadata": {},
   "source": [
    "И, наоборот, если у нас есть координаты вектора $\\vec{x}$ в стандтартном базисе, то определить его координаты относительно базиса $B$ можно следующим образом:\n",
    "\n",
    "$$ \\begin{bmatrix} \\vec{x} \\end{bmatrix}_B = C \\cdot \\vec{x}. $$"
   ]
  },
  {
   "cell_type": "code",
   "execution_count": 4,
   "id": "5daa4f0d",
   "metadata": {},
   "outputs": [
    {
     "data": {
      "text/plain": [
       "array([[3.],\n",
       "       [2.]])"
      ]
     },
     "execution_count": 4,
     "metadata": {},
     "output_type": "execute_result"
    }
   ],
   "source": [
    "np.linalg.inv(C_inv).dot(x)"
   ]
  },
  {
   "cell_type": "markdown",
   "id": "77f11fb9",
   "metadata": {},
   "source": [
    "Из этого следует, что любой переход от одного базиса к другому можно записать в виде матричного произведения."
   ]
  },
  {
   "cell_type": "markdown",
   "id": "5c64202a",
   "metadata": {},
   "source": [
    "Итак, линейное преобразование $T$ в базисе $B$, устанавливающее связь между вектором $\\begin{bmatrix} \\vec{x} \\end{bmatrix}_B$ и вектором $\\begin{bmatrix} T \\left( \\vec{x} \\right) \\end{bmatrix}_B$:\n",
    "\n",
    "$$ \\begin{bmatrix} T \\left( \\vec{x} \\right) \\end{bmatrix}_B = D \\cdot \\begin{bmatrix} \\vec{x} \\end{bmatrix}_B. $$\n",
    "\n",
    "Однако линейное преобразование $T(\\vec{x})$ может быть выражено в виде матричного произведения:\n",
    "\n",
    "$$ T \\left( \\vec{x} \\right) =A \\cdot \\vec{x}. $$\n",
    "\n",
    "Тогда:\n",
    "\n",
    "$$ \\begin{bmatrix} T \\left( \\vec{x} \\right) \\end{bmatrix}_B = D \\cdot \\begin{bmatrix} \\vec{x} \\end{bmatrix}_B = \\begin{bmatrix} A \\cdot \\vec{x} \\end{bmatrix}_B. $$\n",
    "\n",
    "В свою очередь, переход от базиса $B$ к стандартному может быть записан в виде матричного произведения. Поэтому:\n",
    "\n",
    "$$ \\begin{bmatrix} A \\cdot \\vec{x} \\end{bmatrix}_B = C \\cdot A \\cdot \\vec{x}. $$\n",
    "\n",
    "Подставляя это равенство в выражение выше, получим:\n",
    "\n",
    "$$ \\begin{bmatrix} T \\left( \\vec{x} \\right) \\end{bmatrix}_B = D \\cdot \\begin{bmatrix} \\vec{x} \\end{bmatrix}_B = \\begin{bmatrix} A \\cdot \\vec{x} \\end{bmatrix}_B = C \\cdot A \\cdot \\vec{x}. $$\n",
    "\n",
    "В свою очередь, вектор $\\vec{x}$ в базисе $B$ может быть записан следующим образом:\n",
    "\n",
    "$$ \\vec{x} = C^{-1} \\cdot \\begin{bmatrix} \\vec{x} \\end{bmatrix}_B. $$\n",
    "\n",
    "Тогда:\n",
    "\n",
    "$$ \\begin{bmatrix} T \\left( \\vec{x} \\right) \\end{bmatrix}_B = D \\cdot \\begin{bmatrix} \\vec{x} \\end{bmatrix}_B = \\begin{bmatrix} A \\cdot \\vec{x} \\end{bmatrix}_B = C \\cdot A \\cdot \\vec{x} = C \\cdot A \\cdot C^{-1} \\cdot \\begin{bmatrix} \\vec{x} \\end{bmatrix}_B. $$\n",
    "\n",
    "Итак, матрица $D$ линейного преобразования $T$ по отношению к базису $B$:\n",
    "\n",
    "$$ D = C \\cdot A \\cdot C^{-1}, $$\n",
    "\n",
    "где: $C$ – матрица перехода от стандартного базиса к базису $B$, $A$ – матрица линейного преобразования вектора $\\vec{x}$ по отношению к стандартному базису."
   ]
  },
  {
   "cell_type": "markdown",
   "id": "80c4cf4d",
   "metadata": {},
   "source": [
    "Пусть матрица $C^{-1}$ составлена из координат собственных векторов $\\vec{v_1}$, $\\vec{v_2}$, $\\ldots$ матрицы $A$:\n",
    "\n",
    "$$ C^{-1} = \\begin{bmatrix} \\vert & \\vert &  \\\\ \\vec{v_1} & \\vec{v_2} & \\ldots \\\\ \\vert & \\vert &  \\end{bmatrix}. $$\n",
    "\n",
    "Умножим левую и правую части равенства $D=C \\cdot A \\cdot C^{-1}$ на единичный вектор $\\vec{e_i}$, сонаправленный с собственным вектором $\\vec{v_i}$:\n",
    "\n",
    "$$ D\\cdot \\vec{e_i} = C \\cdot A \\cdot C^{-1} \\cdot \\vec{e_i}. $$\n",
    "\n",
    "Поскольку матрица $D$ задана относительно базиса $B$, определенного собственными векторами матрицы $A$, то результатом произведения матрицы $D$ на единичный вектор $\\vec{e_i}$ будет $i$-ый столбец матрицы. Например:"
   ]
  },
  {
   "cell_type": "code",
   "execution_count": 5,
   "id": "c4002fe1",
   "metadata": {},
   "outputs": [
    {
     "data": {
      "text/plain": [
       "array([[2],\n",
       "       [4],\n",
       "       [8]])"
      ]
     },
     "execution_count": 5,
     "metadata": {},
     "output_type": "execute_result"
    }
   ],
   "source": [
    "M = np.array([[2, 3, 1], [4, 5, 2], [8, 1, 3]])\n",
    "M.dot([[1], [0], [0]])"
   ]
  },
  {
   "cell_type": "markdown",
   "id": "020fe22d",
   "metadata": {},
   "source": [
    "Произведение матрицы $C^{-1}$ на единичный вектор $\\vec{e_i}$ даст $i$-ый собственный вектор:\n",
    "\n",
    "$$ C^{-1} \\cdot \\vec{e_i} = \\vec{v_i}. $$\n",
    "\n",
    "Тогда:\n",
    "\n",
    "$$ D\\cdot \\vec{e_i} = C \\cdot A \\cdot C^{-1} \\cdot \\vec{e_i} = C \\cdot A \\cdot \\vec{v_i}. $$\n",
    "\n",
    "По [определению собственного вектора матрицы](./LAB-7-Eigenvalues-Eigenvectors.html#math-lab-eigen) данное выражение преобразуется в:\n",
    "\n",
    "$$ D\\cdot \\vec{e_i} = C \\cdot A \\cdot C^{-1} \\cdot \\vec{e_i} = C \\cdot A \\cdot \\vec{v_i}= C \\cdot \\lambda_i \\cdot \\vec{v_i}. $$\n",
    "\n",
    "С учетом того, что $\\vec{e_i} = C \\cdot \\vec{v_i}$, получим:\n",
    "\n",
    "$$ D\\cdot \\vec{e_i} = C \\cdot A \\cdot C^{-1} \\cdot \\vec{e_i} = C \\cdot A \\cdot \\vec{v_i}= C \\cdot \\lambda_i \\cdot \\vec{v_i} = \\lambda_i \\cdot \\vec{e_i}. $$\n",
    "\n",
    "Таким образом, вертикальный столбец матрицы $D$ представляет собой произведение единичного вектора на скаляр, следовательно, если в качестве базиса выбрать собственные векторы матрицы $A$, то матрица $D$ будет являться диагонализированной матрицей $A$ относительно базиса $B$."
   ]
  },
  {
   "cell_type": "markdown",
   "id": "230fbb44",
   "metadata": {},
   "source": [
    "Рассмотрим данное свойство на следующем примере:\n",
    "\n",
    "$$ A = \\begin{bmatrix} -1 & 3 & -1 \\\\ -3 & 5 & -1 \\\\ -3 & 3 & 1 \\end{bmatrix}. $$"
   ]
  },
  {
   "cell_type": "code",
   "execution_count": 6,
   "id": "c27bf1a5",
   "metadata": {},
   "outputs": [
    {
     "data": {
      "text/plain": [
       "array([[ 0.57735027,  0.57013378,  0.16222142],\n",
       "       [ 0.57735027,  0.70867096, -0.16222142],\n",
       "       [ 0.57735027,  0.41561154, -0.97332853]])"
      ]
     },
     "execution_count": 6,
     "metadata": {},
     "output_type": "execute_result"
    }
   ],
   "source": [
    "A = np.array([[-1, 3, -1], [-3, 5, -1], [-3, 3, 1]])\n",
    "Lambda, C_inv = np.linalg.eig(A)\n",
    "C_inv"
   ]
  },
  {
   "cell_type": "code",
   "execution_count": 7,
   "id": "3110b1b1",
   "metadata": {},
   "outputs": [
    {
     "data": {
      "text/plain": [
       "-0.11977103697194431"
      ]
     },
     "execution_count": 7,
     "metadata": {},
     "output_type": "execute_result"
    }
   ],
   "source": [
    "np.linalg.det(C_inv)"
   ]
  },
  {
   "cell_type": "markdown",
   "id": "82493738",
   "metadata": {},
   "source": [
    "Определитель матрицы, составленной из координат собственных векторов, не равен нулю, следовательно, собственные векторы матрицы $A$ образуют базис."
   ]
  },
  {
   "cell_type": "code",
   "execution_count": 8,
   "id": "aac83a18",
   "metadata": {},
   "outputs": [
    {
     "data": {
      "text/plain": [
       "array([[ 1.00000000e+00, -2.89448969e-15, -6.94794103e-16],\n",
       "       [ 1.06216225e-15,  2.00000000e+00, -3.99272379e-16],\n",
       "       [-1.07463280e-16, -5.70009031e-16,  2.00000000e+00]])"
      ]
     },
     "execution_count": 8,
     "metadata": {},
     "output_type": "execute_result"
    }
   ],
   "source": [
    "np.linalg.inv(C_inv).dot(A).dot(C_inv)"
   ]
  }
 ],
 "metadata": {
  "jupytext": {
   "text_representation": {
    "extension": ".md",
    "format_name": "myst",
    "format_version": 0.13,
    "jupytext_version": "1.10.3"
   }
  },
  "kernelspec": {
   "display_name": "Python 3 (ipykernel)",
   "language": "python",
   "name": "python3"
  },
  "language_info": {
   "codemirror_mode": {
    "name": "ipython",
    "version": 3
   },
   "file_extension": ".py",
   "mimetype": "text/x-python",
   "name": "python",
   "nbconvert_exporter": "python",
   "pygments_lexer": "ipython3",
   "version": "3.7.13"
  },
  "source_map": [
   14,
   23,
   78,
   107,
   137,
   174,
   184,
   189,
   195,
   197,
   201,
   237,
   249,
   252,
   272,
   278,
   284,
   286,
   290
  ]
 },
 "nbformat": 4,
 "nbformat_minor": 5
}