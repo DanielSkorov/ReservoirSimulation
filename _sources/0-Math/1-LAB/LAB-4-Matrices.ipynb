{
 "cells": [
  {
   "cell_type": "code",
   "execution_count": 1,
   "id": "4485c163",
   "metadata": {
    "tags": [
     "hide-input"
    ]
   },
   "outputs": [],
   "source": [
    "import numpy as np"
   ]
  },
  {
   "cell_type": "markdown",
   "id": "a8f7b8ba",
   "metadata": {},
   "source": [
    "<a id='math-lab-matrix'></a>\n",
    "# Матрицы\n",
    "\n",
    "```{prf:определение}\n",
    ":nonumber:\n",
    "Под ***матрицей*** в общем смысле понимается совокупность строк и столбцов, на пересечении которых находяется элементы. В качестве элементов в разделе линейной алгебры используются действительные числа.\n",
    "```\n",
    "\n",
    "Рассмотрим следующую матрицу:\n",
    "\n",
    "$$ M = \\begin{bmatrix} 3 & 5 & -17 \\\\ -1 & 0 & 10 \\end{bmatrix}. $$\n",
    "\n",
    "С использованием *[numpy](https://numpy.org/)* матрица задается следующим образом:"
   ]
  },
  {
   "cell_type": "code",
   "execution_count": 2,
   "id": "514e4137",
   "metadata": {},
   "outputs": [
    {
     "data": {
      "text/plain": [
       "array([[  3,   5, -17],\n",
       "       [ -1,   0,  10]])"
      ]
     },
     "execution_count": 2,
     "metadata": {},
     "output_type": "execute_result"
    }
   ],
   "source": [
    "M = np.array([[3, 5, -17], [-1, 0, 10]])\n",
    "M"
   ]
  },
  {
   "cell_type": "markdown",
   "id": "6c88ffec",
   "metadata": {},
   "source": [
    "Данная матрица состоит из двух строк и трех столбцов."
   ]
  },
  {
   "cell_type": "code",
   "execution_count": 3,
   "id": "4df19934",
   "metadata": {},
   "outputs": [
    {
     "data": {
      "text/plain": [
       "(2, 3)"
      ]
     },
     "execution_count": 3,
     "metadata": {},
     "output_type": "execute_result"
    }
   ],
   "source": [
    "M.shape"
   ]
  },
  {
   "cell_type": "markdown",
   "id": "49d9b1b8",
   "metadata": {},
   "source": [
    "Если в матрице количество строк и/или столбцов равно 1, то такая матрица называется ***вектором***. Данная тема подробно освещалась в [разделе, посвященном векторам](./LAB-1-Vectors.md)."
   ]
  },
  {
   "cell_type": "markdown",
   "id": "a89f6bc9",
   "metadata": {},
   "source": [
    "Чтобы ***умножить матрицу на число***, необходимо умножить каждый ее элемент на данное число:\n",
    "\n",
    "$$ \\lambda \\cdot M = \\lambda \\cdot \\begin{bmatrix} m_{11} & \\dots & m_{1k} \\\\ \\vdots & \\ddots & \\vdots \\\\ m_{n1} & \\dots & m_{nk} \\end{bmatrix} = \\begin{bmatrix} \\lambda \\cdot m_{11} & \\dots & \\lambda \\cdot m_{1k} \\\\ \\vdots & \\ddots & \\vdots \\\\ \\lambda \\cdot m_{n1} & \\dots & \\lambda \\cdot m_{nk} \\end{bmatrix}. $$"
   ]
  },
  {
   "cell_type": "code",
   "execution_count": 4,
   "id": "8c3f1428",
   "metadata": {},
   "outputs": [
    {
     "data": {
      "text/plain": [
       "array([[  6,  10, -34],\n",
       "       [ -2,   0,  20]])"
      ]
     },
     "execution_count": 4,
     "metadata": {},
     "output_type": "execute_result"
    }
   ],
   "source": [
    "2 * M"
   ]
  },
  {
   "cell_type": "code",
   "execution_count": 5,
   "id": "87e39de7",
   "metadata": {},
   "outputs": [
    {
     "data": {
      "text/plain": [
       "array([[  6,  10, -34],\n",
       "       [ -2,   0,  20]])"
      ]
     },
     "execution_count": 5,
     "metadata": {},
     "output_type": "execute_result"
    }
   ],
   "source": [
    "M * 2"
   ]
  },
  {
   "cell_type": "markdown",
   "id": "934ed222",
   "metadata": {},
   "source": [
    "Чтобы ***сложить матрицы*** между собой, необходимо сложить их значения поэлементно. Можно складывать матрицы только с одинаковыми размерностями.\n",
    "\n",
    "$$ M + P = \\begin{bmatrix} m_{11} & \\dots & m_{1k} \\\\ \\vdots & \\ddots & \\vdots \\\\ m_{n1} & \\dots & m_{nk} \\end{bmatrix} + \\begin{bmatrix} p_{11} & \\dots & p_{1k} \\\\ \\vdots & \\ddots & \\vdots \\\\ p_{n1} & \\dots & p_{nk} \\end{bmatrix} = \\begin{bmatrix} m_{11} + p_{11} & \\dots & m_{1k} + p_{1k} \\\\ \\vdots & \\ddots & \\vdots \\\\ m_{n1} + p_{n1} & \\dots & m_{nk} + p_{nk} \\end{bmatrix}. $$"
   ]
  },
  {
   "cell_type": "code",
   "execution_count": 6,
   "id": "f0370aed",
   "metadata": {},
   "outputs": [
    {
     "data": {
      "text/plain": [
       "array([[ 1,  3, 14],\n",
       "       [ 5,  2, -7]])"
      ]
     },
     "execution_count": 6,
     "metadata": {},
     "output_type": "execute_result"
    }
   ],
   "source": [
    "P = np.array([[1, 3, 14], [5, 2, -7]])\n",
    "P"
   ]
  },
  {
   "cell_type": "code",
   "execution_count": 7,
   "id": "331f0c59",
   "metadata": {},
   "outputs": [
    {
     "data": {
      "text/plain": [
       "array([[ 4,  8, -3],\n",
       "       [ 4,  2,  3]])"
      ]
     },
     "execution_count": 7,
     "metadata": {},
     "output_type": "execute_result"
    }
   ],
   "source": [
    "M + P"
   ]
  },
  {
   "cell_type": "code",
   "execution_count": 8,
   "id": "6a65f6d2",
   "metadata": {},
   "outputs": [
    {
     "data": {
      "text/plain": [
       "array([[ 4,  8, -3],\n",
       "       [ 4,  2,  3]])"
      ]
     },
     "execution_count": 8,
     "metadata": {},
     "output_type": "execute_result"
    }
   ],
   "source": [
    "P + M"
   ]
  },
  {
   "cell_type": "markdown",
   "id": "b2376cd9",
   "metadata": {},
   "source": [
    "***Произведением двух матриц*** $M$ и $P$ называется матрица $Q$, элемент которой, находящийся на пересечении $i$-ой строки и $j$-го столбца равен сумме произведений элементов $i$-ой строки матрицы $M$ на соответствующие (по порядку) элементы $j$-го столбца матрицы $P$.\n",
    "\n",
    "$$ q_{ij}=m_{i1} \\cdot p_{1j} + m_{i2} \\cdot p_{2j} + \\ldots + m_{in} \\cdot p_{nj}. $$\n",
    "\n",
    "Исходя из данного определения, количество столбцов матрицы $m$ должно быть равно количеству строк матрицы $p$."
   ]
  },
  {
   "cell_type": "code",
   "execution_count": 9,
   "id": "39cf17ac",
   "metadata": {},
   "outputs": [
    {
     "data": {
      "text/plain": [
       "array([[ 1,  2],\n",
       "       [-1,  3]])"
      ]
     },
     "execution_count": 9,
     "metadata": {},
     "output_type": "execute_result"
    }
   ],
   "source": [
    "M = np.array([[1, 2], [-1, 3]])\n",
    "M"
   ]
  },
  {
   "cell_type": "code",
   "execution_count": 10,
   "id": "39452211",
   "metadata": {},
   "outputs": [
    {
     "data": {
      "text/plain": [
       "array([[ 3,  5, -2],\n",
       "       [-1,  0, 10]])"
      ]
     },
     "execution_count": 10,
     "metadata": {},
     "output_type": "execute_result"
    }
   ],
   "source": [
    "P = np.array([[3, 5, -2], [-1, 0, 10]])\n",
    "P"
   ]
  },
  {
   "cell_type": "code",
   "execution_count": 11,
   "id": "b21c625c",
   "metadata": {},
   "outputs": [
    {
     "data": {
      "text/plain": [
       "array([[ 1,  5, 18],\n",
       "       [-6, -5, 32]])"
      ]
     },
     "execution_count": 11,
     "metadata": {},
     "output_type": "execute_result"
    }
   ],
   "source": [
    "M.dot(P)"
   ]
  },
  {
   "cell_type": "markdown",
   "id": "85336e24",
   "metadata": {},
   "source": [
    "Для того чтобы ***транспонировать матрицу***, нужно ее строки записать в столбцы транспонированной матрицы."
   ]
  },
  {
   "cell_type": "code",
   "execution_count": 12,
   "id": "b2246533",
   "metadata": {},
   "outputs": [
    {
     "data": {
      "text/plain": [
       "array([[ 1, -1],\n",
       "       [ 2,  3]])"
      ]
     },
     "execution_count": 12,
     "metadata": {},
     "output_type": "execute_result"
    }
   ],
   "source": [
    "np.transpose(M)"
   ]
  },
  {
   "cell_type": "markdown",
   "id": "c704e243",
   "metadata": {},
   "source": [
    "Под ***следом матрицы*** понимается сумма компонентов главной диагонали квадратной матрицы."
   ]
  },
  {
   "cell_type": "code",
   "execution_count": 13,
   "id": "8d4708f7",
   "metadata": {},
   "outputs": [
    {
     "data": {
      "text/plain": [
       "array([[ 1,  3, 14],\n",
       "       [ 5,  2, -7],\n",
       "       [ 4, -2,  7]])"
      ]
     },
     "execution_count": 13,
     "metadata": {},
     "output_type": "execute_result"
    }
   ],
   "source": [
    "A = np.array([[1, 3, 14], [5, 2, -7], [4, -2, 7]])\n",
    "A"
   ]
  },
  {
   "cell_type": "code",
   "execution_count": 14,
   "id": "3b79155a",
   "metadata": {},
   "outputs": [
    {
     "data": {
      "text/plain": [
       "10"
      ]
     },
     "execution_count": 14,
     "metadata": {},
     "output_type": "execute_result"
    }
   ],
   "source": [
    "np.trace(A)"
   ]
  }
 ],
 "metadata": {
  "jupytext": {
   "text_representation": {
    "extension": ".md",
    "format_name": "myst",
    "format_version": 0.13,
    "jupytext_version": "1.10.3"
   }
  },
  "kernelspec": {
   "display_name": "Python 3 (ipykernel)",
   "language": "python",
   "name": "python3"
  },
  "language_info": {
   "codemirror_mode": {
    "name": "ipython",
    "version": 3
   },
   "file_extension": ".py",
   "mimetype": "text/x-python",
   "name": "python",
   "nbconvert_exporter": "python",
   "pygments_lexer": "ipython3",
   "version": "3.7.13"
  },
  "source_map": [
   14,
   18,
   34,
   37,
   41,
   43,
   47,
   53,
   57,
   59,
   65,
   70,
   74,
   76,
   84,
   89,
   94,
   96,
   100,
   102,
   106,
   111
  ]
 },
 "nbformat": 4,
 "nbformat_minor": 5
}